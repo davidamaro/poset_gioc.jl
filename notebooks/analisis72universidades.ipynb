{
 "cells": [
  {
   "cell_type": "markdown",
   "metadata": {},
   "source": [
    "En esta notebook se habla de\n",
    "\n",
    "* datos obtenidos para 72 Universidades\n",
    "* Usar el proceso fuzzy para calcular un fuzzy poset\n",
    "* Obtener algunos cortes-$\\alpha$ \n",
    "* Se calculan los posets $m^2$ y $m^3$. Son posets fuzzy, por lo que hay que elegir una forma de hacerlos crisp. Para ello primero usé mayor que los demás, sin ser iguales.\n",
    "* Se estudian los valores de membresía para extensiones lineales para distintos posets obtenidos: $m^2$, $m^3$ y varios $\\alpha$-cut."
   ]
  },
  {
   "cell_type": "markdown",
   "metadata": {},
   "source": [
    "En esta notebook se habla de\n",
    "\n",
    "* Nuevos diagramas para 20 y 30 universidades\n",
    "* Resultados de la renovada comparativa entre $m^2$ y $m^3$. El fuzzy por estos, no es compatible con las extensiones lineales usando $m^2$ y $m^3$ crisp.\n",
    "* Comparativa poset $1/n$ contra puntuaciones reales."
   ]
  },
  {
   "cell_type": "code",
   "execution_count": 1,
   "metadata": {},
   "outputs": [],
   "source": [
    "using CSV\n",
    "using DataFrames\n",
    "using Posets\n",
    "using Plots\n",
    "import Statistics: mean, median\n",
    "using LaTeXStrings\n",
    "using DelimitedFiles"
   ]
  },
  {
   "cell_type": "code",
   "execution_count": 2,
   "metadata": {},
   "outputs": [
    {
     "data": {
      "text/plain": [
       "14-element Array{DataFrame,1}:\n",
       " 100×2 DataFrame\n",
       "│ Row │ Univ                                    │ Points  │\n",
       "│     │ \u001b[90mString\u001b[39m                                  │ \u001b[90mFloat64\u001b[39m │\n",
       "├─────┼─────────────────────────────────────────┼─────────┤\n",
       "│ 1   │ HarvardUniversity                       │ 100.0   │\n",
       "│ 2   │ StanfordUniversity                      │ 83.5    │\n",
       "│ 3   │ CaliforniaInstituteofTechnology         │ 76.3    │\n",
       "│ 4   │ UniversityofCalifornia,Berkeley         │ 74.0    │\n",
       "│ 5   │ UniversityofCambridge                   │ 73.4    │\n",
       "│ 6   │ MassachusettsInstituteofTechnology(MIT) │ 70.6    │\n",
       "│ 7   │ PrincetonUniversity                     │ 62.5    │\n",
       "│ 8   │ YaleUniversity                          │ 61.1    │\n",
       "│ 9   │ UniversityofOxford                      │ 59.5    │\n",
       "│ 10  │ ColumbiaUniversity                      │ 59.1    │\n",
       "⋮\n",
       "│ 90  │ UniversityofIowa                        │ 27.0    │\n",
       "│ 91  │ UniversityofGoettingen                  │ 26.9    │\n",
       "│ 92  │ UniversityofMelbourne                   │ 26.8    │\n",
       "│ 93  │ LundUniversity                          │ 26.5    │\n",
       "│ 94  │ TheHebrewUniversityofJerusalem          │ 26.2    │\n",
       "│ 95  │ FreeUniversityofBerlin                  │ 26.1    │\n",
       "│ 96  │ UniversityofBasel                       │ 26.0    │\n",
       "│ 97  │ UniversityofIllinoisatChicago           │ 26.0    │\n",
       "│ 98  │ BostonUniversity                        │ 25.9    │\n",
       "│ 99  │ EmoryUniversity                         │ 25.7    │\n",
       "│ 100 │ GhentUniversity                         │ 25.7    │\n",
       " 100×2 DataFrame\n",
       "│ Row │ Univ                                    │ Points  │\n",
       "│     │ \u001b[90mString\u001b[39m                                  │ \u001b[90mFloat64\u001b[39m │\n",
       "├─────┼─────────────────────────────────────────┼─────────┤\n",
       "│ 1   │ HarvardUniversity                       │ 100.0   │\n",
       "│ 2   │ StanfordUniversity                      │ 77.2    │\n",
       "│ 3   │ UniversityofCambridge                   │ 76.2    │\n",
       "│ 4   │ UniversityofCalifornia,Berkeley         │ 74.2    │\n",
       "│ 5   │ MassachusettsInstituteofTechnology(MIT) │ 72.4    │\n",
       "│ 6   │ CaliforniaInstituteofTechnology         │ 69.0    │\n",
       "│ 7   │ PrincetonUniversity                     │ 63.6    │\n",
       "│ 8   │ UniversityofOxford                      │ 61.4    │\n",
       "│ 9   │ ColumbiaUniversity                      │ 61.2    │\n",
       "│ 10  │ UniversityofChicago                     │ 60.5    │\n",
       "⋮\n",
       "│ 90  │ TheHebrewUniversityofJerusalem          │ 25.9    │\n",
       "│ 91  │ UniversityofBasel                       │ 25.8    │\n",
       "│ 92  │ LundUniversity                          │ 25.6    │\n",
       "│ 93  │ UniversityofBirmingham                  │ 25.5    │\n",
       "│ 94  │ UniversityofRoma-LaSapienza             │ 25.5    │\n",
       "│ 95  │ HumboldtUniversityofBerlin              │ 25.4    │\n",
       "│ 96  │ UniversityofUtah                        │ 25.4    │\n",
       "│ 97  │ NagoyaUniversity                        │ 25.2    │\n",
       "│ 98  │ StockholmUniversity                     │ 25.2    │\n",
       "│ 99  │ TuftsUniversity                         │ 25.1    │\n",
       "│ 100 │ UniversityofBonn                        │ 25.1    │\n",
       " 100×2 DataFrame\n",
       "│ Row │ Univ                                    │ Points  │\n",
       "│     │ \u001b[90mString\u001b[39m                                  │ \u001b[90mFloat64\u001b[39m │\n",
       "├─────┼─────────────────────────────────────────┼─────────┤\n",
       "│ 1   │ HarvardUniversity                       │ 100.0   │\n",
       "│ 2   │ UniversityofCambridge                   │ 73.6    │\n",
       "│ 3   │ StanfordUniversity                      │ 73.4    │\n",
       "│ 4   │ UniversityofCalifornia,Berkeley         │ 72.8    │\n",
       "│ 5   │ MassachusettsInstituteofTechnology(MIT) │ 70.1    │\n",
       "│ 6   │ CaliforniaInstituteofTechnology         │ 67.1    │\n",
       "│ 7   │ ColumbiaUniversity                      │ 62.3    │\n",
       "│ 8   │ PrincetonUniversity                     │ 60.9    │\n",
       "│ 9   │ UniversityofChicago                     │ 60.1    │\n",
       "│ 10  │ UniversityofOxford                      │ 59.7    │\n",
       "⋮\n",
       "│ 90  │ McMasterUniversity                      │ 24.9    │\n",
       "│ 91  │ UniversityofFreiburg                    │ 24.9    │\n",
       "│ 92  │ UniversityofStrasbourg                  │ 24.7    │\n",
       "│ 93  │ EcoleNormaleSuperieure-Paris            │ 24.6    │\n",
       "│ 94  │ StockholmUniversity                     │ 24.6    │\n",
       "│ 95  │ TokyoInstituteofTechnology              │ 24.6    │\n",
       "│ 96  │ UniversityofUtah                        │ 24.6    │\n",
       "│ 97  │ UniversityofRoma-LaSapienza             │ 24.5    │\n",
       "│ 98  │ UniversityofBirmingham                  │ 24.4    │\n",
       "│ 99  │ LundUniversity                          │ 24.3    │\n",
       "│ 100 │ TuftsUniversity                         │ 23.9    │\n",
       " 100×2 DataFrame\n",
       "│ Row │ Univ                                    │ Points  │\n",
       "│     │ \u001b[90mString\u001b[39m                                  │ \u001b[90mFloat64\u001b[39m │\n",
       "├─────┼─────────────────────────────────────────┼─────────┤\n",
       "│ 1   │ HarvardUniversity                       │ 100.0   │\n",
       "│ 2   │ UniversityofCambridge                   │ 72.6    │\n",
       "│ 3   │ StanfordUniversity                      │ 72.5    │\n",
       "│ 4   │ UniversityofCalifornia,Berkeley         │ 72.1    │\n",
       "│ 5   │ MassachusettsInstituteofTechnology(MIT) │ 69.7    │\n",
       "│ 6   │ CaliforniaInstituteofTechnology         │ 66.0    │\n",
       "│ 7   │ ColumbiaUniversity                      │ 61.8    │\n",
       "│ 8   │ PrincetonUniversity                     │ 58.6    │\n",
       "│ 9   │ UniversityofChicago                     │ 58.6    │\n",
       "│ 10  │ UniversityofOxford                      │ 57.6    │\n",
       "⋮\n",
       "│ 90  │ LundUniversity                          │ 24.7    │\n",
       "│ 91  │ McMasterUniversity                      │ 24.7    │\n",
       "│ 92  │ UniversityofBirmingham                  │ 24.7    │\n",
       "│ 93  │ UniversityofFreiburg                    │ 24.6    │\n",
       "│ 94  │ UniversityofUtah                        │ 24.5    │\n",
       "│ 95  │ UniversityofIowa                        │ 24.3    │\n",
       "│ 96  │ UniversityofStrasbourg                  │ 24.2    │\n",
       "│ 97  │ IndianaUniversityBloomington            │ 24.1    │\n",
       "│ 98  │ NagoyaUniversity                        │ 24.0    │\n",
       "│ 99  │ EcoleNormaleSuperieure-Paris            │ 23.6    │\n",
       "│ 100 │ ArizonaStateUniversity-Tempe            │ 23.5    │\n",
       " 100×2 DataFrame\n",
       "│ Row │ Univ                                    │ Points  │\n",
       "│     │ \u001b[90mString\u001b[39m                                  │ \u001b[90mFloat64\u001b[39m │\n",
       "├─────┼─────────────────────────────────────────┼─────────┤\n",
       "│ 1   │ HarvardUniversity                       │ 100.0   │\n",
       "│ 2   │ StanfordUniversity                      │ 73.7    │\n",
       "│ 3   │ UniversityofCalifornia,Berkeley         │ 71.9    │\n",
       "│ 4   │ UniversityofCambridge                   │ 71.6    │\n",
       "│ 5   │ MassachusettsInstituteofTechnology(MIT) │ 70.0    │\n",
       "│ 6   │ CaliforniaInstituteofTechnology         │ 66.4    │\n",
       "│ 7   │ ColumbiaUniversity                      │ 63.2    │\n",
       "│ 8   │ PrincetonUniversity                     │ 59.5    │\n",
       "│ 9   │ UniversityofChicago                     │ 58.4    │\n",
       "│ 10  │ UniversityofOxford                      │ 56.4    │\n",
       "⋮\n",
       "│ 90  │ IndianaUniversityBloomington            │ 24.9    │\n",
       "│ 91  │ TexasA&MUniversity-CollegeStation       │ 24.8    │\n",
       "│ 92  │ UniversityofBirmingham                  │ 24.5    │\n",
       "│ 93  │ UniversityofUtah                        │ 24.3    │\n",
       "│ 94  │ NagoyaUniversity                        │ 24.1    │\n",
       "│ 95  │ UniversityofFreiburg                    │ 24.1    │\n",
       "│ 96  │ ArizonaStateUniversity-Tempe            │ 24.0    │\n",
       "│ 97  │ LundUniversity                          │ 23.9    │\n",
       "│ 98  │ UniversityofIowa                        │ 23.9    │\n",
       "│ 99  │ TokyoInstituteofTechnology              │ 23.8    │\n",
       "│ 100 │ UniversityofBonn                        │ 23.8    │\n",
       " 100×2 DataFrame\n",
       "│ Row │ Univ                                    │ Points  │\n",
       "│     │ \u001b[90mString\u001b[39m                                  │ \u001b[90mFloat64\u001b[39m │\n",
       "├─────┼─────────────────────────────────────────┼─────────┤\n",
       "│ 1   │ HarvardUniversity                       │ 100.0   │\n",
       "│ 2   │ StanfordUniversity                      │ 73.7    │\n",
       "│ 3   │ UniversityofCalifornia,Berkeley         │ 71.4    │\n",
       "│ 4   │ UniversityofCambridge                   │ 70.4    │\n",
       "│ 5   │ MassachusettsInstituteofTechnology(MIT) │ 69.6    │\n",
       "│ 6   │ CaliforniaInstituteofTechnology         │ 65.4    │\n",
       "│ 7   │ ColumbiaUniversity                      │ 62.5    │\n",
       "│ 8   │ PrincetonUniversity                     │ 58.9    │\n",
       "│ 9   │ UniversityofChicago                     │ 57.1    │\n",
       "│ 10  │ UniversityofOxford                      │ 56.8    │\n",
       "⋮\n",
       "│ 90  │ UniversityofGoettingen                  │ 24.9    │\n",
       "│ 91  │ UniversityofBirmingham                  │ 24.8    │\n",
       "│ 92  │ IndianaUniversityBloomington            │ 24.6    │\n",
       "│ 93  │ ArizonaStateUniversity-Tempe            │ 24.5    │\n",
       "│ 94  │ AarhusUniversity                        │ 24.5    │\n",
       "│ 95  │ UniversityofVirginia                    │ 24.4    │\n",
       "│ 96  │ UniversityofFreiburg                    │ 24.2    │\n",
       "│ 97  │ LundUniversity                          │ 24.1    │\n",
       "│ 98  │ RiceUniversity                          │ 24.1    │\n",
       "│ 99  │ UniversityofBonn                        │ 24.1    │\n",
       "│ 100 │ UniversityofSydney                      │ 24.1    │\n",
       " 100×2 DataFrame\n",
       "│ Row │ Univ                                    │ Points  │\n",
       "│     │ \u001b[90mString\u001b[39m                                  │ \u001b[90mFloat64\u001b[39m │\n",
       "├─────┼─────────────────────────────────────────┼─────────┤\n",
       "│ 1   │ HarvardUniversity                       │ 100.0   │\n",
       "│ 2   │ StanfordUniversity                      │ 73.1    │\n",
       "│ 3   │ UniversityofCalifornia,Berkeley         │ 71.0    │\n",
       "│ 4   │ UniversityofCambridge                   │ 70.2    │\n",
       "│ 5   │ MassachusettsInstituteofTechnology(MIT) │ 69.5    │\n",
       "│ 6   │ CaliforniaInstituteofTechnology         │ 64.8    │\n",
       "│ 7   │ ColumbiaUniversity                      │ 61.7    │\n",
       "│ 8   │ PrincetonUniversity                     │ 60.2    │\n",
       "│ 9   │ UniversityofChicago                     │ 57.0    │\n",
       "│ 10  │ UniversityofOxford                      │ 56.3    │\n",
       "⋮\n",
       "│ 90  │ UniversityofGoettingen                  │ 24.9    │\n",
       "│ 91  │ McMasterUniversity                      │ 24.6    │\n",
       "│ 92  │ UniversityofVirginia                    │ 24.6    │\n",
       "│ 93  │ IndianaUniversityBloomington            │ 24.4    │\n",
       "│ 94  │ ArizonaStateUniversity-Tempe            │ 24.3    │\n",
       "│ 95  │ UniversityofBirmingham                  │ 24.3    │\n",
       "│ 96  │ UniversityofSydney                      │ 24.3    │\n",
       "│ 97  │ AarhusUniversity                        │ 24.2    │\n",
       "│ 98  │ UniversityofBonn                        │ 24.1    │\n",
       "│ 99  │ RiceUniversity                          │ 23.9    │\n",
       "│ 100 │ EmoryUniversity                         │ 23.8    │\n",
       " 100×2 DataFrame\n",
       "│ Row │ Univ                                    │ Points  │\n",
       "│     │ \u001b[90mString\u001b[39m                                  │ \u001b[90mFloat64\u001b[39m │\n",
       "├─────┼─────────────────────────────────────────┼─────────┤\n",
       "│ 1   │ HarvardUniversity                       │ 100.0   │\n",
       "│ 2   │ UniversityofCalifornia,Berkeley         │ 72.4    │\n",
       "│ 3   │ StanfordUniversity                      │ 72.1    │\n",
       "│ 4   │ MassachusettsInstituteofTechnology(MIT) │ 71.4    │\n",
       "│ 5   │ UniversityofCambridge                   │ 69.6    │\n",
       "│ 6   │ CaliforniaInstituteofTechnology         │ 64.4    │\n",
       "│ 7   │ PrincetonUniversity                     │ 60.8    │\n",
       "│ 8   │ ColumbiaUniversity                      │ 60.4    │\n",
       "│ 9   │ UniversityofChicago                     │ 57.3    │\n",
       "│ 10  │ UniversityofOxford                      │ 56.4    │\n",
       "⋮\n",
       "│ 90  │ GhentUniversity                         │ 25.1    │\n",
       "│ 91  │ IndianaUniversityBloomington            │ 25.1    │\n",
       "│ 92  │ UniversityofSydney                      │ 25.0    │\n",
       "│ 93  │ UniversityofBonn                        │ 24.9    │\n",
       "│ 94  │ UniversityofGoettingen                  │ 24.9    │\n",
       "│ 95  │ TexasA&MUniversity-CollegeStation       │ 24.8    │\n",
       "│ 96  │ UniversityofVirginia                    │ 24.5    │\n",
       "│ 97  │ CaseWesternReserveUniversity            │ 24.3    │\n",
       "│ 98  │ AarhusUniversity                        │ 24.2    │\n",
       "│ 99  │ RiceUniversity                          │ 24.0    │\n",
       "│ 100 │ UniversityofBirmingham                  │ 24.0    │\n",
       " 100×2 DataFrame\n",
       "│ Row │ Univ                                    │ Points  │\n",
       "│     │ \u001b[90mString\u001b[39m                                  │ \u001b[90mFloat64\u001b[39m │\n",
       "├─────┼─────────────────────────────────────────┼─────────┤\n",
       "│ 1   │ HarvardUniversity                       │ 100.0   │\n",
       "│ 2   │ StanfordUniversity                      │ 72.6    │\n",
       "│ 3   │ MassachusettsInstituteofTechnology(MIT) │ 72.0    │\n",
       "│ 4   │ UniversityofCalifornia,Berkeley         │ 71.9    │\n",
       "│ 5   │ UniversityofCambridge                   │ 70.0    │\n",
       "│ 6   │ CaliforniaInstituteofTechnology         │ 64.7    │\n",
       "│ 7   │ PrincetonUniversity                     │ 61.2    │\n",
       "│ 8   │ ColumbiaUniversity                      │ 60.4    │\n",
       "│ 9   │ UniversityofChicago                     │ 57.5    │\n",
       "│ 10  │ UniversityofOxford                      │ 56.4    │\n",
       "⋮\n",
       "│ 90  │ McMasterUniversity                      │ 25.3    │\n",
       "│ 91  │ UniversityofBasel                       │ 25.3    │\n",
       "│ 92  │ MichiganStateUniversity                 │ 25.1    │\n",
       "│ 93  │ RiceUniversity                          │ 24.8    │\n",
       "│ 94  │ NagoyaUniversity                        │ 24.7    │\n",
       "│ 95  │ UniversityofBonn                        │ 24.7    │\n",
       "│ 96  │ UniversityofSydney                      │ 24.5    │\n",
       "│ 97  │ CaseWesternReserveUniversity            │ 24.4    │\n",
       "│ 98  │ TheUniversityofSheffield                │ 24.4    │\n",
       "│ 99  │ TohokuUniversity                        │ 24.4    │\n",
       "│ 100 │ TexasA&MUniversity-CollegeStation       │ 24.2    │\n",
       " 100×2 DataFrame\n",
       "│ Row │ Univ                                    │ Points  │\n",
       "│     │ \u001b[90mString\u001b[39m                                  │ \u001b[90mFloat64\u001b[39m │\n",
       "├─────┼─────────────────────────────────────────┼─────────┤\n",
       "│ 1   │ HarvardUniversity                       │ 100.0   │\n",
       "│ 2   │ StanfordUniversity                      │ 72.8    │\n",
       "│ 3   │ MassachusettsInstituteofTechnology(MIT) │ 71.8    │\n",
       "│ 4   │ UniversityofCalifornia,Berkeley         │ 71.6    │\n",
       "│ 5   │ UniversityofCambridge                   │ 69.8    │\n",
       "│ 6   │ CaliforniaInstituteofTechnology         │ 64.1    │\n",
       "│ 7   │ PrincetonUniversity                     │ 62.1    │\n",
       "│ 8   │ ColumbiaUniversity                      │ 60.1    │\n",
       "│ 9   │ UniversityofChicago                     │ 57.2    │\n",
       "│ 10  │ UniversityofOxford                      │ 56.1    │\n",
       "⋮\n",
       "│ 90  │ TheUniversityofQueensland               │ 25.3    │\n",
       "│ 91  │ RiceUniversity                          │ 25.1    │\n",
       "│ 92  │ McMasterUniversity                      │ 25.0    │\n",
       "│ 93  │ TexasA&MUniversity-CollegeStation       │ 24.6    │\n",
       "│ 94  │ UniversityofSydney                      │ 24.6    │\n",
       "│ 95  │ WeizmannInstituteofScience              │ 24.6    │\n",
       "│ 96  │ MichiganStateUniversity                 │ 24.4    │\n",
       "│ 97  │ NagoyaUniversity                        │ 24.4    │\n",
       "│ 98  │ TheUniversityofWesternAustralia         │ 24.4    │\n",
       "│ 99  │ CaseWesternReserveUniversity            │ 24.3    │\n",
       "│ 100 │ UniversityofFreiburg                    │ 24.3    │\n",
       " 100×2 DataFrame\n",
       "│ Row │ Univ                                    │ Points  │\n",
       "│     │ \u001b[90mString\u001b[39m                                  │ \u001b[90mFloat64\u001b[39m │\n",
       "├─────┼─────────────────────────────────────────┼─────────┤\n",
       "│ 1   │ HarvardUniversity                       │ 100.0   │\n",
       "│ 2   │ StanfordUniversity                      │ 72.6    │\n",
       "│ 3   │ UniversityofCalifornia,Berkeley         │ 71.3    │\n",
       "│ 4   │ MassachusettsInstituteofTechnology(MIT) │ 71.1    │\n",
       "│ 5   │ UniversityofCambridge                   │ 69.6    │\n",
       "│ 6   │ CaliforniaInstituteofTechnology         │ 62.9    │\n",
       "│ 7   │ PrincetonUniversity                     │ 61.9    │\n",
       "│ 8   │ ColumbiaUniversity                      │ 59.8    │\n",
       "│ 9   │ UniversityofChicago                     │ 57.1    │\n",
       "│ 10  │ UniversityofOxford                      │ 55.9    │\n",
       "⋮\n",
       "│ 90  │ UniversityofRochester                   │ 25.4    │\n",
       "│ 91  │ TheUniversityofWesternAustralia         │ 25.0    │\n",
       "│ 92  │ McMasterUniversity                      │ 24.9    │\n",
       "│ 93  │ MichiganStateUniversity                 │ 24.9    │\n",
       "│ 94  │ RiceUniversity                          │ 24.9    │\n",
       "│ 95  │ UniversityofGroningen                   │ 24.9    │\n",
       "│ 96  │ WeizmannInstituteofScience              │ 24.9    │\n",
       "│ 97  │ UniversityofStrasbourg                  │ 24.7    │\n",
       "│ 98  │ UniversityofSydney                      │ 24.7    │\n",
       "│ 99  │ CaseWesternReserveUniversity            │ 24.6    │\n",
       "│ 100 │ UniversityofFreiburg                    │ 24.3    │\n",
       " 100×2 DataFrame\n",
       "│ Row │ Univ                                      │ Points  │\n",
       "│     │ \u001b[90mString\u001b[39m                                    │ \u001b[90mFloat64\u001b[39m │\n",
       "├─────┼───────────────────────────────────────────┼─────────┤\n",
       "│ 1   │ HarvardUniversity                         │ 100.0   │\n",
       "│ 2   │ StanfordUniversity                        │ 72.1    │\n",
       "│ 3   │ MassachusettsInstituteofTechnology(MIT)   │ 70.5    │\n",
       "│ 4   │ UniversityofCalifornia,Berkeley           │ 70.1    │\n",
       "│ 5   │ UniversityofCambridge                     │ 69.2    │\n",
       "│ 6   │ PrincetonUniversity                       │ 60.7    │\n",
       "│ 7   │ CaliforniaInstituteofTechnology           │ 60.5    │\n",
       "│ 8   │ ColumbiaUniversity                        │ 59.6    │\n",
       "│ 9   │ UniversityofChicago                       │ 57.4    │\n",
       "│ 10  │ UniversityofOxford                        │ 57.4    │\n",
       "⋮\n",
       "│ 90  │ McMasterUniversity                        │ 24.8    │\n",
       "│ 91  │ UniversityofBasel                         │ 24.8    │\n",
       "│ 92  │ UniversityofRochester                     │ 24.8    │\n",
       "│ 93  │ UniversityofCalifornia,SantaCruz          │ 24.7    │\n",
       "│ 94  │ UniversityofBonn                          │ 24.6    │\n",
       "│ 95  │ UniversityofStrasbourg                    │ 24.5    │\n",
       "│ 96  │ KULeuven                                  │ 24.2    │\n",
       "│ 97  │ SwissFederalInstituteofTechnologyLausanne │ 24.2    │\n",
       "│ 98  │ TexasA&MUniversity                        │ 24.2    │\n",
       "│ 99  │ GeorgiaInstituteofTechnology              │ 24.1    │\n",
       "│ 100 │ VUUniversityAmsterdam                     │ 24.0    │\n",
       " 100×2 DataFrame\n",
       "│ Row │ Univ                                    │ Points  │\n",
       "│     │ \u001b[90mString\u001b[39m                                  │ \u001b[90mFloat64\u001b[39m │\n",
       "├─────┼─────────────────────────────────────────┼─────────┤\n",
       "│ 1   │ HarvardUniversity                       │ 100.0   │\n",
       "│ 2   │ StanfordUniversity                      │ 73.3    │\n",
       "│ 3   │ MassachusettsInstituteofTechnology(MIT) │ 70.4    │\n",
       "│ 4   │ UniversityofCalifornia,Berkeley         │ 69.6    │\n",
       "│ 5   │ UniversityofCambridge                   │ 68.8    │\n",
       "│ 6   │ PrincetonUniversity                     │ 61.0    │\n",
       "│ 7   │ CaliforniaInstituteofTechnology         │ 59.6    │\n",
       "│ 8   │ ColumbiaUniversity                      │ 58.8    │\n",
       "│ 9   │ UniversityofChicago                     │ 57.1    │\n",
       "│ 10  │ UniversityofOxford                      │ 56.6    │\n",
       "⋮\n",
       "│ 90  │ KULeuven                                │ 24.7    │\n",
       "│ 91  │ UniversityofArizona                     │ 24.7    │\n",
       "│ 92  │ UniversityofWarwick                     │ 24.6    │\n",
       "│ 93  │ ArizonaStateUniversity                  │ 24.5    │\n",
       "│ 94  │ UniversityofCalifornia,SantaCruz        │ 24.5    │\n",
       "│ 95  │ UniversityofUtah                        │ 24.5    │\n",
       "│ 96  │ McMasterUniversity                      │ 24.4    │\n",
       "│ 97  │ UniversityofBonn                        │ 24.3    │\n",
       "│ 98  │ VUUniversityAmsterdam                   │ 24.2    │\n",
       "│ 99  │ MichiganStateUniversity                 │ 24.0    │\n",
       "│ 100 │ TexasA&MUniversity                      │ 23.9    │\n",
       " 100×2 DataFrame\n",
       "│ Row │ Univ                                               │ Points  │\n",
       "│     │ \u001b[90mString\u001b[39m                                             │ \u001b[90mFloat64\u001b[39m │\n",
       "├─────┼────────────────────────────────────────────────────┼─────────┤\n",
       "│ 1   │ HarvardUniversity                                  │ 100.0   │\n",
       "│ 2   │ StanfordUniversity                                 │ 74.7    │\n",
       "│ 3   │ UniversityofCalifornia,Berkeley                    │ 70.1    │\n",
       "│ 4   │ UniversityofCambridge                              │ 69.6    │\n",
       "│ 5   │ MassachusettsInstituteofTechnology(MIT)            │ 69.2    │\n",
       "│ 6   │ PrincetonUniversity                                │ 62.0    │\n",
       "│ 7   │ UniversityofOxford                                 │ 58.9    │\n",
       "│ 8   │ CaliforniaInstituteofTechnology                    │ 57.8    │\n",
       "│ 9   │ ColumbiaUniversity                                 │ 56.7    │\n",
       "│ 10  │ UniversityofChicago                                │ 54.2    │\n",
       "⋮\n",
       "│ 90  │ BrownUniversity                                    │ 26.0    │\n",
       "│ 91  │ UniversityofFlorida                                │ 26.0    │\n",
       "│ 92  │ SwissFederalInstituteofTechnologyLausanne          │ 25.7    │\n",
       "│ 93  │ GeorgiaInstituteofTechnology                       │ 25.6    │\n",
       "│ 94  │ KULeuven                                           │ 25.6    │\n",
       "│ 95  │ LeidenUniversity                                   │ 25.6    │\n",
       "│ 96  │ OsakaUniversity                                    │ 25.5    │\n",
       "│ 97  │ Rutgers,TheStateUniversityofNewJersey-NewBrunswick │ 25.5    │\n",
       "│ 98  │ TheUniversityofTexasM.D.AndersonCancerCenter       │ 25.5    │\n",
       "│ 99  │ TheUniversityofWesternAustralia                    │ 25.5    │\n",
       "│ 100 │ UniversityofUtah                                   │ 25.4    │"
      ]
     },
     "execution_count": 2,
     "metadata": {},
     "output_type": "execute_result"
    }
   ],
   "source": [
    "list_dataframes = [DataFrame(CSV.File(\"data/\"*f)) for f in readdir(\"data\")]"
   ]
  },
  {
   "cell_type": "code",
   "execution_count": 37,
   "metadata": {},
   "outputs": [],
   "source": [
    "nombresbuenos = intersect([l.Univ for l in list_dataframes]...);\n",
    "nombresbuenos = nombresbuenos[1:30];"
   ]
  },
  {
   "cell_type": "code",
   "execution_count": 38,
   "metadata": {},
   "outputs": [
    {
     "data": {
      "text/plain": [
       "14-element Array{DataFrame,1}:\n",
       " 30×2 DataFrame\n",
       "│ Row │ Univ                                    │ Points  │\n",
       "│     │ \u001b[90mString\u001b[39m                                  │ \u001b[90mFloat64\u001b[39m │\n",
       "├─────┼─────────────────────────────────────────┼─────────┤\n",
       "│ 1   │ HarvardUniversity                       │ 100.0   │\n",
       "│ 2   │ StanfordUniversity                      │ 83.5    │\n",
       "│ 3   │ CaliforniaInstituteofTechnology         │ 76.3    │\n",
       "│ 4   │ UniversityofCalifornia,Berkeley         │ 74.0    │\n",
       "│ 5   │ UniversityofCambridge                   │ 73.4    │\n",
       "│ 6   │ MassachusettsInstituteofTechnology(MIT) │ 70.6    │\n",
       "│ 7   │ PrincetonUniversity                     │ 62.5    │\n",
       "│ 8   │ YaleUniversity                          │ 61.1    │\n",
       "│ 9   │ UniversityofOxford                      │ 59.5    │\n",
       "│ 10  │ ColumbiaUniversity                      │ 59.1    │\n",
       "⋮\n",
       "│ 20  │ UniversityCollegeLondon                 │ 48.9    │\n",
       "│ 21  │ UniversityofMichigan-AnnArbor           │ 48.8    │\n",
       "│ 22  │ WashingtonUniversityinSt.Louis          │ 47.8    │\n",
       "│ 23  │ UniversityofToronto                     │ 45.8    │\n",
       "│ 24  │ SwissFederalInstituteofTechnologyZurich │ 45.6    │\n",
       "│ 25  │ UniversityofCalifornia,SantaBarbara     │ 45.3    │\n",
       "│ 26  │ UniversityofWisconsin-Madison           │ 45.0    │\n",
       "│ 27  │ RockefellerUniversity                   │ 44.8    │\n",
       "│ 28  │ NorthwesternUniversity                  │ 44.4    │\n",
       "│ 29  │ KyotoUniversity                         │ 43.6    │\n",
       "│ 30  │ UniversityofColoradoatBoulder           │ 40.9    │\n",
       " 30×2 DataFrame\n",
       "│ Row │ Univ                                              │ Points  │\n",
       "│     │ \u001b[90mString\u001b[39m                                            │ \u001b[90mFloat64\u001b[39m │\n",
       "├─────┼───────────────────────────────────────────────────┼─────────┤\n",
       "│ 1   │ HarvardUniversity                                 │ 100.0   │\n",
       "│ 2   │ StanfordUniversity                                │ 77.2    │\n",
       "│ 3   │ UniversityofCambridge                             │ 76.2    │\n",
       "│ 4   │ UniversityofCalifornia,Berkeley                   │ 74.2    │\n",
       "│ 5   │ MassachusettsInstituteofTechnology(MIT)           │ 72.4    │\n",
       "│ 6   │ CaliforniaInstituteofTechnology                   │ 69.0    │\n",
       "│ 7   │ PrincetonUniversity                               │ 63.6    │\n",
       "│ 8   │ UniversityofOxford                                │ 61.4    │\n",
       "│ 9   │ ColumbiaUniversity                                │ 61.2    │\n",
       "│ 10  │ UniversityofChicago                               │ 60.5    │\n",
       "⋮\n",
       "│ 20  │ UniversityofWashington                            │ 49.1    │\n",
       "│ 21  │ KyotoUniversity                                   │ 48.3    │\n",
       "│ 22  │ TheImperialCollegeofScience,TechnologyandMedicine │ 46.4    │\n",
       "│ 23  │ UniversityofToronto                               │ 44.6    │\n",
       "│ 24  │ UniversityCollegeLondon                           │ 44.3    │\n",
       "│ 25  │ SwissFederalInstituteofTechnologyZurich           │ 43.2    │\n",
       "│ 26  │ WashingtonUniversityinSt.Louis                    │ 43.1    │\n",
       "│ 27  │ RockefellerUniversity                             │ 40.2    │\n",
       "│ 28  │ NorthwesternUniversity                            │ 39.5    │\n",
       "│ 29  │ UniversityofColoradoatBoulder                     │ 37.8    │\n",
       "│ 30  │ UniversityofCalifornia,SantaBarbara               │ 37.0    │\n",
       " 30×2 DataFrame\n",
       "│ Row │ Univ                                              │ Points  │\n",
       "│     │ \u001b[90mString\u001b[39m                                            │ \u001b[90mFloat64\u001b[39m │\n",
       "├─────┼───────────────────────────────────────────────────┼─────────┤\n",
       "│ 1   │ HarvardUniversity                                 │ 100.0   │\n",
       "│ 2   │ UniversityofCambridge                             │ 73.6    │\n",
       "│ 3   │ StanfordUniversity                                │ 73.4    │\n",
       "│ 4   │ UniversityofCalifornia,Berkeley                   │ 72.8    │\n",
       "│ 5   │ MassachusettsInstituteofTechnology(MIT)           │ 70.1    │\n",
       "│ 6   │ CaliforniaInstituteofTechnology                   │ 67.1    │\n",
       "│ 7   │ ColumbiaUniversity                                │ 62.3    │\n",
       "│ 8   │ PrincetonUniversity                               │ 60.9    │\n",
       "│ 9   │ UniversityofChicago                               │ 60.1    │\n",
       "│ 10  │ UniversityofOxford                                │ 59.7    │\n",
       "⋮\n",
       "│ 20  │ UniversityofMichigan-AnnArbor                     │ 44.9    │\n",
       "│ 21  │ KyotoUniversity                                   │ 43.8    │\n",
       "│ 22  │ TheImperialCollegeofScience,TechnologyandMedicine │ 43.7    │\n",
       "│ 23  │ UniversityofToronto                               │ 43.1    │\n",
       "│ 24  │ UniversityCollegeLondon                           │ 42.6    │\n",
       "│ 25  │ SwissFederalInstituteofTechnologyZurich           │ 41.7    │\n",
       "│ 26  │ WashingtonUniversityinSt.Louis                    │ 40.7    │\n",
       "│ 27  │ RockefellerUniversity                             │ 38.2    │\n",
       "│ 28  │ NorthwesternUniversity                            │ 37.9    │\n",
       "│ 29  │ UniversityofCalifornia,SantaBarbara               │ 36.9    │\n",
       "│ 30  │ UniversityofColoradoatBoulder                     │ 36.3    │\n",
       " 30×2 DataFrame\n",
       "│ Row │ Univ                                              │ Points  │\n",
       "│     │ \u001b[90mString\u001b[39m                                            │ \u001b[90mFloat64\u001b[39m │\n",
       "├─────┼───────────────────────────────────────────────────┼─────────┤\n",
       "│ 1   │ HarvardUniversity                                 │ 100.0   │\n",
       "│ 2   │ UniversityofCambridge                             │ 72.6    │\n",
       "│ 3   │ StanfordUniversity                                │ 72.5    │\n",
       "│ 4   │ UniversityofCalifornia,Berkeley                   │ 72.1    │\n",
       "│ 5   │ MassachusettsInstituteofTechnology(MIT)           │ 69.7    │\n",
       "│ 6   │ CaliforniaInstituteofTechnology                   │ 66.0    │\n",
       "│ 7   │ ColumbiaUniversity                                │ 61.8    │\n",
       "│ 8   │ PrincetonUniversity                               │ 58.6    │\n",
       "│ 9   │ UniversityofChicago                               │ 58.6    │\n",
       "│ 10  │ UniversityofOxford                                │ 57.6    │\n",
       "⋮\n",
       "│ 20  │ UniversityofMichigan-AnnArbor                     │ 44.5    │\n",
       "│ 21  │ KyotoUniversity                                   │ 43.9    │\n",
       "│ 22  │ TheImperialCollegeofScience,TechnologyandMedicine │ 43.4    │\n",
       "│ 23  │ UniversityofToronto                               │ 42.8    │\n",
       "│ 24  │ UniversityCollegeLondon                           │ 42.2    │\n",
       "│ 25  │ SwissFederalInstituteofTechnologyZurich           │ 41.2    │\n",
       "│ 26  │ WashingtonUniversityinSt.Louis                    │ 40.4    │\n",
       "│ 27  │ RockefellerUniversity                             │ 38.3    │\n",
       "│ 28  │ NorthwesternUniversity                            │ 37.6    │\n",
       "│ 29  │ UniversityofColoradoatBoulder                     │ 36.4    │\n",
       "│ 30  │ UniversityofCalifornia,SantaBarbara               │ 36.1    │\n",
       " 30×2 DataFrame\n",
       "│ Row │ Univ                                              │ Points  │\n",
       "│     │ \u001b[90mString\u001b[39m                                            │ \u001b[90mFloat64\u001b[39m │\n",
       "├─────┼───────────────────────────────────────────────────┼─────────┤\n",
       "│ 1   │ HarvardUniversity                                 │ 100.0   │\n",
       "│ 2   │ StanfordUniversity                                │ 73.7    │\n",
       "│ 3   │ UniversityofCalifornia,Berkeley                   │ 71.9    │\n",
       "│ 4   │ UniversityofCambridge                             │ 71.6    │\n",
       "│ 5   │ MassachusettsInstituteofTechnology(MIT)           │ 70.0    │\n",
       "│ 6   │ CaliforniaInstituteofTechnology                   │ 66.4    │\n",
       "│ 7   │ ColumbiaUniversity                                │ 63.2    │\n",
       "│ 8   │ PrincetonUniversity                               │ 59.5    │\n",
       "│ 9   │ UniversityofChicago                               │ 58.4    │\n",
       "│ 10  │ UniversityofOxford                                │ 56.4    │\n",
       "⋮\n",
       "│ 20  │ UniversityofMichigan-AnnArbor                     │ 44.0    │\n",
       "│ 21  │ KyotoUniversity                                   │ 43.1    │\n",
       "│ 22  │ TheImperialCollegeofScience,TechnologyandMedicine │ 43.0    │\n",
       "│ 23  │ UniversityofToronto                               │ 43.0    │\n",
       "│ 24  │ UniversityCollegeLondon                           │ 42.8    │\n",
       "│ 25  │ SwissFederalInstituteofTechnologyZurich           │ 39.9    │\n",
       "│ 26  │ WashingtonUniversityinSt.Louis                    │ 39.7    │\n",
       "│ 27  │ NorthwesternUniversity                            │ 38.2    │\n",
       "│ 28  │ RockefellerUniversity                             │ 38.0    │\n",
       "│ 29  │ UniversityofColoradoatBoulder                     │ 36.6    │\n",
       "│ 30  │ UniversityofCalifornia,SantaBarbara               │ 35.8    │\n",
       " 30×2 DataFrame\n",
       "│ Row │ Univ                                              │ Points  │\n",
       "│     │ \u001b[90mString\u001b[39m                                            │ \u001b[90mFloat64\u001b[39m │\n",
       "├─────┼───────────────────────────────────────────────────┼─────────┤\n",
       "│ 1   │ HarvardUniversity                                 │ 100.0   │\n",
       "│ 2   │ StanfordUniversity                                │ 73.7    │\n",
       "│ 3   │ UniversityofCalifornia,Berkeley                   │ 71.4    │\n",
       "│ 4   │ UniversityofCambridge                             │ 70.4    │\n",
       "│ 5   │ MassachusettsInstituteofTechnology(MIT)           │ 69.6    │\n",
       "│ 6   │ CaliforniaInstituteofTechnology                   │ 65.4    │\n",
       "│ 7   │ ColumbiaUniversity                                │ 62.5    │\n",
       "│ 8   │ PrincetonUniversity                               │ 58.9    │\n",
       "│ 9   │ UniversityofChicago                               │ 57.1    │\n",
       "│ 10  │ UniversityofOxford                                │ 56.8    │\n",
       "⋮\n",
       "│ 20  │ UniversityofMichigan-AnnArbor                     │ 44.2    │\n",
       "│ 21  │ UniversityCollegeLondon                           │ 44.0    │\n",
       "│ 22  │ KyotoUniversity                                   │ 43.5    │\n",
       "│ 23  │ SwissFederalInstituteofTechnologyZurich           │ 43.1    │\n",
       "│ 24  │ UniversityofToronto                               │ 43.1    │\n",
       "│ 25  │ TheImperialCollegeofScience,TechnologyandMedicine │ 42.4    │\n",
       "│ 26  │ WashingtonUniversityinSt.Louis                    │ 40.1    │\n",
       "│ 27  │ NorthwesternUniversity                            │ 38.1    │\n",
       "│ 28  │ RockefellerUniversity                             │ 37.2    │\n",
       "│ 29  │ UniversityofColoradoatBoulder                     │ 36.4    │\n",
       "│ 30  │ UniversityofCalifornia,SantaBarbara               │ 35.5    │\n",
       " 30×2 DataFrame\n",
       "│ Row │ Univ                                              │ Points  │\n",
       "│     │ \u001b[90mString\u001b[39m                                            │ \u001b[90mFloat64\u001b[39m │\n",
       "├─────┼───────────────────────────────────────────────────┼─────────┤\n",
       "│ 1   │ HarvardUniversity                                 │ 100.0   │\n",
       "│ 2   │ StanfordUniversity                                │ 73.1    │\n",
       "│ 3   │ UniversityofCalifornia,Berkeley                   │ 71.0    │\n",
       "│ 4   │ UniversityofCambridge                             │ 70.2    │\n",
       "│ 5   │ MassachusettsInstituteofTechnology(MIT)           │ 69.5    │\n",
       "│ 6   │ CaliforniaInstituteofTechnology                   │ 64.8    │\n",
       "│ 7   │ ColumbiaUniversity                                │ 61.7    │\n",
       "│ 8   │ PrincetonUniversity                               │ 60.2    │\n",
       "│ 9   │ UniversityofChicago                               │ 57.0    │\n",
       "│ 10  │ UniversityofOxford                                │ 56.3    │\n",
       "⋮\n",
       "│ 20  │ UniversityCollegeLondon                           │ 44.6    │\n",
       "│ 21  │ UniversityofMichigan-AnnArbor                     │ 43.8    │\n",
       "│ 22  │ SwissFederalInstituteofTechnologyZurich           │ 43.6    │\n",
       "│ 23  │ KyotoUniversity                                   │ 42.7    │\n",
       "│ 24  │ TheImperialCollegeofScience,TechnologyandMedicine │ 41.9    │\n",
       "│ 25  │ UniversityofToronto                               │ 40.5    │\n",
       "│ 26  │ WashingtonUniversityinSt.Louis                    │ 39.5    │\n",
       "│ 27  │ NorthwesternUniversity                            │ 38.7    │\n",
       "│ 28  │ RockefellerUniversity                             │ 36.9    │\n",
       "│ 29  │ UniversityofColoradoatBoulder                     │ 36.4    │\n",
       "│ 30  │ UniversityofCalifornia,SantaBarbara               │ 35.0    │\n",
       " 30×2 DataFrame\n",
       "│ Row │ Univ                                              │ Points  │\n",
       "│     │ \u001b[90mString\u001b[39m                                            │ \u001b[90mFloat64\u001b[39m │\n",
       "├─────┼───────────────────────────────────────────────────┼─────────┤\n",
       "│ 1   │ HarvardUniversity                                 │ 100.0   │\n",
       "│ 2   │ UniversityofCalifornia,Berkeley                   │ 72.4    │\n",
       "│ 3   │ StanfordUniversity                                │ 72.1    │\n",
       "│ 4   │ MassachusettsInstituteofTechnology(MIT)           │ 71.4    │\n",
       "│ 5   │ UniversityofCambridge                             │ 69.6    │\n",
       "│ 6   │ CaliforniaInstituteofTechnology                   │ 64.4    │\n",
       "│ 7   │ PrincetonUniversity                               │ 60.8    │\n",
       "│ 8   │ ColumbiaUniversity                                │ 60.4    │\n",
       "│ 9   │ UniversityofChicago                               │ 57.3    │\n",
       "│ 10  │ UniversityofOxford                                │ 56.4    │\n",
       "⋮\n",
       "│ 20  │ UniversityCollegeLondon                           │ 44.4    │\n",
       "│ 21  │ UniversityofMichigan-AnnArbor                     │ 44.2    │\n",
       "│ 22  │ SwissFederalInstituteofTechnologyZurich           │ 43.4    │\n",
       "│ 23  │ KyotoUniversity                                   │ 43.1    │\n",
       "│ 24  │ TheImperialCollegeofScience,TechnologyandMedicine │ 41.9    │\n",
       "│ 25  │ UniversityofToronto                               │ 41.8    │\n",
       "│ 26  │ NorthwesternUniversity                            │ 38.4    │\n",
       "│ 27  │ WashingtonUniversityinSt.Louis                    │ 38.1    │\n",
       "│ 28  │ UniversityofCalifornia,SantaBarbara               │ 37.1    │\n",
       "│ 29  │ UniversityofColoradoatBoulder                     │ 37.1    │\n",
       "│ 30  │ RockefellerUniversity                             │ 36.7    │\n",
       " 30×2 DataFrame\n",
       "│ Row │ Univ                                              │ Points  │\n",
       "│     │ \u001b[90mString\u001b[39m                                            │ \u001b[90mFloat64\u001b[39m │\n",
       "├─────┼───────────────────────────────────────────────────┼─────────┤\n",
       "│ 1   │ HarvardUniversity                                 │ 100.0   │\n",
       "│ 2   │ StanfordUniversity                                │ 72.6    │\n",
       "│ 3   │ MassachusettsInstituteofTechnology(MIT)           │ 72.0    │\n",
       "│ 4   │ UniversityofCalifornia,Berkeley                   │ 71.9    │\n",
       "│ 5   │ UniversityofCambridge                             │ 70.0    │\n",
       "│ 6   │ CaliforniaInstituteofTechnology                   │ 64.7    │\n",
       "│ 7   │ PrincetonUniversity                               │ 61.2    │\n",
       "│ 8   │ ColumbiaUniversity                                │ 60.4    │\n",
       "│ 9   │ UniversityofChicago                               │ 57.5    │\n",
       "│ 10  │ UniversityofOxford                                │ 56.4    │\n",
       "⋮\n",
       "│ 20  │ TheUniversityofTokyo                              │ 44.6    │\n",
       "│ 21  │ UniversityofMichigan-AnnArbor                     │ 44.1    │\n",
       "│ 22  │ SwissFederalInstituteofTechnologyZurich           │ 43.2    │\n",
       "│ 23  │ TheImperialCollegeofScience,TechnologyandMedicine │ 42.6    │\n",
       "│ 24  │ UniversityofToronto                               │ 41.9    │\n",
       "│ 25  │ KyotoUniversity                                   │ 41.2    │\n",
       "│ 26  │ NorthwesternUniversity                            │ 38.7    │\n",
       "│ 27  │ WashingtonUniversityinSt.Louis                    │ 38.1    │\n",
       "│ 28  │ UniversityofColoradoatBoulder                     │ 37.2    │\n",
       "│ 29  │ RockefellerUniversity                             │ 37.1    │\n",
       "│ 30  │ UniversityofCalifornia,SantaBarbara               │ 37.1    │\n",
       " 30×2 DataFrame\n",
       "│ Row │ Univ                                              │ Points  │\n",
       "│     │ \u001b[90mString\u001b[39m                                            │ \u001b[90mFloat64\u001b[39m │\n",
       "├─────┼───────────────────────────────────────────────────┼─────────┤\n",
       "│ 1   │ HarvardUniversity                                 │ 100.0   │\n",
       "│ 2   │ StanfordUniversity                                │ 72.8    │\n",
       "│ 3   │ MassachusettsInstituteofTechnology(MIT)           │ 71.8    │\n",
       "│ 4   │ UniversityofCalifornia,Berkeley                   │ 71.6    │\n",
       "│ 5   │ UniversityofCambridge                             │ 69.8    │\n",
       "│ 6   │ CaliforniaInstituteofTechnology                   │ 64.1    │\n",
       "│ 7   │ PrincetonUniversity                               │ 62.1    │\n",
       "│ 8   │ ColumbiaUniversity                                │ 60.1    │\n",
       "│ 9   │ UniversityofChicago                               │ 57.2    │\n",
       "│ 10  │ UniversityofOxford                                │ 56.1    │\n",
       "⋮\n",
       "│ 20  │ UniversityCollegeLondon                           │ 43.7    │\n",
       "│ 21  │ UniversityofMichigan-AnnArbor                     │ 43.4    │\n",
       "│ 22  │ SwissFederalInstituteofTechnologyZurich           │ 43.3    │\n",
       "│ 23  │ TheImperialCollegeofScience,TechnologyandMedicine │ 42.4    │\n",
       "│ 24  │ KyotoUniversity                                   │ 41.3    │\n",
       "│ 25  │ UniversityofToronto                               │ 40.8    │\n",
       "│ 26  │ NorthwesternUniversity                            │ 38.8    │\n",
       "│ 27  │ WashingtonUniversityinSt.Louis                    │ 37.6    │\n",
       "│ 28  │ RockefellerUniversity                             │ 37.0    │\n",
       "│ 29  │ UniversityofColoradoatBoulder                     │ 36.6    │\n",
       "│ 30  │ UniversityofCalifornia,SantaBarbara               │ 36.5    │\n",
       " 30×2 DataFrame\n",
       "│ Row │ Univ                                              │ Points  │\n",
       "│     │ \u001b[90mString\u001b[39m                                            │ \u001b[90mFloat64\u001b[39m │\n",
       "├─────┼───────────────────────────────────────────────────┼─────────┤\n",
       "│ 1   │ HarvardUniversity                                 │ 100.0   │\n",
       "│ 2   │ StanfordUniversity                                │ 72.6    │\n",
       "│ 3   │ UniversityofCalifornia,Berkeley                   │ 71.3    │\n",
       "│ 4   │ MassachusettsInstituteofTechnology(MIT)           │ 71.1    │\n",
       "│ 5   │ UniversityofCambridge                             │ 69.6    │\n",
       "│ 6   │ CaliforniaInstituteofTechnology                   │ 62.9    │\n",
       "│ 7   │ PrincetonUniversity                               │ 61.9    │\n",
       "│ 8   │ ColumbiaUniversity                                │ 59.8    │\n",
       "│ 9   │ UniversityofChicago                               │ 57.1    │\n",
       "│ 10  │ UniversityofOxford                                │ 55.9    │\n",
       "⋮\n",
       "│ 20  │ TheUniversityofTokyo                              │ 43.0    │\n",
       "│ 21  │ UniversityCollegeLondon                           │ 43.0    │\n",
       "│ 22  │ UniversityofMichigan-AnnArbor                     │ 42.6    │\n",
       "│ 23  │ TheImperialCollegeofScience,TechnologyandMedicine │ 41.6    │\n",
       "│ 24  │ KyotoUniversity                                   │ 40.8    │\n",
       "│ 25  │ UniversityofToronto                               │ 40.3    │\n",
       "│ 26  │ NorthwesternUniversity                            │ 38.9    │\n",
       "│ 27  │ WashingtonUniversityinSt.Louis                    │ 37.5    │\n",
       "│ 28  │ UniversityofColoradoatBoulder                     │ 37.3    │\n",
       "│ 29  │ RockefellerUniversity                             │ 37.1    │\n",
       "│ 30  │ UniversityofCalifornia,SantaBarbara               │ 35.9    │\n",
       " 30×2 DataFrame\n",
       "│ Row │ Univ                                              │ Points  │\n",
       "│     │ \u001b[90mString\u001b[39m                                            │ \u001b[90mFloat64\u001b[39m │\n",
       "├─────┼───────────────────────────────────────────────────┼─────────┤\n",
       "│ 1   │ HarvardUniversity                                 │ 100.0   │\n",
       "│ 2   │ StanfordUniversity                                │ 72.1    │\n",
       "│ 3   │ MassachusettsInstituteofTechnology(MIT)           │ 70.5    │\n",
       "│ 4   │ UniversityofCalifornia,Berkeley                   │ 70.1    │\n",
       "│ 5   │ UniversityofCambridge                             │ 69.2    │\n",
       "│ 6   │ PrincetonUniversity                               │ 60.7    │\n",
       "│ 7   │ CaliforniaInstituteofTechnology                   │ 60.5    │\n",
       "│ 8   │ ColumbiaUniversity                                │ 59.6    │\n",
       "│ 9   │ UniversityofChicago                               │ 57.4    │\n",
       "│ 10  │ UniversityofOxford                                │ 57.4    │\n",
       "⋮\n",
       "│ 20  │ TheUniversityofTokyo                              │ 43.2    │\n",
       "│ 21  │ TheImperialCollegeofScience,TechnologyandMedicine │ 42.3    │\n",
       "│ 22  │ UniversityofMichigan-AnnArbor                     │ 42.3    │\n",
       "│ 23  │ UniversityofToronto                               │ 41.8    │\n",
       "│ 24  │ UniversityofWisconsin-Madison                     │ 41.8    │\n",
       "│ 25  │ KyotoUniversity                                   │ 39.9    │\n",
       "│ 26  │ NorthwesternUniversity                            │ 39.4    │\n",
       "│ 27  │ WashingtonUniversityinSt.Louis                    │ 37.8    │\n",
       "│ 28  │ RockefellerUniversity                             │ 37.6    │\n",
       "│ 29  │ UniversityofColoradoatBoulder                     │ 37.2    │\n",
       "│ 30  │ UniversityofCalifornia,SantaBarbara               │ 34.3    │\n",
       " 30×2 DataFrame\n",
       "│ Row │ Univ                                              │ Points  │\n",
       "│     │ \u001b[90mString\u001b[39m                                            │ \u001b[90mFloat64\u001b[39m │\n",
       "├─────┼───────────────────────────────────────────────────┼─────────┤\n",
       "│ 1   │ HarvardUniversity                                 │ 100.0   │\n",
       "│ 2   │ StanfordUniversity                                │ 73.3    │\n",
       "│ 3   │ MassachusettsInstituteofTechnology(MIT)           │ 70.4    │\n",
       "│ 4   │ UniversityofCalifornia,Berkeley                   │ 69.6    │\n",
       "│ 5   │ UniversityofCambridge                             │ 68.8    │\n",
       "│ 6   │ PrincetonUniversity                               │ 61.0    │\n",
       "│ 7   │ CaliforniaInstituteofTechnology                   │ 59.6    │\n",
       "│ 8   │ ColumbiaUniversity                                │ 58.8    │\n",
       "│ 9   │ UniversityofChicago                               │ 57.1    │\n",
       "│ 10  │ UniversityofOxford                                │ 56.6    │\n",
       "⋮\n",
       "│ 20  │ TheUniversityofTokyo                              │ 42.0    │\n",
       "│ 21  │ UniversityofMichigan-AnnArbor                     │ 41.7    │\n",
       "│ 22  │ TheImperialCollegeofScience,TechnologyandMedicine │ 41.5    │\n",
       "│ 23  │ UniversityofWisconsin-Madison                     │ 41.1    │\n",
       "│ 24  │ UniversityofToronto                               │ 40.6    │\n",
       "│ 25  │ KyotoUniversity                                   │ 38.9    │\n",
       "│ 26  │ NorthwesternUniversity                            │ 38.8    │\n",
       "│ 27  │ WashingtonUniversityinSt.Louis                    │ 37.4    │\n",
       "│ 28  │ RockefellerUniversity                             │ 36.5    │\n",
       "│ 29  │ UniversityofColoradoatBoulder                     │ 36.0    │\n",
       "│ 30  │ UniversityofCalifornia,SantaBarbara               │ 34.6    │\n",
       " 30×2 DataFrame\n",
       "│ Row │ Univ                                              │ Points  │\n",
       "│     │ \u001b[90mString\u001b[39m                                            │ \u001b[90mFloat64\u001b[39m │\n",
       "├─────┼───────────────────────────────────────────────────┼─────────┤\n",
       "│ 1   │ HarvardUniversity                                 │ 100.0   │\n",
       "│ 2   │ StanfordUniversity                                │ 74.7    │\n",
       "│ 3   │ UniversityofCalifornia,Berkeley                   │ 70.1    │\n",
       "│ 4   │ UniversityofCambridge                             │ 69.6    │\n",
       "│ 5   │ MassachusettsInstituteofTechnology(MIT)           │ 69.2    │\n",
       "│ 6   │ PrincetonUniversity                               │ 62.0    │\n",
       "│ 7   │ UniversityofOxford                                │ 58.9    │\n",
       "│ 8   │ CaliforniaInstituteofTechnology                   │ 57.8    │\n",
       "│ 9   │ ColumbiaUniversity                                │ 56.7    │\n",
       "│ 10  │ UniversityofChicago                               │ 54.2    │\n",
       "⋮\n",
       "│ 20  │ UniversityofCalifornia,SanFrancisco               │ 41.9    │\n",
       "│ 21  │ TheImperialCollegeofScience,TechnologyandMedicine │ 41.6    │\n",
       "│ 22  │ UniversityofMichigan-AnnArbor                     │ 40.8    │\n",
       "│ 23  │ WashingtonUniversityinSt.Louis                    │ 40.8    │\n",
       "│ 24  │ NorthwesternUniversity                            │ 40.0    │\n",
       "│ 25  │ UniversityofToronto                               │ 39.4    │\n",
       "│ 26  │ UniversityofWisconsin-Madison                     │ 39.2    │\n",
       "│ 27  │ KyotoUniversity                                   │ 37.2    │\n",
       "│ 28  │ RockefellerUniversity                             │ 36.1    │\n",
       "│ 29  │ UniversityofColoradoatBoulder                     │ 35.1    │\n",
       "│ 30  │ UniversityofCalifornia,SantaBarbara               │ 33.3    │"
      ]
     },
     "execution_count": 38,
     "metadata": {},
     "output_type": "execute_result"
    }
   ],
   "source": [
    "data_filtrada = [xxx[([x ∈ nombresbuenos for x in xxx.Univ]),:] for xxx in list_dataframes]"
   ]
  },
  {
   "cell_type": "markdown",
   "metadata": {},
   "source": [
    "Ignoren la 1er columna _row_"
   ]
  },
  {
   "cell_type": "code",
   "execution_count": 9,
   "metadata": {},
   "outputs": [
    {
     "name": "stdout",
     "output_type": "stream",
     "text": [
      "72×2 DataFrame\n",
      "│ Row │ Univ                                                  │ Points  │\n",
      "│     │ \u001b[90mString\u001b[39m                                                │ \u001b[90mFloat64\u001b[39m │\n",
      "├─────┼───────────────────────────────────────────────────────┼─────────┤\n",
      "│ 1   │ HarvardUniversity                                     │ 100.0   │\n",
      "│ 2   │ StanfordUniversity                                    │ 74.7    │\n",
      "│ 3   │ UniversityofCalifornia,Berkeley                       │ 70.1    │\n",
      "│ 4   │ UniversityofCambridge                                 │ 69.6    │\n",
      "│ 5   │ MassachusettsInstituteofTechnology(MIT)               │ 69.2    │\n",
      "│ 6   │ PrincetonUniversity                                   │ 62.0    │\n",
      "│ 7   │ UniversityofOxford                                    │ 58.9    │\n",
      "│ 8   │ CaliforniaInstituteofTechnology                       │ 57.8    │\n",
      "│ 9   │ ColumbiaUniversity                                    │ 56.7    │\n",
      "│ 10  │ UniversityofChicago                                   │ 54.2    │\n",
      "│ 11  │ YaleUniversity                                        │ 52.8    │\n",
      "│ 12  │ UniversityofCalifornia,LosAngeles                     │ 51.5    │\n",
      "│ 13  │ CornellUniversity                                     │ 49.0    │\n",
      "│ 14  │ UniversityofCalifornia,SanDiego                       │ 47.8    │\n",
      "│ 15  │ UniversityofWashington                                │ 47.3    │\n",
      "│ 16  │ UniversityCollegeLondon                               │ 45.3    │\n",
      "│ 17  │ UniversityofPennsylvania                              │ 44.5    │\n",
      "│ 18  │ SwissFederalInstituteofTechnologyZurich               │ 43.8    │\n",
      "│ 19  │ TheUniversityofTokyo                                  │ 42.2    │\n",
      "│ 20  │ UniversityofCalifornia,SanFrancisco                   │ 41.9    │\n",
      "│ 21  │ TheImperialCollegeofScience,TechnologyandMedicine     │ 41.6    │\n",
      "│ 22  │ UniversityofMichigan-AnnArbor                         │ 40.8    │\n",
      "│ 23  │ WashingtonUniversityinSt.Louis                        │ 40.8    │\n",
      "│ 24  │ DukeUniversity                                        │ 40.4    │\n",
      "│ 25  │ NorthwesternUniversity                                │ 40.0    │\n",
      "│ 26  │ UniversityofToronto                                   │ 39.4    │\n",
      "│ 27  │ UniversityofWisconsin-Madison                         │ 39.2    │\n",
      "│ 28  │ NewYorkUniversity                                     │ 38.0    │\n",
      "│ 29  │ UniversityofCopenhagen                                │ 37.7    │\n",
      "│ 30  │ UniversityofIllinoisatUrbana-Champaign                │ 37.7    │\n",
      "│ 31  │ KyotoUniversity                                       │ 37.2    │\n",
      "│ 32  │ UniversityofMinnesota,TwinCities                      │ 36.8    │\n",
      "│ 33  │ UniversityofBritishColumbia                           │ 36.7    │\n",
      "│ 34  │ TheUniversityofManchester                             │ 36.4    │\n",
      "│ 35  │ UniversityofNorthCarolinaatChapelHill                 │ 36.4    │\n",
      "│ 36  │ RockefellerUniversity                                 │ 36.1    │\n",
      "│ 37  │ UniversityofColoradoatBoulder                         │ 35.1    │\n",
      "│ 38  │ PierreandMarieCurieUniversity-Paris6                  │ 34.5    │\n",
      "│ 39  │ TheUniversityofEdinburgh                              │ 33.6    │\n",
      "│ 40  │ UniversityofCalifornia,SantaBarbara                   │ 33.3    │\n",
      "│ 41  │ TheUniversityofTexasSouthwesternMedicalCenteratDallas │ 32.9    │\n",
      "│ 42  │ KarolinskaInstitute                                   │ 32.7    │\n",
      "│ 43  │ TheUniversityofTexasatAustin                          │ 32.7    │\n",
      "│ 44  │ TechnicalUniversityMunich                             │ 32.3    │\n",
      "│ 45  │ UniversityofSouthernCalifornia                        │ 32.2    │\n",
      "│ 46  │ King'sCollegeLondon                                   │ 31.6    │\n",
      "│ 47  │ UniversityofMunich                                    │ 31.4    │\n",
      "│ 48  │ UniversityofMaryland,CollegePark                      │ 31.0    │\n",
      "│ 49  │ UniversityofZurich                                    │ 30.5    │\n",
      "│ 50  │ UniversityofHelsinki                                  │ 29.9    │\n",
      "│ 51  │ UniversityofBristol                                   │ 29.7    │\n",
      "│ 52  │ UniversityofCalifornia,Irvine                         │ 29.6    │\n",
      "│ 53  │ UppsalaUniversity                                     │ 29.3    │\n",
      "│ 54  │ VanderbiltUniversity                                  │ 29.3    │\n",
      "│ 55  │ McGillUniversity                                      │ 28.9    │\n",
      "│ 56  │ PurdueUniversity-WestLafayette                        │ 28.9    │\n",
      "│ 57  │ UtrechtUniversity                                     │ 28.7    │\n",
      "│ 58  │ UniversityofOslo                                      │ 28.6    │\n",
      "│ 59  │ CarnegieMellonUniversity                              │ 28.1    │\n",
      "│ 60  │ RiceUniversity                                        │ 27.5    │\n",
      "│ 61  │ BostonUniversity                                      │ 27.2    │\n",
      "│ 62  │ UniversityofCalifornia,Davis                          │ 27.2    │\n",
      "│ 63  │ PennsylvaniaStateUniversity-UniversityPark            │ 26.9    │\n",
      "│ 64  │ TheAustralianNationalUniversity                       │ 26.9    │\n",
      "│ 65  │ TheOhioStateUniversity-Columbus                       │ 26.8    │\n",
      "│ 66  │ McMasterUniversity                                    │ 26.5    │\n",
      "│ 67  │ TheHebrewUniversityofJerusalem                        │ 26.2    │\n",
      "│ 68  │ BrownUniversity                                       │ 26.0    │\n",
      "│ 69  │ UniversityofFlorida                                   │ 26.0    │\n",
      "│ 70  │ LeidenUniversity                                      │ 25.6    │\n",
      "│ 71  │ OsakaUniversity                                       │ 25.5    │\n",
      "│ 72  │ UniversityofUtah                                      │ 25.4    │"
     ]
    }
   ],
   "source": [
    "show(sort(data_filtrada[14], [:Points], rev = true), allrows = true)"
   ]
  },
  {
   "cell_type": "code",
   "execution_count": 47,
   "metadata": {},
   "outputs": [
    {
     "name": "stdout",
     "output_type": "stream",
     "text": [
      "30×2 DataFrame\n",
      "│ Row │ Univ                                              │ Points  │\n",
      "│     │ \u001b[90mString\u001b[39m                                            │ \u001b[90mFloat64\u001b[39m │\n",
      "├─────┼───────────────────────────────────────────────────┼─────────┤\n",
      "│ 1   │ CornellUniversity                                 │ 55.5    │\n",
      "│ 2   │ ColumbiaUniversity                                │ 61.2    │\n",
      "│ 3   │ CaliforniaInstituteofTechnology                   │ 69.0    │\n",
      "│ 4   │ HarvardUniversity                                 │ 100.0   │\n",
      "│ 5   │ KyotoUniversity                                   │ 48.3    │\n",
      "│ 6   │ MassachusettsInstituteofTechnology(MIT)           │ 72.4    │\n",
      "│ 7   │ NorthwesternUniversity                            │ 39.5    │\n",
      "│ 8   │ PrincetonUniversity                               │ 63.6    │\n",
      "│ 9   │ RockefellerUniversity                             │ 40.2    │\n",
      "│ 10  │ SwissFederalInstituteofTechnologyZurich           │ 43.2    │\n",
      "│ 11  │ StanfordUniversity                                │ 77.2    │\n",
      "│ 12  │ TheImperialCollegeofScience,TechnologyandMedicine │ 46.4    │\n",
      "│ 13  │ TheUniversityofTokyo                              │ 51.9    │\n",
      "│ 14  │ UniversityofCalifornia,SantaBarbara               │ 37.0    │\n",
      "│ 15  │ UniversityofColoradoatBoulder                     │ 37.8    │\n",
      "│ 16  │ UniversityCollegeLondon                           │ 44.3    │\n",
      "│ 17  │ UniversityofToronto                               │ 44.6    │\n",
      "│ 18  │ UniversityofWashington                            │ 49.1    │\n",
      "│ 19  │ UniversityofMichigan-AnnArbor                     │ 49.3    │\n",
      "│ 20  │ UniversityofWisconsin-Madison                     │ 50.0    │\n",
      "│ 21  │ UniversityofCalifornia,SanFrancisco               │ 50.8    │\n",
      "│ 22  │ UniversityofCalifornia,LosAngeles                 │ 51.6    │\n",
      "│ 23  │ UniversityofPennsylvania                          │ 51.8    │\n",
      "│ 24  │ UniversityofCalifornia,SanDiego                   │ 53.8    │\n",
      "│ 25  │ UniversityofChicago                               │ 60.5    │\n",
      "│ 26  │ UniversityofOxford                                │ 61.4    │\n",
      "│ 27  │ UniversityofCalifornia,Berkeley                   │ 74.2    │\n",
      "│ 28  │ UniversityofCambridge                             │ 76.2    │\n",
      "│ 29  │ WashingtonUniversityinSt.Louis                    │ 43.1    │\n",
      "│ 30  │ YaleUniversity                                    │ 58.6    │"
     ]
    }
   ],
   "source": [
    "show(sort(data_filtrada[2], by = first), allrows=true) "
   ]
  },
  {
   "cell_type": "code",
   "execution_count": 11,
   "metadata": {},
   "outputs": [
    {
     "name": "stdout",
     "output_type": "stream",
     "text": [
      "72×2 DataFrame\n",
      "│ Row │ Univ                                                  │ Points  │\n",
      "│     │ \u001b[90mString\u001b[39m                                                │ \u001b[90mFloat64\u001b[39m │\n",
      "├─────┼───────────────────────────────────────────────────────┼─────────┤\n",
      "│ 1   │ BostonUniversity                                      │ 26.3    │\n",
      "│ 2   │ BrownUniversity                                       │ 26.8    │\n",
      "│ 3   │ CarnegieMellonUniversity                              │ 30.3    │\n",
      "│ 4   │ CornellUniversity                                     │ 55.5    │\n",
      "│ 5   │ ColumbiaUniversity                                    │ 61.2    │\n",
      "│ 6   │ CaliforniaInstituteofTechnology                       │ 69.0    │\n",
      "│ 7   │ DukeUniversity                                        │ 38.9    │\n",
      "│ 8   │ HarvardUniversity                                     │ 100.0   │\n",
      "│ 9   │ King'sCollegeLondon                                   │ 28.0    │\n",
      "│ 10  │ KarolinskaInstitute                                   │ 33.0    │\n",
      "│ 11  │ KyotoUniversity                                       │ 48.3    │\n",
      "│ 12  │ LeidenUniversity                                      │ 29.8    │\n",
      "│ 13  │ McMasterUniversity                                    │ 26.0    │\n",
      "│ 14  │ McGillUniversity                                      │ 30.4    │\n",
      "│ 15  │ MassachusettsInstituteofTechnology(MIT)               │ 72.4    │\n",
      "│ 16  │ NewYorkUniversity                                     │ 38.7    │\n",
      "│ 17  │ NorthwesternUniversity                                │ 39.5    │\n",
      "│ 18  │ OsakaUniversity                                       │ 31.5    │\n",
      "│ 19  │ PurdueUniversity-WestLafayette                        │ 28.7    │\n",
      "│ 20  │ PennsylvaniaStateUniversity-UniversityPark            │ 33.5    │\n",
      "│ 21  │ PierreandMarieCurieUniversity-Paris6                  │ 33.9    │\n",
      "│ 22  │ PrincetonUniversity                                   │ 63.6    │\n",
      "│ 23  │ RiceUniversity                                        │ 28.3    │\n",
      "│ 24  │ RockefellerUniversity                                 │ 40.2    │\n",
      "│ 25  │ SwissFederalInstituteofTechnologyZurich               │ 43.2    │\n",
      "│ 26  │ StanfordUniversity                                    │ 77.2    │\n",
      "│ 27  │ TheHebrewUniversityofJerusalem                        │ 25.9    │\n",
      "│ 28  │ TheUniversityofManchester                             │ 27.9    │\n",
      "│ 29  │ TheOhioStateUniversity-Columbus                       │ 28.5    │\n",
      "│ 30  │ TheAustralianNationalUniversity                       │ 31.9    │\n",
      "│ 31  │ TheUniversityofEdinburgh                              │ 32.9    │\n",
      "│ 32  │ TechnicalUniversityMunich                             │ 33.3    │\n",
      "│ 33  │ TheUniversityofTexasatAustin                          │ 34.8    │\n",
      "│ 34  │ TheUniversityofTexasSouthwesternMedicalCenteratDallas │ 36.3    │\n",
      "│ 35  │ TheImperialCollegeofScience,TechnologyandMedicine     │ 46.4    │\n",
      "│ 36  │ TheUniversityofTokyo                                  │ 51.9    │\n",
      "│ 37  │ UniversityofUtah                                      │ 25.4    │\n",
      "│ 38  │ UppsalaUniversity                                     │ 28.4    │\n",
      "│ 39  │ UniversityofHelsinki                                  │ 28.6    │\n",
      "│ 40  │ UniversityofOslo                                      │ 29.2    │\n",
      "│ 41  │ UniversityofFlorida                                   │ 29.3    │\n",
      "│ 42  │ UniversityofBristol                                   │ 30.6    │\n",
      "│ 43  │ UniversityofCopenhagen                                │ 31.0    │\n",
      "│ 44  │ UniversityofMaryland,CollegePark                      │ 31.1    │\n",
      "│ 45  │ UniversityofZurich                                    │ 31.1    │\n",
      "│ 46  │ UniversityofNorthCarolinaatChapelHill                 │ 31.2    │\n",
      "│ 47  │ UniversityofCalifornia,Irvine                         │ 31.4    │\n",
      "│ 48  │ UniversityofMunich                                    │ 32.4    │\n",
      "│ 49  │ UniversityofSouthernCalifornia                        │ 32.5    │\n",
      "│ 50  │ UniversityofCalifornia,Davis                          │ 33.6    │\n",
      "│ 51  │ UtrechtUniversity                                     │ 34.9    │\n",
      "│ 52  │ UniversityofBritishColumbia                           │ 36.3    │\n",
      "│ 53  │ UniversityofCalifornia,SantaBarbara                   │ 37.0    │\n",
      "│ 54  │ UniversityofColoradoatBoulder                         │ 37.8    │\n",
      "│ 55  │ UniversityofMinnesota,TwinCities                      │ 38.3    │\n",
      "│ 56  │ UniversityofIllinoisatUrbana-Champaign                │ 43.3    │\n",
      "│ 57  │ UniversityCollegeLondon                               │ 44.3    │\n",
      "│ 58  │ UniversityofToronto                                   │ 44.6    │\n",
      "│ 59  │ UniversityofWashington                                │ 49.1    │\n",
      "│ 60  │ UniversityofMichigan-AnnArbor                         │ 49.3    │\n",
      "│ 61  │ UniversityofWisconsin-Madison                         │ 50.0    │\n",
      "│ 62  │ UniversityofCalifornia,SanFrancisco                   │ 50.8    │\n",
      "│ 63  │ UniversityofCalifornia,LosAngeles                     │ 51.6    │\n",
      "│ 64  │ UniversityofPennsylvania                              │ 51.8    │\n",
      "│ 65  │ UniversityofCalifornia,SanDiego                       │ 53.8    │\n",
      "│ 66  │ UniversityofChicago                                   │ 60.5    │\n",
      "│ 67  │ UniversityofOxford                                    │ 61.4    │\n",
      "│ 68  │ UniversityofCalifornia,Berkeley                       │ 74.2    │\n",
      "│ 69  │ UniversityofCambridge                                 │ 76.2    │\n",
      "│ 70  │ VanderbiltUniversity                                  │ 35.1    │\n",
      "│ 71  │ WashingtonUniversityinSt.Louis                        │ 43.1    │\n",
      "│ 72  │ YaleUniversity                                        │ 58.6    │"
     ]
    }
   ],
   "source": [
    "show(sort(data_filtrada[2], by = first), allrows=true) "
   ]
  },
  {
   "cell_type": "code",
   "execution_count": 20,
   "metadata": {},
   "outputs": [
    {
     "name": "stdout",
     "output_type": "stream",
     "text": [
      "20×2 DataFrame\n",
      "│ Row │ Univ                                              │ Points  │\n",
      "│     │ \u001b[90mString\u001b[39m                                            │ \u001b[90mFloat64\u001b[39m │\n",
      "├─────┼───────────────────────────────────────────────────┼─────────┤\n",
      "│ 1   │ CornellUniversity                                 │ 55.5    │\n",
      "│ 2   │ ColumbiaUniversity                                │ 61.2    │\n",
      "│ 3   │ CaliforniaInstituteofTechnology                   │ 69.0    │\n",
      "│ 4   │ MassachusettsInstituteofTechnology(MIT)           │ 72.4    │\n",
      "│ 5   │ PrincetonUniversity                               │ 63.6    │\n",
      "│ 6   │ StanfordUniversity                                │ 77.2    │\n",
      "│ 7   │ TheImperialCollegeofScience,TechnologyandMedicine │ 46.4    │\n",
      "│ 8   │ TheUniversityofTokyo                              │ 51.9    │\n",
      "│ 9   │ UniversityCollegeLondon                           │ 44.3    │\n",
      "│ 10  │ UniversityofWashington                            │ 49.1    │\n",
      "│ 11  │ UniversityofMichigan-AnnArbor                     │ 49.3    │\n",
      "│ 12  │ UniversityofCalifornia,SanFrancisco               │ 50.8    │\n",
      "│ 13  │ UniversityofCalifornia,LosAngeles                 │ 51.6    │\n",
      "│ 14  │ UniversityofPennsylvania                          │ 51.8    │\n",
      "│ 15  │ UniversityofCalifornia,SanDiego                   │ 53.8    │\n",
      "│ 16  │ UniversityofChicago                               │ 60.5    │\n",
      "│ 17  │ UniversityofOxford                                │ 61.4    │\n",
      "│ 18  │ UniversityofCalifornia,Berkeley                   │ 74.2    │\n",
      "│ 19  │ UniversityofCambridge                             │ 76.2    │\n",
      "│ 20  │ YaleUniversity                                    │ 58.6    │"
     ]
    }
   ],
   "source": [
    "show(sort(data_filtrada[2], by = first), allrows=true) "
   ]
  },
  {
   "cell_type": "code",
   "execution_count": 49,
   "metadata": {},
   "outputs": [
    {
     "data": {
      "text/html": [
       "<table class=\"data-frame\"><thead><tr><th></th><th>Univ</th><th>Points</th></tr><tr><th></th><th>String</th><th>Float64</th></tr></thead><tbody><p>72 rows × 2 columns</p><tr><th>1</th><td>BostonUniversity</td><td>25.9</td></tr><tr><th>2</th><td>BrownUniversity</td><td>33.9</td></tr><tr><th>3</th><td>CarnegieMellonUniversity</td><td>31.2</td></tr><tr><th>4</th><td>CornellUniversity</td><td>56.9</td></tr><tr><th>5</th><td>ColumbiaUniversity</td><td>59.1</td></tr><tr><th>6</th><td>CaliforniaInstituteofTechnology</td><td>76.3</td></tr><tr><th>7</th><td>DukeUniversity</td><td>40.4</td></tr><tr><th>8</th><td>HarvardUniversity</td><td>100.0</td></tr><tr><th>9</th><td>King'sCollegeLondon</td><td>29.2</td></tr><tr><th>10</th><td>KarolinskaInstitute</td><td>36.8</td></tr><tr><th>11</th><td>KyotoUniversity</td><td>43.6</td></tr><tr><th>12</th><td>LeidenUniversity</td><td>28.9</td></tr><tr><th>13</th><td>McMasterUniversity</td><td>27.7</td></tr><tr><th>14</th><td>McGillUniversity</td><td>28.4</td></tr><tr><th>15</th><td>MassachusettsInstituteofTechnology(MIT)</td><td>70.6</td></tr><tr><th>16</th><td>NewYorkUniversity</td><td>32.7</td></tr><tr><th>17</th><td>NorthwesternUniversity</td><td>44.4</td></tr><tr><th>18</th><td>OsakaUniversity</td><td>33.0</td></tr><tr><th>19</th><td>PurdueUniversity-WestLafayette</td><td>28.3</td></tr><tr><th>20</th><td>PierreandMarieCurieUniversity-Paris6</td><td>30.3</td></tr><tr><th>21</th><td>PennsylvaniaStateUniversity-UniversityPark</td><td>36.5</td></tr><tr><th>22</th><td>PrincetonUniversity</td><td>62.5</td></tr><tr><th>23</th><td>RiceUniversity</td><td>31.2</td></tr><tr><th>24</th><td>RockefellerUniversity</td><td>44.8</td></tr><tr><th>25</th><td>SwissFederalInstituteofTechnologyZurich</td><td>45.6</td></tr><tr><th>26</th><td>StanfordUniversity</td><td>83.5</td></tr><tr><th>27</th><td>TheHebrewUniversityofJerusalem</td><td>26.2</td></tr><tr><th>28</th><td>TheUniversityofManchester</td><td>27.1</td></tr><tr><th>29</th><td>TheOhioStateUniversity-Columbus</td><td>28.1</td></tr><tr><th>30</th><td>TechnicalUniversityMunich</td><td>31.3</td></tr><tr><th>&vellip;</th><td>&vellip;</td><td>&vellip;</td></tr></tbody></table>"
      ],
      "text/latex": [
       "\\begin{tabular}{r|cc}\n",
       "\t& Univ & Points\\\\\n",
       "\t\\hline\n",
       "\t& String & Float64\\\\\n",
       "\t\\hline\n",
       "\t1 & BostonUniversity & 25.9 \\\\\n",
       "\t2 & BrownUniversity & 33.9 \\\\\n",
       "\t3 & CarnegieMellonUniversity & 31.2 \\\\\n",
       "\t4 & CornellUniversity & 56.9 \\\\\n",
       "\t5 & ColumbiaUniversity & 59.1 \\\\\n",
       "\t6 & CaliforniaInstituteofTechnology & 76.3 \\\\\n",
       "\t7 & DukeUniversity & 40.4 \\\\\n",
       "\t8 & HarvardUniversity & 100.0 \\\\\n",
       "\t9 & King'sCollegeLondon & 29.2 \\\\\n",
       "\t10 & KarolinskaInstitute & 36.8 \\\\\n",
       "\t11 & KyotoUniversity & 43.6 \\\\\n",
       "\t12 & LeidenUniversity & 28.9 \\\\\n",
       "\t13 & McMasterUniversity & 27.7 \\\\\n",
       "\t14 & McGillUniversity & 28.4 \\\\\n",
       "\t15 & MassachusettsInstituteofTechnology(MIT) & 70.6 \\\\\n",
       "\t16 & NewYorkUniversity & 32.7 \\\\\n",
       "\t17 & NorthwesternUniversity & 44.4 \\\\\n",
       "\t18 & OsakaUniversity & 33.0 \\\\\n",
       "\t19 & PurdueUniversity-WestLafayette & 28.3 \\\\\n",
       "\t20 & PierreandMarieCurieUniversity-Paris6 & 30.3 \\\\\n",
       "\t21 & PennsylvaniaStateUniversity-UniversityPark & 36.5 \\\\\n",
       "\t22 & PrincetonUniversity & 62.5 \\\\\n",
       "\t23 & RiceUniversity & 31.2 \\\\\n",
       "\t24 & RockefellerUniversity & 44.8 \\\\\n",
       "\t25 & SwissFederalInstituteofTechnologyZurich & 45.6 \\\\\n",
       "\t26 & StanfordUniversity & 83.5 \\\\\n",
       "\t27 & TheHebrewUniversityofJerusalem & 26.2 \\\\\n",
       "\t28 & TheUniversityofManchester & 27.1 \\\\\n",
       "\t29 & TheOhioStateUniversity-Columbus & 28.1 \\\\\n",
       "\t30 & TechnicalUniversityMunich & 31.3 \\\\\n",
       "\t$\\dots$ & $\\dots$ & $\\dots$ \\\\\n",
       "\\end{tabular}\n"
      ],
      "text/plain": [
       "72×2 DataFrame\n",
       "│ Row │ Univ                                │ Points  │\n",
       "│     │ \u001b[90mString\u001b[39m                              │ \u001b[90mFloat64\u001b[39m │\n",
       "├─────┼─────────────────────────────────────┼─────────┤\n",
       "│ 1   │ BostonUniversity                    │ 25.9    │\n",
       "│ 2   │ BrownUniversity                     │ 33.9    │\n",
       "│ 3   │ CarnegieMellonUniversity            │ 31.2    │\n",
       "│ 4   │ CornellUniversity                   │ 56.9    │\n",
       "│ 5   │ ColumbiaUniversity                  │ 59.1    │\n",
       "│ 6   │ CaliforniaInstituteofTechnology     │ 76.3    │\n",
       "│ 7   │ DukeUniversity                      │ 40.4    │\n",
       "│ 8   │ HarvardUniversity                   │ 100.0   │\n",
       "│ 9   │ King'sCollegeLondon                 │ 29.2    │\n",
       "│ 10  │ KarolinskaInstitute                 │ 36.8    │\n",
       "⋮\n",
       "│ 62  │ UniversityofWashington              │ 50.3    │\n",
       "│ 63  │ UniversityofCalifornia,LosAngeles   │ 53.8    │\n",
       "│ 64  │ UniversityofCalifornia,SanDiego     │ 54.4    │\n",
       "│ 65  │ UniversityofCalifornia,SanFrancisco │ 55.3    │\n",
       "│ 66  │ UniversityofChicago                 │ 57.0    │\n",
       "│ 67  │ UniversityofOxford                  │ 59.5    │\n",
       "│ 68  │ UniversityofCambridge               │ 73.4    │\n",
       "│ 69  │ UniversityofCalifornia,Berkeley     │ 74.0    │\n",
       "│ 70  │ VanderbiltUniversity                │ 40.4    │\n",
       "│ 71  │ WashingtonUniversityinSt.Louis      │ 47.8    │\n",
       "│ 72  │ YaleUniversity                      │ 61.1    │"
      ]
     },
     "execution_count": 49,
     "metadata": {},
     "output_type": "execute_result"
    }
   ],
   "source": [
    "sort(data_filtrada[1], by = first)"
   ]
  },
  {
   "cell_type": "markdown",
   "metadata": {},
   "source": [
    "## captura de datos"
   ]
  },
  {
   "cell_type": "code",
   "execution_count": 39,
   "metadata": {},
   "outputs": [],
   "source": [
    "puntuaciones = hcat([(sort(d, by = first).Points) for d in data_filtrada]...)/100;"
   ]
  },
  {
   "cell_type": "code",
   "execution_count": 40,
   "metadata": {},
   "outputs": [],
   "source": [
    "poset_mn = puntuaciones |> fuzzy;"
   ]
  },
  {
   "cell_type": "code",
   "execution_count": 41,
   "metadata": {},
   "outputs": [],
   "source": [
    "poset_m3 = puntuaciones |> m3;"
   ]
  },
  {
   "cell_type": "code",
   "execution_count": 42,
   "metadata": {},
   "outputs": [],
   "source": [
    "poset_m2 = puntuaciones |> m2;"
   ]
  },
  {
   "cell_type": "code",
   "execution_count": 43,
   "metadata": {},
   "outputs": [],
   "source": [
    "writedlm(\"figs/poset0p1_univ_30.dat\", αcut_poset(poset_mn, 0.1))\n",
    "#;./script.wl figs/poset0p1_univ.dat"
   ]
  },
  {
   "cell_type": "code",
   "execution_count": 44,
   "metadata": {},
   "outputs": [
    {
     "name": "stdout",
     "output_type": "stream",
     "text": [
      "figs/poset0p1_univ_30.png\n"
     ]
    }
   ],
   "source": [
    ";./script.wl figs/poset0p1_univ_30.dat"
   ]
  },
  {
   "cell_type": "markdown",
   "metadata": {},
   "source": [
    "La grafica de abajo no me gusta porque muestra que el fuzzy y los cortes $\\alpha$ eliminan mucha informacion."
   ]
  },
  {
   "cell_type": "markdown",
   "metadata": {},
   "source": [
    "![ejemplo](figs/poset0p1_univ_30.png)"
   ]
  },
  {
   "cell_type": "code",
   "execution_count": 45,
   "metadata": {},
   "outputs": [],
   "source": [
    "writedlm(\"figs/poset0p95_univ_30.dat\", αcut_poset(poset_mn, .95))"
   ]
  },
  {
   "cell_type": "code",
   "execution_count": 46,
   "metadata": {
    "scrolled": true
   },
   "outputs": [
    {
     "name": "stdout",
     "output_type": "stream",
     "text": [
      "figs/poset0p95_univ_30.png\n"
     ]
    }
   ],
   "source": [
    ";./script.wl figs/poset0p95_univ_30.dat"
   ]
  },
  {
   "cell_type": "markdown",
   "metadata": {},
   "source": [
    "![ejemplo](figs/poset0p95_univ_30.png)"
   ]
  },
  {
   "cell_type": "markdown",
   "metadata": {},
   "source": [
    "$$\n",
    "\\mathrm{SH}(\\tilde x, \\tilde y) =\n",
    "\\left\\{\\begin{array}{ll}\n",
    "\\frac{\\sum_{i} \\min \\left\\{p_{i}(x), p_{i}(y)\\right\\}}{\\sum_{i} p_{i}(x)} & \\text { if } \\sum_{i} p_{i}(x) \\neq 0 \\\\\n",
    "1 & \\text { otherwise }\n",
    "\\end{array}\\right.\n",
    "$$"
   ]
  },
  {
   "cell_type": "code",
   "execution_count": 21,
   "metadata": {},
   "outputs": [],
   "source": [
    "writedlm(\"figs/poset0p55_univ_20.dat\", αcut_poset(poset_mn, .5))"
   ]
  },
  {
   "cell_type": "code",
   "execution_count": 23,
   "metadata": {},
   "outputs": [
    {
     "name": "stdout",
     "output_type": "stream",
     "text": [
      "figs/poset0p55_univ_20.png\n"
     ]
    }
   ],
   "source": [
    ";./script.wl figs/poset0p55_univ_20.dat"
   ]
  },
  {
   "cell_type": "markdown",
   "metadata": {},
   "source": [
    "![ejemplo](figs/poset0p55_univ_20.png)"
   ]
  },
  {
   "cell_type": "markdown",
   "metadata": {},
   "source": [
    "#### cosas viejas"
   ]
  },
  {
   "cell_type": "code",
   "execution_count": null,
   "metadata": {},
   "outputs": [],
   "source": [
    "writedlm(\"/home/david/poset0p1_univ.dat\", αcut_poset(poset_mn, .1))"
   ]
  },
  {
   "cell_type": "code",
   "execution_count": null,
   "metadata": {},
   "outputs": [],
   "source": [
    "writedlm(\"/home/david/poset0p5_univ.dat\", αcut_poset(poset_mn, .5))"
   ]
  },
  {
   "cell_type": "code",
   "execution_count": null,
   "metadata": {},
   "outputs": [],
   "source": [
    "writedlm(\"/home/david/poset0p7_univ.dat\", αcut_poset(poset_mn, .7))"
   ]
  },
  {
   "cell_type": "code",
   "execution_count": null,
   "metadata": {},
   "outputs": [],
   "source": [
    "writedlm(\"/home/david/poset0p95_univ.dat\", αcut_poset(poset_mn, .95))"
   ]
  },
  {
   "cell_type": "code",
   "execution_count": null,
   "metadata": {},
   "outputs": [],
   "source": [
    "writedlm(\"/home/david/poset0p97_univ.dat\", αcut_poset(poset_mn, .97))"
   ]
  },
  {
   "cell_type": "markdown",
   "metadata": {},
   "source": [
    "## Puntuaciones $1/n$"
   ]
  },
  {
   "cell_type": "code",
   "execution_count": 24,
   "metadata": {},
   "outputs": [
    {
     "data": {
      "text/plain": [
       "14-element Array{Array{Int64,1},1}:\n",
       " [6, 3, 19, 18, 4, 5, 20, 17, 2, 16, 1, 15, 14, 13, 12, 8, 11, 7, 10, 9]\n",
       " [6, 19, 18, 4, 3, 5, 17, 2, 16, 20, 1, 15, 8, 14, 13, 12, 11, 10, 7, 9]\n",
       " [19, 6, 18, 4, 3, 2, 5, 17, 16, 20, 1, 15, 14, 13, 12, 11, 8, 10, 7, 9]\n",
       " [19, 6, 18, 4, 3, 2, 5, 17, 16, 20, 1, 15, 14, 13, 12, 11, 8, 10, 7, 9]\n",
       " [6, 19, 18, 4, 3, 2, 5, 17, 16, 20, 1, 15, 14, 13, 12, 11, 8, 10, 7, 9]\n",
       " [6, 19, 18, 4, 3, 2, 5, 17, 16, 20, 1, 15, 14, 13, 12, 11, 8, 10, 9, 7]\n",
       " [6, 19, 18, 4, 3, 2, 5, 17, 16, 20, 1, 15, 14, 13, 12, 11, 8, 10, 9, 7]\n",
       " [19, 6, 4, 18, 3, 5, 2, 17, 16, 20, 1, 15, 14, 13, 12, 11, 8, 10, 9, 7]\n",
       " [6, 4, 19, 18, 3, 5, 2, 17, 16, 20, 15, 1, 14, 13, 12, 11, 10, 8, 9, 7]\n",
       " [6, 4, 19, 18, 3, 5, 2, 17, 16, 20, 15, 1, 14, 13, 12, 11, 8, 10, 9, 7]\n",
       " [6, 19, 4, 18, 3, 5, 2, 17, 16, 20, 15, 1, 14, 13, 12, 11, 8, 10, 9, 7]\n",
       " [6, 4, 19, 18, 5, 3, 2, 16, 17, 20, 15, 1, 14, 13, 12, 11, 10, 8, 7, 9]\n",
       " [6, 4, 19, 18, 5, 3, 2, 17, 16, 20, 15, 1, 14, 13, 12, 10, 11, 8, 9, 7]\n",
       " [6, 19, 18, 4, 5, 17, 3, 2, 16, 20, 15, 1, 14, 13, 12, 11, 8, 10, 7, 9]"
      ]
     },
     "execution_count": 24,
     "metadata": {},
     "output_type": "execute_result"
    }
   ],
   "source": [
    "ranks_univs = [sortperm(puntuaciones[:,x], rev = true) for x in 1:14]"
   ]
  },
  {
   "cell_type": "code",
   "execution_count": 25,
   "metadata": {},
   "outputs": [
    {
     "data": {
      "text/plain": [
       "20×14 Array{Float64,2}:\n",
       " 0.0909091  0.0909091  0.0909091  …  0.0833333  0.0833333  0.0833333\n",
       " 0.111111   0.125      0.166667      0.142857   0.142857   0.125\n",
       " 0.5        0.2        0.2           0.166667   0.166667   0.142857\n",
       " 0.2        0.25       0.25          0.5        0.5        0.25\n",
       " 0.166667   0.166667   0.142857      0.2        0.2        0.2\n",
       " 1.0        1.0        0.5        …  1.0        1.0        1.0\n",
       " 0.0555556  0.0526316  0.0526316     0.0526316  0.05       0.0526316\n",
       " 0.0625     0.0769231  0.0588235     0.0555556  0.0555556  0.0588235\n",
       " 0.05       0.05       0.05          0.05       0.0526316  0.05\n",
       " 0.0526316  0.0555556  0.0555556     0.0588235  0.0625     0.0555556\n",
       " 0.0588235  0.0588235  0.0625     …  0.0625     0.0588235  0.0625\n",
       " 0.0666667  0.0625     0.0666667     0.0666667  0.0666667  0.0666667\n",
       " 0.0714286  0.0666667  0.0714286     0.0714286  0.0714286  0.0714286\n",
       " 0.0769231  0.0714286  0.0769231     0.0769231  0.0769231  0.0769231\n",
       " 0.0833333  0.0833333  0.0833333     0.0909091  0.0909091  0.0909091\n",
       " 0.1        0.111111   0.111111   …  0.125      0.111111   0.111111\n",
       " 0.125      0.142857   0.125         0.111111   0.125      0.166667\n",
       " 0.25       0.333333   0.333333      0.25       0.25       0.333333\n",
       " 0.333333   0.5        1.0           0.333333   0.333333   0.5\n",
       " 0.142857   0.1        0.1           0.1        0.1        0.1"
      ]
     },
     "execution_count": 25,
     "metadata": {},
     "output_type": "execute_result"
    }
   ],
   "source": [
    "puntuaciones_preposet = mn(ranks_univs)"
   ]
  },
  {
   "cell_type": "code",
   "execution_count": 26,
   "metadata": {},
   "outputs": [
    {
     "data": {
      "text/plain": [
       "20×20 Array{Float64,2}:\n",
       " 1.0       0.598206  0.412364  0.265835  …  0.300557  0.160079   0.850585\n",
       " 1.0       1.0       0.689333  0.444387     0.50243   0.267598   0.977998\n",
       " 1.0       1.0       1.0       0.57968      0.667638  0.36646    1.0\n",
       " 1.0       1.0       0.8992    1.0          0.844898  0.515217   1.0\n",
       " 1.0       0.941973  0.736     0.501289     0.566764  0.301863   1.0\n",
       " 1.0       1.0       1.0       1.0       …  1.0       0.804348   1.0\n",
       " 0.587763  0.351603  0.242372  0.156248     0.176656  0.0940885  0.499942\n",
       " 0.680779  0.407246  0.280729  0.180975     0.204613  0.108978   0.57906\n",
       " 0.58538   0.350178  0.241389  0.155615     0.17594   0.0937071  0.497916\n",
       " 0.642346  0.384256  0.26488   0.170758     0.193061  0.102826   0.54637\n",
       " 0.703976  0.421123  0.290294  0.187142  …  0.211585  0.112692   0.598791\n",
       " 0.757099  0.452901  0.3122    0.201264     0.227551  0.121196   0.643977\n",
       " 0.810935  0.485106  0.3344    0.215575     0.243732  0.129814   0.689769\n",
       " 0.873016  0.522244  0.36      0.232078     0.262391  0.139752   0.742574\n",
       " 0.950617  0.590821  0.407273  0.262553     0.296846  0.158103   0.840084\n",
       " 1.0       0.759574  0.5236    0.337545  …  0.381633  0.203261   0.970297\n",
       " 1.0       0.839458  0.595333  0.388946     0.439747  0.234213   0.987624\n",
       " 1.0       1.0       0.916     0.747292     1.0       0.532609   1.0\n",
       " 1.0       1.0       0.944     0.855596     1.0       1.0        1.0\n",
       " 1.0       0.687814  0.4848    0.312532     0.353353  0.188199   1.0"
      ]
     },
     "execution_count": 26,
     "metadata": {},
     "output_type": "execute_result"
    }
   ],
   "source": [
    "poset_mn_old = puntuaciones_preposet |> fuzzy"
   ]
  },
  {
   "cell_type": "code",
   "execution_count": 27,
   "metadata": {},
   "outputs": [],
   "source": [
    "writedlm(\"figs/poset0p95_univ_o_20.dat\", αcut_poset(poset_mn_old, .95))"
   ]
  },
  {
   "cell_type": "code",
   "execution_count": 28,
   "metadata": {
    "scrolled": true
   },
   "outputs": [
    {
     "name": "stdout",
     "output_type": "stream",
     "text": [
      "figs/poset0p95_univ_o_20.png\n"
     ]
    }
   ],
   "source": [
    ";./script.wl figs/poset0p95_univ_o_20.dat"
   ]
  },
  {
   "cell_type": "markdown",
   "metadata": {},
   "source": [
    "![ejemplo](figs/poset0p95_univ_o_20.png)"
   ]
  },
  {
   "cell_type": "code",
   "execution_count": 64,
   "metadata": {},
   "outputs": [],
   "source": [
    "writedlm(\"figs/poset0p95_univ_o_20.dat\", αcut_poset(poset_mn_old, .55))"
   ]
  },
  {
   "cell_type": "code",
   "execution_count": 65,
   "metadata": {
    "scrolled": false
   },
   "outputs": [
    {
     "name": "stdout",
     "output_type": "stream",
     "text": [
      "figs/poset0p55_univx_o.png\n"
     ]
    }
   ],
   "source": [
    ";./script.wl figs/poset0p55_univx_o.dat"
   ]
  },
  {
   "cell_type": "markdown",
   "metadata": {},
   "source": [
    "![ejemplo](figs/poset0p55_univx_o.png)"
   ]
  },
  {
   "cell_type": "markdown",
   "metadata": {},
   "source": [
    "# Poset $m^2$ y $m^3$"
   ]
  },
  {
   "cell_type": "code",
   "execution_count": 16,
   "metadata": {},
   "outputs": [
    {
     "data": {
      "text/plain": [
       "(72, 14)"
      ]
     },
     "execution_count": 16,
     "metadata": {},
     "output_type": "execute_result"
    }
   ],
   "source": [
    "puntuaciones |> size"
   ]
  },
  {
   "cell_type": "code",
   "execution_count": 30,
   "metadata": {},
   "outputs": [],
   "source": [
    "poset_m3 = puntuaciones |> m3;"
   ]
  },
  {
   "cell_type": "code",
   "execution_count": 31,
   "metadata": {},
   "outputs": [],
   "source": [
    "poset_m3 |> pareja_matrizadyacencia;"
   ]
  },
  {
   "cell_type": "code",
   "execution_count": 32,
   "metadata": {},
   "outputs": [],
   "source": [
    "poset_m2 = puntuaciones |> m2;"
   ]
  },
  {
   "cell_type": "code",
   "execution_count": 34,
   "metadata": {},
   "outputs": [],
   "source": [
    "poset_m2 |> pareja_matrizadyacencia;"
   ]
  },
  {
   "cell_type": "code",
   "execution_count": 35,
   "metadata": {},
   "outputs": [],
   "source": [
    "writedlm(\"figs/posetm3_univ_20.dat\", poset_m3 |> pareja_matrizadyacencia)"
   ]
  },
  {
   "cell_type": "code",
   "execution_count": 36,
   "metadata": {},
   "outputs": [
    {
     "name": "stdout",
     "output_type": "stream",
     "text": [
      "figs/posetm3_univ_20.png\n"
     ]
    }
   ],
   "source": [
    ";./script.wl figs/posetm3_univ_20.dat"
   ]
  },
  {
   "cell_type": "markdown",
   "metadata": {},
   "source": [
    "![ejemplo](figs/posetm3_univ_20.png)"
   ]
  },
  {
   "cell_type": "code",
   "execution_count": 38,
   "metadata": {},
   "outputs": [],
   "source": [
    "writedlm(\"figs/posetm2_univ.dat\", poset_m2 |> pareja_matrizadyacencia)"
   ]
  },
  {
   "cell_type": "code",
   "execution_count": 39,
   "metadata": {},
   "outputs": [
    {
     "name": "stdout",
     "output_type": "stream",
     "text": [
      "figs/posetm2_univ.png\n"
     ]
    }
   ],
   "source": [
    ";./script.wl figs/posetm2_univ.dat"
   ]
  },
  {
   "cell_type": "markdown",
   "metadata": {},
   "source": [
    "![ejemplo](figs/posetm2_univ.png)"
   ]
  },
  {
   "cell_type": "code",
   "execution_count": null,
   "metadata": {},
   "outputs": [],
   "source": [
    "writedlm(\"/home/david/poset0p97_univ_.dat\", αcut_poset(poset_m3 |> fuzzy, .97))"
   ]
  },
  {
   "cell_type": "code",
   "execution_count": null,
   "metadata": {},
   "outputs": [],
   "source": [
    "writedlm(\"/home/david/poset0p85_univ_.dat\", αcut_poset(poset_m3 |> fuzzy, .85))"
   ]
  },
  {
   "cell_type": "code",
   "execution_count": null,
   "metadata": {},
   "outputs": [],
   "source": [
    "writedlm(\"/home/david/poset0p70_univ_.dat\", αcut_poset(poset_m3 |> fuzzy, .70))"
   ]
  },
  {
   "cell_type": "markdown",
   "metadata": {},
   "source": [
    "## Entropía"
   ]
  },
  {
   "cell_type": "markdown",
   "metadata": {},
   "source": [
    "La entropia $R(A)$ se define a continuacion.\n",
    "$$\n",
    "R_{1}(A)=\\frac{\\sum\\!\\operatorname{Count}\\left(A \\cap A^{c}\\right)}{\\sum\\!\\operatorname{Count}\\left(A \\cup A^{c}\\right)}\n",
    "$$\n",
    "Notar que no es una definicion _probabilistica_. Esta entropia cuantifica que tan borroso es el poset.\n",
    "\n",
    "El valor maximo de la entropia para un poset borroso de $n$ nodos es\n",
    "$$\n",
    "R_{\\max} = \n",
    "\\frac{n(n-1)}{n^2 + n} = \\frac{n-1}{n+1}.\n",
    "$$"
   ]
  },
  {
   "cell_type": "code",
   "execution_count": 10,
   "metadata": {},
   "outputs": [],
   "source": [
    "poset_m3 = puntuaciones |> m3;"
   ]
  },
  {
   "cell_type": "code",
   "execution_count": 11,
   "metadata": {},
   "outputs": [],
   "source": [
    "poset_m2 = puntuaciones |> m2;"
   ]
  },
  {
   "cell_type": "code",
   "execution_count": 46,
   "metadata": {},
   "outputs": [
    {
     "data": {
      "text/plain": [
       "13-element Array{Float64,1}:\n",
       " 0.1425911660704125\n",
       " 0.1422885965720925\n",
       " 0.141422394683047\n",
       " 0.1408842081754943\n",
       " 0.14058122035951728\n",
       " 0.14010802346760884\n",
       " 0.13989671192143882\n",
       " 0.13968058896646982\n",
       " 0.13938977988180284\n",
       " 0.13913604269857993\n",
       " 0.13873087683864505\n",
       " 0.1384836429907421\n",
       " 0.1381628650017251"
      ]
     },
     "execution_count": 46,
     "metadata": {},
     "output_type": "execute_result"
    }
   ],
   "source": [
    "listaentropia = [fentropia( puntuaciones[:,1:i] |> m3 |> fuzzy ) for i in 2:14]"
   ]
  },
  {
   "cell_type": "code",
   "execution_count": 47,
   "metadata": {},
   "outputs": [
    {
     "data": {
      "text/plain": [
       "13-element Array{Float64,1}:\n",
       " 0.1427818003210507\n",
       " 0.14207434992100476\n",
       " 0.14126081837001955\n",
       " 0.14096970370721934\n",
       " 0.1409557973854166\n",
       " 0.14051835967755144\n",
       " 0.14041035607054358\n",
       " 0.14026219545074162\n",
       " 0.1400836835242995\n",
       " 0.13985485131368378\n",
       " 0.13935981080354826\n",
       " 0.13908506125811562\n",
       " 0.13854093228615208"
      ]
     },
     "execution_count": 47,
     "metadata": {},
     "output_type": "execute_result"
    }
   ],
   "source": [
    "listaentropia_m2 = [fentropia( puntuaciones[:,1:i] |> m2 |> fuzzy ) for i in 2:14]"
   ]
  },
  {
   "cell_type": "code",
   "execution_count": 52,
   "metadata": {},
   "outputs": [
    {
     "data": {
      "image/svg+xml": [
       "<?xml version=\"1.0\" encoding=\"utf-8\"?>\n",
       "<svg xmlns=\"http://www.w3.org/2000/svg\" xmlns:xlink=\"http://www.w3.org/1999/xlink\" width=\"600\" height=\"400\" viewBox=\"0 0 2400 1600\">\n",
       "<defs>\n",
       "  <clipPath id=\"clip270\">\n",
       "    <rect x=\"0\" y=\"0\" width=\"2400\" height=\"1600\"/>\n",
       "  </clipPath>\n",
       "</defs>\n",
       "<path clip-path=\"url(#clip270)\" d=\"\n",
       "M0 1600 L2400 1600 L2400 0 L0 0  Z\n",
       "  \" fill=\"#ffffff\" fill-rule=\"evenodd\" fill-opacity=\"1\"/>\n",
       "<defs>\n",
       "  <clipPath id=\"clip271\">\n",
       "    <rect x=\"480\" y=\"0\" width=\"1681\" height=\"1600\"/>\n",
       "  </clipPath>\n",
       "</defs>\n",
       "<defs>\n",
       "  <clipPath id=\"clip272\">\n",
       "    <rect x=\"350\" y=\"47\" width=\"2004\" height=\"1351\"/>\n",
       "  </clipPath>\n",
       "</defs>\n",
       "<path clip-path=\"url(#clip270)\" d=\"\n",
       "M350.01 1397.26 L2352.76 1397.26 L2352.76 47.2441 L350.01 47.2441  Z\n",
       "  \" fill=\"#ffffff\" fill-rule=\"evenodd\" fill-opacity=\"1\"/>\n",
       "<polyline clip-path=\"url(#clip272)\" style=\"stroke:#000000; stroke-width:2; stroke-opacity:0.1; fill:none\" points=\"\n",
       "  406.692,1397.26 406.692,47.2441 \n",
       "  \"/>\n",
       "<polyline clip-path=\"url(#clip272)\" style=\"stroke:#000000; stroke-width:2; stroke-opacity:0.1; fill:none\" points=\"\n",
       "  564.14,1397.26 564.14,47.2441 \n",
       "  \"/>\n",
       "<polyline clip-path=\"url(#clip272)\" style=\"stroke:#000000; stroke-width:2; stroke-opacity:0.1; fill:none\" points=\"\n",
       "  721.589,1397.26 721.589,47.2441 \n",
       "  \"/>\n",
       "<polyline clip-path=\"url(#clip272)\" style=\"stroke:#000000; stroke-width:2; stroke-opacity:0.1; fill:none\" points=\"\n",
       "  879.037,1397.26 879.037,47.2441 \n",
       "  \"/>\n",
       "<polyline clip-path=\"url(#clip272)\" style=\"stroke:#000000; stroke-width:2; stroke-opacity:0.1; fill:none\" points=\"\n",
       "  1036.49,1397.26 1036.49,47.2441 \n",
       "  \"/>\n",
       "<polyline clip-path=\"url(#clip272)\" style=\"stroke:#000000; stroke-width:2; stroke-opacity:0.1; fill:none\" points=\"\n",
       "  1193.93,1397.26 1193.93,47.2441 \n",
       "  \"/>\n",
       "<polyline clip-path=\"url(#clip272)\" style=\"stroke:#000000; stroke-width:2; stroke-opacity:0.1; fill:none\" points=\"\n",
       "  1351.38,1397.26 1351.38,47.2441 \n",
       "  \"/>\n",
       "<polyline clip-path=\"url(#clip272)\" style=\"stroke:#000000; stroke-width:2; stroke-opacity:0.1; fill:none\" points=\"\n",
       "  1508.83,1397.26 1508.83,47.2441 \n",
       "  \"/>\n",
       "<polyline clip-path=\"url(#clip272)\" style=\"stroke:#000000; stroke-width:2; stroke-opacity:0.1; fill:none\" points=\"\n",
       "  1666.28,1397.26 1666.28,47.2441 \n",
       "  \"/>\n",
       "<polyline clip-path=\"url(#clip272)\" style=\"stroke:#000000; stroke-width:2; stroke-opacity:0.1; fill:none\" points=\"\n",
       "  1823.73,1397.26 1823.73,47.2441 \n",
       "  \"/>\n",
       "<polyline clip-path=\"url(#clip272)\" style=\"stroke:#000000; stroke-width:2; stroke-opacity:0.1; fill:none\" points=\"\n",
       "  1981.18,1397.26 1981.18,47.2441 \n",
       "  \"/>\n",
       "<polyline clip-path=\"url(#clip272)\" style=\"stroke:#000000; stroke-width:2; stroke-opacity:0.1; fill:none\" points=\"\n",
       "  2138.63,1397.26 2138.63,47.2441 \n",
       "  \"/>\n",
       "<polyline clip-path=\"url(#clip272)\" style=\"stroke:#000000; stroke-width:2; stroke-opacity:0.1; fill:none\" points=\"\n",
       "  2296.07,1397.26 2296.07,47.2441 \n",
       "  \"/>\n",
       "<polyline clip-path=\"url(#clip270)\" style=\"stroke:#000000; stroke-width:4; stroke-opacity:1; fill:none\" points=\"\n",
       "  350.01,1397.26 2352.76,1397.26 \n",
       "  \"/>\n",
       "<polyline clip-path=\"url(#clip270)\" style=\"stroke:#000000; stroke-width:4; stroke-opacity:1; fill:none\" points=\"\n",
       "  406.692,1397.26 406.692,1381.06 \n",
       "  \"/>\n",
       "<polyline clip-path=\"url(#clip270)\" style=\"stroke:#000000; stroke-width:4; stroke-opacity:1; fill:none\" points=\"\n",
       "  564.14,1397.26 564.14,1381.06 \n",
       "  \"/>\n",
       "<polyline clip-path=\"url(#clip270)\" style=\"stroke:#000000; stroke-width:4; stroke-opacity:1; fill:none\" points=\"\n",
       "  721.589,1397.26 721.589,1381.06 \n",
       "  \"/>\n",
       "<polyline clip-path=\"url(#clip270)\" style=\"stroke:#000000; stroke-width:4; stroke-opacity:1; fill:none\" points=\"\n",
       "  879.037,1397.26 879.037,1381.06 \n",
       "  \"/>\n",
       "<polyline clip-path=\"url(#clip270)\" style=\"stroke:#000000; stroke-width:4; stroke-opacity:1; fill:none\" points=\"\n",
       "  1036.49,1397.26 1036.49,1381.06 \n",
       "  \"/>\n",
       "<polyline clip-path=\"url(#clip270)\" style=\"stroke:#000000; stroke-width:4; stroke-opacity:1; fill:none\" points=\"\n",
       "  1193.93,1397.26 1193.93,1381.06 \n",
       "  \"/>\n",
       "<polyline clip-path=\"url(#clip270)\" style=\"stroke:#000000; stroke-width:4; stroke-opacity:1; fill:none\" points=\"\n",
       "  1351.38,1397.26 1351.38,1381.06 \n",
       "  \"/>\n",
       "<polyline clip-path=\"url(#clip270)\" style=\"stroke:#000000; stroke-width:4; stroke-opacity:1; fill:none\" points=\"\n",
       "  1508.83,1397.26 1508.83,1381.06 \n",
       "  \"/>\n",
       "<polyline clip-path=\"url(#clip270)\" style=\"stroke:#000000; stroke-width:4; stroke-opacity:1; fill:none\" points=\"\n",
       "  1666.28,1397.26 1666.28,1381.06 \n",
       "  \"/>\n",
       "<polyline clip-path=\"url(#clip270)\" style=\"stroke:#000000; stroke-width:4; stroke-opacity:1; fill:none\" points=\"\n",
       "  1823.73,1397.26 1823.73,1381.06 \n",
       "  \"/>\n",
       "<polyline clip-path=\"url(#clip270)\" style=\"stroke:#000000; stroke-width:4; stroke-opacity:1; fill:none\" points=\"\n",
       "  1981.18,1397.26 1981.18,1381.06 \n",
       "  \"/>\n",
       "<polyline clip-path=\"url(#clip270)\" style=\"stroke:#000000; stroke-width:4; stroke-opacity:1; fill:none\" points=\"\n",
       "  2138.63,1397.26 2138.63,1381.06 \n",
       "  \"/>\n",
       "<polyline clip-path=\"url(#clip270)\" style=\"stroke:#000000; stroke-width:4; stroke-opacity:1; fill:none\" points=\"\n",
       "  2296.07,1397.26 2296.07,1381.06 \n",
       "  \"/>\n",
       "<path clip-path=\"url(#clip270)\" d=\"M 0 0 M397.334 1482.15 L425.893 1482.15 L425.893 1489.04 L387.49 1489.04 L387.49 1482.15 Q392.149 1477.33 400.17 1469.23 Q408.231 1461.08 410.297 1458.74 Q414.226 1454.32 415.766 1451.28 Q417.346 1448.2 417.346 1445.25 Q417.346 1440.42 413.943 1437.39 Q410.581 1434.35 405.152 1434.35 Q401.304 1434.35 397.01 1435.69 Q392.757 1437.02 387.896 1439.74 L387.896 1431.47 Q392.838 1429.49 397.132 1428.47 Q401.426 1427.46 404.99 1427.46 Q414.388 1427.46 419.979 1432.16 Q425.569 1436.86 425.569 1444.72 Q425.569 1448.45 424.151 1451.81 Q422.774 1455.13 419.087 1459.67 Q418.075 1460.84 412.647 1466.47 Q407.218 1472.06 397.334 1482.15 Z\" fill=\"#000000\" fill-rule=\"evenodd\" fill-opacity=\"1\" /><path clip-path=\"url(#clip270)\" d=\"M 0 0 M571.574 1456.43 Q577.448 1457.68 580.729 1461.65 Q584.05 1465.62 584.05 1471.45 Q584.05 1480.41 577.893 1485.31 Q571.736 1490.21 560.393 1490.21 Q556.585 1490.21 552.534 1489.44 Q548.524 1488.71 544.23 1487.21 L544.23 1479.31 Q547.633 1481.3 551.684 1482.31 Q555.735 1483.32 560.15 1483.32 Q567.847 1483.32 571.857 1480.29 Q575.908 1477.25 575.908 1471.45 Q575.908 1466.11 572.141 1463.11 Q568.414 1460.07 561.73 1460.07 L554.681 1460.07 L554.681 1453.35 L562.054 1453.35 Q568.09 1453.35 571.29 1450.96 Q574.49 1448.53 574.49 1443.99 Q574.49 1439.33 571.169 1436.86 Q567.887 1434.35 561.73 1434.35 Q558.368 1434.35 554.519 1435.08 Q550.671 1435.81 546.053 1437.35 L546.053 1430.05 Q550.712 1428.76 554.762 1428.11 Q558.854 1427.46 562.459 1427.46 Q571.776 1427.46 577.204 1431.72 Q582.633 1435.93 582.633 1443.14 Q582.633 1448.16 579.757 1451.65 Q576.88 1455.09 571.574 1456.43 Z\" fill=\"#000000\" fill-rule=\"evenodd\" fill-opacity=\"1\" /><path clip-path=\"url(#clip270)\" d=\"M 0 0 M726.855 1435.69 L706.195 1467.97 L726.855 1467.97 L726.855 1435.69 M724.708 1428.56 L734.997 1428.56 L734.997 1467.97 L743.626 1467.97 L743.626 1474.78 L734.997 1474.78 L734.997 1489.04 L726.855 1489.04 L726.855 1474.78 L699.552 1474.78 L699.552 1466.88 L724.708 1428.56 Z\" fill=\"#000000\" fill-rule=\"evenodd\" fill-opacity=\"1\" /><path clip-path=\"url(#clip270)\" d=\"M 0 0 M862.024 1428.56 L894.147 1428.56 L894.147 1435.44 L869.518 1435.44 L869.518 1450.27 Q871.3 1449.66 873.083 1449.38 Q874.865 1449.05 876.647 1449.05 Q886.775 1449.05 892.689 1454.6 Q898.603 1460.15 898.603 1469.63 Q898.603 1479.39 892.527 1484.82 Q886.451 1490.21 875.392 1490.21 Q871.584 1490.21 867.614 1489.56 Q863.684 1488.91 859.472 1487.62 L859.472 1479.39 Q863.117 1481.38 867.006 1482.35 Q870.895 1483.32 875.23 1483.32 Q882.238 1483.32 886.329 1479.64 Q890.42 1475.95 890.42 1469.63 Q890.42 1463.31 886.329 1459.63 Q882.238 1455.94 875.23 1455.94 Q871.948 1455.94 868.667 1456.67 Q865.426 1457.4 862.024 1458.94 L862.024 1428.56 Z\" fill=\"#000000\" fill-rule=\"evenodd\" fill-opacity=\"1\" /><path clip-path=\"url(#clip270)\" d=\"M 0 0 M1037.19 1455.53 Q1031.69 1455.53 1028.44 1459.3 Q1025.24 1463.07 1025.24 1469.63 Q1025.24 1476.15 1028.44 1479.96 Q1031.69 1483.73 1037.19 1483.73 Q1042.7 1483.73 1045.9 1479.96 Q1049.15 1476.15 1049.15 1469.63 Q1049.15 1463.07 1045.9 1459.3 Q1042.7 1455.53 1037.19 1455.53 M1053.44 1429.89 L1053.44 1437.35 Q1050.36 1435.89 1047.2 1435.12 Q1044.08 1434.35 1041 1434.35 Q1032.9 1434.35 1028.61 1439.82 Q1024.35 1445.29 1023.75 1456.35 Q1026.14 1452.82 1029.74 1450.96 Q1033.35 1449.05 1037.68 1449.05 Q1046.8 1449.05 1052.06 1454.6 Q1057.37 1460.11 1057.37 1469.63 Q1057.37 1478.95 1051.86 1484.58 Q1046.35 1490.21 1037.19 1490.21 Q1026.7 1490.21 1021.15 1482.19 Q1015.6 1474.13 1015.6 1458.86 Q1015.6 1444.52 1022.41 1436.01 Q1029.21 1427.46 1040.68 1427.46 Q1043.76 1427.46 1046.88 1428.07 Q1050.04 1428.68 1053.44 1429.89 Z\" fill=\"#000000\" fill-rule=\"evenodd\" fill-opacity=\"1\" /><path clip-path=\"url(#clip270)\" d=\"M 0 0 M1174.49 1428.56 L1213.38 1428.56 L1213.38 1432.04 L1191.42 1489.04 L1182.88 1489.04 L1203.54 1435.44 L1174.49 1435.44 L1174.49 1428.56 Z\" fill=\"#000000\" fill-rule=\"evenodd\" fill-opacity=\"1\" /><path clip-path=\"url(#clip270)\" d=\"M 0 0 M1351.38 1460.31 Q1345.55 1460.31 1342.19 1463.43 Q1338.87 1466.55 1338.87 1472.02 Q1338.87 1477.49 1342.19 1480.61 Q1345.55 1483.73 1351.38 1483.73 Q1357.22 1483.73 1360.58 1480.61 Q1363.94 1477.45 1363.94 1472.02 Q1363.94 1466.55 1360.58 1463.43 Q1357.26 1460.31 1351.38 1460.31 M1343.2 1456.83 Q1337.93 1455.53 1334.98 1451.93 Q1332.06 1448.32 1332.06 1443.14 Q1332.06 1435.89 1337.2 1431.68 Q1342.39 1427.46 1351.38 1427.46 Q1360.42 1427.46 1365.56 1431.68 Q1370.71 1435.89 1370.71 1443.14 Q1370.71 1448.32 1367.75 1451.93 Q1364.83 1455.53 1359.61 1456.83 Q1365.52 1458.21 1368.8 1462.22 Q1372.12 1466.23 1372.12 1472.02 Q1372.12 1480.81 1366.74 1485.51 Q1361.39 1490.21 1351.38 1490.21 Q1341.38 1490.21 1335.99 1485.51 Q1330.64 1480.81 1330.64 1472.02 Q1330.64 1466.23 1333.96 1462.22 Q1337.29 1458.21 1343.2 1456.83 M1340.2 1443.91 Q1340.2 1448.61 1343.12 1451.24 Q1346.08 1453.87 1351.38 1453.87 Q1356.65 1453.87 1359.61 1451.24 Q1362.6 1448.61 1362.6 1443.91 Q1362.6 1439.21 1359.61 1436.58 Q1356.65 1433.94 1351.38 1433.94 Q1346.08 1433.94 1343.12 1436.58 Q1340.2 1439.21 1340.2 1443.91 Z\" fill=\"#000000\" fill-rule=\"evenodd\" fill-opacity=\"1\" /><path clip-path=\"url(#clip270)\" d=\"M 0 0 M1491.86 1487.78 L1491.86 1480.33 Q1494.94 1481.78 1498.1 1482.55 Q1501.26 1483.32 1504.29 1483.32 Q1512.4 1483.32 1516.65 1477.9 Q1520.94 1472.43 1521.55 1461.33 Q1519.2 1464.81 1515.6 1466.67 Q1511.99 1468.54 1507.62 1468.54 Q1498.54 1468.54 1493.24 1463.07 Q1487.97 1457.56 1487.97 1448.04 Q1487.97 1438.72 1493.48 1433.09 Q1498.99 1427.46 1508.14 1427.46 Q1518.63 1427.46 1524.14 1435.52 Q1529.69 1443.54 1529.69 1458.86 Q1529.69 1473.16 1522.89 1481.7 Q1516.12 1490.21 1504.66 1490.21 Q1501.58 1490.21 1498.42 1489.6 Q1495.26 1489 1491.86 1487.78 M1508.14 1462.14 Q1513.65 1462.14 1516.85 1458.37 Q1520.09 1454.6 1520.09 1448.04 Q1520.09 1441.52 1516.85 1437.75 Q1513.65 1433.94 1508.14 1433.94 Q1502.63 1433.94 1499.39 1437.75 Q1496.19 1441.52 1496.19 1448.04 Q1496.19 1454.6 1499.39 1458.37 Q1502.63 1462.14 1508.14 1462.14 Z\" fill=\"#000000\" fill-rule=\"evenodd\" fill-opacity=\"1\" /><path clip-path=\"url(#clip270)\" d=\"M 0 0 M1625.81 1482.15 L1639.18 1482.15 L1639.18 1436.01 L1624.64 1438.93 L1624.64 1431.47 L1639.1 1428.56 L1647.28 1428.56 L1647.28 1482.15 L1660.65 1482.15 L1660.65 1489.04 L1625.81 1489.04 L1625.81 1482.15 Z\" fill=\"#000000\" fill-rule=\"evenodd\" fill-opacity=\"1\" /><path clip-path=\"url(#clip270)\" d=\"M 0 0 M1687.02 1433.94 Q1680.7 1433.94 1677.5 1440.18 Q1674.34 1446.38 1674.34 1458.86 Q1674.34 1471.29 1677.5 1477.53 Q1680.7 1483.73 1687.02 1483.73 Q1693.38 1483.73 1696.54 1477.53 Q1699.74 1471.29 1699.74 1458.86 Q1699.74 1446.38 1696.54 1440.18 Q1693.38 1433.94 1687.02 1433.94 M1687.02 1427.46 Q1697.19 1427.46 1702.54 1435.52 Q1707.92 1443.54 1707.92 1458.86 Q1707.92 1474.13 1702.54 1482.19 Q1697.19 1490.21 1687.02 1490.21 Q1676.85 1490.21 1671.47 1482.19 Q1666.12 1474.13 1666.12 1458.86 Q1666.12 1443.54 1671.47 1435.52 Q1676.85 1427.46 1687.02 1427.46 Z\" fill=\"#000000\" fill-rule=\"evenodd\" fill-opacity=\"1\" /><path clip-path=\"url(#clip270)\" d=\"M 0 0 M1784.33 1482.15 L1797.7 1482.15 L1797.7 1436.01 L1783.16 1438.93 L1783.16 1431.47 L1797.62 1428.56 L1805.8 1428.56 L1805.8 1482.15 L1819.17 1482.15 L1819.17 1489.04 L1784.33 1489.04 L1784.33 1482.15 Z\" fill=\"#000000\" fill-rule=\"evenodd\" fill-opacity=\"1\" /><path clip-path=\"url(#clip270)\" d=\"M 0 0 M1829.46 1482.15 L1842.83 1482.15 L1842.83 1436.01 L1828.29 1438.93 L1828.29 1431.47 L1842.75 1428.56 L1850.93 1428.56 L1850.93 1482.15 L1864.3 1482.15 L1864.3 1489.04 L1829.46 1489.04 L1829.46 1482.15 Z\" fill=\"#000000\" fill-rule=\"evenodd\" fill-opacity=\"1\" /><path clip-path=\"url(#clip270)\" d=\"M 0 0 M1942.11 1482.15 L1955.47 1482.15 L1955.47 1436.01 L1940.93 1438.93 L1940.93 1431.47 L1955.39 1428.56 L1963.58 1428.56 L1963.58 1482.15 L1976.94 1482.15 L1976.94 1489.04 L1942.11 1489.04 L1942.11 1482.15 Z\" fill=\"#000000\" fill-rule=\"evenodd\" fill-opacity=\"1\" /><path clip-path=\"url(#clip270)\" d=\"M 0 0 M1992.86 1482.15 L2021.42 1482.15 L2021.42 1489.04 L1983.02 1489.04 L1983.02 1482.15 Q1987.68 1477.33 1995.7 1469.23 Q2003.76 1461.08 2005.83 1458.74 Q2009.76 1454.32 2011.3 1451.28 Q2012.88 1448.2 2012.88 1445.25 Q2012.88 1440.42 2009.47 1437.39 Q2006.11 1434.35 2000.68 1434.35 Q1996.83 1434.35 1992.54 1435.69 Q1988.29 1437.02 1983.43 1439.74 L1983.43 1431.47 Q1988.37 1429.49 1992.66 1428.47 Q1996.96 1427.46 2000.52 1427.46 Q2009.92 1427.46 2015.51 1432.16 Q2021.1 1436.86 2021.1 1444.72 Q2021.1 1448.45 2019.68 1451.81 Q2018.3 1455.13 2014.62 1459.67 Q2013.6 1460.84 2008.18 1466.47 Q2002.75 1472.06 1992.86 1482.15 Z\" fill=\"#000000\" fill-rule=\"evenodd\" fill-opacity=\"1\" /><path clip-path=\"url(#clip270)\" d=\"M 0 0 M2098.72 1482.15 L2112.09 1482.15 L2112.09 1436.01 L2097.55 1438.93 L2097.55 1431.47 L2112.01 1428.56 L2120.19 1428.56 L2120.19 1482.15 L2133.56 1482.15 L2133.56 1489.04 L2098.72 1489.04 L2098.72 1482.15 Z\" fill=\"#000000\" fill-rule=\"evenodd\" fill-opacity=\"1\" /><path clip-path=\"url(#clip270)\" d=\"M 0 0 M2167.23 1456.43 Q2173.1 1457.68 2176.38 1461.65 Q2179.7 1465.62 2179.7 1471.45 Q2179.7 1480.41 2173.54 1485.31 Q2167.39 1490.21 2156.04 1490.21 Q2152.24 1490.21 2148.19 1489.44 Q2144.18 1488.71 2139.88 1487.21 L2139.88 1479.31 Q2143.28 1481.3 2147.34 1482.31 Q2151.39 1483.32 2155.8 1483.32 Q2163.5 1483.32 2167.51 1480.29 Q2171.56 1477.25 2171.56 1471.45 Q2171.56 1466.11 2167.79 1463.11 Q2164.07 1460.07 2157.38 1460.07 L2150.33 1460.07 L2150.33 1453.35 L2157.71 1453.35 Q2163.74 1453.35 2166.94 1450.96 Q2170.14 1448.53 2170.14 1443.99 Q2170.14 1439.33 2166.82 1436.86 Q2163.54 1434.35 2157.38 1434.35 Q2154.02 1434.35 2150.17 1435.08 Q2146.32 1435.81 2141.7 1437.35 L2141.7 1430.05 Q2146.36 1428.76 2150.41 1428.11 Q2154.51 1427.46 2158.11 1427.46 Q2167.43 1427.46 2172.86 1431.72 Q2178.28 1435.93 2178.28 1443.14 Q2178.28 1448.16 2175.41 1451.65 Q2172.53 1455.09 2167.23 1456.43 Z\" fill=\"#000000\" fill-rule=\"evenodd\" fill-opacity=\"1\" /><path clip-path=\"url(#clip270)\" d=\"M 0 0 M2255.18 1482.15 L2268.55 1482.15 L2268.55 1436.01 L2254.01 1438.93 L2254.01 1431.47 L2268.47 1428.56 L2276.65 1428.56 L2276.65 1482.15 L2290.02 1482.15 L2290.02 1489.04 L2255.18 1489.04 L2255.18 1482.15 Z\" fill=\"#000000\" fill-rule=\"evenodd\" fill-opacity=\"1\" /><path clip-path=\"url(#clip270)\" d=\"M 0 0 M2321.37 1435.69 L2300.71 1467.97 L2321.37 1467.97 L2321.37 1435.69 M2319.23 1428.56 L2329.51 1428.56 L2329.51 1467.97 L2338.14 1467.97 L2338.14 1474.78 L2329.51 1474.78 L2329.51 1489.04 L2321.37 1489.04 L2321.37 1474.78 L2294.07 1474.78 L2294.07 1466.88 L2319.23 1428.56 Z\" fill=\"#000000\" fill-rule=\"evenodd\" fill-opacity=\"1\" /><path clip-path=\"url(#clip270)\" d=\"M 0 0 M1290.77 1563.66 L1290.77 1582.56 L1284.88 1582.56 L1284.88 1533.36 L1290.77 1533.36 L1290.77 1538.77 Q1292.61 1535.58 1295.41 1534.06 Q1298.25 1532.5 1302.16 1532.5 Q1308.65 1532.5 1312.7 1537.65 Q1316.77 1542.81 1316.77 1551.21 Q1316.77 1559.61 1312.7 1564.77 Q1308.65 1569.93 1302.16 1569.93 Q1298.25 1569.93 1295.41 1568.4 Q1292.61 1566.84 1290.77 1563.66 M1310.69 1551.21 Q1310.69 1544.75 1308.02 1541.09 Q1305.37 1537.4 1300.73 1537.4 Q1296.08 1537.4 1293.41 1541.09 Q1290.77 1544.75 1290.77 1551.21 Q1290.77 1557.67 1293.41 1561.36 Q1296.08 1565.03 1300.73 1565.03 Q1305.37 1565.03 1308.02 1561.36 Q1310.69 1557.67 1310.69 1551.21 Z\" fill=\"#000000\" fill-rule=\"evenodd\" fill-opacity=\"1\" /><path clip-path=\"url(#clip270)\" d=\"M 0 0 M1339.11 1551.08 Q1332.02 1551.08 1329.28 1552.71 Q1326.54 1554.33 1326.54 1558.25 Q1326.54 1561.36 1328.58 1563.21 Q1330.65 1565.03 1334.18 1565.03 Q1339.05 1565.03 1341.98 1561.59 Q1344.94 1558.12 1344.94 1552.39 L1344.94 1551.08 L1339.11 1551.08 M1350.79 1548.67 L1350.79 1569 L1344.94 1569 L1344.94 1563.59 Q1342.93 1566.84 1339.94 1568.4 Q1336.95 1569.93 1332.62 1569.93 Q1327.15 1569.93 1323.9 1566.87 Q1320.68 1563.78 1320.68 1558.63 Q1320.68 1552.61 1324.69 1549.56 Q1328.74 1546.5 1336.73 1546.5 L1344.94 1546.5 L1344.94 1545.93 Q1344.94 1541.89 1342.26 1539.69 Q1339.62 1537.46 1334.82 1537.46 Q1331.76 1537.46 1328.86 1538.19 Q1325.97 1538.93 1323.29 1540.39 L1323.29 1534.98 Q1326.51 1533.74 1329.53 1533.13 Q1332.56 1532.5 1335.42 1532.5 Q1343.16 1532.5 1346.97 1536.51 Q1350.79 1540.52 1350.79 1548.67 Z\" fill=\"#000000\" fill-rule=\"evenodd\" fill-opacity=\"1\" /><path clip-path=\"url(#clip270)\" d=\"M 0 0 M1379.66 1534.41 L1379.66 1539.94 Q1377.18 1538.67 1374.51 1538.03 Q1371.83 1537.4 1368.97 1537.4 Q1364.61 1537.4 1362.41 1538.73 Q1360.25 1540.07 1360.25 1542.75 Q1360.25 1544.78 1361.81 1545.96 Q1363.37 1547.11 1368.08 1548.16 L1370.08 1548.6 Q1376.32 1549.94 1378.93 1552.39 Q1381.57 1554.81 1381.57 1559.17 Q1381.57 1564.13 1377.63 1567.03 Q1373.71 1569.93 1366.84 1569.93 Q1363.97 1569.93 1360.85 1569.35 Q1357.76 1568.81 1354.33 1567.7 L1354.33 1561.65 Q1357.57 1563.34 1360.72 1564.2 Q1363.88 1565.03 1366.96 1565.03 Q1371.1 1565.03 1373.33 1563.62 Q1375.56 1562.19 1375.56 1559.61 Q1375.56 1557.23 1373.93 1555.95 Q1372.34 1554.68 1366.9 1553.5 L1364.86 1553.03 Q1359.42 1551.88 1357 1549.52 Q1354.58 1547.14 1354.58 1543 Q1354.58 1537.97 1358.15 1535.23 Q1361.71 1532.5 1368.27 1532.5 Q1371.51 1532.5 1374.38 1532.97 Q1377.24 1533.45 1379.66 1534.41 Z\" fill=\"#000000\" fill-rule=\"evenodd\" fill-opacity=\"1\" /><path clip-path=\"url(#clip270)\" d=\"M 0 0 M1401.53 1537.46 Q1396.82 1537.46 1394.08 1541.15 Q1391.34 1544.81 1391.34 1551.21 Q1391.34 1557.61 1394.05 1561.3 Q1396.79 1564.96 1401.53 1564.96 Q1406.21 1564.96 1408.94 1561.27 Q1411.68 1557.58 1411.68 1551.21 Q1411.68 1544.88 1408.94 1541.19 Q1406.21 1537.46 1401.53 1537.46 M1401.53 1532.5 Q1409.17 1532.5 1413.53 1537.46 Q1417.89 1542.43 1417.89 1551.21 Q1417.89 1559.96 1413.53 1564.96 Q1409.17 1569.93 1401.53 1569.93 Q1393.86 1569.93 1389.5 1564.96 Q1385.17 1559.96 1385.17 1551.21 Q1385.17 1542.43 1389.5 1537.46 Q1393.86 1532.5 1401.53 1532.5 Z\" fill=\"#000000\" fill-rule=\"evenodd\" fill-opacity=\"1\" /><polyline clip-path=\"url(#clip272)\" style=\"stroke:#000000; stroke-width:2; stroke-opacity:0.1; fill:none\" points=\"\n",
       "  350.01,1128.22 2352.76,1128.22 \n",
       "  \"/>\n",
       "<polyline clip-path=\"url(#clip272)\" style=\"stroke:#000000; stroke-width:2; stroke-opacity:0.1; fill:none\" points=\"\n",
       "  350.01,852.49 2352.76,852.49 \n",
       "  \"/>\n",
       "<polyline clip-path=\"url(#clip272)\" style=\"stroke:#000000; stroke-width:2; stroke-opacity:0.1; fill:none\" points=\"\n",
       "  350.01,576.756 2352.76,576.756 \n",
       "  \"/>\n",
       "<polyline clip-path=\"url(#clip272)\" style=\"stroke:#000000; stroke-width:2; stroke-opacity:0.1; fill:none\" points=\"\n",
       "  350.01,301.021 2352.76,301.021 \n",
       "  \"/>\n",
       "<polyline clip-path=\"url(#clip270)\" style=\"stroke:#000000; stroke-width:4; stroke-opacity:1; fill:none\" points=\"\n",
       "  350.01,1397.26 350.01,47.2441 \n",
       "  \"/>\n",
       "<polyline clip-path=\"url(#clip270)\" style=\"stroke:#000000; stroke-width:4; stroke-opacity:1; fill:none\" points=\"\n",
       "  350.01,1128.22 374.043,1128.22 \n",
       "  \"/>\n",
       "<polyline clip-path=\"url(#clip270)\" style=\"stroke:#000000; stroke-width:4; stroke-opacity:1; fill:none\" points=\"\n",
       "  350.01,852.49 374.043,852.49 \n",
       "  \"/>\n",
       "<polyline clip-path=\"url(#clip270)\" style=\"stroke:#000000; stroke-width:4; stroke-opacity:1; fill:none\" points=\"\n",
       "  350.01,576.756 374.043,576.756 \n",
       "  \"/>\n",
       "<polyline clip-path=\"url(#clip270)\" style=\"stroke:#000000; stroke-width:4; stroke-opacity:1; fill:none\" points=\"\n",
       "  350.01,301.021 374.043,301.021 \n",
       "  \"/>\n",
       "<path clip-path=\"url(#clip270)\" d=\"M 0 0 M137.472 1103.37 Q131.152 1103.37 127.952 1109.61 Q124.793 1115.81 124.793 1128.29 Q124.793 1140.72 127.952 1146.96 Q131.152 1153.16 137.472 1153.16 Q143.832 1153.16 146.991 1146.96 Q150.192 1140.72 150.192 1128.29 Q150.192 1115.81 146.991 1109.61 Q143.832 1103.37 137.472 1103.37 M137.472 1096.89 Q147.64 1096.89 152.987 1104.95 Q158.375 1112.97 158.375 1128.29 Q158.375 1143.56 152.987 1151.62 Q147.64 1159.64 137.472 1159.64 Q127.304 1159.64 121.916 1151.62 Q116.569 1143.56 116.569 1128.29 Q116.569 1112.97 121.916 1104.95 Q127.304 1096.89 137.472 1096.89 Z\" fill=\"#000000\" fill-rule=\"evenodd\" fill-opacity=\"1\" /><path clip-path=\"url(#clip270)\" d=\"M 0 0 M167.246 1148.18 L175.793 1148.18 L175.793 1158.46 L167.246 1158.46 L167.246 1148.18 Z\" fill=\"#000000\" fill-rule=\"evenodd\" fill-opacity=\"1\" /><path clip-path=\"url(#clip270)\" d=\"M 0 0 M186.083 1151.58 L199.451 1151.58 L199.451 1105.44 L184.908 1108.36 L184.908 1100.9 L199.37 1097.98 L207.552 1097.98 L207.552 1151.58 L220.92 1151.58 L220.92 1158.46 L186.083 1158.46 L186.083 1151.58 Z\" fill=\"#000000\" fill-rule=\"evenodd\" fill-opacity=\"1\" /><path clip-path=\"url(#clip270)\" d=\"M 0 0 M254.583 1125.86 Q260.457 1127.11 263.739 1131.08 Q267.06 1135.05 267.06 1140.88 Q267.06 1149.84 260.903 1154.74 Q254.746 1159.64 243.403 1159.64 Q239.595 1159.64 235.544 1158.87 Q231.534 1158.14 227.24 1156.64 L227.24 1148.74 Q230.643 1150.73 234.694 1151.74 Q238.744 1152.75 243.16 1152.75 Q250.857 1152.75 254.867 1149.71 Q258.918 1146.68 258.918 1140.88 Q258.918 1135.54 255.151 1132.54 Q251.424 1129.5 244.74 1129.5 L237.691 1129.5 L237.691 1122.78 L245.064 1122.78 Q251.1 1122.78 254.3 1120.39 Q257.5 1117.96 257.5 1113.42 Q257.5 1108.76 254.178 1106.29 Q250.897 1103.78 244.74 1103.78 Q241.378 1103.78 237.529 1104.51 Q233.681 1105.24 229.063 1106.78 L229.063 1099.48 Q233.721 1098.19 237.772 1097.54 Q241.864 1096.89 245.469 1096.89 Q254.786 1096.89 260.214 1101.14 Q265.642 1105.36 265.642 1112.57 Q265.642 1117.59 262.766 1121.08 Q259.89 1124.52 254.583 1125.86 Z\" fill=\"#000000\" fill-rule=\"evenodd\" fill-opacity=\"1\" /><path clip-path=\"url(#clip270)\" d=\"M 0 0 M276.175 1157.21 L276.175 1149.76 Q279.253 1151.21 282.413 1151.98 Q285.573 1152.75 288.611 1152.75 Q296.713 1152.75 300.966 1147.32 Q305.26 1141.86 305.868 1130.76 Q303.518 1134.24 299.913 1136.1 Q296.308 1137.97 291.933 1137.97 Q282.859 1137.97 277.552 1132.5 Q272.286 1126.99 272.286 1117.47 Q272.286 1108.15 277.795 1102.52 Q283.304 1096.89 292.459 1096.89 Q302.951 1096.89 308.461 1104.95 Q314.01 1112.97 314.01 1128.29 Q314.01 1142.59 307.205 1151.13 Q300.44 1159.64 288.976 1159.64 Q285.897 1159.64 282.737 1159.03 Q279.578 1158.42 276.175 1157.21 M292.459 1131.57 Q297.969 1131.57 301.169 1127.8 Q304.41 1124.03 304.41 1117.47 Q304.41 1110.95 301.169 1107.18 Q297.969 1103.37 292.459 1103.37 Q286.95 1103.37 283.709 1107.18 Q280.509 1110.95 280.509 1117.47 Q280.509 1124.03 283.709 1127.8 Q286.95 1131.57 292.459 1131.57 Z\" fill=\"#000000\" fill-rule=\"evenodd\" fill-opacity=\"1\" /><path clip-path=\"url(#clip270)\" d=\"M 0 0 M135.163 827.638 Q128.843 827.638 125.643 833.876 Q122.483 840.074 122.483 852.551 Q122.483 864.987 125.643 871.226 Q128.843 877.424 135.163 877.424 Q141.523 877.424 144.682 871.226 Q147.883 864.987 147.883 852.551 Q147.883 840.074 144.682 833.876 Q141.523 827.638 135.163 827.638 M135.163 821.157 Q145.331 821.157 150.678 829.218 Q156.065 837.239 156.065 852.551 Q156.065 867.823 150.678 875.884 Q145.331 883.905 135.163 883.905 Q124.995 883.905 119.607 875.884 Q114.26 867.823 114.26 852.551 Q114.26 837.239 119.607 829.218 Q124.995 821.157 135.163 821.157 Z\" fill=\"#000000\" fill-rule=\"evenodd\" fill-opacity=\"1\" /><path clip-path=\"url(#clip270)\" d=\"M 0 0 M164.937 872.441 L173.484 872.441 L173.484 882.73 L164.937 882.73 L164.937 872.441 Z\" fill=\"#000000\" fill-rule=\"evenodd\" fill-opacity=\"1\" /><path clip-path=\"url(#clip270)\" d=\"M 0 0 M183.774 875.844 L197.142 875.844 L197.142 829.704 L182.599 832.621 L182.599 825.167 L197.061 822.25 L205.243 822.25 L205.243 875.844 L218.611 875.844 L218.611 882.73 L183.774 882.73 L183.774 875.844 Z\" fill=\"#000000\" fill-rule=\"evenodd\" fill-opacity=\"1\" /><path clip-path=\"url(#clip270)\" d=\"M 0 0 M249.965 829.38 L229.306 861.666 L249.965 861.666 L249.965 829.38 M247.818 822.25 L258.108 822.25 L258.108 861.666 L266.736 861.666 L266.736 868.471 L258.108 868.471 L258.108 882.73 L249.965 882.73 L249.965 868.471 L222.662 868.471 L222.662 860.572 L247.818 822.25 Z\" fill=\"#000000\" fill-rule=\"evenodd\" fill-opacity=\"1\" /><path clip-path=\"url(#clip270)\" d=\"M 0 0 M293.108 827.638 Q286.788 827.638 283.588 833.876 Q280.428 840.074 280.428 852.551 Q280.428 864.987 283.588 871.226 Q286.788 877.424 293.108 877.424 Q299.467 877.424 302.627 871.226 Q305.827 864.987 305.827 852.551 Q305.827 840.074 302.627 833.876 Q299.467 827.638 293.108 827.638 M293.108 821.157 Q303.275 821.157 308.623 829.218 Q314.01 837.239 314.01 852.551 Q314.01 867.823 308.623 875.884 Q303.275 883.905 293.108 883.905 Q282.94 883.905 277.552 875.884 Q272.205 867.823 272.205 852.551 Q272.205 837.239 277.552 829.218 Q282.94 821.157 293.108 821.157 Z\" fill=\"#000000\" fill-rule=\"evenodd\" fill-opacity=\"1\" /><path clip-path=\"url(#clip270)\" d=\"M 0 0 M137.31 551.904 Q130.99 551.904 127.79 558.142 Q124.63 564.34 124.63 576.817 Q124.63 589.253 127.79 595.491 Q130.99 601.689 137.31 601.689 Q143.67 601.689 146.829 595.491 Q150.03 589.253 150.03 576.817 Q150.03 564.34 146.829 558.142 Q143.67 551.904 137.31 551.904 M137.31 545.422 Q147.478 545.422 152.825 553.483 Q158.212 561.504 158.212 576.817 Q158.212 592.089 152.825 600.15 Q147.478 608.171 137.31 608.171 Q127.142 608.171 121.754 600.15 Q116.407 592.089 116.407 576.817 Q116.407 561.504 121.754 553.483 Q127.142 545.422 137.31 545.422 Z\" fill=\"#000000\" fill-rule=\"evenodd\" fill-opacity=\"1\" /><path clip-path=\"url(#clip270)\" d=\"M 0 0 M167.084 596.707 L175.631 596.707 L175.631 606.996 L167.084 606.996 L167.084 596.707 Z\" fill=\"#000000\" fill-rule=\"evenodd\" fill-opacity=\"1\" /><path clip-path=\"url(#clip270)\" d=\"M 0 0 M185.921 600.109 L199.289 600.109 L199.289 553.97 L184.746 556.886 L184.746 549.433 L199.208 546.516 L207.39 546.516 L207.39 600.109 L220.758 600.109 L220.758 606.996 L185.921 606.996 L185.921 600.109 Z\" fill=\"#000000\" fill-rule=\"evenodd\" fill-opacity=\"1\" /><path clip-path=\"url(#clip270)\" d=\"M 0 0 M252.112 553.645 L231.453 585.931 L252.112 585.931 L252.112 553.645 M249.965 546.516 L260.255 546.516 L260.255 585.931 L268.883 585.931 L268.883 592.737 L260.255 592.737 L260.255 606.996 L252.112 606.996 L252.112 592.737 L224.809 592.737 L224.809 584.837 L249.965 546.516 Z\" fill=\"#000000\" fill-rule=\"evenodd\" fill-opacity=\"1\" /><path clip-path=\"url(#clip270)\" d=\"M 0 0 M279.172 600.109 L292.54 600.109 L292.54 553.97 L277.998 556.886 L277.998 549.433 L292.459 546.516 L300.642 546.516 L300.642 600.109 L314.01 600.109 L314.01 606.996 L279.172 606.996 L279.172 600.109 Z\" fill=\"#000000\" fill-rule=\"evenodd\" fill-opacity=\"1\" /><path clip-path=\"url(#clip270)\" d=\"M 0 0 M137.958 276.169 Q131.639 276.169 128.438 282.407 Q125.279 288.605 125.279 301.082 Q125.279 313.518 128.438 319.757 Q131.639 325.955 137.958 325.955 Q144.318 325.955 147.478 319.757 Q150.678 313.518 150.678 301.082 Q150.678 288.605 147.478 282.407 Q144.318 276.169 137.958 276.169 M137.958 269.688 Q148.126 269.688 153.473 277.749 Q158.861 285.77 158.861 301.082 Q158.861 316.354 153.473 324.415 Q148.126 332.436 137.958 332.436 Q127.79 332.436 122.402 324.415 Q117.055 316.354 117.055 301.082 Q117.055 285.77 122.402 277.749 Q127.79 269.688 137.958 269.688 Z\" fill=\"#000000\" fill-rule=\"evenodd\" fill-opacity=\"1\" /><path clip-path=\"url(#clip270)\" d=\"M 0 0 M167.732 320.972 L176.28 320.972 L176.28 331.261 L167.732 331.261 L167.732 320.972 Z\" fill=\"#000000\" fill-rule=\"evenodd\" fill-opacity=\"1\" /><path clip-path=\"url(#clip270)\" d=\"M 0 0 M186.569 324.375 L199.937 324.375 L199.937 278.235 L185.394 281.152 L185.394 273.698 L199.856 270.781 L208.039 270.781 L208.039 324.375 L221.407 324.375 L221.407 331.261 L186.569 331.261 L186.569 324.375 Z\" fill=\"#000000\" fill-rule=\"evenodd\" fill-opacity=\"1\" /><path clip-path=\"url(#clip270)\" d=\"M 0 0 M252.761 277.911 L232.101 310.197 L252.761 310.197 L252.761 277.911 M250.614 270.781 L260.903 270.781 L260.903 310.197 L269.531 310.197 L269.531 317.002 L260.903 317.002 L260.903 331.261 L252.761 331.261 L252.761 317.002 L225.457 317.002 L225.457 309.103 L250.614 270.781 Z\" fill=\"#000000\" fill-rule=\"evenodd\" fill-opacity=\"1\" /><path clip-path=\"url(#clip270)\" d=\"M 0 0 M285.451 324.375 L314.01 324.375 L314.01 331.261 L275.608 331.261 L275.608 324.375 Q280.266 319.554 288.287 311.452 Q296.348 303.31 298.414 300.961 Q302.344 296.545 303.883 293.507 Q305.463 290.428 305.463 287.471 Q305.463 282.651 302.06 279.612 Q298.698 276.574 293.27 276.574 Q289.421 276.574 285.127 277.911 Q280.874 279.248 276.013 281.962 L276.013 273.698 Q280.955 271.713 285.249 270.7 Q289.543 269.688 293.108 269.688 Q302.506 269.688 308.096 274.387 Q313.686 279.086 313.686 286.945 Q313.686 290.671 312.268 294.034 Q310.891 297.355 307.205 301.892 Q306.192 303.067 300.764 308.698 Q295.336 314.288 285.451 324.375 Z\" fill=\"#000000\" fill-rule=\"evenodd\" fill-opacity=\"1\" /><path clip-path=\"url(#clip270)\" d=\"M 0 0 M68.7161 808.38 L71.5806 808.38 L71.5806 835.307 Q77.6281 834.925 80.8109 831.678 Q83.9619 828.4 83.9619 822.576 Q83.9619 819.202 83.1344 816.051 Q82.3069 812.868 80.6518 809.749 L86.1899 809.749 Q87.5267 812.9 88.227 816.21 Q88.9272 819.52 88.9272 822.926 Q88.9272 831.456 83.9619 836.453 Q78.9967 841.418 70.5303 841.418 Q61.7774 841.418 56.6531 836.707 Q51.4968 831.965 51.4968 823.944 Q51.4968 816.751 56.1438 812.581 Q60.7589 808.38 68.7161 808.38 M66.9973 814.236 Q62.1912 814.3 59.3266 816.942 Q56.4621 819.552 56.4621 823.88 Q56.4621 828.782 59.2312 831.742 Q62.0002 834.67 67.0292 835.116 L66.9973 814.236 Z\" fill=\"#000000\" fill-rule=\"evenodd\" fill-opacity=\"1\" /><path clip-path=\"url(#clip270)\" d=\"M 0 0 M66.4881 772.605 L88.0042 772.605 L88.0042 778.461 L66.679 778.461 Q61.6183 778.461 59.1038 780.435 Q56.5894 782.408 56.5894 786.355 Q56.5894 791.097 59.6131 793.834 Q62.6368 796.572 67.8567 796.572 L88.0042 796.572 L88.0042 802.46 L52.3562 802.46 L52.3562 796.572 L57.8944 796.572 Q54.6797 794.471 53.0883 791.638 Q51.4968 788.774 51.4968 785.05 Q51.4968 778.907 55.3163 775.756 Q59.1038 772.605 66.4881 772.605 Z\" fill=\"#000000\" fill-rule=\"evenodd\" fill-opacity=\"1\" /><path clip-path=\"url(#clip270)\" d=\"M 0 0 M42.2347 760.669 L52.3562 760.669 L52.3562 748.606 L56.9077 748.606 L56.9077 760.669 L76.2594 760.669 Q80.6199 760.669 81.8613 759.491 Q83.1026 758.282 83.1026 754.622 L83.1026 748.606 L88.0042 748.606 L88.0042 754.622 Q88.0042 761.401 85.4897 763.979 Q82.9434 766.557 76.2594 766.557 L56.9077 766.557 L56.9077 770.854 L52.3562 770.854 L52.3562 766.557 L42.2347 766.557 L42.2347 760.669 Z\" fill=\"#000000\" fill-rule=\"evenodd\" fill-opacity=\"1\" /><path clip-path=\"url(#clip270)\" d=\"M 0 0 M57.8307 721.806 Q57.2578 722.793 57.0032 723.971 Q56.7167 725.117 56.7167 726.517 Q56.7167 731.482 59.9632 734.156 Q63.1779 736.798 69.2253 736.798 L88.0042 736.798 L88.0042 742.686 L52.3562 742.686 L52.3562 736.798 L57.8944 736.798 Q54.6479 734.952 53.0883 731.991 Q51.4968 729.031 51.4968 724.798 Q51.4968 724.194 51.5923 723.461 Q51.656 722.729 51.8151 721.838 L57.8307 721.806 Z\" fill=\"#000000\" fill-rule=\"evenodd\" fill-opacity=\"1\" /><path clip-path=\"url(#clip270)\" d=\"M 0 0 M56.4621 703.282 Q56.4621 707.993 60.1542 710.73 Q63.8145 713.467 70.212 713.467 Q76.6095 713.467 80.3017 710.762 Q83.9619 708.025 83.9619 703.282 Q83.9619 698.603 80.2698 695.866 Q76.5777 693.129 70.212 693.129 Q63.8781 693.129 60.186 695.866 Q56.4621 698.603 56.4621 703.282 M51.4968 703.282 Q51.4968 695.643 56.4621 691.283 Q61.4273 686.922 70.212 686.922 Q78.9649 686.922 83.9619 691.283 Q88.9272 695.643 88.9272 703.282 Q88.9272 710.953 83.9619 715.313 Q78.9649 719.642 70.212 719.642 Q61.4273 719.642 56.4621 715.313 Q51.4968 710.953 51.4968 703.282 Z\" fill=\"#000000\" fill-rule=\"evenodd\" fill-opacity=\"1\" /><path clip-path=\"url(#clip270)\" d=\"M 0 0 M82.657 675.114 L101.563 675.114 L101.563 681.002 L52.3562 681.002 L52.3562 675.114 L57.7671 675.114 Q54.5842 673.268 53.0564 670.467 Q51.4968 667.634 51.4968 663.719 Q51.4968 657.226 56.6531 653.184 Q61.8093 649.11 70.212 649.11 Q78.6147 649.11 83.771 653.184 Q88.9272 657.226 88.9272 663.719 Q88.9272 667.634 87.3994 670.467 Q85.8398 673.268 82.657 675.114 M70.212 655.189 Q63.7508 655.189 60.0905 657.863 Q56.3984 660.505 56.3984 665.152 Q56.3984 669.799 60.0905 672.472 Q63.7508 675.114 70.212 675.114 Q76.6732 675.114 80.3653 672.472 Q84.0256 669.799 84.0256 665.152 Q84.0256 660.505 80.3653 657.863 Q76.6732 655.189 70.212 655.189 Z\" fill=\"#000000\" fill-rule=\"evenodd\" fill-opacity=\"1\" /><path clip-path=\"url(#clip270)\" d=\"M 0 0 M52.3562 642.967 L52.3562 637.111 L88.0042 637.111 L88.0042 642.967 L52.3562 642.967 M38.479 642.967 L38.479 637.111 L45.895 637.111 L45.895 642.967 L38.479 642.967 Z\" fill=\"#000000\" fill-rule=\"evenodd\" fill-opacity=\"1\" /><path clip-path=\"url(#clip270)\" d=\"M 0 0 M70.0847 614.767 Q70.0847 621.865 71.7079 624.602 Q73.3312 627.339 77.2461 627.339 Q80.3653 627.339 82.2114 625.302 Q84.0256 623.233 84.0256 619.7 Q84.0256 614.831 80.5881 611.902 Q77.1188 608.942 71.3897 608.942 L70.0847 608.942 L70.0847 614.767 M67.6657 603.086 L88.0042 603.086 L88.0042 608.942 L82.5933 608.942 Q85.8398 610.948 87.3994 613.939 Q88.9272 616.931 88.9272 621.26 Q88.9272 626.735 85.8716 629.981 Q82.7843 633.196 77.6281 633.196 Q71.6125 633.196 68.5569 629.185 Q65.5014 625.143 65.5014 617.154 L65.5014 608.942 L64.9285 608.942 Q60.8862 608.942 58.6901 611.616 Q56.4621 614.258 56.4621 619.064 Q56.4621 622.119 57.1941 625.016 Q57.9262 627.912 59.3903 630.586 L53.9795 630.586 Q52.7381 627.371 52.1334 624.347 Q51.4968 621.324 51.4968 618.459 Q51.4968 610.725 55.5072 606.905 Q59.5176 603.086 67.6657 603.086 Z\" fill=\"#000000\" fill-rule=\"evenodd\" fill-opacity=\"1\" /><circle clip-path=\"url(#clip272)\" cx=\"406.692\" cy=\"138.017\" r=\"14\" fill=\"#009af9\" fill-rule=\"evenodd\" fill-opacity=\"1\" stroke=\"#000000\" stroke-opacity=\"1\" stroke-width=\"3.2\"/>\n",
       "<circle clip-path=\"url(#clip272)\" cx=\"564.14\" cy=\"221.445\" r=\"14\" fill=\"#009af9\" fill-rule=\"evenodd\" fill-opacity=\"1\" stroke=\"#000000\" stroke-opacity=\"1\" stroke-width=\"3.2\"/>\n",
       "<circle clip-path=\"url(#clip272)\" cx=\"721.589\" cy=\"460.287\" r=\"14\" fill=\"#009af9\" fill-rule=\"evenodd\" fill-opacity=\"1\" stroke=\"#000000\" stroke-opacity=\"1\" stroke-width=\"3.2\"/>\n",
       "<circle clip-path=\"url(#clip272)\" cx=\"879.037\" cy=\"608.684\" r=\"14\" fill=\"#009af9\" fill-rule=\"evenodd\" fill-opacity=\"1\" stroke=\"#000000\" stroke-opacity=\"1\" stroke-width=\"3.2\"/>\n",
       "<circle clip-path=\"url(#clip272)\" cx=\"1036.49\" cy=\"692.228\" r=\"14\" fill=\"#009af9\" fill-rule=\"evenodd\" fill-opacity=\"1\" stroke=\"#000000\" stroke-opacity=\"1\" stroke-width=\"3.2\"/>\n",
       "<circle clip-path=\"url(#clip272)\" cx=\"1193.93\" cy=\"822.705\" r=\"14\" fill=\"#009af9\" fill-rule=\"evenodd\" fill-opacity=\"1\" stroke=\"#000000\" stroke-opacity=\"1\" stroke-width=\"3.2\"/>\n",
       "<circle clip-path=\"url(#clip272)\" cx=\"1351.38\" cy=\"880.97\" r=\"14\" fill=\"#009af9\" fill-rule=\"evenodd\" fill-opacity=\"1\" stroke=\"#000000\" stroke-opacity=\"1\" stroke-width=\"3.2\"/>\n",
       "<circle clip-path=\"url(#clip272)\" cx=\"1508.83\" cy=\"940.563\" r=\"14\" fill=\"#009af9\" fill-rule=\"evenodd\" fill-opacity=\"1\" stroke=\"#000000\" stroke-opacity=\"1\" stroke-width=\"3.2\"/>\n",
       "<circle clip-path=\"url(#clip272)\" cx=\"1666.28\" cy=\"1020.75\" r=\"14\" fill=\"#009af9\" fill-rule=\"evenodd\" fill-opacity=\"1\" stroke=\"#000000\" stroke-opacity=\"1\" stroke-width=\"3.2\"/>\n",
       "<circle clip-path=\"url(#clip272)\" cx=\"1823.73\" cy=\"1090.71\" r=\"14\" fill=\"#009af9\" fill-rule=\"evenodd\" fill-opacity=\"1\" stroke=\"#000000\" stroke-opacity=\"1\" stroke-width=\"3.2\"/>\n",
       "<circle clip-path=\"url(#clip272)\" cx=\"1981.18\" cy=\"1202.43\" r=\"14\" fill=\"#009af9\" fill-rule=\"evenodd\" fill-opacity=\"1\" stroke=\"#000000\" stroke-opacity=\"1\" stroke-width=\"3.2\"/>\n",
       "<circle clip-path=\"url(#clip272)\" cx=\"2138.63\" cy=\"1270.6\" r=\"14\" fill=\"#009af9\" fill-rule=\"evenodd\" fill-opacity=\"1\" stroke=\"#000000\" stroke-opacity=\"1\" stroke-width=\"3.2\"/>\n",
       "<circle clip-path=\"url(#clip272)\" cx=\"2296.07\" cy=\"1359.05\" r=\"14\" fill=\"#009af9\" fill-rule=\"evenodd\" fill-opacity=\"1\" stroke=\"#000000\" stroke-opacity=\"1\" stroke-width=\"3.2\"/>\n",
       "<circle clip-path=\"url(#clip272)\" cx=\"406.692\" cy=\"85.4521\" r=\"14\" fill=\"#e26f46\" fill-rule=\"evenodd\" fill-opacity=\"1\" stroke=\"#000000\" stroke-opacity=\"1\" stroke-width=\"3.2\"/>\n",
       "<circle clip-path=\"url(#clip272)\" cx=\"564.14\" cy=\"280.521\" r=\"14\" fill=\"#e26f46\" fill-rule=\"evenodd\" fill-opacity=\"1\" stroke=\"#000000\" stroke-opacity=\"1\" stroke-width=\"3.2\"/>\n",
       "<circle clip-path=\"url(#clip272)\" cx=\"721.589\" cy=\"504.839\" r=\"14\" fill=\"#e26f46\" fill-rule=\"evenodd\" fill-opacity=\"1\" stroke=\"#000000\" stroke-opacity=\"1\" stroke-width=\"3.2\"/>\n",
       "<circle clip-path=\"url(#clip272)\" cx=\"879.037\" cy=\"585.11\" r=\"14\" fill=\"#e26f46\" fill-rule=\"evenodd\" fill-opacity=\"1\" stroke=\"#000000\" stroke-opacity=\"1\" stroke-width=\"3.2\"/>\n",
       "<circle clip-path=\"url(#clip272)\" cx=\"1036.49\" cy=\"588.944\" r=\"14\" fill=\"#e26f46\" fill-rule=\"evenodd\" fill-opacity=\"1\" stroke=\"#000000\" stroke-opacity=\"1\" stroke-width=\"3.2\"/>\n",
       "<circle clip-path=\"url(#clip272)\" cx=\"1193.93\" cy=\"709.561\" r=\"14\" fill=\"#e26f46\" fill-rule=\"evenodd\" fill-opacity=\"1\" stroke=\"#000000\" stroke-opacity=\"1\" stroke-width=\"3.2\"/>\n",
       "<circle clip-path=\"url(#clip272)\" cx=\"1351.38\" cy=\"739.341\" r=\"14\" fill=\"#e26f46\" fill-rule=\"evenodd\" fill-opacity=\"1\" stroke=\"#000000\" stroke-opacity=\"1\" stroke-width=\"3.2\"/>\n",
       "<circle clip-path=\"url(#clip272)\" cx=\"1508.83\" cy=\"780.194\" r=\"14\" fill=\"#e26f46\" fill-rule=\"evenodd\" fill-opacity=\"1\" stroke=\"#000000\" stroke-opacity=\"1\" stroke-width=\"3.2\"/>\n",
       "<circle clip-path=\"url(#clip272)\" cx=\"1666.28\" cy=\"829.416\" r=\"14\" fill=\"#e26f46\" fill-rule=\"evenodd\" fill-opacity=\"1\" stroke=\"#000000\" stroke-opacity=\"1\" stroke-width=\"3.2\"/>\n",
       "<circle clip-path=\"url(#clip272)\" cx=\"1823.73\" cy=\"892.513\" r=\"14\" fill=\"#e26f46\" fill-rule=\"evenodd\" fill-opacity=\"1\" stroke=\"#000000\" stroke-opacity=\"1\" stroke-width=\"3.2\"/>\n",
       "<circle clip-path=\"url(#clip272)\" cx=\"1981.18\" cy=\"1029.01\" r=\"14\" fill=\"#e26f46\" fill-rule=\"evenodd\" fill-opacity=\"1\" stroke=\"#000000\" stroke-opacity=\"1\" stroke-width=\"3.2\"/>\n",
       "<circle clip-path=\"url(#clip272)\" cx=\"2138.63\" cy=\"1104.77\" r=\"14\" fill=\"#e26f46\" fill-rule=\"evenodd\" fill-opacity=\"1\" stroke=\"#000000\" stroke-opacity=\"1\" stroke-width=\"3.2\"/>\n",
       "<circle clip-path=\"url(#clip272)\" cx=\"2296.07\" cy=\"1254.81\" r=\"14\" fill=\"#e26f46\" fill-rule=\"evenodd\" fill-opacity=\"1\" stroke=\"#000000\" stroke-opacity=\"1\" stroke-width=\"3.2\"/>\n",
       "<path clip-path=\"url(#clip270)\" d=\"\n",
       "M2000.53 273.685 L2286 273.685 L2286 92.2446 L2000.53 92.2446  Z\n",
       "  \" fill=\"#ffffff\" fill-rule=\"evenodd\" fill-opacity=\"1\"/>\n",
       "<polyline clip-path=\"url(#clip270)\" style=\"stroke:#000000; stroke-width:4; stroke-opacity:1; fill:none\" points=\"\n",
       "  2000.53,273.685 2286,273.685 2286,92.2446 2000.53,92.2446 2000.53,273.685 \n",
       "  \"/>\n",
       "<circle clip-path=\"url(#clip270)\" cx=\"2089.54\" cy=\"152.725\" r=\"23\" fill=\"#009af9\" fill-rule=\"evenodd\" fill-opacity=\"1\" stroke=\"#000000\" stroke-opacity=\"1\" stroke-width=\"5.12\"/>\n",
       "<path clip-path=\"url(#clip270)\" d=\"M 0 0 M2217.86 164.402 Q2217.86 164.589 2217.65 165.315 Q2217.44 166.042 2216.92 167.166 Q2216.43 168.29 2215.73 169.321 Q2215.05 170.328 2213.92 171.077 Q2212.82 171.803 2211.56 171.803 Q2209.87 171.803 2208.75 170.679 Q2207.62 169.555 2207.62 167.869 Q2207.62 166.955 2208.25 165.222 Q2211.23 157.305 2211.23 154.471 Q2211.23 151.121 2208.63 151.121 Q2207.15 151.121 2205.82 151.73 Q2204.48 152.339 2203.62 153.183 Q2202.75 154.026 2202.07 154.986 Q2201.39 155.946 2201.09 156.579 Q2200.81 157.211 2200.73 157.492 L2197.85 169.063 Q2197.62 170.047 2197.46 170.515 Q2197.29 170.984 2196.85 171.382 Q2196.4 171.803 2195.7 171.803 Q2195.11 171.803 2194.69 171.452 Q2194.29 171.101 2194.29 170.492 Q2194.29 170.398 2194.41 169.906 Q2194.53 169.414 2194.69 168.735 Q2194.86 168.056 2194.93 167.658 Q2195.77 164.472 2195.89 164.027 L2197.22 158.453 Q2197.95 155.689 2197.95 154.471 Q2197.95 151.121 2195.35 151.121 Q2194.06 151.121 2192.84 151.613 Q2191.65 152.082 2190.83 152.738 Q2190.01 153.393 2189.26 154.307 Q2188.53 155.197 2188.16 155.806 Q2187.81 156.392 2187.52 156.977 L2186.92 159.366 Q2186.78 160.022 2186.1 162.575 L2185.04 166.908 Q2184.29 170.14 2184.13 170.445 Q2183.89 171.101 2183.38 171.452 Q2182.86 171.803 2182.35 171.803 Q2181.76 171.803 2181.36 171.452 Q2180.97 171.101 2180.97 170.492 Q2180.97 170.398 2181.04 170.047 Q2181.11 169.695 2181.22 169.204 Q2181.34 168.712 2181.39 168.431 L2184.18 157.352 Q2184.69 155.338 2184.81 154.705 Q2184.95 154.049 2184.95 153.323 Q2184.95 151.121 2183.45 151.121 Q2182.23 151.121 2181.43 152.574 Q2180.64 154.026 2179.96 156.837 Q2179.75 157.609 2179.61 157.773 Q2179.49 157.937 2179.14 157.937 Q2178.55 157.914 2178.55 157.446 Q2178.55 157.328 2178.74 156.579 Q2178.93 155.829 2179.28 154.705 Q2179.65 153.557 2180.05 152.808 Q2180.29 152.316 2180.5 151.988 Q2180.71 151.66 2181.13 151.145 Q2181.55 150.63 2182.18 150.349 Q2182.82 150.067 2183.59 150.067 Q2185.3 150.067 2186.56 151.168 Q2187.85 152.269 2188.02 154.237 Q2191.13 150.067 2195.49 150.067 Q2197.95 150.067 2199.42 151.309 Q2200.81 152.503 2200.97 154.705 Q2204.2 150.067 2208.79 150.067 Q2211.44 150.067 2212.87 151.449 Q2214.3 152.808 2214.3 155.197 Q2214.3 156.438 2213.66 158.804 Q2213.03 161.146 2212.61 162.317 Q2212.19 163.489 2211.37 165.737 Q2210.5 167.892 2210.5 169.157 Q2210.5 169.977 2210.78 170.351 Q2211.06 170.726 2211.67 170.726 Q2212.61 170.726 2213.43 170.187 Q2214.25 169.625 2214.84 168.712 Q2215.44 167.775 2215.84 166.838 Q2216.24 165.878 2216.55 164.8 Q2216.73 164.215 2216.83 164.074 Q2216.94 163.934 2217.27 163.934 Q2217.86 163.934 2217.86 164.402 Z\" fill=\"#000000\" fill-rule=\"evenodd\" fill-opacity=\"1\" /><path clip-path=\"url(#clip270)\" d=\"M 0 0 M2222.58 151.49 Q2222.58 150.49 2223.15 150.015 Q2223.73 149.539 2224.47 149.539 Q2225.24 149.539 2225.78 150.048 Q2226.33 150.54 2226.33 151.409 Q2226.33 152.343 2225.68 152.868 Q2225.04 153.392 2224.12 153.261 Q2224.92 154.606 2226.4 155.212 Q2227.89 155.819 2229.27 155.819 Q2230.71 155.819 2231.88 154.573 Q2233.06 153.327 2233.06 150.277 Q2233.06 147.687 2232.04 146.195 Q2231.04 144.703 2229.06 144.703 L2227.58 144.703 Q2227.07 144.703 2226.92 144.653 Q2226.78 144.604 2226.78 144.326 Q2226.78 143.998 2227.29 143.932 Q2227.79 143.932 2228.6 143.834 Q2230.55 143.768 2231.58 142.079 Q2232.52 140.505 2232.52 138.259 Q2232.52 136.21 2231.53 135.357 Q2230.56 134.488 2229.3 134.488 Q2228.12 134.488 2226.83 134.98 Q2225.53 135.472 2224.83 136.57 Q2226.91 136.57 2226.91 138.259 Q2226.91 138.997 2226.43 139.489 Q2225.97 139.964 2225.2 139.964 Q2224.47 139.964 2223.97 139.505 Q2223.48 139.03 2223.48 138.226 Q2223.48 136.308 2225.19 134.98 Q2226.91 133.652 2229.43 133.652 Q2231.93 133.652 2233.76 134.964 Q2235.61 136.275 2235.61 138.292 Q2235.61 140.276 2234.3 141.899 Q2232.99 143.522 2230.91 144.194 Q2233.47 144.703 2234.99 146.441 Q2236.52 148.162 2236.52 150.277 Q2236.52 152.901 2234.45 154.835 Q2232.38 156.754 2229.37 156.754 Q2226.58 156.754 2224.58 155.245 Q2222.58 153.737 2222.58 151.49 Z\" fill=\"#000000\" fill-rule=\"evenodd\" fill-opacity=\"1\" /><circle clip-path=\"url(#clip270)\" cx=\"2089.54\" cy=\"213.205\" r=\"23\" fill=\"#e26f46\" fill-rule=\"evenodd\" fill-opacity=\"1\" stroke=\"#000000\" stroke-opacity=\"1\" stroke-width=\"5.12\"/>\n",
       "<path clip-path=\"url(#clip270)\" d=\"M 0 0 M2217.86 224.51 Q2217.86 224.698 2217.65 225.424 Q2217.44 226.15 2216.92 227.274 Q2216.43 228.398 2215.73 229.429 Q2215.05 230.436 2213.92 231.186 Q2212.82 231.912 2211.56 231.912 Q2209.87 231.912 2208.75 230.787 Q2207.62 229.663 2207.62 227.977 Q2207.62 227.063 2208.25 225.33 Q2211.23 217.413 2211.23 214.579 Q2211.23 211.23 2208.63 211.23 Q2207.15 211.23 2205.82 211.839 Q2204.48 212.448 2203.62 213.291 Q2202.75 214.134 2202.07 215.094 Q2201.39 216.055 2201.09 216.687 Q2200.81 217.319 2200.73 217.601 L2197.85 229.171 Q2197.62 230.155 2197.46 230.623 Q2197.29 231.092 2196.85 231.49 Q2196.4 231.912 2195.7 231.912 Q2195.11 231.912 2194.69 231.56 Q2194.29 231.209 2194.29 230.6 Q2194.29 230.506 2194.41 230.014 Q2194.53 229.523 2194.69 228.843 Q2194.86 228.164 2194.93 227.766 Q2195.77 224.58 2195.89 224.135 L2197.22 218.561 Q2197.95 215.797 2197.95 214.579 Q2197.95 211.23 2195.35 211.23 Q2194.06 211.23 2192.84 211.721 Q2191.65 212.19 2190.83 212.846 Q2190.01 213.502 2189.26 214.415 Q2188.53 215.305 2188.16 215.914 Q2187.81 216.5 2187.52 217.085 L2186.92 219.474 Q2186.78 220.13 2186.1 222.683 L2185.04 227.016 Q2184.29 230.249 2184.13 230.553 Q2183.89 231.209 2183.38 231.56 Q2182.86 231.912 2182.35 231.912 Q2181.76 231.912 2181.36 231.56 Q2180.97 231.209 2180.97 230.6 Q2180.97 230.506 2181.04 230.155 Q2181.11 229.804 2181.22 229.312 Q2181.34 228.82 2181.39 228.539 L2184.18 217.46 Q2184.69 215.446 2184.81 214.813 Q2184.95 214.157 2184.95 213.431 Q2184.95 211.23 2183.45 211.23 Q2182.23 211.23 2181.43 212.682 Q2180.64 214.134 2179.96 216.945 Q2179.75 217.718 2179.61 217.882 Q2179.49 218.046 2179.14 218.046 Q2178.55 218.022 2178.55 217.554 Q2178.55 217.437 2178.74 216.687 Q2178.93 215.938 2179.28 214.813 Q2179.65 213.666 2180.05 212.916 Q2180.29 212.424 2180.5 212.096 Q2180.71 211.768 2181.13 211.253 Q2181.55 210.738 2182.18 210.457 Q2182.82 210.176 2183.59 210.176 Q2185.3 210.176 2186.56 211.276 Q2187.85 212.377 2188.02 214.345 Q2191.13 210.176 2195.49 210.176 Q2197.95 210.176 2199.42 211.417 Q2200.81 212.612 2200.97 214.813 Q2204.2 210.176 2208.79 210.176 Q2211.44 210.176 2212.87 211.558 Q2214.3 212.916 2214.3 215.305 Q2214.3 216.546 2213.66 218.912 Q2213.03 221.254 2212.61 222.426 Q2212.19 223.597 2211.37 225.845 Q2210.5 228 2210.5 229.265 Q2210.5 230.085 2210.78 230.459 Q2211.06 230.834 2211.67 230.834 Q2212.61 230.834 2213.43 230.295 Q2214.25 229.733 2214.84 228.82 Q2215.44 227.883 2215.84 226.946 Q2216.24 225.986 2216.55 224.908 Q2216.73 224.323 2216.83 224.182 Q2216.94 224.042 2217.27 224.042 Q2217.86 224.042 2217.86 224.51 Z\" fill=\"#000000\" fill-rule=\"evenodd\" fill-opacity=\"1\" /><path clip-path=\"url(#clip270)\" d=\"M 0 0 M2222.58 216.868 Q2222.58 216.261 2222.63 216.081 Q2222.69 215.9 2222.96 215.622 L2229.4 208.44 Q2232.93 204.472 2232.93 201.013 Q2232.93 198.767 2231.75 197.16 Q2230.58 195.553 2228.43 195.553 Q2226.96 195.553 2225.71 196.455 Q2224.47 197.357 2223.89 198.963 Q2223.99 198.931 2224.33 198.931 Q2225.17 198.931 2225.63 199.455 Q2226.11 199.98 2226.11 200.685 Q2226.11 201.587 2225.51 202.029 Q2224.94 202.456 2224.37 202.456 Q2224.14 202.456 2223.83 202.407 Q2223.53 202.357 2223.06 201.898 Q2222.58 201.423 2222.58 200.587 Q2222.58 198.242 2224.35 196.373 Q2226.14 194.504 2228.86 194.504 Q2231.94 194.504 2233.96 196.34 Q2235.99 198.16 2235.99 201.013 Q2235.99 202.013 2235.68 202.931 Q2235.39 203.833 2234.98 204.538 Q2234.58 205.243 2233.5 206.374 Q2232.42 207.506 2231.55 208.309 Q2230.68 209.112 2228.73 210.818 L2225.17 214.277 L2231.22 214.277 Q2234.17 214.277 2234.4 214.015 Q2234.73 213.539 2235.14 211.031 L2235.99 211.031 L2235.04 216.868 L2222.58 216.868 Z\" fill=\"#000000\" fill-rule=\"evenodd\" fill-opacity=\"1\" /></svg>\n"
      ]
     },
     "execution_count": 52,
     "metadata": {},
     "output_type": "execute_result"
    }
   ],
   "source": [
    "scatter([listaentropia listaentropia_m2],labels = [L\"m^3\" L\"m^2\"], xlabel = \"paso\", ylabel = \"entropia\", xtickfontsize=14,ytickfontsize=14, xtick = (1:13, 2:14))"
   ]
  },
  {
   "cell_type": "markdown",
   "metadata": {},
   "source": [
    "# Permutaciones"
   ]
  },
  {
   "cell_type": "markdown",
   "metadata": {},
   "source": [
    "Las permutaciones sugeridas por el Dr. Pineda."
   ]
  },
  {
   "cell_type": "code",
   "execution_count": 54,
   "metadata": {},
   "outputs": [],
   "source": [
    "puntuacionpermutada = permpuntuaciones(puntuaciones, 6);"
   ]
  },
  {
   "cell_type": "markdown",
   "metadata": {},
   "source": [
    "permpuntuaciones realiza 6 permutaciones de las puntuaciones por columnas. Las permutaciones son transposiciones adyacentes."
   ]
  },
  {
   "cell_type": "code",
   "execution_count": 55,
   "metadata": {},
   "outputs": [
    {
     "data": {
      "text/plain": [
       "13-element Array{Float64,1}:\n",
       " 0.1426103131279451\n",
       " 0.145628154317814\n",
       " 0.1469163123025016\n",
       " 0.14657308756227666\n",
       " 0.14654287622024872\n",
       " 0.14687883132601703\n",
       " 0.14629750348793633\n",
       " 0.1464343407977806\n",
       " 0.14829109029486925\n",
       " 0.1479293797119629\n",
       " 0.14761651423199543\n",
       " 0.14945768219055472\n",
       " 0.1488182201607198"
      ]
     },
     "execution_count": 55,
     "metadata": {},
     "output_type": "execute_result"
    }
   ],
   "source": [
    "listaentropia_b = [fentropia( puntuacionpermutada[:,1:i] |> m3 |> fuzzy ) for i in 2:14]"
   ]
  },
  {
   "cell_type": "code",
   "execution_count": 56,
   "metadata": {},
   "outputs": [
    {
     "data": {
      "image/svg+xml": [
       "<?xml version=\"1.0\" encoding=\"utf-8\"?>\n",
       "<svg xmlns=\"http://www.w3.org/2000/svg\" xmlns:xlink=\"http://www.w3.org/1999/xlink\" width=\"600\" height=\"400\" viewBox=\"0 0 2400 1600\">\n",
       "<defs>\n",
       "  <clipPath id=\"clip310\">\n",
       "    <rect x=\"0\" y=\"0\" width=\"2400\" height=\"1600\"/>\n",
       "  </clipPath>\n",
       "</defs>\n",
       "<path clip-path=\"url(#clip310)\" d=\"\n",
       "M0 1600 L2400 1600 L2400 0 L0 0  Z\n",
       "  \" fill=\"#ffffff\" fill-rule=\"evenodd\" fill-opacity=\"1\"/>\n",
       "<defs>\n",
       "  <clipPath id=\"clip311\">\n",
       "    <rect x=\"480\" y=\"0\" width=\"1681\" height=\"1600\"/>\n",
       "  </clipPath>\n",
       "</defs>\n",
       "<path clip-path=\"url(#clip310)\" d=\"\n",
       "M397.284 1397.26 L2352.76 1397.26 L2352.76 47.2441 L397.284 47.2441  Z\n",
       "  \" fill=\"#ffffff\" fill-rule=\"evenodd\" fill-opacity=\"1\"/>\n",
       "<defs>\n",
       "  <clipPath id=\"clip312\">\n",
       "    <rect x=\"397\" y=\"47\" width=\"1956\" height=\"1351\"/>\n",
       "  </clipPath>\n",
       "</defs>\n",
       "<polyline clip-path=\"url(#clip312)\" style=\"stroke:#000000; stroke-width:2; stroke-opacity:0.1; fill:none\" points=\"\n",
       "  452.628,1397.26 452.628,47.2441 \n",
       "  \"/>\n",
       "<polyline clip-path=\"url(#clip312)\" style=\"stroke:#000000; stroke-width:2; stroke-opacity:0.1; fill:none\" points=\"\n",
       "  606.36,1397.26 606.36,47.2441 \n",
       "  \"/>\n",
       "<polyline clip-path=\"url(#clip312)\" style=\"stroke:#000000; stroke-width:2; stroke-opacity:0.1; fill:none\" points=\"\n",
       "  760.092,1397.26 760.092,47.2441 \n",
       "  \"/>\n",
       "<polyline clip-path=\"url(#clip312)\" style=\"stroke:#000000; stroke-width:2; stroke-opacity:0.1; fill:none\" points=\"\n",
       "  913.824,1397.26 913.824,47.2441 \n",
       "  \"/>\n",
       "<polyline clip-path=\"url(#clip312)\" style=\"stroke:#000000; stroke-width:2; stroke-opacity:0.1; fill:none\" points=\"\n",
       "  1067.56,1397.26 1067.56,47.2441 \n",
       "  \"/>\n",
       "<polyline clip-path=\"url(#clip312)\" style=\"stroke:#000000; stroke-width:2; stroke-opacity:0.1; fill:none\" points=\"\n",
       "  1221.29,1397.26 1221.29,47.2441 \n",
       "  \"/>\n",
       "<polyline clip-path=\"url(#clip312)\" style=\"stroke:#000000; stroke-width:2; stroke-opacity:0.1; fill:none\" points=\"\n",
       "  1375.02,1397.26 1375.02,47.2441 \n",
       "  \"/>\n",
       "<polyline clip-path=\"url(#clip312)\" style=\"stroke:#000000; stroke-width:2; stroke-opacity:0.1; fill:none\" points=\"\n",
       "  1528.75,1397.26 1528.75,47.2441 \n",
       "  \"/>\n",
       "<polyline clip-path=\"url(#clip312)\" style=\"stroke:#000000; stroke-width:2; stroke-opacity:0.1; fill:none\" points=\"\n",
       "  1682.48,1397.26 1682.48,47.2441 \n",
       "  \"/>\n",
       "<polyline clip-path=\"url(#clip312)\" style=\"stroke:#000000; stroke-width:2; stroke-opacity:0.1; fill:none\" points=\"\n",
       "  1836.22,1397.26 1836.22,47.2441 \n",
       "  \"/>\n",
       "<polyline clip-path=\"url(#clip312)\" style=\"stroke:#000000; stroke-width:2; stroke-opacity:0.1; fill:none\" points=\"\n",
       "  1989.95,1397.26 1989.95,47.2441 \n",
       "  \"/>\n",
       "<polyline clip-path=\"url(#clip312)\" style=\"stroke:#000000; stroke-width:2; stroke-opacity:0.1; fill:none\" points=\"\n",
       "  2143.68,1397.26 2143.68,47.2441 \n",
       "  \"/>\n",
       "<polyline clip-path=\"url(#clip312)\" style=\"stroke:#000000; stroke-width:2; stroke-opacity:0.1; fill:none\" points=\"\n",
       "  2297.41,1397.26 2297.41,47.2441 \n",
       "  \"/>\n",
       "<polyline clip-path=\"url(#clip310)\" style=\"stroke:#000000; stroke-width:4; stroke-opacity:1; fill:none\" points=\"\n",
       "  397.284,1397.26 2352.76,1397.26 \n",
       "  \"/>\n",
       "<polyline clip-path=\"url(#clip310)\" style=\"stroke:#000000; stroke-width:4; stroke-opacity:1; fill:none\" points=\"\n",
       "  452.628,1397.26 452.628,1381.06 \n",
       "  \"/>\n",
       "<polyline clip-path=\"url(#clip310)\" style=\"stroke:#000000; stroke-width:4; stroke-opacity:1; fill:none\" points=\"\n",
       "  606.36,1397.26 606.36,1381.06 \n",
       "  \"/>\n",
       "<polyline clip-path=\"url(#clip310)\" style=\"stroke:#000000; stroke-width:4; stroke-opacity:1; fill:none\" points=\"\n",
       "  760.092,1397.26 760.092,1381.06 \n",
       "  \"/>\n",
       "<polyline clip-path=\"url(#clip310)\" style=\"stroke:#000000; stroke-width:4; stroke-opacity:1; fill:none\" points=\"\n",
       "  913.824,1397.26 913.824,1381.06 \n",
       "  \"/>\n",
       "<polyline clip-path=\"url(#clip310)\" style=\"stroke:#000000; stroke-width:4; stroke-opacity:1; fill:none\" points=\"\n",
       "  1067.56,1397.26 1067.56,1381.06 \n",
       "  \"/>\n",
       "<polyline clip-path=\"url(#clip310)\" style=\"stroke:#000000; stroke-width:4; stroke-opacity:1; fill:none\" points=\"\n",
       "  1221.29,1397.26 1221.29,1381.06 \n",
       "  \"/>\n",
       "<polyline clip-path=\"url(#clip310)\" style=\"stroke:#000000; stroke-width:4; stroke-opacity:1; fill:none\" points=\"\n",
       "  1375.02,1397.26 1375.02,1381.06 \n",
       "  \"/>\n",
       "<polyline clip-path=\"url(#clip310)\" style=\"stroke:#000000; stroke-width:4; stroke-opacity:1; fill:none\" points=\"\n",
       "  1528.75,1397.26 1528.75,1381.06 \n",
       "  \"/>\n",
       "<polyline clip-path=\"url(#clip310)\" style=\"stroke:#000000; stroke-width:4; stroke-opacity:1; fill:none\" points=\"\n",
       "  1682.48,1397.26 1682.48,1381.06 \n",
       "  \"/>\n",
       "<polyline clip-path=\"url(#clip310)\" style=\"stroke:#000000; stroke-width:4; stroke-opacity:1; fill:none\" points=\"\n",
       "  1836.22,1397.26 1836.22,1381.06 \n",
       "  \"/>\n",
       "<polyline clip-path=\"url(#clip310)\" style=\"stroke:#000000; stroke-width:4; stroke-opacity:1; fill:none\" points=\"\n",
       "  1989.95,1397.26 1989.95,1381.06 \n",
       "  \"/>\n",
       "<polyline clip-path=\"url(#clip310)\" style=\"stroke:#000000; stroke-width:4; stroke-opacity:1; fill:none\" points=\"\n",
       "  2143.68,1397.26 2143.68,1381.06 \n",
       "  \"/>\n",
       "<polyline clip-path=\"url(#clip310)\" style=\"stroke:#000000; stroke-width:4; stroke-opacity:1; fill:none\" points=\"\n",
       "  2297.41,1397.26 2297.41,1381.06 \n",
       "  \"/>\n",
       "<path clip-path=\"url(#clip310)\" d=\"M 0 0 M443.27 1482.15 L471.829 1482.15 L471.829 1489.04 L433.427 1489.04 L433.427 1482.15 Q438.085 1477.33 446.106 1469.23 Q454.167 1461.08 456.233 1458.74 Q460.163 1454.32 461.702 1451.28 Q463.282 1448.2 463.282 1445.25 Q463.282 1440.42 459.879 1437.39 Q456.517 1434.35 451.088 1434.35 Q447.24 1434.35 442.946 1435.69 Q438.693 1437.02 433.832 1439.74 L433.832 1431.47 Q438.774 1429.49 443.068 1428.47 Q447.362 1427.46 450.926 1427.46 Q460.325 1427.46 465.915 1432.16 Q471.505 1436.86 471.505 1444.72 Q471.505 1448.45 470.087 1451.81 Q468.71 1455.13 465.024 1459.67 Q464.011 1460.84 458.583 1466.47 Q453.154 1472.06 443.27 1482.15 Z\" fill=\"#000000\" fill-rule=\"evenodd\" fill-opacity=\"1\" /><path clip-path=\"url(#clip310)\" d=\"M 0 0 M613.793 1456.43 Q619.667 1457.68 622.948 1461.65 Q626.27 1465.62 626.27 1471.45 Q626.27 1480.41 620.113 1485.31 Q613.955 1490.21 602.613 1490.21 Q598.805 1490.21 594.754 1489.44 Q590.744 1488.71 586.45 1487.21 L586.45 1479.31 Q589.852 1481.3 593.903 1482.31 Q597.954 1483.32 602.37 1483.32 Q610.066 1483.32 614.077 1480.29 Q618.128 1477.25 618.128 1471.45 Q618.128 1466.11 614.36 1463.11 Q610.634 1460.07 603.95 1460.07 L596.901 1460.07 L596.901 1453.35 L604.274 1453.35 Q610.31 1453.35 613.51 1450.96 Q616.71 1448.53 616.71 1443.99 Q616.71 1439.33 613.388 1436.86 Q610.107 1434.35 603.95 1434.35 Q600.587 1434.35 596.739 1435.08 Q592.891 1435.81 588.273 1437.35 L588.273 1430.05 Q592.931 1428.76 596.982 1428.11 Q601.073 1427.46 604.679 1427.46 Q613.996 1427.46 619.424 1431.72 Q624.852 1435.93 624.852 1443.14 Q624.852 1448.16 621.976 1451.65 Q619.1 1455.09 613.793 1456.43 Z\" fill=\"#000000\" fill-rule=\"evenodd\" fill-opacity=\"1\" /><path clip-path=\"url(#clip310)\" d=\"M 0 0 M765.358 1435.69 L744.698 1467.97 L765.358 1467.97 L765.358 1435.69 M763.211 1428.56 L773.5 1428.56 L773.5 1467.97 L782.129 1467.97 L782.129 1474.78 L773.5 1474.78 L773.5 1489.04 L765.358 1489.04 L765.358 1474.78 L738.055 1474.78 L738.055 1466.88 L763.211 1428.56 Z\" fill=\"#000000\" fill-rule=\"evenodd\" fill-opacity=\"1\" /><path clip-path=\"url(#clip310)\" d=\"M 0 0 M896.81 1428.56 L928.934 1428.56 L928.934 1435.44 L904.304 1435.44 L904.304 1450.27 Q906.087 1449.66 907.869 1449.38 Q909.652 1449.05 911.434 1449.05 Q921.561 1449.05 927.476 1454.6 Q933.39 1460.15 933.39 1469.63 Q933.39 1479.39 927.313 1484.82 Q921.237 1490.21 910.178 1490.21 Q906.37 1490.21 902.4 1489.56 Q898.471 1488.91 894.258 1487.62 L894.258 1479.39 Q897.904 1481.38 901.793 1482.35 Q905.682 1483.32 910.016 1483.32 Q917.024 1483.32 921.116 1479.64 Q925.207 1475.95 925.207 1469.63 Q925.207 1463.31 921.116 1459.63 Q917.024 1455.94 910.016 1455.94 Q906.735 1455.94 903.454 1456.67 Q900.213 1457.4 896.81 1458.94 L896.81 1428.56 Z\" fill=\"#000000\" fill-rule=\"evenodd\" fill-opacity=\"1\" /><path clip-path=\"url(#clip310)\" d=\"M 0 0 M1068.26 1455.53 Q1062.76 1455.53 1059.51 1459.3 Q1056.31 1463.07 1056.31 1469.63 Q1056.31 1476.15 1059.51 1479.96 Q1062.76 1483.73 1068.26 1483.73 Q1073.77 1483.73 1076.97 1479.96 Q1080.22 1476.15 1080.22 1469.63 Q1080.22 1463.07 1076.97 1459.3 Q1073.77 1455.53 1068.26 1455.53 M1084.51 1429.89 L1084.51 1437.35 Q1081.43 1435.89 1078.27 1435.12 Q1075.15 1434.35 1072.07 1434.35 Q1063.97 1434.35 1059.68 1439.82 Q1055.42 1445.29 1054.82 1456.35 Q1057.21 1452.82 1060.81 1450.96 Q1064.42 1449.05 1068.75 1449.05 Q1077.87 1449.05 1083.13 1454.6 Q1088.44 1460.11 1088.44 1469.63 Q1088.44 1478.95 1082.93 1484.58 Q1077.42 1490.21 1068.26 1490.21 Q1057.77 1490.21 1052.22 1482.19 Q1046.67 1474.13 1046.67 1458.86 Q1046.67 1444.52 1053.48 1436.01 Q1060.28 1427.46 1071.75 1427.46 Q1074.83 1427.46 1077.95 1428.07 Q1081.11 1428.68 1084.51 1429.89 Z\" fill=\"#000000\" fill-rule=\"evenodd\" fill-opacity=\"1\" /><path clip-path=\"url(#clip310)\" d=\"M 0 0 M1201.84 1428.56 L1240.73 1428.56 L1240.73 1432.04 L1218.78 1489.04 L1210.23 1489.04 L1230.89 1435.44 L1201.84 1435.44 L1201.84 1428.56 Z\" fill=\"#000000\" fill-rule=\"evenodd\" fill-opacity=\"1\" /><path clip-path=\"url(#clip310)\" d=\"M 0 0 M1375.02 1460.31 Q1369.19 1460.31 1365.82 1463.43 Q1362.5 1466.55 1362.5 1472.02 Q1362.5 1477.49 1365.82 1480.61 Q1369.19 1483.73 1375.02 1483.73 Q1380.85 1483.73 1384.22 1480.61 Q1387.58 1477.45 1387.58 1472.02 Q1387.58 1466.55 1384.22 1463.43 Q1380.89 1460.31 1375.02 1460.31 M1366.84 1456.83 Q1361.57 1455.53 1358.61 1451.93 Q1355.7 1448.32 1355.7 1443.14 Q1355.7 1435.89 1360.84 1431.68 Q1366.03 1427.46 1375.02 1427.46 Q1384.05 1427.46 1389.2 1431.68 Q1394.34 1435.89 1394.34 1443.14 Q1394.34 1448.32 1391.39 1451.93 Q1388.47 1455.53 1383.24 1456.83 Q1389.16 1458.21 1392.44 1462.22 Q1395.76 1466.23 1395.76 1472.02 Q1395.76 1480.81 1390.37 1485.51 Q1385.03 1490.21 1375.02 1490.21 Q1365.01 1490.21 1359.63 1485.51 Q1354.28 1480.81 1354.28 1472.02 Q1354.28 1466.23 1357.6 1462.22 Q1360.92 1458.21 1366.84 1456.83 M1363.84 1443.91 Q1363.84 1448.61 1366.76 1451.24 Q1369.71 1453.87 1375.02 1453.87 Q1380.29 1453.87 1383.24 1451.24 Q1386.24 1448.61 1386.24 1443.91 Q1386.24 1439.21 1383.24 1436.58 Q1380.29 1433.94 1375.02 1433.94 Q1369.71 1433.94 1366.76 1436.58 Q1363.84 1439.21 1363.84 1443.91 Z\" fill=\"#000000\" fill-rule=\"evenodd\" fill-opacity=\"1\" /><path clip-path=\"url(#clip310)\" d=\"M 0 0 M1511.78 1487.78 L1511.78 1480.33 Q1514.86 1481.78 1518.02 1482.55 Q1521.18 1483.32 1524.22 1483.32 Q1532.32 1483.32 1536.57 1477.9 Q1540.86 1472.43 1541.47 1461.33 Q1539.12 1464.81 1535.52 1466.67 Q1531.91 1468.54 1527.54 1468.54 Q1518.46 1468.54 1513.16 1463.07 Q1507.89 1457.56 1507.89 1448.04 Q1507.89 1438.72 1513.4 1433.09 Q1518.91 1427.46 1528.06 1427.46 Q1538.56 1427.46 1544.06 1435.52 Q1549.61 1443.54 1549.61 1458.86 Q1549.61 1473.16 1542.81 1481.7 Q1536.04 1490.21 1524.58 1490.21 Q1521.5 1490.21 1518.34 1489.6 Q1515.18 1489 1511.78 1487.78 M1528.06 1462.14 Q1533.57 1462.14 1536.77 1458.37 Q1540.01 1454.6 1540.01 1448.04 Q1540.01 1441.52 1536.77 1437.75 Q1533.57 1433.94 1528.06 1433.94 Q1522.55 1433.94 1519.31 1437.75 Q1516.11 1441.52 1516.11 1448.04 Q1516.11 1454.6 1519.31 1458.37 Q1522.55 1462.14 1528.06 1462.14 Z\" fill=\"#000000\" fill-rule=\"evenodd\" fill-opacity=\"1\" /><path clip-path=\"url(#clip310)\" d=\"M 0 0 M1642.02 1482.15 L1655.38 1482.15 L1655.38 1436.01 L1640.84 1438.93 L1640.84 1431.47 L1655.3 1428.56 L1663.49 1428.56 L1663.49 1482.15 L1676.85 1482.15 L1676.85 1489.04 L1642.02 1489.04 L1642.02 1482.15 Z\" fill=\"#000000\" fill-rule=\"evenodd\" fill-opacity=\"1\" /><path clip-path=\"url(#clip310)\" d=\"M 0 0 M1703.22 1433.94 Q1696.91 1433.94 1693.71 1440.18 Q1690.55 1446.38 1690.55 1458.86 Q1690.55 1471.29 1693.71 1477.53 Q1696.91 1483.73 1703.22 1483.73 Q1709.58 1483.73 1712.74 1477.53 Q1715.94 1471.29 1715.94 1458.86 Q1715.94 1446.38 1712.74 1440.18 Q1709.58 1433.94 1703.22 1433.94 M1703.22 1427.46 Q1713.39 1427.46 1718.74 1435.52 Q1724.13 1443.54 1724.13 1458.86 Q1724.13 1474.13 1718.74 1482.19 Q1713.39 1490.21 1703.22 1490.21 Q1693.06 1490.21 1687.67 1482.19 Q1682.32 1474.13 1682.32 1458.86 Q1682.32 1443.54 1687.67 1435.52 Q1693.06 1427.46 1703.22 1427.46 Z\" fill=\"#000000\" fill-rule=\"evenodd\" fill-opacity=\"1\" /><path clip-path=\"url(#clip310)\" d=\"M 0 0 M1796.82 1482.15 L1810.19 1482.15 L1810.19 1436.01 L1795.65 1438.93 L1795.65 1431.47 L1810.11 1428.56 L1818.29 1428.56 L1818.29 1482.15 L1831.66 1482.15 L1831.66 1489.04 L1796.82 1489.04 L1796.82 1482.15 Z\" fill=\"#000000\" fill-rule=\"evenodd\" fill-opacity=\"1\" /><path clip-path=\"url(#clip310)\" d=\"M 0 0 M1841.95 1482.15 L1855.32 1482.15 L1855.32 1436.01 L1840.77 1438.93 L1840.77 1431.47 L1855.24 1428.56 L1863.42 1428.56 L1863.42 1482.15 L1876.79 1482.15 L1876.79 1489.04 L1841.95 1489.04 L1841.95 1482.15 Z\" fill=\"#000000\" fill-rule=\"evenodd\" fill-opacity=\"1\" /><path clip-path=\"url(#clip310)\" d=\"M 0 0 M1950.88 1482.15 L1964.25 1482.15 L1964.25 1436.01 L1949.7 1438.93 L1949.7 1431.47 L1964.16 1428.56 L1972.35 1428.56 L1972.35 1482.15 L1985.72 1482.15 L1985.72 1489.04 L1950.88 1489.04 L1950.88 1482.15 Z\" fill=\"#000000\" fill-rule=\"evenodd\" fill-opacity=\"1\" /><path clip-path=\"url(#clip310)\" d=\"M 0 0 M2001.64 1482.15 L2030.19 1482.15 L2030.19 1489.04 L1991.79 1489.04 L1991.79 1482.15 Q1996.45 1477.33 2004.47 1469.23 Q2012.53 1461.08 2014.6 1458.74 Q2018.53 1454.32 2020.07 1451.28 Q2021.65 1448.2 2021.65 1445.25 Q2021.65 1440.42 2018.24 1437.39 Q2014.88 1434.35 2009.45 1434.35 Q2005.61 1434.35 2001.31 1435.69 Q1997.06 1437.02 1992.2 1439.74 L1992.2 1431.47 Q1997.14 1429.49 2001.43 1428.47 Q2005.73 1427.46 2009.29 1427.46 Q2018.69 1427.46 2024.28 1432.16 Q2029.87 1436.86 2029.87 1444.72 Q2029.87 1448.45 2028.45 1451.81 Q2027.07 1455.13 2023.39 1459.67 Q2022.38 1460.84 2016.95 1466.47 Q2011.52 1472.06 2001.64 1482.15 Z\" fill=\"#000000\" fill-rule=\"evenodd\" fill-opacity=\"1\" /><path clip-path=\"url(#clip310)\" d=\"M 0 0 M2103.78 1482.15 L2117.15 1482.15 L2117.15 1436.01 L2102.6 1438.93 L2102.6 1431.47 L2117.07 1428.56 L2125.25 1428.56 L2125.25 1482.15 L2138.62 1482.15 L2138.62 1489.04 L2103.78 1489.04 L2103.78 1482.15 Z\" fill=\"#000000\" fill-rule=\"evenodd\" fill-opacity=\"1\" /><path clip-path=\"url(#clip310)\" d=\"M 0 0 M2172.28 1456.43 Q2178.15 1457.68 2181.43 1461.65 Q2184.76 1465.62 2184.76 1471.45 Q2184.76 1480.41 2178.6 1485.31 Q2172.44 1490.21 2161.1 1490.21 Q2157.29 1490.21 2153.24 1489.44 Q2149.23 1488.71 2144.94 1487.21 L2144.94 1479.31 Q2148.34 1481.3 2152.39 1482.31 Q2156.44 1483.32 2160.86 1483.32 Q2168.55 1483.32 2172.56 1480.29 Q2176.61 1477.25 2176.61 1471.45 Q2176.61 1466.11 2172.85 1463.11 Q2169.12 1460.07 2162.44 1460.07 L2155.39 1460.07 L2155.39 1453.35 L2162.76 1453.35 Q2168.8 1453.35 2172 1450.96 Q2175.2 1448.53 2175.2 1443.99 Q2175.2 1439.33 2171.87 1436.86 Q2168.59 1434.35 2162.44 1434.35 Q2159.07 1434.35 2155.23 1435.08 Q2151.38 1435.81 2146.76 1437.35 L2146.76 1430.05 Q2151.42 1428.76 2155.47 1428.11 Q2159.56 1427.46 2163.17 1427.46 Q2172.48 1427.46 2177.91 1431.72 Q2183.34 1435.93 2183.34 1443.14 Q2183.34 1448.16 2180.46 1451.65 Q2177.59 1455.09 2172.28 1456.43 Z\" fill=\"#000000\" fill-rule=\"evenodd\" fill-opacity=\"1\" /><path clip-path=\"url(#clip310)\" d=\"M 0 0 M2256.52 1482.15 L2269.89 1482.15 L2269.89 1436.01 L2255.34 1438.93 L2255.34 1431.47 L2269.81 1428.56 L2277.99 1428.56 L2277.99 1482.15 L2291.36 1482.15 L2291.36 1489.04 L2256.52 1489.04 L2256.52 1482.15 Z\" fill=\"#000000\" fill-rule=\"evenodd\" fill-opacity=\"1\" /><path clip-path=\"url(#clip310)\" d=\"M 0 0 M2322.71 1435.69 L2302.05 1467.97 L2322.71 1467.97 L2322.71 1435.69 M2320.56 1428.56 L2330.85 1428.56 L2330.85 1467.97 L2339.48 1467.97 L2339.48 1474.78 L2330.85 1474.78 L2330.85 1489.04 L2322.71 1489.04 L2322.71 1474.78 L2295.41 1474.78 L2295.41 1466.88 L2320.56 1428.56 Z\" fill=\"#000000\" fill-rule=\"evenodd\" fill-opacity=\"1\" /><path clip-path=\"url(#clip310)\" d=\"M 0 0 M1314.4 1563.66 L1314.4 1582.56 L1308.51 1582.56 L1308.51 1533.36 L1314.4 1533.36 L1314.4 1538.77 Q1316.25 1535.58 1319.05 1534.06 Q1321.88 1532.5 1325.8 1532.5 Q1332.29 1532.5 1336.33 1537.65 Q1340.41 1542.81 1340.41 1551.21 Q1340.41 1559.61 1336.33 1564.77 Q1332.29 1569.93 1325.8 1569.93 Q1321.88 1569.93 1319.05 1568.4 Q1316.25 1566.84 1314.4 1563.66 M1334.33 1551.21 Q1334.33 1544.75 1331.65 1541.09 Q1329.01 1537.4 1324.36 1537.4 Q1319.72 1537.4 1317.04 1541.09 Q1314.4 1544.75 1314.4 1551.21 Q1314.4 1557.67 1317.04 1561.36 Q1319.72 1565.03 1324.36 1565.03 Q1329.01 1565.03 1331.65 1561.36 Q1334.33 1557.67 1334.33 1551.21 Z\" fill=\"#000000\" fill-rule=\"evenodd\" fill-opacity=\"1\" /><path clip-path=\"url(#clip310)\" d=\"M 0 0 M1362.75 1551.08 Q1355.65 1551.08 1352.92 1552.71 Q1350.18 1554.33 1350.18 1558.25 Q1350.18 1561.36 1352.21 1563.21 Q1354.28 1565.03 1357.82 1565.03 Q1362.69 1565.03 1365.61 1561.59 Q1368.57 1558.12 1368.57 1552.39 L1368.57 1551.08 L1362.75 1551.08 M1374.43 1548.67 L1374.43 1569 L1368.57 1569 L1368.57 1563.59 Q1366.57 1566.84 1363.58 1568.4 Q1360.59 1569.93 1356.26 1569.93 Q1350.78 1569.93 1347.54 1566.87 Q1344.32 1563.78 1344.32 1558.63 Q1344.32 1552.61 1348.33 1549.56 Q1352.37 1546.5 1360.36 1546.5 L1368.57 1546.5 L1368.57 1545.93 Q1368.57 1541.89 1365.9 1539.69 Q1363.26 1537.46 1358.45 1537.46 Q1355.4 1537.46 1352.5 1538.19 Q1349.61 1538.93 1346.93 1540.39 L1346.93 1534.98 Q1350.15 1533.74 1353.17 1533.13 Q1356.19 1532.5 1359.06 1532.5 Q1366.79 1532.5 1370.61 1536.51 Q1374.43 1540.52 1374.43 1548.67 Z\" fill=\"#000000\" fill-rule=\"evenodd\" fill-opacity=\"1\" /><path clip-path=\"url(#clip310)\" d=\"M 0 0 M1403.3 1534.41 L1403.3 1539.94 Q1400.82 1538.67 1398.14 1538.03 Q1395.47 1537.4 1392.61 1537.4 Q1388.24 1537.4 1386.05 1538.73 Q1383.88 1540.07 1383.88 1542.75 Q1383.88 1544.78 1385.44 1545.96 Q1387 1547.11 1391.71 1548.16 L1393.72 1548.6 Q1399.96 1549.94 1402.57 1552.39 Q1405.21 1554.81 1405.21 1559.17 Q1405.21 1564.13 1401.26 1567.03 Q1397.35 1569.93 1390.47 1569.93 Q1387.61 1569.93 1384.49 1569.35 Q1381.4 1568.81 1377.96 1567.7 L1377.96 1561.65 Q1381.21 1563.34 1384.36 1564.2 Q1387.51 1565.03 1390.6 1565.03 Q1394.74 1565.03 1396.97 1563.62 Q1399.19 1562.19 1399.19 1559.61 Q1399.19 1557.23 1397.57 1555.95 Q1395.98 1554.68 1390.54 1553.5 L1388.5 1553.03 Q1383.06 1551.88 1380.64 1549.52 Q1378.22 1547.14 1378.22 1543 Q1378.22 1537.97 1381.78 1535.23 Q1385.35 1532.5 1391.91 1532.5 Q1395.15 1532.5 1398.02 1532.97 Q1400.88 1533.45 1403.3 1534.41 Z\" fill=\"#000000\" fill-rule=\"evenodd\" fill-opacity=\"1\" /><path clip-path=\"url(#clip310)\" d=\"M 0 0 M1425.17 1537.46 Q1420.46 1537.46 1417.72 1541.15 Q1414.98 1544.81 1414.98 1551.21 Q1414.98 1557.61 1417.69 1561.3 Q1420.42 1564.96 1425.17 1564.96 Q1429.84 1564.96 1432.58 1561.27 Q1435.32 1557.58 1435.32 1551.21 Q1435.32 1544.88 1432.58 1541.19 Q1429.84 1537.46 1425.17 1537.46 M1425.17 1532.5 Q1432.8 1532.5 1437.17 1537.46 Q1441.53 1542.43 1441.53 1551.21 Q1441.53 1559.96 1437.17 1564.96 Q1432.8 1569.93 1425.17 1569.93 Q1417.5 1569.93 1413.13 1564.96 Q1408.81 1559.96 1408.81 1551.21 Q1408.81 1542.43 1413.13 1537.46 Q1417.5 1532.5 1425.17 1532.5 Z\" fill=\"#000000\" fill-rule=\"evenodd\" fill-opacity=\"1\" /><polyline clip-path=\"url(#clip312)\" style=\"stroke:#000000; stroke-width:2; stroke-opacity:0.1; fill:none\" points=\"\n",
       "  397.284,1151.9 2352.76,1151.9 \n",
       "  \"/>\n",
       "<polyline clip-path=\"url(#clip312)\" style=\"stroke:#000000; stroke-width:2; stroke-opacity:0.1; fill:none\" points=\"\n",
       "  397.284,869.998 2352.76,869.998 \n",
       "  \"/>\n",
       "<polyline clip-path=\"url(#clip312)\" style=\"stroke:#000000; stroke-width:2; stroke-opacity:0.1; fill:none\" points=\"\n",
       "  397.284,588.099 2352.76,588.099 \n",
       "  \"/>\n",
       "<polyline clip-path=\"url(#clip312)\" style=\"stroke:#000000; stroke-width:2; stroke-opacity:0.1; fill:none\" points=\"\n",
       "  397.284,306.2 2352.76,306.2 \n",
       "  \"/>\n",
       "<polyline clip-path=\"url(#clip310)\" style=\"stroke:#000000; stroke-width:4; stroke-opacity:1; fill:none\" points=\"\n",
       "  397.284,1397.26 397.284,47.2441 \n",
       "  \"/>\n",
       "<polyline clip-path=\"url(#clip310)\" style=\"stroke:#000000; stroke-width:4; stroke-opacity:1; fill:none\" points=\"\n",
       "  397.284,1151.9 420.75,1151.9 \n",
       "  \"/>\n",
       "<polyline clip-path=\"url(#clip310)\" style=\"stroke:#000000; stroke-width:4; stroke-opacity:1; fill:none\" points=\"\n",
       "  397.284,869.998 420.75,869.998 \n",
       "  \"/>\n",
       "<polyline clip-path=\"url(#clip310)\" style=\"stroke:#000000; stroke-width:4; stroke-opacity:1; fill:none\" points=\"\n",
       "  397.284,588.099 420.75,588.099 \n",
       "  \"/>\n",
       "<polyline clip-path=\"url(#clip310)\" style=\"stroke:#000000; stroke-width:4; stroke-opacity:1; fill:none\" points=\"\n",
       "  397.284,306.2 420.75,306.2 \n",
       "  \"/>\n",
       "<path clip-path=\"url(#clip310)\" d=\"M 0 0 M135.163 1127.04 Q128.843 1127.04 125.643 1133.28 Q122.483 1139.48 122.483 1151.96 Q122.483 1164.39 125.643 1170.63 Q128.843 1176.83 135.163 1176.83 Q141.523 1176.83 144.682 1170.63 Q147.883 1164.39 147.883 1151.96 Q147.883 1139.48 144.682 1133.28 Q141.523 1127.04 135.163 1127.04 M135.163 1120.56 Q145.331 1120.56 150.678 1128.62 Q156.065 1136.65 156.065 1151.96 Q156.065 1167.23 150.678 1175.29 Q145.331 1183.31 135.163 1183.31 Q124.995 1183.31 119.607 1175.29 Q114.26 1167.23 114.26 1151.96 Q114.26 1136.65 119.607 1128.62 Q124.995 1120.56 135.163 1120.56 Z\" fill=\"#000000\" fill-rule=\"evenodd\" fill-opacity=\"1\" /><path clip-path=\"url(#clip310)\" d=\"M 0 0 M164.937 1171.85 L173.484 1171.85 L173.484 1182.14 L164.937 1182.14 L164.937 1171.85 Z\" fill=\"#000000\" fill-rule=\"evenodd\" fill-opacity=\"1\" /><path clip-path=\"url(#clip310)\" d=\"M 0 0 M183.774 1175.25 L197.142 1175.25 L197.142 1129.11 L182.599 1132.03 L182.599 1124.57 L197.061 1121.66 L205.243 1121.66 L205.243 1175.25 L218.611 1175.25 L218.611 1182.14 L183.774 1182.14 L183.774 1175.25 Z\" fill=\"#000000\" fill-rule=\"evenodd\" fill-opacity=\"1\" /><path clip-path=\"url(#clip310)\" d=\"M 0 0 M249.965 1128.79 L229.306 1161.07 L249.965 1161.07 L249.965 1128.79 M247.818 1121.66 L258.108 1121.66 L258.108 1161.07 L266.736 1161.07 L266.736 1167.88 L258.108 1167.88 L258.108 1182.14 L249.965 1182.14 L249.965 1167.88 L222.662 1167.88 L222.662 1159.98 L247.818 1121.66 Z\" fill=\"#000000\" fill-rule=\"evenodd\" fill-opacity=\"1\" /><path clip-path=\"url(#clip310)\" d=\"M 0 0 M293.108 1127.04 Q286.788 1127.04 283.588 1133.28 Q280.428 1139.48 280.428 1151.96 Q280.428 1164.39 283.588 1170.63 Q286.788 1176.83 293.108 1176.83 Q299.467 1176.83 302.627 1170.63 Q305.827 1164.39 305.827 1151.96 Q305.827 1139.48 302.627 1133.28 Q299.467 1127.04 293.108 1127.04 M293.108 1120.56 Q303.275 1120.56 308.623 1128.62 Q314.01 1136.65 314.01 1151.96 Q314.01 1167.23 308.623 1175.29 Q303.275 1183.31 293.108 1183.31 Q282.94 1183.31 277.552 1175.29 Q272.205 1167.23 272.205 1151.96 Q272.205 1136.65 277.552 1128.62 Q282.94 1120.56 293.108 1120.56 Z\" fill=\"#000000\" fill-rule=\"evenodd\" fill-opacity=\"1\" /><path clip-path=\"url(#clip310)\" d=\"M 0 0 M340.382 1127.04 Q334.062 1127.04 330.862 1133.28 Q327.702 1139.48 327.702 1151.96 Q327.702 1164.39 330.862 1170.63 Q334.062 1176.83 340.382 1176.83 Q346.742 1176.83 349.901 1170.63 Q353.101 1164.39 353.101 1151.96 Q353.101 1139.48 349.901 1133.28 Q346.742 1127.04 340.382 1127.04 M340.382 1120.56 Q350.549 1120.56 355.897 1128.62 Q361.284 1136.65 361.284 1151.96 Q361.284 1167.23 355.897 1175.29 Q350.549 1183.31 340.382 1183.31 Q330.214 1183.31 324.826 1175.29 Q319.479 1167.23 319.479 1151.96 Q319.479 1136.65 324.826 1128.62 Q330.214 1120.56 340.382 1120.56 Z\" fill=\"#000000\" fill-rule=\"evenodd\" fill-opacity=\"1\" /><path clip-path=\"url(#clip310)\" d=\"M 0 0 M139.7 845.146 Q133.38 845.146 130.18 851.384 Q127.021 857.582 127.021 870.059 Q127.021 882.495 130.18 888.733 Q133.38 894.931 139.7 894.931 Q146.06 894.931 149.219 888.733 Q152.42 882.495 152.42 870.059 Q152.42 857.582 149.219 851.384 Q146.06 845.146 139.7 845.146 M139.7 838.664 Q149.868 838.664 155.215 846.726 Q160.603 854.746 160.603 870.059 Q160.603 885.331 155.215 893.392 Q149.868 901.413 139.7 901.413 Q129.532 901.413 124.144 893.392 Q118.797 885.331 118.797 870.059 Q118.797 854.746 124.144 846.726 Q129.532 838.664 139.7 838.664 Z\" fill=\"#000000\" fill-rule=\"evenodd\" fill-opacity=\"1\" /><path clip-path=\"url(#clip310)\" d=\"M 0 0 M169.474 889.949 L178.021 889.949 L178.021 900.238 L169.474 900.238 L169.474 889.949 Z\" fill=\"#000000\" fill-rule=\"evenodd\" fill-opacity=\"1\" /><path clip-path=\"url(#clip310)\" d=\"M 0 0 M188.311 893.351 L201.679 893.351 L201.679 847.212 L187.136 850.128 L187.136 842.675 L201.598 839.758 L209.78 839.758 L209.78 893.351 L223.148 893.351 L223.148 900.238 L188.311 900.238 L188.311 893.351 Z\" fill=\"#000000\" fill-rule=\"evenodd\" fill-opacity=\"1\" /><path clip-path=\"url(#clip310)\" d=\"M 0 0 M254.502 846.888 L233.843 879.173 L254.502 879.173 L254.502 846.888 M252.355 839.758 L262.645 839.758 L262.645 879.173 L271.273 879.173 L271.273 885.979 L262.645 885.979 L262.645 900.238 L254.502 900.238 L254.502 885.979 L227.199 885.979 L227.199 878.08 L252.355 839.758 Z\" fill=\"#000000\" fill-rule=\"evenodd\" fill-opacity=\"1\" /><path clip-path=\"url(#clip310)\" d=\"M 0 0 M287.193 893.351 L315.752 893.351 L315.752 900.238 L277.35 900.238 L277.35 893.351 Q282.008 888.531 290.029 880.429 Q298.09 872.287 300.156 869.937 Q304.086 865.522 305.625 862.484 Q307.205 859.405 307.205 856.448 Q307.205 851.627 303.802 848.589 Q300.44 845.551 295.012 845.551 Q291.163 845.551 286.869 846.888 Q282.616 848.224 277.755 850.938 L277.755 842.675 Q282.697 840.69 286.991 839.677 Q291.285 838.664 294.849 838.664 Q304.248 838.664 309.838 843.363 Q315.428 848.062 315.428 855.921 Q315.428 859.648 314.01 863.01 Q312.633 866.332 308.947 870.869 Q307.934 872.044 302.506 877.674 Q297.077 883.265 287.193 893.351 Z\" fill=\"#000000\" fill-rule=\"evenodd\" fill-opacity=\"1\" /><path clip-path=\"url(#clip310)\" d=\"M 0 0 M324.705 839.758 L356.828 839.758 L356.828 846.645 L332.199 846.645 L332.199 861.471 Q333.981 860.863 335.764 860.58 Q337.546 860.256 339.328 860.256 Q349.456 860.256 355.37 865.805 Q361.284 871.355 361.284 880.834 Q361.284 890.597 355.208 896.025 Q349.132 901.413 338.073 901.413 Q334.265 901.413 330.295 900.765 Q326.366 900.116 322.153 898.82 L322.153 890.597 Q325.798 892.582 329.687 893.554 Q333.576 894.526 337.911 894.526 Q344.919 894.526 349.01 890.84 Q353.101 887.154 353.101 880.834 Q353.101 874.515 349.01 870.828 Q344.919 867.142 337.911 867.142 Q334.629 867.142 331.348 867.871 Q328.107 868.6 324.705 870.14 L324.705 839.758 Z\" fill=\"#000000\" fill-rule=\"evenodd\" fill-opacity=\"1\" /><path clip-path=\"url(#clip310)\" d=\"M 0 0 M136.905 563.247 Q130.585 563.247 127.385 569.485 Q124.225 575.683 124.225 588.16 Q124.225 600.596 127.385 606.834 Q130.585 613.032 136.905 613.032 Q143.265 613.032 146.424 606.834 Q149.625 600.596 149.625 588.16 Q149.625 575.683 146.424 569.485 Q143.265 563.247 136.905 563.247 M136.905 556.765 Q147.072 556.765 152.42 564.826 Q157.807 572.847 157.807 588.16 Q157.807 603.431 152.42 611.493 Q147.072 619.514 136.905 619.514 Q126.737 619.514 121.349 611.493 Q116.002 603.431 116.002 588.16 Q116.002 572.847 121.349 564.826 Q126.737 556.765 136.905 556.765 Z\" fill=\"#000000\" fill-rule=\"evenodd\" fill-opacity=\"1\" /><path clip-path=\"url(#clip310)\" d=\"M 0 0 M166.679 608.05 L175.226 608.05 L175.226 618.339 L166.679 618.339 L166.679 608.05 Z\" fill=\"#000000\" fill-rule=\"evenodd\" fill-opacity=\"1\" /><path clip-path=\"url(#clip310)\" d=\"M 0 0 M185.516 611.452 L198.884 611.452 L198.884 565.312 L184.341 568.229 L184.341 560.775 L198.803 557.859 L206.985 557.859 L206.985 611.452 L220.353 611.452 L220.353 618.339 L185.516 618.339 L185.516 611.452 Z\" fill=\"#000000\" fill-rule=\"evenodd\" fill-opacity=\"1\" /><path clip-path=\"url(#clip310)\" d=\"M 0 0 M251.707 564.988 L231.048 597.274 L251.707 597.274 L251.707 564.988 M249.56 557.859 L259.85 557.859 L259.85 597.274 L268.478 597.274 L268.478 604.08 L259.85 604.08 L259.85 618.339 L251.707 618.339 L251.707 604.08 L224.404 604.08 L224.404 596.18 L249.56 557.859 Z\" fill=\"#000000\" fill-rule=\"evenodd\" fill-opacity=\"1\" /><path clip-path=\"url(#clip310)\" d=\"M 0 0 M277.431 557.859 L309.554 557.859 L309.554 564.745 L284.925 564.745 L284.925 579.572 Q286.707 578.964 288.49 578.68 Q290.272 578.356 292.054 578.356 Q302.182 578.356 308.096 583.906 Q314.01 589.456 314.01 598.935 Q314.01 608.698 307.934 614.126 Q301.858 619.514 290.799 619.514 Q286.991 619.514 283.021 618.865 Q279.091 618.217 274.879 616.921 L274.879 608.698 Q278.524 610.683 282.413 611.655 Q286.302 612.627 290.637 612.627 Q297.645 612.627 301.736 608.941 Q305.827 605.254 305.827 598.935 Q305.827 592.616 301.736 588.929 Q297.645 585.243 290.637 585.243 Q287.355 585.243 284.074 585.972 Q280.833 586.701 277.431 588.241 L277.431 557.859 Z\" fill=\"#000000\" fill-rule=\"evenodd\" fill-opacity=\"1\" /><path clip-path=\"url(#clip310)\" d=\"M 0 0 M340.382 563.247 Q334.062 563.247 330.862 569.485 Q327.702 575.683 327.702 588.16 Q327.702 600.596 330.862 606.834 Q334.062 613.032 340.382 613.032 Q346.742 613.032 349.901 606.834 Q353.101 600.596 353.101 588.16 Q353.101 575.683 349.901 569.485 Q346.742 563.247 340.382 563.247 M340.382 556.765 Q350.549 556.765 355.897 564.826 Q361.284 572.847 361.284 588.16 Q361.284 603.431 355.897 611.493 Q350.549 619.514 340.382 619.514 Q330.214 619.514 324.826 611.493 Q319.479 603.431 319.479 588.16 Q319.479 572.847 324.826 564.826 Q330.214 556.765 340.382 556.765 Z\" fill=\"#000000\" fill-rule=\"evenodd\" fill-opacity=\"1\" /><path clip-path=\"url(#clip310)\" d=\"M 0 0 M138.485 281.347 Q132.165 281.347 128.965 287.586 Q125.805 293.784 125.805 306.26 Q125.805 318.697 128.965 324.935 Q132.165 331.133 138.485 331.133 Q144.844 331.133 148.004 324.935 Q151.204 318.697 151.204 306.26 Q151.204 293.784 148.004 287.586 Q144.844 281.347 138.485 281.347 M138.485 274.866 Q148.652 274.866 154 282.927 Q159.387 290.948 159.387 306.26 Q159.387 321.532 154 329.594 Q148.652 337.614 138.485 337.614 Q128.317 337.614 122.929 329.594 Q117.582 321.532 117.582 306.26 Q117.582 290.948 122.929 282.927 Q128.317 274.866 138.485 274.866 Z\" fill=\"#000000\" fill-rule=\"evenodd\" fill-opacity=\"1\" /><path clip-path=\"url(#clip310)\" d=\"M 0 0 M168.259 326.15 L176.806 326.15 L176.806 336.44 L168.259 336.44 L168.259 326.15 Z\" fill=\"#000000\" fill-rule=\"evenodd\" fill-opacity=\"1\" /><path clip-path=\"url(#clip310)\" d=\"M 0 0 M187.095 329.553 L200.463 329.553 L200.463 283.413 L185.921 286.33 L185.921 278.876 L200.382 275.96 L208.565 275.96 L208.565 329.553 L221.933 329.553 L221.933 336.44 L187.095 336.44 L187.095 329.553 Z\" fill=\"#000000\" fill-rule=\"evenodd\" fill-opacity=\"1\" /><path clip-path=\"url(#clip310)\" d=\"M 0 0 M253.287 283.089 L232.628 315.375 L253.287 315.375 L253.287 283.089 M251.14 275.96 L261.43 275.96 L261.43 315.375 L270.058 315.375 L270.058 322.18 L261.43 322.18 L261.43 336.44 L253.287 336.44 L253.287 322.18 L225.984 322.18 L225.984 314.281 L251.14 275.96 Z\" fill=\"#000000\" fill-rule=\"evenodd\" fill-opacity=\"1\" /><path clip-path=\"url(#clip310)\" d=\"M 0 0 M276.863 275.96 L315.752 275.96 L315.752 279.443 L293.796 336.44 L285.249 336.44 L305.908 282.846 L276.863 282.846 L276.863 275.96 Z\" fill=\"#000000\" fill-rule=\"evenodd\" fill-opacity=\"1\" /><path clip-path=\"url(#clip310)\" d=\"M 0 0 M324.705 275.96 L356.828 275.96 L356.828 282.846 L332.199 282.846 L332.199 297.673 Q333.981 297.065 335.764 296.781 Q337.546 296.457 339.328 296.457 Q349.456 296.457 355.37 302.007 Q361.284 307.557 361.284 317.036 Q361.284 326.799 355.208 332.227 Q349.132 337.614 338.073 337.614 Q334.265 337.614 330.295 336.966 Q326.366 336.318 322.153 335.022 L322.153 326.799 Q325.798 328.783 329.687 329.756 Q333.576 330.728 337.911 330.728 Q344.919 330.728 349.01 327.042 Q353.101 323.355 353.101 317.036 Q353.101 310.716 349.01 307.03 Q344.919 303.344 337.911 303.344 Q334.629 303.344 331.348 304.073 Q328.107 304.802 324.705 306.341 L324.705 275.96 Z\" fill=\"#000000\" fill-rule=\"evenodd\" fill-opacity=\"1\" /><path clip-path=\"url(#clip310)\" d=\"M 0 0 M68.7161 808.38 L71.5806 808.38 L71.5806 835.307 Q77.6281 834.925 80.8109 831.678 Q83.9619 828.4 83.9619 822.576 Q83.9619 819.202 83.1344 816.051 Q82.3069 812.868 80.6518 809.749 L86.1899 809.749 Q87.5267 812.9 88.227 816.21 Q88.9272 819.52 88.9272 822.926 Q88.9272 831.456 83.9619 836.453 Q78.9967 841.418 70.5303 841.418 Q61.7774 841.418 56.6531 836.707 Q51.4968 831.965 51.4968 823.944 Q51.4968 816.751 56.1438 812.581 Q60.7589 808.38 68.7161 808.38 M66.9973 814.236 Q62.1912 814.3 59.3266 816.942 Q56.4621 819.552 56.4621 823.88 Q56.4621 828.782 59.2312 831.742 Q62.0002 834.67 67.0292 835.116 L66.9973 814.236 Z\" fill=\"#000000\" fill-rule=\"evenodd\" fill-opacity=\"1\" /><path clip-path=\"url(#clip310)\" d=\"M 0 0 M66.4881 772.605 L88.0042 772.605 L88.0042 778.461 L66.679 778.461 Q61.6183 778.461 59.1038 780.435 Q56.5894 782.408 56.5894 786.355 Q56.5894 791.097 59.6131 793.834 Q62.6368 796.572 67.8567 796.572 L88.0042 796.572 L88.0042 802.46 L52.3562 802.46 L52.3562 796.572 L57.8944 796.572 Q54.6797 794.471 53.0883 791.638 Q51.4968 788.774 51.4968 785.05 Q51.4968 778.907 55.3163 775.756 Q59.1038 772.605 66.4881 772.605 Z\" fill=\"#000000\" fill-rule=\"evenodd\" fill-opacity=\"1\" /><path clip-path=\"url(#clip310)\" d=\"M 0 0 M42.2347 760.669 L52.3562 760.669 L52.3562 748.606 L56.9077 748.606 L56.9077 760.669 L76.2594 760.669 Q80.6199 760.669 81.8613 759.491 Q83.1026 758.282 83.1026 754.622 L83.1026 748.606 L88.0042 748.606 L88.0042 754.622 Q88.0042 761.401 85.4897 763.979 Q82.9434 766.557 76.2594 766.557 L56.9077 766.557 L56.9077 770.854 L52.3562 770.854 L52.3562 766.557 L42.2347 766.557 L42.2347 760.669 Z\" fill=\"#000000\" fill-rule=\"evenodd\" fill-opacity=\"1\" /><path clip-path=\"url(#clip310)\" d=\"M 0 0 M57.8307 721.806 Q57.2578 722.793 57.0032 723.971 Q56.7167 725.117 56.7167 726.517 Q56.7167 731.482 59.9632 734.156 Q63.1779 736.798 69.2253 736.798 L88.0042 736.798 L88.0042 742.686 L52.3562 742.686 L52.3562 736.798 L57.8944 736.798 Q54.6479 734.952 53.0883 731.991 Q51.4968 729.031 51.4968 724.798 Q51.4968 724.194 51.5923 723.461 Q51.656 722.729 51.8151 721.838 L57.8307 721.806 Z\" fill=\"#000000\" fill-rule=\"evenodd\" fill-opacity=\"1\" /><path clip-path=\"url(#clip310)\" d=\"M 0 0 M56.4621 703.282 Q56.4621 707.993 60.1542 710.73 Q63.8145 713.467 70.212 713.467 Q76.6095 713.467 80.3017 710.762 Q83.9619 708.025 83.9619 703.282 Q83.9619 698.603 80.2698 695.866 Q76.5777 693.129 70.212 693.129 Q63.8781 693.129 60.186 695.866 Q56.4621 698.603 56.4621 703.282 M51.4968 703.282 Q51.4968 695.643 56.4621 691.283 Q61.4273 686.922 70.212 686.922 Q78.9649 686.922 83.9619 691.283 Q88.9272 695.643 88.9272 703.282 Q88.9272 710.953 83.9619 715.313 Q78.9649 719.642 70.212 719.642 Q61.4273 719.642 56.4621 715.313 Q51.4968 710.953 51.4968 703.282 Z\" fill=\"#000000\" fill-rule=\"evenodd\" fill-opacity=\"1\" /><path clip-path=\"url(#clip310)\" d=\"M 0 0 M82.657 675.114 L101.563 675.114 L101.563 681.002 L52.3562 681.002 L52.3562 675.114 L57.7671 675.114 Q54.5842 673.268 53.0564 670.467 Q51.4968 667.634 51.4968 663.719 Q51.4968 657.226 56.6531 653.184 Q61.8093 649.11 70.212 649.11 Q78.6147 649.11 83.771 653.184 Q88.9272 657.226 88.9272 663.719 Q88.9272 667.634 87.3994 670.467 Q85.8398 673.268 82.657 675.114 M70.212 655.189 Q63.7508 655.189 60.0905 657.863 Q56.3984 660.505 56.3984 665.152 Q56.3984 669.799 60.0905 672.472 Q63.7508 675.114 70.212 675.114 Q76.6732 675.114 80.3653 672.472 Q84.0256 669.799 84.0256 665.152 Q84.0256 660.505 80.3653 657.863 Q76.6732 655.189 70.212 655.189 Z\" fill=\"#000000\" fill-rule=\"evenodd\" fill-opacity=\"1\" /><path clip-path=\"url(#clip310)\" d=\"M 0 0 M52.3562 642.967 L52.3562 637.111 L88.0042 637.111 L88.0042 642.967 L52.3562 642.967 M38.479 642.967 L38.479 637.111 L45.895 637.111 L45.895 642.967 L38.479 642.967 Z\" fill=\"#000000\" fill-rule=\"evenodd\" fill-opacity=\"1\" /><path clip-path=\"url(#clip310)\" d=\"M 0 0 M70.0847 614.767 Q70.0847 621.865 71.7079 624.602 Q73.3312 627.339 77.2461 627.339 Q80.3653 627.339 82.2114 625.302 Q84.0256 623.233 84.0256 619.7 Q84.0256 614.831 80.5881 611.902 Q77.1188 608.942 71.3897 608.942 L70.0847 608.942 L70.0847 614.767 M67.6657 603.086 L88.0042 603.086 L88.0042 608.942 L82.5933 608.942 Q85.8398 610.948 87.3994 613.939 Q88.9272 616.931 88.9272 621.26 Q88.9272 626.735 85.8716 629.981 Q82.7843 633.196 77.6281 633.196 Q71.6125 633.196 68.5569 629.185 Q65.5014 625.143 65.5014 617.154 L65.5014 608.942 L64.9285 608.942 Q60.8862 608.942 58.6901 611.616 Q56.4621 614.258 56.4621 619.064 Q56.4621 622.119 57.1941 625.016 Q57.9262 627.912 59.3903 630.586 L53.9795 630.586 Q52.7381 627.371 52.1334 624.347 Q51.4968 621.324 51.4968 618.459 Q51.4968 610.725 55.5072 606.905 Q59.5176 603.086 67.6657 603.086 Z\" fill=\"#000000\" fill-rule=\"evenodd\" fill-opacity=\"1\" /><circle clip-path=\"url(#clip312)\" cx=\"452.628\" cy=\"859.718\" r=\"14\" fill=\"#009af9\" fill-rule=\"evenodd\" fill-opacity=\"1\" stroke=\"#000000\" stroke-opacity=\"1\" stroke-width=\"3.2\"/>\n",
       "<circle clip-path=\"url(#clip312)\" cx=\"606.36\" cy=\"893.836\" r=\"14\" fill=\"#009af9\" fill-rule=\"evenodd\" fill-opacity=\"1\" stroke=\"#000000\" stroke-opacity=\"1\" stroke-width=\"3.2\"/>\n",
       "<circle clip-path=\"url(#clip312)\" cx=\"760.092\" cy=\"991.508\" r=\"14\" fill=\"#009af9\" fill-rule=\"evenodd\" fill-opacity=\"1\" stroke=\"#000000\" stroke-opacity=\"1\" stroke-width=\"3.2\"/>\n",
       "<circle clip-path=\"url(#clip312)\" cx=\"913.824\" cy=\"1052.19\" r=\"14\" fill=\"#009af9\" fill-rule=\"evenodd\" fill-opacity=\"1\" stroke=\"#000000\" stroke-opacity=\"1\" stroke-width=\"3.2\"/>\n",
       "<circle clip-path=\"url(#clip312)\" cx=\"1067.56\" cy=\"1086.36\" r=\"14\" fill=\"#009af9\" fill-rule=\"evenodd\" fill-opacity=\"1\" stroke=\"#000000\" stroke-opacity=\"1\" stroke-width=\"3.2\"/>\n",
       "<circle clip-path=\"url(#clip312)\" cx=\"1221.29\" cy=\"1139.72\" r=\"14\" fill=\"#009af9\" fill-rule=\"evenodd\" fill-opacity=\"1\" stroke=\"#000000\" stroke-opacity=\"1\" stroke-width=\"3.2\"/>\n",
       "<circle clip-path=\"url(#clip312)\" cx=\"1375.02\" cy=\"1163.54\" r=\"14\" fill=\"#009af9\" fill-rule=\"evenodd\" fill-opacity=\"1\" stroke=\"#000000\" stroke-opacity=\"1\" stroke-width=\"3.2\"/>\n",
       "<circle clip-path=\"url(#clip312)\" cx=\"1528.75\" cy=\"1187.91\" r=\"14\" fill=\"#009af9\" fill-rule=\"evenodd\" fill-opacity=\"1\" stroke=\"#000000\" stroke-opacity=\"1\" stroke-width=\"3.2\"/>\n",
       "<circle clip-path=\"url(#clip312)\" cx=\"1682.48\" cy=\"1220.71\" r=\"14\" fill=\"#009af9\" fill-rule=\"evenodd\" fill-opacity=\"1\" stroke=\"#000000\" stroke-opacity=\"1\" stroke-width=\"3.2\"/>\n",
       "<circle clip-path=\"url(#clip312)\" cx=\"1836.22\" cy=\"1249.32\" r=\"14\" fill=\"#009af9\" fill-rule=\"evenodd\" fill-opacity=\"1\" stroke=\"#000000\" stroke-opacity=\"1\" stroke-width=\"3.2\"/>\n",
       "<circle clip-path=\"url(#clip312)\" cx=\"1989.95\" cy=\"1295\" r=\"14\" fill=\"#009af9\" fill-rule=\"evenodd\" fill-opacity=\"1\" stroke=\"#000000\" stroke-opacity=\"1\" stroke-width=\"3.2\"/>\n",
       "<circle clip-path=\"url(#clip312)\" cx=\"2143.68\" cy=\"1322.88\" r=\"14\" fill=\"#009af9\" fill-rule=\"evenodd\" fill-opacity=\"1\" stroke=\"#000000\" stroke-opacity=\"1\" stroke-width=\"3.2\"/>\n",
       "<circle clip-path=\"url(#clip312)\" cx=\"2297.41\" cy=\"1359.05\" r=\"14\" fill=\"#009af9\" fill-rule=\"evenodd\" fill-opacity=\"1\" stroke=\"#000000\" stroke-opacity=\"1\" stroke-width=\"3.2\"/>\n",
       "<circle clip-path=\"url(#clip312)\" cx=\"452.628\" cy=\"857.559\" r=\"14\" fill=\"#e26f46\" fill-rule=\"evenodd\" fill-opacity=\"1\" stroke=\"#000000\" stroke-opacity=\"1\" stroke-width=\"3.2\"/>\n",
       "<circle clip-path=\"url(#clip312)\" cx=\"606.36\" cy=\"517.268\" r=\"14\" fill=\"#e26f46\" fill-rule=\"evenodd\" fill-opacity=\"1\" stroke=\"#000000\" stroke-opacity=\"1\" stroke-width=\"3.2\"/>\n",
       "<circle clip-path=\"url(#clip312)\" cx=\"760.092\" cy=\"372.016\" r=\"14\" fill=\"#e26f46\" fill-rule=\"evenodd\" fill-opacity=\"1\" stroke=\"#000000\" stroke-opacity=\"1\" stroke-width=\"3.2\"/>\n",
       "<circle clip-path=\"url(#clip312)\" cx=\"913.824\" cy=\"410.718\" r=\"14\" fill=\"#e26f46\" fill-rule=\"evenodd\" fill-opacity=\"1\" stroke=\"#000000\" stroke-opacity=\"1\" stroke-width=\"3.2\"/>\n",
       "<circle clip-path=\"url(#clip312)\" cx=\"1067.56\" cy=\"414.125\" r=\"14\" fill=\"#e26f46\" fill-rule=\"evenodd\" fill-opacity=\"1\" stroke=\"#000000\" stroke-opacity=\"1\" stroke-width=\"3.2\"/>\n",
       "<circle clip-path=\"url(#clip312)\" cx=\"1221.29\" cy=\"376.242\" r=\"14\" fill=\"#e26f46\" fill-rule=\"evenodd\" fill-opacity=\"1\" stroke=\"#000000\" stroke-opacity=\"1\" stroke-width=\"3.2\"/>\n",
       "<circle clip-path=\"url(#clip312)\" cx=\"1375.02\" cy=\"441.793\" r=\"14\" fill=\"#e26f46\" fill-rule=\"evenodd\" fill-opacity=\"1\" stroke=\"#000000\" stroke-opacity=\"1\" stroke-width=\"3.2\"/>\n",
       "<circle clip-path=\"url(#clip312)\" cx=\"1528.75\" cy=\"426.363\" r=\"14\" fill=\"#e26f46\" fill-rule=\"evenodd\" fill-opacity=\"1\" stroke=\"#000000\" stroke-opacity=\"1\" stroke-width=\"3.2\"/>\n",
       "<circle clip-path=\"url(#clip312)\" cx=\"1682.48\" cy=\"216.997\" r=\"14\" fill=\"#e26f46\" fill-rule=\"evenodd\" fill-opacity=\"1\" stroke=\"#000000\" stroke-opacity=\"1\" stroke-width=\"3.2\"/>\n",
       "<circle clip-path=\"url(#clip312)\" cx=\"1836.22\" cy=\"257.783\" r=\"14\" fill=\"#e26f46\" fill-rule=\"evenodd\" fill-opacity=\"1\" stroke=\"#000000\" stroke-opacity=\"1\" stroke-width=\"3.2\"/>\n",
       "<circle clip-path=\"url(#clip312)\" cx=\"1989.95\" cy=\"293.062\" r=\"14\" fill=\"#e26f46\" fill-rule=\"evenodd\" fill-opacity=\"1\" stroke=\"#000000\" stroke-opacity=\"1\" stroke-width=\"3.2\"/>\n",
       "<circle clip-path=\"url(#clip312)\" cx=\"2143.68\" cy=\"85.4521\" r=\"14\" fill=\"#e26f46\" fill-rule=\"evenodd\" fill-opacity=\"1\" stroke=\"#000000\" stroke-opacity=\"1\" stroke-width=\"3.2\"/>\n",
       "<circle clip-path=\"url(#clip312)\" cx=\"2297.41\" cy=\"157.558\" r=\"14\" fill=\"#e26f46\" fill-rule=\"evenodd\" fill-opacity=\"1\" stroke=\"#000000\" stroke-opacity=\"1\" stroke-width=\"3.2\"/>\n",
       "<path clip-path=\"url(#clip310)\" d=\"\n",
       "M462.467 1352.26 L790.389 1352.26 L790.389 1170.82 L462.467 1170.82  Z\n",
       "  \" fill=\"#ffffff\" fill-rule=\"evenodd\" fill-opacity=\"1\"/>\n",
       "<polyline clip-path=\"url(#clip310)\" style=\"stroke:#000000; stroke-width:4; stroke-opacity:1; fill:none\" points=\"\n",
       "  462.467,1352.26 790.389,1352.26 790.389,1170.82 462.467,1170.82 462.467,1352.26 \n",
       "  \"/>\n",
       "<circle clip-path=\"url(#clip310)\" cx=\"549.377\" cy=\"1231.3\" r=\"23\" fill=\"#009af9\" fill-rule=\"evenodd\" fill-opacity=\"1\" stroke=\"#000000\" stroke-opacity=\"1\" stroke-width=\"5.12\"/>\n",
       "<path clip-path=\"url(#clip310)\" d=\"M 0 0 M648.184 1225.64 Q644.759 1225.64 642.768 1228.32 Q640.777 1230.99 640.777 1235.64 Q640.777 1240.29 642.745 1242.98 Q644.735 1245.64 648.184 1245.64 Q651.587 1245.64 653.578 1242.95 Q655.569 1240.27 655.569 1235.64 Q655.569 1231.03 653.578 1228.35 Q651.587 1225.64 648.184 1225.64 M648.184 1222.03 Q653.74 1222.03 656.911 1225.64 Q660.083 1229.25 660.083 1235.64 Q660.083 1242.01 656.911 1245.64 Q653.74 1249.25 648.184 1249.25 Q642.606 1249.25 639.435 1245.64 Q636.286 1242.01 636.286 1235.64 Q636.286 1229.25 639.435 1225.64 Q642.606 1222.03 648.184 1222.03 Z\" fill=\"#000000\" fill-rule=\"evenodd\" fill-opacity=\"1\" /><path clip-path=\"url(#clip310)\" d=\"M 0 0 M679.573 1226.63 Q678.856 1226.22 677.999 1226.03 Q677.166 1225.82 676.147 1225.82 Q672.536 1225.82 670.592 1228.19 Q668.67 1230.52 668.67 1234.92 L668.67 1248.58 L664.388 1248.58 L664.388 1222.65 L668.67 1222.65 L668.67 1226.68 Q670.013 1224.32 672.166 1223.19 Q674.319 1222.03 677.397 1222.03 Q677.837 1222.03 678.369 1222.1 Q678.902 1222.14 679.55 1222.26 L679.573 1226.63 Z\" fill=\"#000000\" fill-rule=\"evenodd\" fill-opacity=\"1\" /><circle clip-path=\"url(#clip310)\" cx=\"549.377\" cy=\"1291.78\" r=\"23\" fill=\"#e26f46\" fill-rule=\"evenodd\" fill-opacity=\"1\" stroke=\"#000000\" stroke-opacity=\"1\" stroke-width=\"5.12\"/>\n",
       "<path clip-path=\"url(#clip310)\" d=\"M 0 0 M640.569 1305.17 L640.569 1318.92 L636.286 1318.92 L636.286 1283.13 L640.569 1283.13 L640.569 1287.07 Q641.911 1284.75 643.948 1283.64 Q646.009 1282.51 648.856 1282.51 Q653.578 1282.51 656.518 1286.26 Q659.481 1290.01 659.481 1296.12 Q659.481 1302.23 656.518 1305.98 Q653.578 1309.73 648.856 1309.73 Q646.009 1309.73 643.948 1308.62 Q641.911 1307.49 640.569 1305.17 M655.059 1296.12 Q655.059 1291.42 653.115 1288.76 Q651.194 1286.07 647.814 1286.07 Q644.434 1286.07 642.49 1288.76 Q640.569 1291.42 640.569 1296.12 Q640.569 1300.82 642.49 1303.5 Q644.434 1306.17 647.814 1306.17 Q651.194 1306.17 653.115 1303.5 Q655.059 1300.82 655.059 1296.12 Z\" fill=\"#000000\" fill-rule=\"evenodd\" fill-opacity=\"1\" /><path clip-path=\"url(#clip310)\" d=\"M 0 0 M686.124 1295.03 L686.124 1297.11 L666.541 1297.11 Q666.819 1301.51 669.18 1303.83 Q671.564 1306.12 675.8 1306.12 Q678.254 1306.12 680.545 1305.52 Q682.86 1304.92 685.129 1303.71 L685.129 1307.74 Q682.837 1308.71 680.43 1309.22 Q678.022 1309.73 675.545 1309.73 Q669.342 1309.73 665.708 1306.12 Q662.096 1302.51 662.096 1296.35 Q662.096 1289.99 665.522 1286.26 Q668.971 1282.51 674.805 1282.51 Q680.036 1282.51 683.069 1285.89 Q686.124 1289.24 686.124 1295.03 M681.865 1293.78 Q681.819 1290.29 679.897 1288.2 Q677.999 1286.12 674.851 1286.12 Q671.286 1286.12 669.133 1288.13 Q667.004 1290.15 666.68 1293.8 L681.865 1293.78 Z\" fill=\"#000000\" fill-rule=\"evenodd\" fill-opacity=\"1\" /><path clip-path=\"url(#clip310)\" d=\"M 0 0 M705.615 1287.11 Q704.897 1286.7 704.041 1286.51 Q703.207 1286.3 702.189 1286.3 Q698.578 1286.3 696.633 1288.67 Q694.712 1291 694.712 1295.4 L694.712 1309.06 L690.43 1309.06 L690.43 1283.13 L694.712 1283.13 L694.712 1287.16 Q696.055 1284.8 698.207 1283.67 Q700.36 1282.51 703.439 1282.51 Q703.879 1282.51 704.411 1282.58 Q704.943 1282.62 705.592 1282.74 L705.615 1287.11 Z\" fill=\"#000000\" fill-rule=\"evenodd\" fill-opacity=\"1\" /><path clip-path=\"url(#clip310)\" d=\"M 0 0 M729.434 1288.11 Q731.031 1285.24 733.253 1283.87 Q735.476 1282.51 738.485 1282.51 Q742.536 1282.51 744.735 1285.36 Q746.934 1288.18 746.934 1293.41 L746.934 1309.06 L742.652 1309.06 L742.652 1293.55 Q742.652 1289.82 741.332 1288.02 Q740.013 1286.21 737.304 1286.21 Q733.994 1286.21 732.073 1288.41 Q730.152 1290.61 730.152 1294.41 L730.152 1309.06 L725.869 1309.06 L725.869 1293.55 Q725.869 1289.8 724.55 1288.02 Q723.23 1286.21 720.476 1286.21 Q717.212 1286.21 715.291 1288.43 Q713.369 1290.63 713.369 1294.41 L713.369 1309.06 L709.087 1309.06 L709.087 1283.13 L713.369 1283.13 L713.369 1287.16 Q714.828 1284.78 716.865 1283.64 Q718.902 1282.51 721.703 1282.51 Q724.527 1282.51 726.494 1283.94 Q728.485 1285.38 729.434 1288.11 Z\" fill=\"#000000\" fill-rule=\"evenodd\" fill-opacity=\"1\" /></svg>\n"
      ]
     },
     "execution_count": 56,
     "metadata": {},
     "output_type": "execute_result"
    }
   ],
   "source": [
    "scatter([ listaentropia listaentropia_b], labels = [\"or\" \"perm\"], xlabel = \"paso\", ylabel = \"entropia\", xtickfontsize=14,ytickfontsize=14, xtick = (1:13, 2:14), legend=:bottomleft)"
   ]
  },
  {
   "cell_type": "markdown",
   "metadata": {},
   "source": [
    "# Distribución $\\Lambda(\\tilde P)$"
   ]
  },
  {
   "cell_type": "markdown",
   "metadata": {},
   "source": [
    "En esta parte, considero los valores de pertenencia para distintas extensiones lineales aleatorias."
   ]
  },
  {
   "cell_type": "markdown",
   "metadata": {},
   "source": [
    "**Adendum**: el resultado de esta sección, con respecto a los posets $m^2$ y $m^3$, es como sigue.\n",
    "Considérense las extensiones lineales calculadas del poset obtenido ---por $m^i$.\n",
    "Estas extensiones lineales reciben un valor de membresía igual a $0$ para el poset borroso, usando\n",
    "la lista de puntuaciones con $m^2$."
   ]
  },
  {
   "cell_type": "markdown",
   "metadata": {},
   "source": [
    "El proceso fue el siguiente:\n",
    "1. encontrar un poset crisp\n",
    "2. calcular extensiones lineales aleatorias de éste, $L_2$ y $L_3$ para los posets $m^2$ y $m^3$, respectivamente.\n",
    "3. usar $L$ para los posets $m^2$ y $m^3$."
   ]
  },
  {
   "cell_type": "code",
   "execution_count": 18,
   "metadata": {},
   "outputs": [
    {
     "data": {
      "text/plain": [
       "5184-element Array{Array{Int64,1},1}:\n",
       " [8, 26, 69, 68, 15, 22, 6, 67, 5, 72  …  38, 2, 27, 18, 12, 9, 37, 23, 1, 13]\n",
       " [8, 26, 69, 68, 15, 22, 6, 67, 5, 72  …  38, 2, 27, 18, 12, 9, 37, 23, 1, 13]\n",
       " [8, 26, 69, 68, 15, 22, 6, 67, 5, 72  …  38, 2, 27, 18, 12, 9, 37, 23, 1, 13]\n",
       " [8, 26, 69, 68, 15, 22, 6, 67, 5, 72  …  38, 2, 27, 18, 12, 9, 37, 23, 1, 13]\n",
       " [8, 26, 69, 68, 15, 22, 6, 67, 5, 72  …  38, 2, 27, 18, 12, 9, 37, 23, 1, 13]\n",
       " [8, 26, 69, 68, 15, 22, 6, 67, 5, 72  …  38, 2, 27, 18, 12, 9, 37, 23, 1, 13]\n",
       " [8, 26, 69, 68, 15, 22, 6, 67, 5, 72  …  38, 2, 27, 18, 12, 9, 37, 23, 1, 13]\n",
       " [8, 26, 69, 68, 15, 22, 6, 67, 5, 72  …  38, 2, 27, 18, 12, 9, 37, 23, 1, 13]\n",
       " [8, 26, 69, 68, 15, 22, 6, 67, 5, 72  …  38, 2, 27, 18, 12, 9, 37, 23, 1, 13]\n",
       " [8, 26, 69, 68, 15, 22, 6, 67, 5, 72  …  38, 2, 27, 18, 12, 9, 37, 23, 1, 13]\n",
       " [8, 26, 69, 68, 15, 22, 6, 67, 5, 72  …  38, 2, 27, 18, 12, 9, 37, 23, 1, 13]\n",
       " [8, 26, 69, 68, 15, 22, 6, 67, 5, 72  …  38, 2, 27, 18, 12, 9, 37, 23, 1, 13]\n",
       " [8, 26, 69, 68, 15, 22, 6, 67, 5, 72  …  38, 2, 27, 18, 12, 9, 37, 23, 1, 13]\n",
       " ⋮\n",
       " [8, 26, 69, 68, 15, 22, 6, 67, 5, 72  …  38, 2, 27, 18, 12, 9, 37, 23, 1, 13]\n",
       " [8, 26, 69, 68, 15, 22, 6, 67, 5, 72  …  38, 2, 27, 18, 12, 9, 37, 23, 1, 13]\n",
       " [8, 26, 69, 68, 15, 22, 6, 67, 5, 72  …  38, 2, 27, 18, 12, 9, 37, 23, 1, 13]\n",
       " [8, 26, 69, 68, 15, 22, 6, 67, 5, 72  …  38, 2, 27, 18, 12, 9, 37, 23, 1, 13]\n",
       " [8, 26, 69, 68, 15, 22, 6, 67, 5, 72  …  38, 2, 27, 18, 12, 9, 37, 23, 1, 13]\n",
       " [8, 26, 69, 68, 15, 22, 6, 67, 5, 72  …  38, 2, 27, 18, 12, 9, 37, 23, 1, 13]\n",
       " [8, 26, 69, 68, 15, 22, 6, 67, 5, 72  …  38, 2, 27, 18, 12, 9, 37, 23, 1, 13]\n",
       " [8, 26, 69, 68, 15, 22, 6, 67, 5, 72  …  38, 2, 27, 18, 12, 9, 37, 23, 1, 13]\n",
       " [8, 26, 69, 68, 15, 22, 6, 67, 5, 72  …  38, 2, 27, 18, 12, 9, 37, 23, 1, 13]\n",
       " [8, 26, 69, 68, 15, 22, 6, 67, 5, 72  …  38, 2, 27, 18, 12, 9, 37, 23, 1, 13]\n",
       " [8, 26, 69, 68, 15, 22, 6, 67, 5, 72  …  38, 2, 27, 18, 12, 9, 37, 23, 1, 13]\n",
       " [8, 26, 69, 68, 15, 22, 6, 67, 5, 72  …  38, 2, 27, 18, 12, 9, 37, 23, 1, 13]"
      ]
     },
     "execution_count": 18,
     "metadata": {},
     "output_type": "execute_result"
    }
   ],
   "source": [
    "posetsaleatorios_m2 = [caminatale(poset_m2 |> pareja_matrizadyacencia,10^2) for _ in 1:72^2]"
   ]
  },
  {
   "cell_type": "code",
   "execution_count": 13,
   "metadata": {},
   "outputs": [
    {
     "data": {
      "text/plain": [
       "5184-element Array{Array{Int64,1},1}:\n",
       " [8, 26, 69, 68, 15, 22, 6, 67, 5, 72  …  19, 38, 27, 2, 18, 23, 12, 37, 1, 13]\n",
       " [8, 26, 69, 68, 15, 22, 6, 67, 5, 72  …  19, 38, 27, 2, 18, 23, 12, 37, 1, 13]\n",
       " [8, 26, 69, 68, 15, 22, 6, 67, 5, 72  …  19, 38, 27, 2, 18, 23, 12, 37, 1, 13]\n",
       " [8, 26, 69, 68, 15, 22, 6, 67, 5, 72  …  19, 38, 27, 2, 18, 23, 12, 37, 1, 13]\n",
       " [8, 26, 69, 68, 15, 22, 6, 67, 5, 72  …  19, 38, 27, 2, 18, 23, 12, 37, 1, 13]\n",
       " [8, 26, 69, 68, 15, 22, 6, 67, 5, 72  …  19, 38, 27, 2, 18, 23, 12, 37, 1, 13]\n",
       " [8, 26, 69, 68, 15, 22, 6, 67, 5, 72  …  19, 38, 27, 2, 18, 23, 12, 37, 1, 13]\n",
       " [8, 26, 69, 68, 15, 22, 6, 67, 5, 72  …  19, 38, 27, 2, 18, 23, 12, 37, 1, 13]\n",
       " [8, 26, 69, 68, 15, 22, 6, 67, 5, 72  …  19, 38, 27, 2, 18, 23, 12, 37, 1, 13]\n",
       " [8, 26, 69, 68, 15, 22, 6, 67, 5, 72  …  19, 38, 27, 2, 18, 23, 12, 37, 1, 13]\n",
       " [8, 26, 69, 68, 15, 22, 6, 67, 5, 72  …  19, 38, 27, 2, 18, 23, 12, 37, 1, 13]\n",
       " [8, 26, 69, 68, 15, 22, 6, 67, 5, 72  …  19, 38, 27, 2, 18, 23, 12, 37, 1, 13]\n",
       " [8, 26, 69, 68, 15, 22, 6, 67, 5, 72  …  19, 38, 27, 2, 18, 23, 12, 37, 1, 13]\n",
       " ⋮\n",
       " [8, 26, 69, 68, 15, 22, 6, 67, 5, 72  …  19, 38, 27, 2, 18, 23, 12, 37, 1, 13]\n",
       " [8, 26, 69, 68, 15, 22, 6, 67, 5, 72  …  19, 38, 27, 2, 18, 23, 12, 37, 1, 13]\n",
       " [8, 26, 69, 68, 15, 22, 6, 67, 5, 72  …  19, 38, 27, 2, 18, 23, 12, 37, 1, 13]\n",
       " [8, 26, 69, 68, 15, 22, 6, 67, 5, 72  …  19, 38, 27, 2, 18, 23, 12, 37, 1, 13]\n",
       " [8, 26, 69, 68, 15, 22, 6, 67, 5, 72  …  19, 38, 27, 2, 18, 23, 12, 37, 1, 13]\n",
       " [8, 26, 69, 68, 15, 22, 6, 67, 5, 72  …  19, 38, 27, 2, 18, 23, 12, 37, 1, 13]\n",
       " [8, 26, 69, 68, 15, 22, 6, 67, 5, 72  …  19, 38, 27, 2, 18, 23, 12, 37, 1, 13]\n",
       " [8, 26, 69, 68, 15, 22, 6, 67, 5, 72  …  19, 38, 27, 2, 18, 23, 12, 37, 1, 13]\n",
       " [8, 26, 69, 68, 15, 22, 6, 67, 5, 72  …  19, 38, 27, 2, 18, 23, 12, 37, 1, 13]\n",
       " [8, 26, 69, 68, 15, 22, 6, 67, 5, 72  …  19, 38, 27, 2, 18, 23, 12, 37, 1, 13]\n",
       " [8, 26, 69, 68, 15, 22, 6, 67, 5, 72  …  19, 38, 27, 2, 18, 23, 12, 37, 1, 13]\n",
       " [8, 26, 69, 68, 15, 22, 6, 67, 5, 72  …  19, 38, 27, 2, 18, 23, 12, 1, 37, 13]"
      ]
     },
     "execution_count": 13,
     "metadata": {},
     "output_type": "execute_result"
    }
   ],
   "source": [
    "posetsaleatorios_m3 = [caminatale(poset_m3 |> pareja_matrizadyacencia,10^2) for _ in 1:72^2]"
   ]
  },
  {
   "cell_type": "markdown",
   "metadata": {},
   "source": [
    "Primero vemos como el poset $m^2$ no es compatible con el $m^3$."
   ]
  },
  {
   "cell_type": "code",
   "execution_count": 23,
   "metadata": {},
   "outputs": [
    {
     "data": {
      "text/plain": [
       "72×72 Array{Int64,2}:\n",
       " 0  0  0  0  0  0  0  0  0  0  0  0  1  …  0  0  0  0  0  0  0  0  0  0  0  0\n",
       " 1  0  0  0  0  0  0  0  1  0  0  1  1     0  0  0  0  0  0  0  0  0  0  0  0\n",
       " 1  0  0  0  0  0  0  0  0  0  0  1  1     0  0  0  0  0  0  0  0  0  0  0  0\n",
       " 1  1  1  0  0  0  1  0  1  1  1  1  1     1  1  1  1  0  0  0  0  0  1  1  0\n",
       " 1  1  1  1  0  0  1  0  1  1  1  1  1     1  1  1  1  1  1  0  0  0  1  1  1\n",
       " 1  1  1  1  1  0  1  0  1  1  1  1  1  …  1  1  1  1  1  1  1  0  0  1  1  1\n",
       " 1  1  1  0  0  0  0  0  1  1  0  1  1     0  0  0  0  0  0  0  0  0  1  0  0\n",
       " 1  1  1  1  1  1  1  0  1  1  1  1  1     1  1  1  1  1  1  1  1  1  1  1  1\n",
       " 1  0  0  0  0  0  0  0  0  0  0  0  1     0  0  0  0  0  0  0  0  0  0  0  0\n",
       " 1  1  1  0  0  0  0  0  1  0  0  1  1     0  0  0  0  0  0  0  0  0  0  0  0\n",
       " 1  1  1  0  0  0  1  0  1  1  0  1  1  …  0  0  0  0  0  0  0  0  0  1  0  0\n",
       " 1  0  0  0  0  0  0  0  0  0  0  0  1     0  0  0  0  0  0  0  0  0  0  0  0\n",
       " 0  0  0  0  0  0  0  0  0  0  0  0  0     0  0  0  0  0  0  0  0  0  0  0  0\n",
       " ⋮              ⋮              ⋮        ⋱  ⋮              ⋮              ⋮  \n",
       " 1  1  1  0  0  0  1  0  1  1  1  1  1  …  0  0  0  0  0  0  0  0  0  1  1  0\n",
       " 1  1  1  0  0  0  1  0  1  1  1  1  1     1  0  0  0  0  0  0  0  0  1  1  0\n",
       " 1  1  1  0  0  0  1  0  1  1  1  1  1     1  1  0  0  0  0  0  0  0  1  1  0\n",
       " 1  1  1  0  0  0  1  0  1  1  1  1  1     1  1  1  0  0  0  0  0  0  1  1  0\n",
       " 1  1  1  0  0  0  1  0  1  1  1  1  1     1  1  1  1  0  0  0  0  0  1  1  0\n",
       " 1  1  1  1  0  0  1  0  1  1  1  1  1  …  1  1  1  1  1  0  0  0  0  1  1  0\n",
       " 1  1  1  1  0  0  1  0  1  1  1  1  1     1  1  1  1  1  1  0  0  0  1  1  1\n",
       " 1  1  1  1  1  0  1  0  1  1  1  1  1     1  1  1  1  1  1  1  0  0  1  1  1\n",
       " 1  1  1  1  1  0  1  0  1  1  1  1  1     1  1  1  1  1  1  1  1  0  1  1  1\n",
       " 1  1  1  0  0  0  0  0  1  0  0  1  1     0  0  0  0  0  0  0  0  0  0  0  0\n",
       " 1  1  1  0  0  0  1  0  1  1  0  1  1  …  0  0  0  0  0  0  0  0  0  1  0  0\n",
       " 1  1  1  1  0  0  1  0  1  1  1  1  1     1  1  1  1  1  0  0  0  0  1  1  0"
      ]
     },
     "execution_count": 23,
     "metadata": {},
     "output_type": "execute_result"
    }
   ],
   "source": [
    "poset_m2 |> pareja_matrizadyacencia"
   ]
  },
  {
   "cell_type": "code",
   "execution_count": 19,
   "metadata": {},
   "outputs": [
    {
     "data": {
      "text/plain": [
       "Dict{Int64,Int64} with 1 entry:\n",
       "  0 => 36"
      ]
     },
     "execution_count": 19,
     "metadata": {},
     "output_type": "execute_result"
    }
   ],
   "source": [
    "countmap([membresia(x, poset_m2|> fuzzy) for x in unique!(posetsaleatorios_m2)])"
   ]
  },
  {
   "cell_type": "code",
   "execution_count": 20,
   "metadata": {},
   "outputs": [
    {
     "data": {
      "text/plain": [
       "Dict{Real,Int64} with 3 entries:\n",
       "  0.00113701 => 33\n",
       "  0          => 2\n",
       "  0.00120192 => 1"
      ]
     },
     "execution_count": 20,
     "metadata": {},
     "output_type": "execute_result"
    }
   ],
   "source": [
    "countmap([membresia(x, poset_m3|> fuzzy) for x in unique!(posetsaleatorios_m2)])"
   ]
  },
  {
   "cell_type": "markdown",
   "metadata": {},
   "source": [
    "... y viceversa."
   ]
  },
  {
   "cell_type": "code",
   "execution_count": 16,
   "metadata": {},
   "outputs": [
    {
     "data": {
      "text/plain": [
       "Dict{Int64,Int64} with 1 entry:\n",
       "  0 => 38"
      ]
     },
     "execution_count": 16,
     "metadata": {},
     "output_type": "execute_result"
    }
   ],
   "source": [
    "countmap([membresia(x, poset_m2|> fuzzy) for x in unique!(posetsaleatorios_m3)])"
   ]
  },
  {
   "cell_type": "code",
   "execution_count": 17,
   "metadata": {},
   "outputs": [
    {
     "data": {
      "text/plain": [
       "Dict{Float64,Int64} with 2 entries:\n",
       "  0.00113701 => 35\n",
       "  0.00120773 => 3"
      ]
     },
     "execution_count": 17,
     "metadata": {},
     "output_type": "execute_result"
    }
   ],
   "source": [
    "countmap([membresia(x, poset_m3|> fuzzy) for x in unique!(posetsaleatorios_m3)])"
   ]
  },
  {
   "cell_type": "markdown",
   "metadata": {},
   "source": [
    "Ahora vamos a comparar la compatibilidad entre distintos $\\alpha$ cuts"
   ]
  },
  {
   "cell_type": "code",
   "execution_count": 96,
   "metadata": {},
   "outputs": [
    {
     "data": {
      "text/plain": [
       "5184-element Array{Array{Int64,1},1}:\n",
       " [72, 69, 68, 67, 66, 65, 64, 26, 22, 15  …  14, 12, 9, 4, 37, 23, 13, 3, 2, 1]\n",
       " [72, 69, 68, 67, 66, 65, 64, 26, 22, 15  …  14, 12, 9, 4, 37, 23, 13, 3, 2, 1]\n",
       " [72, 69, 68, 67, 66, 65, 64, 26, 22, 15  …  14, 12, 9, 4, 37, 23, 13, 3, 2, 1]\n",
       " [72, 69, 68, 67, 66, 65, 64, 26, 22, 15  …  14, 12, 9, 4, 37, 23, 13, 3, 2, 1]\n",
       " [72, 69, 68, 67, 66, 65, 64, 26, 22, 15  …  14, 12, 9, 4, 37, 23, 13, 3, 2, 1]\n",
       " [72, 69, 68, 67, 66, 65, 64, 26, 22, 15  …  14, 4, 9, 12, 37, 23, 13, 3, 2, 1]\n",
       " [72, 69, 68, 67, 66, 65, 64, 26, 22, 15  …  14, 12, 9, 4, 37, 23, 13, 3, 2, 1]\n",
       " [72, 69, 68, 67, 66, 65, 64, 26, 22, 15  …  14, 12, 9, 4, 37, 23, 13, 3, 2, 1]\n",
       " [72, 69, 68, 67, 66, 65, 64, 26, 22, 15  …  14, 12, 9, 4, 37, 23, 13, 3, 2, 1]\n",
       " [72, 69, 68, 67, 66, 65, 64, 26, 22, 15  …  14, 12, 9, 4, 37, 23, 13, 3, 2, 1]\n",
       " [72, 69, 68, 67, 66, 65, 64, 26, 22, 15  …  14, 12, 9, 4, 37, 23, 13, 3, 2, 1]\n",
       " [72, 69, 68, 67, 66, 65, 64, 26, 22, 15  …  14, 12, 9, 4, 37, 23, 3, 13, 2, 1]\n",
       " [72, 69, 68, 67, 66, 65, 64, 26, 22, 15  …  14, 12, 9, 4, 37, 23, 13, 3, 2, 1]\n",
       " ⋮\n",
       " [72, 69, 68, 67, 66, 65, 64, 26, 22, 15  …  14, 12, 9, 4, 37, 23, 13, 3, 2, 1]\n",
       " [72, 69, 68, 67, 66, 65, 64, 26, 22, 15  …  14, 12, 9, 4, 37, 23, 13, 3, 2, 1]\n",
       " [72, 69, 68, 67, 66, 65, 64, 26, 22, 15  …  14, 12, 9, 4, 37, 23, 13, 3, 2, 1]\n",
       " [72, 69, 68, 67, 66, 65, 64, 26, 22, 15  …  14, 12, 9, 4, 37, 23, 13, 3, 2, 1]\n",
       " [72, 69, 68, 67, 66, 65, 64, 26, 22, 15  …  14, 12, 9, 4, 37, 23, 13, 3, 2, 1]\n",
       " [72, 69, 68, 67, 66, 65, 64, 26, 22, 15  …  14, 12, 9, 4, 37, 23, 13, 3, 2, 1]\n",
       " [72, 69, 68, 67, 66, 65, 64, 26, 22, 15  …  14, 12, 9, 4, 37, 23, 13, 3, 2, 1]\n",
       " [72, 69, 68, 67, 66, 65, 64, 26, 22, 15  …  14, 12, 9, 4, 37, 23, 13, 3, 2, 1]\n",
       " [72, 69, 68, 67, 66, 65, 64, 26, 22, 15  …  14, 12, 9, 4, 37, 23, 13, 3, 2, 1]\n",
       " [72, 69, 68, 67, 66, 65, 64, 26, 22, 15  …  14, 12, 9, 4, 37, 23, 13, 3, 2, 1]\n",
       " [72, 69, 68, 67, 66, 65, 64, 26, 22, 15  …  14, 12, 9, 4, 37, 23, 13, 3, 2, 1]\n",
       " [72, 69, 68, 67, 66, 65, 64, 26, 22, 15  …  14, 12, 9, 4, 37, 23, 13, 3, 2, 1]"
      ]
     },
     "execution_count": 96,
     "metadata": {},
     "output_type": "execute_result"
    }
   ],
   "source": [
    "posetsaleatorios_alpha0p5 = [caminatale(αcut_poset(poset_mn, .5),10^2) for _ in 1:72^2]"
   ]
  },
  {
   "cell_type": "code",
   "execution_count": 103,
   "metadata": {},
   "outputs": [
    {
     "data": {
      "text/plain": [
       "1088-element Array{Array{Int64,1},1}:\n",
       " [72, 69, 68, 67, 66, 65, 64, 26, 22, 15  …  14, 12, 9, 4, 37, 23, 13, 3, 2, 1]\n",
       " [72, 69, 68, 67, 66, 65, 64, 26, 22, 15  …  14, 12, 9, 4, 37, 23, 13, 3, 2, 1]\n",
       " [72, 69, 68, 67, 66, 65, 64, 26, 22, 15  …  14, 12, 9, 4, 37, 23, 13, 3, 2, 1]\n",
       " [72, 69, 68, 67, 66, 65, 64, 26, 22, 15  …  14, 4, 9, 12, 37, 23, 13, 3, 2, 1]\n",
       " [72, 69, 68, 67, 66, 65, 64, 26, 22, 15  …  14, 12, 9, 4, 37, 23, 13, 3, 2, 1]\n",
       " [72, 69, 68, 67, 66, 65, 64, 26, 22, 15  …  14, 12, 9, 4, 37, 23, 3, 13, 2, 1]\n",
       " [72, 69, 68, 67, 66, 65, 64, 26, 22, 15  …  14, 12, 9, 4, 37, 23, 13, 3, 2, 1]\n",
       " [72, 69, 68, 67, 66, 65, 64, 26, 22, 15  …  14, 12, 9, 4, 37, 23, 13, 3, 2, 1]\n",
       " [72, 69, 68, 67, 66, 65, 64, 26, 22, 15  …  14, 12, 9, 4, 37, 23, 13, 3, 2, 1]\n",
       " [72, 69, 68, 67, 66, 65, 64, 26, 22, 15  …  14, 12, 9, 4, 37, 23, 13, 3, 2, 1]\n",
       " [72, 69, 68, 67, 66, 65, 64, 26, 22, 15  …  14, 12, 9, 4, 37, 23, 13, 3, 2, 1]\n",
       " [72, 69, 68, 67, 66, 65, 64, 26, 22, 15  …  14, 12, 9, 4, 37, 23, 13, 3, 2, 1]\n",
       " [72, 69, 68, 67, 66, 65, 64, 26, 22, 15  …  14, 12, 9, 4, 37, 23, 13, 3, 2, 1]\n",
       " ⋮\n",
       " [72, 69, 68, 67, 66, 65, 64, 26, 22, 15  …  14, 12, 9, 4, 37, 23, 13, 3, 2, 1]\n",
       " [72, 69, 68, 67, 66, 65, 64, 26, 22, 15  …  14, 12, 9, 33, 37, 23, 13, 3, 2, 1]\n",
       " [72, 69, 68, 67, 66, 65, 64, 26, 22, 15  …  14, 12, 9, 4, 37, 23, 13, 3, 2, 1]\n",
       " [72, 69, 68, 67, 66, 65, 6, 26, 22, 15  …  14, 12, 9, 4, 37, 23, 13, 3, 2, 1]\n",
       " [72, 69, 68, 67, 66, 65, 64, 26, 22, 15  …  14, 12, 9, 4, 37, 23, 13, 3, 2, 1]\n",
       " [72, 69, 68, 67, 66, 65, 64, 26, 22, 15  …  14, 12, 9, 57, 37, 23, 13, 3, 2, 1]\n",
       " [72, 69, 68, 67, 66, 65, 64, 26, 22, 15  …  14, 12, 9, 4, 37, 23, 13, 3, 2, 1]\n",
       " [72, 69, 68, 67, 66, 65, 64, 26, 22, 15  …  14, 12, 9, 10, 37, 23, 13, 3, 2, 1]\n",
       " [72, 69, 68, 67, 66, 65, 64, 26, 22, 15  …  14, 12, 9, 16, 37, 23, 13, 3, 2, 1]\n",
       " [72, 69, 68, 67, 66, 65, 64, 26, 22, 15  …  14, 12, 9, 4, 37, 23, 13, 3, 2, 1]\n",
       " [72, 69, 68, 67, 66, 65, 64, 26, 22, 15  …  14, 12, 9, 4, 37, 23, 13, 3, 2, 1]\n",
       " [72, 69, 68, 67, 66, 65, 64, 26, 22, 15  …  14, 12, 9, 4, 37, 23, 13, 3, 2, 1]"
      ]
     },
     "execution_count": 103,
     "metadata": {},
     "output_type": "execute_result"
    }
   ],
   "source": [
    "posetsaleatorios_alpha0p5"
   ]
  },
  {
   "cell_type": "markdown",
   "metadata": {},
   "source": [
    "Por lo tanto, los $\\alpha$-cut no son compatibles con $m^2$ y $m^3$."
   ]
  },
  {
   "cell_type": "code",
   "execution_count": 97,
   "metadata": {},
   "outputs": [
    {
     "data": {
      "text/plain": [
       "Dict{Int64,Int64} with 1 entry:\n",
       "  0 => 1088"
      ]
     },
     "execution_count": 97,
     "metadata": {},
     "output_type": "execute_result"
    }
   ],
   "source": [
    "countmap([membresia(x, poset_m2|> fuzzy) for x in unique!(posetsaleatorios_alpha0p5)])"
   ]
  },
  {
   "cell_type": "code",
   "execution_count": 98,
   "metadata": {},
   "outputs": [
    {
     "data": {
      "text/plain": [
       "Dict{Int64,Int64} with 1 entry:\n",
       "  0 => 1088"
      ]
     },
     "execution_count": 98,
     "metadata": {},
     "output_type": "execute_result"
    }
   ],
   "source": [
    "countmap([membresia(x, poset_m3|> fuzzy) for x in unique!(posetsaleatorios_alpha0p5)])"
   ]
  },
  {
   "cell_type": "markdown",
   "metadata": {},
   "source": [
    "Vemos que los $\\alpha$-cuts no son compatibles con $\\alpha'<\\alpha$."
   ]
  },
  {
   "cell_type": "code",
   "execution_count": 105,
   "metadata": {},
   "outputs": [
    {
     "data": {
      "text/plain": [
       "Dict{Int64,Int64} with 1 entry:\n",
       "  0 => 1088"
      ]
     },
     "execution_count": 105,
     "metadata": {},
     "output_type": "execute_result"
    }
   ],
   "source": [
    "countmap([membresia(x, αcut_poset(poset_mn, .7)) for x in unique!(posetsaleatorios_alpha0p5)])"
   ]
  },
  {
   "cell_type": "code",
   "execution_count": 104,
   "metadata": {},
   "outputs": [
    {
     "data": {
      "text/plain": [
       "Dict{Int64,Int64} with 1 entry:\n",
       "  0 => 1088"
      ]
     },
     "execution_count": 104,
     "metadata": {},
     "output_type": "execute_result"
    }
   ],
   "source": [
    "countmap([membresia(x, αcut_poset(poset_mn, .6)) for x in unique!(posetsaleatorios_alpha0p5)])"
   ]
  },
  {
   "cell_type": "code",
   "execution_count": 99,
   "metadata": {},
   "outputs": [
    {
     "data": {
      "text/plain": [
       "Dict{Float64,Int64} with 1 entry:\n",
       "  1.0 => 1088"
      ]
     },
     "execution_count": 99,
     "metadata": {},
     "output_type": "execute_result"
    }
   ],
   "source": [
    "countmap([membresia(x, αcut_poset(poset_mn, .5)) for x in unique!(posetsaleatorios_alpha0p5)])"
   ]
  },
  {
   "cell_type": "code",
   "execution_count": 100,
   "metadata": {},
   "outputs": [
    {
     "data": {
      "text/plain": [
       "Dict{Float64,Int64} with 1 entry:\n",
       "  1.0 => 1088"
      ]
     },
     "execution_count": 100,
     "metadata": {},
     "output_type": "execute_result"
    }
   ],
   "source": [
    "countmap([membresia(x, αcut_poset(poset_mn, .4)) for x in unique!(posetsaleatorios_alpha0p5)])"
   ]
  },
  {
   "cell_type": "code",
   "execution_count": 101,
   "metadata": {},
   "outputs": [
    {
     "data": {
      "text/plain": [
       "Dict{Float64,Int64} with 1 entry:\n",
       "  1.0 => 1088"
      ]
     },
     "execution_count": 101,
     "metadata": {},
     "output_type": "execute_result"
    }
   ],
   "source": [
    "countmap([membresia(x, αcut_poset(poset_mn, .3)) for x in unique!(posetsaleatorios_alpha0p5)])"
   ]
  },
  {
   "cell_type": "code",
   "execution_count": 102,
   "metadata": {},
   "outputs": [
    {
     "data": {
      "text/plain": [
       "Dict{Float64,Int64} with 1 entry:\n",
       "  1.0 => 1088"
      ]
     },
     "execution_count": 102,
     "metadata": {},
     "output_type": "execute_result"
    }
   ],
   "source": [
    "countmap([membresia(x, αcut_poset(poset_mn, .1)) for x in unique!(posetsaleatorios_alpha0p5)])"
   ]
  },
  {
   "cell_type": "markdown",
   "metadata": {},
   "source": [
    "Ahora vamos a comparar la compatibilidad entre distintos $\\alpha$ cuts"
   ]
  },
  {
   "cell_type": "code",
   "execution_count": 96,
   "metadata": {
    "collapsed": true
   },
   "outputs": [
    {
     "data": {
      "text/plain": [
       "5184-element Array{Array{Int64,1},1}:\n",
       " [72, 69, 68, 67, 66, 65, 64, 26, 22, 15  …  14, 12, 9, 4, 37, 23, 13, 3, 2, 1]\n",
       " [72, 69, 68, 67, 66, 65, 64, 26, 22, 15  …  14, 12, 9, 4, 37, 23, 13, 3, 2, 1]\n",
       " [72, 69, 68, 67, 66, 65, 64, 26, 22, 15  …  14, 12, 9, 4, 37, 23, 13, 3, 2, 1]\n",
       " [72, 69, 68, 67, 66, 65, 64, 26, 22, 15  …  14, 12, 9, 4, 37, 23, 13, 3, 2, 1]\n",
       " [72, 69, 68, 67, 66, 65, 64, 26, 22, 15  …  14, 12, 9, 4, 37, 23, 13, 3, 2, 1]\n",
       " [72, 69, 68, 67, 66, 65, 64, 26, 22, 15  …  14, 4, 9, 12, 37, 23, 13, 3, 2, 1]\n",
       " [72, 69, 68, 67, 66, 65, 64, 26, 22, 15  …  14, 12, 9, 4, 37, 23, 13, 3, 2, 1]\n",
       " [72, 69, 68, 67, 66, 65, 64, 26, 22, 15  …  14, 12, 9, 4, 37, 23, 13, 3, 2, 1]\n",
       " [72, 69, 68, 67, 66, 65, 64, 26, 22, 15  …  14, 12, 9, 4, 37, 23, 13, 3, 2, 1]\n",
       " [72, 69, 68, 67, 66, 65, 64, 26, 22, 15  …  14, 12, 9, 4, 37, 23, 13, 3, 2, 1]\n",
       " [72, 69, 68, 67, 66, 65, 64, 26, 22, 15  …  14, 12, 9, 4, 37, 23, 13, 3, 2, 1]\n",
       " [72, 69, 68, 67, 66, 65, 64, 26, 22, 15  …  14, 12, 9, 4, 37, 23, 3, 13, 2, 1]\n",
       " [72, 69, 68, 67, 66, 65, 64, 26, 22, 15  …  14, 12, 9, 4, 37, 23, 13, 3, 2, 1]\n",
       " ⋮\n",
       " [72, 69, 68, 67, 66, 65, 64, 26, 22, 15  …  14, 12, 9, 4, 37, 23, 13, 3, 2, 1]\n",
       " [72, 69, 68, 67, 66, 65, 64, 26, 22, 15  …  14, 12, 9, 4, 37, 23, 13, 3, 2, 1]\n",
       " [72, 69, 68, 67, 66, 65, 64, 26, 22, 15  …  14, 12, 9, 4, 37, 23, 13, 3, 2, 1]\n",
       " [72, 69, 68, 67, 66, 65, 64, 26, 22, 15  …  14, 12, 9, 4, 37, 23, 13, 3, 2, 1]\n",
       " [72, 69, 68, 67, 66, 65, 64, 26, 22, 15  …  14, 12, 9, 4, 37, 23, 13, 3, 2, 1]\n",
       " [72, 69, 68, 67, 66, 65, 64, 26, 22, 15  …  14, 12, 9, 4, 37, 23, 13, 3, 2, 1]\n",
       " [72, 69, 68, 67, 66, 65, 64, 26, 22, 15  …  14, 12, 9, 4, 37, 23, 13, 3, 2, 1]\n",
       " [72, 69, 68, 67, 66, 65, 64, 26, 22, 15  …  14, 12, 9, 4, 37, 23, 13, 3, 2, 1]\n",
       " [72, 69, 68, 67, 66, 65, 64, 26, 22, 15  …  14, 12, 9, 4, 37, 23, 13, 3, 2, 1]\n",
       " [72, 69, 68, 67, 66, 65, 64, 26, 22, 15  …  14, 12, 9, 4, 37, 23, 13, 3, 2, 1]\n",
       " [72, 69, 68, 67, 66, 65, 64, 26, 22, 15  …  14, 12, 9, 4, 37, 23, 13, 3, 2, 1]\n",
       " [72, 69, 68, 67, 66, 65, 64, 26, 22, 15  …  14, 12, 9, 4, 37, 23, 13, 3, 2, 1]"
      ]
     },
     "execution_count": 96,
     "metadata": {},
     "output_type": "execute_result"
    }
   ],
   "source": [
    "posetsaleatorios_alpha0p5 = [caminatale(αcut_poset(poset_mn, .5),10^2) for _ in 1:72^2]"
   ]
  },
  {
   "cell_type": "code",
   "execution_count": 106,
   "metadata": {},
   "outputs": [],
   "source": [
    "posetsaleatorios_alpha0p67 = [caminatale(αcut_poset(poset_mn, .67),10^2) for _ in 1:72^2]|>unique!;"
   ]
  },
  {
   "cell_type": "code",
   "execution_count": 121,
   "metadata": {},
   "outputs": [],
   "source": [
    "posetsaleatorios_alpha0p78 = [caminatale(αcut_poset(poset_mn, .78),10^2) for _ in 1:72^2]|>unique!;"
   ]
  },
  {
   "cell_type": "code",
   "execution_count": 103,
   "metadata": {},
   "outputs": [
    {
     "data": {
      "text/plain": [
       "1088-element Array{Array{Int64,1},1}:\n",
       " [72, 69, 68, 67, 66, 65, 64, 26, 22, 15  …  14, 12, 9, 4, 37, 23, 13, 3, 2, 1]\n",
       " [72, 69, 68, 67, 66, 65, 64, 26, 22, 15  …  14, 12, 9, 4, 37, 23, 13, 3, 2, 1]\n",
       " [72, 69, 68, 67, 66, 65, 64, 26, 22, 15  …  14, 12, 9, 4, 37, 23, 13, 3, 2, 1]\n",
       " [72, 69, 68, 67, 66, 65, 64, 26, 22, 15  …  14, 4, 9, 12, 37, 23, 13, 3, 2, 1]\n",
       " [72, 69, 68, 67, 66, 65, 64, 26, 22, 15  …  14, 12, 9, 4, 37, 23, 13, 3, 2, 1]\n",
       " [72, 69, 68, 67, 66, 65, 64, 26, 22, 15  …  14, 12, 9, 4, 37, 23, 3, 13, 2, 1]\n",
       " [72, 69, 68, 67, 66, 65, 64, 26, 22, 15  …  14, 12, 9, 4, 37, 23, 13, 3, 2, 1]\n",
       " [72, 69, 68, 67, 66, 65, 64, 26, 22, 15  …  14, 12, 9, 4, 37, 23, 13, 3, 2, 1]\n",
       " [72, 69, 68, 67, 66, 65, 64, 26, 22, 15  …  14, 12, 9, 4, 37, 23, 13, 3, 2, 1]\n",
       " [72, 69, 68, 67, 66, 65, 64, 26, 22, 15  …  14, 12, 9, 4, 37, 23, 13, 3, 2, 1]\n",
       " [72, 69, 68, 67, 66, 65, 64, 26, 22, 15  …  14, 12, 9, 4, 37, 23, 13, 3, 2, 1]\n",
       " [72, 69, 68, 67, 66, 65, 64, 26, 22, 15  …  14, 12, 9, 4, 37, 23, 13, 3, 2, 1]\n",
       " [72, 69, 68, 67, 66, 65, 64, 26, 22, 15  …  14, 12, 9, 4, 37, 23, 13, 3, 2, 1]\n",
       " ⋮\n",
       " [72, 69, 68, 67, 66, 65, 64, 26, 22, 15  …  14, 12, 9, 4, 37, 23, 13, 3, 2, 1]\n",
       " [72, 69, 68, 67, 66, 65, 64, 26, 22, 15  …  14, 12, 9, 33, 37, 23, 13, 3, 2, 1]\n",
       " [72, 69, 68, 67, 66, 65, 64, 26, 22, 15  …  14, 12, 9, 4, 37, 23, 13, 3, 2, 1]\n",
       " [72, 69, 68, 67, 66, 65, 6, 26, 22, 15  …  14, 12, 9, 4, 37, 23, 13, 3, 2, 1]\n",
       " [72, 69, 68, 67, 66, 65, 64, 26, 22, 15  …  14, 12, 9, 4, 37, 23, 13, 3, 2, 1]\n",
       " [72, 69, 68, 67, 66, 65, 64, 26, 22, 15  …  14, 12, 9, 57, 37, 23, 13, 3, 2, 1]\n",
       " [72, 69, 68, 67, 66, 65, 64, 26, 22, 15  …  14, 12, 9, 4, 37, 23, 13, 3, 2, 1]\n",
       " [72, 69, 68, 67, 66, 65, 64, 26, 22, 15  …  14, 12, 9, 10, 37, 23, 13, 3, 2, 1]\n",
       " [72, 69, 68, 67, 66, 65, 64, 26, 22, 15  …  14, 12, 9, 16, 37, 23, 13, 3, 2, 1]\n",
       " [72, 69, 68, 67, 66, 65, 64, 26, 22, 15  …  14, 12, 9, 4, 37, 23, 13, 3, 2, 1]\n",
       " [72, 69, 68, 67, 66, 65, 64, 26, 22, 15  …  14, 12, 9, 4, 37, 23, 13, 3, 2, 1]\n",
       " [72, 69, 68, 67, 66, 65, 64, 26, 22, 15  …  14, 12, 9, 4, 37, 23, 13, 3, 2, 1]"
      ]
     },
     "execution_count": 103,
     "metadata": {},
     "output_type": "execute_result"
    }
   ],
   "source": [
    "posetsaleatorios_alpha0p5"
   ]
  },
  {
   "cell_type": "markdown",
   "metadata": {},
   "source": [
    "Por lo tanto, los $\\alpha$-cut no son compatibles con $m^2$ y $m^3$."
   ]
  },
  {
   "cell_type": "code",
   "execution_count": 97,
   "metadata": {},
   "outputs": [
    {
     "data": {
      "text/plain": [
       "Dict{Int64,Int64} with 1 entry:\n",
       "  0 => 1088"
      ]
     },
     "execution_count": 97,
     "metadata": {},
     "output_type": "execute_result"
    }
   ],
   "source": [
    "countmap([membresia(x, poset_m2|> fuzzy) for x in unique!(posetsaleatorios_alpha0p5)])"
   ]
  },
  {
   "cell_type": "code",
   "execution_count": 98,
   "metadata": {},
   "outputs": [
    {
     "data": {
      "text/plain": [
       "Dict{Int64,Int64} with 1 entry:\n",
       "  0 => 1088"
      ]
     },
     "execution_count": 98,
     "metadata": {},
     "output_type": "execute_result"
    }
   ],
   "source": [
    "countmap([membresia(x, poset_m3|> fuzzy) for x in unique!(posetsaleatorios_alpha0p5)])"
   ]
  },
  {
   "cell_type": "markdown",
   "metadata": {},
   "source": [
    "Vemos que los $\\alpha$-cuts no son ---necesariamente--- compatibles con $\\alpha'<\\alpha$."
   ]
  },
  {
   "cell_type": "code",
   "execution_count": 114,
   "metadata": {},
   "outputs": [
    {
     "data": {
      "text/plain": [
       "Dict{Int64,Int64} with 1 entry:\n",
       "  0 => 1318"
      ]
     },
     "execution_count": 114,
     "metadata": {},
     "output_type": "execute_result"
    }
   ],
   "source": [
    "countmap([membresia(x, αcut_poset(poset_mn, .8)) for x in unique!(posetsaleatorios_alpha0p67)])"
   ]
  },
  {
   "cell_type": "code",
   "execution_count": 115,
   "metadata": {},
   "outputs": [
    {
     "data": {
      "text/plain": [
       "Dict{Int64,Int64} with 1 entry:\n",
       "  0 => 1318"
      ]
     },
     "execution_count": 115,
     "metadata": {},
     "output_type": "execute_result"
    }
   ],
   "source": [
    "countmap([membresia(x, αcut_poset(poset_mn, .7)) for x in unique!(posetsaleatorios_alpha0p67)])"
   ]
  },
  {
   "cell_type": "code",
   "execution_count": 116,
   "metadata": {},
   "outputs": [
    {
     "data": {
      "text/plain": [
       "Dict{Int64,Int64} with 1 entry:\n",
       "  0 => 1318"
      ]
     },
     "execution_count": 116,
     "metadata": {},
     "output_type": "execute_result"
    }
   ],
   "source": [
    "countmap([membresia(x, αcut_poset(poset_mn, .6)) for x in unique!(posetsaleatorios_alpha0p67)])"
   ]
  },
  {
   "cell_type": "code",
   "execution_count": 117,
   "metadata": {},
   "outputs": [
    {
     "data": {
      "text/plain": [
       "Dict{Int64,Int64} with 1 entry:\n",
       "  0 => 1318"
      ]
     },
     "execution_count": 117,
     "metadata": {},
     "output_type": "execute_result"
    }
   ],
   "source": [
    "countmap([membresia(x, αcut_poset(poset_mn, .5)) for x in unique!(posetsaleatorios_alpha0p67)])"
   ]
  },
  {
   "cell_type": "code",
   "execution_count": 118,
   "metadata": {},
   "outputs": [
    {
     "data": {
      "text/plain": [
       "Dict{Int64,Int64} with 1 entry:\n",
       "  0 => 1318"
      ]
     },
     "execution_count": 118,
     "metadata": {},
     "output_type": "execute_result"
    }
   ],
   "source": [
    "countmap([membresia(x, αcut_poset(poset_mn, .4)) for x in unique!(posetsaleatorios_alpha0p67)])"
   ]
  },
  {
   "cell_type": "code",
   "execution_count": 119,
   "metadata": {},
   "outputs": [
    {
     "data": {
      "text/plain": [
       "Dict{Int64,Int64} with 1 entry:\n",
       "  0 => 1318"
      ]
     },
     "execution_count": 119,
     "metadata": {},
     "output_type": "execute_result"
    }
   ],
   "source": [
    "countmap([membresia(x, αcut_poset(poset_mn, .3)) for x in unique!(posetsaleatorios_alpha0p67)])"
   ]
  },
  {
   "cell_type": "code",
   "execution_count": 120,
   "metadata": {},
   "outputs": [
    {
     "data": {
      "text/plain": [
       "Dict{Int64,Int64} with 1 entry:\n",
       "  0 => 1318"
      ]
     },
     "execution_count": 120,
     "metadata": {},
     "output_type": "execute_result"
    }
   ],
   "source": [
    "countmap([membresia(x, αcut_poset(poset_mn, .1)) for x in unique!(posetsaleatorios_alpha0p67)])"
   ]
  },
  {
   "cell_type": "markdown",
   "metadata": {},
   "source": [
    "Vemos que los $\\alpha$-cuts no son ---necesariamente--- compatibles con $\\alpha'<\\alpha$."
   ]
  },
  {
   "cell_type": "code",
   "execution_count": 129,
   "metadata": {},
   "outputs": [
    {
     "data": {
      "text/plain": [
       "Dict{Int64,Int64} with 1 entry:\n",
       "  0 => 563"
      ]
     },
     "execution_count": 129,
     "metadata": {},
     "output_type": "execute_result"
    }
   ],
   "source": [
    "countmap([membresia(x, αcut_poset(poset_mn, .9)) for x in unique!(posetsaleatorios_alpha0p78)])"
   ]
  },
  {
   "cell_type": "code",
   "execution_count": 122,
   "metadata": {},
   "outputs": [
    {
     "data": {
      "text/plain": [
       "Dict{Float64,Int64} with 1 entry:\n",
       "  1.0 => 563"
      ]
     },
     "execution_count": 122,
     "metadata": {},
     "output_type": "execute_result"
    }
   ],
   "source": [
    "countmap([membresia(x, αcut_poset(poset_mn, .8)) for x in unique!(posetsaleatorios_alpha0p78)])"
   ]
  },
  {
   "cell_type": "code",
   "execution_count": 123,
   "metadata": {},
   "outputs": [
    {
     "data": {
      "text/plain": [
       "Dict{Float64,Int64} with 1 entry:\n",
       "  1.0 => 563"
      ]
     },
     "execution_count": 123,
     "metadata": {},
     "output_type": "execute_result"
    }
   ],
   "source": [
    "countmap([membresia(x, αcut_poset(poset_mn, .7)) for x in unique!(posetsaleatorios_alpha0p78)])"
   ]
  },
  {
   "cell_type": "code",
   "execution_count": 124,
   "metadata": {},
   "outputs": [
    {
     "data": {
      "text/plain": [
       "Dict{Float64,Int64} with 1 entry:\n",
       "  1.0 => 563"
      ]
     },
     "execution_count": 124,
     "metadata": {},
     "output_type": "execute_result"
    }
   ],
   "source": [
    "countmap([membresia(x, αcut_poset(poset_mn, .6)) for x in unique!(posetsaleatorios_alpha0p78)])"
   ]
  },
  {
   "cell_type": "code",
   "execution_count": 125,
   "metadata": {},
   "outputs": [
    {
     "data": {
      "text/plain": [
       "Dict{Float64,Int64} with 1 entry:\n",
       "  1.0 => 563"
      ]
     },
     "execution_count": 125,
     "metadata": {},
     "output_type": "execute_result"
    }
   ],
   "source": [
    "countmap([membresia(x, αcut_poset(poset_mn, .5)) for x in unique!(posetsaleatorios_alpha0p78)])"
   ]
  },
  {
   "cell_type": "code",
   "execution_count": 126,
   "metadata": {},
   "outputs": [
    {
     "data": {
      "text/plain": [
       "Dict{Float64,Int64} with 1 entry:\n",
       "  1.0 => 563"
      ]
     },
     "execution_count": 126,
     "metadata": {},
     "output_type": "execute_result"
    }
   ],
   "source": [
    "countmap([membresia(x, αcut_poset(poset_mn, .4)) for x in unique!(posetsaleatorios_alpha0p78)])"
   ]
  },
  {
   "cell_type": "code",
   "execution_count": 127,
   "metadata": {},
   "outputs": [
    {
     "data": {
      "text/plain": [
       "Dict{Float64,Int64} with 1 entry:\n",
       "  1.0 => 563"
      ]
     },
     "execution_count": 127,
     "metadata": {},
     "output_type": "execute_result"
    }
   ],
   "source": [
    "countmap([membresia(x, αcut_poset(poset_mn, .3)) for x in unique!(posetsaleatorios_alpha0p78)])"
   ]
  },
  {
   "cell_type": "code",
   "execution_count": 128,
   "metadata": {},
   "outputs": [
    {
     "data": {
      "text/plain": [
       "Dict{Float64,Int64} with 1 entry:\n",
       "  1.0 => 563"
      ]
     },
     "execution_count": 128,
     "metadata": {},
     "output_type": "execute_result"
    }
   ],
   "source": [
    "countmap([membresia(x, αcut_poset(poset_mn, .1)) for x in unique!(posetsaleatorios_alpha0p78)])"
   ]
  },
  {
   "cell_type": "markdown",
   "metadata": {},
   "source": [
    "## de nuevo permutaciones"
   ]
  },
  {
   "cell_type": "code",
   "execution_count": 153,
   "metadata": {},
   "outputs": [],
   "source": [
    "puntucionpermutada = permpuntuaciones(puntuaciones, 1);"
   ]
  },
  {
   "cell_type": "code",
   "execution_count": 154,
   "metadata": {},
   "outputs": [],
   "source": [
    "posetfaux_mn = puntucionpermutada |> fuzzy;"
   ]
  },
  {
   "cell_type": "code",
   "execution_count": 155,
   "metadata": {},
   "outputs": [],
   "source": [
    "posetsfauxaleatorios_alpha0p78 = [caminatale(αcut_poset(posetfaux_mn, .78),10^2) for _ in 1:72^2]|>unique!;"
   ]
  },
  {
   "cell_type": "code",
   "execution_count": 156,
   "metadata": {},
   "outputs": [
    {
     "data": {
      "text/plain": [
       "Dict{Int64,Int64} with 1 entry:\n",
       "  0 => 662"
      ]
     },
     "execution_count": 156,
     "metadata": {},
     "output_type": "execute_result"
    }
   ],
   "source": [
    "countmap([membresia(x, αcut_poset(poset_mn, .9)) for x in unique!(posetsfauxaleatorios_alpha0p78)])"
   ]
  },
  {
   "cell_type": "code",
   "execution_count": 157,
   "metadata": {},
   "outputs": [
    {
     "data": {
      "text/plain": [
       "Dict{Int64,Int64} with 1 entry:\n",
       "  0 => 662"
      ]
     },
     "execution_count": 157,
     "metadata": {},
     "output_type": "execute_result"
    }
   ],
   "source": [
    "countmap([membresia(x, αcut_poset(poset_mn, .8)) for x in unique!(posetsfauxaleatorios_alpha0p78)])"
   ]
  },
  {
   "cell_type": "code",
   "execution_count": 158,
   "metadata": {},
   "outputs": [
    {
     "data": {
      "text/plain": [
       "Dict{Int64,Int64} with 1 entry:\n",
       "  0 => 662"
      ]
     },
     "execution_count": 158,
     "metadata": {},
     "output_type": "execute_result"
    }
   ],
   "source": [
    "countmap([membresia(x, αcut_poset(poset_mn, .7)) for x in unique!(posetsfauxaleatorios_alpha0p78)])"
   ]
  },
  {
   "cell_type": "code",
   "execution_count": 159,
   "metadata": {},
   "outputs": [
    {
     "data": {
      "text/plain": [
       "Dict{Int64,Int64} with 1 entry:\n",
       "  0 => 662"
      ]
     },
     "execution_count": 159,
     "metadata": {},
     "output_type": "execute_result"
    }
   ],
   "source": [
    "countmap([membresia(x, αcut_poset(poset_mn, .6)) for x in unique!(posetsfauxaleatorios_alpha0p78)])"
   ]
  },
  {
   "cell_type": "code",
   "execution_count": 160,
   "metadata": {},
   "outputs": [
    {
     "data": {
      "text/plain": [
       "Dict{Int64,Int64} with 1 entry:\n",
       "  0 => 662"
      ]
     },
     "execution_count": 160,
     "metadata": {},
     "output_type": "execute_result"
    }
   ],
   "source": [
    "countmap([membresia(x, αcut_poset(poset_mn, .5)) for x in unique!(posetsfauxaleatorios_alpha0p78)])"
   ]
  },
  {
   "cell_type": "code",
   "execution_count": 161,
   "metadata": {},
   "outputs": [
    {
     "data": {
      "text/plain": [
       "Dict{Int64,Int64} with 1 entry:\n",
       "  0 => 662"
      ]
     },
     "execution_count": 161,
     "metadata": {},
     "output_type": "execute_result"
    }
   ],
   "source": [
    "countmap([membresia(x, αcut_poset(poset_mn, .4)) for x in unique!(posetsfauxaleatorios_alpha0p78)])"
   ]
  },
  {
   "cell_type": "code",
   "execution_count": 162,
   "metadata": {},
   "outputs": [
    {
     "data": {
      "text/plain": [
       "Dict{Int64,Int64} with 1 entry:\n",
       "  0 => 662"
      ]
     },
     "execution_count": 162,
     "metadata": {},
     "output_type": "execute_result"
    }
   ],
   "source": [
    "countmap([membresia(x, αcut_poset(poset_mn, .3)) for x in unique!(posetsfauxaleatorios_alpha0p78)])"
   ]
  },
  {
   "cell_type": "code",
   "execution_count": 163,
   "metadata": {},
   "outputs": [
    {
     "data": {
      "text/plain": [
       "Dict{Int64,Int64} with 1 entry:\n",
       "  0 => 662"
      ]
     },
     "execution_count": 163,
     "metadata": {},
     "output_type": "execute_result"
    }
   ],
   "source": [
    "countmap([membresia(x, αcut_poset(poset_mn, .1)) for x in unique!(posetsfauxaleatorios_alpha0p78)])"
   ]
  }
 ],
 "metadata": {
  "kernelspec": {
   "display_name": "Julia 1.4.2",
   "language": "julia",
   "name": "julia-1.4"
  },
  "language_info": {
   "file_extension": ".jl",
   "mimetype": "application/julia",
   "name": "julia",
   "version": "1.5.2"
  }
 },
 "nbformat": 4,
 "nbformat_minor": 4
}
