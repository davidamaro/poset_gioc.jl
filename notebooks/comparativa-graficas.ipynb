{
 "cells": [
  {
   "cell_type": "markdown",
   "metadata": {},
   "source": [
    "En esta notebook se habla de\n",
    "\n",
    "* datos obtenidos para 72 Universidades\n",
    "* Usar el proceso fuzzy para calcular un fuzzy poset\n",
    "* Obtener algunos cortes-$\\alpha$ \n",
    "* Se calculan los posets $m^2$ y $m^3$. Son posets fuzzy, por lo que hay que elegir una forma de hacerlos crisp. Para ello primero usé mayor que los demás, sin ser iguales.\n",
    "* Se estudian los valores de membresía para extensiones lineales para distintos posets obtenidos: $m^2$, $m^3$ y varios $\\alpha$-cut."
   ]
  },
  {
   "cell_type": "markdown",
   "metadata": {},
   "source": [
    "En esta notebook se habla de\n",
    "\n",
    "* Nuevos diagramas para 20 y 30 universidades\n",
    "* Resultados de la renovada comparativa entre $m^2$ y $m^3$. El fuzzy por estos, no es compatible con las extensiones lineales usando $m^2$ y $m^3$ crisp.\n",
    "* Comparativa poset $1/n$ contra puntuaciones reales."
   ]
  },
  {
   "cell_type": "code",
   "execution_count": 1,
   "metadata": {},
   "outputs": [],
   "source": [
    "using CSV\n",
    "using DataFrames\n",
    "using Posets\n",
    "using Plots\n",
    "import Statistics: mean, median\n",
    "using LaTeXStrings\n",
    "using DelimitedFiles"
   ]
  },
  {
   "cell_type": "code",
   "execution_count": 2,
   "metadata": {},
   "outputs": [],
   "source": [
    "list_dataframes = [DataFrame(CSV.File(\"data/\"*f)) for f in readdir(\"data\")];\n",
    "\n",
    "numerouniversidades = 30;\n",
    "nombresbuenos = intersect([l.Univ for l in list_dataframes]...);\n",
    "nombresbuenos = nombresbuenos[1:numerouniversidades];\n",
    "\n",
    "data_filtrada = [xxx[([x ∈ nombresbuenos for x in xxx.Univ]),:] for xxx in list_dataframes];"
   ]
  },
  {
   "cell_type": "markdown",
   "metadata": {},
   "source": [
    "Tabla con los valores ordenados por puntuacion"
   ]
  },
  {
   "cell_type": "code",
   "execution_count": 9,
   "metadata": {},
   "outputs": [
    {
     "name": "stdout",
     "output_type": "stream",
     "text": [
      "72×2 DataFrame\n",
      "│ Row │ Univ                                                  │ Points  │\n",
      "│     │ \u001b[90mString\u001b[39m                                                │ \u001b[90mFloat64\u001b[39m │\n",
      "├─────┼───────────────────────────────────────────────────────┼─────────┤\n",
      "│ 1   │ HarvardUniversity                                     │ 100.0   │\n",
      "│ 2   │ StanfordUniversity                                    │ 74.7    │\n",
      "│ 3   │ UniversityofCalifornia,Berkeley                       │ 70.1    │\n",
      "│ 4   │ UniversityofCambridge                                 │ 69.6    │\n",
      "│ 5   │ MassachusettsInstituteofTechnology(MIT)               │ 69.2    │\n",
      "│ 6   │ PrincetonUniversity                                   │ 62.0    │\n",
      "│ 7   │ UniversityofOxford                                    │ 58.9    │\n",
      "│ 8   │ CaliforniaInstituteofTechnology                       │ 57.8    │\n",
      "│ 9   │ ColumbiaUniversity                                    │ 56.7    │\n",
      "│ 10  │ UniversityofChicago                                   │ 54.2    │\n",
      "│ 11  │ YaleUniversity                                        │ 52.8    │\n",
      "│ 12  │ UniversityofCalifornia,LosAngeles                     │ 51.5    │\n",
      "│ 13  │ CornellUniversity                                     │ 49.0    │\n",
      "│ 14  │ UniversityofCalifornia,SanDiego                       │ 47.8    │\n",
      "│ 15  │ UniversityofWashington                                │ 47.3    │\n",
      "│ 16  │ UniversityCollegeLondon                               │ 45.3    │\n",
      "│ 17  │ UniversityofPennsylvania                              │ 44.5    │\n",
      "│ 18  │ SwissFederalInstituteofTechnologyZurich               │ 43.8    │\n",
      "│ 19  │ TheUniversityofTokyo                                  │ 42.2    │\n",
      "│ 20  │ UniversityofCalifornia,SanFrancisco                   │ 41.9    │\n",
      "│ 21  │ TheImperialCollegeofScience,TechnologyandMedicine     │ 41.6    │\n",
      "│ 22  │ UniversityofMichigan-AnnArbor                         │ 40.8    │\n",
      "│ 23  │ WashingtonUniversityinSt.Louis                        │ 40.8    │\n",
      "│ 24  │ DukeUniversity                                        │ 40.4    │\n",
      "│ 25  │ NorthwesternUniversity                                │ 40.0    │\n",
      "│ 26  │ UniversityofToronto                                   │ 39.4    │\n",
      "│ 27  │ UniversityofWisconsin-Madison                         │ 39.2    │\n",
      "│ 28  │ NewYorkUniversity                                     │ 38.0    │\n",
      "│ 29  │ UniversityofCopenhagen                                │ 37.7    │\n",
      "│ 30  │ UniversityofIllinoisatUrbana-Champaign                │ 37.7    │\n",
      "│ 31  │ KyotoUniversity                                       │ 37.2    │\n",
      "│ 32  │ UniversityofMinnesota,TwinCities                      │ 36.8    │\n",
      "│ 33  │ UniversityofBritishColumbia                           │ 36.7    │\n",
      "│ 34  │ TheUniversityofManchester                             │ 36.4    │\n",
      "│ 35  │ UniversityofNorthCarolinaatChapelHill                 │ 36.4    │\n",
      "│ 36  │ RockefellerUniversity                                 │ 36.1    │\n",
      "│ 37  │ UniversityofColoradoatBoulder                         │ 35.1    │\n",
      "│ 38  │ PierreandMarieCurieUniversity-Paris6                  │ 34.5    │\n",
      "│ 39  │ TheUniversityofEdinburgh                              │ 33.6    │\n",
      "│ 40  │ UniversityofCalifornia,SantaBarbara                   │ 33.3    │\n",
      "│ 41  │ TheUniversityofTexasSouthwesternMedicalCenteratDallas │ 32.9    │\n",
      "│ 42  │ KarolinskaInstitute                                   │ 32.7    │\n",
      "│ 43  │ TheUniversityofTexasatAustin                          │ 32.7    │\n",
      "│ 44  │ TechnicalUniversityMunich                             │ 32.3    │\n",
      "│ 45  │ UniversityofSouthernCalifornia                        │ 32.2    │\n",
      "│ 46  │ King'sCollegeLondon                                   │ 31.6    │\n",
      "│ 47  │ UniversityofMunich                                    │ 31.4    │\n",
      "│ 48  │ UniversityofMaryland,CollegePark                      │ 31.0    │\n",
      "│ 49  │ UniversityofZurich                                    │ 30.5    │\n",
      "│ 50  │ UniversityofHelsinki                                  │ 29.9    │\n",
      "│ 51  │ UniversityofBristol                                   │ 29.7    │\n",
      "│ 52  │ UniversityofCalifornia,Irvine                         │ 29.6    │\n",
      "│ 53  │ UppsalaUniversity                                     │ 29.3    │\n",
      "│ 54  │ VanderbiltUniversity                                  │ 29.3    │\n",
      "│ 55  │ McGillUniversity                                      │ 28.9    │\n",
      "│ 56  │ PurdueUniversity-WestLafayette                        │ 28.9    │\n",
      "│ 57  │ UtrechtUniversity                                     │ 28.7    │\n",
      "│ 58  │ UniversityofOslo                                      │ 28.6    │\n",
      "│ 59  │ CarnegieMellonUniversity                              │ 28.1    │\n",
      "│ 60  │ RiceUniversity                                        │ 27.5    │\n",
      "│ 61  │ BostonUniversity                                      │ 27.2    │\n",
      "│ 62  │ UniversityofCalifornia,Davis                          │ 27.2    │\n",
      "│ 63  │ PennsylvaniaStateUniversity-UniversityPark            │ 26.9    │\n",
      "│ 64  │ TheAustralianNationalUniversity                       │ 26.9    │\n",
      "│ 65  │ TheOhioStateUniversity-Columbus                       │ 26.8    │\n",
      "│ 66  │ McMasterUniversity                                    │ 26.5    │\n",
      "│ 67  │ TheHebrewUniversityofJerusalem                        │ 26.2    │\n",
      "│ 68  │ BrownUniversity                                       │ 26.0    │\n",
      "│ 69  │ UniversityofFlorida                                   │ 26.0    │\n",
      "│ 70  │ LeidenUniversity                                      │ 25.6    │\n",
      "│ 71  │ OsakaUniversity                                       │ 25.5    │\n",
      "│ 72  │ UniversityofUtah                                      │ 25.4    │"
     ]
    }
   ],
   "source": [
    "show(sort(data_filtrada[14], [:Points], rev = true), allrows = true)"
   ]
  },
  {
   "cell_type": "markdown",
   "metadata": {},
   "source": [
    "Tabla con los valores ordenados por nombres. Asi es como aparecen en las graficas"
   ]
  },
  {
   "cell_type": "code",
   "execution_count": 6,
   "metadata": {},
   "outputs": [
    {
     "name": "stdout",
     "output_type": "stream",
     "text": [
      "30×2 DataFrame\n",
      "│ Row │ Univ                                              │ Points  │\n",
      "│     │ \u001b[90mString\u001b[39m                                            │ \u001b[90mFloat64\u001b[39m │\n",
      "├─────┼───────────────────────────────────────────────────┼─────────┤\n",
      "│ 1   │ CaliforniaInstituteofTechnology                   │ 57.8    │\n",
      "│ 2   │ ColumbiaUniversity                                │ 56.7    │\n",
      "│ 3   │ CornellUniversity                                 │ 49.0    │\n",
      "│ 4   │ HarvardUniversity                                 │ 100.0   │\n",
      "│ 5   │ KyotoUniversity                                   │ 37.2    │\n",
      "│ 6   │ MassachusettsInstituteofTechnology(MIT)           │ 69.2    │\n",
      "│ 7   │ NorthwesternUniversity                            │ 40.0    │\n",
      "│ 8   │ PrincetonUniversity                               │ 62.0    │\n",
      "│ 9   │ RockefellerUniversity                             │ 36.1    │\n",
      "│ 10  │ StanfordUniversity                                │ 74.7    │\n",
      "│ 11  │ SwissFederalInstituteofTechnologyZurich           │ 43.8    │\n",
      "│ 12  │ TheImperialCollegeofScience,TechnologyandMedicine │ 41.6    │\n",
      "│ 13  │ TheUniversityofTokyo                              │ 42.2    │\n",
      "│ 14  │ UniversityCollegeLondon                           │ 45.3    │\n",
      "│ 15  │ UniversityofCalifornia,Berkeley                   │ 70.1    │\n",
      "│ 16  │ UniversityofCalifornia,LosAngeles                 │ 51.5    │\n",
      "│ 17  │ UniversityofCalifornia,SanDiego                   │ 47.8    │\n",
      "│ 18  │ UniversityofCalifornia,SanFrancisco               │ 41.9    │\n",
      "│ 19  │ UniversityofCalifornia,SantaBarbara               │ 33.3    │\n",
      "│ 20  │ UniversityofCambridge                             │ 69.6    │\n",
      "│ 21  │ UniversityofChicago                               │ 54.2    │\n",
      "│ 22  │ UniversityofColoradoatBoulder                     │ 35.1    │\n",
      "│ 23  │ UniversityofMichigan-AnnArbor                     │ 40.8    │\n",
      "│ 24  │ UniversityofOxford                                │ 58.9    │\n",
      "│ 25  │ UniversityofPennsylvania                          │ 44.5    │\n",
      "│ 26  │ UniversityofToronto                               │ 39.4    │\n",
      "│ 27  │ UniversityofWashington                            │ 47.3    │\n",
      "│ 28  │ UniversityofWisconsin-Madison                     │ 39.2    │\n",
      "│ 29  │ WashingtonUniversityinSt.Louis                    │ 40.8    │\n",
      "│ 30  │ YaleUniversity                                    │ 52.8    │"
     ]
    }
   ],
   "source": [
    "show(sort(data_filtrada[14], [:Univ], rev = false), allrows = true)"
   ]
  },
  {
   "cell_type": "markdown",
   "metadata": {},
   "source": [
    "## captura de datos"
   ]
  },
  {
   "cell_type": "code",
   "execution_count": 4,
   "metadata": {},
   "outputs": [],
   "source": [
    "puntuaciones = hcat([(sort(d, by = first).Points) for d in data_filtrada]...)/100;"
   ]
  },
  {
   "cell_type": "code",
   "execution_count": 5,
   "metadata": {},
   "outputs": [],
   "source": [
    "poset_mn = puntuaciones |> fuzzy;"
   ]
  },
  {
   "cell_type": "code",
   "execution_count": 6,
   "metadata": {},
   "outputs": [],
   "source": [
    "poset_m3 = puntuaciones |> m3;"
   ]
  },
  {
   "cell_type": "code",
   "execution_count": 7,
   "metadata": {},
   "outputs": [],
   "source": [
    "poset_m2 = puntuaciones |> m2;"
   ]
  },
  {
   "cell_type": "markdown",
   "metadata": {},
   "source": [
    "## Graficos m2, m3"
   ]
  },
  {
   "cell_type": "code",
   "execution_count": 11,
   "metadata": {},
   "outputs": [],
   "source": [
    "writedlm(\"figs/posetm3_univ_30.dat\", poset_m3 |> pareja_matrizadyacencia)"
   ]
  },
  {
   "cell_type": "code",
   "execution_count": 12,
   "metadata": {},
   "outputs": [
    {
     "name": "stdout",
     "output_type": "stream",
     "text": [
      "figs/posetm3_univ_30.png\n"
     ]
    }
   ],
   "source": [
    ";./script.wl figs/posetm3_univ_30.dat"
   ]
  },
  {
   "cell_type": "markdown",
   "metadata": {},
   "source": [
    "![ejemplo](figs/posetm3_univ_20.png)"
   ]
  },
  {
   "cell_type": "code",
   "execution_count": 13,
   "metadata": {},
   "outputs": [],
   "source": [
    "writedlm(\"figs/posetm2_univ_30.dat\", poset_m2 |> pareja_matrizadyacencia)"
   ]
  },
  {
   "cell_type": "code",
   "execution_count": 15,
   "metadata": {},
   "outputs": [
    {
     "name": "stdout",
     "output_type": "stream",
     "text": [
      "figs/posetm2_univ_30.png\n"
     ]
    }
   ],
   "source": [
    ";./script.wl figs/posetm2_univ_30.dat"
   ]
  },
  {
   "cell_type": "markdown",
   "metadata": {},
   "source": [
    "![ejemplo](figs/posetm2_univ_30.png)"
   ]
  },
  {
   "cell_type": "code",
   "execution_count": 16,
   "metadata": {},
   "outputs": [],
   "source": [
    "writedlm(\"figs/poset0p1_univ_30.dat\", αcut_poset(poset_mn, 0.1))\n",
    "#;./script.wl figs/poset0p1_univ.dat"
   ]
  },
  {
   "cell_type": "code",
   "execution_count": 17,
   "metadata": {},
   "outputs": [
    {
     "name": "stdout",
     "output_type": "stream",
     "text": [
      "figs/poset0p1_univ_30.png\n"
     ]
    }
   ],
   "source": [
    ";./script.wl figs/poset0p1_univ_30.dat"
   ]
  },
  {
   "cell_type": "markdown",
   "metadata": {},
   "source": [
    "![ejemplo](figs/poset0p1_univ_30.png)"
   ]
  },
  {
   "cell_type": "code",
   "execution_count": 18,
   "metadata": {},
   "outputs": [],
   "source": [
    "writedlm(\"figs/poset0p3_univ_30.dat\", αcut_poset(poset_mn, 0.3))\n",
    "#;./script.wl figs/poset0p1_univ.dat"
   ]
  },
  {
   "cell_type": "code",
   "execution_count": 19,
   "metadata": {},
   "outputs": [
    {
     "name": "stdout",
     "output_type": "stream",
     "text": [
      "figs/poset0p3_univ_30.png\n"
     ]
    }
   ],
   "source": [
    ";./script.wl figs/poset0p3_univ_30.dat"
   ]
  },
  {
   "cell_type": "markdown",
   "metadata": {},
   "source": [
    "![ejemplo](figs/poset0p3_univ_30.png)"
   ]
  },
  {
   "cell_type": "code",
   "execution_count": 20,
   "metadata": {},
   "outputs": [],
   "source": [
    "writedlm(\"figs/poset0p55_univ_30.dat\", αcut_poset(poset_mn, 0.55))\n",
    "#;./script.wl figs/poset0p1_univ.dat"
   ]
  },
  {
   "cell_type": "code",
   "execution_count": 21,
   "metadata": {},
   "outputs": [
    {
     "name": "stdout",
     "output_type": "stream",
     "text": [
      "figs/poset0p55_univ_30.png\n"
     ]
    }
   ],
   "source": [
    ";./script.wl figs/poset0p55_univ_30.dat"
   ]
  },
  {
   "cell_type": "markdown",
   "metadata": {},
   "source": [
    "![ejemplo](figs/poset0p55_univ_30.png)"
   ]
  },
  {
   "cell_type": "code",
   "execution_count": 22,
   "metadata": {},
   "outputs": [],
   "source": [
    "writedlm(\"figs/poset0p75_univ_30.dat\", αcut_poset(poset_mn, 0.75))\n",
    "#;./script.wl figs/poset0p1_univ.dat"
   ]
  },
  {
   "cell_type": "code",
   "execution_count": 23,
   "metadata": {},
   "outputs": [
    {
     "name": "stdout",
     "output_type": "stream",
     "text": [
      "figs/poset0p75_univ_30.png\n"
     ]
    }
   ],
   "source": [
    ";./script.wl figs/poset0p75_univ_30.dat"
   ]
  },
  {
   "cell_type": "markdown",
   "metadata": {},
   "source": [
    "![ejemplo](figs/poset0p75_univ_30.png)"
   ]
  },
  {
   "cell_type": "code",
   "execution_count": 8,
   "metadata": {},
   "outputs": [],
   "source": [
    "writedlm(\"figs/poset0p95_univ_30.dat\", αcut_poset(poset_mn, 0.95))\n",
    "#;./script.wl figs/poset0p1_univ.dat"
   ]
  },
  {
   "cell_type": "code",
   "execution_count": 9,
   "metadata": {},
   "outputs": [
    {
     "name": "stdout",
     "output_type": "stream",
     "text": [
      "figs/poset0p95_univ_30.png\n"
     ]
    }
   ],
   "source": [
    ";./script.wl figs/poset0p95_univ_30.dat"
   ]
  },
  {
   "cell_type": "markdown",
   "metadata": {},
   "source": [
    "![ejemplo](figs/poset0p95_univ_30.png)"
   ]
  },
  {
   "cell_type": "code",
   "execution_count": 19,
   "metadata": {},
   "outputs": [],
   "source": [
    "writedlm(\"figs/poset0p98_univ_30.dat\", αcut_poset(poset_mn, 0.98))\n",
    "#;./script.wl figs/poset0p1_univ.dat"
   ]
  },
  {
   "cell_type": "code",
   "execution_count": 20,
   "metadata": {},
   "outputs": [
    {
     "name": "stdout",
     "output_type": "stream",
     "text": [
      "figs/poset0p98_univ_30.png\n"
     ]
    }
   ],
   "source": [
    ";./script.wl figs/poset0p98_univ_30.dat"
   ]
  },
  {
   "cell_type": "markdown",
   "metadata": {},
   "source": [
    "![ejemplo](figs/poset0p98_univ_30.png)"
   ]
  },
  {
   "cell_type": "code",
   "execution_count": 27,
   "metadata": {},
   "outputs": [],
   "source": [
    "writedlm(\"figs/poset0p98_univ_30.dat\", αcut_poset(poset_mn, 0.98))\n",
    "#;./script.wl figs/poset0p1_univ.dat"
   ]
  },
  {
   "cell_type": "code",
   "execution_count": 28,
   "metadata": {},
   "outputs": [
    {
     "name": "stdout",
     "output_type": "stream",
     "text": [
      "figs/poset0p98_univ_30.png\n"
     ]
    }
   ],
   "source": [
    ";./script.wl figs/poset0p98_univ_30.dat"
   ]
  },
  {
   "cell_type": "markdown",
   "metadata": {},
   "source": [
    "![ejemplo](figs/poset0p98_univ_30.png)"
   ]
  },
  {
   "cell_type": "markdown",
   "metadata": {},
   "source": [
    "## Puntuaciones $1/n$"
   ]
  },
  {
   "cell_type": "code",
   "execution_count": 31,
   "metadata": {},
   "outputs": [
    {
     "data": {
      "text/plain": [
       "14-element Array{Array{Int64,1},1}:\n",
       " [4, 11, 3, 28, 27, 6, 8, 30, 26, 2  …  18, 29, 17, 10, 16, 15, 9, 7, 5, 14]\n",
       " [4, 11, 28, 27, 6, 3, 8, 26, 2, 25  …  5, 12, 17, 16, 10, 29, 9, 7, 15, 14]\n",
       " [4, 28, 11, 27, 6, 3, 2, 8, 26, 25  …  5, 12, 17, 16, 10, 29, 9, 7, 15, 14]\n",
       " [4, 28, 11, 27, 6, 3, 2, 8, 26, 25  …  5, 12, 17, 16, 10, 29, 9, 7, 15, 14]\n",
       " [4, 11, 28, 27, 6, 3, 2, 8, 26, 25  …  5, 12, 17, 16, 10, 29, 7, 9, 15, 14]\n",
       " [4, 11, 28, 27, 6, 3, 2, 8, 26, 25  …  17, 5, 10, 16, 12, 29, 7, 9, 15, 14]\n",
       " [4, 11, 28, 27, 6, 3, 2, 8, 26, 25  …  17, 10, 5, 12, 16, 29, 7, 9, 15, 14]\n",
       " [4, 28, 11, 6, 27, 3, 8, 2, 26, 25  …  17, 10, 5, 12, 16, 7, 29, 14, 15, 9]\n",
       " [4, 11, 6, 28, 27, 3, 8, 2, 26, 25  …  17, 10, 12, 16, 5, 7, 29, 15, 9, 14]\n",
       " [4, 11, 6, 28, 27, 3, 8, 2, 26, 25  …  17, 10, 12, 5, 16, 7, 29, 9, 15, 14]\n",
       " [4, 11, 28, 6, 27, 3, 8, 2, 26, 25  …  18, 17, 12, 5, 16, 7, 29, 15, 9, 14]\n",
       " [4, 11, 6, 28, 27, 8, 3, 2, 25, 26  …  12, 18, 16, 17, 5, 7, 29, 9, 15, 14]\n",
       " [4, 11, 6, 28, 27, 8, 3, 2, 26, 25  …  18, 12, 17, 16, 5, 7, 29, 9, 15, 14]\n",
       " [4, 11, 28, 27, 6, 8, 26, 3, 2, 25  …  12, 18, 29, 7, 17, 16, 5, 9, 15, 14]"
      ]
     },
     "execution_count": 31,
     "metadata": {},
     "output_type": "execute_result"
    }
   ],
   "source": [
    "ranks_univs = [sortperm(puntuaciones[:,x], rev = true) for x in 1:14]"
   ]
  },
  {
   "cell_type": "code",
   "execution_count": 32,
   "metadata": {},
   "outputs": [
    {
     "data": {
      "text/plain": [
       "30×14 Array{Float64,2}:\n",
       " 0.0833333  0.0833333  0.0833333  …  0.0769231  0.0769231  0.0769231\n",
       " 0.1        0.111111   0.142857      0.125      0.125      0.111111\n",
       " 0.333333   0.166667   0.166667      0.142857   0.142857   0.125\n",
       " 1.0        1.0        1.0           1.0        1.0        1.0\n",
       " 0.0344828  0.047619   0.047619      0.04       0.04       0.037037\n",
       " 0.166667   0.2        0.2        …  0.333333   0.333333   0.2\n",
       " 0.0357143  0.0357143  0.0357143     0.0384615  0.0384615  0.0416667\n",
       " 0.142857   0.142857   0.125         0.166667   0.166667   0.166667\n",
       " 0.037037   0.037037   0.037037      0.0357143  0.0357143  0.0357143\n",
       " 0.0416667  0.04       0.04          0.0555556  0.0526316  0.0555556\n",
       " 0.5        0.5        0.333333   …  0.5        0.5        0.5\n",
       " 0.0526316  0.0454545  0.0454545     0.047619   0.0454545  0.047619\n",
       " 0.0588235  0.0714286  0.0526316     0.05       0.05       0.0526316\n",
       " ⋮                                ⋱                        \n",
       " 0.05       0.0526316  0.0555556     0.0526316  0.0588235  0.05\n",
       " 0.0555556  0.0555556  0.0588235     0.0588235  0.0555556  0.0588235\n",
       " 0.0625     0.0588235  0.0625     …  0.0625     0.0625     0.0625\n",
       " 0.0666667  0.0625     0.0666667     0.0666667  0.0666667  0.0666667\n",
       " 0.0714286  0.0666667  0.0714286     0.0714286  0.0714286  0.0714286\n",
       " 0.0769231  0.0769231  0.0769231     0.0833333  0.0833333  0.0833333\n",
       " 0.0909091  0.1        0.1           0.111111   0.1        0.1\n",
       " 0.111111   0.125      0.111111   …  0.1        0.111111   0.142857\n",
       " 0.2        0.25       0.25          0.2        0.2        0.25\n",
       " 0.25       0.333333   0.5           0.25       0.25       0.333333\n",
       " 0.0454545  0.0384615  0.0384615     0.037037   0.037037   0.0434783\n",
       " 0.125      0.0909091  0.0909091     0.0909091  0.0909091  0.0909091"
      ]
     },
     "execution_count": 32,
     "metadata": {},
     "output_type": "execute_result"
    }
   ],
   "source": [
    "puntuaciones_preposet = mn(ranks_univs)"
   ]
  },
  {
   "cell_type": "code",
   "execution_count": 33,
   "metadata": {},
   "outputs": [
    {
     "data": {
      "text/plain": [
       "30×30 Array{Float64,2}:\n",
       " 1.0       0.631514  0.467996  0.0805861  …  0.237517  1.0       0.863322\n",
       " 1.0       1.0       0.74107   0.127608      0.376107  1.0       0.98087\n",
       " 1.0       1.0       1.0       0.172194      0.489975  1.0       1.0\n",
       " 1.0       1.0       1.0       1.0           1.0       1.0       1.0\n",
       " 0.529815  0.334586  0.247952  0.0426957     0.12584   0.967868  0.457401\n",
       " 1.0       1.0       0.930864  0.242857   …  0.645614  1.0       1.0\n",
       " 0.466585  0.294655  0.21836   0.0376003     0.110822  0.95559   0.402814\n",
       " 1.0       0.950022  0.785185  0.141582      0.417293  1.0       1.0\n",
       " 0.443578  0.280126  0.207593  0.0357462     0.105357  0.923463  0.382951\n",
       " 0.570231  0.360109  0.266866  0.0459527     0.135439  0.99301   0.492293\n",
       " 1.0       1.0       1.0       0.464286   …  0.894737  1.0       1.0\n",
       " 0.557443  0.352033  0.260881  0.0449222     0.132402  1.0       0.481253\n",
       " 0.665929  0.420544  0.311652  0.0536646     0.158169  1.0       0.574911\n",
       " ⋮                                        ⋱                      \n",
       " 0.677259  0.427698  0.316954  0.0545776     0.16086   1.0       0.584692\n",
       " 0.721257  0.455484  0.337545  0.0581232     0.171311  1.0       0.622677\n",
       " 0.772309  0.487724  0.361438  0.0622374  …  0.183437  1.0       0.666752\n",
       " 0.82358   0.520102  0.385432  0.066369      0.195614  1.0       0.711014\n",
       " 0.882143  0.557086  0.41284   0.0710884     0.209524  1.0       0.761573\n",
       " 0.954545  0.624338  0.462678  0.0796703     0.234818  1.0       0.853512\n",
       " 1.0       0.784783  0.581579  0.100144      0.295162  1.0       0.973913\n",
       " 1.0       0.858285  0.652181  0.113577   …  0.334754  1.0       0.989372\n",
       " 1.0       1.0       0.944691  0.225         0.663158  1.0       1.0\n",
       " 1.0       1.0       0.965432  0.339286      1.0       1.0       1.0\n",
       " 0.480342  0.303343  0.224798  0.0387089     0.114089  1.0       0.41469\n",
       " 1.0       0.717499  0.542088  0.0933442     0.27512   1.0       1.0"
      ]
     },
     "execution_count": 33,
     "metadata": {},
     "output_type": "execute_result"
    }
   ],
   "source": [
    "poset_mn_old = puntuaciones_preposet |> fuzzy"
   ]
  },
  {
   "cell_type": "code",
   "execution_count": 27,
   "metadata": {},
   "outputs": [],
   "source": [
    "writedlm(\"figs/poset0p95_univ_o_20.dat\", αcut_poset(poset_mn_old, .95))"
   ]
  },
  {
   "cell_type": "code",
   "execution_count": 28,
   "metadata": {
    "scrolled": true
   },
   "outputs": [
    {
     "name": "stdout",
     "output_type": "stream",
     "text": [
      "figs/poset0p95_univ_o_20.png\n"
     ]
    }
   ],
   "source": [
    ";./script.wl figs/poset0p95_univ_o_20.dat"
   ]
  },
  {
   "cell_type": "markdown",
   "metadata": {},
   "source": [
    "![ejemplo](figs/poset0p95_univ_o_20.png)"
   ]
  },
  {
   "cell_type": "markdown",
   "metadata": {},
   "source": [
    "# Poset $m^2$ y $m^3$"
   ]
  },
  {
   "cell_type": "code",
   "execution_count": 30,
   "metadata": {},
   "outputs": [],
   "source": [
    "poset_m3 = puntuaciones |> m3;"
   ]
  },
  {
   "cell_type": "code",
   "execution_count": 31,
   "metadata": {},
   "outputs": [],
   "source": [
    "poset_m3 |> pareja_matrizadyacencia;"
   ]
  },
  {
   "cell_type": "code",
   "execution_count": 32,
   "metadata": {},
   "outputs": [],
   "source": [
    "poset_m2 = puntuaciones |> m2;"
   ]
  },
  {
   "cell_type": "code",
   "execution_count": 34,
   "metadata": {},
   "outputs": [],
   "source": [
    "poset_m2 |> pareja_matrizadyacencia;"
   ]
  },
  {
   "cell_type": "code",
   "execution_count": 35,
   "metadata": {},
   "outputs": [],
   "source": [
    "writedlm(\"figs/posetm3_univ_20.dat\", poset_m3 |> pareja_matrizadyacencia)"
   ]
  },
  {
   "cell_type": "code",
   "execution_count": 36,
   "metadata": {},
   "outputs": [
    {
     "name": "stdout",
     "output_type": "stream",
     "text": [
      "figs/posetm3_univ_20.png\n"
     ]
    }
   ],
   "source": [
    ";./script.wl figs/posetm3_univ_20.dat"
   ]
  },
  {
   "cell_type": "markdown",
   "metadata": {},
   "source": [
    "![ejemplo](figs/posetm3_univ_20.png)"
   ]
  },
  {
   "cell_type": "code",
   "execution_count": 34,
   "metadata": {},
   "outputs": [],
   "source": [
    "writedlm(\"figs/posetm2_univ_20.dat\", poset_m2 |> pareja_matrizadyacencia)"
   ]
  },
  {
   "cell_type": "code",
   "execution_count": 35,
   "metadata": {},
   "outputs": [
    {
     "name": "stdout",
     "output_type": "stream",
     "text": [
      "figs/posetm2_univ_20.png\n"
     ]
    }
   ],
   "source": [
    ";./script.wl figs/posetm2_univ_20.dat"
   ]
  },
  {
   "cell_type": "markdown",
   "metadata": {},
   "source": [
    "![ejemplo](figs/posetm2_univ_20.png)"
   ]
  },
  {
   "cell_type": "markdown",
   "metadata": {},
   "source": [
    "# analisis posicion promedio"
   ]
  },
  {
   "cell_type": "code",
   "execution_count": 10,
   "metadata": {},
   "outputs": [
    {
     "data": {
      "text/plain": [
       "14-element Array{Array{Int64,1},1}:\n",
       " [4, 11, 3, 28, 27, 6, 8, 30, 26, 2  …  18, 29, 17, 10, 16, 15, 9, 7, 5, 14]\n",
       " [4, 11, 28, 27, 6, 3, 8, 26, 2, 25  …  5, 12, 17, 16, 10, 29, 9, 7, 15, 14]\n",
       " [4, 28, 11, 27, 6, 3, 2, 8, 26, 25  …  5, 12, 17, 16, 10, 29, 9, 7, 15, 14]\n",
       " [4, 28, 11, 27, 6, 3, 2, 8, 26, 25  …  5, 12, 17, 16, 10, 29, 9, 7, 15, 14]\n",
       " [4, 11, 28, 27, 6, 3, 2, 8, 26, 25  …  5, 12, 17, 16, 10, 29, 7, 9, 15, 14]\n",
       " [4, 11, 28, 27, 6, 3, 2, 8, 26, 25  …  17, 5, 10, 16, 12, 29, 7, 9, 15, 14]\n",
       " [4, 11, 28, 27, 6, 3, 2, 8, 26, 25  …  17, 10, 5, 12, 16, 29, 7, 9, 15, 14]\n",
       " [4, 28, 11, 6, 27, 3, 8, 2, 26, 25  …  17, 10, 5, 12, 16, 7, 29, 14, 15, 9]\n",
       " [4, 11, 6, 28, 27, 3, 8, 2, 26, 25  …  17, 10, 12, 16, 5, 7, 29, 15, 9, 14]\n",
       " [4, 11, 6, 28, 27, 3, 8, 2, 26, 25  …  17, 10, 12, 5, 16, 7, 29, 9, 15, 14]\n",
       " [4, 11, 28, 6, 27, 3, 8, 2, 26, 25  …  18, 17, 12, 5, 16, 7, 29, 15, 9, 14]\n",
       " [4, 11, 6, 28, 27, 8, 3, 2, 25, 26  …  12, 18, 16, 17, 5, 7, 29, 9, 15, 14]\n",
       " [4, 11, 6, 28, 27, 8, 3, 2, 26, 25  …  18, 12, 17, 16, 5, 7, 29, 9, 15, 14]\n",
       " [4, 11, 28, 27, 6, 8, 26, 3, 2, 25  …  12, 18, 29, 7, 17, 16, 5, 9, 15, 14]"
      ]
     },
     "execution_count": 10,
     "metadata": {},
     "output_type": "execute_result"
    }
   ],
   "source": [
    "ranks_univs = [sortperm(puntuaciones[:,x], rev = true) for x in 1:14]"
   ]
  },
  {
   "cell_type": "markdown",
   "metadata": {},
   "source": [
    "![ejemplo](figs/poset0p95_univ_30.png)"
   ]
  },
  {
   "cell_type": "markdown",
   "metadata": {},
   "source": [
    "Aqui esta la comparativa entre posiciones promedio y niveles de Hasse."
   ]
  },
  {
   "cell_type": "code",
   "execution_count": 17,
   "metadata": {
    "scrolled": true
   },
   "outputs": [
    {
     "data": {
      "text/plain": [
       "5-element Array{Float64,1}:\n",
       " 23.64285714285714\n",
       " 22.07142857142857\n",
       " 22.357142857142854\n",
       " 22.428571428571427\n",
       " 20.428571428571427"
      ]
     },
     "execution_count": 17,
     "metadata": {},
     "output_type": "execute_result"
    }
   ],
   "source": [
    "pos1[[5,10,12,17,18]]"
   ]
  },
  {
   "cell_type": "code",
   "execution_count": 18,
   "metadata": {},
   "outputs": [
    {
     "data": {
      "text/plain": [
       "3-element Array{Float64,1}:\n",
       " 12.428571428571427\n",
       " 14.071428571428571\n",
       " 12.57142857142857"
      ]
     },
     "execution_count": 18,
     "metadata": {},
     "output_type": "execute_result"
    }
   ],
   "source": [
    "pos1[[1,23,24]]"
   ]
  },
  {
   "cell_type": "code",
   "execution_count": 16,
   "metadata": {},
   "outputs": [
    {
     "data": {
      "text/plain": [
       "2-element Array{Float64,1}:\n",
       " 10.0\n",
       " 10.785714285714286"
      ]
     },
     "execution_count": 16,
     "metadata": {},
     "output_type": "execute_result"
    }
   ],
   "source": [
    "pos1[[25,30]]"
   ]
  },
  {
   "cell_type": "code",
   "execution_count": 15,
   "metadata": {},
   "outputs": [
    {
     "data": {
      "text/plain": [
       "3-element Array{Float64,1}:\n",
       " 7.928571428571428\n",
       " 7.142857142857142\n",
       " 8.857142857142858"
      ]
     },
     "execution_count": 15,
     "metadata": {},
     "output_type": "execute_result"
    }
   ],
   "source": [
    "pos1[[2,8,26]]"
   ]
  },
  {
   "cell_type": "code",
   "execution_count": 14,
   "metadata": {},
   "outputs": [
    {
     "data": {
      "text/plain": [
       "1-element Array{Float64,1}:\n",
       " 6.071428571428571"
      ]
     },
     "execution_count": 14,
     "metadata": {},
     "output_type": "execute_result"
    }
   ],
   "source": [
    "pos1[[3]]"
   ]
  },
  {
   "cell_type": "code",
   "execution_count": 12,
   "metadata": {},
   "outputs": [
    {
     "data": {
      "text/plain": [
       "4-element Array{Float64,1}:\n",
       " 4.357142857142858\n",
       " 2.2142857142857144\n",
       " 4.5\n",
       " 3.142857142857143"
      ]
     },
     "execution_count": 12,
     "metadata": {},
     "output_type": "execute_result"
    }
   ],
   "source": [
    "pos1[[6,11,27,28]]"
   ]
  },
  {
   "cell_type": "code",
   "execution_count": 13,
   "metadata": {},
   "outputs": [
    {
     "data": {
      "text/plain": [
       "1.0"
      ]
     },
     "execution_count": 13,
     "metadata": {},
     "output_type": "execute_result"
    }
   ],
   "source": [
    "pos1[4]"
   ]
  },
  {
   "cell_type": "code",
   "execution_count": 11,
   "metadata": {},
   "outputs": [
    {
     "data": {
      "text/plain": [
       "30-element Array{Float64,1}:\n",
       " 12.428571428571427\n",
       "  7.928571428571428\n",
       "  6.071428571428571\n",
       "  1.0\n",
       " 23.64285714285714\n",
       "  4.357142857142858\n",
       " 26.642857142857142\n",
       "  7.142857142857142\n",
       " 28.0\n",
       " 22.07142857142857\n",
       "  2.2142857142857144\n",
       " 22.357142857142854\n",
       " 18.785714285714285\n",
       "  ⋮\n",
       " 18.357142857142858\n",
       " 17.214285714285715\n",
       " 16.071428571428573\n",
       " 15.071428571428571\n",
       " 14.071428571428571\n",
       " 12.57142857142857\n",
       " 10.0\n",
       "  8.857142857142858\n",
       "  4.5\n",
       "  3.142857142857143\n",
       " 25.92857142857143\n",
       " 10.785714285714286"
      ]
     },
     "execution_count": 11,
     "metadata": {},
     "output_type": "execute_result"
    }
   ],
   "source": [
    "pos1 = [posicionpromedio(ranks_univs, x) for x in 1:numerouniversidades]"
   ]
  }
 ],
 "metadata": {
  "kernelspec": {
   "display_name": "Julia 1.4.2",
   "language": "julia",
   "name": "julia-1.4"
  },
  "language_info": {
   "file_extension": ".jl",
   "mimetype": "application/julia",
   "name": "julia",
   "version": "1.5.2"
  }
 },
 "nbformat": 4,
 "nbformat_minor": 4
}
