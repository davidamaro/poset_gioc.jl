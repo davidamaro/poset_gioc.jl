{
 "cells": [
  {
   "cell_type": "markdown",
   "metadata": {},
   "source": [
    "$\\operatorname{\\Sigma Count}(A)$ es la suma de los valores de pertenencia."
   ]
  },
  {
   "cell_type": "markdown",
   "metadata": {},
   "source": [
    "Por ejemplo, $\\mu(1) = 0.3$, $\\mu(2) = 0.3$, $\\mu(3) = 0.7$.\n",
    "Por lo tanto $\\operatorname{\\Sigma count}(\\mu) = \\sum \\mu(i) = 1.3$\n",
    "\n"
   ]
  },
  {
   "cell_type": "markdown",
   "metadata": {},
   "source": [
    "$A = \\{1,2,3\\}$"
   ]
  },
  {
   "cell_type": "markdown",
   "metadata": {},
   "source": [
    "El complemento de un fuzzy es $1-\\mu(i)$"
   ]
  },
  {
   "cell_type": "markdown",
   "metadata": {},
   "source": [
    "Asi $A^c$ tiene como funciones de pertenencia"
   ]
  },
  {
   "cell_type": "markdown",
   "metadata": {},
   "source": [
    "$\\mu(1) = 0.7$, $\\mu(2) = 0.7$, $\\mu(3) = 0.3$."
   ]
  },
  {
   "cell_type": "markdown",
   "metadata": {},
   "source": [
    "La interseccion entre dos conjuntos fuzzy $A$ y $B$ con las siguientes funciones de pertenencia\n",
    "$\\mu(A;1) = 0.1$,\n",
    "$\\mu(A;2) = 0.3$,\n",
    "$\\mu(A;3) = 0.5$,\n",
    "$\\mu(B;1) = 0.05$,\n",
    "$\\mu(B;2) = 0.3$,\n",
    "$\\mu(B;3) = 0.7$, es"
   ]
  },
  {
   "cell_type": "markdown",
   "metadata": {},
   "source": [
    "calculada usando el minimo entre las funciones de pertenencia"
   ]
  },
  {
   "cell_type": "markdown",
   "metadata": {},
   "source": [
    "$\\mu(A\\cap B,1 ) = \\min(0.5,0.01) = 0.05$"
   ]
  },
  {
   "cell_type": "markdown",
   "metadata": {},
   "source": [
    "$\\mu(A\\cap B,2 ) = \\min(0.3,0.3) = 0.3$"
   ]
  },
  {
   "cell_type": "markdown",
   "metadata": {},
   "source": [
    "$\\mu(A\\cap B,3 ) = \\min(0.5,0.7) = 0.5$"
   ]
  },
  {
   "cell_type": "markdown",
   "metadata": {},
   "source": [
    "Por otro lado, la union es calculada con el maximo"
   ]
  },
  {
   "cell_type": "markdown",
   "metadata": {},
   "source": [
    "$\\mu(A\\cup B,1 ) = \\max(0.5,0.05) = 0.5$"
   ]
  },
  {
   "cell_type": "markdown",
   "metadata": {},
   "source": [
    "$\\mu(A\\cup B,2 ) = \\max(0.3,0.3) = 0.3$"
   ]
  },
  {
   "cell_type": "markdown",
   "metadata": {},
   "source": [
    "$\\mu(A\\cup B,3 ) = \\max(0.5,0.7) = 0.7$"
   ]
  },
  {
   "cell_type": "markdown",
   "metadata": {},
   "source": [
    "**Entropia** o grado de fuzzyness"
   ]
  },
  {
   "cell_type": "markdown",
   "metadata": {},
   "source": [
    "$$\n",
    "R_{1}(A)=\\frac{\\sum \\operatorname{Count}\\left(A \\cap A^{c}\\right)}{\\sum \\operatorname{Count}\\left(A \\cup A^{c}\\right)}\n",
    "$$"
   ]
  },
  {
   "cell_type": "markdown",
   "metadata": {},
   "source": [
    "Fuente: "
   ]
  },
  {
   "cell_type": "markdown",
   "metadata": {},
   "source": [
    "**Fuzzy** o grado de pertenencia basado en una tabla de pertenencia"
   ]
  },
  {
   "cell_type": "markdown",
   "metadata": {},
   "source": [
    "$$\n",
    "\\left\\{\\begin{array}{ll}\n",
    "\\frac{\\sum_{i} \\min \\left\\{p_{i}(x), p_{i}(y)\\right\\}}{\\sum_{i} p_{i}(x)} & \\text { if } \\sum_{i} p_{i}(x) \\neq 0 \\\\\n",
    "1 & \\text { otherwise }\n",
    "\\end{array}\\right.\n",
    "$$"
   ]
  },
  {
   "cell_type": "markdown",
   "metadata": {},
   "source": [
    "Fuente: Ranking Objects Using Fuzzy Orders, with an Application to Regrigerants"
   ]
  },
  {
   "cell_type": "markdown",
   "metadata": {},
   "source": [
    "# Funcion de membresia para extensiones lineales"
   ]
  },
  {
   "cell_type": "markdown",
   "metadata": {},
   "source": [
    "$$\n",
    "\\mu_{\\Lambda(\\tilde{P})}(L) =1-\\bigvee_{u, v} \\mu_{\\tilde{P}}(u, v) \\wedge\\left(1-\\mu_{L}(u, v)\\right)\n",
    "$$"
   ]
  },
  {
   "cell_type": "markdown",
   "metadata": {},
   "source": [
    "es equivalente a"
   ]
  },
  {
   "cell_type": "markdown",
   "metadata": {},
   "source": [
    "$$\n",
    "1 - \\max(\\{\\min(\\mu_{\\tilde P}(u,v),1- \\mu_L(u,v))  , u,v \\in [1,n]\\times [1,n]\\})\n",
    "$$"
   ]
  },
  {
   "cell_type": "markdown",
   "metadata": {},
   "source": [
    "Se puede considerar un ejemplo de poset fuzzy\n",
    "\n",
    "$$\n",
    "\\tilde P = \n",
    "\\begin{pmatrix}\n",
    "1 & 7/10 & 4/5 \\\\\n",
    "3/10 & 1 & 2/5 \\\\\n",
    "1/10 & 3/10 & 1\n",
    "\\end{pmatrix}\n",
    "$$"
   ]
  },
  {
   "cell_type": "markdown",
   "metadata": {},
   "source": [
    "y el ranking $L = (1,2,3)$"
   ]
  },
  {
   "cell_type": "markdown",
   "metadata": {},
   "source": [
    "Entonces $\\mu_{\\tilde P}(1,2) = 7/10$ mientras que"
   ]
  },
  {
   "cell_type": "markdown",
   "metadata": {},
   "source": [
    "$ 1- \\mu_L(1,2)= 1-1 = 0$, por lo que $\\min(\\mu_{\\tilde P}(1,2), 1-\\mu_L(1,2)) = 0$"
   ]
  }
 ],
 "metadata": {
  "kernelspec": {
   "display_name": "Julia 1.5.2",
   "language": "julia",
   "name": "julia-1.5"
  },
  "language_info": {
   "file_extension": ".jl",
   "mimetype": "application/julia",
   "name": "julia",
   "version": "1.5.2"
  }
 },
 "nbformat": 4,
 "nbformat_minor": 4
}
