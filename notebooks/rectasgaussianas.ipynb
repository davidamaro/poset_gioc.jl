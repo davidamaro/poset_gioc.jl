{
 "cells": [
  {
   "cell_type": "markdown",
   "metadata": {},
   "source": [
    "1. Es necesario utilizar unicamente los puntos sobre la esfera\n",
    "que tengan todas sus puntos positivos. Esto porque sino\n",
    "se obtienen rankings inversos.\n",
    "2. No hay relacion entre el poset interseccion,\n",
    "calculado usando los rankings de las puntuaciones,\n",
    "con el __poset de puntos__\n",
    "__poset de puntos__ poset que se obtiene al comparar\n",
    "todas las entradas del vector que representa un nodo.\n",
    "3. Es necesario mejorar la normalizacion\n",
    "4. Los 1s del poset de puntos, siempre aparecen en el\n",
    "poset borroso, calculado utilizando las puntuaciones."
   ]
  },
  {
   "cell_type": "code",
   "execution_count": null,
   "metadata": {},
   "outputs": [],
   "source": [
    " import Distributions: MvNormal"
   ]
  },
  {
   "cell_type": "code",
   "execution_count": 1,
   "metadata": {},
   "outputs": [],
   "source": [
    "using Posets"
   ]
  },
  {
   "cell_type": "code",
   "execution_count": 2,
   "metadata": {},
   "outputs": [],
   "source": [
    "using Distributions\n",
    "using Plots\n",
    "using LinearAlgebra\n",
    "\n",
    "using DelimitedFiles"
   ]
  },
  {
   "cell_type": "code",
   "execution_count": 3,
   "metadata": {},
   "outputs": [],
   "source": [
    "using SparseArrays"
   ]
  },
  {
   "cell_type": "markdown",
   "metadata": {},
   "source": [
    "# Poset"
   ]
  },
  {
   "cell_type": "markdown",
   "metadata": {},
   "source": [
    "La función `generapuntuaciones_gaussian(a,b,c)` genera una tabla\n",
    "de puntuaciones que corresponde a `a` rankings, con `b` nodos,\n",
    "eligiendo los puntos en $\\mathbb{R}^c$. También, devuelve como primer\n",
    "argumento un poset calculado comparando todas las entradas de dos puntos.\n",
    "\n",
    "La comparativa con la `energia_local` no es muy justa, ya que el poset\n",
    "tiene pocas aristas, por lo que es más sencillo que los rankings\n",
    "sean compatibles con él.\n",
    "\n",
    "El corte $\\alpha$ regresa una matriz que a mostrado el siguiente comportamiento:\n",
    "los unos que aparecen en el __poset de puntos__ se encuentran siempre en la\n",
    "del `poset_mn`.\n"
   ]
  },
  {
   "cell_type": "code",
   "execution_count": 20,
   "metadata": {},
   "outputs": [],
   "source": [
    "posetdepuntos, puntuaciones = generapuntuaciones_gaussian(20,7,3);"
   ]
  },
  {
   "cell_type": "code",
   "execution_count": 21,
   "metadata": {},
   "outputs": [],
   "source": [
    "ranks_univs = [sortperm(puntuaciones[:,x]#=, rev = true=#) for x in 1:size(puntuaciones)[2]];"
   ]
  },
  {
   "cell_type": "code",
   "execution_count": 22,
   "metadata": {},
   "outputs": [
    {
     "data": {
      "text/plain": [
       "20-element Array{Int64,1}:\n",
       " 0\n",
       " 0\n",
       " 0\n",
       " 0\n",
       " 0\n",
       " 0\n",
       " 0\n",
       " 0\n",
       " 0\n",
       " 0\n",
       " 0\n",
       " 0\n",
       " 0\n",
       " 0\n",
       " 0\n",
       " 0\n",
       " 0\n",
       " 0\n",
       " 0\n",
       " 0"
      ]
     },
     "execution_count": 22,
     "metadata": {},
     "output_type": "execute_result"
    }
   ],
   "source": [
    "[energia_local(r, posetdepuntos) for r in ranks_univs]"
   ]
  },
  {
   "cell_type": "code",
   "execution_count": 41,
   "metadata": {},
   "outputs": [
    {
     "data": {
      "text/plain": [
       "7×7 Array{Float64,2}:\n",
       " 0.0   0.0  0.0   0.95  0.0  0.0   0.85\n",
       " 1.0   0.0  0.55  1.0   0.0  0.7   0.9\n",
       " 0.8   0.0  0.0   1.0   0.0  0.8   1.0\n",
       " 0.0   0.0  0.0   0.0   0.0  0.0   0.8\n",
       " 0.75  0.0  0.65  1.0   0.0  0.75  1.0\n",
       " 0.6   0.0  0.0   0.75  0.0  0.0   0.8\n",
       " 0.0   0.0  0.0   0.0   0.0  0.0   0.0"
      ]
     },
     "execution_count": 41,
     "metadata": {},
     "output_type": "execute_result"
    }
   ],
   "source": [
    "filter(x -> x>.5, matriz_union_rankings(ranks_univs, binario=false, promediado = true) )"
   ]
  },
  {
   "cell_type": "code",
   "execution_count": 32,
   "metadata": {},
   "outputs": [
    {
     "data": {
      "text/plain": [
       "7×7 Array{Int64,2}:\n",
       " 0  0  0  1  0  0  1\n",
       " 1  0  1  1  0  1  1\n",
       " 1  0  0  1  0  1  1\n",
       " 0  0  0  0  0  0  1\n",
       " 1  0  1  1  0  1  1\n",
       " 1  0  0  1  0  0  1\n",
       " 0  0  0  0  0  0  0"
      ]
     },
     "execution_count": 32,
     "metadata": {},
     "output_type": "execute_result"
    }
   ],
   "source": [
    "poset_condercet = matriz_union_rankings(ranks_univs, binario=false, promediado = true) |> x -> αcut_poset(x, .5)"
   ]
  },
  {
   "cell_type": "code",
   "execution_count": 34,
   "metadata": {},
   "outputs": [
    {
     "data": {
      "text/plain": [
       "Dict{Int64,Int64} with 3 entries:\n",
       "  2 => 7\n",
       "  3 => 3\n",
       "  1 => 10"
      ]
     },
     "execution_count": 34,
     "metadata": {},
     "output_type": "execute_result"
    }
   ],
   "source": [
    "[energia_local(r, poset_condercet) for r in ranks_univs] |>countmap"
   ]
  },
  {
   "cell_type": "code",
   "execution_count": 31,
   "metadata": {},
   "outputs": [
    {
     "data": {
      "text/plain": [
       "true"
      ]
     },
     "execution_count": 31,
     "metadata": {},
     "output_type": "execute_result"
    }
   ],
   "source": [
    "matriz_union_rankings(ranks_univs, binario=false, promediado = true) |> x -> αcut_poset(x, .5) |> SparseMatrixCSC|>isacyclic"
   ]
  },
  {
   "cell_type": "code",
   "execution_count": 25,
   "metadata": {},
   "outputs": [
    {
     "name": "stdout",
     "output_type": "stream",
     "text": [
      "search: \u001b[0m\u001b[1mm\u001b[22m\u001b[0m\u001b[1ma\u001b[22m\u001b[0m\u001b[1mt\u001b[22m\u001b[0m\u001b[1mr\u001b[22m\u001b[0m\u001b[1mi\u001b[22m\u001b[0m\u001b[1mz\u001b[22m\u001b[0m\u001b[1m_\u001b[22m\u001b[0m\u001b[1mu\u001b[22m\u001b[0m\u001b[1mn\u001b[22m\u001b[0m\u001b[1mi\u001b[22m\u001b[0m\u001b[1mo\u001b[22m\u001b[0m\u001b[1mn\u001b[22m\u001b[0m\u001b[1m_\u001b[22m\u001b[0m\u001b[1mr\u001b[22m\u001b[0m\u001b[1ma\u001b[22m\u001b[0m\u001b[1mn\u001b[22m\u001b[0m\u001b[1mk\u001b[22m\u001b[0m\u001b[1mi\u001b[22m\u001b[0m\u001b[1mn\u001b[22m\u001b[0m\u001b[1mg\u001b[22m\u001b[0m\u001b[1ms\u001b[22m\n",
      "\n"
     ]
    },
    {
     "data": {
      "text/latex": [
       "No documentation found.\n",
       "\n",
       "\\texttt{Posets.Generic.matriz\\_union\\_rankings} is a \\texttt{Function}.\n",
       "\n",
       "\\begin{verbatim}\n",
       "# 1 method for generic function \"matriz_union_rankings\":\n",
       "[1] matriz_union_rankings(lista_ranks::Array{Array{T,1},1}; binario, promediado) where T<:Real in Posets.Generic at /home/david/.julia/dev/Posets/src/generic/Metodos.jl:353\n",
       "\\end{verbatim}\n"
      ],
      "text/markdown": [
       "No documentation found.\n",
       "\n",
       "`Posets.Generic.matriz_union_rankings` is a `Function`.\n",
       "\n",
       "```\n",
       "# 1 method for generic function \"matriz_union_rankings\":\n",
       "[1] matriz_union_rankings(lista_ranks::Array{Array{T,1},1}; binario, promediado) where T<:Real in Posets.Generic at /home/david/.julia/dev/Posets/src/generic/Metodos.jl:353\n",
       "```\n"
      ],
      "text/plain": [
       "  No documentation found.\n",
       "\n",
       "  \u001b[36mPosets.Generic.matriz_union_rankings\u001b[39m is a \u001b[36mFunction\u001b[39m.\n",
       "\n",
       "\u001b[36m  # 1 method for generic function \"matriz_union_rankings\":\u001b[39m\n",
       "\u001b[36m  [1] matriz_union_rankings(lista_ranks::Array{Array{T,1},1}; binario, promediado) where T<:Real in Posets.Generic at /home/david/.julia/dev/Posets/src/generic/Metodos.jl:353\u001b[39m"
      ]
     },
     "execution_count": 25,
     "metadata": {},
     "output_type": "execute_result"
    }
   ],
   "source": [
    "?matriz_union_rankings"
   ]
  },
  {
   "cell_type": "code",
   "execution_count": 23,
   "metadata": {},
   "outputs": [
    {
     "data": {
      "text/plain": [
       "7×7 Array{Int64,2}:\n",
       " 0  0  0  0  0  0  0\n",
       " 1  0  0  1  0  0  0\n",
       " 0  0  0  0  0  0  1\n",
       " 0  0  0  0  0  0  0\n",
       " 0  0  0  1  0  0  1\n",
       " 0  0  0  0  0  0  0\n",
       " 0  0  0  0  0  0  0"
      ]
     },
     "execution_count": 23,
     "metadata": {},
     "output_type": "execute_result"
    }
   ],
   "source": [
    "posetdepuntos"
   ]
  },
  {
   "cell_type": "code",
   "execution_count": 6,
   "metadata": {},
   "outputs": [],
   "source": [
    "poset_mn = puntuaciones |> fuzzy #|> transpose;"
   ]
  },
  {
   "cell_type": "code",
   "execution_count": 7,
   "metadata": {},
   "outputs": [
    {
     "data": {
      "text/plain": [
       "4×4 Array{Float64,2}:\n",
       " 0.0  0.0  0.0  0.0\n",
       " 0.0  0.0  0.0  0.0\n",
       " 0.0  0.0  0.0  0.0\n",
       " 0.0  0.0  0.0  0.0"
      ]
     },
     "execution_count": 7,
     "metadata": {},
     "output_type": "execute_result"
    }
   ],
   "source": [
    "(posetdepuntos |> transpose).*poset_mn - (posetdepuntos |> transpose)"
   ]
  },
  {
   "cell_type": "code",
   "execution_count": 10,
   "metadata": {},
   "outputs": [
    {
     "data": {
      "text/plain": [
       "4×4 Array{Int64,2}:\n",
       " 0  0  0  0\n",
       " 0  0  0  1\n",
       " 1  0  0  1\n",
       " 0  0  0  0"
      ]
     },
     "execution_count": 10,
     "metadata": {},
     "output_type": "execute_result"
    }
   ],
   "source": [
    "posetdepuntos"
   ]
  },
  {
   "cell_type": "code",
   "execution_count": null,
   "metadata": {},
   "outputs": [],
   "source": [
    "posetdepuntos |> transpose"
   ]
  },
  {
   "cell_type": "code",
   "execution_count": null,
   "metadata": {},
   "outputs": [],
   "source": [
    "matriz_interseccion_rankings(ranks_univs)"
   ]
  },
  {
   "cell_type": "code",
   "execution_count": null,
   "metadata": {},
   "outputs": [],
   "source": [
    "posetdepuntos |> SparseMatrixCSC |> isacyclic"
   ]
  },
  {
   "cell_type": "code",
   "execution_count": null,
   "metadata": {},
   "outputs": [],
   "source": [
    "fentropia(poset_mn)"
   ]
  },
  {
   "cell_type": "code",
   "execution_count": null,
   "metadata": {},
   "outputs": [],
   "source": [
    "scatter([(puntosnodos[:,i][1],puntosnodos[:,i][2]) for i in 1:3]\n",
    "   ,series_annotations = text.(1:3, :bottom))"
   ]
  },
  {
   "cell_type": "markdown",
   "metadata": {},
   "source": [
    "## Condición"
   ]
  },
  {
   "cell_type": "code",
   "execution_count": null,
   "metadata": {},
   "outputs": [],
   "source": [
    "listadiferencias = [0.]"
   ]
  },
  {
   "cell_type": "code",
   "execution_count": null,
   "metadata": {},
   "outputs": [],
   "source": [
    "for _ in 1:10^2\n",
    "posetdepuntos, puntuaciones = generapuntuaciones_gaussian(10,4,3);\n",
    "\n",
    "ranks_univs = [sortperm(puntuaciones[:,x]#=, rev = true=#) for x in 1:size(puntuaciones)[2]];\n",
    "\n",
    "poset_mn = puntuaciones |> fuzzy #|> transpose;\n",
    "\n",
    "push!(listadiferencias, norm((posetdepuntos |> transpose).*poset_mn - (posetdepuntos |> transpose)) )\n",
    "end"
   ]
  },
  {
   "cell_type": "code",
   "execution_count": null,
   "metadata": {},
   "outputs": [],
   "source": [
    "listadiferencias |> countmap"
   ]
  }
 ],
 "metadata": {
  "kernelspec": {
   "display_name": "Julia 1.5.2",
   "language": "julia",
   "name": "julia-1.5"
  },
  "language_info": {
   "file_extension": ".jl",
   "mimetype": "application/julia",
   "name": "julia",
   "version": "1.5.2"
  }
 },
 "nbformat": 4,
 "nbformat_minor": 2
}
