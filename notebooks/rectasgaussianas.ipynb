{
 "cells": [
  {
   "cell_type": "code",
   "execution_count": 1,
   "metadata": {},
   "outputs": [
    {
     "data": {
      "text/plain": [
       "4"
      ]
     },
     "execution_count": 1,
     "metadata": {},
     "output_type": "execute_result"
    }
   ],
   "source": [
    "2+2"
   ]
  },
  {
   "cell_type": "code",
   "execution_count": 77,
   "metadata": {},
   "outputs": [],
   "source": [
    "using Distributions\n",
    "using Plots\n",
    "using LinearAlgebra\n",
    "using Posets\n",
    "using DelimitedFiles"
   ]
  },
  {
   "cell_type": "markdown",
   "metadata": {},
   "source": [
    "## Funciones"
   ]
  },
  {
   "cell_type": "code",
   "execution_count": 3,
   "metadata": {},
   "outputs": [
    {
     "data": {
      "text/plain": [
       "randomsphere_point (generic function with 1 method)"
      ]
     },
     "execution_count": 3,
     "metadata": {},
     "output_type": "execute_result"
    }
   ],
   "source": [
    "function randomsphere_point(n)\n",
    "    vec = [rand() for _ in 1:n]\n",
    "    vec/sqrt(dot(vec,vec))\n",
    "end"
   ]
  },
  {
   "cell_type": "code",
   "execution_count": 4,
   "metadata": {},
   "outputs": [
    {
     "data": {
      "text/plain": [
       "proyectar (generic function with 1 method)"
      ]
     },
     "execution_count": 4,
     "metadata": {},
     "output_type": "execute_result"
    }
   ],
   "source": [
    "function proyectar(vector,vectorrecta)\n",
    "    (dot(vector,vectorrecta)/dot(vectorrecta,vectorrecta))*vectorrecta\n",
    "end"
   ]
  },
  {
   "cell_type": "code",
   "execution_count": 5,
   "metadata": {},
   "outputs": [
    {
     "data": {
      "text/plain": [
       "proporcion (generic function with 1 method)"
      ]
     },
     "execution_count": 5,
     "metadata": {},
     "output_type": "execute_result"
    }
   ],
   "source": [
    "function proporcion(vector,vectorrecta)\n",
    "    (proyectar(vector, vectorrecta)./vectorrecta)[1]\n",
    "end"
   ]
  },
  {
   "cell_type": "code",
   "execution_count": 6,
   "metadata": {},
   "outputs": [
    {
     "data": {
      "text/plain": [
       "normalizacion (generic function with 1 method)"
      ]
     },
     "execution_count": 6,
     "metadata": {},
     "output_type": "execute_result"
    }
   ],
   "source": [
    "function normalizacion(lista)\n",
    "    x,y = extrema(lista)\n",
    "    \n",
    "    [1-(y - u)/(y-x) for u in lista]\n",
    "end"
   ]
  },
  {
   "cell_type": "markdown",
   "metadata": {},
   "source": [
    "## Poset"
   ]
  },
  {
   "cell_type": "code",
   "execution_count": 147,
   "metadata": {},
   "outputs": [
    {
     "data": {
      "text/plain": [
       "minicomparativa (generic function with 1 method)"
      ]
     },
     "execution_count": 147,
     "metadata": {},
     "output_type": "execute_result"
    }
   ],
   "source": [
    "function minicomparativa(p,q)\n",
    "    if all(p .<= q)\n",
    "        return 1\n",
    "    else\n",
    "        return 0\n",
    "    end\n",
    "end"
   ]
  },
  {
   "cell_type": "code",
   "execution_count": 83,
   "metadata": {},
   "outputs": [
    {
     "data": {
      "text/plain": [
       "matrizposet (generic function with 1 method)"
      ]
     },
     "execution_count": 83,
     "metadata": {},
     "output_type": "execute_result"
    }
   ],
   "source": [
    "function matrizposet(lista)\n",
    "    dim, cantidadpuntos = size(lista)\n",
    "    mat = zeros(Int64, cantidadpuntos,cantidadpuntos)\n",
    "    for i in 1:cantidadpuntos, j in 1:cantidadpuntos\n",
    "        if i == j\n",
    "            continue\n",
    "        end\n",
    "        mat[i,j] = minicomparativa(lista[:,i], lista[:,j])\n",
    "    end\n",
    "    mat\n",
    "end"
   ]
  },
  {
   "cell_type": "markdown",
   "metadata": {},
   "source": [
    "## Calculando puntuaciones"
   ]
  },
  {
   "cell_type": "code",
   "execution_count": 127,
   "metadata": {},
   "outputs": [
    {
     "data": {
      "text/plain": [
       "5"
      ]
     },
     "execution_count": 127,
     "metadata": {},
     "output_type": "execute_result"
    }
   ],
   "source": [
    "numerorankings = 4\n",
    "numeronodos = 10\n",
    "dim = 5"
   ]
  },
  {
   "cell_type": "code",
   "execution_count": 128,
   "metadata": {},
   "outputs": [],
   "source": [
    "hmmm = zeros(Int, numeronodos, numeronodos)\n",
    "[hmmm[i,i] = 1 for i in 1:numeronodos];"
   ]
  },
  {
   "cell_type": "code",
   "execution_count": null,
   "metadata": {},
   "outputs": [],
   "source": [
    "proporcion(puntos[:,i], j) #i es el iesimo vector y j la j-esima recta\n",
    "# esto produce un vector con la i-sima entrada la proyeccion del nodo i/vector i\n",
    "# "
   ]
  },
  {
   "cell_type": "code",
   "execution_count": 138,
   "metadata": {},
   "outputs": [
    {
     "data": {
      "text/plain": [
       "10-element Array{Float64,1}:\n",
       "  1.590391443825073\n",
       "  1.2313181246108744\n",
       "  0.9443212752123067\n",
       "  0.7964329063819493\n",
       "  1.1106224337139794\n",
       "  0.07165649069090278\n",
       " -1.2768298436300445\n",
       " -0.8849128134938266\n",
       "  1.2948197568516933\n",
       " -1.55320351712715"
      ]
     },
     "execution_count": 138,
     "metadata": {},
     "output_type": "execute_result"
    }
   ],
   "source": [
    "[proporcion(puntos[:,i], listapuntos[1]) for i in 1:numeronodos] "
   ]
  },
  {
   "cell_type": "code",
   "execution_count": 140,
   "metadata": {},
   "outputs": [
    {
     "data": {
      "text/plain": [
       "10-element Array{Float64,1}:\n",
       " 0.997604560662013\n",
       " 0.9337143009465418\n",
       " 0.726831886788651\n",
       " 0.3886140853319633\n",
       " 1.0\n",
       " 0.556398840596048\n",
       " 0.032008408630270546\n",
       " 0.0\n",
       " 0.7922513227250862\n",
       " 0.10631880644649672"
      ]
     },
     "execution_count": 140,
     "metadata": {},
     "output_type": "execute_result"
    }
   ],
   "source": [
    "[proporcion(puntos[:,i], listapuntos[3]) for i in 1:numeronodos] |> normalizacion"
   ]
  },
  {
   "cell_type": "code",
   "execution_count": 151,
   "metadata": {},
   "outputs": [
    {
     "data": {
      "text/plain": [
       "false"
      ]
     },
     "execution_count": 151,
     "metadata": {},
     "output_type": "execute_result"
    }
   ],
   "source": [
    "all(puntos[:,1] .<= puntos[:,2])"
   ]
  },
  {
   "cell_type": "code",
   "execution_count": 153,
   "metadata": {
    "scrolled": true
   },
   "outputs": [
    {
     "name": "stdout",
     "output_type": "stream",
     "text": [
      "p .<= q = Bool[1, 0, 1, 0, 0]\n"
     ]
    },
    {
     "data": {
      "text/plain": [
       "0"
      ]
     },
     "execution_count": 153,
     "metadata": {},
     "output_type": "execute_result"
    }
   ],
   "source": [
    "minicomparativa(puntos[:,1],puntos[:,2])"
   ]
  },
  {
   "cell_type": "code",
   "execution_count": 133,
   "metadata": {},
   "outputs": [
    {
     "data": {
      "text/plain": [
       "10×4 Array{Float64,2}:\n",
       " 1.0        1.0        0.997605   1.0\n",
       " 0.885776   0.535712   0.933714   0.647052\n",
       " 0.79448    0.466257   0.726832   0.509219\n",
       " 0.747436   0.0        0.388614   0.565475\n",
       " 0.847382   0.799041   1.0        0.531783\n",
       " 0.51688    0.294108   0.556399   0.546396\n",
       " 0.0879164  0.122064   0.0320084  0.0\n",
       " 0.212588   0.0964327  0.0        0.310645\n",
       " 0.905977   0.636528   0.792251   0.687878\n",
       " 0.0        0.20907    0.106319   0.37335"
      ]
     },
     "execution_count": 133,
     "metadata": {},
     "output_type": "execute_result"
    }
   ],
   "source": [
    "listapuntos = [randomsphere_point(dim) for _ in 1:numerorankings];\n",
    "\n",
    "puntos = rand(MvNormal([0 for _ in 1:dim],1),numeronodos);\n",
    "\n",
    "comparar = (matrizposet(puntos))\n",
    "\n",
    "bloquenormalizado = [[proporcion(puntos[:,i], j) for i in 1:numeronodos] |> normalizacion for j in listapuntos];\n",
    "\n",
    "puntuaciones = hcat(bloquenormalizado...)"
   ]
  },
  {
   "cell_type": "code",
   "execution_count": 134,
   "metadata": {},
   "outputs": [
    {
     "data": {
      "text/plain": [
       "10×10 Array{Int64,2}:\n",
       " 0  0  0  0  0  0  0  0  0  0\n",
       " 0  0  0  0  0  0  0  0  0  0\n",
       " 0  0  0  0  0  0  0  0  0  0\n",
       " 0  0  0  0  0  0  0  0  0  0\n",
       " 0  0  0  0  0  0  0  0  0  0\n",
       " 0  0  0  0  0  0  0  0  0  0\n",
       " 0  0  0  0  1  0  0  0  1  0\n",
       " 1  0  0  0  0  0  0  0  1  0\n",
       " 0  0  0  0  0  0  0  0  0  0\n",
       " 0  0  0  0  0  0  0  0  0  0"
      ]
     },
     "execution_count": 134,
     "metadata": {},
     "output_type": "execute_result"
    }
   ],
   "source": [
    "comparar"
   ]
  },
  {
   "cell_type": "code",
   "execution_count": 104,
   "metadata": {},
   "outputs": [],
   "source": [
    "poset_mn = puntuaciones |> fuzzy;\n",
    "\n",
    "poset_m3 = puntuaciones |> m3;\n",
    "\n",
    "poset_m2 = puntuaciones |> m2;"
   ]
  },
  {
   "cell_type": "code",
   "execution_count": 75,
   "metadata": {},
   "outputs": [
    {
     "data": {
      "text/plain": [
       "5.196152422706632"
      ]
     },
     "execution_count": 75,
     "metadata": {},
     "output_type": "execute_result"
    }
   ],
   "source": [
    "norm( reduccion_transitiva(αcut_poset(poset_mn - hmmm, .5))-comparar )"
   ]
  },
  {
   "cell_type": "markdown",
   "metadata": {},
   "source": [
    "## graficas"
   ]
  },
  {
   "cell_type": "code",
   "execution_count": 105,
   "metadata": {},
   "outputs": [],
   "source": [
    "writedlm(\"figs/poset0p5_gaussiano.dat\", αcut_poset(poset_mn - hmmm, .5))\n",
    "#;./script.wl figs/poset0p1_univ.dat"
   ]
  },
  {
   "cell_type": "code",
   "execution_count": 106,
   "metadata": {},
   "outputs": [
    {
     "name": "stdout",
     "output_type": "stream",
     "text": [
      "figs/poset0p5_gaussiano.png\n"
     ]
    }
   ],
   "source": [
    ";./script.wl figs/poset0p5_gaussiano.dat"
   ]
  },
  {
   "cell_type": "markdown",
   "metadata": {},
   "source": [
    "![ejemplo](figs/poset0p5_gaussiano.png)"
   ]
  },
  {
   "cell_type": "code",
   "execution_count": 107,
   "metadata": {},
   "outputs": [],
   "source": [
    "writedlm(\"figs/poset0p70_gaussiano.dat\", αcut_poset(poset_mn - hmmm, .70))\n",
    "#;./script.wl figs/poset0p1_univ.dat"
   ]
  },
  {
   "cell_type": "code",
   "execution_count": 108,
   "metadata": {},
   "outputs": [
    {
     "name": "stdout",
     "output_type": "stream",
     "text": [
      "figs/poset0p70_gaussiano.png\n"
     ]
    }
   ],
   "source": [
    ";./script.wl figs/poset0p70_gaussiano.dat"
   ]
  },
  {
   "cell_type": "markdown",
   "metadata": {},
   "source": [
    "![asdf](figs/poset0p70_gaussiano.png)"
   ]
  },
  {
   "cell_type": "code",
   "execution_count": 109,
   "metadata": {},
   "outputs": [],
   "source": [
    "writedlm(\"figs/poset0p85_gaussiano.dat\", αcut_poset(poset_mn - hmmm, .85))\n",
    "#;./script.wl figs/poset0p1_univ.dat"
   ]
  },
  {
   "cell_type": "code",
   "execution_count": 110,
   "metadata": {},
   "outputs": [
    {
     "name": "stdout",
     "output_type": "stream",
     "text": [
      "figs/poset0p85_gaussiano.png\n"
     ]
    }
   ],
   "source": [
    ";./script.wl figs/poset0p85_gaussiano.dat"
   ]
  },
  {
   "cell_type": "markdown",
   "metadata": {},
   "source": [
    "![asdf](figs/poset0p85_gaussiano.png)"
   ]
  },
  {
   "cell_type": "code",
   "execution_count": 89,
   "metadata": {},
   "outputs": [],
   "source": [
    "writedlm(\"figs/poset0p5_gaussiano_c.dat\", comparar)\n",
    "#;./script.wl figs/poset0p1_univ.dat"
   ]
  },
  {
   "cell_type": "code",
   "execution_count": 90,
   "metadata": {},
   "outputs": [
    {
     "name": "stdout",
     "output_type": "stream",
     "text": [
      "figs/poset0p5_gaussiano_c.png\n"
     ]
    }
   ],
   "source": [
    ";./script.wl figs/poset0p5_gaussiano_c.dat"
   ]
  },
  {
   "cell_type": "markdown",
   "metadata": {},
   "source": [
    "![comparar](figs/poset0p5_gaussiano_c.png)"
   ]
  },
  {
   "cell_type": "markdown",
   "metadata": {},
   "source": [
    "## Calculando puntuaciones"
   ]
  },
  {
   "cell_type": "code",
   "execution_count": 11,
   "metadata": {},
   "outputs": [
    {
     "data": {
      "text/plain": [
       "2-element Array{Float64,1}:\n",
       " 0.5251330683086435\n",
       " 0.8510201293557923"
      ]
     },
     "execution_count": 11,
     "metadata": {},
     "output_type": "execute_result"
    }
   ],
   "source": [
    "vr = randomsphere_point(2)"
   ]
  },
  {
   "cell_type": "code",
   "execution_count": 12,
   "metadata": {},
   "outputs": [
    {
     "data": {
      "text/plain": [
       "2×3 Array{Float64,2}:\n",
       " -1.06726   -0.0468612  -0.247625\n",
       "  0.339297   0.749751   -0.335686"
      ]
     },
     "execution_count": 12,
     "metadata": {},
     "output_type": "execute_result"
    }
   ],
   "source": [
    "puntos = rand(MvNormal([0,0],1),3)"
   ]
  },
  {
   "cell_type": "code",
   "execution_count": 13,
   "metadata": {},
   "outputs": [
    {
     "data": {
      "text/plain": [
       "3-element Array{Float64,1}:\n",
       " -0.2717048848998565\n",
       "  0.6134449087920684\n",
       " -0.41571107492377757"
      ]
     },
     "execution_count": 13,
     "metadata": {},
     "output_type": "execute_result"
    }
   ],
   "source": [
    "[proporcion(puntos[:,i], vr) for i in 1:3]"
   ]
  },
  {
   "cell_type": "code",
   "execution_count": 14,
   "metadata": {},
   "outputs": [
    {
     "data": {
      "text/plain": [
       "3-element Array{Float64,1}:\n",
       " 0.13992649540254898\n",
       " 1.0\n",
       " 0.0"
      ]
     },
     "execution_count": 14,
     "metadata": {},
     "output_type": "execute_result"
    }
   ],
   "source": [
    "[proporcion(puntos[:,i], vr) for i in 1:3] |>normalizacion"
   ]
  },
  {
   "cell_type": "markdown",
   "metadata": {},
   "source": [
    "## Juego"
   ]
  },
  {
   "cell_type": "code",
   "execution_count": 178,
   "metadata": {},
   "outputs": [
    {
     "data": {
      "text/plain": [
       "2-element Array{Float64,1}:\n",
       " 0.6001272373038556\n",
       " 0.33912853079363725"
      ]
     },
     "execution_count": 178,
     "metadata": {},
     "output_type": "execute_result"
    }
   ],
   "source": [
    "puntos[:,1]"
   ]
  },
  {
   "cell_type": "code",
   "execution_count": 186,
   "metadata": {},
   "outputs": [
    {
     "data": {
      "text/plain": [
       "2-element Array{Float64,1}:\n",
       " 0.23777851034800768\n",
       " 0.23777851034800768"
      ]
     },
     "execution_count": 186,
     "metadata": {},
     "output_type": "execute_result"
    }
   ],
   "source": [
    "proyectar(puntos[:,3], vr)./vr"
   ]
  },
  {
   "cell_type": "code",
   "execution_count": 193,
   "metadata": {},
   "outputs": [
    {
     "data": {
      "text/plain": [
       "3-element Array{Float64,1}:\n",
       " 0.662081330580269\n",
       " 0.6488426892189687\n",
       " 0.23777851034800768"
      ]
     },
     "execution_count": 193,
     "metadata": {},
     "output_type": "execute_result"
    }
   ],
   "source": [
    "[proporcion(puntos[:,i], vr) for i in 1:3]"
   ]
  },
  {
   "cell_type": "code",
   "execution_count": 183,
   "metadata": {},
   "outputs": [
    {
     "data": {
      "text/plain": [
       "2-element Array{Float64,1}:\n",
       " 0.9731383980200564\n",
       " 0.23022089023144338"
      ]
     },
     "execution_count": 183,
     "metadata": {},
     "output_type": "execute_result"
    }
   ],
   "source": [
    "vr"
   ]
  },
  {
   "cell_type": "code",
   "execution_count": 157,
   "metadata": {
    "scrolled": true
   },
   "outputs": [
    {
     "data": {
      "text/plain": [
       "2×3 Array{Float64,2}:\n",
       " 0.0506018   0.0627046   1.39917\n",
       " 0.524501   -1.99282    -0.0229824"
      ]
     },
     "execution_count": 157,
     "metadata": {},
     "output_type": "execute_result"
    }
   ],
   "source": [
    "rand(MvNormal([0,0],1),3)"
   ]
  },
  {
   "cell_type": "code",
   "execution_count": 161,
   "metadata": {},
   "outputs": [
    {
     "data": {
      "text/plain": [
       "0.3913590044467255"
      ]
     },
     "execution_count": 161,
     "metadata": {},
     "output_type": "execute_result"
    }
   ],
   "source": [
    "randn()"
   ]
  },
  {
   "cell_type": "code",
   "execution_count": 170,
   "metadata": {},
   "outputs": [
    {
     "data": {
      "text/plain": [
       "3-element Array{Float64,1}:\n",
       " 0.739497429352639\n",
       " 0.5305029703088526\n",
       " 0.4143792350906634"
      ]
     },
     "execution_count": 170,
     "metadata": {},
     "output_type": "execute_result"
    }
   ],
   "source": [
    "randomsphere_point(3)"
   ]
  },
  {
   "cell_type": "code",
   "execution_count": 160,
   "metadata": {},
   "outputs": [
    {
     "data": {
      "text/plain": [
       "2-element Array{Float64,1}:\n",
       " 2.0\n",
       " 0.0"
      ]
     },
     "execution_count": 160,
     "metadata": {},
     "output_type": "execute_result"
    }
   ],
   "source": [
    "proyectar([2,2], [3,0])"
   ]
  },
  {
   "cell_type": "code",
   "execution_count": 150,
   "metadata": {},
   "outputs": [
    {
     "data": {
      "image/svg+xml": [
       "<?xml version=\"1.0\" encoding=\"utf-8\"?>\n",
       "<svg xmlns=\"http://www.w3.org/2000/svg\" xmlns:xlink=\"http://www.w3.org/1999/xlink\" width=\"600\" height=\"400\" viewBox=\"0 0 2400 1600\">\n",
       "<defs>\n",
       "  <clipPath id=\"clip930\">\n",
       "    <rect x=\"0\" y=\"0\" width=\"2400\" height=\"1600\"/>\n",
       "  </clipPath>\n",
       "</defs>\n",
       "<path clip-path=\"url(#clip930)\" d=\"\n",
       "M0 1600 L2400 1600 L2400 0 L0 0  Z\n",
       "  \" fill=\"#ffffff\" fill-rule=\"evenodd\" fill-opacity=\"1\"/>\n",
       "<defs>\n",
       "  <clipPath id=\"clip931\">\n",
       "    <rect x=\"480\" y=\"0\" width=\"1681\" height=\"1600\"/>\n",
       "  </clipPath>\n",
       "</defs>\n",
       "<path clip-path=\"url(#clip930)\" d=\"\n",
       "M161.598 1486.45 L2352.76 1486.45 L2352.76 47.2441 L161.598 47.2441  Z\n",
       "  \" fill=\"#ffffff\" fill-rule=\"evenodd\" fill-opacity=\"1\"/>\n",
       "<defs>\n",
       "  <clipPath id=\"clip932\">\n",
       "    <rect x=\"161\" y=\"47\" width=\"2192\" height=\"1440\"/>\n",
       "  </clipPath>\n",
       "</defs>\n",
       "<polyline clip-path=\"url(#clip932)\" style=\"stroke:#000000; stroke-width:2; stroke-opacity:0.1; fill:none\" points=\"\n",
       "  282.116,1486.45 282.116,47.2441 \n",
       "  \"/>\n",
       "<polyline clip-path=\"url(#clip932)\" style=\"stroke:#000000; stroke-width:2; stroke-opacity:0.1; fill:none\" points=\"\n",
       "  839.294,1486.45 839.294,47.2441 \n",
       "  \"/>\n",
       "<polyline clip-path=\"url(#clip932)\" style=\"stroke:#000000; stroke-width:2; stroke-opacity:0.1; fill:none\" points=\"\n",
       "  1396.47,1486.45 1396.47,47.2441 \n",
       "  \"/>\n",
       "<polyline clip-path=\"url(#clip932)\" style=\"stroke:#000000; stroke-width:2; stroke-opacity:0.1; fill:none\" points=\"\n",
       "  1953.65,1486.45 1953.65,47.2441 \n",
       "  \"/>\n",
       "<polyline clip-path=\"url(#clip930)\" style=\"stroke:#000000; stroke-width:4; stroke-opacity:1; fill:none\" points=\"\n",
       "  161.598,1486.45 2352.76,1486.45 \n",
       "  \"/>\n",
       "<polyline clip-path=\"url(#clip930)\" style=\"stroke:#000000; stroke-width:4; stroke-opacity:1; fill:none\" points=\"\n",
       "  282.116,1486.45 282.116,1469.18 \n",
       "  \"/>\n",
       "<polyline clip-path=\"url(#clip930)\" style=\"stroke:#000000; stroke-width:4; stroke-opacity:1; fill:none\" points=\"\n",
       "  839.294,1486.45 839.294,1469.18 \n",
       "  \"/>\n",
       "<polyline clip-path=\"url(#clip930)\" style=\"stroke:#000000; stroke-width:4; stroke-opacity:1; fill:none\" points=\"\n",
       "  1396.47,1486.45 1396.47,1469.18 \n",
       "  \"/>\n",
       "<polyline clip-path=\"url(#clip930)\" style=\"stroke:#000000; stroke-width:4; stroke-opacity:1; fill:none\" points=\"\n",
       "  1953.65,1486.45 1953.65,1469.18 \n",
       "  \"/>\n",
       "<path clip-path=\"url(#clip930)\" d=\"M 0 0 M253.528 1530.29 L283.204 1530.29 L283.204 1534.23 L253.528 1534.23 L253.528 1530.29 Z\" fill=\"#000000\" fill-rule=\"evenodd\" fill-opacity=\"1\" /><path clip-path=\"url(#clip930)\" d=\"M 0 0 M301.12 1516.63 L289.315 1535.08 L301.12 1535.08 L301.12 1516.63 M299.893 1512.56 L305.773 1512.56 L305.773 1535.08 L310.704 1535.08 L310.704 1538.97 L305.773 1538.97 L305.773 1547.12 L301.12 1547.12 L301.12 1538.97 L285.519 1538.97 L285.519 1534.46 L299.893 1512.56 Z\" fill=\"#000000\" fill-rule=\"evenodd\" fill-opacity=\"1\" /><path clip-path=\"url(#clip930)\" d=\"M 0 0 M811.748 1530.29 L841.423 1530.29 L841.423 1534.23 L811.748 1534.23 L811.748 1530.29 Z\" fill=\"#000000\" fill-rule=\"evenodd\" fill-opacity=\"1\" /><path clip-path=\"url(#clip930)\" d=\"M 0 0 M850.52 1543.18 L866.84 1543.18 L866.84 1547.12 L844.895 1547.12 L844.895 1543.18 Q847.557 1540.43 852.141 1535.8 Q856.747 1531.15 857.928 1529.81 Q860.173 1527.28 861.053 1525.55 Q861.956 1523.79 861.956 1522.1 Q861.956 1519.34 860.011 1517.61 Q858.09 1515.87 854.988 1515.87 Q852.789 1515.87 850.335 1516.63 Q847.905 1517.4 845.127 1518.95 L845.127 1514.23 Q847.951 1513.09 850.405 1512.51 Q852.858 1511.93 854.895 1511.93 Q860.266 1511.93 863.46 1514.62 Q866.655 1517.31 866.655 1521.8 Q866.655 1523.93 865.844 1525.85 Q865.057 1527.74 862.951 1530.34 Q862.372 1531.01 859.27 1534.23 Q856.169 1537.42 850.52 1543.18 Z\" fill=\"#000000\" fill-rule=\"evenodd\" fill-opacity=\"1\" /><path clip-path=\"url(#clip930)\" d=\"M 0 0 M1396.47 1515.64 Q1392.86 1515.64 1391.03 1519.2 Q1389.23 1522.75 1389.23 1529.87 Q1389.23 1536.98 1391.03 1540.55 Q1392.86 1544.09 1396.47 1544.09 Q1400.11 1544.09 1401.91 1540.55 Q1403.74 1536.98 1403.74 1529.87 Q1403.74 1522.75 1401.91 1519.2 Q1400.11 1515.64 1396.47 1515.64 M1396.47 1511.93 Q1402.28 1511.93 1405.34 1516.54 Q1408.42 1521.12 1408.42 1529.87 Q1408.42 1538.6 1405.34 1543.21 Q1402.28 1547.79 1396.47 1547.79 Q1390.66 1547.79 1387.58 1543.21 Q1384.53 1538.6 1384.53 1529.87 Q1384.53 1521.12 1387.58 1516.54 Q1390.66 1511.93 1396.47 1511.93 Z\" fill=\"#000000\" fill-rule=\"evenodd\" fill-opacity=\"1\" /><path clip-path=\"url(#clip930)\" d=\"M 0 0 M1948.3 1543.18 L1964.62 1543.18 L1964.62 1547.12 L1942.68 1547.12 L1942.68 1543.18 Q1945.34 1540.43 1949.92 1535.8 Q1954.53 1531.15 1955.71 1529.81 Q1957.95 1527.28 1958.83 1525.55 Q1959.74 1523.79 1959.74 1522.1 Q1959.74 1519.34 1957.79 1517.61 Q1955.87 1515.87 1952.77 1515.87 Q1950.57 1515.87 1948.12 1516.63 Q1945.69 1517.4 1942.91 1518.95 L1942.91 1514.23 Q1945.73 1513.09 1948.19 1512.51 Q1950.64 1511.93 1952.68 1511.93 Q1958.05 1511.93 1961.24 1514.62 Q1964.44 1517.31 1964.44 1521.8 Q1964.44 1523.93 1963.63 1525.85 Q1962.84 1527.74 1960.73 1530.34 Q1960.15 1531.01 1957.05 1534.23 Q1953.95 1537.42 1948.3 1543.18 Z\" fill=\"#000000\" fill-rule=\"evenodd\" fill-opacity=\"1\" /><polyline clip-path=\"url(#clip932)\" style=\"stroke:#000000; stroke-width:2; stroke-opacity:0.1; fill:none\" points=\"\n",
       "  161.598,1445.72 2352.76,1445.72 \n",
       "  \"/>\n",
       "<polyline clip-path=\"url(#clip932)\" style=\"stroke:#000000; stroke-width:2; stroke-opacity:0.1; fill:none\" points=\"\n",
       "  161.598,1086.53 2352.76,1086.53 \n",
       "  \"/>\n",
       "<polyline clip-path=\"url(#clip932)\" style=\"stroke:#000000; stroke-width:2; stroke-opacity:0.1; fill:none\" points=\"\n",
       "  161.598,727.335 2352.76,727.335 \n",
       "  \"/>\n",
       "<polyline clip-path=\"url(#clip932)\" style=\"stroke:#000000; stroke-width:2; stroke-opacity:0.1; fill:none\" points=\"\n",
       "  161.598,368.145 2352.76,368.145 \n",
       "  \"/>\n",
       "<polyline clip-path=\"url(#clip930)\" style=\"stroke:#000000; stroke-width:4; stroke-opacity:1; fill:none\" points=\"\n",
       "  161.598,1486.45 161.598,47.2441 \n",
       "  \"/>\n",
       "<polyline clip-path=\"url(#clip930)\" style=\"stroke:#000000; stroke-width:4; stroke-opacity:1; fill:none\" points=\"\n",
       "  161.598,1445.72 187.892,1445.72 \n",
       "  \"/>\n",
       "<polyline clip-path=\"url(#clip930)\" style=\"stroke:#000000; stroke-width:4; stroke-opacity:1; fill:none\" points=\"\n",
       "  161.598,1086.53 187.892,1086.53 \n",
       "  \"/>\n",
       "<polyline clip-path=\"url(#clip930)\" style=\"stroke:#000000; stroke-width:4; stroke-opacity:1; fill:none\" points=\"\n",
       "  161.598,727.335 187.892,727.335 \n",
       "  \"/>\n",
       "<polyline clip-path=\"url(#clip930)\" style=\"stroke:#000000; stroke-width:4; stroke-opacity:1; fill:none\" points=\"\n",
       "  161.598,368.145 187.892,368.145 \n",
       "  \"/>\n",
       "<path clip-path=\"url(#clip930)\" d=\"M 0 0 M113.654 1431.51 Q110.043 1431.51 108.214 1435.08 Q106.408 1438.62 106.408 1445.75 Q106.408 1452.86 108.214 1456.42 Q110.043 1459.96 113.654 1459.96 Q117.288 1459.96 119.094 1456.42 Q120.922 1452.86 120.922 1445.75 Q120.922 1438.62 119.094 1435.08 Q117.288 1431.51 113.654 1431.51 M113.654 1427.81 Q119.464 1427.81 122.52 1432.42 Q125.598 1437 125.598 1445.75 Q125.598 1454.48 122.52 1459.08 Q119.464 1463.67 113.654 1463.67 Q107.844 1463.67 104.765 1459.08 Q101.709 1454.48 101.709 1445.75 Q101.709 1437 104.765 1432.42 Q107.844 1427.81 113.654 1427.81 Z\" fill=\"#000000\" fill-rule=\"evenodd\" fill-opacity=\"1\" /><path clip-path=\"url(#clip930)\" d=\"M 0 0 M77.6818 1069.25 L96.0382 1069.25 L96.0382 1073.18 L81.9642 1073.18 L81.9642 1081.65 Q82.9827 1081.31 84.0012 1081.14 Q85.0197 1080.96 86.0382 1080.96 Q91.8252 1080.96 95.2049 1084.13 Q98.5845 1087.3 98.5845 1092.72 Q98.5845 1098.3 95.1123 1101.4 Q91.6401 1104.48 85.3206 1104.48 Q83.1447 1104.48 80.8762 1104.11 Q78.6309 1103.74 76.2235 1103 L76.2235 1098.3 Q78.3068 1099.43 80.529 1099.99 Q82.7512 1100.54 85.2281 1100.54 Q89.2327 1100.54 91.5706 1098.44 Q93.9086 1096.33 93.9086 1092.72 Q93.9086 1089.11 91.5706 1087 Q89.2327 1084.89 85.2281 1084.89 Q83.3531 1084.89 81.4781 1085.31 Q79.6262 1085.73 77.6818 1086.61 L77.6818 1069.25 Z\" fill=\"#000000\" fill-rule=\"evenodd\" fill-opacity=\"1\" /><path clip-path=\"url(#clip930)\" d=\"M 0 0 M113.654 1072.32 Q110.043 1072.32 108.214 1075.89 Q106.408 1079.43 106.408 1086.56 Q106.408 1093.67 108.214 1097.23 Q110.043 1100.77 113.654 1100.77 Q117.288 1100.77 119.094 1097.23 Q120.922 1093.67 120.922 1086.56 Q120.922 1079.43 119.094 1075.89 Q117.288 1072.32 113.654 1072.32 M113.654 1068.62 Q119.464 1068.62 122.52 1073.23 Q125.598 1077.81 125.598 1086.56 Q125.598 1095.29 122.52 1099.89 Q119.464 1104.48 113.654 1104.48 Q107.844 1104.48 104.765 1099.89 Q101.709 1095.29 101.709 1086.56 Q101.709 1077.81 104.765 1073.23 Q107.844 1068.62 113.654 1068.62 Z\" fill=\"#000000\" fill-rule=\"evenodd\" fill-opacity=\"1\" /><path clip-path=\"url(#clip930)\" d=\"M 0 0 M51.6634 740.68 L59.3023 740.68 L59.3023 714.314 L50.9921 715.981 L50.9921 711.722 L59.256 710.055 L63.9319 710.055 L63.9319 740.68 L71.5707 740.68 L71.5707 744.615 L51.6634 744.615 L51.6634 740.68 Z\" fill=\"#000000\" fill-rule=\"evenodd\" fill-opacity=\"1\" /><path clip-path=\"url(#clip930)\" d=\"M 0 0 M86.6401 713.134 Q83.029 713.134 81.2003 716.699 Q79.3948 720.24 79.3948 727.37 Q79.3948 734.476 81.2003 738.041 Q83.029 741.583 86.6401 741.583 Q90.2743 741.583 92.0799 738.041 Q93.9086 734.476 93.9086 727.37 Q93.9086 720.24 92.0799 716.699 Q90.2743 713.134 86.6401 713.134 M86.6401 709.43 Q92.4502 709.43 95.5058 714.037 Q98.5845 718.62 98.5845 727.37 Q98.5845 736.097 95.5058 740.703 Q92.4502 745.286 86.6401 745.286 Q80.8299 745.286 77.7512 740.703 Q74.6957 736.097 74.6957 727.37 Q74.6957 718.62 77.7512 714.037 Q80.8299 709.43 86.6401 709.43 Z\" fill=\"#000000\" fill-rule=\"evenodd\" fill-opacity=\"1\" /><path clip-path=\"url(#clip930)\" d=\"M 0 0 M113.654 713.134 Q110.043 713.134 108.214 716.699 Q106.408 720.24 106.408 727.37 Q106.408 734.476 108.214 738.041 Q110.043 741.583 113.654 741.583 Q117.288 741.583 119.094 738.041 Q120.922 734.476 120.922 727.37 Q120.922 720.24 119.094 716.699 Q117.288 713.134 113.654 713.134 M113.654 709.43 Q119.464 709.43 122.52 714.037 Q125.598 718.62 125.598 727.37 Q125.598 736.097 122.52 740.703 Q119.464 745.286 113.654 745.286 Q107.844 745.286 104.765 740.703 Q101.709 736.097 101.709 727.37 Q101.709 718.62 104.765 714.037 Q107.844 709.43 113.654 709.43 Z\" fill=\"#000000\" fill-rule=\"evenodd\" fill-opacity=\"1\" /><path clip-path=\"url(#clip930)\" d=\"M 0 0 M52.6588 381.49 L60.2976 381.49 L60.2976 355.124 L51.9875 356.791 L51.9875 352.531 L60.2513 350.865 L64.9272 350.865 L64.9272 381.49 L72.5661 381.49 L72.5661 385.425 L52.6588 385.425 L52.6588 381.49 Z\" fill=\"#000000\" fill-rule=\"evenodd\" fill-opacity=\"1\" /><path clip-path=\"url(#clip930)\" d=\"M 0 0 M77.6818 350.865 L96.0382 350.865 L96.0382 354.8 L81.9642 354.8 L81.9642 363.272 Q82.9827 362.925 84.0012 362.763 Q85.0197 362.578 86.0382 362.578 Q91.8252 362.578 95.2049 365.749 Q98.5845 368.92 98.5845 374.337 Q98.5845 379.915 95.1123 383.017 Q91.6401 386.096 85.3206 386.096 Q83.1447 386.096 80.8762 385.726 Q78.6309 385.355 76.2235 384.615 L76.2235 379.915 Q78.3068 381.05 80.529 381.605 Q82.7512 382.161 85.2281 382.161 Q89.2327 382.161 91.5706 380.054 Q93.9086 377.948 93.9086 374.337 Q93.9086 370.726 91.5706 368.619 Q89.2327 366.513 85.2281 366.513 Q83.3531 366.513 81.4781 366.929 Q79.6262 367.346 77.6818 368.226 L77.6818 350.865 Z\" fill=\"#000000\" fill-rule=\"evenodd\" fill-opacity=\"1\" /><path clip-path=\"url(#clip930)\" d=\"M 0 0 M113.654 353.943 Q110.043 353.943 108.214 357.508 Q106.408 361.05 106.408 368.179 Q106.408 375.286 108.214 378.851 Q110.043 382.392 113.654 382.392 Q117.288 382.392 119.094 378.851 Q120.922 375.286 120.922 368.179 Q120.922 361.05 119.094 357.508 Q117.288 353.943 113.654 353.943 M113.654 350.24 Q119.464 350.24 122.52 354.846 Q125.598 359.429 125.598 368.179 Q125.598 376.906 122.52 381.513 Q119.464 386.096 113.654 386.096 Q107.844 386.096 104.765 381.513 Q101.709 376.906 101.709 368.179 Q101.709 359.429 104.765 354.846 Q107.844 350.24 113.654 350.24 Z\" fill=\"#000000\" fill-rule=\"evenodd\" fill-opacity=\"1\" /><path clip-path=\"url(#clip932)\" d=\"\n",
       "M282.116 1438.53 L282.116 1445.72 L421.41 1445.72 L421.41 1438.53 L282.116 1438.53 L282.116 1438.53  Z\n",
       "  \" fill=\"#009af9\" fill-rule=\"evenodd\" fill-opacity=\"1\"/>\n",
       "<polyline clip-path=\"url(#clip932)\" style=\"stroke:#000000; stroke-width:4; stroke-opacity:1; fill:none\" points=\"\n",
       "  282.116,1438.53 282.116,1445.72 421.41,1445.72 421.41,1438.53 282.116,1438.53 \n",
       "  \"/>\n",
       "<path clip-path=\"url(#clip932)\" d=\"\n",
       "M421.41 1438.53 L421.41 1445.72 L560.705 1445.72 L560.705 1438.53 L421.41 1438.53 L421.41 1438.53  Z\n",
       "  \" fill=\"#009af9\" fill-rule=\"evenodd\" fill-opacity=\"1\"/>\n",
       "<polyline clip-path=\"url(#clip932)\" style=\"stroke:#000000; stroke-width:4; stroke-opacity:1; fill:none\" points=\"\n",
       "  421.41,1438.53 421.41,1445.72 560.705,1445.72 560.705,1438.53 421.41,1438.53 \n",
       "  \"/>\n",
       "<path clip-path=\"url(#clip932)\" d=\"\n",
       "M560.705 1395.43 L560.705 1445.72 L699.999 1445.72 L699.999 1395.43 L560.705 1395.43 L560.705 1395.43  Z\n",
       "  \" fill=\"#009af9\" fill-rule=\"evenodd\" fill-opacity=\"1\"/>\n",
       "<polyline clip-path=\"url(#clip932)\" style=\"stroke:#000000; stroke-width:4; stroke-opacity:1; fill:none\" points=\"\n",
       "  560.705,1395.43 560.705,1445.72 699.999,1445.72 699.999,1395.43 560.705,1395.43 \n",
       "  \"/>\n",
       "<path clip-path=\"url(#clip932)\" d=\"\n",
       "M699.999 1266.12 L699.999 1445.72 L839.294 1445.72 L839.294 1266.12 L699.999 1266.12 L699.999 1266.12  Z\n",
       "  \" fill=\"#009af9\" fill-rule=\"evenodd\" fill-opacity=\"1\"/>\n",
       "<polyline clip-path=\"url(#clip932)\" style=\"stroke:#000000; stroke-width:4; stroke-opacity:1; fill:none\" points=\"\n",
       "  699.999,1266.12 699.999,1445.72 839.294,1445.72 839.294,1266.12 699.999,1266.12 \n",
       "  \"/>\n",
       "<path clip-path=\"url(#clip932)\" d=\"\n",
       "M839.294 1187.1 L839.294 1445.72 L978.588 1445.72 L978.588 1187.1 L839.294 1187.1 L839.294 1187.1  Z\n",
       "  \" fill=\"#009af9\" fill-rule=\"evenodd\" fill-opacity=\"1\"/>\n",
       "<polyline clip-path=\"url(#clip932)\" style=\"stroke:#000000; stroke-width:4; stroke-opacity:1; fill:none\" points=\"\n",
       "  839.294,1187.1 839.294,1445.72 978.588,1445.72 978.588,1187.1 839.294,1187.1 \n",
       "  \"/>\n",
       "<path clip-path=\"url(#clip932)\" d=\"\n",
       "M978.588 878.195 L978.588 1445.72 L1117.88 1445.72 L1117.88 878.195 L978.588 878.195 L978.588 878.195  Z\n",
       "  \" fill=\"#009af9\" fill-rule=\"evenodd\" fill-opacity=\"1\"/>\n",
       "<polyline clip-path=\"url(#clip932)\" style=\"stroke:#000000; stroke-width:4; stroke-opacity:1; fill:none\" points=\"\n",
       "  978.588,878.195 978.588,1445.72 1117.88,1445.72 1117.88,878.195 978.588,878.195 \n",
       "  \"/>\n",
       "<path clip-path=\"url(#clip932)\" d=\"\n",
       "M1117.88 210.101 L1117.88 1445.72 L1257.18 1445.72 L1257.18 210.101 L1117.88 210.101 L1117.88 210.101  Z\n",
       "  \" fill=\"#009af9\" fill-rule=\"evenodd\" fill-opacity=\"1\"/>\n",
       "<polyline clip-path=\"url(#clip932)\" style=\"stroke:#000000; stroke-width:4; stroke-opacity:1; fill:none\" points=\"\n",
       "  1117.88,210.101 1117.88,1445.72 1257.18,1445.72 1257.18,210.101 1117.88,210.101 \n",
       "  \"/>\n",
       "<path clip-path=\"url(#clip932)\" d=\"\n",
       "M1257.18 116.712 L1257.18 1445.72 L1396.47 1445.72 L1396.47 116.712 L1257.18 116.712 L1257.18 116.712  Z\n",
       "  \" fill=\"#009af9\" fill-rule=\"evenodd\" fill-opacity=\"1\"/>\n",
       "<polyline clip-path=\"url(#clip932)\" style=\"stroke:#000000; stroke-width:4; stroke-opacity:1; fill:none\" points=\"\n",
       "  1257.18,116.712 1257.18,1445.72 1396.47,1445.72 1396.47,116.712 1257.18,116.712 \n",
       "  \"/>\n",
       "<path clip-path=\"url(#clip932)\" d=\"\n",
       "M1396.47 87.9763 L1396.47 1445.72 L1535.77 1445.72 L1535.77 87.9763 L1396.47 87.9763 L1396.47 87.9763  Z\n",
       "  \" fill=\"#009af9\" fill-rule=\"evenodd\" fill-opacity=\"1\"/>\n",
       "<polyline clip-path=\"url(#clip932)\" style=\"stroke:#000000; stroke-width:4; stroke-opacity:1; fill:none\" points=\"\n",
       "  1396.47,87.9763 1396.47,1445.72 1535.77,1445.72 1535.77,87.9763 1396.47,87.9763 \n",
       "  \"/>\n",
       "<path clip-path=\"url(#clip932)\" d=\"\n",
       "M1535.77 332.226 L1535.77 1445.72 L1675.06 1445.72 L1675.06 332.226 L1535.77 332.226 L1535.77 332.226  Z\n",
       "  \" fill=\"#009af9\" fill-rule=\"evenodd\" fill-opacity=\"1\"/>\n",
       "<polyline clip-path=\"url(#clip932)\" style=\"stroke:#000000; stroke-width:4; stroke-opacity:1; fill:none\" points=\"\n",
       "  1535.77,332.226 1535.77,1445.72 1675.06,1445.72 1675.06,332.226 1535.77,332.226 \n",
       "  \"/>\n",
       "<path clip-path=\"url(#clip932)\" d=\"\n",
       "M1675.06 741.703 L1675.06 1445.72 L1814.35 1445.72 L1814.35 741.703 L1675.06 741.703 L1675.06 741.703  Z\n",
       "  \" fill=\"#009af9\" fill-rule=\"evenodd\" fill-opacity=\"1\"/>\n",
       "<polyline clip-path=\"url(#clip932)\" style=\"stroke:#000000; stroke-width:4; stroke-opacity:1; fill:none\" points=\"\n",
       "  1675.06,741.703 1675.06,1445.72 1814.35,1445.72 1814.35,741.703 1675.06,741.703 \n",
       "  \"/>\n",
       "<path clip-path=\"url(#clip932)\" d=\"\n",
       "M1814.35 1201.47 L1814.35 1445.72 L1953.65 1445.72 L1953.65 1201.47 L1814.35 1201.47 L1814.35 1201.47  Z\n",
       "  \" fill=\"#009af9\" fill-rule=\"evenodd\" fill-opacity=\"1\"/>\n",
       "<polyline clip-path=\"url(#clip932)\" style=\"stroke:#000000; stroke-width:4; stroke-opacity:1; fill:none\" points=\"\n",
       "  1814.35,1201.47 1814.35,1445.72 1953.65,1445.72 1953.65,1201.47 1814.35,1201.47 \n",
       "  \"/>\n",
       "<path clip-path=\"url(#clip932)\" d=\"\n",
       "M1953.65 1345.14 L1953.65 1445.72 L2092.94 1445.72 L2092.94 1345.14 L1953.65 1345.14 L1953.65 1345.14  Z\n",
       "  \" fill=\"#009af9\" fill-rule=\"evenodd\" fill-opacity=\"1\"/>\n",
       "<polyline clip-path=\"url(#clip932)\" style=\"stroke:#000000; stroke-width:4; stroke-opacity:1; fill:none\" points=\"\n",
       "  1953.65,1345.14 1953.65,1445.72 2092.94,1445.72 2092.94,1345.14 1953.65,1345.14 \n",
       "  \"/>\n",
       "<path clip-path=\"url(#clip932)\" d=\"\n",
       "M2092.94 1416.98 L2092.94 1445.72 L2232.24 1445.72 L2232.24 1416.98 L2092.94 1416.98 L2092.94 1416.98  Z\n",
       "  \" fill=\"#009af9\" fill-rule=\"evenodd\" fill-opacity=\"1\"/>\n",
       "<polyline clip-path=\"url(#clip932)\" style=\"stroke:#000000; stroke-width:4; stroke-opacity:1; fill:none\" points=\"\n",
       "  2092.94,1416.98 2092.94,1445.72 2232.24,1445.72 2232.24,1416.98 2092.94,1416.98 \n",
       "  \"/>\n",
       "<path clip-path=\"url(#clip930)\" d=\"\n",
       "M1985.24 216.178 L2279.72 216.178 L2279.72 95.2176 L1985.24 95.2176  Z\n",
       "  \" fill=\"#ffffff\" fill-rule=\"evenodd\" fill-opacity=\"1\"/>\n",
       "<polyline clip-path=\"url(#clip930)\" style=\"stroke:#000000; stroke-width:4; stroke-opacity:1; fill:none\" points=\"\n",
       "  1985.24,216.178 2279.72,216.178 2279.72,95.2176 1985.24,95.2176 1985.24,216.178 \n",
       "  \"/>\n",
       "<path clip-path=\"url(#clip930)\" d=\"\n",
       "M2009.58 179.89 L2155.66 179.89 L2155.66 131.506 L2009.58 131.506 L2009.58 179.89  Z\n",
       "  \" fill=\"#009af9\" fill-rule=\"evenodd\" fill-opacity=\"1\"/>\n",
       "<polyline clip-path=\"url(#clip930)\" style=\"stroke:#000000; stroke-width:4; stroke-opacity:1; fill:none\" points=\"\n",
       "  2009.58,179.89 2155.66,179.89 2155.66,131.506 2009.58,131.506 2009.58,179.89 \n",
       "  \"/>\n",
       "<path clip-path=\"url(#clip930)\" d=\"M 0 0 M2193.85 175.385 Q2192.04 180.015 2190.33 181.427 Q2188.62 182.839 2185.75 182.839 L2182.34 182.839 L2182.34 179.274 L2184.84 179.274 Q2186.6 179.274 2187.58 178.44 Q2188.55 177.607 2189.73 174.505 L2190.49 172.561 L2180.01 147.052 L2184.52 147.052 L2192.62 167.329 L2200.72 147.052 L2205.24 147.052 L2193.85 175.385 Z\" fill=\"#000000\" fill-rule=\"evenodd\" fill-opacity=\"1\" /><path clip-path=\"url(#clip930)\" d=\"M 0 0 M2211.12 169.042 L2218.76 169.042 L2218.76 142.677 L2210.45 144.343 L2210.45 140.084 L2218.71 138.418 L2223.39 138.418 L2223.39 169.042 L2231.02 169.042 L2231.02 172.978 L2211.12 172.978 L2211.12 169.042 Z\" fill=\"#000000\" fill-rule=\"evenodd\" fill-opacity=\"1\" /></svg>\n"
      ]
     },
     "execution_count": 150,
     "metadata": {},
     "output_type": "execute_result"
    }
   ],
   "source": [
    "vcat(rand(MvNormal([0],1),10^3)...) |> histogram"
   ]
  },
  {
   "cell_type": "code",
   "execution_count": null,
   "metadata": {},
   "outputs": [],
   "source": []
  },
  {
   "cell_type": "markdown",
   "metadata": {},
   "source": [
    "## Mas formal"
   ]
  }
 ],
 "metadata": {
  "kernelspec": {
   "display_name": "Julia 1.5.2",
   "language": "julia",
   "name": "julia-1.5"
  },
  "language_info": {
   "file_extension": ".jl",
   "mimetype": "application/julia",
   "name": "julia",
   "version": "1.5.2"
  }
 },
 "nbformat": 4,
 "nbformat_minor": 2
}
