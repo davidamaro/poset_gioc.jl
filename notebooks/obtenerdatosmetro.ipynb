{
 "cells": [
  {
   "cell_type": "markdown",
   "metadata": {},
   "source": [
    "En esta notebook se habla de\n",
    "\n",
    "* datos obtenidos para 72 Universidades\n",
    "* Usar el proceso fuzzy para calcular un fuzzy poset\n",
    "* Obtener algunos cortes-$\\alpha$ \n",
    "* Se calculan los posets $m^2$ y $m^3$. Son posets fuzzy, por lo que hay que elegir una forma de hacerlos crisp. Para ello primero usé mayor que los demás, sin ser iguales.\n",
    "* Se estudian los valores de membresía para extensiones lineales para distintos posets obtenidos: $m^2$, $m^3$ y varios $\\alpha$-cut."
   ]
  },
  {
   "cell_type": "code",
   "execution_count": 1,
   "metadata": {},
   "outputs": [
    {
     "name": "stderr",
     "output_type": "stream",
     "text": [
      "┌ Info: Precompiling Posets [849245fe-9976-4417-8fcb-b00bf8cb81e3]\n",
      "└ @ Base loading.jl:1278\n"
     ]
    }
   ],
   "source": [
    "using CSV\n",
    "using DataFrames\n",
    "using Posets\n",
    "using Plots\n",
    "import Statistics: mean, median\n",
    "using LaTeXStrings\n",
    "using DelimitedFiles"
   ]
  },
  {
   "cell_type": "code",
   "execution_count": 2,
   "metadata": {},
   "outputs": [
    {
     "data": {
      "text/plain": [
       "nose (generic function with 1 method)"
      ]
     },
     "execution_count": 2,
     "metadata": {},
     "output_type": "execute_result"
    }
   ],
   "source": [
    "function nose(lista)\n",
    "    x,y = extrema(lista)\n",
    "    \n",
    "    [(y - u)/(y-x) for u in lista]\n",
    "end"
   ]
  },
  {
   "cell_type": "code",
   "execution_count": 3,
   "metadata": {},
   "outputs": [],
   "source": [
    "list_dataframes = [DataFrame(CSV.File(\"data-metro/\"*f)) for f in readdir(\"data-metro\")];"
   ]
  },
  {
   "cell_type": "code",
   "execution_count": 4,
   "metadata": {},
   "outputs": [],
   "source": [
    "nombresbuenos = intersect([l.Univ for l in list_dataframes]...);"
   ]
  },
  {
   "cell_type": "code",
   "execution_count": 5,
   "metadata": {},
   "outputs": [
    {
     "data": {
      "text/plain": [
       "20-element Array{String,1}:\n",
       " \"INV-L3\"\n",
       " \"PAN-L9\"\n",
       " \"CCA-L2\"\n",
       " \"PAN-L5\"\n",
       " \"COT-L8\"\n",
       " \"TAS-L2\"\n",
       " \"PAN-LA\"\n",
       " \"UNI-L3\"\n",
       " \"OBS-L1\"\n",
       " \"CAZ-LB\"\n",
       " \"INS-L1\"\n",
       " \"ZOC-L2\"\n",
       " \"ZAR-L1\"\n",
       " \"CHP-L1\"\n",
       " \"BUE-LB\"\n",
       " \"PAN-L1\"\n",
       " \"MER-L1\"\n",
       " \"NOR-L2\"\n",
       " \"COP-L3\"\n",
       " \"DMA-L3\""
      ]
     },
     "execution_count": 5,
     "metadata": {},
     "output_type": "execute_result"
    }
   ],
   "source": [
    "nombresbuenos = nombresbuenos[1:20]"
   ]
  },
  {
   "cell_type": "code",
   "execution_count": 6,
   "metadata": {
    "scrolled": true
   },
   "outputs": [
    {
     "data": {
      "text/plain": [
       "365-element Array{DataFrame,1}:\n",
       " 20×2 DataFrame\n",
       "│ Row │ Univ   │ Points   │\n",
       "│     │ \u001b[90mString\u001b[39m │ \u001b[90mFloat64\u001b[39m  │\n",
       "├─────┼────────┼──────────┤\n",
       "│ 1   │ INV-L3 │ 138143.0 │\n",
       "│ 2   │ PAN-L9 │ 125556.0 │\n",
       "│ 3   │ CCA-L2 │ 124221.0 │\n",
       "│ 4   │ PAN-L5 │ 113545.0 │\n",
       "│ 5   │ COT-L8 │ 109212.0 │\n",
       "│ 6   │ TAS-L2 │ 100415.0 │\n",
       "│ 7   │ PAN-LA │ 99911.0  │\n",
       "│ 8   │ UNI-L3 │ 85554.0  │\n",
       "│ 9   │ OBS-L1 │ 74831.0  │\n",
       "│ 10  │ CAZ-LB │ 72978.0  │\n",
       "│ 11  │ INS-L1 │ 71984.0  │\n",
       "│ 12  │ ZOC-L2 │ 63419.0  │\n",
       "│ 13  │ ZAR-L1 │ 60683.0  │\n",
       "│ 14  │ CHP-L1 │ 58169.0  │\n",
       "│ 15  │ BUE-LB │ 55083.0  │\n",
       "│ 16  │ PAN-L1 │ 52879.0  │\n",
       "│ 17  │ MER-L1 │ 48861.0  │\n",
       "│ 18  │ NOR-L2 │ 48399.0  │\n",
       "│ 19  │ COP-L3 │ 48325.0  │\n",
       "│ 20  │ DMA-L3 │ 47577.0  │\n",
       " 20×2 DataFrame\n",
       "│ Row │ Univ   │ Points   │\n",
       "│     │ \u001b[90mString\u001b[39m │ \u001b[90mFloat64\u001b[39m  │\n",
       "├─────┼────────┼──────────┤\n",
       "│ 1   │ INV-L3 │ 131965.0 │\n",
       "│ 2   │ PAN-LA │ 115124.0 │\n",
       "│ 3   │ CCA-L2 │ 110933.0 │\n",
       "│ 4   │ PAN-L9 │ 109107.0 │\n",
       "│ 5   │ PAN-L5 │ 103906.0 │\n",
       "│ 6   │ COT-L8 │ 98076.0  │\n",
       "│ 7   │ TAS-L2 │ 97187.0  │\n",
       "│ 8   │ ZOC-L2 │ 87195.0  │\n",
       "│ 9   │ OBS-L1 │ 80158.0  │\n",
       "│ 10  │ INS-L1 │ 76610.0  │\n",
       "│ 11  │ UNI-L3 │ 74327.0  │\n",
       "│ 12  │ CHP-L1 │ 70643.0  │\n",
       "│ 13  │ CAZ-LB │ 66733.0  │\n",
       "│ 14  │ BUE-LB │ 60923.0  │\n",
       "│ 15  │ MER-L1 │ 57603.0  │\n",
       "│ 16  │ ZAR-L1 │ 56342.0  │\n",
       "│ 17  │ PAN-L1 │ 54209.0  │\n",
       "│ 18  │ DMA-L3 │ 44601.0  │\n",
       "│ 19  │ NOR-L2 │ 41313.0  │\n",
       "│ 20  │ COP-L3 │ 40894.0  │\n",
       " 20×2 DataFrame\n",
       "│ Row │ Univ   │ Points   │\n",
       "│     │ \u001b[90mString\u001b[39m │ \u001b[90mFloat64\u001b[39m  │\n",
       "├─────┼────────┼──────────┤\n",
       "│ 1   │ COT-L8 │ 128977.0 │\n",
       "│ 2   │ PAN-LA │ 121277.0 │\n",
       "│ 3   │ CCA-L2 │ 114802.0 │\n",
       "│ 4   │ PAN-L9 │ 113749.0 │\n",
       "│ 5   │ INV-L3 │ 107055.0 │\n",
       "│ 6   │ PAN-L5 │ 93128.0  │\n",
       "│ 7   │ TAS-L2 │ 87764.0  │\n",
       "│ 8   │ OBS-L1 │ 87467.0  │\n",
       "│ 9   │ UNI-L3 │ 79410.0  │\n",
       "│ 10  │ INS-L1 │ 73090.0  │\n",
       "│ 11  │ ZOC-L2 │ 67507.0  │\n",
       "│ 12  │ BUE-LB │ 65398.0  │\n",
       "│ 13  │ CAZ-LB │ 64503.0  │\n",
       "│ 14  │ CHP-L1 │ 57860.0  │\n",
       "│ 15  │ ZAR-L1 │ 55883.0  │\n",
       "│ 16  │ PAN-L1 │ 54728.0  │\n",
       "│ 17  │ MER-L1 │ 51768.0  │\n",
       "│ 18  │ COP-L3 │ 49592.0  │\n",
       "│ 19  │ DMA-L3 │ 42965.0  │\n",
       "│ 20  │ NOR-L2 │ 32101.0  │\n",
       " 20×2 DataFrame\n",
       "│ Row │ Univ   │ Points   │\n",
       "│     │ \u001b[90mString\u001b[39m │ \u001b[90mFloat64\u001b[39m  │\n",
       "├─────┼────────┼──────────┤\n",
       "│ 1   │ CCA-L2 │ 118275.0 │\n",
       "│ 2   │ INV-L3 │ 111529.0 │\n",
       "│ 3   │ ZOC-L2 │ 96784.0  │\n",
       "│ 4   │ PAN-L5 │ 87834.0  │\n",
       "│ 5   │ PAN-L9 │ 83595.0  │\n",
       "│ 6   │ MER-L1 │ 73590.0  │\n",
       "│ 7   │ TAS-L2 │ 71297.0  │\n",
       "│ 8   │ OBS-L1 │ 69281.0  │\n",
       "│ 9   │ COT-L8 │ 67619.0  │\n",
       "│ 10  │ UNI-L3 │ 58797.0  │\n",
       "│ 11  │ PAN-LA │ 58633.0  │\n",
       "│ 12  │ CAZ-LB │ 57719.0  │\n",
       "│ 13  │ ZAR-L1 │ 53502.0  │\n",
       "│ 14  │ BUE-LB │ 51657.0  │\n",
       "│ 15  │ INS-L1 │ 51255.0  │\n",
       "│ 16  │ PAN-L1 │ 48555.0  │\n",
       "│ 17  │ CHP-L1 │ 44485.0  │\n",
       "│ 18  │ DMA-L3 │ 37493.0  │\n",
       "│ 19  │ NOR-L2 │ 33465.0  │\n",
       "│ 20  │ COP-L3 │ 32843.0  │\n",
       " 20×2 DataFrame\n",
       "│ Row │ Univ   │ Points  │\n",
       "│     │ \u001b[90mString\u001b[39m │ \u001b[90mFloat64\u001b[39m │\n",
       "├─────┼────────┼─────────┤\n",
       "│ 1   │ PAN-L5 │ 64670.0 │\n",
       "│ 2   │ INV-L3 │ 51984.0 │\n",
       "│ 3   │ OBS-L1 │ 48294.0 │\n",
       "│ 4   │ CCA-L2 │ 44456.0 │\n",
       "│ 5   │ PAN-L9 │ 37487.0 │\n",
       "│ 6   │ CAZ-LB │ 35360.0 │\n",
       "│ 7   │ TAS-L2 │ 31899.0 │\n",
       "│ 8   │ ZOC-L2 │ 28918.0 │\n",
       "│ 9   │ COT-L8 │ 27723.0 │\n",
       "│ 10  │ ZAR-L1 │ 24739.0 │\n",
       "│ 11  │ BUE-LB │ 23277.0 │\n",
       "│ 12  │ PAN-LA │ 23038.0 │\n",
       "│ 13  │ UNI-L3 │ 21568.0 │\n",
       "│ 14  │ PAN-L1 │ 19958.0 │\n",
       "│ 15  │ CHP-L1 │ 19515.0 │\n",
       "│ 16  │ MER-L1 │ 18381.0 │\n",
       "│ 17  │ DMA-L3 │ 17406.0 │\n",
       "│ 18  │ INS-L1 │ 16622.0 │\n",
       "│ 19  │ NOR-L2 │ 9860.0  │\n",
       "│ 20  │ COP-L3 │ 9638.0  │\n",
       " 20×2 DataFrame\n",
       "│ Row │ Univ   │ Points   │\n",
       "│     │ \u001b[90mString\u001b[39m │ \u001b[90mFloat64\u001b[39m  │\n",
       "├─────┼────────┼──────────┤\n",
       "│ 1   │ INV-L3 │ 128260.0 │\n",
       "│ 2   │ COT-L8 │ 116501.0 │\n",
       "│ 3   │ PAN-LA │ 109848.0 │\n",
       "│ 4   │ PAN-L5 │ 107942.0 │\n",
       "│ 5   │ PAN-L9 │ 103408.0 │\n",
       "│ 6   │ CCA-L2 │ 101440.0 │\n",
       "│ 7   │ TAS-L2 │ 97805.0  │\n",
       "│ 8   │ INS-L1 │ 75698.0  │\n",
       "│ 9   │ OBS-L1 │ 73908.0  │\n",
       "│ 10  │ UNI-L3 │ 73739.0  │\n",
       "│ 11  │ ZOC-L2 │ 72542.0  │\n",
       "│ 12  │ CAZ-LB │ 65002.0  │\n",
       "│ 13  │ CHP-L1 │ 60390.0  │\n",
       "│ 14  │ ZAR-L1 │ 57268.0  │\n",
       "│ 15  │ MER-L1 │ 51401.0  │\n",
       "│ 16  │ PAN-L1 │ 47568.0  │\n",
       "│ 17  │ DMA-L3 │ 45770.0  │\n",
       "│ 18  │ BUE-LB │ 45321.0  │\n",
       "│ 19  │ NOR-L2 │ 38550.0  │\n",
       "│ 20  │ COP-L3 │ 35957.0  │\n",
       " 20×2 DataFrame\n",
       "│ Row │ Univ   │ Points  │\n",
       "│     │ \u001b[90mString\u001b[39m │ \u001b[90mFloat64\u001b[39m │\n",
       "├─────┼────────┼─────────┤\n",
       "│ 1   │ CCA-L2 │ 82183.0 │\n",
       "│ 2   │ INV-L3 │ 81925.0 │\n",
       "│ 3   │ ZOC-L2 │ 72687.0 │\n",
       "│ 4   │ OBS-L1 │ 65429.0 │\n",
       "│ 5   │ TAS-L2 │ 63895.0 │\n",
       "│ 6   │ PAN-L5 │ 63776.0 │\n",
       "│ 7   │ PAN-LA │ 56731.0 │\n",
       "│ 8   │ MER-L1 │ 54341.0 │\n",
       "│ 9   │ PAN-L9 │ 50322.0 │\n",
       "│ 10  │ COT-L8 │ 48785.0 │\n",
       "│ 11  │ CHP-L1 │ 46441.0 │\n",
       "│ 12  │ CAZ-LB │ 45864.0 │\n",
       "│ 13  │ UNI-L3 │ 36207.0 │\n",
       "│ 14  │ BUE-LB │ 33710.0 │\n",
       "│ 15  │ ZAR-L1 │ 33635.0 │\n",
       "│ 16  │ INS-L1 │ 32156.0 │\n",
       "│ 17  │ PAN-L1 │ 28461.0 │\n",
       "│ 18  │ DMA-L3 │ 25814.0 │\n",
       "│ 19  │ NOR-L2 │ 24409.0 │\n",
       "│ 20  │ COP-L3 │ 17511.0 │\n",
       " 20×2 DataFrame\n",
       "│ Row │ Univ   │ Points   │\n",
       "│     │ \u001b[90mString\u001b[39m │ \u001b[90mFloat64\u001b[39m  │\n",
       "├─────┼────────┼──────────┤\n",
       "│ 1   │ CCA-L2 │ 142786.0 │\n",
       "│ 2   │ INV-L3 │ 116455.0 │\n",
       "│ 3   │ ZOC-L2 │ 103954.0 │\n",
       "│ 4   │ PAN-L9 │ 89556.0  │\n",
       "│ 5   │ PAN-L5 │ 87833.0  │\n",
       "│ 6   │ OBS-L1 │ 80979.0  │\n",
       "│ 7   │ PAN-LA │ 78796.0  │\n",
       "│ 8   │ TAS-L2 │ 75172.0  │\n",
       "│ 9   │ COT-L8 │ 65305.0  │\n",
       "│ 10  │ UNI-L3 │ 62381.0  │\n",
       "│ 11  │ MER-L1 │ 61892.0  │\n",
       "│ 12  │ BUE-LB │ 56471.0  │\n",
       "│ 13  │ INS-L1 │ 53566.0  │\n",
       "│ 14  │ CAZ-LB │ 52445.0  │\n",
       "│ 15  │ ZAR-L1 │ 51710.0  │\n",
       "│ 16  │ CHP-L1 │ 49718.0  │\n",
       "│ 17  │ PAN-L1 │ 48072.0  │\n",
       "│ 18  │ COP-L3 │ 34436.0  │\n",
       "│ 19  │ DMA-L3 │ 34414.0  │\n",
       "│ 20  │ NOR-L2 │ 33433.0  │\n",
       " 20×2 DataFrame\n",
       "│ Row │ Univ   │ Points  │\n",
       "│     │ \u001b[90mString\u001b[39m │ \u001b[90mFloat64\u001b[39m │\n",
       "├─────┼────────┼─────────┤\n",
       "│ 1   │ CCA-L2 │ 87001.0 │\n",
       "│ 2   │ INV-L3 │ 81126.0 │\n",
       "│ 3   │ PAN-LA │ 65215.0 │\n",
       "│ 4   │ PAN-L5 │ 61796.0 │\n",
       "│ 5   │ TAS-L2 │ 60153.0 │\n",
       "│ 6   │ MER-L1 │ 55047.0 │\n",
       "│ 7   │ PAN-L9 │ 54650.0 │\n",
       "│ 8   │ COT-L8 │ 48807.0 │\n",
       "│ 9   │ BUE-LB │ 47099.0 │\n",
       "│ 10  │ OBS-L1 │ 46868.0 │\n",
       "│ 11  │ UNI-L3 │ 46140.0 │\n",
       "│ 12  │ CAZ-LB │ 44952.0 │\n",
       "│ 13  │ CHP-L1 │ 44410.0 │\n",
       "│ 14  │ ZAR-L1 │ 36939.0 │\n",
       "│ 15  │ INS-L1 │ 33505.0 │\n",
       "│ 16  │ PAN-L1 │ 33101.0 │\n",
       "│ 17  │ COP-L3 │ 31490.0 │\n",
       "│ 18  │ NOR-L2 │ 27584.0 │\n",
       "│ 19  │ DMA-L3 │ 25986.0 │\n",
       "│ 20  │ ZOC-L2 │ 20084.0 │\n",
       " 20×2 DataFrame\n",
       "│ Row │ Univ   │ Points   │\n",
       "│     │ \u001b[90mString\u001b[39m │ \u001b[90mFloat64\u001b[39m  │\n",
       "├─────┼────────┼──────────┤\n",
       "│ 1   │ INV-L3 │ 124872.0 │\n",
       "│ 2   │ CCA-L2 │ 120868.0 │\n",
       "│ 3   │ ZOC-L2 │ 111521.0 │\n",
       "│ 4   │ PAN-LA │ 94425.0  │\n",
       "│ 5   │ PAN-L9 │ 90643.0  │\n",
       "│ 6   │ COT-L8 │ 82657.0  │\n",
       "│ 7   │ TAS-L2 │ 76348.0  │\n",
       "│ 8   │ PAN-L5 │ 75670.0  │\n",
       "│ 9   │ MER-L1 │ 72117.0  │\n",
       "│ 10  │ CAZ-LB │ 66085.0  │\n",
       "│ 11  │ UNI-L3 │ 65576.0  │\n",
       "│ 12  │ OBS-L1 │ 65272.0  │\n",
       "│ 13  │ CHP-L1 │ 58261.0  │\n",
       "│ 14  │ BUE-LB │ 54697.0  │\n",
       "│ 15  │ INS-L1 │ 52549.0  │\n",
       "│ 16  │ ZAR-L1 │ 51474.0  │\n",
       "│ 17  │ PAN-L1 │ 47270.0  │\n",
       "│ 18  │ COP-L3 │ 39495.0  │\n",
       "│ 19  │ DMA-L3 │ 35171.0  │\n",
       "│ 20  │ NOR-L2 │ 30841.0  │\n",
       " 20×2 DataFrame\n",
       "│ Row │ Univ   │ Points   │\n",
       "│     │ \u001b[90mString\u001b[39m │ \u001b[90mFloat64\u001b[39m  │\n",
       "├─────┼────────┼──────────┤\n",
       "│ 1   │ PAN-LA │ 132239.0 │\n",
       "│ 2   │ CCA-L2 │ 132073.0 │\n",
       "│ 3   │ INV-L3 │ 127276.0 │\n",
       "│ 4   │ COT-L8 │ 117511.0 │\n",
       "│ 5   │ PAN-L9 │ 116723.0 │\n",
       "│ 6   │ PAN-L5 │ 113505.0 │\n",
       "│ 7   │ TAS-L2 │ 100481.0 │\n",
       "│ 8   │ UNI-L3 │ 92441.0  │\n",
       "│ 9   │ INS-L1 │ 82469.0  │\n",
       "│ 10  │ OBS-L1 │ 78460.0  │\n",
       "│ 11  │ CAZ-LB │ 73300.0  │\n",
       "│ 12  │ BUE-LB │ 70883.0  │\n",
       "│ 13  │ CHP-L1 │ 66135.0  │\n",
       "│ 14  │ ZAR-L1 │ 58172.0  │\n",
       "│ 15  │ ZOC-L2 │ 58102.0  │\n",
       "│ 16  │ COP-L3 │ 57490.0  │\n",
       "│ 17  │ PAN-L1 │ 48595.0  │\n",
       "│ 18  │ MER-L1 │ 48301.0  │\n",
       "│ 19  │ DMA-L3 │ 47642.0  │\n",
       "│ 20  │ NOR-L2 │ 36621.0  │\n",
       " 20×2 DataFrame\n",
       "│ Row │ Univ   │ Points   │\n",
       "│     │ \u001b[90mString\u001b[39m │ \u001b[90mFloat64\u001b[39m  │\n",
       "├─────┼────────┼──────────┤\n",
       "│ 1   │ INV-L3 │ 151401.0 │\n",
       "│ 2   │ PAN-LA │ 134785.0 │\n",
       "│ 3   │ CCA-L2 │ 126824.0 │\n",
       "│ 4   │ PAN-L5 │ 112802.0 │\n",
       "│ 5   │ PAN-L9 │ 112669.0 │\n",
       "│ 6   │ COT-L8 │ 107808.0 │\n",
       "│ 7   │ OBS-L1 │ 98442.0  │\n",
       "│ 8   │ TAS-L2 │ 97437.0  │\n",
       "│ 9   │ UNI-L3 │ 91565.0  │\n",
       "│ 10  │ CAZ-LB │ 68227.0  │\n",
       "│ 11  │ BUE-LB │ 67749.0  │\n",
       "│ 12  │ INS-L1 │ 67487.0  │\n",
       "│ 13  │ ZAR-L1 │ 59898.0  │\n",
       "│ 14  │ CHP-L1 │ 58588.0  │\n",
       "│ 15  │ PAN-L1 │ 57243.0  │\n",
       "│ 16  │ MER-L1 │ 51168.0  │\n",
       "│ 17  │ DMA-L3 │ 50567.0  │\n",
       "│ 18  │ COP-L3 │ 42853.0  │\n",
       "│ 19  │ NOR-L2 │ 42665.0  │\n",
       "│ 20  │ ZOC-L2 │ 31400.0  │\n",
       " 20×2 DataFrame\n",
       "│ Row │ Univ   │ Points   │\n",
       "│     │ \u001b[90mString\u001b[39m │ \u001b[90mFloat64\u001b[39m  │\n",
       "├─────┼────────┼──────────┤\n",
       "│ 1   │ INV-L3 │ 139650.0 │\n",
       "│ 2   │ CCA-L2 │ 121822.0 │\n",
       "│ 3   │ PAN-L9 │ 118743.0 │\n",
       "│ 4   │ PAN-L5 │ 110012.0 │\n",
       "│ 5   │ COT-L8 │ 106413.0 │\n",
       "│ 6   │ PAN-LA │ 99355.0  │\n",
       "│ 7   │ TAS-L2 │ 96709.0  │\n",
       "│ 8   │ UNI-L3 │ 87942.0  │\n",
       "│ 9   │ OBS-L1 │ 75425.0  │\n",
       "│ 10  │ INS-L1 │ 73804.0  │\n",
       "│ 11  │ CAZ-LB │ 71661.0  │\n",
       "│ 12  │ ZOC-L2 │ 63101.0  │\n",
       "│ 13  │ ZAR-L1 │ 59447.0  │\n",
       "│ 14  │ CHP-L1 │ 58671.0  │\n",
       "│ 15  │ BUE-LB │ 57759.0  │\n",
       "│ 16  │ PAN-L1 │ 52191.0  │\n",
       "│ 17  │ DMA-L3 │ 52166.0  │\n",
       "│ 18  │ MER-L1 │ 49968.0  │\n",
       "│ 19  │ NOR-L2 │ 45433.0  │\n",
       "│ 20  │ COP-L3 │ 39017.0  │\n",
       " ⋮\n",
       " 20×2 DataFrame\n",
       "│ Row │ Univ   │ Points  │\n",
       "│     │ \u001b[90mString\u001b[39m │ \u001b[90mFloat64\u001b[39m │\n",
       "├─────┼────────┼─────────┤\n",
       "│ 1   │ INV-L3 │ 77765.0 │\n",
       "│ 2   │ CCA-L2 │ 76369.0 │\n",
       "│ 3   │ TAS-L2 │ 54505.0 │\n",
       "│ 4   │ PAN-L5 │ 54349.0 │\n",
       "│ 5   │ OBS-L1 │ 50566.0 │\n",
       "│ 6   │ PAN-L9 │ 48572.0 │\n",
       "│ 7   │ MER-L1 │ 47910.0 │\n",
       "│ 8   │ COT-L8 │ 45993.0 │\n",
       "│ 9   │ ZOC-L2 │ 42963.0 │\n",
       "│ 10  │ CHP-L1 │ 38416.0 │\n",
       "│ 11  │ BUE-LB │ 32026.0 │\n",
       "│ 12  │ CAZ-LB │ 31942.0 │\n",
       "│ 13  │ PAN-LA │ 31740.0 │\n",
       "│ 14  │ ZAR-L1 │ 31519.0 │\n",
       "│ 15  │ INS-L1 │ 31218.0 │\n",
       "│ 16  │ UNI-L3 │ 30581.0 │\n",
       "│ 17  │ PAN-L1 │ 29365.0 │\n",
       "│ 18  │ DMA-L3 │ 25362.0 │\n",
       "│ 19  │ NOR-L2 │ 16620.0 │\n",
       "│ 20  │ COP-L3 │ 15645.0 │\n",
       " 20×2 DataFrame\n",
       "│ Row │ Univ   │ Points   │\n",
       "│     │ \u001b[90mString\u001b[39m │ \u001b[90mFloat64\u001b[39m  │\n",
       "├─────┼────────┼──────────┤\n",
       "│ 1   │ INV-L3 │ 144803.0 │\n",
       "│ 2   │ CCA-L2 │ 135885.0 │\n",
       "│ 3   │ PAN-LA │ 125559.0 │\n",
       "│ 4   │ PAN-L9 │ 112111.0 │\n",
       "│ 5   │ COT-L8 │ 111410.0 │\n",
       "│ 6   │ PAN-L5 │ 108935.0 │\n",
       "│ 7   │ TAS-L2 │ 103486.0 │\n",
       "│ 8   │ ZOC-L2 │ 102310.0 │\n",
       "│ 9   │ OBS-L1 │ 86129.0  │\n",
       "│ 10  │ CAZ-LB │ 79094.0  │\n",
       "│ 11  │ UNI-L3 │ 78197.0  │\n",
       "│ 12  │ INS-L1 │ 74107.0  │\n",
       "│ 13  │ BUE-LB │ 68191.0  │\n",
       "│ 14  │ CHP-L1 │ 67765.0  │\n",
       "│ 15  │ ZAR-L1 │ 64652.0  │\n",
       "│ 16  │ MER-L1 │ 52948.0  │\n",
       "│ 17  │ PAN-L1 │ 50396.0  │\n",
       "│ 18  │ COP-L3 │ 50061.0  │\n",
       "│ 19  │ NOR-L2 │ 49369.0  │\n",
       "│ 20  │ DMA-L3 │ 45224.0  │\n",
       " 20×2 DataFrame\n",
       "│ Row │ Univ   │ Points  │\n",
       "│     │ \u001b[90mString\u001b[39m │ \u001b[90mFloat64\u001b[39m │\n",
       "├─────┼────────┼─────────┤\n",
       "│ 1   │ INV-L3 │ 85574.0 │\n",
       "│ 2   │ ZOC-L2 │ 70925.0 │\n",
       "│ 3   │ CCA-L2 │ 68983.0 │\n",
       "│ 4   │ TAS-L2 │ 68170.0 │\n",
       "│ 5   │ PAN-L5 │ 63135.0 │\n",
       "│ 6   │ MER-L1 │ 60670.0 │\n",
       "│ 7   │ COT-L8 │ 58864.0 │\n",
       "│ 8   │ PAN-L9 │ 52556.0 │\n",
       "│ 9   │ OBS-L1 │ 49763.0 │\n",
       "│ 10  │ CHP-L1 │ 47809.0 │\n",
       "│ 11  │ PAN-LA │ 46616.0 │\n",
       "│ 12  │ CAZ-LB │ 42563.0 │\n",
       "│ 13  │ UNI-L3 │ 36633.0 │\n",
       "│ 14  │ BUE-LB │ 34978.0 │\n",
       "│ 15  │ INS-L1 │ 32627.0 │\n",
       "│ 16  │ PAN-L1 │ 31970.0 │\n",
       "│ 17  │ ZAR-L1 │ 31239.0 │\n",
       "│ 18  │ DMA-L3 │ 26123.0 │\n",
       "│ 19  │ COP-L3 │ 20935.0 │\n",
       "│ 20  │ NOR-L2 │ 19867.0 │\n",
       " 20×2 DataFrame\n",
       "│ Row │ Univ   │ Points   │\n",
       "│     │ \u001b[90mString\u001b[39m │ \u001b[90mFloat64\u001b[39m  │\n",
       "├─────┼────────┼──────────┤\n",
       "│ 1   │ INV-L3 │ 144308.0 │\n",
       "│ 2   │ PAN-LA │ 128289.0 │\n",
       "│ 3   │ CCA-L2 │ 125542.0 │\n",
       "│ 4   │ PAN-L9 │ 121775.0 │\n",
       "│ 5   │ TAS-L2 │ 104232.0 │\n",
       "│ 6   │ PAN-L5 │ 103478.0 │\n",
       "│ 7   │ COT-L8 │ 101377.0 │\n",
       "│ 8   │ UNI-L3 │ 92799.0  │\n",
       "│ 9   │ OBS-L1 │ 77111.0  │\n",
       "│ 10  │ INS-L1 │ 74449.0  │\n",
       "│ 11  │ CAZ-LB │ 74221.0  │\n",
       "│ 12  │ MER-L1 │ 64969.0  │\n",
       "│ 13  │ CHP-L1 │ 63642.0  │\n",
       "│ 14  │ BUE-LB │ 62539.0  │\n",
       "│ 15  │ ZOC-L2 │ 62386.0  │\n",
       "│ 16  │ COP-L3 │ 55965.0  │\n",
       "│ 17  │ ZAR-L1 │ 54641.0  │\n",
       "│ 18  │ PAN-L1 │ 51704.0  │\n",
       "│ 19  │ DMA-L3 │ 48629.0  │\n",
       "│ 20  │ NOR-L2 │ 39393.0  │\n",
       " 20×2 DataFrame\n",
       "│ Row │ Univ   │ Points   │\n",
       "│     │ \u001b[90mString\u001b[39m │ \u001b[90mFloat64\u001b[39m  │\n",
       "├─────┼────────┼──────────┤\n",
       "│ 1   │ INV-L3 │ 137740.0 │\n",
       "│ 2   │ PAN-LA │ 133893.0 │\n",
       "│ 3   │ CCA-L2 │ 127921.0 │\n",
       "│ 4   │ PAN-L9 │ 121231.0 │\n",
       "│ 5   │ UNI-L3 │ 115220.0 │\n",
       "│ 6   │ COT-L8 │ 107088.0 │\n",
       "│ 7   │ TAS-L2 │ 105378.0 │\n",
       "│ 8   │ PAN-L5 │ 100030.0 │\n",
       "│ 9   │ INS-L1 │ 85642.0  │\n",
       "│ 10  │ OBS-L1 │ 79601.0  │\n",
       "│ 11  │ ZOC-L2 │ 73776.0  │\n",
       "│ 12  │ CAZ-LB │ 70923.0  │\n",
       "│ 13  │ CHP-L1 │ 66426.0  │\n",
       "│ 14  │ ZAR-L1 │ 58781.0  │\n",
       "│ 15  │ COP-L3 │ 53558.0  │\n",
       "│ 16  │ PAN-L1 │ 51092.0  │\n",
       "│ 17  │ DMA-L3 │ 50207.0  │\n",
       "│ 18  │ MER-L1 │ 49696.0  │\n",
       "│ 19  │ BUE-LB │ 47086.0  │\n",
       "│ 20  │ NOR-L2 │ 43733.0  │\n",
       " 20×2 DataFrame\n",
       "│ Row │ Univ   │ Points  │\n",
       "│     │ \u001b[90mString\u001b[39m │ \u001b[90mFloat64\u001b[39m │\n",
       "├─────┼────────┼─────────┤\n",
       "│ 1   │ CCA-L2 │ 90137.0 │\n",
       "│ 2   │ INV-L3 │ 69264.0 │\n",
       "│ 3   │ OBS-L1 │ 60289.0 │\n",
       "│ 4   │ PAN-L5 │ 58369.0 │\n",
       "│ 5   │ PAN-L9 │ 54935.0 │\n",
       "│ 6   │ PAN-LA │ 53130.0 │\n",
       "│ 7   │ MER-L1 │ 52832.0 │\n",
       "│ 8   │ ZOC-L2 │ 52718.0 │\n",
       "│ 9   │ TAS-L2 │ 51985.0 │\n",
       "│ 10  │ COT-L8 │ 45574.0 │\n",
       "│ 11  │ CHP-L1 │ 44034.0 │\n",
       "│ 12  │ CAZ-LB │ 36874.0 │\n",
       "│ 13  │ UNI-L3 │ 35605.0 │\n",
       "│ 14  │ ZAR-L1 │ 33753.0 │\n",
       "│ 15  │ PAN-L1 │ 32780.0 │\n",
       "│ 16  │ BUE-LB │ 31850.0 │\n",
       "│ 17  │ INS-L1 │ 31366.0 │\n",
       "│ 18  │ COP-L3 │ 25472.0 │\n",
       "│ 19  │ DMA-L3 │ 24541.0 │\n",
       "│ 20  │ NOR-L2 │ 17991.0 │\n",
       " 20×2 DataFrame\n",
       "│ Row │ Univ   │ Points  │\n",
       "│     │ \u001b[90mString\u001b[39m │ \u001b[90mFloat64\u001b[39m │\n",
       "├─────┼────────┼─────────┤\n",
       "│ 1   │ INV-L3 │ 85296.0 │\n",
       "│ 2   │ CCA-L2 │ 78836.0 │\n",
       "│ 3   │ PAN-L5 │ 75057.0 │\n",
       "│ 4   │ PAN-L9 │ 71958.0 │\n",
       "│ 5   │ ZOC-L2 │ 65625.0 │\n",
       "│ 6   │ COT-L8 │ 61144.0 │\n",
       "│ 7   │ MER-L1 │ 60789.0 │\n",
       "│ 8   │ TAS-L2 │ 57596.0 │\n",
       "│ 9   │ OBS-L1 │ 54730.0 │\n",
       "│ 10  │ CAZ-LB │ 51460.0 │\n",
       "│ 11  │ BUE-LB │ 50217.0 │\n",
       "│ 12  │ ZAR-L1 │ 46794.0 │\n",
       "│ 13  │ INS-L1 │ 45113.0 │\n",
       "│ 14  │ PAN-LA │ 44161.0 │\n",
       "│ 15  │ CHP-L1 │ 44114.0 │\n",
       "│ 16  │ UNI-L3 │ 40811.0 │\n",
       "│ 17  │ PAN-L1 │ 37298.0 │\n",
       "│ 18  │ NOR-L2 │ 24822.0 │\n",
       "│ 19  │ DMA-L3 │ 20603.0 │\n",
       "│ 20  │ COP-L3 │ 15716.0 │\n",
       " 20×2 DataFrame\n",
       "│ Row │ Univ   │ Points   │\n",
       "│     │ \u001b[90mString\u001b[39m │ \u001b[90mFloat64\u001b[39m  │\n",
       "├─────┼────────┼──────────┤\n",
       "│ 1   │ INV-L3 │ 146801.0 │\n",
       "│ 2   │ PAN-L9 │ 132038.0 │\n",
       "│ 3   │ CCA-L2 │ 131193.0 │\n",
       "│ 4   │ TAS-L2 │ 120442.0 │\n",
       "│ 5   │ PAN-L5 │ 110999.0 │\n",
       "│ 6   │ UNI-L3 │ 99006.0  │\n",
       "│ 7   │ PAN-LA │ 86661.0  │\n",
       "│ 8   │ COT-L8 │ 86639.0  │\n",
       "│ 9   │ OBS-L1 │ 85940.0  │\n",
       "│ 10  │ INS-L1 │ 78416.0  │\n",
       "│ 11  │ CAZ-LB │ 75191.0  │\n",
       "│ 12  │ COP-L3 │ 74086.0  │\n",
       "│ 13  │ BUE-LB │ 72262.0  │\n",
       "│ 14  │ ZOC-L2 │ 66059.0  │\n",
       "│ 15  │ MER-L1 │ 64135.0  │\n",
       "│ 16  │ ZAR-L1 │ 62814.0  │\n",
       "│ 17  │ CHP-L1 │ 55848.0  │\n",
       "│ 18  │ NOR-L2 │ 54438.0  │\n",
       "│ 19  │ PAN-L1 │ 53285.0  │\n",
       "│ 20  │ DMA-L3 │ 43546.0  │\n",
       " 20×2 DataFrame\n",
       "│ Row │ Univ   │ Points   │\n",
       "│     │ \u001b[90mString\u001b[39m │ \u001b[90mFloat64\u001b[39m  │\n",
       "├─────┼────────┼──────────┤\n",
       "│ 1   │ INV-L3 │ 128355.0 │\n",
       "│ 2   │ CCA-L2 │ 116577.0 │\n",
       "│ 3   │ PAN-L9 │ 115106.0 │\n",
       "│ 4   │ PAN-LA │ 112866.0 │\n",
       "│ 5   │ COT-L8 │ 101517.0 │\n",
       "│ 6   │ PAN-L5 │ 88925.0  │\n",
       "│ 7   │ TAS-L2 │ 83699.0  │\n",
       "│ 8   │ ZOC-L2 │ 81556.0  │\n",
       "│ 9   │ UNI-L3 │ 78925.0  │\n",
       "│ 10  │ OBS-L1 │ 77655.0  │\n",
       "│ 11  │ INS-L1 │ 75787.0  │\n",
       "│ 12  │ BUE-LB │ 66371.0  │\n",
       "│ 13  │ CHP-L1 │ 63446.0  │\n",
       "│ 14  │ CAZ-LB │ 62415.0  │\n",
       "│ 15  │ ZAR-L1 │ 61889.0  │\n",
       "│ 16  │ PAN-L1 │ 51522.0  │\n",
       "│ 17  │ MER-L1 │ 49354.0  │\n",
       "│ 18  │ COP-L3 │ 44197.0  │\n",
       "│ 19  │ DMA-L3 │ 43148.0  │\n",
       "│ 20  │ NOR-L2 │ 38900.0  │\n",
       " 20×2 DataFrame\n",
       "│ Row │ Univ   │ Points   │\n",
       "│     │ \u001b[90mString\u001b[39m │ \u001b[90mFloat64\u001b[39m  │\n",
       "├─────┼────────┼──────────┤\n",
       "│ 1   │ INV-L3 │ 131682.0 │\n",
       "│ 2   │ CCA-L2 │ 130851.0 │\n",
       "│ 3   │ PAN-L5 │ 108717.0 │\n",
       "│ 4   │ OBS-L1 │ 105423.0 │\n",
       "│ 5   │ TAS-L2 │ 103735.0 │\n",
       "│ 6   │ PAN-L9 │ 101481.0 │\n",
       "│ 7   │ UNI-L3 │ 93615.0  │\n",
       "│ 8   │ COT-L8 │ 92172.0  │\n",
       "│ 9   │ PAN-LA │ 82745.0  │\n",
       "│ 10  │ CAZ-LB │ 72972.0  │\n",
       "│ 11  │ INS-L1 │ 67909.0  │\n",
       "│ 12  │ ZOC-L2 │ 63856.0  │\n",
       "│ 13  │ BUE-LB │ 63218.0  │\n",
       "│ 14  │ ZAR-L1 │ 62025.0  │\n",
       "│ 15  │ CHP-L1 │ 59352.0  │\n",
       "│ 16  │ PAN-L1 │ 52479.0  │\n",
       "│ 17  │ DMA-L3 │ 51556.0  │\n",
       "│ 18  │ COP-L3 │ 51153.0  │\n",
       "│ 19  │ MER-L1 │ 48316.0  │\n",
       "│ 20  │ NOR-L2 │ 45488.0  │\n",
       " 20×2 DataFrame\n",
       "│ Row │ Univ   │ Points   │\n",
       "│     │ \u001b[90mString\u001b[39m │ \u001b[90mFloat64\u001b[39m  │\n",
       "├─────┼────────┼──────────┤\n",
       "│ 1   │ CCA-L2 │ 120089.0 │\n",
       "│ 2   │ INV-L3 │ 117010.0 │\n",
       "│ 3   │ ZOC-L2 │ 109342.0 │\n",
       "│ 4   │ PAN-LA │ 108764.0 │\n",
       "│ 5   │ PAN-L5 │ 87209.0  │\n",
       "│ 6   │ TAS-L2 │ 85227.0  │\n",
       "│ 7   │ PAN-L9 │ 84280.0  │\n",
       "│ 8   │ COT-L8 │ 78855.0  │\n",
       "│ 9   │ MER-L1 │ 65825.0  │\n",
       "│ 10  │ OBS-L1 │ 65466.0  │\n",
       "│ 11  │ UNI-L3 │ 63261.0  │\n",
       "│ 12  │ BUE-LB │ 57446.0  │\n",
       "│ 13  │ CAZ-LB │ 52396.0  │\n",
       "│ 14  │ ZAR-L1 │ 49624.0  │\n",
       "│ 15  │ CHP-L1 │ 49620.0  │\n",
       "│ 16  │ NOR-L2 │ 42141.0  │\n",
       "│ 17  │ INS-L1 │ 41973.0  │\n",
       "│ 18  │ PAN-L1 │ 40740.0  │\n",
       "│ 19  │ DMA-L3 │ 38849.0  │\n",
       "│ 20  │ COP-L3 │ 29091.0  │\n",
       " 20×2 DataFrame\n",
       "│ Row │ Univ   │ Points   │\n",
       "│     │ \u001b[90mString\u001b[39m │ \u001b[90mFloat64\u001b[39m  │\n",
       "├─────┼────────┼──────────┤\n",
       "│ 1   │ CCA-L2 │ 137238.0 │\n",
       "│ 2   │ INV-L3 │ 136729.0 │\n",
       "│ 3   │ PAN-LA │ 129993.0 │\n",
       "│ 4   │ PAN-L9 │ 113854.0 │\n",
       "│ 5   │ PAN-L5 │ 111207.0 │\n",
       "│ 6   │ TAS-L2 │ 106572.0 │\n",
       "│ 7   │ COT-L8 │ 103259.0 │\n",
       "│ 8   │ UNI-L3 │ 97947.0  │\n",
       "│ 9   │ OBS-L1 │ 87130.0  │\n",
       "│ 10  │ ZOC-L2 │ 80645.0  │\n",
       "│ 11  │ INS-L1 │ 78810.0  │\n",
       "│ 12  │ CAZ-LB │ 71009.0  │\n",
       "│ 13  │ CHP-L1 │ 70110.0  │\n",
       "│ 14  │ BUE-LB │ 66124.0  │\n",
       "│ 15  │ ZAR-L1 │ 64208.0  │\n",
       "│ 16  │ MER-L1 │ 59200.0  │\n",
       "│ 17  │ COP-L3 │ 57542.0  │\n",
       "│ 18  │ PAN-L1 │ 55147.0  │\n",
       "│ 19  │ DMA-L3 │ 45319.0  │\n",
       "│ 20  │ NOR-L2 │ 41643.0  │"
      ]
     },
     "execution_count": 6,
     "metadata": {},
     "output_type": "execute_result"
    }
   ],
   "source": [
    "data_filtrada = [xxx[([x ∈ nombresbuenos for x in xxx.Univ]),:] for xxx in list_dataframes]"
   ]
  },
  {
   "cell_type": "code",
   "execution_count": 8,
   "metadata": {},
   "outputs": [
    {
     "data": {
      "text/plain": [
       "20×365 Array{Float64,2}:\n",
       " 0.917121  0.780073  0.656293   …  0.794301    0.6884     0.743909\n",
       " 0.991741  1.0       0.81945       0.934276    1.0        0.833684\n",
       " 0.883047  0.716276  0.734103      0.839154    0.774402   0.702212\n",
       " 0.719531  0.673343  0.665531      0.681138    0.743895   0.692808\n",
       " 0.319447  0.372116  0.146321      0.458385    0.453131   0.355447\n",
       " 0.153722  0.230941  0.0        …  0.00964104  0.0        0.0\n",
       " 1.0       0.959295  0.887857      0.929601    0.892767   0.961546\n",
       " 0.730506  0.607822  0.576892      0.739877    0.858436   0.611204\n",
       " 0.0       0.0       0.226289      0.0         0.0338359  0.00532455\n",
       " 0.985822  0.816528  0.796988      0.96719     0.596321   0.81634\n",
       " 0.990924  0.995399  1.0        …  1.0         0.85659    1.0\n",
       " 0.69907   0.568864  0.428486      0.30465     0.600266   0.52417\n",
       " 0.941457  0.853795  0.766433      0.918892    0.871986   0.858737\n",
       " 0.422145  0.3081    0.37005       0.567754    0.393514   0.272305\n",
       " 0.271603  0.250991  0.157191      0.350384    0.361327   0.244615\n",
       " 0.138982  0.184922  0.0794831  …  0.266434    0.124453   0.0757885\n",
       " 0.41658   0.381878  0.42542       0.324234    0.383107   0.320791\n",
       " 0.58067   0.632891  0.511654      0.441643    0.624497   0.411015\n",
       " 0.855288  0.830374  0.754511      0.808142    0.774358   0.763952\n",
       " 0.825078  0.491594  0.634522      0.786899    0.118101   0.592008"
      ]
     },
     "execution_count": 8,
     "metadata": {},
     "output_type": "execute_result"
    }
   ],
   "source": [
    "puntuaciones = hcat([nose(sort(d, by = first).Points) for d in data_filtrada]...)"
   ]
  },
  {
   "cell_type": "code",
   "execution_count": 37,
   "metadata": {},
   "outputs": [
    {
     "name": "stdout",
     "output_type": "stream",
     "text": [
      "20×2 DataFrame\n",
      "│ Row │ Univ   │ Points   │\n",
      "│     │ \u001b[90mString\u001b[39m │ \u001b[90mFloat64\u001b[39m  │\n",
      "├─────┼────────┼──────────┤\n",
      "│ 1   │ BUE-LB │ 60923.0  │\n",
      "│ 2   │ COP-L3 │ 40894.0  │\n",
      "│ 3   │ CAZ-LB │ 66733.0  │\n",
      "│ 4   │ CHP-L1 │ 70643.0  │\n",
      "│ 5   │ COT-L8 │ 98076.0  │\n",
      "│ 6   │ CCA-L2 │ 110933.0 │\n",
      "│ 7   │ DMA-L3 │ 44601.0  │\n",
      "│ 8   │ INS-L1 │ 76610.0  │\n",
      "│ 9   │ INV-L3 │ 131965.0 │\n",
      "│ 10  │ MER-L1 │ 57603.0  │\n",
      "│ 11  │ NOR-L2 │ 41313.0  │\n",
      "│ 12  │ OBS-L1 │ 80158.0  │\n",
      "│ 13  │ PAN-L1 │ 54209.0  │\n",
      "│ 14  │ PAN-L5 │ 103906.0 │\n",
      "│ 15  │ PAN-L9 │ 109107.0 │\n",
      "│ 16  │ PAN-LA │ 115124.0 │\n",
      "│ 17  │ TAS-L2 │ 97187.0  │\n",
      "│ 18  │ UNI-L3 │ 74327.0  │\n",
      "│ 19  │ ZAR-L1 │ 56342.0  │\n",
      "│ 20  │ ZOC-L2 │ 87195.0  │"
     ]
    }
   ],
   "source": [
    "show(sort(data_filtrada[2], by = first), allrows=true) "
   ]
  },
  {
   "cell_type": "markdown",
   "metadata": {},
   "source": [
    "## calculo de posets fuzzy"
   ]
  },
  {
   "cell_type": "markdown",
   "metadata": {},
   "source": [
    "depende de `puntuaciones`"
   ]
  },
  {
   "cell_type": "code",
   "execution_count": 9,
   "metadata": {},
   "outputs": [],
   "source": [
    "poset_mn = puntuaciones |> fuzzy;\n",
    "\n",
    "poset_m3 = puntuaciones |> m3;\n",
    "\n",
    "poset_m2 = puntuaciones |> m2;"
   ]
  },
  {
   "cell_type": "code",
   "execution_count": 14,
   "metadata": {},
   "outputs": [],
   "source": [
    "writedlm(\"figs/poset0p1_metro.dat\", αcut_poset(poset_mn, 0.1))\n",
    "#;./script.wl figs/poset0p1_univ.dat"
   ]
  },
  {
   "cell_type": "code",
   "execution_count": 11,
   "metadata": {},
   "outputs": [],
   "source": [
    "writedlm(\"figs/poset0p1_metro_20.dat\", αcut_poset(poset_mn, 0.95))\n",
    "#;./script.wl figs/poset0p1_univ.dat"
   ]
  },
  {
   "cell_type": "code",
   "execution_count": 34,
   "metadata": {},
   "outputs": [],
   "source": [
    "writedlm(\"figs/posetm2_metro_20.dat\", poset_m2|> pareja_matrizadyacencia)\n",
    "#;./script.wl figs/poset0p1_univ.dat"
   ]
  },
  {
   "cell_type": "code",
   "execution_count": 35,
   "metadata": {},
   "outputs": [
    {
     "name": "stdout",
     "output_type": "stream",
     "text": [
      "figs/posetm2_metro_20.png\n"
     ]
    }
   ],
   "source": [
    ";./script.wl figs/posetm2_metro_20.dat"
   ]
  },
  {
   "cell_type": "markdown",
   "metadata": {},
   "source": [
    "![ejemplo](figs/posetm2_metro_20.png)"
   ]
  },
  {
   "cell_type": "markdown",
   "metadata": {},
   "source": [
    "La grafica de abajo no me gusta porque muestra que el fuzzy y los cortes $\\alpha$ eliminan mucha informacion."
   ]
  },
  {
   "cell_type": "markdown",
   "metadata": {},
   "source": [
    "![ejemplo](figs/poset0p1_metro.png)"
   ]
  },
  {
   "cell_type": "markdown",
   "metadata": {},
   "source": [
    "$$\n",
    "\\mathrm{SH}(\\tilde x, \\tilde y) =\n",
    "\\left\\{\\begin{array}{ll}\n",
    "\\frac{\\sum_{i} \\min \\left\\{p_{i}(x), p_{i}(y)\\right\\}}{\\sum_{i} p_{i}(x)} & \\text { if } \\sum_{i} p_{i}(x) \\neq 0 \\\\\n",
    "1 & \\text { otherwise }\n",
    "\\end{array}\\right.\n",
    "$$"
   ]
  },
  {
   "cell_type": "code",
   "execution_count": 12,
   "metadata": {},
   "outputs": [],
   "source": [
    "writedlm(\"figs/poset0p55_metro_20.dat\", αcut_poset(poset_mn, .5))"
   ]
  },
  {
   "cell_type": "code",
   "execution_count": 13,
   "metadata": {},
   "outputs": [
    {
     "name": "stdout",
     "output_type": "stream",
     "text": [
      "figs/poset0p55_metro_20.png\n"
     ]
    }
   ],
   "source": [
    ";./ninjaSexual.wl figs/poset0p55_metro_20.dat"
   ]
  },
  {
   "cell_type": "markdown",
   "metadata": {},
   "source": [
    "![ejemplo](figs/poset0p55_metro_20.png)"
   ]
  },
  {
   "cell_type": "code",
   "execution_count": 14,
   "metadata": {},
   "outputs": [],
   "source": [
    "writedlm(\"figs/poset0p35_metro_20.dat\", αcut_poset(poset_mn, .35))"
   ]
  },
  {
   "cell_type": "code",
   "execution_count": 15,
   "metadata": {},
   "outputs": [
    {
     "name": "stdout",
     "output_type": "stream",
     "text": [
      "figs/poset0p35_metro_20.png\n"
     ]
    }
   ],
   "source": [
    ";./ninjaSexual.wl figs/poset0p35_metro_20.dat"
   ]
  },
  {
   "cell_type": "markdown",
   "metadata": {},
   "source": [
    "![ejemplo](figs/poset0p35_metro_20.png)"
   ]
  },
  {
   "cell_type": "code",
   "execution_count": 16,
   "metadata": {},
   "outputs": [],
   "source": [
    "writedlm(\"figs/poset0p10_metro_20.dat\", αcut_poset(poset_mn, .1))"
   ]
  },
  {
   "cell_type": "code",
   "execution_count": 17,
   "metadata": {},
   "outputs": [
    {
     "name": "stdout",
     "output_type": "stream",
     "text": [
      "figs/poset0p10_metro_20.png\n"
     ]
    }
   ],
   "source": [
    ";./ninjaSexual.wl figs/poset0p10_metro_20.dat"
   ]
  },
  {
   "cell_type": "markdown",
   "metadata": {},
   "source": [
    "![ejemplo](figs/poset0p10_metro_20.png)"
   ]
  },
  {
   "cell_type": "markdown",
   "metadata": {},
   "source": [
    "#### cosas viejas"
   ]
  },
  {
   "cell_type": "code",
   "execution_count": null,
   "metadata": {},
   "outputs": [],
   "source": [
    "writedlm(\"/home/david/poset0p1_univ.dat\", αcut_poset(poset_mn, .1))"
   ]
  },
  {
   "cell_type": "code",
   "execution_count": null,
   "metadata": {},
   "outputs": [],
   "source": [
    "writedlm(\"/home/david/poset0p5_univ.dat\", αcut_poset(poset_mn, .5))"
   ]
  },
  {
   "cell_type": "code",
   "execution_count": null,
   "metadata": {},
   "outputs": [],
   "source": [
    "writedlm(\"/home/david/poset0p7_univ.dat\", αcut_poset(poset_mn, .7))"
   ]
  },
  {
   "cell_type": "code",
   "execution_count": null,
   "metadata": {},
   "outputs": [],
   "source": [
    "writedlm(\"/home/david/poset0p95_univ.dat\", αcut_poset(poset_mn, .95))"
   ]
  },
  {
   "cell_type": "code",
   "execution_count": null,
   "metadata": {},
   "outputs": [],
   "source": [
    "writedlm(\"/home/david/poset0p97_univ.dat\", αcut_poset(poset_mn, .97))"
   ]
  },
  {
   "cell_type": "markdown",
   "metadata": {},
   "source": [
    "## Puntuaciones $1/n$"
   ]
  },
  {
   "cell_type": "code",
   "execution_count": 23,
   "metadata": {},
   "outputs": [
    {
     "data": {
      "text/plain": [
       "365-element Array{Array{Int64,1},1}:\n",
       " [7, 2, 11, 10, 13, 1, 3, 19, 20, 8, 4, 12, 18, 14, 17, 5, 15, 6, 16, 9]\n",
       " [2, 11, 7, 13, 19, 10, 1, 3, 4, 18, 8, 12, 20, 17, 5, 14, 15, 6, 16, 9]\n",
       " [11, 7, 2, 10, 13, 19, 3, 4, 1, 20, 8, 18, 12, 17, 14, 9, 15, 5, 16, 6]\n",
       " [2, 11, 7, 3, 13, 8, 1, 19, 4, 14, 18, 5, 12, 17, 10, 15, 16, 20, 9, 6]\n",
       " [2, 11, 8, 7, 10, 3, 13, 18, 14, 1, 19, 4, 20, 17, 5, 15, 6, 12, 9, 16]\n",
       " [2, 11, 1, 7, 13, 10, 19, 3, 4, 20, 18, 12, 8, 17, 5, 14, 15, 16, 6, 9]\n",
       " [2, 11, 7, 13, 8, 19, 1, 18, 3, 4, 5, 14, 10, 15, 16, 17, 12, 20, 9, 6]\n",
       " [11, 7, 2, 13, 3, 19, 4, 8, 1, 10, 18, 5, 17, 14, 12, 15, 16, 20, 9, 6]\n",
       " [19, 7, 11, 2, 13, 8, 20, 3, 4, 18, 12, 1, 5, 14, 10, 17, 15, 16, 9, 6]\n",
       " [11, 7, 2, 13, 19, 8, 1, 3, 12, 18, 4, 10, 14, 17, 5, 15, 16, 20, 6, 9]\n",
       " [11, 7, 10, 13, 2, 19, 20, 3, 1, 4, 12, 8, 18, 17, 14, 15, 5, 9, 6, 16]\n",
       " [19, 11, 2, 7, 10, 13, 3, 20, 8, 1, 4, 18, 17, 12, 5, 14, 15, 6, 16, 9]\n",
       " [2, 11, 10, 7, 13, 1, 3, 19, 20, 4, 8, 12, 18, 17, 14, 5, 15, 16, 6, 9]\n",
       " ⋮\n",
       " [2, 11, 7, 13, 18, 8, 19, 14, 3, 1, 4, 20, 5, 10, 15, 12, 16, 17, 6, 9]\n",
       " [7, 11, 2, 13, 10, 19, 3, 1, 8, 18, 4, 12, 20, 17, 14, 5, 15, 16, 6, 9]\n",
       " [11, 2, 7, 19, 13, 8, 1, 18, 3, 14, 4, 12, 15, 5, 10, 16, 17, 6, 20, 9]\n",
       " [11, 7, 13, 19, 2, 20, 1, 3, 10, 4, 8, 12, 18, 5, 14, 17, 15, 6, 16, 9]\n",
       " [11, 1, 10, 7, 13, 2, 19, 3, 4, 20, 12, 8, 14, 17, 5, 18, 15, 6, 16, 9]\n",
       " [11, 7, 2, 8, 1, 13, 19, 18, 3, 4, 5, 17, 20, 10, 14, 15, 16, 12, 9, 6]\n",
       " [2, 7, 11, 13, 18, 3, 14, 8, 19, 1, 4, 12, 17, 10, 5, 20, 15, 16, 6, 9]\n",
       " [7, 13, 11, 2, 19, 10, 20, 1, 3, 4, 8, 12, 5, 14, 18, 15, 17, 6, 16, 9]\n",
       " [11, 7, 2, 10, 13, 19, 3, 4, 1, 8, 12, 18, 20, 17, 14, 5, 15, 16, 6, 9]\n",
       " [11, 10, 2, 7, 13, 3, 19, 1, 20, 8, 4, 14, 5, 18, 15, 17, 12, 16, 6, 9]\n",
       " [2, 7, 13, 8, 11, 3, 19, 4, 1, 18, 12, 10, 5, 14, 17, 15, 16, 20, 9, 6]\n",
       " [11, 7, 13, 2, 10, 19, 1, 3, 4, 8, 20, 12, 18, 5, 17, 14, 15, 16, 9, 6]"
      ]
     },
     "execution_count": 23,
     "metadata": {},
     "output_type": "execute_result"
    }
   ],
   "source": [
    "ranks_univs = [sortperm(puntuaciones[:,x], rev = true) for x in 1:365]"
   ]
  },
  {
   "cell_type": "code",
   "execution_count": 55,
   "metadata": {},
   "outputs": [
    {
     "data": {
      "text/plain": [
       "72×14 Array{Float64,2}:\n",
       " 0.0138889  0.0144928  0.0142857  …  0.0153846  0.0153846  0.0147059\n",
       " 0.0212766  0.0147059  0.0147059     0.015873   0.015625   0.0163934\n",
       " 0.0181818  0.0175439  0.0196078     0.0175439  0.0178571  0.0169492\n",
       " 0.0833333  0.0833333  0.0833333     0.0769231  0.0769231  0.0769231\n",
       " 0.1        0.111111   0.142857      0.125      0.125      0.111111\n",
       " 0.333333   0.166667   0.166667   …  0.142857   0.142857   0.125\n",
       " 0.0322581  0.0333333  0.0322581     0.0333333  0.0333333  0.0416667\n",
       " 1.0        1.0        1.0           1.0        1.0        1.0\n",
       " 0.0163934  0.0151515  0.0144928     0.0185185  0.0196078  0.0217391\n",
       " 0.027027   0.0227273  0.0238095     0.0227273  0.0227273  0.0238095\n",
       " 0.0344828  0.047619   0.047619   …  0.04       0.04       0.0322581\n",
       " 0.015625   0.0172414  0.015873      0.0149254  0.0149254  0.0142857\n",
       " 0.0144928  0.0142857  0.0140845     0.0138889  0.0138889  0.0151515\n",
       " ⋮                                ⋱                        \n",
       " 0.0555556  0.0555556  0.0588235  …  0.0588235  0.0555556  0.0588235\n",
       " 0.0625     0.0588235  0.0625        0.0625     0.0625     0.0625\n",
       " 0.0666667  0.0625     0.0666667     0.0666667  0.0666667  0.0666667\n",
       " 0.0714286  0.0666667  0.0714286     0.0714286  0.0714286  0.0714286\n",
       " 0.0769231  0.0769231  0.0769231     0.0833333  0.0833333  0.0833333\n",
       " 0.0909091  0.1        0.1        …  0.111111   0.1        0.1\n",
       " 0.111111   0.125      0.111111      0.1        0.111111   0.142857\n",
       " 0.2        0.25       0.25          0.2        0.2        0.25\n",
       " 0.25       0.333333   0.5           0.25       0.25       0.333333\n",
       " 0.03125    0.027027   0.025641      0.0204082  0.0204082  0.0185185\n",
       " 0.0454545  0.037037   0.037037   …  0.0322581  0.0322581  0.0434783\n",
       " 0.125      0.0909091  0.0909091     0.0909091  0.0909091  0.0909091"
      ]
     },
     "execution_count": 55,
     "metadata": {},
     "output_type": "execute_result"
    }
   ],
   "source": [
    "puntuaciones_preposet = mn(ranks_univs)"
   ]
  },
  {
   "cell_type": "code",
   "execution_count": 56,
   "metadata": {},
   "outputs": [
    {
     "data": {
      "text/plain": [
       "72×72 Array{Float64,2}:\n",
       " 1.0       0.907288  0.799924  0.182663  …  0.638782  0.406928  0.157697\n",
       " 1.0       1.0       0.869652  0.201329     0.704056  0.44851   0.173812\n",
       " 1.0       0.986375  1.0       0.228351     0.798553  0.508708  0.19714\n",
       " 1.0       1.0       1.0       1.0          1.0       1.0       0.863322\n",
       " 1.0       1.0       1.0       1.0          1.0       1.0       0.98087\n",
       " 1.0       1.0       1.0       1.0       …  1.0       1.0       1.0\n",
       " 1.0       1.0       1.0       0.406038     1.0       0.89818   0.350541\n",
       " 1.0       1.0       1.0       1.0          1.0       1.0       1.0\n",
       " 0.998966  0.960359  0.870929  0.205539     0.708795  0.457888  0.177446\n",
       " 1.0       1.0       1.0       0.286496     0.923713  0.63824   0.247338\n",
       " 1.0       1.0       1.0       0.521261  …  1.0       0.95618   0.450016\n",
       " 0.991207  0.932999  0.83968   0.191742     0.670529  0.427152  0.165535\n",
       " 0.957991  0.873794  0.770394  0.17592      0.6152    0.391905  0.151876\n",
       " ⋮                                       ⋱            ⋮         \n",
       " 1.0       1.0       1.0       0.721257  …  1.0       1.0       0.622677\n",
       " 1.0       1.0       1.0       0.772309     1.0       1.0       0.666752\n",
       " 1.0       1.0       1.0       0.82358      1.0       1.0       0.711014\n",
       " 1.0       1.0       1.0       0.882143     1.0       1.0       0.761573\n",
       " 1.0       1.0       1.0       0.954545     1.0       1.0       0.853512\n",
       " 1.0       1.0       1.0       1.0       …  1.0       1.0       0.973913\n",
       " 1.0       1.0       1.0       1.0          1.0       1.0       0.989372\n",
       " 1.0       1.0       1.0       1.0          1.0       1.0       1.0\n",
       " 1.0       1.0       1.0       1.0          1.0       1.0       1.0\n",
       " 1.0       1.0       1.0       0.285956     1.0       0.637037  0.246872\n",
       " 1.0       1.0       1.0       0.448884  …  1.0       1.0       0.387531\n",
       " 1.0       1.0       1.0       1.0          1.0       1.0       1.0"
      ]
     },
     "execution_count": 56,
     "metadata": {},
     "output_type": "execute_result"
    }
   ],
   "source": [
    "poset_mn_old = puntuaciones_preposet |> fuzzy"
   ]
  },
  {
   "cell_type": "code",
   "execution_count": 60,
   "metadata": {},
   "outputs": [],
   "source": [
    "writedlm(\"figs/poset0p95_univ_o.dat\", αcut_poset(poset_mn_old, .95))"
   ]
  },
  {
   "cell_type": "code",
   "execution_count": 61,
   "metadata": {
    "scrolled": true
   },
   "outputs": [
    {
     "name": "stdout",
     "output_type": "stream",
     "text": [
      "figs/poset0p95_univ_o.png\n"
     ]
    }
   ],
   "source": [
    ";./script.wl figs/poset0p95_univ_o.dat"
   ]
  },
  {
   "cell_type": "markdown",
   "metadata": {},
   "source": [
    "![ejemplo](figs/poset0p95_univ_o.png)"
   ]
  },
  {
   "cell_type": "code",
   "execution_count": 64,
   "metadata": {},
   "outputs": [],
   "source": [
    "writedlm(\"figs/poset0p55_univx_o.dat\", αcut_poset(poset_mn_old, .55))"
   ]
  },
  {
   "cell_type": "code",
   "execution_count": 65,
   "metadata": {
    "scrolled": false
   },
   "outputs": [
    {
     "name": "stdout",
     "output_type": "stream",
     "text": [
      "figs/poset0p55_univx_o.png\n"
     ]
    }
   ],
   "source": [
    ";./script.wl figs/poset0p55_univx_o.dat"
   ]
  },
  {
   "cell_type": "markdown",
   "metadata": {},
   "source": [
    "![ejemplo](figs/poset0p55_univx_o.png)"
   ]
  },
  {
   "cell_type": "markdown",
   "metadata": {},
   "source": [
    "# Poset $m^2$ y $m^3$"
   ]
  },
  {
   "cell_type": "code",
   "execution_count": 16,
   "metadata": {},
   "outputs": [
    {
     "data": {
      "text/plain": [
       "(72, 14)"
      ]
     },
     "execution_count": 16,
     "metadata": {},
     "output_type": "execute_result"
    }
   ],
   "source": [
    "puntuaciones |> size"
   ]
  },
  {
   "cell_type": "code",
   "execution_count": 17,
   "metadata": {},
   "outputs": [],
   "source": [
    "poset_m3 = puntuaciones |> m3;"
   ]
  },
  {
   "cell_type": "code",
   "execution_count": 18,
   "metadata": {},
   "outputs": [
    {
     "data": {
      "text/plain": [
       "72×72 Array{Int64,2}:\n",
       " 0  0  0  0  0  0  0  0  0  0  0  0  1  …  0  0  0  0  0  0  0  0  0  0  0  0\n",
       " 1  0  0  0  0  0  0  0  0  0  0  1  1     0  0  0  0  0  0  0  0  0  0  0  0\n",
       " 1  0  0  0  0  0  0  0  0  0  0  1  1     0  0  0  0  0  0  0  0  0  0  0  0\n",
       " 1  1  1  0  0  0  1  0  1  1  1  1  1     1  1  1  1  0  0  0  0  0  1  1  0\n",
       " 1  1  1  1  0  0  1  0  1  1  1  1  1     1  1  1  1  1  1  0  0  0  1  1  1\n",
       " 1  1  1  1  1  0  1  0  1  1  1  1  1  …  1  1  1  1  1  1  1  0  0  1  1  1\n",
       " 1  1  1  0  0  0  0  0  1  1  0  1  1     0  0  0  0  0  0  0  0  0  1  0  0\n",
       " 1  1  1  1  1  1  1  0  1  1  1  1  1     1  1  1  1  1  1  1  1  1  1  1  1\n",
       " 1  0  0  0  0  0  0  0  0  0  0  0  1     0  0  0  0  0  0  0  0  0  0  0  0\n",
       " 1  1  1  0  0  0  0  0  1  0  0  1  1     0  0  0  0  0  0  0  0  0  0  0  0\n",
       " 1  1  1  0  0  0  1  0  1  1  0  1  1  …  0  0  0  0  0  0  0  0  0  1  0  0\n",
       " 1  0  0  0  0  0  0  0  0  0  0  0  1     0  0  0  0  0  0  0  0  0  0  0  0\n",
       " 0  0  0  0  0  0  0  0  0  0  0  0  0     0  0  0  0  0  0  0  0  0  0  0  0\n",
       " ⋮              ⋮              ⋮        ⋱  ⋮              ⋮              ⋮  \n",
       " 1  1  1  0  0  0  1  0  1  1  1  1  1  …  0  0  0  0  0  0  0  0  0  1  1  0\n",
       " 1  1  1  0  0  0  1  0  1  1  1  1  1     1  0  0  0  0  0  0  0  0  1  1  0\n",
       " 1  1  1  0  0  0  1  0  1  1  1  1  1     1  1  0  0  0  0  0  0  0  1  1  0\n",
       " 1  1  1  0  0  0  1  0  1  1  1  1  1     1  1  1  0  0  0  0  0  0  1  1  0\n",
       " 1  1  1  0  0  0  1  0  1  1  1  1  1     1  1  1  1  0  0  0  0  0  1  1  0\n",
       " 1  1  1  1  0  0  1  0  1  1  1  1  1  …  1  1  1  1  1  0  0  0  0  1  1  0\n",
       " 1  1  1  1  0  0  1  0  1  1  1  1  1     1  1  1  1  1  1  0  0  0  1  1  1\n",
       " 1  1  1  1  1  0  1  0  1  1  1  1  1     1  1  1  1  1  1  1  0  0  1  1  1\n",
       " 1  1  1  1  1  0  1  0  1  1  1  1  1     1  1  1  1  1  1  1  1  0  1  1  1\n",
       " 1  1  1  0  0  0  0  0  1  0  0  1  1     0  0  0  0  0  0  0  0  0  0  0  0\n",
       " 1  1  1  0  0  0  1  0  1  1  0  1  1  …  0  0  0  0  0  0  0  0  0  1  0  0\n",
       " 1  1  1  1  0  0  1  0  1  1  1  1  1     1  1  1  1  1  0  0  0  0  1  1  0"
      ]
     },
     "execution_count": 18,
     "metadata": {},
     "output_type": "execute_result"
    }
   ],
   "source": [
    "poset_m3 |> pareja_matrizadyacencia"
   ]
  },
  {
   "cell_type": "code",
   "execution_count": 9,
   "metadata": {},
   "outputs": [],
   "source": [
    "poset_m2 = puntuaciones |> m2;"
   ]
  },
  {
   "cell_type": "code",
   "execution_count": 37,
   "metadata": {},
   "outputs": [
    {
     "data": {
      "text/plain": [
       "72×72 Array{Int64,2}:\n",
       " 0  0  0  0  0  0  0  0  0  0  0  0  1  …  0  0  0  0  0  0  0  0  0  0  0  0\n",
       " 1  0  0  0  0  0  0  0  1  0  0  1  1     0  0  0  0  0  0  0  0  0  0  0  0\n",
       " 1  0  0  0  0  0  0  0  0  0  0  1  1     0  0  0  0  0  0  0  0  0  0  0  0\n",
       " 1  1  1  0  0  0  1  0  1  1  1  1  1     1  1  1  1  0  0  0  0  0  1  1  0\n",
       " 1  1  1  1  0  0  1  0  1  1  1  1  1     1  1  1  1  1  1  0  0  0  1  1  1\n",
       " 1  1  1  1  1  0  1  0  1  1  1  1  1  …  1  1  1  1  1  1  1  0  0  1  1  1\n",
       " 1  1  1  0  0  0  0  0  1  1  0  1  1     0  0  0  0  0  0  0  0  0  1  0  0\n",
       " 1  1  1  1  1  1  1  0  1  1  1  1  1     1  1  1  1  1  1  1  1  1  1  1  1\n",
       " 1  0  0  0  0  0  0  0  0  0  0  0  1     0  0  0  0  0  0  0  0  0  0  0  0\n",
       " 1  1  1  0  0  0  0  0  1  0  0  1  1     0  0  0  0  0  0  0  0  0  0  0  0\n",
       " 1  1  1  0  0  0  1  0  1  1  0  1  1  …  0  0  0  0  0  0  0  0  0  1  0  0\n",
       " 1  0  0  0  0  0  0  0  0  0  0  0  1     0  0  0  0  0  0  0  0  0  0  0  0\n",
       " 0  0  0  0  0  0  0  0  0  0  0  0  0     0  0  0  0  0  0  0  0  0  0  0  0\n",
       " ⋮              ⋮              ⋮        ⋱  ⋮              ⋮              ⋮  \n",
       " 1  1  1  0  0  0  1  0  1  1  1  1  1  …  0  0  0  0  0  0  0  0  0  1  1  0\n",
       " 1  1  1  0  0  0  1  0  1  1  1  1  1     1  0  0  0  0  0  0  0  0  1  1  0\n",
       " 1  1  1  0  0  0  1  0  1  1  1  1  1     1  1  0  0  0  0  0  0  0  1  1  0\n",
       " 1  1  1  0  0  0  1  0  1  1  1  1  1     1  1  1  0  0  0  0  0  0  1  1  0\n",
       " 1  1  1  0  0  0  1  0  1  1  1  1  1     1  1  1  1  0  0  0  0  0  1  1  0\n",
       " 1  1  1  1  0  0  1  0  1  1  1  1  1  …  1  1  1  1  1  0  0  0  0  1  1  0\n",
       " 1  1  1  1  0  0  1  0  1  1  1  1  1     1  1  1  1  1  1  0  0  0  1  1  1\n",
       " 1  1  1  1  1  0  1  0  1  1  1  1  1     1  1  1  1  1  1  1  0  0  1  1  1\n",
       " 1  1  1  1  1  0  1  0  1  1  1  1  1     1  1  1  1  1  1  1  1  0  1  1  1\n",
       " 1  1  1  0  0  0  0  0  1  0  0  1  1     0  0  0  0  0  0  0  0  0  0  0  0\n",
       " 1  1  1  0  0  0  1  0  1  1  0  1  1  …  0  0  0  0  0  0  0  0  0  1  0  0\n",
       " 1  1  1  1  0  0  1  0  1  1  1  1  1     1  1  1  1  1  0  0  0  0  1  1  0"
      ]
     },
     "execution_count": 37,
     "metadata": {},
     "output_type": "execute_result"
    }
   ],
   "source": [
    "poset_m2 |> pareja_matrizadyacencia"
   ]
  },
  {
   "cell_type": "code",
   "execution_count": 19,
   "metadata": {},
   "outputs": [],
   "source": [
    "writedlm(\"figs/posetm3_univ.dat\", poset_m3 |> pareja_matrizadyacencia)"
   ]
  },
  {
   "cell_type": "code",
   "execution_count": 20,
   "metadata": {},
   "outputs": [
    {
     "name": "stdout",
     "output_type": "stream",
     "text": [
      "figs/posetm3_univ.png\n"
     ]
    }
   ],
   "source": [
    ";./script.wl figs/posetm3_univ.dat"
   ]
  },
  {
   "cell_type": "markdown",
   "metadata": {},
   "source": [
    "![ejemplo](figs/poset0p95_univ.png)"
   ]
  },
  {
   "cell_type": "markdown",
   "metadata": {},
   "source": [
    "![ejemplo](figs/posetm3_univ.png)"
   ]
  },
  {
   "cell_type": "code",
   "execution_count": 38,
   "metadata": {},
   "outputs": [],
   "source": [
    "writedlm(\"figs/posetm2_univ.dat\", poset_m2 |> pareja_matrizadyacencia)"
   ]
  },
  {
   "cell_type": "code",
   "execution_count": 39,
   "metadata": {},
   "outputs": [
    {
     "name": "stdout",
     "output_type": "stream",
     "text": [
      "figs/posetm2_univ.png\n"
     ]
    }
   ],
   "source": [
    ";./script.wl figs/posetm2_univ.dat"
   ]
  },
  {
   "cell_type": "markdown",
   "metadata": {},
   "source": [
    "![ejemplo](figs/posetm2_univ.png)"
   ]
  },
  {
   "cell_type": "code",
   "execution_count": null,
   "metadata": {},
   "outputs": [],
   "source": [
    "writedlm(\"/home/david/poset0p97_univ_.dat\", αcut_poset(poset_m3 |> fuzzy, .97))"
   ]
  },
  {
   "cell_type": "code",
   "execution_count": null,
   "metadata": {},
   "outputs": [],
   "source": [
    "writedlm(\"/home/david/poset0p85_univ_.dat\", αcut_poset(poset_m3 |> fuzzy, .85))"
   ]
  },
  {
   "cell_type": "code",
   "execution_count": null,
   "metadata": {},
   "outputs": [],
   "source": [
    "writedlm(\"/home/david/poset0p70_univ_.dat\", αcut_poset(poset_m3 |> fuzzy, .70))"
   ]
  },
  {
   "cell_type": "markdown",
   "metadata": {},
   "source": [
    "## Entropia"
   ]
  },
  {
   "cell_type": "markdown",
   "metadata": {},
   "source": [
    "La entropia $R(A)$ se define a continuacion.\n",
    "$$\n",
    "R_{1}(A)=\\frac{\\sum\\!\\operatorname{Count}\\left(A \\cap A^{c}\\right)}{\\sum\\!\\operatorname{Count}\\left(A \\cup A^{c}\\right)}\n",
    "$$\n",
    "Notar que no es una definicion _probabilistica_. Esta entropia cuantifica que tan borroso es el poset.\n",
    "\n",
    "El valor maximo de la entropia para un poset borroso de $n$ nodos es\n",
    "$$\n",
    "R_{\\max} = \n",
    "\\frac{n(n-1)}{n^2 + n} = \\frac{n-1}{n+1}.\n",
    "$$"
   ]
  },
  {
   "cell_type": "code",
   "execution_count": 10,
   "metadata": {},
   "outputs": [],
   "source": [
    "poset_m3 = puntuaciones |> m3;"
   ]
  },
  {
   "cell_type": "code",
   "execution_count": 11,
   "metadata": {},
   "outputs": [],
   "source": [
    "poset_m2 = puntuaciones |> m2;"
   ]
  },
  {
   "cell_type": "code",
   "execution_count": 12,
   "metadata": {},
   "outputs": [
    {
     "data": {
      "text/plain": [
       "13-element Array{Float64,1}:\n",
       " NaN\n",
       "   0.1371001901302067\n",
       "   0.1424805026360095\n",
       "   0.14455006959320268\n",
       "   0.1456363237325207\n",
       "   0.1475103175100581\n",
       "   0.14656112002600713\n",
       "   0.14570979538976409\n",
       "   0.14557250822956175\n",
       "   0.1468912085201888\n",
       "   0.1464922338775181\n",
       "   0.14730969162943783\n",
       "   0.14679438231231473"
      ]
     },
     "execution_count": 12,
     "metadata": {},
     "output_type": "execute_result"
    }
   ],
   "source": [
    "listaentropia = [fentropia( puntuaciones[:,1:i] |> m3 |> fuzzy ) for i in 2:14]"
   ]
  },
  {
   "cell_type": "code",
   "execution_count": 13,
   "metadata": {},
   "outputs": [
    {
     "data": {
      "text/plain": [
       "13-element Array{Float64,1}:\n",
       " NaN\n",
       "   0.13658325312210484\n",
       "   0.14687705511718363\n",
       "   0.14760787239906348\n",
       "   0.14877016162377188\n",
       "   0.1539148243689738\n",
       "   0.15507028403012363\n",
       "   0.15484631670540713\n",
       "   0.15506751600969038\n",
       "   0.15754431978867467\n",
       "   0.1573422117307628\n",
       "   0.1573422117307628\n",
       "   0.157325441532363"
      ]
     },
     "execution_count": 13,
     "metadata": {},
     "output_type": "execute_result"
    }
   ],
   "source": [
    "listaentropia_m2 = [fentropia( puntuaciones[:,1:i] |> m2 |> fuzzy ) for i in 2:14]"
   ]
  },
  {
   "cell_type": "code",
   "execution_count": 14,
   "metadata": {},
   "outputs": [
    {
     "data": {
      "image/svg+xml": [
       "<?xml version=\"1.0\" encoding=\"utf-8\"?>\n",
       "<svg xmlns=\"http://www.w3.org/2000/svg\" xmlns:xlink=\"http://www.w3.org/1999/xlink\" width=\"600\" height=\"400\" viewBox=\"0 0 2400 1600\">\n",
       "<defs>\n",
       "  <clipPath id=\"clip930\">\n",
       "    <rect x=\"0\" y=\"0\" width=\"2400\" height=\"1600\"/>\n",
       "  </clipPath>\n",
       "</defs>\n",
       "<path clip-path=\"url(#clip930)\" d=\"\n",
       "M0 1600 L2400 1600 L2400 0 L0 0  Z\n",
       "  \" fill=\"#ffffff\" fill-rule=\"evenodd\" fill-opacity=\"1\"/>\n",
       "<defs>\n",
       "  <clipPath id=\"clip931\">\n",
       "    <rect x=\"480\" y=\"0\" width=\"1681\" height=\"1600\"/>\n",
       "  </clipPath>\n",
       "</defs>\n",
       "<path clip-path=\"url(#clip930)\" d=\"\n",
       "M350.01 1397.26 L2352.76 1397.26 L2352.76 47.2441 L350.01 47.2441  Z\n",
       "  \" fill=\"#ffffff\" fill-rule=\"evenodd\" fill-opacity=\"1\"/>\n",
       "<defs>\n",
       "  <clipPath id=\"clip932\">\n",
       "    <rect x=\"350\" y=\"47\" width=\"2004\" height=\"1351\"/>\n",
       "  </clipPath>\n",
       "</defs>\n",
       "<polyline clip-path=\"url(#clip932)\" style=\"stroke:#000000; stroke-width:2; stroke-opacity:0.1; fill:none\" points=\"\n",
       "  406.692,1397.26 406.692,47.2441 \n",
       "  \"/>\n",
       "<polyline clip-path=\"url(#clip932)\" style=\"stroke:#000000; stroke-width:2; stroke-opacity:0.1; fill:none\" points=\"\n",
       "  564.14,1397.26 564.14,47.2441 \n",
       "  \"/>\n",
       "<polyline clip-path=\"url(#clip932)\" style=\"stroke:#000000; stroke-width:2; stroke-opacity:0.1; fill:none\" points=\"\n",
       "  721.589,1397.26 721.589,47.2441 \n",
       "  \"/>\n",
       "<polyline clip-path=\"url(#clip932)\" style=\"stroke:#000000; stroke-width:2; stroke-opacity:0.1; fill:none\" points=\"\n",
       "  879.037,1397.26 879.037,47.2441 \n",
       "  \"/>\n",
       "<polyline clip-path=\"url(#clip932)\" style=\"stroke:#000000; stroke-width:2; stroke-opacity:0.1; fill:none\" points=\"\n",
       "  1036.49,1397.26 1036.49,47.2441 \n",
       "  \"/>\n",
       "<polyline clip-path=\"url(#clip932)\" style=\"stroke:#000000; stroke-width:2; stroke-opacity:0.1; fill:none\" points=\"\n",
       "  1193.93,1397.26 1193.93,47.2441 \n",
       "  \"/>\n",
       "<polyline clip-path=\"url(#clip932)\" style=\"stroke:#000000; stroke-width:2; stroke-opacity:0.1; fill:none\" points=\"\n",
       "  1351.38,1397.26 1351.38,47.2441 \n",
       "  \"/>\n",
       "<polyline clip-path=\"url(#clip932)\" style=\"stroke:#000000; stroke-width:2; stroke-opacity:0.1; fill:none\" points=\"\n",
       "  1508.83,1397.26 1508.83,47.2441 \n",
       "  \"/>\n",
       "<polyline clip-path=\"url(#clip932)\" style=\"stroke:#000000; stroke-width:2; stroke-opacity:0.1; fill:none\" points=\"\n",
       "  1666.28,1397.26 1666.28,47.2441 \n",
       "  \"/>\n",
       "<polyline clip-path=\"url(#clip932)\" style=\"stroke:#000000; stroke-width:2; stroke-opacity:0.1; fill:none\" points=\"\n",
       "  1823.73,1397.26 1823.73,47.2441 \n",
       "  \"/>\n",
       "<polyline clip-path=\"url(#clip932)\" style=\"stroke:#000000; stroke-width:2; stroke-opacity:0.1; fill:none\" points=\"\n",
       "  1981.18,1397.26 1981.18,47.2441 \n",
       "  \"/>\n",
       "<polyline clip-path=\"url(#clip932)\" style=\"stroke:#000000; stroke-width:2; stroke-opacity:0.1; fill:none\" points=\"\n",
       "  2138.63,1397.26 2138.63,47.2441 \n",
       "  \"/>\n",
       "<polyline clip-path=\"url(#clip932)\" style=\"stroke:#000000; stroke-width:2; stroke-opacity:0.1; fill:none\" points=\"\n",
       "  2296.07,1397.26 2296.07,47.2441 \n",
       "  \"/>\n",
       "<polyline clip-path=\"url(#clip930)\" style=\"stroke:#000000; stroke-width:4; stroke-opacity:1; fill:none\" points=\"\n",
       "  350.01,1397.26 2352.76,1397.26 \n",
       "  \"/>\n",
       "<polyline clip-path=\"url(#clip930)\" style=\"stroke:#000000; stroke-width:4; stroke-opacity:1; fill:none\" points=\"\n",
       "  406.692,1397.26 406.692,1381.06 \n",
       "  \"/>\n",
       "<polyline clip-path=\"url(#clip930)\" style=\"stroke:#000000; stroke-width:4; stroke-opacity:1; fill:none\" points=\"\n",
       "  564.14,1397.26 564.14,1381.06 \n",
       "  \"/>\n",
       "<polyline clip-path=\"url(#clip930)\" style=\"stroke:#000000; stroke-width:4; stroke-opacity:1; fill:none\" points=\"\n",
       "  721.589,1397.26 721.589,1381.06 \n",
       "  \"/>\n",
       "<polyline clip-path=\"url(#clip930)\" style=\"stroke:#000000; stroke-width:4; stroke-opacity:1; fill:none\" points=\"\n",
       "  879.037,1397.26 879.037,1381.06 \n",
       "  \"/>\n",
       "<polyline clip-path=\"url(#clip930)\" style=\"stroke:#000000; stroke-width:4; stroke-opacity:1; fill:none\" points=\"\n",
       "  1036.49,1397.26 1036.49,1381.06 \n",
       "  \"/>\n",
       "<polyline clip-path=\"url(#clip930)\" style=\"stroke:#000000; stroke-width:4; stroke-opacity:1; fill:none\" points=\"\n",
       "  1193.93,1397.26 1193.93,1381.06 \n",
       "  \"/>\n",
       "<polyline clip-path=\"url(#clip930)\" style=\"stroke:#000000; stroke-width:4; stroke-opacity:1; fill:none\" points=\"\n",
       "  1351.38,1397.26 1351.38,1381.06 \n",
       "  \"/>\n",
       "<polyline clip-path=\"url(#clip930)\" style=\"stroke:#000000; stroke-width:4; stroke-opacity:1; fill:none\" points=\"\n",
       "  1508.83,1397.26 1508.83,1381.06 \n",
       "  \"/>\n",
       "<polyline clip-path=\"url(#clip930)\" style=\"stroke:#000000; stroke-width:4; stroke-opacity:1; fill:none\" points=\"\n",
       "  1666.28,1397.26 1666.28,1381.06 \n",
       "  \"/>\n",
       "<polyline clip-path=\"url(#clip930)\" style=\"stroke:#000000; stroke-width:4; stroke-opacity:1; fill:none\" points=\"\n",
       "  1823.73,1397.26 1823.73,1381.06 \n",
       "  \"/>\n",
       "<polyline clip-path=\"url(#clip930)\" style=\"stroke:#000000; stroke-width:4; stroke-opacity:1; fill:none\" points=\"\n",
       "  1981.18,1397.26 1981.18,1381.06 \n",
       "  \"/>\n",
       "<polyline clip-path=\"url(#clip930)\" style=\"stroke:#000000; stroke-width:4; stroke-opacity:1; fill:none\" points=\"\n",
       "  2138.63,1397.26 2138.63,1381.06 \n",
       "  \"/>\n",
       "<polyline clip-path=\"url(#clip930)\" style=\"stroke:#000000; stroke-width:4; stroke-opacity:1; fill:none\" points=\"\n",
       "  2296.07,1397.26 2296.07,1381.06 \n",
       "  \"/>\n",
       "<path clip-path=\"url(#clip930)\" d=\"M 0 0 M397.334 1482.15 L425.893 1482.15 L425.893 1489.04 L387.49 1489.04 L387.49 1482.15 Q392.149 1477.33 400.17 1469.23 Q408.231 1461.08 410.297 1458.74 Q414.226 1454.32 415.766 1451.28 Q417.346 1448.2 417.346 1445.25 Q417.346 1440.42 413.943 1437.39 Q410.581 1434.35 405.152 1434.35 Q401.304 1434.35 397.01 1435.69 Q392.757 1437.02 387.896 1439.74 L387.896 1431.47 Q392.838 1429.49 397.132 1428.47 Q401.426 1427.46 404.99 1427.46 Q414.388 1427.46 419.979 1432.16 Q425.569 1436.86 425.569 1444.72 Q425.569 1448.45 424.151 1451.81 Q422.774 1455.13 419.087 1459.67 Q418.075 1460.84 412.647 1466.47 Q407.218 1472.06 397.334 1482.15 Z\" fill=\"#000000\" fill-rule=\"evenodd\" fill-opacity=\"1\" /><path clip-path=\"url(#clip930)\" d=\"M 0 0 M571.574 1456.43 Q577.448 1457.68 580.729 1461.65 Q584.05 1465.62 584.05 1471.45 Q584.05 1480.41 577.893 1485.31 Q571.736 1490.21 560.393 1490.21 Q556.585 1490.21 552.534 1489.44 Q548.524 1488.71 544.23 1487.21 L544.23 1479.31 Q547.633 1481.3 551.684 1482.31 Q555.735 1483.32 560.15 1483.32 Q567.847 1483.32 571.857 1480.29 Q575.908 1477.25 575.908 1471.45 Q575.908 1466.11 572.141 1463.11 Q568.414 1460.07 561.73 1460.07 L554.681 1460.07 L554.681 1453.35 L562.054 1453.35 Q568.09 1453.35 571.29 1450.96 Q574.49 1448.53 574.49 1443.99 Q574.49 1439.33 571.169 1436.86 Q567.887 1434.35 561.73 1434.35 Q558.368 1434.35 554.519 1435.08 Q550.671 1435.81 546.053 1437.35 L546.053 1430.05 Q550.712 1428.76 554.762 1428.11 Q558.854 1427.46 562.459 1427.46 Q571.776 1427.46 577.204 1431.72 Q582.633 1435.93 582.633 1443.14 Q582.633 1448.16 579.757 1451.65 Q576.88 1455.09 571.574 1456.43 Z\" fill=\"#000000\" fill-rule=\"evenodd\" fill-opacity=\"1\" /><path clip-path=\"url(#clip930)\" d=\"M 0 0 M726.855 1435.69 L706.195 1467.97 L726.855 1467.97 L726.855 1435.69 M724.708 1428.56 L734.997 1428.56 L734.997 1467.97 L743.626 1467.97 L743.626 1474.78 L734.997 1474.78 L734.997 1489.04 L726.855 1489.04 L726.855 1474.78 L699.552 1474.78 L699.552 1466.88 L724.708 1428.56 Z\" fill=\"#000000\" fill-rule=\"evenodd\" fill-opacity=\"1\" /><path clip-path=\"url(#clip930)\" d=\"M 0 0 M862.024 1428.56 L894.147 1428.56 L894.147 1435.44 L869.518 1435.44 L869.518 1450.27 Q871.3 1449.66 873.083 1449.38 Q874.865 1449.05 876.647 1449.05 Q886.775 1449.05 892.689 1454.6 Q898.603 1460.15 898.603 1469.63 Q898.603 1479.39 892.527 1484.82 Q886.451 1490.21 875.392 1490.21 Q871.584 1490.21 867.614 1489.56 Q863.684 1488.91 859.472 1487.62 L859.472 1479.39 Q863.117 1481.38 867.006 1482.35 Q870.895 1483.32 875.23 1483.32 Q882.238 1483.32 886.329 1479.64 Q890.42 1475.95 890.42 1469.63 Q890.42 1463.31 886.329 1459.63 Q882.238 1455.94 875.23 1455.94 Q871.948 1455.94 868.667 1456.67 Q865.426 1457.4 862.024 1458.94 L862.024 1428.56 Z\" fill=\"#000000\" fill-rule=\"evenodd\" fill-opacity=\"1\" /><path clip-path=\"url(#clip930)\" d=\"M 0 0 M1037.19 1455.53 Q1031.69 1455.53 1028.44 1459.3 Q1025.24 1463.07 1025.24 1469.63 Q1025.24 1476.15 1028.44 1479.96 Q1031.69 1483.73 1037.19 1483.73 Q1042.7 1483.73 1045.9 1479.96 Q1049.15 1476.15 1049.15 1469.63 Q1049.15 1463.07 1045.9 1459.3 Q1042.7 1455.53 1037.19 1455.53 M1053.44 1429.89 L1053.44 1437.35 Q1050.36 1435.89 1047.2 1435.12 Q1044.08 1434.35 1041 1434.35 Q1032.9 1434.35 1028.61 1439.82 Q1024.35 1445.29 1023.75 1456.35 Q1026.14 1452.82 1029.74 1450.96 Q1033.35 1449.05 1037.68 1449.05 Q1046.8 1449.05 1052.06 1454.6 Q1057.37 1460.11 1057.37 1469.63 Q1057.37 1478.95 1051.86 1484.58 Q1046.35 1490.21 1037.19 1490.21 Q1026.7 1490.21 1021.15 1482.19 Q1015.6 1474.13 1015.6 1458.86 Q1015.6 1444.52 1022.41 1436.01 Q1029.21 1427.46 1040.68 1427.46 Q1043.76 1427.46 1046.88 1428.07 Q1050.04 1428.68 1053.44 1429.89 Z\" fill=\"#000000\" fill-rule=\"evenodd\" fill-opacity=\"1\" /><path clip-path=\"url(#clip930)\" d=\"M 0 0 M1174.49 1428.56 L1213.38 1428.56 L1213.38 1432.04 L1191.42 1489.04 L1182.88 1489.04 L1203.54 1435.44 L1174.49 1435.44 L1174.49 1428.56 Z\" fill=\"#000000\" fill-rule=\"evenodd\" fill-opacity=\"1\" /><path clip-path=\"url(#clip930)\" d=\"M 0 0 M1351.38 1460.31 Q1345.55 1460.31 1342.19 1463.43 Q1338.87 1466.55 1338.87 1472.02 Q1338.87 1477.49 1342.19 1480.61 Q1345.55 1483.73 1351.38 1483.73 Q1357.22 1483.73 1360.58 1480.61 Q1363.94 1477.45 1363.94 1472.02 Q1363.94 1466.55 1360.58 1463.43 Q1357.26 1460.31 1351.38 1460.31 M1343.2 1456.83 Q1337.93 1455.53 1334.98 1451.93 Q1332.06 1448.32 1332.06 1443.14 Q1332.06 1435.89 1337.2 1431.68 Q1342.39 1427.46 1351.38 1427.46 Q1360.42 1427.46 1365.56 1431.68 Q1370.71 1435.89 1370.71 1443.14 Q1370.71 1448.32 1367.75 1451.93 Q1364.83 1455.53 1359.61 1456.83 Q1365.52 1458.21 1368.8 1462.22 Q1372.12 1466.23 1372.12 1472.02 Q1372.12 1480.81 1366.74 1485.51 Q1361.39 1490.21 1351.38 1490.21 Q1341.38 1490.21 1335.99 1485.51 Q1330.64 1480.81 1330.64 1472.02 Q1330.64 1466.23 1333.96 1462.22 Q1337.29 1458.21 1343.2 1456.83 M1340.2 1443.91 Q1340.2 1448.61 1343.12 1451.24 Q1346.08 1453.87 1351.38 1453.87 Q1356.65 1453.87 1359.61 1451.24 Q1362.6 1448.61 1362.6 1443.91 Q1362.6 1439.21 1359.61 1436.58 Q1356.65 1433.94 1351.38 1433.94 Q1346.08 1433.94 1343.12 1436.58 Q1340.2 1439.21 1340.2 1443.91 Z\" fill=\"#000000\" fill-rule=\"evenodd\" fill-opacity=\"1\" /><path clip-path=\"url(#clip930)\" d=\"M 0 0 M1491.86 1487.78 L1491.86 1480.33 Q1494.94 1481.78 1498.1 1482.55 Q1501.26 1483.32 1504.29 1483.32 Q1512.4 1483.32 1516.65 1477.9 Q1520.94 1472.43 1521.55 1461.33 Q1519.2 1464.81 1515.6 1466.67 Q1511.99 1468.54 1507.62 1468.54 Q1498.54 1468.54 1493.24 1463.07 Q1487.97 1457.56 1487.97 1448.04 Q1487.97 1438.72 1493.48 1433.09 Q1498.99 1427.46 1508.14 1427.46 Q1518.63 1427.46 1524.14 1435.52 Q1529.69 1443.54 1529.69 1458.86 Q1529.69 1473.16 1522.89 1481.7 Q1516.12 1490.21 1504.66 1490.21 Q1501.58 1490.21 1498.42 1489.6 Q1495.26 1489 1491.86 1487.78 M1508.14 1462.14 Q1513.65 1462.14 1516.85 1458.37 Q1520.09 1454.6 1520.09 1448.04 Q1520.09 1441.52 1516.85 1437.75 Q1513.65 1433.94 1508.14 1433.94 Q1502.63 1433.94 1499.39 1437.75 Q1496.19 1441.52 1496.19 1448.04 Q1496.19 1454.6 1499.39 1458.37 Q1502.63 1462.14 1508.14 1462.14 Z\" fill=\"#000000\" fill-rule=\"evenodd\" fill-opacity=\"1\" /><path clip-path=\"url(#clip930)\" d=\"M 0 0 M1625.81 1482.15 L1639.18 1482.15 L1639.18 1436.01 L1624.64 1438.93 L1624.64 1431.47 L1639.1 1428.56 L1647.28 1428.56 L1647.28 1482.15 L1660.65 1482.15 L1660.65 1489.04 L1625.81 1489.04 L1625.81 1482.15 Z\" fill=\"#000000\" fill-rule=\"evenodd\" fill-opacity=\"1\" /><path clip-path=\"url(#clip930)\" d=\"M 0 0 M1687.02 1433.94 Q1680.7 1433.94 1677.5 1440.18 Q1674.34 1446.38 1674.34 1458.86 Q1674.34 1471.29 1677.5 1477.53 Q1680.7 1483.73 1687.02 1483.73 Q1693.38 1483.73 1696.54 1477.53 Q1699.74 1471.29 1699.74 1458.86 Q1699.74 1446.38 1696.54 1440.18 Q1693.38 1433.94 1687.02 1433.94 M1687.02 1427.46 Q1697.19 1427.46 1702.54 1435.52 Q1707.92 1443.54 1707.92 1458.86 Q1707.92 1474.13 1702.54 1482.19 Q1697.19 1490.21 1687.02 1490.21 Q1676.85 1490.21 1671.47 1482.19 Q1666.12 1474.13 1666.12 1458.86 Q1666.12 1443.54 1671.47 1435.52 Q1676.85 1427.46 1687.02 1427.46 Z\" fill=\"#000000\" fill-rule=\"evenodd\" fill-opacity=\"1\" /><path clip-path=\"url(#clip930)\" d=\"M 0 0 M1784.33 1482.15 L1797.7 1482.15 L1797.7 1436.01 L1783.16 1438.93 L1783.16 1431.47 L1797.62 1428.56 L1805.8 1428.56 L1805.8 1482.15 L1819.17 1482.15 L1819.17 1489.04 L1784.33 1489.04 L1784.33 1482.15 Z\" fill=\"#000000\" fill-rule=\"evenodd\" fill-opacity=\"1\" /><path clip-path=\"url(#clip930)\" d=\"M 0 0 M1829.46 1482.15 L1842.83 1482.15 L1842.83 1436.01 L1828.29 1438.93 L1828.29 1431.47 L1842.75 1428.56 L1850.93 1428.56 L1850.93 1482.15 L1864.3 1482.15 L1864.3 1489.04 L1829.46 1489.04 L1829.46 1482.15 Z\" fill=\"#000000\" fill-rule=\"evenodd\" fill-opacity=\"1\" /><path clip-path=\"url(#clip930)\" d=\"M 0 0 M1942.11 1482.15 L1955.47 1482.15 L1955.47 1436.01 L1940.93 1438.93 L1940.93 1431.47 L1955.39 1428.56 L1963.58 1428.56 L1963.58 1482.15 L1976.94 1482.15 L1976.94 1489.04 L1942.11 1489.04 L1942.11 1482.15 Z\" fill=\"#000000\" fill-rule=\"evenodd\" fill-opacity=\"1\" /><path clip-path=\"url(#clip930)\" d=\"M 0 0 M1992.86 1482.15 L2021.42 1482.15 L2021.42 1489.04 L1983.02 1489.04 L1983.02 1482.15 Q1987.68 1477.33 1995.7 1469.23 Q2003.76 1461.08 2005.83 1458.74 Q2009.76 1454.32 2011.3 1451.28 Q2012.88 1448.2 2012.88 1445.25 Q2012.88 1440.42 2009.47 1437.39 Q2006.11 1434.35 2000.68 1434.35 Q1996.83 1434.35 1992.54 1435.69 Q1988.29 1437.02 1983.43 1439.74 L1983.43 1431.47 Q1988.37 1429.49 1992.66 1428.47 Q1996.96 1427.46 2000.52 1427.46 Q2009.92 1427.46 2015.51 1432.16 Q2021.1 1436.86 2021.1 1444.72 Q2021.1 1448.45 2019.68 1451.81 Q2018.3 1455.13 2014.62 1459.67 Q2013.6 1460.84 2008.18 1466.47 Q2002.75 1472.06 1992.86 1482.15 Z\" fill=\"#000000\" fill-rule=\"evenodd\" fill-opacity=\"1\" /><path clip-path=\"url(#clip930)\" d=\"M 0 0 M2098.72 1482.15 L2112.09 1482.15 L2112.09 1436.01 L2097.55 1438.93 L2097.55 1431.47 L2112.01 1428.56 L2120.19 1428.56 L2120.19 1482.15 L2133.56 1482.15 L2133.56 1489.04 L2098.72 1489.04 L2098.72 1482.15 Z\" fill=\"#000000\" fill-rule=\"evenodd\" fill-opacity=\"1\" /><path clip-path=\"url(#clip930)\" d=\"M 0 0 M2167.23 1456.43 Q2173.1 1457.68 2176.38 1461.65 Q2179.7 1465.62 2179.7 1471.45 Q2179.7 1480.41 2173.54 1485.31 Q2167.39 1490.21 2156.04 1490.21 Q2152.24 1490.21 2148.19 1489.44 Q2144.18 1488.71 2139.88 1487.21 L2139.88 1479.31 Q2143.28 1481.3 2147.34 1482.31 Q2151.39 1483.32 2155.8 1483.32 Q2163.5 1483.32 2167.51 1480.29 Q2171.56 1477.25 2171.56 1471.45 Q2171.56 1466.11 2167.79 1463.11 Q2164.07 1460.07 2157.38 1460.07 L2150.33 1460.07 L2150.33 1453.35 L2157.71 1453.35 Q2163.74 1453.35 2166.94 1450.96 Q2170.14 1448.53 2170.14 1443.99 Q2170.14 1439.33 2166.82 1436.86 Q2163.54 1434.35 2157.38 1434.35 Q2154.02 1434.35 2150.17 1435.08 Q2146.32 1435.81 2141.7 1437.35 L2141.7 1430.05 Q2146.36 1428.76 2150.41 1428.11 Q2154.51 1427.46 2158.11 1427.46 Q2167.43 1427.46 2172.86 1431.72 Q2178.28 1435.93 2178.28 1443.14 Q2178.28 1448.16 2175.41 1451.65 Q2172.53 1455.09 2167.23 1456.43 Z\" fill=\"#000000\" fill-rule=\"evenodd\" fill-opacity=\"1\" /><path clip-path=\"url(#clip930)\" d=\"M 0 0 M2255.18 1482.15 L2268.55 1482.15 L2268.55 1436.01 L2254.01 1438.93 L2254.01 1431.47 L2268.47 1428.56 L2276.65 1428.56 L2276.65 1482.15 L2290.02 1482.15 L2290.02 1489.04 L2255.18 1489.04 L2255.18 1482.15 Z\" fill=\"#000000\" fill-rule=\"evenodd\" fill-opacity=\"1\" /><path clip-path=\"url(#clip930)\" d=\"M 0 0 M2321.37 1435.69 L2300.71 1467.97 L2321.37 1467.97 L2321.37 1435.69 M2319.23 1428.56 L2329.51 1428.56 L2329.51 1467.97 L2338.14 1467.97 L2338.14 1474.78 L2329.51 1474.78 L2329.51 1489.04 L2321.37 1489.04 L2321.37 1474.78 L2294.07 1474.78 L2294.07 1466.88 L2319.23 1428.56 Z\" fill=\"#000000\" fill-rule=\"evenodd\" fill-opacity=\"1\" /><path clip-path=\"url(#clip930)\" d=\"M 0 0 M1290.77 1563.66 L1290.77 1582.56 L1284.88 1582.56 L1284.88 1533.36 L1290.77 1533.36 L1290.77 1538.77 Q1292.61 1535.58 1295.41 1534.06 Q1298.25 1532.5 1302.16 1532.5 Q1308.65 1532.5 1312.7 1537.65 Q1316.77 1542.81 1316.77 1551.21 Q1316.77 1559.61 1312.7 1564.77 Q1308.65 1569.93 1302.16 1569.93 Q1298.25 1569.93 1295.41 1568.4 Q1292.61 1566.84 1290.77 1563.66 M1310.69 1551.21 Q1310.69 1544.75 1308.02 1541.09 Q1305.37 1537.4 1300.73 1537.4 Q1296.08 1537.4 1293.41 1541.09 Q1290.77 1544.75 1290.77 1551.21 Q1290.77 1557.67 1293.41 1561.36 Q1296.08 1565.03 1300.73 1565.03 Q1305.37 1565.03 1308.02 1561.36 Q1310.69 1557.67 1310.69 1551.21 Z\" fill=\"#000000\" fill-rule=\"evenodd\" fill-opacity=\"1\" /><path clip-path=\"url(#clip930)\" d=\"M 0 0 M1339.11 1551.08 Q1332.02 1551.08 1329.28 1552.71 Q1326.54 1554.33 1326.54 1558.25 Q1326.54 1561.36 1328.58 1563.21 Q1330.65 1565.03 1334.18 1565.03 Q1339.05 1565.03 1341.98 1561.59 Q1344.94 1558.12 1344.94 1552.39 L1344.94 1551.08 L1339.11 1551.08 M1350.79 1548.67 L1350.79 1569 L1344.94 1569 L1344.94 1563.59 Q1342.93 1566.84 1339.94 1568.4 Q1336.95 1569.93 1332.62 1569.93 Q1327.15 1569.93 1323.9 1566.87 Q1320.68 1563.78 1320.68 1558.63 Q1320.68 1552.61 1324.69 1549.56 Q1328.74 1546.5 1336.73 1546.5 L1344.94 1546.5 L1344.94 1545.93 Q1344.94 1541.89 1342.26 1539.69 Q1339.62 1537.46 1334.82 1537.46 Q1331.76 1537.46 1328.86 1538.19 Q1325.97 1538.93 1323.29 1540.39 L1323.29 1534.98 Q1326.51 1533.74 1329.53 1533.13 Q1332.56 1532.5 1335.42 1532.5 Q1343.16 1532.5 1346.97 1536.51 Q1350.79 1540.52 1350.79 1548.67 Z\" fill=\"#000000\" fill-rule=\"evenodd\" fill-opacity=\"1\" /><path clip-path=\"url(#clip930)\" d=\"M 0 0 M1379.66 1534.41 L1379.66 1539.94 Q1377.18 1538.67 1374.51 1538.03 Q1371.83 1537.4 1368.97 1537.4 Q1364.61 1537.4 1362.41 1538.73 Q1360.25 1540.07 1360.25 1542.75 Q1360.25 1544.78 1361.81 1545.96 Q1363.37 1547.11 1368.08 1548.16 L1370.08 1548.6 Q1376.32 1549.94 1378.93 1552.39 Q1381.57 1554.81 1381.57 1559.17 Q1381.57 1564.13 1377.63 1567.03 Q1373.71 1569.93 1366.84 1569.93 Q1363.97 1569.93 1360.85 1569.35 Q1357.76 1568.81 1354.33 1567.7 L1354.33 1561.65 Q1357.57 1563.34 1360.72 1564.2 Q1363.88 1565.03 1366.96 1565.03 Q1371.1 1565.03 1373.33 1563.62 Q1375.56 1562.19 1375.56 1559.61 Q1375.56 1557.23 1373.93 1555.95 Q1372.34 1554.68 1366.9 1553.5 L1364.86 1553.03 Q1359.42 1551.88 1357 1549.52 Q1354.58 1547.14 1354.58 1543 Q1354.58 1537.97 1358.15 1535.23 Q1361.71 1532.5 1368.27 1532.5 Q1371.51 1532.5 1374.38 1532.97 Q1377.24 1533.45 1379.66 1534.41 Z\" fill=\"#000000\" fill-rule=\"evenodd\" fill-opacity=\"1\" /><path clip-path=\"url(#clip930)\" d=\"M 0 0 M1401.53 1537.46 Q1396.82 1537.46 1394.08 1541.15 Q1391.34 1544.81 1391.34 1551.21 Q1391.34 1557.61 1394.05 1561.3 Q1396.79 1564.96 1401.53 1564.96 Q1406.21 1564.96 1408.94 1561.27 Q1411.68 1557.58 1411.68 1551.21 Q1411.68 1544.88 1408.94 1541.19 Q1406.21 1537.46 1401.53 1537.46 M1401.53 1532.5 Q1409.17 1532.5 1413.53 1537.46 Q1417.89 1542.43 1417.89 1551.21 Q1417.89 1559.96 1413.53 1564.96 Q1409.17 1569.93 1401.53 1569.93 Q1393.86 1569.93 1389.5 1564.96 Q1385.17 1559.96 1385.17 1551.21 Q1385.17 1542.43 1389.5 1537.46 Q1393.86 1532.5 1401.53 1532.5 Z\" fill=\"#000000\" fill-rule=\"evenodd\" fill-opacity=\"1\" /><polyline clip-path=\"url(#clip932)\" style=\"stroke:#000000; stroke-width:2; stroke-opacity:0.1; fill:none\" points=\"\n",
       "  350.01,1151.45 2352.76,1151.45 \n",
       "  \"/>\n",
       "<polyline clip-path=\"url(#clip932)\" style=\"stroke:#000000; stroke-width:2; stroke-opacity:0.1; fill:none\" points=\"\n",
       "  350.01,847.648 2352.76,847.648 \n",
       "  \"/>\n",
       "<polyline clip-path=\"url(#clip932)\" style=\"stroke:#000000; stroke-width:2; stroke-opacity:0.1; fill:none\" points=\"\n",
       "  350.01,543.847 2352.76,543.847 \n",
       "  \"/>\n",
       "<polyline clip-path=\"url(#clip932)\" style=\"stroke:#000000; stroke-width:2; stroke-opacity:0.1; fill:none\" points=\"\n",
       "  350.01,240.046 2352.76,240.046 \n",
       "  \"/>\n",
       "<polyline clip-path=\"url(#clip930)\" style=\"stroke:#000000; stroke-width:4; stroke-opacity:1; fill:none\" points=\"\n",
       "  350.01,1397.26 350.01,47.2441 \n",
       "  \"/>\n",
       "<polyline clip-path=\"url(#clip930)\" style=\"stroke:#000000; stroke-width:4; stroke-opacity:1; fill:none\" points=\"\n",
       "  350.01,1151.45 374.043,1151.45 \n",
       "  \"/>\n",
       "<polyline clip-path=\"url(#clip930)\" style=\"stroke:#000000; stroke-width:4; stroke-opacity:1; fill:none\" points=\"\n",
       "  350.01,847.648 374.043,847.648 \n",
       "  \"/>\n",
       "<polyline clip-path=\"url(#clip930)\" style=\"stroke:#000000; stroke-width:4; stroke-opacity:1; fill:none\" points=\"\n",
       "  350.01,543.847 374.043,543.847 \n",
       "  \"/>\n",
       "<polyline clip-path=\"url(#clip930)\" style=\"stroke:#000000; stroke-width:4; stroke-opacity:1; fill:none\" points=\"\n",
       "  350.01,240.046 374.043,240.046 \n",
       "  \"/>\n",
       "<path clip-path=\"url(#clip930)\" d=\"M 0 0 M135.163 1126.6 Q128.843 1126.6 125.643 1132.84 Q122.483 1139.03 122.483 1151.51 Q122.483 1163.95 125.643 1170.18 Q128.843 1176.38 135.163 1176.38 Q141.523 1176.38 144.682 1170.18 Q147.883 1163.95 147.883 1151.51 Q147.883 1139.03 144.682 1132.84 Q141.523 1126.6 135.163 1126.6 M135.163 1120.12 Q145.331 1120.12 150.678 1128.18 Q156.065 1136.2 156.065 1151.51 Q156.065 1166.78 150.678 1174.84 Q145.331 1182.86 135.163 1182.86 Q124.995 1182.86 119.607 1174.84 Q114.26 1166.78 114.26 1151.51 Q114.26 1136.2 119.607 1128.18 Q124.995 1120.12 135.163 1120.12 Z\" fill=\"#000000\" fill-rule=\"evenodd\" fill-opacity=\"1\" /><path clip-path=\"url(#clip930)\" d=\"M 0 0 M164.937 1171.4 L173.484 1171.4 L173.484 1181.69 L164.937 1181.69 L164.937 1171.4 Z\" fill=\"#000000\" fill-rule=\"evenodd\" fill-opacity=\"1\" /><path clip-path=\"url(#clip930)\" d=\"M 0 0 M183.774 1174.8 L197.142 1174.8 L197.142 1128.66 L182.599 1131.58 L182.599 1124.13 L197.061 1121.21 L205.243 1121.21 L205.243 1174.8 L218.611 1174.8 L218.611 1181.69 L183.774 1181.69 L183.774 1174.8 Z\" fill=\"#000000\" fill-rule=\"evenodd\" fill-opacity=\"1\" /><path clip-path=\"url(#clip930)\" d=\"M 0 0 M249.965 1128.34 L229.306 1160.62 L249.965 1160.62 L249.965 1128.34 M247.818 1121.21 L258.108 1121.21 L258.108 1160.62 L266.736 1160.62 L266.736 1167.43 L258.108 1167.43 L258.108 1181.69 L249.965 1181.69 L249.965 1167.43 L222.662 1167.43 L222.662 1159.53 L247.818 1121.21 Z\" fill=\"#000000\" fill-rule=\"evenodd\" fill-opacity=\"1\" /><path clip-path=\"url(#clip930)\" d=\"M 0 0 M293.108 1126.6 Q286.788 1126.6 283.588 1132.84 Q280.428 1139.03 280.428 1151.51 Q280.428 1163.95 283.588 1170.18 Q286.788 1176.38 293.108 1176.38 Q299.467 1176.38 302.627 1170.18 Q305.827 1163.95 305.827 1151.51 Q305.827 1139.03 302.627 1132.84 Q299.467 1126.6 293.108 1126.6 M293.108 1120.12 Q303.275 1120.12 308.623 1128.18 Q314.01 1136.2 314.01 1151.51 Q314.01 1166.78 308.623 1174.84 Q303.275 1182.86 293.108 1182.86 Q282.94 1182.86 277.552 1174.84 Q272.205 1166.78 272.205 1151.51 Q272.205 1136.2 277.552 1128.18 Q282.94 1120.12 293.108 1120.12 Z\" fill=\"#000000\" fill-rule=\"evenodd\" fill-opacity=\"1\" /><path clip-path=\"url(#clip930)\" d=\"M 0 0 M136.905 822.796 Q130.585 822.796 127.385 829.034 Q124.225 835.232 124.225 847.709 Q124.225 860.145 127.385 866.384 Q130.585 872.581 136.905 872.581 Q143.265 872.581 146.424 866.384 Q149.625 860.145 149.625 847.709 Q149.625 835.232 146.424 829.034 Q143.265 822.796 136.905 822.796 M136.905 816.314 Q147.072 816.314 152.42 824.376 Q157.807 832.397 157.807 847.709 Q157.807 862.981 152.42 871.042 Q147.072 879.063 136.905 879.063 Q126.737 879.063 121.349 871.042 Q116.002 862.981 116.002 847.709 Q116.002 832.397 121.349 824.376 Q126.737 816.314 136.905 816.314 Z\" fill=\"#000000\" fill-rule=\"evenodd\" fill-opacity=\"1\" /><path clip-path=\"url(#clip930)\" d=\"M 0 0 M166.679 867.599 L175.226 867.599 L175.226 877.888 L166.679 877.888 L166.679 867.599 Z\" fill=\"#000000\" fill-rule=\"evenodd\" fill-opacity=\"1\" /><path clip-path=\"url(#clip930)\" d=\"M 0 0 M185.516 871.002 L198.884 871.002 L198.884 824.862 L184.341 827.778 L184.341 820.325 L198.803 817.408 L206.985 817.408 L206.985 871.002 L220.353 871.002 L220.353 877.888 L185.516 877.888 L185.516 871.002 Z\" fill=\"#000000\" fill-rule=\"evenodd\" fill-opacity=\"1\" /><path clip-path=\"url(#clip930)\" d=\"M 0 0 M251.707 824.538 L231.048 856.823 L251.707 856.823 L251.707 824.538 M249.56 817.408 L259.85 817.408 L259.85 856.823 L268.478 856.823 L268.478 863.629 L259.85 863.629 L259.85 877.888 L251.707 877.888 L251.707 863.629 L224.404 863.629 L224.404 855.73 L249.56 817.408 Z\" fill=\"#000000\" fill-rule=\"evenodd\" fill-opacity=\"1\" /><path clip-path=\"url(#clip930)\" d=\"M 0 0 M277.431 817.408 L309.554 817.408 L309.554 824.295 L284.925 824.295 L284.925 839.121 Q286.707 838.513 288.49 838.23 Q290.272 837.906 292.054 837.906 Q302.182 837.906 308.096 843.455 Q314.01 849.005 314.01 858.484 Q314.01 868.247 307.934 873.675 Q301.858 879.063 290.799 879.063 Q286.991 879.063 283.021 878.415 Q279.091 877.767 274.879 876.47 L274.879 868.247 Q278.524 870.232 282.413 871.204 Q286.302 872.176 290.637 872.176 Q297.645 872.176 301.736 868.49 Q305.827 864.804 305.827 858.484 Q305.827 852.165 301.736 848.479 Q297.645 844.792 290.637 844.792 Q287.355 844.792 284.074 845.521 Q280.833 846.251 277.431 847.79 L277.431 817.408 Z\" fill=\"#000000\" fill-rule=\"evenodd\" fill-opacity=\"1\" /><path clip-path=\"url(#clip930)\" d=\"M 0 0 M137.755 518.995 Q131.436 518.995 128.236 525.233 Q125.076 531.431 125.076 543.908 Q125.076 556.344 128.236 562.582 Q131.436 568.78 137.755 568.78 Q144.115 568.78 147.275 562.582 Q150.475 556.344 150.475 543.908 Q150.475 531.431 147.275 525.233 Q144.115 518.995 137.755 518.995 M137.755 512.513 Q147.923 512.513 153.27 520.574 Q158.658 528.595 158.658 543.908 Q158.658 559.18 153.27 567.241 Q147.923 575.262 137.755 575.262 Q127.588 575.262 122.2 567.241 Q116.853 559.18 116.853 543.908 Q116.853 528.595 122.2 520.574 Q127.588 512.513 137.755 512.513 Z\" fill=\"#000000\" fill-rule=\"evenodd\" fill-opacity=\"1\" /><path clip-path=\"url(#clip930)\" d=\"M 0 0 M167.53 563.798 L176.077 563.798 L176.077 574.087 L167.53 574.087 L167.53 563.798 Z\" fill=\"#000000\" fill-rule=\"evenodd\" fill-opacity=\"1\" /><path clip-path=\"url(#clip930)\" d=\"M 0 0 M186.366 567.2 L199.734 567.2 L199.734 521.061 L185.191 523.977 L185.191 516.524 L199.653 513.607 L207.836 513.607 L207.836 567.2 L221.204 567.2 L221.204 574.087 L186.366 574.087 L186.366 567.2 Z\" fill=\"#000000\" fill-rule=\"evenodd\" fill-opacity=\"1\" /><path clip-path=\"url(#clip930)\" d=\"M 0 0 M230.157 513.607 L262.28 513.607 L262.28 520.493 L237.651 520.493 L237.651 535.32 Q239.433 534.712 241.215 534.429 Q242.998 534.104 244.78 534.104 Q254.908 534.104 260.822 539.654 Q266.736 545.204 266.736 554.683 Q266.736 564.446 260.66 569.874 Q254.583 575.262 243.525 575.262 Q239.717 575.262 235.747 574.614 Q231.817 573.965 227.604 572.669 L227.604 564.446 Q231.25 566.431 235.139 567.403 Q239.028 568.375 243.362 568.375 Q250.371 568.375 254.462 564.689 Q258.553 561.002 258.553 554.683 Q258.553 548.364 254.462 544.677 Q250.371 540.991 243.362 540.991 Q240.081 540.991 236.8 541.72 Q233.559 542.449 230.157 543.989 L230.157 513.607 Z\" fill=\"#000000\" fill-rule=\"evenodd\" fill-opacity=\"1\" /><path clip-path=\"url(#clip930)\" d=\"M 0 0 M293.108 518.995 Q286.788 518.995 283.588 525.233 Q280.428 531.431 280.428 543.908 Q280.428 556.344 283.588 562.582 Q286.788 568.78 293.108 568.78 Q299.467 568.78 302.627 562.582 Q305.827 556.344 305.827 543.908 Q305.827 531.431 302.627 525.233 Q299.467 518.995 293.108 518.995 M293.108 512.513 Q303.275 512.513 308.623 520.574 Q314.01 528.595 314.01 543.908 Q314.01 559.18 308.623 567.241 Q303.275 575.262 293.108 575.262 Q282.94 575.262 277.552 567.241 Q272.205 559.18 272.205 543.908 Q272.205 528.595 277.552 520.574 Q282.94 512.513 293.108 512.513 Z\" fill=\"#000000\" fill-rule=\"evenodd\" fill-opacity=\"1\" /><path clip-path=\"url(#clip930)\" d=\"M 0 0 M139.497 215.193 Q133.178 215.193 129.978 221.432 Q126.818 227.63 126.818 240.106 Q126.818 252.543 129.978 258.781 Q133.178 264.979 139.497 264.979 Q145.857 264.979 149.017 258.781 Q152.217 252.543 152.217 240.106 Q152.217 227.63 149.017 221.432 Q145.857 215.193 139.497 215.193 M139.497 208.712 Q149.665 208.712 155.012 216.773 Q160.4 224.794 160.4 240.106 Q160.4 255.378 155.012 263.44 Q149.665 271.46 139.497 271.46 Q129.33 271.46 123.942 263.44 Q118.595 255.378 118.595 240.106 Q118.595 224.794 123.942 216.773 Q129.33 208.712 139.497 208.712 Z\" fill=\"#000000\" fill-rule=\"evenodd\" fill-opacity=\"1\" /><path clip-path=\"url(#clip930)\" d=\"M 0 0 M169.271 259.996 L177.819 259.996 L177.819 270.286 L169.271 270.286 L169.271 259.996 Z\" fill=\"#000000\" fill-rule=\"evenodd\" fill-opacity=\"1\" /><path clip-path=\"url(#clip930)\" d=\"M 0 0 M188.108 263.399 L201.476 263.399 L201.476 217.259 L186.933 220.176 L186.933 212.722 L201.395 209.806 L209.578 209.806 L209.578 263.399 L222.946 263.399 L222.946 270.286 L188.108 270.286 L188.108 263.399 Z\" fill=\"#000000\" fill-rule=\"evenodd\" fill-opacity=\"1\" /><path clip-path=\"url(#clip930)\" d=\"M 0 0 M231.898 209.806 L264.022 209.806 L264.022 216.692 L239.393 216.692 L239.393 231.518 Q241.175 230.911 242.957 230.627 Q244.74 230.303 246.522 230.303 Q256.649 230.303 262.564 235.853 Q268.478 241.403 268.478 250.882 Q268.478 260.644 262.402 266.073 Q256.325 271.46 245.266 271.46 Q241.459 271.46 237.489 270.812 Q233.559 270.164 229.346 268.868 L229.346 260.644 Q232.992 262.629 236.881 263.602 Q240.77 264.574 245.104 264.574 Q252.112 264.574 256.204 260.888 Q260.295 257.201 260.295 250.882 Q260.295 244.562 256.204 240.876 Q252.112 237.19 245.104 237.19 Q241.823 237.19 238.542 237.919 Q235.301 238.648 231.898 240.187 L231.898 209.806 Z\" fill=\"#000000\" fill-rule=\"evenodd\" fill-opacity=\"1\" /><path clip-path=\"url(#clip930)\" d=\"M 0 0 M277.431 209.806 L309.554 209.806 L309.554 216.692 L284.925 216.692 L284.925 231.518 Q286.707 230.911 288.49 230.627 Q290.272 230.303 292.054 230.303 Q302.182 230.303 308.096 235.853 Q314.01 241.403 314.01 250.882 Q314.01 260.644 307.934 266.073 Q301.858 271.46 290.799 271.46 Q286.991 271.46 283.021 270.812 Q279.091 270.164 274.879 268.868 L274.879 260.644 Q278.524 262.629 282.413 263.602 Q286.302 264.574 290.637 264.574 Q297.645 264.574 301.736 260.888 Q305.827 257.201 305.827 250.882 Q305.827 244.562 301.736 240.876 Q297.645 237.19 290.637 237.19 Q287.355 237.19 284.074 237.919 Q280.833 238.648 277.431 240.187 L277.431 209.806 Z\" fill=\"#000000\" fill-rule=\"evenodd\" fill-opacity=\"1\" /><path clip-path=\"url(#clip930)\" d=\"M 0 0 M68.7161 808.38 L71.5806 808.38 L71.5806 835.307 Q77.6281 834.925 80.8109 831.678 Q83.9619 828.4 83.9619 822.576 Q83.9619 819.202 83.1344 816.051 Q82.3069 812.868 80.6518 809.749 L86.1899 809.749 Q87.5267 812.9 88.227 816.21 Q88.9272 819.52 88.9272 822.926 Q88.9272 831.456 83.9619 836.453 Q78.9967 841.418 70.5303 841.418 Q61.7774 841.418 56.6531 836.707 Q51.4968 831.965 51.4968 823.944 Q51.4968 816.751 56.1438 812.581 Q60.7589 808.38 68.7161 808.38 M66.9973 814.236 Q62.1912 814.3 59.3266 816.942 Q56.4621 819.552 56.4621 823.88 Q56.4621 828.782 59.2312 831.742 Q62.0002 834.67 67.0292 835.116 L66.9973 814.236 Z\" fill=\"#000000\" fill-rule=\"evenodd\" fill-opacity=\"1\" /><path clip-path=\"url(#clip930)\" d=\"M 0 0 M66.4881 772.605 L88.0042 772.605 L88.0042 778.461 L66.679 778.461 Q61.6183 778.461 59.1038 780.435 Q56.5894 782.408 56.5894 786.355 Q56.5894 791.097 59.6131 793.834 Q62.6368 796.572 67.8567 796.572 L88.0042 796.572 L88.0042 802.46 L52.3562 802.46 L52.3562 796.572 L57.8944 796.572 Q54.6797 794.471 53.0883 791.638 Q51.4968 788.774 51.4968 785.05 Q51.4968 778.907 55.3163 775.756 Q59.1038 772.605 66.4881 772.605 Z\" fill=\"#000000\" fill-rule=\"evenodd\" fill-opacity=\"1\" /><path clip-path=\"url(#clip930)\" d=\"M 0 0 M42.2347 760.669 L52.3562 760.669 L52.3562 748.606 L56.9077 748.606 L56.9077 760.669 L76.2594 760.669 Q80.6199 760.669 81.8613 759.491 Q83.1026 758.282 83.1026 754.622 L83.1026 748.606 L88.0042 748.606 L88.0042 754.622 Q88.0042 761.401 85.4897 763.979 Q82.9434 766.557 76.2594 766.557 L56.9077 766.557 L56.9077 770.854 L52.3562 770.854 L52.3562 766.557 L42.2347 766.557 L42.2347 760.669 Z\" fill=\"#000000\" fill-rule=\"evenodd\" fill-opacity=\"1\" /><path clip-path=\"url(#clip930)\" d=\"M 0 0 M57.8307 721.806 Q57.2578 722.793 57.0032 723.971 Q56.7167 725.117 56.7167 726.517 Q56.7167 731.482 59.9632 734.156 Q63.1779 736.798 69.2253 736.798 L88.0042 736.798 L88.0042 742.686 L52.3562 742.686 L52.3562 736.798 L57.8944 736.798 Q54.6479 734.952 53.0883 731.991 Q51.4968 729.031 51.4968 724.798 Q51.4968 724.194 51.5923 723.461 Q51.656 722.729 51.8151 721.838 L57.8307 721.806 Z\" fill=\"#000000\" fill-rule=\"evenodd\" fill-opacity=\"1\" /><path clip-path=\"url(#clip930)\" d=\"M 0 0 M56.4621 703.282 Q56.4621 707.993 60.1542 710.73 Q63.8145 713.467 70.212 713.467 Q76.6095 713.467 80.3017 710.762 Q83.9619 708.025 83.9619 703.282 Q83.9619 698.603 80.2698 695.866 Q76.5777 693.129 70.212 693.129 Q63.8781 693.129 60.186 695.866 Q56.4621 698.603 56.4621 703.282 M51.4968 703.282 Q51.4968 695.643 56.4621 691.283 Q61.4273 686.922 70.212 686.922 Q78.9649 686.922 83.9619 691.283 Q88.9272 695.643 88.9272 703.282 Q88.9272 710.953 83.9619 715.313 Q78.9649 719.642 70.212 719.642 Q61.4273 719.642 56.4621 715.313 Q51.4968 710.953 51.4968 703.282 Z\" fill=\"#000000\" fill-rule=\"evenodd\" fill-opacity=\"1\" /><path clip-path=\"url(#clip930)\" d=\"M 0 0 M82.657 675.114 L101.563 675.114 L101.563 681.002 L52.3562 681.002 L52.3562 675.114 L57.7671 675.114 Q54.5842 673.268 53.0564 670.467 Q51.4968 667.634 51.4968 663.719 Q51.4968 657.226 56.6531 653.184 Q61.8093 649.11 70.212 649.11 Q78.6147 649.11 83.771 653.184 Q88.9272 657.226 88.9272 663.719 Q88.9272 667.634 87.3994 670.467 Q85.8398 673.268 82.657 675.114 M70.212 655.189 Q63.7508 655.189 60.0905 657.863 Q56.3984 660.505 56.3984 665.152 Q56.3984 669.799 60.0905 672.472 Q63.7508 675.114 70.212 675.114 Q76.6732 675.114 80.3653 672.472 Q84.0256 669.799 84.0256 665.152 Q84.0256 660.505 80.3653 657.863 Q76.6732 655.189 70.212 655.189 Z\" fill=\"#000000\" fill-rule=\"evenodd\" fill-opacity=\"1\" /><path clip-path=\"url(#clip930)\" d=\"M 0 0 M52.3562 642.967 L52.3562 637.111 L88.0042 637.111 L88.0042 642.967 L52.3562 642.967 M38.479 642.967 L38.479 637.111 L45.895 637.111 L45.895 642.967 L38.479 642.967 Z\" fill=\"#000000\" fill-rule=\"evenodd\" fill-opacity=\"1\" /><path clip-path=\"url(#clip930)\" d=\"M 0 0 M70.0847 614.767 Q70.0847 621.865 71.7079 624.602 Q73.3312 627.339 77.2461 627.339 Q80.3653 627.339 82.2114 625.302 Q84.0256 623.233 84.0256 619.7 Q84.0256 614.831 80.5881 611.902 Q77.1188 608.942 71.3897 608.942 L70.0847 608.942 L70.0847 614.767 M67.6657 603.086 L88.0042 603.086 L88.0042 608.942 L82.5933 608.942 Q85.8398 610.948 87.3994 613.939 Q88.9272 616.931 88.9272 621.26 Q88.9272 626.735 85.8716 629.981 Q82.7843 633.196 77.6281 633.196 Q71.6125 633.196 68.5569 629.185 Q65.5014 625.143 65.5014 617.154 L65.5014 608.942 L64.9285 608.942 Q60.8862 608.942 58.6901 611.616 Q56.4621 614.258 56.4621 619.064 Q56.4621 622.119 57.1941 625.016 Q57.9262 627.912 59.3903 630.586 L53.9795 630.586 Q52.7381 627.371 52.1334 624.347 Q51.4968 621.324 51.4968 618.459 Q51.4968 610.725 55.5072 606.905 Q59.5176 603.086 67.6657 603.086 Z\" fill=\"#000000\" fill-rule=\"evenodd\" fill-opacity=\"1\" /><circle clip-path=\"url(#clip932)\" cx=\"564.14\" cy=\"1327.64\" r=\"14\" fill=\"#009af9\" fill-rule=\"evenodd\" fill-opacity=\"1\" stroke=\"#000000\" stroke-opacity=\"1\" stroke-width=\"3.2\"/>\n",
       "<circle clip-path=\"url(#clip932)\" cx=\"721.589\" cy=\"1000.73\" r=\"14\" fill=\"#009af9\" fill-rule=\"evenodd\" fill-opacity=\"1\" stroke=\"#000000\" stroke-opacity=\"1\" stroke-width=\"3.2\"/>\n",
       "<circle clip-path=\"url(#clip932)\" cx=\"879.037\" cy=\"874.986\" r=\"14\" fill=\"#009af9\" fill-rule=\"evenodd\" fill-opacity=\"1\" stroke=\"#000000\" stroke-opacity=\"1\" stroke-width=\"3.2\"/>\n",
       "<circle clip-path=\"url(#clip932)\" cx=\"1036.49\" cy=\"808.985\" r=\"14\" fill=\"#009af9\" fill-rule=\"evenodd\" fill-opacity=\"1\" stroke=\"#000000\" stroke-opacity=\"1\" stroke-width=\"3.2\"/>\n",
       "<circle clip-path=\"url(#clip932)\" cx=\"1193.93\" cy=\"695.121\" r=\"14\" fill=\"#009af9\" fill-rule=\"evenodd\" fill-opacity=\"1\" stroke=\"#000000\" stroke-opacity=\"1\" stroke-width=\"3.2\"/>\n",
       "<circle clip-path=\"url(#clip932)\" cx=\"1351.38\" cy=\"752.794\" r=\"14\" fill=\"#009af9\" fill-rule=\"evenodd\" fill-opacity=\"1\" stroke=\"#000000\" stroke-opacity=\"1\" stroke-width=\"3.2\"/>\n",
       "<circle clip-path=\"url(#clip932)\" cx=\"1508.83\" cy=\"804.521\" r=\"14\" fill=\"#009af9\" fill-rule=\"evenodd\" fill-opacity=\"1\" stroke=\"#000000\" stroke-opacity=\"1\" stroke-width=\"3.2\"/>\n",
       "<circle clip-path=\"url(#clip932)\" cx=\"1666.28\" cy=\"812.862\" r=\"14\" fill=\"#009af9\" fill-rule=\"evenodd\" fill-opacity=\"1\" stroke=\"#000000\" stroke-opacity=\"1\" stroke-width=\"3.2\"/>\n",
       "<circle clip-path=\"url(#clip932)\" cx=\"1823.73\" cy=\"732.738\" r=\"14\" fill=\"#009af9\" fill-rule=\"evenodd\" fill-opacity=\"1\" stroke=\"#000000\" stroke-opacity=\"1\" stroke-width=\"3.2\"/>\n",
       "<circle clip-path=\"url(#clip932)\" cx=\"1981.18\" cy=\"756.98\" r=\"14\" fill=\"#009af9\" fill-rule=\"evenodd\" fill-opacity=\"1\" stroke=\"#000000\" stroke-opacity=\"1\" stroke-width=\"3.2\"/>\n",
       "<circle clip-path=\"url(#clip932)\" cx=\"2138.63\" cy=\"707.311\" r=\"14\" fill=\"#009af9\" fill-rule=\"evenodd\" fill-opacity=\"1\" stroke=\"#000000\" stroke-opacity=\"1\" stroke-width=\"3.2\"/>\n",
       "<circle clip-path=\"url(#clip932)\" cx=\"2296.07\" cy=\"738.621\" r=\"14\" fill=\"#009af9\" fill-rule=\"evenodd\" fill-opacity=\"1\" stroke=\"#000000\" stroke-opacity=\"1\" stroke-width=\"3.2\"/>\n",
       "<circle clip-path=\"url(#clip932)\" cx=\"564.14\" cy=\"1359.05\" r=\"14\" fill=\"#e26f46\" fill-rule=\"evenodd\" fill-opacity=\"1\" stroke=\"#000000\" stroke-opacity=\"1\" stroke-width=\"3.2\"/>\n",
       "<circle clip-path=\"url(#clip932)\" cx=\"721.589\" cy=\"733.598\" r=\"14\" fill=\"#e26f46\" fill-rule=\"evenodd\" fill-opacity=\"1\" stroke=\"#000000\" stroke-opacity=\"1\" stroke-width=\"3.2\"/>\n",
       "<circle clip-path=\"url(#clip932)\" cx=\"879.037\" cy=\"689.193\" r=\"14\" fill=\"#e26f46\" fill-rule=\"evenodd\" fill-opacity=\"1\" stroke=\"#000000\" stroke-opacity=\"1\" stroke-width=\"3.2\"/>\n",
       "<circle clip-path=\"url(#clip932)\" cx=\"1036.49\" cy=\"618.572\" r=\"14\" fill=\"#e26f46\" fill-rule=\"evenodd\" fill-opacity=\"1\" stroke=\"#000000\" stroke-opacity=\"1\" stroke-width=\"3.2\"/>\n",
       "<circle clip-path=\"url(#clip932)\" cx=\"1193.93\" cy=\"305.981\" r=\"14\" fill=\"#e26f46\" fill-rule=\"evenodd\" fill-opacity=\"1\" stroke=\"#000000\" stroke-opacity=\"1\" stroke-width=\"3.2\"/>\n",
       "<circle clip-path=\"url(#clip932)\" cx=\"1351.38\" cy=\"235.775\" r=\"14\" fill=\"#e26f46\" fill-rule=\"evenodd\" fill-opacity=\"1\" stroke=\"#000000\" stroke-opacity=\"1\" stroke-width=\"3.2\"/>\n",
       "<circle clip-path=\"url(#clip932)\" cx=\"1508.83\" cy=\"249.383\" r=\"14\" fill=\"#e26f46\" fill-rule=\"evenodd\" fill-opacity=\"1\" stroke=\"#000000\" stroke-opacity=\"1\" stroke-width=\"3.2\"/>\n",
       "<circle clip-path=\"url(#clip932)\" cx=\"1666.28\" cy=\"235.943\" r=\"14\" fill=\"#e26f46\" fill-rule=\"evenodd\" fill-opacity=\"1\" stroke=\"#000000\" stroke-opacity=\"1\" stroke-width=\"3.2\"/>\n",
       "<circle clip-path=\"url(#clip932)\" cx=\"1823.73\" cy=\"85.4521\" r=\"14\" fill=\"#e26f46\" fill-rule=\"evenodd\" fill-opacity=\"1\" stroke=\"#000000\" stroke-opacity=\"1\" stroke-width=\"3.2\"/>\n",
       "<circle clip-path=\"url(#clip932)\" cx=\"1981.18\" cy=\"97.7322\" r=\"14\" fill=\"#e26f46\" fill-rule=\"evenodd\" fill-opacity=\"1\" stroke=\"#000000\" stroke-opacity=\"1\" stroke-width=\"3.2\"/>\n",
       "<circle clip-path=\"url(#clip932)\" cx=\"2138.63\" cy=\"97.7322\" r=\"14\" fill=\"#e26f46\" fill-rule=\"evenodd\" fill-opacity=\"1\" stroke=\"#000000\" stroke-opacity=\"1\" stroke-width=\"3.2\"/>\n",
       "<circle clip-path=\"url(#clip932)\" cx=\"2296.07\" cy=\"98.7512\" r=\"14\" fill=\"#e26f46\" fill-rule=\"evenodd\" fill-opacity=\"1\" stroke=\"#000000\" stroke-opacity=\"1\" stroke-width=\"3.2\"/>\n",
       "<path clip-path=\"url(#clip930)\" d=\"\n",
       "M2000.53 273.685 L2286 273.685 L2286 92.2446 L2000.53 92.2446  Z\n",
       "  \" fill=\"#ffffff\" fill-rule=\"evenodd\" fill-opacity=\"1\"/>\n",
       "<polyline clip-path=\"url(#clip930)\" style=\"stroke:#000000; stroke-width:4; stroke-opacity:1; fill:none\" points=\"\n",
       "  2000.53,273.685 2286,273.685 2286,92.2446 2000.53,92.2446 2000.53,273.685 \n",
       "  \"/>\n",
       "<path clip-path=\"url(#clip930)\" d=\"M 0 0 M2217.86 164.402 Q2217.86 164.589 2217.65 165.315 Q2217.44 166.042 2216.92 167.166 Q2216.43 168.29 2215.73 169.321 Q2215.05 170.328 2213.92 171.077 Q2212.82 171.803 2211.56 171.803 Q2209.87 171.803 2208.75 170.679 Q2207.62 169.555 2207.62 167.869 Q2207.62 166.955 2208.25 165.222 Q2211.23 157.305 2211.23 154.471 Q2211.23 151.121 2208.63 151.121 Q2207.15 151.121 2205.82 151.73 Q2204.48 152.339 2203.62 153.183 Q2202.75 154.026 2202.07 154.986 Q2201.39 155.946 2201.09 156.579 Q2200.81 157.211 2200.73 157.492 L2197.85 169.063 Q2197.62 170.047 2197.46 170.515 Q2197.29 170.984 2196.85 171.382 Q2196.4 171.803 2195.7 171.803 Q2195.11 171.803 2194.69 171.452 Q2194.29 171.101 2194.29 170.492 Q2194.29 170.398 2194.41 169.906 Q2194.53 169.414 2194.69 168.735 Q2194.86 168.056 2194.93 167.658 Q2195.77 164.472 2195.89 164.027 L2197.22 158.453 Q2197.95 155.689 2197.95 154.471 Q2197.95 151.121 2195.35 151.121 Q2194.06 151.121 2192.84 151.613 Q2191.65 152.082 2190.83 152.738 Q2190.01 153.393 2189.26 154.307 Q2188.53 155.197 2188.16 155.806 Q2187.81 156.392 2187.52 156.977 L2186.92 159.366 Q2186.78 160.022 2186.1 162.575 L2185.04 166.908 Q2184.29 170.14 2184.13 170.445 Q2183.89 171.101 2183.38 171.452 Q2182.86 171.803 2182.35 171.803 Q2181.76 171.803 2181.36 171.452 Q2180.97 171.101 2180.97 170.492 Q2180.97 170.398 2181.04 170.047 Q2181.11 169.695 2181.22 169.204 Q2181.34 168.712 2181.39 168.431 L2184.18 157.352 Q2184.69 155.338 2184.81 154.705 Q2184.95 154.049 2184.95 153.323 Q2184.95 151.121 2183.45 151.121 Q2182.23 151.121 2181.43 152.574 Q2180.64 154.026 2179.96 156.837 Q2179.75 157.609 2179.61 157.773 Q2179.49 157.937 2179.14 157.937 Q2178.55 157.914 2178.55 157.446 Q2178.55 157.328 2178.74 156.579 Q2178.93 155.829 2179.28 154.705 Q2179.65 153.557 2180.05 152.808 Q2180.29 152.316 2180.5 151.988 Q2180.71 151.66 2181.13 151.145 Q2181.55 150.63 2182.18 150.349 Q2182.82 150.067 2183.59 150.067 Q2185.3 150.067 2186.56 151.168 Q2187.85 152.269 2188.02 154.237 Q2191.13 150.067 2195.49 150.067 Q2197.95 150.067 2199.42 151.309 Q2200.81 152.503 2200.97 154.705 Q2204.2 150.067 2208.79 150.067 Q2211.44 150.067 2212.87 151.449 Q2214.3 152.808 2214.3 155.197 Q2214.3 156.438 2213.66 158.804 Q2213.03 161.146 2212.61 162.317 Q2212.19 163.489 2211.37 165.737 Q2210.5 167.892 2210.5 169.157 Q2210.5 169.977 2210.78 170.351 Q2211.06 170.726 2211.67 170.726 Q2212.61 170.726 2213.43 170.187 Q2214.25 169.625 2214.84 168.712 Q2215.44 167.775 2215.84 166.838 Q2216.24 165.878 2216.55 164.8 Q2216.73 164.215 2216.83 164.074 Q2216.94 163.934 2217.27 163.934 Q2217.86 163.934 2217.86 164.402 Z\" fill=\"#000000\" fill-rule=\"evenodd\" fill-opacity=\"1\" /><path clip-path=\"url(#clip930)\" d=\"M 0 0 M2222.58 151.49 Q2222.58 150.49 2223.15 150.015 Q2223.73 149.539 2224.47 149.539 Q2225.24 149.539 2225.78 150.048 Q2226.33 150.54 2226.33 151.409 Q2226.33 152.343 2225.68 152.868 Q2225.04 153.392 2224.12 153.261 Q2224.92 154.606 2226.4 155.212 Q2227.89 155.819 2229.27 155.819 Q2230.71 155.819 2231.88 154.573 Q2233.06 153.327 2233.06 150.277 Q2233.06 147.687 2232.04 146.195 Q2231.04 144.703 2229.06 144.703 L2227.58 144.703 Q2227.07 144.703 2226.92 144.653 Q2226.78 144.604 2226.78 144.326 Q2226.78 143.998 2227.29 143.932 Q2227.79 143.932 2228.6 143.834 Q2230.55 143.768 2231.58 142.079 Q2232.52 140.505 2232.52 138.259 Q2232.52 136.21 2231.53 135.357 Q2230.56 134.488 2229.3 134.488 Q2228.12 134.488 2226.83 134.98 Q2225.53 135.472 2224.83 136.57 Q2226.91 136.57 2226.91 138.259 Q2226.91 138.997 2226.43 139.489 Q2225.97 139.964 2225.2 139.964 Q2224.47 139.964 2223.97 139.505 Q2223.48 139.03 2223.48 138.226 Q2223.48 136.308 2225.19 134.98 Q2226.91 133.652 2229.43 133.652 Q2231.93 133.652 2233.76 134.964 Q2235.61 136.275 2235.61 138.292 Q2235.61 140.276 2234.3 141.899 Q2232.99 143.522 2230.91 144.194 Q2233.47 144.703 2234.99 146.441 Q2236.52 148.162 2236.52 150.277 Q2236.52 152.901 2234.45 154.835 Q2232.38 156.754 2229.37 156.754 Q2226.58 156.754 2224.58 155.245 Q2222.58 153.737 2222.58 151.49 Z\" fill=\"#000000\" fill-rule=\"evenodd\" fill-opacity=\"1\" /><path clip-path=\"url(#clip930)\" d=\"M 0 0 M2217.86 224.51 Q2217.86 224.698 2217.65 225.424 Q2217.44 226.15 2216.92 227.274 Q2216.43 228.398 2215.73 229.429 Q2215.05 230.436 2213.92 231.186 Q2212.82 231.912 2211.56 231.912 Q2209.87 231.912 2208.75 230.787 Q2207.62 229.663 2207.62 227.977 Q2207.62 227.063 2208.25 225.33 Q2211.23 217.413 2211.23 214.579 Q2211.23 211.23 2208.63 211.23 Q2207.15 211.23 2205.82 211.839 Q2204.48 212.448 2203.62 213.291 Q2202.75 214.134 2202.07 215.094 Q2201.39 216.055 2201.09 216.687 Q2200.81 217.319 2200.73 217.601 L2197.85 229.171 Q2197.62 230.155 2197.46 230.623 Q2197.29 231.092 2196.85 231.49 Q2196.4 231.912 2195.7 231.912 Q2195.11 231.912 2194.69 231.56 Q2194.29 231.209 2194.29 230.6 Q2194.29 230.506 2194.41 230.014 Q2194.53 229.523 2194.69 228.843 Q2194.86 228.164 2194.93 227.766 Q2195.77 224.58 2195.89 224.135 L2197.22 218.561 Q2197.95 215.797 2197.95 214.579 Q2197.95 211.23 2195.35 211.23 Q2194.06 211.23 2192.84 211.721 Q2191.65 212.19 2190.83 212.846 Q2190.01 213.502 2189.26 214.415 Q2188.53 215.305 2188.16 215.914 Q2187.81 216.5 2187.52 217.085 L2186.92 219.474 Q2186.78 220.13 2186.1 222.683 L2185.04 227.016 Q2184.29 230.249 2184.13 230.553 Q2183.89 231.209 2183.38 231.56 Q2182.86 231.912 2182.35 231.912 Q2181.76 231.912 2181.36 231.56 Q2180.97 231.209 2180.97 230.6 Q2180.97 230.506 2181.04 230.155 Q2181.11 229.804 2181.22 229.312 Q2181.34 228.82 2181.39 228.539 L2184.18 217.46 Q2184.69 215.446 2184.81 214.813 Q2184.95 214.157 2184.95 213.431 Q2184.95 211.23 2183.45 211.23 Q2182.23 211.23 2181.43 212.682 Q2180.64 214.134 2179.96 216.945 Q2179.75 217.718 2179.61 217.882 Q2179.49 218.046 2179.14 218.046 Q2178.55 218.022 2178.55 217.554 Q2178.55 217.437 2178.74 216.687 Q2178.93 215.938 2179.28 214.813 Q2179.65 213.666 2180.05 212.916 Q2180.29 212.424 2180.5 212.096 Q2180.71 211.768 2181.13 211.253 Q2181.55 210.738 2182.18 210.457 Q2182.82 210.176 2183.59 210.176 Q2185.3 210.176 2186.56 211.276 Q2187.85 212.377 2188.02 214.345 Q2191.13 210.176 2195.49 210.176 Q2197.95 210.176 2199.42 211.417 Q2200.81 212.612 2200.97 214.813 Q2204.2 210.176 2208.79 210.176 Q2211.44 210.176 2212.87 211.558 Q2214.3 212.916 2214.3 215.305 Q2214.3 216.546 2213.66 218.912 Q2213.03 221.254 2212.61 222.426 Q2212.19 223.597 2211.37 225.845 Q2210.5 228 2210.5 229.265 Q2210.5 230.085 2210.78 230.459 Q2211.06 230.834 2211.67 230.834 Q2212.61 230.834 2213.43 230.295 Q2214.25 229.733 2214.84 228.82 Q2215.44 227.883 2215.84 226.946 Q2216.24 225.986 2216.55 224.908 Q2216.73 224.323 2216.83 224.182 Q2216.94 224.042 2217.27 224.042 Q2217.86 224.042 2217.86 224.51 Z\" fill=\"#000000\" fill-rule=\"evenodd\" fill-opacity=\"1\" /><path clip-path=\"url(#clip930)\" d=\"M 0 0 M2222.58 216.868 Q2222.58 216.261 2222.63 216.081 Q2222.69 215.9 2222.96 215.622 L2229.4 208.44 Q2232.93 204.472 2232.93 201.013 Q2232.93 198.767 2231.75 197.16 Q2230.58 195.553 2228.43 195.553 Q2226.96 195.553 2225.71 196.455 Q2224.47 197.357 2223.89 198.963 Q2223.99 198.931 2224.33 198.931 Q2225.17 198.931 2225.63 199.455 Q2226.11 199.98 2226.11 200.685 Q2226.11 201.587 2225.51 202.029 Q2224.94 202.456 2224.37 202.456 Q2224.14 202.456 2223.83 202.407 Q2223.53 202.357 2223.06 201.898 Q2222.58 201.423 2222.58 200.587 Q2222.58 198.242 2224.35 196.373 Q2226.14 194.504 2228.86 194.504 Q2231.94 194.504 2233.96 196.34 Q2235.99 198.16 2235.99 201.013 Q2235.99 202.013 2235.68 202.931 Q2235.39 203.833 2234.98 204.538 Q2234.58 205.243 2233.5 206.374 Q2232.42 207.506 2231.55 208.309 Q2230.68 209.112 2228.73 210.818 L2225.17 214.277 L2231.22 214.277 Q2234.17 214.277 2234.4 214.015 Q2234.73 213.539 2235.14 211.031 L2235.99 211.031 L2235.04 216.868 L2222.58 216.868 Z\" fill=\"#000000\" fill-rule=\"evenodd\" fill-opacity=\"1\" /></svg>\n"
      ]
     },
     "execution_count": 14,
     "metadata": {},
     "output_type": "execute_result"
    }
   ],
   "source": [
    "scatter([listaentropia listaentropia_m2],labels = [L\"m^3\" L\"m^2\"], xlabel = \"paso\", ylabel = \"entropia\", xtickfontsize=14,ytickfontsize=14, xtick = (1:13, 2:14))"
   ]
  },
  {
   "cell_type": "markdown",
   "metadata": {},
   "source": [
    "# Permutaciones"
   ]
  },
  {
   "cell_type": "markdown",
   "metadata": {},
   "source": [
    "Las permutaciones sugeridas por el Dr. Pineda."
   ]
  },
  {
   "cell_type": "markdown",
   "metadata": {},
   "source": [
    "La motivacion detras de esto es ver que tan estable son los poses bajo algun cambio relativamente pequeño de los posets."
   ]
  },
  {
   "cell_type": "code",
   "execution_count": 54,
   "metadata": {},
   "outputs": [],
   "source": [
    "puntuacionpermutada = permpuntuaciones(puntuaciones, 6);"
   ]
  },
  {
   "cell_type": "markdown",
   "metadata": {},
   "source": [
    "permpuntuaciones realiza 6 permutaciones de las puntuaciones por columnas. Las permutaciones son transposiciones adyacentes."
   ]
  },
  {
   "cell_type": "code",
   "execution_count": 55,
   "metadata": {},
   "outputs": [
    {
     "data": {
      "text/plain": [
       "13-element Array{Float64,1}:\n",
       " 0.1426103131279451\n",
       " 0.145628154317814\n",
       " 0.1469163123025016\n",
       " 0.14657308756227666\n",
       " 0.14654287622024872\n",
       " 0.14687883132601703\n",
       " 0.14629750348793633\n",
       " 0.1464343407977806\n",
       " 0.14829109029486925\n",
       " 0.1479293797119629\n",
       " 0.14761651423199543\n",
       " 0.14945768219055472\n",
       " 0.1488182201607198"
      ]
     },
     "execution_count": 55,
     "metadata": {},
     "output_type": "execute_result"
    }
   ],
   "source": [
    "listaentropia_b = [fentropia( puntuacionpermutada[:,1:i] |> m3 |> fuzzy ) for i in 2:14]"
   ]
  },
  {
   "cell_type": "code",
   "execution_count": 56,
   "metadata": {},
   "outputs": [
    {
     "data": {
      "image/svg+xml": [
       "<?xml version=\"1.0\" encoding=\"utf-8\"?>\n",
       "<svg xmlns=\"http://www.w3.org/2000/svg\" xmlns:xlink=\"http://www.w3.org/1999/xlink\" width=\"600\" height=\"400\" viewBox=\"0 0 2400 1600\">\n",
       "<defs>\n",
       "  <clipPath id=\"clip310\">\n",
       "    <rect x=\"0\" y=\"0\" width=\"2400\" height=\"1600\"/>\n",
       "  </clipPath>\n",
       "</defs>\n",
       "<path clip-path=\"url(#clip310)\" d=\"\n",
       "M0 1600 L2400 1600 L2400 0 L0 0  Z\n",
       "  \" fill=\"#ffffff\" fill-rule=\"evenodd\" fill-opacity=\"1\"/>\n",
       "<defs>\n",
       "  <clipPath id=\"clip311\">\n",
       "    <rect x=\"480\" y=\"0\" width=\"1681\" height=\"1600\"/>\n",
       "  </clipPath>\n",
       "</defs>\n",
       "<path clip-path=\"url(#clip310)\" d=\"\n",
       "M397.284 1397.26 L2352.76 1397.26 L2352.76 47.2441 L397.284 47.2441  Z\n",
       "  \" fill=\"#ffffff\" fill-rule=\"evenodd\" fill-opacity=\"1\"/>\n",
       "<defs>\n",
       "  <clipPath id=\"clip312\">\n",
       "    <rect x=\"397\" y=\"47\" width=\"1956\" height=\"1351\"/>\n",
       "  </clipPath>\n",
       "</defs>\n",
       "<polyline clip-path=\"url(#clip312)\" style=\"stroke:#000000; stroke-width:2; stroke-opacity:0.1; fill:none\" points=\"\n",
       "  452.628,1397.26 452.628,47.2441 \n",
       "  \"/>\n",
       "<polyline clip-path=\"url(#clip312)\" style=\"stroke:#000000; stroke-width:2; stroke-opacity:0.1; fill:none\" points=\"\n",
       "  606.36,1397.26 606.36,47.2441 \n",
       "  \"/>\n",
       "<polyline clip-path=\"url(#clip312)\" style=\"stroke:#000000; stroke-width:2; stroke-opacity:0.1; fill:none\" points=\"\n",
       "  760.092,1397.26 760.092,47.2441 \n",
       "  \"/>\n",
       "<polyline clip-path=\"url(#clip312)\" style=\"stroke:#000000; stroke-width:2; stroke-opacity:0.1; fill:none\" points=\"\n",
       "  913.824,1397.26 913.824,47.2441 \n",
       "  \"/>\n",
       "<polyline clip-path=\"url(#clip312)\" style=\"stroke:#000000; stroke-width:2; stroke-opacity:0.1; fill:none\" points=\"\n",
       "  1067.56,1397.26 1067.56,47.2441 \n",
       "  \"/>\n",
       "<polyline clip-path=\"url(#clip312)\" style=\"stroke:#000000; stroke-width:2; stroke-opacity:0.1; fill:none\" points=\"\n",
       "  1221.29,1397.26 1221.29,47.2441 \n",
       "  \"/>\n",
       "<polyline clip-path=\"url(#clip312)\" style=\"stroke:#000000; stroke-width:2; stroke-opacity:0.1; fill:none\" points=\"\n",
       "  1375.02,1397.26 1375.02,47.2441 \n",
       "  \"/>\n",
       "<polyline clip-path=\"url(#clip312)\" style=\"stroke:#000000; stroke-width:2; stroke-opacity:0.1; fill:none\" points=\"\n",
       "  1528.75,1397.26 1528.75,47.2441 \n",
       "  \"/>\n",
       "<polyline clip-path=\"url(#clip312)\" style=\"stroke:#000000; stroke-width:2; stroke-opacity:0.1; fill:none\" points=\"\n",
       "  1682.48,1397.26 1682.48,47.2441 \n",
       "  \"/>\n",
       "<polyline clip-path=\"url(#clip312)\" style=\"stroke:#000000; stroke-width:2; stroke-opacity:0.1; fill:none\" points=\"\n",
       "  1836.22,1397.26 1836.22,47.2441 \n",
       "  \"/>\n",
       "<polyline clip-path=\"url(#clip312)\" style=\"stroke:#000000; stroke-width:2; stroke-opacity:0.1; fill:none\" points=\"\n",
       "  1989.95,1397.26 1989.95,47.2441 \n",
       "  \"/>\n",
       "<polyline clip-path=\"url(#clip312)\" style=\"stroke:#000000; stroke-width:2; stroke-opacity:0.1; fill:none\" points=\"\n",
       "  2143.68,1397.26 2143.68,47.2441 \n",
       "  \"/>\n",
       "<polyline clip-path=\"url(#clip312)\" style=\"stroke:#000000; stroke-width:2; stroke-opacity:0.1; fill:none\" points=\"\n",
       "  2297.41,1397.26 2297.41,47.2441 \n",
       "  \"/>\n",
       "<polyline clip-path=\"url(#clip310)\" style=\"stroke:#000000; stroke-width:4; stroke-opacity:1; fill:none\" points=\"\n",
       "  397.284,1397.26 2352.76,1397.26 \n",
       "  \"/>\n",
       "<polyline clip-path=\"url(#clip310)\" style=\"stroke:#000000; stroke-width:4; stroke-opacity:1; fill:none\" points=\"\n",
       "  452.628,1397.26 452.628,1381.06 \n",
       "  \"/>\n",
       "<polyline clip-path=\"url(#clip310)\" style=\"stroke:#000000; stroke-width:4; stroke-opacity:1; fill:none\" points=\"\n",
       "  606.36,1397.26 606.36,1381.06 \n",
       "  \"/>\n",
       "<polyline clip-path=\"url(#clip310)\" style=\"stroke:#000000; stroke-width:4; stroke-opacity:1; fill:none\" points=\"\n",
       "  760.092,1397.26 760.092,1381.06 \n",
       "  \"/>\n",
       "<polyline clip-path=\"url(#clip310)\" style=\"stroke:#000000; stroke-width:4; stroke-opacity:1; fill:none\" points=\"\n",
       "  913.824,1397.26 913.824,1381.06 \n",
       "  \"/>\n",
       "<polyline clip-path=\"url(#clip310)\" style=\"stroke:#000000; stroke-width:4; stroke-opacity:1; fill:none\" points=\"\n",
       "  1067.56,1397.26 1067.56,1381.06 \n",
       "  \"/>\n",
       "<polyline clip-path=\"url(#clip310)\" style=\"stroke:#000000; stroke-width:4; stroke-opacity:1; fill:none\" points=\"\n",
       "  1221.29,1397.26 1221.29,1381.06 \n",
       "  \"/>\n",
       "<polyline clip-path=\"url(#clip310)\" style=\"stroke:#000000; stroke-width:4; stroke-opacity:1; fill:none\" points=\"\n",
       "  1375.02,1397.26 1375.02,1381.06 \n",
       "  \"/>\n",
       "<polyline clip-path=\"url(#clip310)\" style=\"stroke:#000000; stroke-width:4; stroke-opacity:1; fill:none\" points=\"\n",
       "  1528.75,1397.26 1528.75,1381.06 \n",
       "  \"/>\n",
       "<polyline clip-path=\"url(#clip310)\" style=\"stroke:#000000; stroke-width:4; stroke-opacity:1; fill:none\" points=\"\n",
       "  1682.48,1397.26 1682.48,1381.06 \n",
       "  \"/>\n",
       "<polyline clip-path=\"url(#clip310)\" style=\"stroke:#000000; stroke-width:4; stroke-opacity:1; fill:none\" points=\"\n",
       "  1836.22,1397.26 1836.22,1381.06 \n",
       "  \"/>\n",
       "<polyline clip-path=\"url(#clip310)\" style=\"stroke:#000000; stroke-width:4; stroke-opacity:1; fill:none\" points=\"\n",
       "  1989.95,1397.26 1989.95,1381.06 \n",
       "  \"/>\n",
       "<polyline clip-path=\"url(#clip310)\" style=\"stroke:#000000; stroke-width:4; stroke-opacity:1; fill:none\" points=\"\n",
       "  2143.68,1397.26 2143.68,1381.06 \n",
       "  \"/>\n",
       "<polyline clip-path=\"url(#clip310)\" style=\"stroke:#000000; stroke-width:4; stroke-opacity:1; fill:none\" points=\"\n",
       "  2297.41,1397.26 2297.41,1381.06 \n",
       "  \"/>\n",
       "<path clip-path=\"url(#clip310)\" d=\"M 0 0 M443.27 1482.15 L471.829 1482.15 L471.829 1489.04 L433.427 1489.04 L433.427 1482.15 Q438.085 1477.33 446.106 1469.23 Q454.167 1461.08 456.233 1458.74 Q460.163 1454.32 461.702 1451.28 Q463.282 1448.2 463.282 1445.25 Q463.282 1440.42 459.879 1437.39 Q456.517 1434.35 451.088 1434.35 Q447.24 1434.35 442.946 1435.69 Q438.693 1437.02 433.832 1439.74 L433.832 1431.47 Q438.774 1429.49 443.068 1428.47 Q447.362 1427.46 450.926 1427.46 Q460.325 1427.46 465.915 1432.16 Q471.505 1436.86 471.505 1444.72 Q471.505 1448.45 470.087 1451.81 Q468.71 1455.13 465.024 1459.67 Q464.011 1460.84 458.583 1466.47 Q453.154 1472.06 443.27 1482.15 Z\" fill=\"#000000\" fill-rule=\"evenodd\" fill-opacity=\"1\" /><path clip-path=\"url(#clip310)\" d=\"M 0 0 M613.793 1456.43 Q619.667 1457.68 622.948 1461.65 Q626.27 1465.62 626.27 1471.45 Q626.27 1480.41 620.113 1485.31 Q613.955 1490.21 602.613 1490.21 Q598.805 1490.21 594.754 1489.44 Q590.744 1488.71 586.45 1487.21 L586.45 1479.31 Q589.852 1481.3 593.903 1482.31 Q597.954 1483.32 602.37 1483.32 Q610.066 1483.32 614.077 1480.29 Q618.128 1477.25 618.128 1471.45 Q618.128 1466.11 614.36 1463.11 Q610.634 1460.07 603.95 1460.07 L596.901 1460.07 L596.901 1453.35 L604.274 1453.35 Q610.31 1453.35 613.51 1450.96 Q616.71 1448.53 616.71 1443.99 Q616.71 1439.33 613.388 1436.86 Q610.107 1434.35 603.95 1434.35 Q600.587 1434.35 596.739 1435.08 Q592.891 1435.81 588.273 1437.35 L588.273 1430.05 Q592.931 1428.76 596.982 1428.11 Q601.073 1427.46 604.679 1427.46 Q613.996 1427.46 619.424 1431.72 Q624.852 1435.93 624.852 1443.14 Q624.852 1448.16 621.976 1451.65 Q619.1 1455.09 613.793 1456.43 Z\" fill=\"#000000\" fill-rule=\"evenodd\" fill-opacity=\"1\" /><path clip-path=\"url(#clip310)\" d=\"M 0 0 M765.358 1435.69 L744.698 1467.97 L765.358 1467.97 L765.358 1435.69 M763.211 1428.56 L773.5 1428.56 L773.5 1467.97 L782.129 1467.97 L782.129 1474.78 L773.5 1474.78 L773.5 1489.04 L765.358 1489.04 L765.358 1474.78 L738.055 1474.78 L738.055 1466.88 L763.211 1428.56 Z\" fill=\"#000000\" fill-rule=\"evenodd\" fill-opacity=\"1\" /><path clip-path=\"url(#clip310)\" d=\"M 0 0 M896.81 1428.56 L928.934 1428.56 L928.934 1435.44 L904.304 1435.44 L904.304 1450.27 Q906.087 1449.66 907.869 1449.38 Q909.652 1449.05 911.434 1449.05 Q921.561 1449.05 927.476 1454.6 Q933.39 1460.15 933.39 1469.63 Q933.39 1479.39 927.313 1484.82 Q921.237 1490.21 910.178 1490.21 Q906.37 1490.21 902.4 1489.56 Q898.471 1488.91 894.258 1487.62 L894.258 1479.39 Q897.904 1481.38 901.793 1482.35 Q905.682 1483.32 910.016 1483.32 Q917.024 1483.32 921.116 1479.64 Q925.207 1475.95 925.207 1469.63 Q925.207 1463.31 921.116 1459.63 Q917.024 1455.94 910.016 1455.94 Q906.735 1455.94 903.454 1456.67 Q900.213 1457.4 896.81 1458.94 L896.81 1428.56 Z\" fill=\"#000000\" fill-rule=\"evenodd\" fill-opacity=\"1\" /><path clip-path=\"url(#clip310)\" d=\"M 0 0 M1068.26 1455.53 Q1062.76 1455.53 1059.51 1459.3 Q1056.31 1463.07 1056.31 1469.63 Q1056.31 1476.15 1059.51 1479.96 Q1062.76 1483.73 1068.26 1483.73 Q1073.77 1483.73 1076.97 1479.96 Q1080.22 1476.15 1080.22 1469.63 Q1080.22 1463.07 1076.97 1459.3 Q1073.77 1455.53 1068.26 1455.53 M1084.51 1429.89 L1084.51 1437.35 Q1081.43 1435.89 1078.27 1435.12 Q1075.15 1434.35 1072.07 1434.35 Q1063.97 1434.35 1059.68 1439.82 Q1055.42 1445.29 1054.82 1456.35 Q1057.21 1452.82 1060.81 1450.96 Q1064.42 1449.05 1068.75 1449.05 Q1077.87 1449.05 1083.13 1454.6 Q1088.44 1460.11 1088.44 1469.63 Q1088.44 1478.95 1082.93 1484.58 Q1077.42 1490.21 1068.26 1490.21 Q1057.77 1490.21 1052.22 1482.19 Q1046.67 1474.13 1046.67 1458.86 Q1046.67 1444.52 1053.48 1436.01 Q1060.28 1427.46 1071.75 1427.46 Q1074.83 1427.46 1077.95 1428.07 Q1081.11 1428.68 1084.51 1429.89 Z\" fill=\"#000000\" fill-rule=\"evenodd\" fill-opacity=\"1\" /><path clip-path=\"url(#clip310)\" d=\"M 0 0 M1201.84 1428.56 L1240.73 1428.56 L1240.73 1432.04 L1218.78 1489.04 L1210.23 1489.04 L1230.89 1435.44 L1201.84 1435.44 L1201.84 1428.56 Z\" fill=\"#000000\" fill-rule=\"evenodd\" fill-opacity=\"1\" /><path clip-path=\"url(#clip310)\" d=\"M 0 0 M1375.02 1460.31 Q1369.19 1460.31 1365.82 1463.43 Q1362.5 1466.55 1362.5 1472.02 Q1362.5 1477.49 1365.82 1480.61 Q1369.19 1483.73 1375.02 1483.73 Q1380.85 1483.73 1384.22 1480.61 Q1387.58 1477.45 1387.58 1472.02 Q1387.58 1466.55 1384.22 1463.43 Q1380.89 1460.31 1375.02 1460.31 M1366.84 1456.83 Q1361.57 1455.53 1358.61 1451.93 Q1355.7 1448.32 1355.7 1443.14 Q1355.7 1435.89 1360.84 1431.68 Q1366.03 1427.46 1375.02 1427.46 Q1384.05 1427.46 1389.2 1431.68 Q1394.34 1435.89 1394.34 1443.14 Q1394.34 1448.32 1391.39 1451.93 Q1388.47 1455.53 1383.24 1456.83 Q1389.16 1458.21 1392.44 1462.22 Q1395.76 1466.23 1395.76 1472.02 Q1395.76 1480.81 1390.37 1485.51 Q1385.03 1490.21 1375.02 1490.21 Q1365.01 1490.21 1359.63 1485.51 Q1354.28 1480.81 1354.28 1472.02 Q1354.28 1466.23 1357.6 1462.22 Q1360.92 1458.21 1366.84 1456.83 M1363.84 1443.91 Q1363.84 1448.61 1366.76 1451.24 Q1369.71 1453.87 1375.02 1453.87 Q1380.29 1453.87 1383.24 1451.24 Q1386.24 1448.61 1386.24 1443.91 Q1386.24 1439.21 1383.24 1436.58 Q1380.29 1433.94 1375.02 1433.94 Q1369.71 1433.94 1366.76 1436.58 Q1363.84 1439.21 1363.84 1443.91 Z\" fill=\"#000000\" fill-rule=\"evenodd\" fill-opacity=\"1\" /><path clip-path=\"url(#clip310)\" d=\"M 0 0 M1511.78 1487.78 L1511.78 1480.33 Q1514.86 1481.78 1518.02 1482.55 Q1521.18 1483.32 1524.22 1483.32 Q1532.32 1483.32 1536.57 1477.9 Q1540.86 1472.43 1541.47 1461.33 Q1539.12 1464.81 1535.52 1466.67 Q1531.91 1468.54 1527.54 1468.54 Q1518.46 1468.54 1513.16 1463.07 Q1507.89 1457.56 1507.89 1448.04 Q1507.89 1438.72 1513.4 1433.09 Q1518.91 1427.46 1528.06 1427.46 Q1538.56 1427.46 1544.06 1435.52 Q1549.61 1443.54 1549.61 1458.86 Q1549.61 1473.16 1542.81 1481.7 Q1536.04 1490.21 1524.58 1490.21 Q1521.5 1490.21 1518.34 1489.6 Q1515.18 1489 1511.78 1487.78 M1528.06 1462.14 Q1533.57 1462.14 1536.77 1458.37 Q1540.01 1454.6 1540.01 1448.04 Q1540.01 1441.52 1536.77 1437.75 Q1533.57 1433.94 1528.06 1433.94 Q1522.55 1433.94 1519.31 1437.75 Q1516.11 1441.52 1516.11 1448.04 Q1516.11 1454.6 1519.31 1458.37 Q1522.55 1462.14 1528.06 1462.14 Z\" fill=\"#000000\" fill-rule=\"evenodd\" fill-opacity=\"1\" /><path clip-path=\"url(#clip310)\" d=\"M 0 0 M1642.02 1482.15 L1655.38 1482.15 L1655.38 1436.01 L1640.84 1438.93 L1640.84 1431.47 L1655.3 1428.56 L1663.49 1428.56 L1663.49 1482.15 L1676.85 1482.15 L1676.85 1489.04 L1642.02 1489.04 L1642.02 1482.15 Z\" fill=\"#000000\" fill-rule=\"evenodd\" fill-opacity=\"1\" /><path clip-path=\"url(#clip310)\" d=\"M 0 0 M1703.22 1433.94 Q1696.91 1433.94 1693.71 1440.18 Q1690.55 1446.38 1690.55 1458.86 Q1690.55 1471.29 1693.71 1477.53 Q1696.91 1483.73 1703.22 1483.73 Q1709.58 1483.73 1712.74 1477.53 Q1715.94 1471.29 1715.94 1458.86 Q1715.94 1446.38 1712.74 1440.18 Q1709.58 1433.94 1703.22 1433.94 M1703.22 1427.46 Q1713.39 1427.46 1718.74 1435.52 Q1724.13 1443.54 1724.13 1458.86 Q1724.13 1474.13 1718.74 1482.19 Q1713.39 1490.21 1703.22 1490.21 Q1693.06 1490.21 1687.67 1482.19 Q1682.32 1474.13 1682.32 1458.86 Q1682.32 1443.54 1687.67 1435.52 Q1693.06 1427.46 1703.22 1427.46 Z\" fill=\"#000000\" fill-rule=\"evenodd\" fill-opacity=\"1\" /><path clip-path=\"url(#clip310)\" d=\"M 0 0 M1796.82 1482.15 L1810.19 1482.15 L1810.19 1436.01 L1795.65 1438.93 L1795.65 1431.47 L1810.11 1428.56 L1818.29 1428.56 L1818.29 1482.15 L1831.66 1482.15 L1831.66 1489.04 L1796.82 1489.04 L1796.82 1482.15 Z\" fill=\"#000000\" fill-rule=\"evenodd\" fill-opacity=\"1\" /><path clip-path=\"url(#clip310)\" d=\"M 0 0 M1841.95 1482.15 L1855.32 1482.15 L1855.32 1436.01 L1840.77 1438.93 L1840.77 1431.47 L1855.24 1428.56 L1863.42 1428.56 L1863.42 1482.15 L1876.79 1482.15 L1876.79 1489.04 L1841.95 1489.04 L1841.95 1482.15 Z\" fill=\"#000000\" fill-rule=\"evenodd\" fill-opacity=\"1\" /><path clip-path=\"url(#clip310)\" d=\"M 0 0 M1950.88 1482.15 L1964.25 1482.15 L1964.25 1436.01 L1949.7 1438.93 L1949.7 1431.47 L1964.16 1428.56 L1972.35 1428.56 L1972.35 1482.15 L1985.72 1482.15 L1985.72 1489.04 L1950.88 1489.04 L1950.88 1482.15 Z\" fill=\"#000000\" fill-rule=\"evenodd\" fill-opacity=\"1\" /><path clip-path=\"url(#clip310)\" d=\"M 0 0 M2001.64 1482.15 L2030.19 1482.15 L2030.19 1489.04 L1991.79 1489.04 L1991.79 1482.15 Q1996.45 1477.33 2004.47 1469.23 Q2012.53 1461.08 2014.6 1458.74 Q2018.53 1454.32 2020.07 1451.28 Q2021.65 1448.2 2021.65 1445.25 Q2021.65 1440.42 2018.24 1437.39 Q2014.88 1434.35 2009.45 1434.35 Q2005.61 1434.35 2001.31 1435.69 Q1997.06 1437.02 1992.2 1439.74 L1992.2 1431.47 Q1997.14 1429.49 2001.43 1428.47 Q2005.73 1427.46 2009.29 1427.46 Q2018.69 1427.46 2024.28 1432.16 Q2029.87 1436.86 2029.87 1444.72 Q2029.87 1448.45 2028.45 1451.81 Q2027.07 1455.13 2023.39 1459.67 Q2022.38 1460.84 2016.95 1466.47 Q2011.52 1472.06 2001.64 1482.15 Z\" fill=\"#000000\" fill-rule=\"evenodd\" fill-opacity=\"1\" /><path clip-path=\"url(#clip310)\" d=\"M 0 0 M2103.78 1482.15 L2117.15 1482.15 L2117.15 1436.01 L2102.6 1438.93 L2102.6 1431.47 L2117.07 1428.56 L2125.25 1428.56 L2125.25 1482.15 L2138.62 1482.15 L2138.62 1489.04 L2103.78 1489.04 L2103.78 1482.15 Z\" fill=\"#000000\" fill-rule=\"evenodd\" fill-opacity=\"1\" /><path clip-path=\"url(#clip310)\" d=\"M 0 0 M2172.28 1456.43 Q2178.15 1457.68 2181.43 1461.65 Q2184.76 1465.62 2184.76 1471.45 Q2184.76 1480.41 2178.6 1485.31 Q2172.44 1490.21 2161.1 1490.21 Q2157.29 1490.21 2153.24 1489.44 Q2149.23 1488.71 2144.94 1487.21 L2144.94 1479.31 Q2148.34 1481.3 2152.39 1482.31 Q2156.44 1483.32 2160.86 1483.32 Q2168.55 1483.32 2172.56 1480.29 Q2176.61 1477.25 2176.61 1471.45 Q2176.61 1466.11 2172.85 1463.11 Q2169.12 1460.07 2162.44 1460.07 L2155.39 1460.07 L2155.39 1453.35 L2162.76 1453.35 Q2168.8 1453.35 2172 1450.96 Q2175.2 1448.53 2175.2 1443.99 Q2175.2 1439.33 2171.87 1436.86 Q2168.59 1434.35 2162.44 1434.35 Q2159.07 1434.35 2155.23 1435.08 Q2151.38 1435.81 2146.76 1437.35 L2146.76 1430.05 Q2151.42 1428.76 2155.47 1428.11 Q2159.56 1427.46 2163.17 1427.46 Q2172.48 1427.46 2177.91 1431.72 Q2183.34 1435.93 2183.34 1443.14 Q2183.34 1448.16 2180.46 1451.65 Q2177.59 1455.09 2172.28 1456.43 Z\" fill=\"#000000\" fill-rule=\"evenodd\" fill-opacity=\"1\" /><path clip-path=\"url(#clip310)\" d=\"M 0 0 M2256.52 1482.15 L2269.89 1482.15 L2269.89 1436.01 L2255.34 1438.93 L2255.34 1431.47 L2269.81 1428.56 L2277.99 1428.56 L2277.99 1482.15 L2291.36 1482.15 L2291.36 1489.04 L2256.52 1489.04 L2256.52 1482.15 Z\" fill=\"#000000\" fill-rule=\"evenodd\" fill-opacity=\"1\" /><path clip-path=\"url(#clip310)\" d=\"M 0 0 M2322.71 1435.69 L2302.05 1467.97 L2322.71 1467.97 L2322.71 1435.69 M2320.56 1428.56 L2330.85 1428.56 L2330.85 1467.97 L2339.48 1467.97 L2339.48 1474.78 L2330.85 1474.78 L2330.85 1489.04 L2322.71 1489.04 L2322.71 1474.78 L2295.41 1474.78 L2295.41 1466.88 L2320.56 1428.56 Z\" fill=\"#000000\" fill-rule=\"evenodd\" fill-opacity=\"1\" /><path clip-path=\"url(#clip310)\" d=\"M 0 0 M1314.4 1563.66 L1314.4 1582.56 L1308.51 1582.56 L1308.51 1533.36 L1314.4 1533.36 L1314.4 1538.77 Q1316.25 1535.58 1319.05 1534.06 Q1321.88 1532.5 1325.8 1532.5 Q1332.29 1532.5 1336.33 1537.65 Q1340.41 1542.81 1340.41 1551.21 Q1340.41 1559.61 1336.33 1564.77 Q1332.29 1569.93 1325.8 1569.93 Q1321.88 1569.93 1319.05 1568.4 Q1316.25 1566.84 1314.4 1563.66 M1334.33 1551.21 Q1334.33 1544.75 1331.65 1541.09 Q1329.01 1537.4 1324.36 1537.4 Q1319.72 1537.4 1317.04 1541.09 Q1314.4 1544.75 1314.4 1551.21 Q1314.4 1557.67 1317.04 1561.36 Q1319.72 1565.03 1324.36 1565.03 Q1329.01 1565.03 1331.65 1561.36 Q1334.33 1557.67 1334.33 1551.21 Z\" fill=\"#000000\" fill-rule=\"evenodd\" fill-opacity=\"1\" /><path clip-path=\"url(#clip310)\" d=\"M 0 0 M1362.75 1551.08 Q1355.65 1551.08 1352.92 1552.71 Q1350.18 1554.33 1350.18 1558.25 Q1350.18 1561.36 1352.21 1563.21 Q1354.28 1565.03 1357.82 1565.03 Q1362.69 1565.03 1365.61 1561.59 Q1368.57 1558.12 1368.57 1552.39 L1368.57 1551.08 L1362.75 1551.08 M1374.43 1548.67 L1374.43 1569 L1368.57 1569 L1368.57 1563.59 Q1366.57 1566.84 1363.58 1568.4 Q1360.59 1569.93 1356.26 1569.93 Q1350.78 1569.93 1347.54 1566.87 Q1344.32 1563.78 1344.32 1558.63 Q1344.32 1552.61 1348.33 1549.56 Q1352.37 1546.5 1360.36 1546.5 L1368.57 1546.5 L1368.57 1545.93 Q1368.57 1541.89 1365.9 1539.69 Q1363.26 1537.46 1358.45 1537.46 Q1355.4 1537.46 1352.5 1538.19 Q1349.61 1538.93 1346.93 1540.39 L1346.93 1534.98 Q1350.15 1533.74 1353.17 1533.13 Q1356.19 1532.5 1359.06 1532.5 Q1366.79 1532.5 1370.61 1536.51 Q1374.43 1540.52 1374.43 1548.67 Z\" fill=\"#000000\" fill-rule=\"evenodd\" fill-opacity=\"1\" /><path clip-path=\"url(#clip310)\" d=\"M 0 0 M1403.3 1534.41 L1403.3 1539.94 Q1400.82 1538.67 1398.14 1538.03 Q1395.47 1537.4 1392.61 1537.4 Q1388.24 1537.4 1386.05 1538.73 Q1383.88 1540.07 1383.88 1542.75 Q1383.88 1544.78 1385.44 1545.96 Q1387 1547.11 1391.71 1548.16 L1393.72 1548.6 Q1399.96 1549.94 1402.57 1552.39 Q1405.21 1554.81 1405.21 1559.17 Q1405.21 1564.13 1401.26 1567.03 Q1397.35 1569.93 1390.47 1569.93 Q1387.61 1569.93 1384.49 1569.35 Q1381.4 1568.81 1377.96 1567.7 L1377.96 1561.65 Q1381.21 1563.34 1384.36 1564.2 Q1387.51 1565.03 1390.6 1565.03 Q1394.74 1565.03 1396.97 1563.62 Q1399.19 1562.19 1399.19 1559.61 Q1399.19 1557.23 1397.57 1555.95 Q1395.98 1554.68 1390.54 1553.5 L1388.5 1553.03 Q1383.06 1551.88 1380.64 1549.52 Q1378.22 1547.14 1378.22 1543 Q1378.22 1537.97 1381.78 1535.23 Q1385.35 1532.5 1391.91 1532.5 Q1395.15 1532.5 1398.02 1532.97 Q1400.88 1533.45 1403.3 1534.41 Z\" fill=\"#000000\" fill-rule=\"evenodd\" fill-opacity=\"1\" /><path clip-path=\"url(#clip310)\" d=\"M 0 0 M1425.17 1537.46 Q1420.46 1537.46 1417.72 1541.15 Q1414.98 1544.81 1414.98 1551.21 Q1414.98 1557.61 1417.69 1561.3 Q1420.42 1564.96 1425.17 1564.96 Q1429.84 1564.96 1432.58 1561.27 Q1435.32 1557.58 1435.32 1551.21 Q1435.32 1544.88 1432.58 1541.19 Q1429.84 1537.46 1425.17 1537.46 M1425.17 1532.5 Q1432.8 1532.5 1437.17 1537.46 Q1441.53 1542.43 1441.53 1551.21 Q1441.53 1559.96 1437.17 1564.96 Q1432.8 1569.93 1425.17 1569.93 Q1417.5 1569.93 1413.13 1564.96 Q1408.81 1559.96 1408.81 1551.21 Q1408.81 1542.43 1413.13 1537.46 Q1417.5 1532.5 1425.17 1532.5 Z\" fill=\"#000000\" fill-rule=\"evenodd\" fill-opacity=\"1\" /><polyline clip-path=\"url(#clip312)\" style=\"stroke:#000000; stroke-width:2; stroke-opacity:0.1; fill:none\" points=\"\n",
       "  397.284,1151.9 2352.76,1151.9 \n",
       "  \"/>\n",
       "<polyline clip-path=\"url(#clip312)\" style=\"stroke:#000000; stroke-width:2; stroke-opacity:0.1; fill:none\" points=\"\n",
       "  397.284,869.998 2352.76,869.998 \n",
       "  \"/>\n",
       "<polyline clip-path=\"url(#clip312)\" style=\"stroke:#000000; stroke-width:2; stroke-opacity:0.1; fill:none\" points=\"\n",
       "  397.284,588.099 2352.76,588.099 \n",
       "  \"/>\n",
       "<polyline clip-path=\"url(#clip312)\" style=\"stroke:#000000; stroke-width:2; stroke-opacity:0.1; fill:none\" points=\"\n",
       "  397.284,306.2 2352.76,306.2 \n",
       "  \"/>\n",
       "<polyline clip-path=\"url(#clip310)\" style=\"stroke:#000000; stroke-width:4; stroke-opacity:1; fill:none\" points=\"\n",
       "  397.284,1397.26 397.284,47.2441 \n",
       "  \"/>\n",
       "<polyline clip-path=\"url(#clip310)\" style=\"stroke:#000000; stroke-width:4; stroke-opacity:1; fill:none\" points=\"\n",
       "  397.284,1151.9 420.75,1151.9 \n",
       "  \"/>\n",
       "<polyline clip-path=\"url(#clip310)\" style=\"stroke:#000000; stroke-width:4; stroke-opacity:1; fill:none\" points=\"\n",
       "  397.284,869.998 420.75,869.998 \n",
       "  \"/>\n",
       "<polyline clip-path=\"url(#clip310)\" style=\"stroke:#000000; stroke-width:4; stroke-opacity:1; fill:none\" points=\"\n",
       "  397.284,588.099 420.75,588.099 \n",
       "  \"/>\n",
       "<polyline clip-path=\"url(#clip310)\" style=\"stroke:#000000; stroke-width:4; stroke-opacity:1; fill:none\" points=\"\n",
       "  397.284,306.2 420.75,306.2 \n",
       "  \"/>\n",
       "<path clip-path=\"url(#clip310)\" d=\"M 0 0 M135.163 1127.04 Q128.843 1127.04 125.643 1133.28 Q122.483 1139.48 122.483 1151.96 Q122.483 1164.39 125.643 1170.63 Q128.843 1176.83 135.163 1176.83 Q141.523 1176.83 144.682 1170.63 Q147.883 1164.39 147.883 1151.96 Q147.883 1139.48 144.682 1133.28 Q141.523 1127.04 135.163 1127.04 M135.163 1120.56 Q145.331 1120.56 150.678 1128.62 Q156.065 1136.65 156.065 1151.96 Q156.065 1167.23 150.678 1175.29 Q145.331 1183.31 135.163 1183.31 Q124.995 1183.31 119.607 1175.29 Q114.26 1167.23 114.26 1151.96 Q114.26 1136.65 119.607 1128.62 Q124.995 1120.56 135.163 1120.56 Z\" fill=\"#000000\" fill-rule=\"evenodd\" fill-opacity=\"1\" /><path clip-path=\"url(#clip310)\" d=\"M 0 0 M164.937 1171.85 L173.484 1171.85 L173.484 1182.14 L164.937 1182.14 L164.937 1171.85 Z\" fill=\"#000000\" fill-rule=\"evenodd\" fill-opacity=\"1\" /><path clip-path=\"url(#clip310)\" d=\"M 0 0 M183.774 1175.25 L197.142 1175.25 L197.142 1129.11 L182.599 1132.03 L182.599 1124.57 L197.061 1121.66 L205.243 1121.66 L205.243 1175.25 L218.611 1175.25 L218.611 1182.14 L183.774 1182.14 L183.774 1175.25 Z\" fill=\"#000000\" fill-rule=\"evenodd\" fill-opacity=\"1\" /><path clip-path=\"url(#clip310)\" d=\"M 0 0 M249.965 1128.79 L229.306 1161.07 L249.965 1161.07 L249.965 1128.79 M247.818 1121.66 L258.108 1121.66 L258.108 1161.07 L266.736 1161.07 L266.736 1167.88 L258.108 1167.88 L258.108 1182.14 L249.965 1182.14 L249.965 1167.88 L222.662 1167.88 L222.662 1159.98 L247.818 1121.66 Z\" fill=\"#000000\" fill-rule=\"evenodd\" fill-opacity=\"1\" /><path clip-path=\"url(#clip310)\" d=\"M 0 0 M293.108 1127.04 Q286.788 1127.04 283.588 1133.28 Q280.428 1139.48 280.428 1151.96 Q280.428 1164.39 283.588 1170.63 Q286.788 1176.83 293.108 1176.83 Q299.467 1176.83 302.627 1170.63 Q305.827 1164.39 305.827 1151.96 Q305.827 1139.48 302.627 1133.28 Q299.467 1127.04 293.108 1127.04 M293.108 1120.56 Q303.275 1120.56 308.623 1128.62 Q314.01 1136.65 314.01 1151.96 Q314.01 1167.23 308.623 1175.29 Q303.275 1183.31 293.108 1183.31 Q282.94 1183.31 277.552 1175.29 Q272.205 1167.23 272.205 1151.96 Q272.205 1136.65 277.552 1128.62 Q282.94 1120.56 293.108 1120.56 Z\" fill=\"#000000\" fill-rule=\"evenodd\" fill-opacity=\"1\" /><path clip-path=\"url(#clip310)\" d=\"M 0 0 M340.382 1127.04 Q334.062 1127.04 330.862 1133.28 Q327.702 1139.48 327.702 1151.96 Q327.702 1164.39 330.862 1170.63 Q334.062 1176.83 340.382 1176.83 Q346.742 1176.83 349.901 1170.63 Q353.101 1164.39 353.101 1151.96 Q353.101 1139.48 349.901 1133.28 Q346.742 1127.04 340.382 1127.04 M340.382 1120.56 Q350.549 1120.56 355.897 1128.62 Q361.284 1136.65 361.284 1151.96 Q361.284 1167.23 355.897 1175.29 Q350.549 1183.31 340.382 1183.31 Q330.214 1183.31 324.826 1175.29 Q319.479 1167.23 319.479 1151.96 Q319.479 1136.65 324.826 1128.62 Q330.214 1120.56 340.382 1120.56 Z\" fill=\"#000000\" fill-rule=\"evenodd\" fill-opacity=\"1\" /><path clip-path=\"url(#clip310)\" d=\"M 0 0 M139.7 845.146 Q133.38 845.146 130.18 851.384 Q127.021 857.582 127.021 870.059 Q127.021 882.495 130.18 888.733 Q133.38 894.931 139.7 894.931 Q146.06 894.931 149.219 888.733 Q152.42 882.495 152.42 870.059 Q152.42 857.582 149.219 851.384 Q146.06 845.146 139.7 845.146 M139.7 838.664 Q149.868 838.664 155.215 846.726 Q160.603 854.746 160.603 870.059 Q160.603 885.331 155.215 893.392 Q149.868 901.413 139.7 901.413 Q129.532 901.413 124.144 893.392 Q118.797 885.331 118.797 870.059 Q118.797 854.746 124.144 846.726 Q129.532 838.664 139.7 838.664 Z\" fill=\"#000000\" fill-rule=\"evenodd\" fill-opacity=\"1\" /><path clip-path=\"url(#clip310)\" d=\"M 0 0 M169.474 889.949 L178.021 889.949 L178.021 900.238 L169.474 900.238 L169.474 889.949 Z\" fill=\"#000000\" fill-rule=\"evenodd\" fill-opacity=\"1\" /><path clip-path=\"url(#clip310)\" d=\"M 0 0 M188.311 893.351 L201.679 893.351 L201.679 847.212 L187.136 850.128 L187.136 842.675 L201.598 839.758 L209.78 839.758 L209.78 893.351 L223.148 893.351 L223.148 900.238 L188.311 900.238 L188.311 893.351 Z\" fill=\"#000000\" fill-rule=\"evenodd\" fill-opacity=\"1\" /><path clip-path=\"url(#clip310)\" d=\"M 0 0 M254.502 846.888 L233.843 879.173 L254.502 879.173 L254.502 846.888 M252.355 839.758 L262.645 839.758 L262.645 879.173 L271.273 879.173 L271.273 885.979 L262.645 885.979 L262.645 900.238 L254.502 900.238 L254.502 885.979 L227.199 885.979 L227.199 878.08 L252.355 839.758 Z\" fill=\"#000000\" fill-rule=\"evenodd\" fill-opacity=\"1\" /><path clip-path=\"url(#clip310)\" d=\"M 0 0 M287.193 893.351 L315.752 893.351 L315.752 900.238 L277.35 900.238 L277.35 893.351 Q282.008 888.531 290.029 880.429 Q298.09 872.287 300.156 869.937 Q304.086 865.522 305.625 862.484 Q307.205 859.405 307.205 856.448 Q307.205 851.627 303.802 848.589 Q300.44 845.551 295.012 845.551 Q291.163 845.551 286.869 846.888 Q282.616 848.224 277.755 850.938 L277.755 842.675 Q282.697 840.69 286.991 839.677 Q291.285 838.664 294.849 838.664 Q304.248 838.664 309.838 843.363 Q315.428 848.062 315.428 855.921 Q315.428 859.648 314.01 863.01 Q312.633 866.332 308.947 870.869 Q307.934 872.044 302.506 877.674 Q297.077 883.265 287.193 893.351 Z\" fill=\"#000000\" fill-rule=\"evenodd\" fill-opacity=\"1\" /><path clip-path=\"url(#clip310)\" d=\"M 0 0 M324.705 839.758 L356.828 839.758 L356.828 846.645 L332.199 846.645 L332.199 861.471 Q333.981 860.863 335.764 860.58 Q337.546 860.256 339.328 860.256 Q349.456 860.256 355.37 865.805 Q361.284 871.355 361.284 880.834 Q361.284 890.597 355.208 896.025 Q349.132 901.413 338.073 901.413 Q334.265 901.413 330.295 900.765 Q326.366 900.116 322.153 898.82 L322.153 890.597 Q325.798 892.582 329.687 893.554 Q333.576 894.526 337.911 894.526 Q344.919 894.526 349.01 890.84 Q353.101 887.154 353.101 880.834 Q353.101 874.515 349.01 870.828 Q344.919 867.142 337.911 867.142 Q334.629 867.142 331.348 867.871 Q328.107 868.6 324.705 870.14 L324.705 839.758 Z\" fill=\"#000000\" fill-rule=\"evenodd\" fill-opacity=\"1\" /><path clip-path=\"url(#clip310)\" d=\"M 0 0 M136.905 563.247 Q130.585 563.247 127.385 569.485 Q124.225 575.683 124.225 588.16 Q124.225 600.596 127.385 606.834 Q130.585 613.032 136.905 613.032 Q143.265 613.032 146.424 606.834 Q149.625 600.596 149.625 588.16 Q149.625 575.683 146.424 569.485 Q143.265 563.247 136.905 563.247 M136.905 556.765 Q147.072 556.765 152.42 564.826 Q157.807 572.847 157.807 588.16 Q157.807 603.431 152.42 611.493 Q147.072 619.514 136.905 619.514 Q126.737 619.514 121.349 611.493 Q116.002 603.431 116.002 588.16 Q116.002 572.847 121.349 564.826 Q126.737 556.765 136.905 556.765 Z\" fill=\"#000000\" fill-rule=\"evenodd\" fill-opacity=\"1\" /><path clip-path=\"url(#clip310)\" d=\"M 0 0 M166.679 608.05 L175.226 608.05 L175.226 618.339 L166.679 618.339 L166.679 608.05 Z\" fill=\"#000000\" fill-rule=\"evenodd\" fill-opacity=\"1\" /><path clip-path=\"url(#clip310)\" d=\"M 0 0 M185.516 611.452 L198.884 611.452 L198.884 565.312 L184.341 568.229 L184.341 560.775 L198.803 557.859 L206.985 557.859 L206.985 611.452 L220.353 611.452 L220.353 618.339 L185.516 618.339 L185.516 611.452 Z\" fill=\"#000000\" fill-rule=\"evenodd\" fill-opacity=\"1\" /><path clip-path=\"url(#clip310)\" d=\"M 0 0 M251.707 564.988 L231.048 597.274 L251.707 597.274 L251.707 564.988 M249.56 557.859 L259.85 557.859 L259.85 597.274 L268.478 597.274 L268.478 604.08 L259.85 604.08 L259.85 618.339 L251.707 618.339 L251.707 604.08 L224.404 604.08 L224.404 596.18 L249.56 557.859 Z\" fill=\"#000000\" fill-rule=\"evenodd\" fill-opacity=\"1\" /><path clip-path=\"url(#clip310)\" d=\"M 0 0 M277.431 557.859 L309.554 557.859 L309.554 564.745 L284.925 564.745 L284.925 579.572 Q286.707 578.964 288.49 578.68 Q290.272 578.356 292.054 578.356 Q302.182 578.356 308.096 583.906 Q314.01 589.456 314.01 598.935 Q314.01 608.698 307.934 614.126 Q301.858 619.514 290.799 619.514 Q286.991 619.514 283.021 618.865 Q279.091 618.217 274.879 616.921 L274.879 608.698 Q278.524 610.683 282.413 611.655 Q286.302 612.627 290.637 612.627 Q297.645 612.627 301.736 608.941 Q305.827 605.254 305.827 598.935 Q305.827 592.616 301.736 588.929 Q297.645 585.243 290.637 585.243 Q287.355 585.243 284.074 585.972 Q280.833 586.701 277.431 588.241 L277.431 557.859 Z\" fill=\"#000000\" fill-rule=\"evenodd\" fill-opacity=\"1\" /><path clip-path=\"url(#clip310)\" d=\"M 0 0 M340.382 563.247 Q334.062 563.247 330.862 569.485 Q327.702 575.683 327.702 588.16 Q327.702 600.596 330.862 606.834 Q334.062 613.032 340.382 613.032 Q346.742 613.032 349.901 606.834 Q353.101 600.596 353.101 588.16 Q353.101 575.683 349.901 569.485 Q346.742 563.247 340.382 563.247 M340.382 556.765 Q350.549 556.765 355.897 564.826 Q361.284 572.847 361.284 588.16 Q361.284 603.431 355.897 611.493 Q350.549 619.514 340.382 619.514 Q330.214 619.514 324.826 611.493 Q319.479 603.431 319.479 588.16 Q319.479 572.847 324.826 564.826 Q330.214 556.765 340.382 556.765 Z\" fill=\"#000000\" fill-rule=\"evenodd\" fill-opacity=\"1\" /><path clip-path=\"url(#clip310)\" d=\"M 0 0 M138.485 281.347 Q132.165 281.347 128.965 287.586 Q125.805 293.784 125.805 306.26 Q125.805 318.697 128.965 324.935 Q132.165 331.133 138.485 331.133 Q144.844 331.133 148.004 324.935 Q151.204 318.697 151.204 306.26 Q151.204 293.784 148.004 287.586 Q144.844 281.347 138.485 281.347 M138.485 274.866 Q148.652 274.866 154 282.927 Q159.387 290.948 159.387 306.26 Q159.387 321.532 154 329.594 Q148.652 337.614 138.485 337.614 Q128.317 337.614 122.929 329.594 Q117.582 321.532 117.582 306.26 Q117.582 290.948 122.929 282.927 Q128.317 274.866 138.485 274.866 Z\" fill=\"#000000\" fill-rule=\"evenodd\" fill-opacity=\"1\" /><path clip-path=\"url(#clip310)\" d=\"M 0 0 M168.259 326.15 L176.806 326.15 L176.806 336.44 L168.259 336.44 L168.259 326.15 Z\" fill=\"#000000\" fill-rule=\"evenodd\" fill-opacity=\"1\" /><path clip-path=\"url(#clip310)\" d=\"M 0 0 M187.095 329.553 L200.463 329.553 L200.463 283.413 L185.921 286.33 L185.921 278.876 L200.382 275.96 L208.565 275.96 L208.565 329.553 L221.933 329.553 L221.933 336.44 L187.095 336.44 L187.095 329.553 Z\" fill=\"#000000\" fill-rule=\"evenodd\" fill-opacity=\"1\" /><path clip-path=\"url(#clip310)\" d=\"M 0 0 M253.287 283.089 L232.628 315.375 L253.287 315.375 L253.287 283.089 M251.14 275.96 L261.43 275.96 L261.43 315.375 L270.058 315.375 L270.058 322.18 L261.43 322.18 L261.43 336.44 L253.287 336.44 L253.287 322.18 L225.984 322.18 L225.984 314.281 L251.14 275.96 Z\" fill=\"#000000\" fill-rule=\"evenodd\" fill-opacity=\"1\" /><path clip-path=\"url(#clip310)\" d=\"M 0 0 M276.863 275.96 L315.752 275.96 L315.752 279.443 L293.796 336.44 L285.249 336.44 L305.908 282.846 L276.863 282.846 L276.863 275.96 Z\" fill=\"#000000\" fill-rule=\"evenodd\" fill-opacity=\"1\" /><path clip-path=\"url(#clip310)\" d=\"M 0 0 M324.705 275.96 L356.828 275.96 L356.828 282.846 L332.199 282.846 L332.199 297.673 Q333.981 297.065 335.764 296.781 Q337.546 296.457 339.328 296.457 Q349.456 296.457 355.37 302.007 Q361.284 307.557 361.284 317.036 Q361.284 326.799 355.208 332.227 Q349.132 337.614 338.073 337.614 Q334.265 337.614 330.295 336.966 Q326.366 336.318 322.153 335.022 L322.153 326.799 Q325.798 328.783 329.687 329.756 Q333.576 330.728 337.911 330.728 Q344.919 330.728 349.01 327.042 Q353.101 323.355 353.101 317.036 Q353.101 310.716 349.01 307.03 Q344.919 303.344 337.911 303.344 Q334.629 303.344 331.348 304.073 Q328.107 304.802 324.705 306.341 L324.705 275.96 Z\" fill=\"#000000\" fill-rule=\"evenodd\" fill-opacity=\"1\" /><path clip-path=\"url(#clip310)\" d=\"M 0 0 M68.7161 808.38 L71.5806 808.38 L71.5806 835.307 Q77.6281 834.925 80.8109 831.678 Q83.9619 828.4 83.9619 822.576 Q83.9619 819.202 83.1344 816.051 Q82.3069 812.868 80.6518 809.749 L86.1899 809.749 Q87.5267 812.9 88.227 816.21 Q88.9272 819.52 88.9272 822.926 Q88.9272 831.456 83.9619 836.453 Q78.9967 841.418 70.5303 841.418 Q61.7774 841.418 56.6531 836.707 Q51.4968 831.965 51.4968 823.944 Q51.4968 816.751 56.1438 812.581 Q60.7589 808.38 68.7161 808.38 M66.9973 814.236 Q62.1912 814.3 59.3266 816.942 Q56.4621 819.552 56.4621 823.88 Q56.4621 828.782 59.2312 831.742 Q62.0002 834.67 67.0292 835.116 L66.9973 814.236 Z\" fill=\"#000000\" fill-rule=\"evenodd\" fill-opacity=\"1\" /><path clip-path=\"url(#clip310)\" d=\"M 0 0 M66.4881 772.605 L88.0042 772.605 L88.0042 778.461 L66.679 778.461 Q61.6183 778.461 59.1038 780.435 Q56.5894 782.408 56.5894 786.355 Q56.5894 791.097 59.6131 793.834 Q62.6368 796.572 67.8567 796.572 L88.0042 796.572 L88.0042 802.46 L52.3562 802.46 L52.3562 796.572 L57.8944 796.572 Q54.6797 794.471 53.0883 791.638 Q51.4968 788.774 51.4968 785.05 Q51.4968 778.907 55.3163 775.756 Q59.1038 772.605 66.4881 772.605 Z\" fill=\"#000000\" fill-rule=\"evenodd\" fill-opacity=\"1\" /><path clip-path=\"url(#clip310)\" d=\"M 0 0 M42.2347 760.669 L52.3562 760.669 L52.3562 748.606 L56.9077 748.606 L56.9077 760.669 L76.2594 760.669 Q80.6199 760.669 81.8613 759.491 Q83.1026 758.282 83.1026 754.622 L83.1026 748.606 L88.0042 748.606 L88.0042 754.622 Q88.0042 761.401 85.4897 763.979 Q82.9434 766.557 76.2594 766.557 L56.9077 766.557 L56.9077 770.854 L52.3562 770.854 L52.3562 766.557 L42.2347 766.557 L42.2347 760.669 Z\" fill=\"#000000\" fill-rule=\"evenodd\" fill-opacity=\"1\" /><path clip-path=\"url(#clip310)\" d=\"M 0 0 M57.8307 721.806 Q57.2578 722.793 57.0032 723.971 Q56.7167 725.117 56.7167 726.517 Q56.7167 731.482 59.9632 734.156 Q63.1779 736.798 69.2253 736.798 L88.0042 736.798 L88.0042 742.686 L52.3562 742.686 L52.3562 736.798 L57.8944 736.798 Q54.6479 734.952 53.0883 731.991 Q51.4968 729.031 51.4968 724.798 Q51.4968 724.194 51.5923 723.461 Q51.656 722.729 51.8151 721.838 L57.8307 721.806 Z\" fill=\"#000000\" fill-rule=\"evenodd\" fill-opacity=\"1\" /><path clip-path=\"url(#clip310)\" d=\"M 0 0 M56.4621 703.282 Q56.4621 707.993 60.1542 710.73 Q63.8145 713.467 70.212 713.467 Q76.6095 713.467 80.3017 710.762 Q83.9619 708.025 83.9619 703.282 Q83.9619 698.603 80.2698 695.866 Q76.5777 693.129 70.212 693.129 Q63.8781 693.129 60.186 695.866 Q56.4621 698.603 56.4621 703.282 M51.4968 703.282 Q51.4968 695.643 56.4621 691.283 Q61.4273 686.922 70.212 686.922 Q78.9649 686.922 83.9619 691.283 Q88.9272 695.643 88.9272 703.282 Q88.9272 710.953 83.9619 715.313 Q78.9649 719.642 70.212 719.642 Q61.4273 719.642 56.4621 715.313 Q51.4968 710.953 51.4968 703.282 Z\" fill=\"#000000\" fill-rule=\"evenodd\" fill-opacity=\"1\" /><path clip-path=\"url(#clip310)\" d=\"M 0 0 M82.657 675.114 L101.563 675.114 L101.563 681.002 L52.3562 681.002 L52.3562 675.114 L57.7671 675.114 Q54.5842 673.268 53.0564 670.467 Q51.4968 667.634 51.4968 663.719 Q51.4968 657.226 56.6531 653.184 Q61.8093 649.11 70.212 649.11 Q78.6147 649.11 83.771 653.184 Q88.9272 657.226 88.9272 663.719 Q88.9272 667.634 87.3994 670.467 Q85.8398 673.268 82.657 675.114 M70.212 655.189 Q63.7508 655.189 60.0905 657.863 Q56.3984 660.505 56.3984 665.152 Q56.3984 669.799 60.0905 672.472 Q63.7508 675.114 70.212 675.114 Q76.6732 675.114 80.3653 672.472 Q84.0256 669.799 84.0256 665.152 Q84.0256 660.505 80.3653 657.863 Q76.6732 655.189 70.212 655.189 Z\" fill=\"#000000\" fill-rule=\"evenodd\" fill-opacity=\"1\" /><path clip-path=\"url(#clip310)\" d=\"M 0 0 M52.3562 642.967 L52.3562 637.111 L88.0042 637.111 L88.0042 642.967 L52.3562 642.967 M38.479 642.967 L38.479 637.111 L45.895 637.111 L45.895 642.967 L38.479 642.967 Z\" fill=\"#000000\" fill-rule=\"evenodd\" fill-opacity=\"1\" /><path clip-path=\"url(#clip310)\" d=\"M 0 0 M70.0847 614.767 Q70.0847 621.865 71.7079 624.602 Q73.3312 627.339 77.2461 627.339 Q80.3653 627.339 82.2114 625.302 Q84.0256 623.233 84.0256 619.7 Q84.0256 614.831 80.5881 611.902 Q77.1188 608.942 71.3897 608.942 L70.0847 608.942 L70.0847 614.767 M67.6657 603.086 L88.0042 603.086 L88.0042 608.942 L82.5933 608.942 Q85.8398 610.948 87.3994 613.939 Q88.9272 616.931 88.9272 621.26 Q88.9272 626.735 85.8716 629.981 Q82.7843 633.196 77.6281 633.196 Q71.6125 633.196 68.5569 629.185 Q65.5014 625.143 65.5014 617.154 L65.5014 608.942 L64.9285 608.942 Q60.8862 608.942 58.6901 611.616 Q56.4621 614.258 56.4621 619.064 Q56.4621 622.119 57.1941 625.016 Q57.9262 627.912 59.3903 630.586 L53.9795 630.586 Q52.7381 627.371 52.1334 624.347 Q51.4968 621.324 51.4968 618.459 Q51.4968 610.725 55.5072 606.905 Q59.5176 603.086 67.6657 603.086 Z\" fill=\"#000000\" fill-rule=\"evenodd\" fill-opacity=\"1\" /><circle clip-path=\"url(#clip312)\" cx=\"452.628\" cy=\"859.718\" r=\"14\" fill=\"#009af9\" fill-rule=\"evenodd\" fill-opacity=\"1\" stroke=\"#000000\" stroke-opacity=\"1\" stroke-width=\"3.2\"/>\n",
       "<circle clip-path=\"url(#clip312)\" cx=\"606.36\" cy=\"893.836\" r=\"14\" fill=\"#009af9\" fill-rule=\"evenodd\" fill-opacity=\"1\" stroke=\"#000000\" stroke-opacity=\"1\" stroke-width=\"3.2\"/>\n",
       "<circle clip-path=\"url(#clip312)\" cx=\"760.092\" cy=\"991.508\" r=\"14\" fill=\"#009af9\" fill-rule=\"evenodd\" fill-opacity=\"1\" stroke=\"#000000\" stroke-opacity=\"1\" stroke-width=\"3.2\"/>\n",
       "<circle clip-path=\"url(#clip312)\" cx=\"913.824\" cy=\"1052.19\" r=\"14\" fill=\"#009af9\" fill-rule=\"evenodd\" fill-opacity=\"1\" stroke=\"#000000\" stroke-opacity=\"1\" stroke-width=\"3.2\"/>\n",
       "<circle clip-path=\"url(#clip312)\" cx=\"1067.56\" cy=\"1086.36\" r=\"14\" fill=\"#009af9\" fill-rule=\"evenodd\" fill-opacity=\"1\" stroke=\"#000000\" stroke-opacity=\"1\" stroke-width=\"3.2\"/>\n",
       "<circle clip-path=\"url(#clip312)\" cx=\"1221.29\" cy=\"1139.72\" r=\"14\" fill=\"#009af9\" fill-rule=\"evenodd\" fill-opacity=\"1\" stroke=\"#000000\" stroke-opacity=\"1\" stroke-width=\"3.2\"/>\n",
       "<circle clip-path=\"url(#clip312)\" cx=\"1375.02\" cy=\"1163.54\" r=\"14\" fill=\"#009af9\" fill-rule=\"evenodd\" fill-opacity=\"1\" stroke=\"#000000\" stroke-opacity=\"1\" stroke-width=\"3.2\"/>\n",
       "<circle clip-path=\"url(#clip312)\" cx=\"1528.75\" cy=\"1187.91\" r=\"14\" fill=\"#009af9\" fill-rule=\"evenodd\" fill-opacity=\"1\" stroke=\"#000000\" stroke-opacity=\"1\" stroke-width=\"3.2\"/>\n",
       "<circle clip-path=\"url(#clip312)\" cx=\"1682.48\" cy=\"1220.71\" r=\"14\" fill=\"#009af9\" fill-rule=\"evenodd\" fill-opacity=\"1\" stroke=\"#000000\" stroke-opacity=\"1\" stroke-width=\"3.2\"/>\n",
       "<circle clip-path=\"url(#clip312)\" cx=\"1836.22\" cy=\"1249.32\" r=\"14\" fill=\"#009af9\" fill-rule=\"evenodd\" fill-opacity=\"1\" stroke=\"#000000\" stroke-opacity=\"1\" stroke-width=\"3.2\"/>\n",
       "<circle clip-path=\"url(#clip312)\" cx=\"1989.95\" cy=\"1295\" r=\"14\" fill=\"#009af9\" fill-rule=\"evenodd\" fill-opacity=\"1\" stroke=\"#000000\" stroke-opacity=\"1\" stroke-width=\"3.2\"/>\n",
       "<circle clip-path=\"url(#clip312)\" cx=\"2143.68\" cy=\"1322.88\" r=\"14\" fill=\"#009af9\" fill-rule=\"evenodd\" fill-opacity=\"1\" stroke=\"#000000\" stroke-opacity=\"1\" stroke-width=\"3.2\"/>\n",
       "<circle clip-path=\"url(#clip312)\" cx=\"2297.41\" cy=\"1359.05\" r=\"14\" fill=\"#009af9\" fill-rule=\"evenodd\" fill-opacity=\"1\" stroke=\"#000000\" stroke-opacity=\"1\" stroke-width=\"3.2\"/>\n",
       "<circle clip-path=\"url(#clip312)\" cx=\"452.628\" cy=\"857.559\" r=\"14\" fill=\"#e26f46\" fill-rule=\"evenodd\" fill-opacity=\"1\" stroke=\"#000000\" stroke-opacity=\"1\" stroke-width=\"3.2\"/>\n",
       "<circle clip-path=\"url(#clip312)\" cx=\"606.36\" cy=\"517.268\" r=\"14\" fill=\"#e26f46\" fill-rule=\"evenodd\" fill-opacity=\"1\" stroke=\"#000000\" stroke-opacity=\"1\" stroke-width=\"3.2\"/>\n",
       "<circle clip-path=\"url(#clip312)\" cx=\"760.092\" cy=\"372.016\" r=\"14\" fill=\"#e26f46\" fill-rule=\"evenodd\" fill-opacity=\"1\" stroke=\"#000000\" stroke-opacity=\"1\" stroke-width=\"3.2\"/>\n",
       "<circle clip-path=\"url(#clip312)\" cx=\"913.824\" cy=\"410.718\" r=\"14\" fill=\"#e26f46\" fill-rule=\"evenodd\" fill-opacity=\"1\" stroke=\"#000000\" stroke-opacity=\"1\" stroke-width=\"3.2\"/>\n",
       "<circle clip-path=\"url(#clip312)\" cx=\"1067.56\" cy=\"414.125\" r=\"14\" fill=\"#e26f46\" fill-rule=\"evenodd\" fill-opacity=\"1\" stroke=\"#000000\" stroke-opacity=\"1\" stroke-width=\"3.2\"/>\n",
       "<circle clip-path=\"url(#clip312)\" cx=\"1221.29\" cy=\"376.242\" r=\"14\" fill=\"#e26f46\" fill-rule=\"evenodd\" fill-opacity=\"1\" stroke=\"#000000\" stroke-opacity=\"1\" stroke-width=\"3.2\"/>\n",
       "<circle clip-path=\"url(#clip312)\" cx=\"1375.02\" cy=\"441.793\" r=\"14\" fill=\"#e26f46\" fill-rule=\"evenodd\" fill-opacity=\"1\" stroke=\"#000000\" stroke-opacity=\"1\" stroke-width=\"3.2\"/>\n",
       "<circle clip-path=\"url(#clip312)\" cx=\"1528.75\" cy=\"426.363\" r=\"14\" fill=\"#e26f46\" fill-rule=\"evenodd\" fill-opacity=\"1\" stroke=\"#000000\" stroke-opacity=\"1\" stroke-width=\"3.2\"/>\n",
       "<circle clip-path=\"url(#clip312)\" cx=\"1682.48\" cy=\"216.997\" r=\"14\" fill=\"#e26f46\" fill-rule=\"evenodd\" fill-opacity=\"1\" stroke=\"#000000\" stroke-opacity=\"1\" stroke-width=\"3.2\"/>\n",
       "<circle clip-path=\"url(#clip312)\" cx=\"1836.22\" cy=\"257.783\" r=\"14\" fill=\"#e26f46\" fill-rule=\"evenodd\" fill-opacity=\"1\" stroke=\"#000000\" stroke-opacity=\"1\" stroke-width=\"3.2\"/>\n",
       "<circle clip-path=\"url(#clip312)\" cx=\"1989.95\" cy=\"293.062\" r=\"14\" fill=\"#e26f46\" fill-rule=\"evenodd\" fill-opacity=\"1\" stroke=\"#000000\" stroke-opacity=\"1\" stroke-width=\"3.2\"/>\n",
       "<circle clip-path=\"url(#clip312)\" cx=\"2143.68\" cy=\"85.4521\" r=\"14\" fill=\"#e26f46\" fill-rule=\"evenodd\" fill-opacity=\"1\" stroke=\"#000000\" stroke-opacity=\"1\" stroke-width=\"3.2\"/>\n",
       "<circle clip-path=\"url(#clip312)\" cx=\"2297.41\" cy=\"157.558\" r=\"14\" fill=\"#e26f46\" fill-rule=\"evenodd\" fill-opacity=\"1\" stroke=\"#000000\" stroke-opacity=\"1\" stroke-width=\"3.2\"/>\n",
       "<path clip-path=\"url(#clip310)\" d=\"\n",
       "M462.467 1352.26 L790.389 1352.26 L790.389 1170.82 L462.467 1170.82  Z\n",
       "  \" fill=\"#ffffff\" fill-rule=\"evenodd\" fill-opacity=\"1\"/>\n",
       "<polyline clip-path=\"url(#clip310)\" style=\"stroke:#000000; stroke-width:4; stroke-opacity:1; fill:none\" points=\"\n",
       "  462.467,1352.26 790.389,1352.26 790.389,1170.82 462.467,1170.82 462.467,1352.26 \n",
       "  \"/>\n",
       "<circle clip-path=\"url(#clip310)\" cx=\"549.377\" cy=\"1231.3\" r=\"23\" fill=\"#009af9\" fill-rule=\"evenodd\" fill-opacity=\"1\" stroke=\"#000000\" stroke-opacity=\"1\" stroke-width=\"5.12\"/>\n",
       "<path clip-path=\"url(#clip310)\" d=\"M 0 0 M648.184 1225.64 Q644.759 1225.64 642.768 1228.32 Q640.777 1230.99 640.777 1235.64 Q640.777 1240.29 642.745 1242.98 Q644.735 1245.64 648.184 1245.64 Q651.587 1245.64 653.578 1242.95 Q655.569 1240.27 655.569 1235.64 Q655.569 1231.03 653.578 1228.35 Q651.587 1225.64 648.184 1225.64 M648.184 1222.03 Q653.74 1222.03 656.911 1225.64 Q660.083 1229.25 660.083 1235.64 Q660.083 1242.01 656.911 1245.64 Q653.74 1249.25 648.184 1249.25 Q642.606 1249.25 639.435 1245.64 Q636.286 1242.01 636.286 1235.64 Q636.286 1229.25 639.435 1225.64 Q642.606 1222.03 648.184 1222.03 Z\" fill=\"#000000\" fill-rule=\"evenodd\" fill-opacity=\"1\" /><path clip-path=\"url(#clip310)\" d=\"M 0 0 M679.573 1226.63 Q678.856 1226.22 677.999 1226.03 Q677.166 1225.82 676.147 1225.82 Q672.536 1225.82 670.592 1228.19 Q668.67 1230.52 668.67 1234.92 L668.67 1248.58 L664.388 1248.58 L664.388 1222.65 L668.67 1222.65 L668.67 1226.68 Q670.013 1224.32 672.166 1223.19 Q674.319 1222.03 677.397 1222.03 Q677.837 1222.03 678.369 1222.1 Q678.902 1222.14 679.55 1222.26 L679.573 1226.63 Z\" fill=\"#000000\" fill-rule=\"evenodd\" fill-opacity=\"1\" /><circle clip-path=\"url(#clip310)\" cx=\"549.377\" cy=\"1291.78\" r=\"23\" fill=\"#e26f46\" fill-rule=\"evenodd\" fill-opacity=\"1\" stroke=\"#000000\" stroke-opacity=\"1\" stroke-width=\"5.12\"/>\n",
       "<path clip-path=\"url(#clip310)\" d=\"M 0 0 M640.569 1305.17 L640.569 1318.92 L636.286 1318.92 L636.286 1283.13 L640.569 1283.13 L640.569 1287.07 Q641.911 1284.75 643.948 1283.64 Q646.009 1282.51 648.856 1282.51 Q653.578 1282.51 656.518 1286.26 Q659.481 1290.01 659.481 1296.12 Q659.481 1302.23 656.518 1305.98 Q653.578 1309.73 648.856 1309.73 Q646.009 1309.73 643.948 1308.62 Q641.911 1307.49 640.569 1305.17 M655.059 1296.12 Q655.059 1291.42 653.115 1288.76 Q651.194 1286.07 647.814 1286.07 Q644.434 1286.07 642.49 1288.76 Q640.569 1291.42 640.569 1296.12 Q640.569 1300.82 642.49 1303.5 Q644.434 1306.17 647.814 1306.17 Q651.194 1306.17 653.115 1303.5 Q655.059 1300.82 655.059 1296.12 Z\" fill=\"#000000\" fill-rule=\"evenodd\" fill-opacity=\"1\" /><path clip-path=\"url(#clip310)\" d=\"M 0 0 M686.124 1295.03 L686.124 1297.11 L666.541 1297.11 Q666.819 1301.51 669.18 1303.83 Q671.564 1306.12 675.8 1306.12 Q678.254 1306.12 680.545 1305.52 Q682.86 1304.92 685.129 1303.71 L685.129 1307.74 Q682.837 1308.71 680.43 1309.22 Q678.022 1309.73 675.545 1309.73 Q669.342 1309.73 665.708 1306.12 Q662.096 1302.51 662.096 1296.35 Q662.096 1289.99 665.522 1286.26 Q668.971 1282.51 674.805 1282.51 Q680.036 1282.51 683.069 1285.89 Q686.124 1289.24 686.124 1295.03 M681.865 1293.78 Q681.819 1290.29 679.897 1288.2 Q677.999 1286.12 674.851 1286.12 Q671.286 1286.12 669.133 1288.13 Q667.004 1290.15 666.68 1293.8 L681.865 1293.78 Z\" fill=\"#000000\" fill-rule=\"evenodd\" fill-opacity=\"1\" /><path clip-path=\"url(#clip310)\" d=\"M 0 0 M705.615 1287.11 Q704.897 1286.7 704.041 1286.51 Q703.207 1286.3 702.189 1286.3 Q698.578 1286.3 696.633 1288.67 Q694.712 1291 694.712 1295.4 L694.712 1309.06 L690.43 1309.06 L690.43 1283.13 L694.712 1283.13 L694.712 1287.16 Q696.055 1284.8 698.207 1283.67 Q700.36 1282.51 703.439 1282.51 Q703.879 1282.51 704.411 1282.58 Q704.943 1282.62 705.592 1282.74 L705.615 1287.11 Z\" fill=\"#000000\" fill-rule=\"evenodd\" fill-opacity=\"1\" /><path clip-path=\"url(#clip310)\" d=\"M 0 0 M729.434 1288.11 Q731.031 1285.24 733.253 1283.87 Q735.476 1282.51 738.485 1282.51 Q742.536 1282.51 744.735 1285.36 Q746.934 1288.18 746.934 1293.41 L746.934 1309.06 L742.652 1309.06 L742.652 1293.55 Q742.652 1289.82 741.332 1288.02 Q740.013 1286.21 737.304 1286.21 Q733.994 1286.21 732.073 1288.41 Q730.152 1290.61 730.152 1294.41 L730.152 1309.06 L725.869 1309.06 L725.869 1293.55 Q725.869 1289.8 724.55 1288.02 Q723.23 1286.21 720.476 1286.21 Q717.212 1286.21 715.291 1288.43 Q713.369 1290.63 713.369 1294.41 L713.369 1309.06 L709.087 1309.06 L709.087 1283.13 L713.369 1283.13 L713.369 1287.16 Q714.828 1284.78 716.865 1283.64 Q718.902 1282.51 721.703 1282.51 Q724.527 1282.51 726.494 1283.94 Q728.485 1285.38 729.434 1288.11 Z\" fill=\"#000000\" fill-rule=\"evenodd\" fill-opacity=\"1\" /></svg>\n"
      ]
     },
     "execution_count": 56,
     "metadata": {},
     "output_type": "execute_result"
    }
   ],
   "source": [
    "scatter([ listaentropia listaentropia_b], labels = [\"or\" \"perm\"], xlabel = \"paso\", ylabel = \"entropia\", xtickfontsize=14,ytickfontsize=14, xtick = (1:13, 2:14), legend=:bottomleft)"
   ]
  },
  {
   "cell_type": "markdown",
   "metadata": {},
   "source": [
    "# Distribución $\\Lambda(\\tilde P)$"
   ]
  },
  {
   "cell_type": "markdown",
   "metadata": {},
   "source": [
    "En esta parte, considero los valores de pertenencia para distintas extensiones lineales aleatorias."
   ]
  },
  {
   "cell_type": "markdown",
   "metadata": {},
   "source": [
    "**Adendum**: el resultado de esta sección, con respecto a los posets $m^2$ y $m^3$, es como sigue.\n",
    "Considérense las extensiones lineales calculadas del poset obtenido ---por $m^i$.\n",
    "Estas extensiones lineales reciben un valor de membresía igual a $0$ para el poset borroso, usando\n",
    "la lista de puntuaciones con $m^2$."
   ]
  },
  {
   "cell_type": "markdown",
   "metadata": {},
   "source": [
    "El proceso fue el siguiente:\n",
    "1. encontrar un poset crisp\n",
    "2. calcular extensiones lineales aleatorias de éste, $L_2$ y $L_3$ para los posets $m^2$ y $m^3$, respectivamente.\n",
    "3. usar $L$ para los posets $m^2$ y $m^3$."
   ]
  },
  {
   "cell_type": "code",
   "execution_count": 15,
   "metadata": {},
   "outputs": [
    {
     "data": {
      "text/plain": [
       "5184-element Array{Array{Int64,1},1}:\n",
       " [11, 7, 2, 13, 3, 8, 1, 19, 18, 10, 20, 4, 14, 15, 12, 5, 17, 16, 6, 9]\n",
       " [11, 7, 2, 13, 3, 8, 1, 19, 18, 10, 20, 4, 14, 15, 12, 5, 17, 16, 6, 9]\n",
       " [11, 7, 2, 13, 3, 8, 1, 19, 18, 10, 20, 4, 14, 15, 12, 5, 17, 16, 6, 9]\n",
       " [11, 7, 2, 13, 3, 8, 1, 19, 18, 10, 20, 4, 14, 15, 12, 5, 17, 16, 6, 9]\n",
       " [11, 7, 2, 13, 3, 8, 1, 19, 18, 10, 20, 4, 14, 15, 12, 5, 17, 16, 6, 9]\n",
       " [11, 7, 2, 13, 3, 8, 1, 19, 18, 10, 20, 4, 14, 15, 12, 5, 17, 16, 6, 9]\n",
       " [11, 7, 2, 13, 3, 8, 1, 19, 18, 10, 20, 4, 14, 15, 12, 5, 17, 16, 6, 9]\n",
       " [11, 7, 2, 13, 3, 8, 1, 19, 18, 10, 20, 4, 14, 15, 12, 5, 17, 16, 6, 9]\n",
       " [11, 7, 2, 13, 3, 8, 1, 19, 18, 10, 20, 4, 14, 15, 12, 5, 17, 16, 6, 9]\n",
       " [11, 7, 2, 13, 3, 8, 1, 19, 18, 10, 20, 4, 14, 15, 12, 5, 17, 16, 6, 9]\n",
       " [11, 7, 2, 13, 3, 8, 1, 19, 18, 10, 20, 4, 14, 15, 12, 5, 17, 16, 6, 9]\n",
       " [11, 7, 2, 13, 3, 8, 1, 19, 18, 10, 20, 4, 14, 15, 12, 5, 17, 16, 6, 9]\n",
       " [11, 7, 2, 13, 3, 8, 1, 19, 18, 10, 20, 4, 14, 15, 12, 5, 17, 16, 6, 9]\n",
       " ⋮\n",
       " [11, 7, 2, 13, 3, 8, 1, 19, 18, 10, 20, 4, 14, 15, 12, 5, 17, 16, 6, 9]\n",
       " [11, 7, 2, 13, 3, 8, 1, 19, 18, 10, 20, 4, 14, 15, 12, 5, 17, 16, 6, 9]\n",
       " [11, 7, 2, 13, 3, 8, 1, 19, 18, 10, 20, 4, 14, 15, 12, 5, 17, 16, 6, 9]\n",
       " [11, 7, 2, 13, 3, 1, 8, 19, 18, 10, 20, 4, 14, 15, 12, 5, 17, 16, 6, 9]\n",
       " [11, 7, 2, 13, 3, 8, 1, 19, 18, 10, 20, 4, 14, 15, 12, 5, 17, 16, 6, 9]\n",
       " [11, 7, 2, 13, 3, 8, 1, 19, 18, 10, 20, 4, 14, 15, 12, 5, 17, 16, 6, 9]\n",
       " [11, 7, 2, 13, 3, 8, 1, 19, 18, 10, 20, 4, 14, 15, 12, 5, 17, 16, 6, 9]\n",
       " [11, 7, 2, 13, 3, 8, 1, 19, 18, 10, 20, 4, 14, 15, 12, 5, 17, 16, 6, 9]\n",
       " [11, 7, 2, 13, 3, 8, 1, 19, 18, 10, 20, 4, 14, 15, 12, 5, 17, 16, 6, 9]\n",
       " [11, 7, 2, 13, 3, 8, 1, 19, 18, 10, 20, 4, 14, 15, 12, 5, 17, 16, 6, 9]\n",
       " [11, 7, 2, 13, 3, 8, 1, 19, 18, 10, 20, 4, 14, 15, 12, 5, 17, 16, 6, 9]\n",
       " [11, 7, 2, 13, 3, 8, 1, 19, 18, 10, 20, 4, 14, 15, 12, 5, 17, 16, 6, 9]"
      ]
     },
     "execution_count": 15,
     "metadata": {},
     "output_type": "execute_result"
    }
   ],
   "source": [
    "posetsaleatorios_m2 = [caminatale(poset_m2 |> pareja_matrizadyacencia,10^2) for _ in 1:72^2]"
   ]
  },
  {
   "cell_type": "code",
   "execution_count": 16,
   "metadata": {},
   "outputs": [
    {
     "data": {
      "text/plain": [
       "5184-element Array{Array{Int64,1},1}:\n",
       " [11, 7, 2, 13, 19, 10, 3, 8, 1, 20, 18, 4, 14, 15, 12, 5, 17, 16, 6, 9]\n",
       " [11, 7, 2, 13, 19, 10, 3, 8, 1, 20, 18, 4, 14, 15, 12, 5, 17, 16, 6, 9]\n",
       " [11, 7, 2, 13, 19, 10, 3, 8, 1, 20, 18, 4, 14, 15, 12, 5, 17, 16, 6, 9]\n",
       " [11, 7, 2, 13, 19, 10, 3, 8, 1, 20, 18, 4, 14, 15, 12, 5, 17, 16, 6, 9]\n",
       " [11, 7, 2, 13, 19, 10, 3, 8, 1, 20, 18, 4, 14, 15, 12, 5, 17, 16, 6, 9]\n",
       " [11, 7, 2, 13, 19, 10, 3, 8, 1, 20, 18, 4, 14, 15, 12, 5, 17, 16, 6, 9]\n",
       " [11, 7, 2, 13, 19, 10, 3, 8, 1, 20, 18, 4, 14, 15, 12, 5, 17, 16, 6, 9]\n",
       " [11, 7, 2, 13, 19, 10, 3, 8, 1, 20, 18, 4, 14, 15, 12, 5, 17, 16, 6, 9]\n",
       " [11, 7, 2, 13, 19, 10, 3, 8, 1, 20, 18, 4, 14, 15, 12, 5, 17, 16, 6, 9]\n",
       " [11, 7, 2, 13, 19, 10, 3, 8, 1, 20, 18, 4, 14, 15, 12, 5, 17, 16, 6, 9]\n",
       " [11, 7, 2, 13, 19, 10, 3, 8, 1, 20, 18, 4, 14, 15, 12, 5, 17, 16, 6, 9]\n",
       " [11, 7, 2, 13, 19, 10, 3, 8, 1, 20, 18, 4, 14, 15, 12, 5, 17, 16, 6, 9]\n",
       " [11, 7, 2, 13, 19, 10, 3, 8, 1, 20, 18, 4, 14, 15, 12, 5, 17, 16, 6, 9]\n",
       " ⋮\n",
       " [11, 7, 2, 13, 19, 10, 3, 8, 1, 20, 18, 4, 14, 15, 12, 5, 17, 16, 6, 9]\n",
       " [11, 7, 2, 13, 19, 10, 3, 8, 1, 20, 18, 4, 14, 15, 12, 5, 17, 16, 6, 9]\n",
       " [11, 7, 2, 13, 19, 10, 3, 8, 1, 20, 18, 4, 14, 15, 12, 5, 17, 16, 6, 9]\n",
       " [11, 7, 2, 13, 19, 10, 3, 8, 1, 20, 18, 4, 14, 15, 12, 5, 17, 16, 6, 9]\n",
       " [11, 7, 2, 13, 19, 10, 3, 8, 1, 20, 18, 4, 14, 15, 12, 5, 17, 16, 6, 9]\n",
       " [11, 7, 2, 13, 19, 10, 3, 8, 1, 20, 18, 4, 14, 12, 15, 5, 17, 16, 6, 9]\n",
       " [11, 7, 2, 13, 19, 10, 3, 8, 1, 20, 18, 4, 14, 15, 12, 5, 17, 16, 6, 9]\n",
       " [11, 7, 2, 13, 19, 10, 3, 8, 1, 20, 18, 4, 14, 15, 12, 5, 17, 16, 6, 9]\n",
       " [11, 7, 2, 13, 19, 10, 3, 8, 1, 20, 18, 4, 14, 15, 12, 5, 17, 16, 6, 9]\n",
       " [11, 7, 2, 13, 19, 10, 3, 8, 1, 20, 18, 4, 14, 15, 12, 5, 17, 16, 6, 9]\n",
       " [11, 7, 2, 13, 19, 10, 3, 8, 1, 20, 18, 4, 14, 15, 12, 5, 17, 16, 6, 9]\n",
       " [11, 7, 2, 13, 19, 10, 3, 8, 1, 20, 18, 4, 14, 15, 12, 5, 17, 16, 6, 9]"
      ]
     },
     "execution_count": 16,
     "metadata": {},
     "output_type": "execute_result"
    }
   ],
   "source": [
    "posetsaleatorios_m3 = [caminatale(poset_m3 |> pareja_matrizadyacencia,10^2) for _ in 1:72^2]"
   ]
  },
  {
   "cell_type": "markdown",
   "metadata": {},
   "source": [
    "Primero vemos como el poset $m^2$ no es compatible con el $m^3$."
   ]
  },
  {
   "cell_type": "code",
   "execution_count": 17,
   "metadata": {},
   "outputs": [
    {
     "data": {
      "text/plain": [
       "20×20 Array{Int64,2}:\n",
       " 0  0  0  1  1  1  0  0  1  1  0  1  0  1  1  1  1  1  1  1\n",
       " 1  0  1  1  1  1  0  1  1  1  0  1  1  1  1  1  1  1  1  1\n",
       " 0  0  0  1  1  1  0  1  1  0  0  1  0  1  1  1  1  1  0  1\n",
       " 0  0  0  0  1  1  0  0  1  0  0  1  0  1  1  1  1  0  0  0\n",
       " 0  0  0  0  0  1  0  0  1  0  0  0  0  0  0  1  1  0  0  0\n",
       " 0  0  0  0  0  0  0  0  1  0  0  0  0  0  0  0  0  0  0  0\n",
       " 1  1  1  1  1  1  0  1  1  1  0  1  1  1  1  1  1  1  1  1\n",
       " 0  0  0  1  1  1  0  0  1  0  0  1  0  1  1  1  1  0  0  1\n",
       " 0  0  0  0  0  0  0  0  0  0  0  0  0  0  0  0  0  0  0  0\n",
       " 0  0  0  0  1  1  0  0  1  0  0  1  0  1  1  1  1  0  0  1\n",
       " 1  1  1  1  1  1  1  1  1  1  0  1  1  1  1  1  1  1  1  1\n",
       " 0  0  0  0  0  1  0  0  1  0  0  0  0  0  0  1  0  0  0  0\n",
       " 1  0  1  1  1  1  0  1  1  1  0  1  0  1  1  1  1  1  1  1\n",
       " 0  0  0  0  1  1  0  0  1  0  0  0  0  0  1  1  1  0  0  0\n",
       " 0  0  0  0  0  1  0  0  1  0  0  0  0  0  0  1  0  0  0  0\n",
       " 0  0  0  0  0  1  0  0  1  0  0  0  0  0  0  0  0  0  0  0\n",
       " 0  0  0  0  0  1  0  0  1  0  0  0  0  0  0  1  0  0  0  0\n",
       " 0  0  0  0  1  1  0  0  1  0  0  1  0  1  1  1  1  0  0  1\n",
       " 0  0  0  1  1  1  0  0  1  1  0  1  0  1  1  1  1  1  0  1\n",
       " 0  0  0  0  0  1  0  0  1  0  0  1  0  0  0  1  0  0  0  0"
      ]
     },
     "execution_count": 17,
     "metadata": {},
     "output_type": "execute_result"
    }
   ],
   "source": [
    "poset_m2 |> pareja_matrizadyacencia"
   ]
  },
  {
   "cell_type": "code",
   "execution_count": 18,
   "metadata": {},
   "outputs": [
    {
     "data": {
      "text/plain": [
       "Dict{Float64,Int64} with 2 entries:\n",
       "  0.0114171  => 3\n",
       "  0.00256477 => 11"
      ]
     },
     "execution_count": 18,
     "metadata": {},
     "output_type": "execute_result"
    }
   ],
   "source": [
    "countmap([membresia(x, poset_m2|> fuzzy) for x in unique!(posetsaleatorios_m2)])"
   ]
  },
  {
   "cell_type": "code",
   "execution_count": 19,
   "metadata": {},
   "outputs": [
    {
     "data": {
      "text/plain": [
       "Dict{Float64,Int64} with 2 entries:\n",
       "  0.00171494 => 11\n",
       "  0.0086177  => 3"
      ]
     },
     "execution_count": 19,
     "metadata": {},
     "output_type": "execute_result"
    }
   ],
   "source": [
    "countmap([membresia(x, poset_m3|> fuzzy) for x in unique!(posetsaleatorios_m2)])"
   ]
  },
  {
   "cell_type": "markdown",
   "metadata": {},
   "source": [
    "usando la version crisp de $m^3$"
   ]
  },
  {
   "cell_type": "code",
   "execution_count": 30,
   "metadata": {},
   "outputs": [
    {
     "data": {
      "text/plain": [
       "Dict{Float64,Int64} with 1 entry:\n",
       "  1.0 => 14"
      ]
     },
     "execution_count": 30,
     "metadata": {},
     "output_type": "execute_result"
    }
   ],
   "source": [
    "countmap([membresia(x, poset_m2|> pareja_matrizadyacencia) for x in unique!(posetsaleatorios_m2)])"
   ]
  },
  {
   "cell_type": "code",
   "execution_count": 31,
   "metadata": {},
   "outputs": [
    {
     "data": {
      "text/plain": [
       "Dict{Float64,Int64} with 1 entry:\n",
       "  1.0 => 14"
      ]
     },
     "execution_count": 31,
     "metadata": {},
     "output_type": "execute_result"
    }
   ],
   "source": [
    "countmap([membresia(x, poset_m3|> pareja_matrizadyacencia) for x in unique!(posetsaleatorios_m2)])"
   ]
  },
  {
   "cell_type": "code",
   "execution_count": 33,
   "metadata": {},
   "outputs": [
    {
     "data": {
      "text/plain": [
       "Dict{Int64,Int64} with 1 entry:\n",
       "  0 => 365"
      ]
     },
     "execution_count": 33,
     "metadata": {},
     "output_type": "execute_result"
    }
   ],
   "source": [
    "countmap([membresia(x, poset_m2|> pareja_matrizadyacencia) for x in unique!(ranks_univs)])"
   ]
  },
  {
   "cell_type": "code",
   "execution_count": 32,
   "metadata": {},
   "outputs": [
    {
     "data": {
      "text/plain": [
       "Dict{Int64,Int64} with 1 entry:\n",
       "  0 => 365"
      ]
     },
     "execution_count": 32,
     "metadata": {},
     "output_type": "execute_result"
    }
   ],
   "source": [
    "countmap([membresia(x, poset_m3|> pareja_matrizadyacencia) for x in unique!(ranks_univs)])"
   ]
  },
  {
   "cell_type": "markdown",
   "metadata": {},
   "source": [
    "... y viceversa."
   ]
  },
  {
   "cell_type": "code",
   "execution_count": 20,
   "metadata": {},
   "outputs": [
    {
     "data": {
      "text/plain": [
       "Dict{Int64,Int64} with 1 entry:\n",
       "  0 => 41"
      ]
     },
     "execution_count": 20,
     "metadata": {},
     "output_type": "execute_result"
    }
   ],
   "source": [
    "countmap([membresia(x, poset_m2|> fuzzy) for x in unique!(posetsaleatorios_m3)])"
   ]
  },
  {
   "cell_type": "code",
   "execution_count": 21,
   "metadata": {},
   "outputs": [
    {
     "data": {
      "text/plain": [
       "Dict{Float64,Int64} with 4 entries:\n",
       "  0.0118492  => 1\n",
       "  0.00171494 => 28\n",
       "  0.0114165  => 8\n",
       "  0.0086177  => 4"
      ]
     },
     "execution_count": 21,
     "metadata": {},
     "output_type": "execute_result"
    }
   ],
   "source": [
    "countmap([membresia(x, poset_m3|> fuzzy) for x in unique!(posetsaleatorios_m3)])"
   ]
  },
  {
   "cell_type": "markdown",
   "metadata": {},
   "source": [
    "## usando los rankings por puntuacion"
   ]
  },
  {
   "cell_type": "code",
   "execution_count": 24,
   "metadata": {},
   "outputs": [
    {
     "data": {
      "text/plain": [
       "Dict{Int64,Int64} with 1 entry:\n",
       "  0 => 365"
      ]
     },
     "execution_count": 24,
     "metadata": {},
     "output_type": "execute_result"
    }
   ],
   "source": [
    "countmap([membresia(x, poset_m3|> fuzzy) for x in unique!(ranks_univs)])"
   ]
  },
  {
   "cell_type": "code",
   "execution_count": 25,
   "metadata": {},
   "outputs": [
    {
     "data": {
      "text/plain": [
       "Dict{Int64,Int64} with 1 entry:\n",
       "  0 => 365"
      ]
     },
     "execution_count": 25,
     "metadata": {},
     "output_type": "execute_result"
    }
   ],
   "source": [
    "countmap([membresia(x, poset_m2|> fuzzy) for x in unique!(ranks_univs)])"
   ]
  },
  {
   "cell_type": "code",
   "execution_count": 26,
   "metadata": {},
   "outputs": [
    {
     "data": {
      "text/plain": [
       "Dict{Real,Int64} with 2 entries:\n",
       "  0   => 278\n",
       "  1.0 => 87"
      ]
     },
     "execution_count": 26,
     "metadata": {},
     "output_type": "execute_result"
    }
   ],
   "source": [
    "countmap([membresia(x, αcut_poset(poset_mn, .7)) for x in unique!(ranks_univs)])"
   ]
  },
  {
   "cell_type": "code",
   "execution_count": 27,
   "metadata": {},
   "outputs": [
    {
     "data": {
      "text/plain": [
       "Dict{Real,Int64} with 2 entries:\n",
       "  0   => 278\n",
       "  1.0 => 87"
      ]
     },
     "execution_count": 27,
     "metadata": {},
     "output_type": "execute_result"
    }
   ],
   "source": [
    "countmap([membresia(x, αcut_poset(poset_mn, .6)) for x in unique!(ranks_univs)])"
   ]
  },
  {
   "cell_type": "code",
   "execution_count": 28,
   "metadata": {},
   "outputs": [
    {
     "data": {
      "text/plain": [
       "Dict{Real,Int64} with 2 entries:\n",
       "  0   => 278\n",
       "  1.0 => 87"
      ]
     },
     "execution_count": 28,
     "metadata": {},
     "output_type": "execute_result"
    }
   ],
   "source": [
    "countmap([membresia(x, αcut_poset(poset_mn, .5)) for x in unique!(ranks_univs)])"
   ]
  },
  {
   "cell_type": "code",
   "execution_count": 29,
   "metadata": {},
   "outputs": [
    {
     "data": {
      "text/plain": [
       "Dict{Real,Int64} with 2 entries:\n",
       "  0   => 278\n",
       "  1.0 => 87"
      ]
     },
     "execution_count": 29,
     "metadata": {},
     "output_type": "execute_result"
    }
   ],
   "source": [
    "countmap([membresia(x, αcut_poset(poset_mn, .4)) for x in unique!(ranks_univs)])"
   ]
  },
  {
   "cell_type": "markdown",
   "metadata": {},
   "source": [
    "Ahora vamos a comparar la compatibilidad entre distintos $\\alpha$ cuts"
   ]
  },
  {
   "cell_type": "code",
   "execution_count": 96,
   "metadata": {},
   "outputs": [
    {
     "data": {
      "text/plain": [
       "5184-element Array{Array{Int64,1},1}:\n",
       " [72, 69, 68, 67, 66, 65, 64, 26, 22, 15  …  14, 12, 9, 4, 37, 23, 13, 3, 2, 1]\n",
       " [72, 69, 68, 67, 66, 65, 64, 26, 22, 15  …  14, 12, 9, 4, 37, 23, 13, 3, 2, 1]\n",
       " [72, 69, 68, 67, 66, 65, 64, 26, 22, 15  …  14, 12, 9, 4, 37, 23, 13, 3, 2, 1]\n",
       " [72, 69, 68, 67, 66, 65, 64, 26, 22, 15  …  14, 12, 9, 4, 37, 23, 13, 3, 2, 1]\n",
       " [72, 69, 68, 67, 66, 65, 64, 26, 22, 15  …  14, 12, 9, 4, 37, 23, 13, 3, 2, 1]\n",
       " [72, 69, 68, 67, 66, 65, 64, 26, 22, 15  …  14, 4, 9, 12, 37, 23, 13, 3, 2, 1]\n",
       " [72, 69, 68, 67, 66, 65, 64, 26, 22, 15  …  14, 12, 9, 4, 37, 23, 13, 3, 2, 1]\n",
       " [72, 69, 68, 67, 66, 65, 64, 26, 22, 15  …  14, 12, 9, 4, 37, 23, 13, 3, 2, 1]\n",
       " [72, 69, 68, 67, 66, 65, 64, 26, 22, 15  …  14, 12, 9, 4, 37, 23, 13, 3, 2, 1]\n",
       " [72, 69, 68, 67, 66, 65, 64, 26, 22, 15  …  14, 12, 9, 4, 37, 23, 13, 3, 2, 1]\n",
       " [72, 69, 68, 67, 66, 65, 64, 26, 22, 15  …  14, 12, 9, 4, 37, 23, 13, 3, 2, 1]\n",
       " [72, 69, 68, 67, 66, 65, 64, 26, 22, 15  …  14, 12, 9, 4, 37, 23, 3, 13, 2, 1]\n",
       " [72, 69, 68, 67, 66, 65, 64, 26, 22, 15  …  14, 12, 9, 4, 37, 23, 13, 3, 2, 1]\n",
       " ⋮\n",
       " [72, 69, 68, 67, 66, 65, 64, 26, 22, 15  …  14, 12, 9, 4, 37, 23, 13, 3, 2, 1]\n",
       " [72, 69, 68, 67, 66, 65, 64, 26, 22, 15  …  14, 12, 9, 4, 37, 23, 13, 3, 2, 1]\n",
       " [72, 69, 68, 67, 66, 65, 64, 26, 22, 15  …  14, 12, 9, 4, 37, 23, 13, 3, 2, 1]\n",
       " [72, 69, 68, 67, 66, 65, 64, 26, 22, 15  …  14, 12, 9, 4, 37, 23, 13, 3, 2, 1]\n",
       " [72, 69, 68, 67, 66, 65, 64, 26, 22, 15  …  14, 12, 9, 4, 37, 23, 13, 3, 2, 1]\n",
       " [72, 69, 68, 67, 66, 65, 64, 26, 22, 15  …  14, 12, 9, 4, 37, 23, 13, 3, 2, 1]\n",
       " [72, 69, 68, 67, 66, 65, 64, 26, 22, 15  …  14, 12, 9, 4, 37, 23, 13, 3, 2, 1]\n",
       " [72, 69, 68, 67, 66, 65, 64, 26, 22, 15  …  14, 12, 9, 4, 37, 23, 13, 3, 2, 1]\n",
       " [72, 69, 68, 67, 66, 65, 64, 26, 22, 15  …  14, 12, 9, 4, 37, 23, 13, 3, 2, 1]\n",
       " [72, 69, 68, 67, 66, 65, 64, 26, 22, 15  …  14, 12, 9, 4, 37, 23, 13, 3, 2, 1]\n",
       " [72, 69, 68, 67, 66, 65, 64, 26, 22, 15  …  14, 12, 9, 4, 37, 23, 13, 3, 2, 1]\n",
       " [72, 69, 68, 67, 66, 65, 64, 26, 22, 15  …  14, 12, 9, 4, 37, 23, 13, 3, 2, 1]"
      ]
     },
     "execution_count": 96,
     "metadata": {},
     "output_type": "execute_result"
    }
   ],
   "source": [
    "posetsaleatorios_alpha0p5 = [caminatale(αcut_poset(poset_mn, .5),10^2) for _ in 1:72^2]"
   ]
  },
  {
   "cell_type": "markdown",
   "metadata": {},
   "source": [
    "Por lo tanto, los $\\alpha$-cut no son compatibles con $m^2$ y $m^3$."
   ]
  },
  {
   "cell_type": "code",
   "execution_count": 97,
   "metadata": {},
   "outputs": [
    {
     "data": {
      "text/plain": [
       "Dict{Int64,Int64} with 1 entry:\n",
       "  0 => 1088"
      ]
     },
     "execution_count": 97,
     "metadata": {},
     "output_type": "execute_result"
    }
   ],
   "source": [
    "countmap([membresia(x, poset_m2|> fuzzy) for x in unique!(posetsaleatorios_alpha0p5)])"
   ]
  },
  {
   "cell_type": "code",
   "execution_count": 98,
   "metadata": {},
   "outputs": [
    {
     "data": {
      "text/plain": [
       "Dict{Int64,Int64} with 1 entry:\n",
       "  0 => 1088"
      ]
     },
     "execution_count": 98,
     "metadata": {},
     "output_type": "execute_result"
    }
   ],
   "source": [
    "countmap([membresia(x, poset_m3|> fuzzy) for x in unique!(posetsaleatorios_alpha0p5)])"
   ]
  },
  {
   "cell_type": "markdown",
   "metadata": {},
   "source": [
    "Vemos que los $\\alpha$-cuts no son compatibles con $\\alpha'<\\alpha$."
   ]
  },
  {
   "cell_type": "code",
   "execution_count": 105,
   "metadata": {},
   "outputs": [
    {
     "data": {
      "text/plain": [
       "Dict{Int64,Int64} with 1 entry:\n",
       "  0 => 1088"
      ]
     },
     "execution_count": 105,
     "metadata": {},
     "output_type": "execute_result"
    }
   ],
   "source": [
    "countmap([membresia(x, αcut_poset(poset_mn, .7)) for x in unique!(posetsaleatorios_alpha0p5)])"
   ]
  },
  {
   "cell_type": "code",
   "execution_count": 104,
   "metadata": {},
   "outputs": [
    {
     "data": {
      "text/plain": [
       "Dict{Int64,Int64} with 1 entry:\n",
       "  0 => 1088"
      ]
     },
     "execution_count": 104,
     "metadata": {},
     "output_type": "execute_result"
    }
   ],
   "source": [
    "countmap([membresia(x, αcut_poset(poset_mn, .6)) for x in unique!(posetsaleatorios_alpha0p5)])"
   ]
  },
  {
   "cell_type": "code",
   "execution_count": 99,
   "metadata": {},
   "outputs": [
    {
     "data": {
      "text/plain": [
       "Dict{Float64,Int64} with 1 entry:\n",
       "  1.0 => 1088"
      ]
     },
     "execution_count": 99,
     "metadata": {},
     "output_type": "execute_result"
    }
   ],
   "source": [
    "countmap([membresia(x, αcut_poset(poset_mn, .5)) for x in unique!(posetsaleatorios_alpha0p5)])"
   ]
  },
  {
   "cell_type": "code",
   "execution_count": 100,
   "metadata": {},
   "outputs": [
    {
     "data": {
      "text/plain": [
       "Dict{Float64,Int64} with 1 entry:\n",
       "  1.0 => 1088"
      ]
     },
     "execution_count": 100,
     "metadata": {},
     "output_type": "execute_result"
    }
   ],
   "source": [
    "countmap([membresia(x, αcut_poset(poset_mn, .4)) for x in unique!(posetsaleatorios_alpha0p5)])"
   ]
  },
  {
   "cell_type": "code",
   "execution_count": 101,
   "metadata": {},
   "outputs": [
    {
     "data": {
      "text/plain": [
       "Dict{Float64,Int64} with 1 entry:\n",
       "  1.0 => 1088"
      ]
     },
     "execution_count": 101,
     "metadata": {},
     "output_type": "execute_result"
    }
   ],
   "source": [
    "countmap([membresia(x, αcut_poset(poset_mn, .3)) for x in unique!(posetsaleatorios_alpha0p5)])"
   ]
  },
  {
   "cell_type": "code",
   "execution_count": 102,
   "metadata": {},
   "outputs": [
    {
     "data": {
      "text/plain": [
       "Dict{Float64,Int64} with 1 entry:\n",
       "  1.0 => 1088"
      ]
     },
     "execution_count": 102,
     "metadata": {},
     "output_type": "execute_result"
    }
   ],
   "source": [
    "countmap([membresia(x, αcut_poset(poset_mn, .1)) for x in unique!(posetsaleatorios_alpha0p5)])"
   ]
  },
  {
   "cell_type": "markdown",
   "metadata": {},
   "source": [
    "Ahora vamos a comparar la compatibilidad entre distintos $\\alpha$ cuts"
   ]
  },
  {
   "cell_type": "code",
   "execution_count": 96,
   "metadata": {
    "collapsed": true
   },
   "outputs": [
    {
     "data": {
      "text/plain": [
       "5184-element Array{Array{Int64,1},1}:\n",
       " [72, 69, 68, 67, 66, 65, 64, 26, 22, 15  …  14, 12, 9, 4, 37, 23, 13, 3, 2, 1]\n",
       " [72, 69, 68, 67, 66, 65, 64, 26, 22, 15  …  14, 12, 9, 4, 37, 23, 13, 3, 2, 1]\n",
       " [72, 69, 68, 67, 66, 65, 64, 26, 22, 15  …  14, 12, 9, 4, 37, 23, 13, 3, 2, 1]\n",
       " [72, 69, 68, 67, 66, 65, 64, 26, 22, 15  …  14, 12, 9, 4, 37, 23, 13, 3, 2, 1]\n",
       " [72, 69, 68, 67, 66, 65, 64, 26, 22, 15  …  14, 12, 9, 4, 37, 23, 13, 3, 2, 1]\n",
       " [72, 69, 68, 67, 66, 65, 64, 26, 22, 15  …  14, 4, 9, 12, 37, 23, 13, 3, 2, 1]\n",
       " [72, 69, 68, 67, 66, 65, 64, 26, 22, 15  …  14, 12, 9, 4, 37, 23, 13, 3, 2, 1]\n",
       " [72, 69, 68, 67, 66, 65, 64, 26, 22, 15  …  14, 12, 9, 4, 37, 23, 13, 3, 2, 1]\n",
       " [72, 69, 68, 67, 66, 65, 64, 26, 22, 15  …  14, 12, 9, 4, 37, 23, 13, 3, 2, 1]\n",
       " [72, 69, 68, 67, 66, 65, 64, 26, 22, 15  …  14, 12, 9, 4, 37, 23, 13, 3, 2, 1]\n",
       " [72, 69, 68, 67, 66, 65, 64, 26, 22, 15  …  14, 12, 9, 4, 37, 23, 13, 3, 2, 1]\n",
       " [72, 69, 68, 67, 66, 65, 64, 26, 22, 15  …  14, 12, 9, 4, 37, 23, 3, 13, 2, 1]\n",
       " [72, 69, 68, 67, 66, 65, 64, 26, 22, 15  …  14, 12, 9, 4, 37, 23, 13, 3, 2, 1]\n",
       " ⋮\n",
       " [72, 69, 68, 67, 66, 65, 64, 26, 22, 15  …  14, 12, 9, 4, 37, 23, 13, 3, 2, 1]\n",
       " [72, 69, 68, 67, 66, 65, 64, 26, 22, 15  …  14, 12, 9, 4, 37, 23, 13, 3, 2, 1]\n",
       " [72, 69, 68, 67, 66, 65, 64, 26, 22, 15  …  14, 12, 9, 4, 37, 23, 13, 3, 2, 1]\n",
       " [72, 69, 68, 67, 66, 65, 64, 26, 22, 15  …  14, 12, 9, 4, 37, 23, 13, 3, 2, 1]\n",
       " [72, 69, 68, 67, 66, 65, 64, 26, 22, 15  …  14, 12, 9, 4, 37, 23, 13, 3, 2, 1]\n",
       " [72, 69, 68, 67, 66, 65, 64, 26, 22, 15  …  14, 12, 9, 4, 37, 23, 13, 3, 2, 1]\n",
       " [72, 69, 68, 67, 66, 65, 64, 26, 22, 15  …  14, 12, 9, 4, 37, 23, 13, 3, 2, 1]\n",
       " [72, 69, 68, 67, 66, 65, 64, 26, 22, 15  …  14, 12, 9, 4, 37, 23, 13, 3, 2, 1]\n",
       " [72, 69, 68, 67, 66, 65, 64, 26, 22, 15  …  14, 12, 9, 4, 37, 23, 13, 3, 2, 1]\n",
       " [72, 69, 68, 67, 66, 65, 64, 26, 22, 15  …  14, 12, 9, 4, 37, 23, 13, 3, 2, 1]\n",
       " [72, 69, 68, 67, 66, 65, 64, 26, 22, 15  …  14, 12, 9, 4, 37, 23, 13, 3, 2, 1]\n",
       " [72, 69, 68, 67, 66, 65, 64, 26, 22, 15  …  14, 12, 9, 4, 37, 23, 13, 3, 2, 1]"
      ]
     },
     "execution_count": 96,
     "metadata": {},
     "output_type": "execute_result"
    }
   ],
   "source": [
    "posetsaleatorios_alpha0p5 = [caminatale(αcut_poset(poset_mn, .5),10^2) for _ in 1:72^2]"
   ]
  },
  {
   "cell_type": "code",
   "execution_count": 106,
   "metadata": {},
   "outputs": [],
   "source": [
    "posetsaleatorios_alpha0p67 = [caminatale(αcut_poset(poset_mn, .67),10^2) for _ in 1:72^2]|>unique!;"
   ]
  },
  {
   "cell_type": "code",
   "execution_count": 121,
   "metadata": {},
   "outputs": [],
   "source": [
    "posetsaleatorios_alpha0p78 = [caminatale(αcut_poset(poset_mn, .78),10^2) for _ in 1:72^2]|>unique!;"
   ]
  },
  {
   "cell_type": "code",
   "execution_count": 103,
   "metadata": {},
   "outputs": [
    {
     "data": {
      "text/plain": [
       "1088-element Array{Array{Int64,1},1}:\n",
       " [72, 69, 68, 67, 66, 65, 64, 26, 22, 15  …  14, 12, 9, 4, 37, 23, 13, 3, 2, 1]\n",
       " [72, 69, 68, 67, 66, 65, 64, 26, 22, 15  …  14, 12, 9, 4, 37, 23, 13, 3, 2, 1]\n",
       " [72, 69, 68, 67, 66, 65, 64, 26, 22, 15  …  14, 12, 9, 4, 37, 23, 13, 3, 2, 1]\n",
       " [72, 69, 68, 67, 66, 65, 64, 26, 22, 15  …  14, 4, 9, 12, 37, 23, 13, 3, 2, 1]\n",
       " [72, 69, 68, 67, 66, 65, 64, 26, 22, 15  …  14, 12, 9, 4, 37, 23, 13, 3, 2, 1]\n",
       " [72, 69, 68, 67, 66, 65, 64, 26, 22, 15  …  14, 12, 9, 4, 37, 23, 3, 13, 2, 1]\n",
       " [72, 69, 68, 67, 66, 65, 64, 26, 22, 15  …  14, 12, 9, 4, 37, 23, 13, 3, 2, 1]\n",
       " [72, 69, 68, 67, 66, 65, 64, 26, 22, 15  …  14, 12, 9, 4, 37, 23, 13, 3, 2, 1]\n",
       " [72, 69, 68, 67, 66, 65, 64, 26, 22, 15  …  14, 12, 9, 4, 37, 23, 13, 3, 2, 1]\n",
       " [72, 69, 68, 67, 66, 65, 64, 26, 22, 15  …  14, 12, 9, 4, 37, 23, 13, 3, 2, 1]\n",
       " [72, 69, 68, 67, 66, 65, 64, 26, 22, 15  …  14, 12, 9, 4, 37, 23, 13, 3, 2, 1]\n",
       " [72, 69, 68, 67, 66, 65, 64, 26, 22, 15  …  14, 12, 9, 4, 37, 23, 13, 3, 2, 1]\n",
       " [72, 69, 68, 67, 66, 65, 64, 26, 22, 15  …  14, 12, 9, 4, 37, 23, 13, 3, 2, 1]\n",
       " ⋮\n",
       " [72, 69, 68, 67, 66, 65, 64, 26, 22, 15  …  14, 12, 9, 4, 37, 23, 13, 3, 2, 1]\n",
       " [72, 69, 68, 67, 66, 65, 64, 26, 22, 15  …  14, 12, 9, 33, 37, 23, 13, 3, 2, 1]\n",
       " [72, 69, 68, 67, 66, 65, 64, 26, 22, 15  …  14, 12, 9, 4, 37, 23, 13, 3, 2, 1]\n",
       " [72, 69, 68, 67, 66, 65, 6, 26, 22, 15  …  14, 12, 9, 4, 37, 23, 13, 3, 2, 1]\n",
       " [72, 69, 68, 67, 66, 65, 64, 26, 22, 15  …  14, 12, 9, 4, 37, 23, 13, 3, 2, 1]\n",
       " [72, 69, 68, 67, 66, 65, 64, 26, 22, 15  …  14, 12, 9, 57, 37, 23, 13, 3, 2, 1]\n",
       " [72, 69, 68, 67, 66, 65, 64, 26, 22, 15  …  14, 12, 9, 4, 37, 23, 13, 3, 2, 1]\n",
       " [72, 69, 68, 67, 66, 65, 64, 26, 22, 15  …  14, 12, 9, 10, 37, 23, 13, 3, 2, 1]\n",
       " [72, 69, 68, 67, 66, 65, 64, 26, 22, 15  …  14, 12, 9, 16, 37, 23, 13, 3, 2, 1]\n",
       " [72, 69, 68, 67, 66, 65, 64, 26, 22, 15  …  14, 12, 9, 4, 37, 23, 13, 3, 2, 1]\n",
       " [72, 69, 68, 67, 66, 65, 64, 26, 22, 15  …  14, 12, 9, 4, 37, 23, 13, 3, 2, 1]\n",
       " [72, 69, 68, 67, 66, 65, 64, 26, 22, 15  …  14, 12, 9, 4, 37, 23, 13, 3, 2, 1]"
      ]
     },
     "execution_count": 103,
     "metadata": {},
     "output_type": "execute_result"
    }
   ],
   "source": [
    "posetsaleatorios_alpha0p5"
   ]
  },
  {
   "cell_type": "markdown",
   "metadata": {},
   "source": [
    "Por lo tanto, los $\\alpha$-cut no son compatibles con $m^2$ y $m^3$."
   ]
  },
  {
   "cell_type": "code",
   "execution_count": 97,
   "metadata": {},
   "outputs": [
    {
     "data": {
      "text/plain": [
       "Dict{Int64,Int64} with 1 entry:\n",
       "  0 => 1088"
      ]
     },
     "execution_count": 97,
     "metadata": {},
     "output_type": "execute_result"
    }
   ],
   "source": [
    "countmap([membresia(x, poset_m2|> fuzzy) for x in unique!(posetsaleatorios_alpha0p5)])"
   ]
  },
  {
   "cell_type": "code",
   "execution_count": 98,
   "metadata": {},
   "outputs": [
    {
     "data": {
      "text/plain": [
       "Dict{Int64,Int64} with 1 entry:\n",
       "  0 => 1088"
      ]
     },
     "execution_count": 98,
     "metadata": {},
     "output_type": "execute_result"
    }
   ],
   "source": [
    "countmap([membresia(x, poset_m3|> fuzzy) for x in unique!(posetsaleatorios_alpha0p5)])"
   ]
  },
  {
   "cell_type": "markdown",
   "metadata": {},
   "source": [
    "Vemos que los $\\alpha$-cuts no son ---necesariamente--- compatibles con $\\alpha'<\\alpha$."
   ]
  },
  {
   "cell_type": "code",
   "execution_count": 114,
   "metadata": {},
   "outputs": [
    {
     "data": {
      "text/plain": [
       "Dict{Int64,Int64} with 1 entry:\n",
       "  0 => 1318"
      ]
     },
     "execution_count": 114,
     "metadata": {},
     "output_type": "execute_result"
    }
   ],
   "source": [
    "countmap([membresia(x, αcut_poset(poset_mn, .8)) for x in unique!(posetsaleatorios_alpha0p67)])"
   ]
  },
  {
   "cell_type": "code",
   "execution_count": 115,
   "metadata": {},
   "outputs": [
    {
     "data": {
      "text/plain": [
       "Dict{Int64,Int64} with 1 entry:\n",
       "  0 => 1318"
      ]
     },
     "execution_count": 115,
     "metadata": {},
     "output_type": "execute_result"
    }
   ],
   "source": [
    "countmap([membresia(x, αcut_poset(poset_mn, .7)) for x in unique!(posetsaleatorios_alpha0p67)])"
   ]
  },
  {
   "cell_type": "code",
   "execution_count": 116,
   "metadata": {},
   "outputs": [
    {
     "data": {
      "text/plain": [
       "Dict{Int64,Int64} with 1 entry:\n",
       "  0 => 1318"
      ]
     },
     "execution_count": 116,
     "metadata": {},
     "output_type": "execute_result"
    }
   ],
   "source": [
    "countmap([membresia(x, αcut_poset(poset_mn, .6)) for x in unique!(posetsaleatorios_alpha0p67)])"
   ]
  },
  {
   "cell_type": "code",
   "execution_count": 117,
   "metadata": {},
   "outputs": [
    {
     "data": {
      "text/plain": [
       "Dict{Int64,Int64} with 1 entry:\n",
       "  0 => 1318"
      ]
     },
     "execution_count": 117,
     "metadata": {},
     "output_type": "execute_result"
    }
   ],
   "source": [
    "countmap([membresia(x, αcut_poset(poset_mn, .5)) for x in unique!(posetsaleatorios_alpha0p67)])"
   ]
  },
  {
   "cell_type": "code",
   "execution_count": 118,
   "metadata": {},
   "outputs": [
    {
     "data": {
      "text/plain": [
       "Dict{Int64,Int64} with 1 entry:\n",
       "  0 => 1318"
      ]
     },
     "execution_count": 118,
     "metadata": {},
     "output_type": "execute_result"
    }
   ],
   "source": [
    "countmap([membresia(x, αcut_poset(poset_mn, .4)) for x in unique!(posetsaleatorios_alpha0p67)])"
   ]
  },
  {
   "cell_type": "code",
   "execution_count": 119,
   "metadata": {},
   "outputs": [
    {
     "data": {
      "text/plain": [
       "Dict{Int64,Int64} with 1 entry:\n",
       "  0 => 1318"
      ]
     },
     "execution_count": 119,
     "metadata": {},
     "output_type": "execute_result"
    }
   ],
   "source": [
    "countmap([membresia(x, αcut_poset(poset_mn, .3)) for x in unique!(posetsaleatorios_alpha0p67)])"
   ]
  },
  {
   "cell_type": "code",
   "execution_count": 120,
   "metadata": {},
   "outputs": [
    {
     "data": {
      "text/plain": [
       "Dict{Int64,Int64} with 1 entry:\n",
       "  0 => 1318"
      ]
     },
     "execution_count": 120,
     "metadata": {},
     "output_type": "execute_result"
    }
   ],
   "source": [
    "countmap([membresia(x, αcut_poset(poset_mn, .1)) for x in unique!(posetsaleatorios_alpha0p67)])"
   ]
  },
  {
   "cell_type": "markdown",
   "metadata": {},
   "source": [
    "Vemos que los $\\alpha$-cuts no son ---necesariamente--- compatibles con $\\alpha'<\\alpha$."
   ]
  },
  {
   "cell_type": "code",
   "execution_count": 129,
   "metadata": {},
   "outputs": [
    {
     "data": {
      "text/plain": [
       "Dict{Int64,Int64} with 1 entry:\n",
       "  0 => 563"
      ]
     },
     "execution_count": 129,
     "metadata": {},
     "output_type": "execute_result"
    }
   ],
   "source": [
    "countmap([membresia(x, αcut_poset(poset_mn, .9)) for x in unique!(posetsaleatorios_alpha0p78)])"
   ]
  },
  {
   "cell_type": "code",
   "execution_count": 122,
   "metadata": {},
   "outputs": [
    {
     "data": {
      "text/plain": [
       "Dict{Float64,Int64} with 1 entry:\n",
       "  1.0 => 563"
      ]
     },
     "execution_count": 122,
     "metadata": {},
     "output_type": "execute_result"
    }
   ],
   "source": [
    "countmap([membresia(x, αcut_poset(poset_mn, .8)) for x in unique!(posetsaleatorios_alpha0p78)])"
   ]
  },
  {
   "cell_type": "code",
   "execution_count": 123,
   "metadata": {},
   "outputs": [
    {
     "data": {
      "text/plain": [
       "Dict{Float64,Int64} with 1 entry:\n",
       "  1.0 => 563"
      ]
     },
     "execution_count": 123,
     "metadata": {},
     "output_type": "execute_result"
    }
   ],
   "source": [
    "countmap([membresia(x, αcut_poset(poset_mn, .7)) for x in unique!(posetsaleatorios_alpha0p78)])"
   ]
  },
  {
   "cell_type": "code",
   "execution_count": 124,
   "metadata": {},
   "outputs": [
    {
     "data": {
      "text/plain": [
       "Dict{Float64,Int64} with 1 entry:\n",
       "  1.0 => 563"
      ]
     },
     "execution_count": 124,
     "metadata": {},
     "output_type": "execute_result"
    }
   ],
   "source": [
    "countmap([membresia(x, αcut_poset(poset_mn, .6)) for x in unique!(posetsaleatorios_alpha0p78)])"
   ]
  },
  {
   "cell_type": "code",
   "execution_count": 125,
   "metadata": {},
   "outputs": [
    {
     "data": {
      "text/plain": [
       "Dict{Float64,Int64} with 1 entry:\n",
       "  1.0 => 563"
      ]
     },
     "execution_count": 125,
     "metadata": {},
     "output_type": "execute_result"
    }
   ],
   "source": [
    "countmap([membresia(x, αcut_poset(poset_mn, .5)) for x in unique!(posetsaleatorios_alpha0p78)])"
   ]
  },
  {
   "cell_type": "code",
   "execution_count": 126,
   "metadata": {},
   "outputs": [
    {
     "data": {
      "text/plain": [
       "Dict{Float64,Int64} with 1 entry:\n",
       "  1.0 => 563"
      ]
     },
     "execution_count": 126,
     "metadata": {},
     "output_type": "execute_result"
    }
   ],
   "source": [
    "countmap([membresia(x, αcut_poset(poset_mn, .4)) for x in unique!(posetsaleatorios_alpha0p78)])"
   ]
  },
  {
   "cell_type": "code",
   "execution_count": 127,
   "metadata": {},
   "outputs": [
    {
     "data": {
      "text/plain": [
       "Dict{Float64,Int64} with 1 entry:\n",
       "  1.0 => 563"
      ]
     },
     "execution_count": 127,
     "metadata": {},
     "output_type": "execute_result"
    }
   ],
   "source": [
    "countmap([membresia(x, αcut_poset(poset_mn, .3)) for x in unique!(posetsaleatorios_alpha0p78)])"
   ]
  },
  {
   "cell_type": "code",
   "execution_count": 128,
   "metadata": {},
   "outputs": [
    {
     "data": {
      "text/plain": [
       "Dict{Float64,Int64} with 1 entry:\n",
       "  1.0 => 563"
      ]
     },
     "execution_count": 128,
     "metadata": {},
     "output_type": "execute_result"
    }
   ],
   "source": [
    "countmap([membresia(x, αcut_poset(poset_mn, .1)) for x in unique!(posetsaleatorios_alpha0p78)])"
   ]
  },
  {
   "cell_type": "markdown",
   "metadata": {},
   "source": [
    "## de nuevo permutaciones"
   ]
  },
  {
   "cell_type": "code",
   "execution_count": 153,
   "metadata": {},
   "outputs": [],
   "source": [
    "puntucionpermutada = permpuntuaciones(puntuaciones, 1);"
   ]
  },
  {
   "cell_type": "code",
   "execution_count": 154,
   "metadata": {},
   "outputs": [],
   "source": [
    "posetfaux_mn = puntucionpermutada |> fuzzy;"
   ]
  },
  {
   "cell_type": "code",
   "execution_count": 155,
   "metadata": {},
   "outputs": [],
   "source": [
    "posetsfauxaleatorios_alpha0p78 = [caminatale(αcut_poset(posetfaux_mn, .78),10^2) for _ in 1:72^2]|>unique!;"
   ]
  },
  {
   "cell_type": "code",
   "execution_count": 156,
   "metadata": {},
   "outputs": [
    {
     "data": {
      "text/plain": [
       "Dict{Int64,Int64} with 1 entry:\n",
       "  0 => 662"
      ]
     },
     "execution_count": 156,
     "metadata": {},
     "output_type": "execute_result"
    }
   ],
   "source": [
    "countmap([membresia(x, αcut_poset(poset_mn, .9)) for x in unique!(posetsfauxaleatorios_alpha0p78)])"
   ]
  },
  {
   "cell_type": "code",
   "execution_count": 157,
   "metadata": {},
   "outputs": [
    {
     "data": {
      "text/plain": [
       "Dict{Int64,Int64} with 1 entry:\n",
       "  0 => 662"
      ]
     },
     "execution_count": 157,
     "metadata": {},
     "output_type": "execute_result"
    }
   ],
   "source": [
    "countmap([membresia(x, αcut_poset(poset_mn, .8)) for x in unique!(posetsfauxaleatorios_alpha0p78)])"
   ]
  },
  {
   "cell_type": "code",
   "execution_count": 158,
   "metadata": {},
   "outputs": [
    {
     "data": {
      "text/plain": [
       "Dict{Int64,Int64} with 1 entry:\n",
       "  0 => 662"
      ]
     },
     "execution_count": 158,
     "metadata": {},
     "output_type": "execute_result"
    }
   ],
   "source": [
    "countmap([membresia(x, αcut_poset(poset_mn, .7)) for x in unique!(posetsfauxaleatorios_alpha0p78)])"
   ]
  },
  {
   "cell_type": "code",
   "execution_count": 159,
   "metadata": {},
   "outputs": [
    {
     "data": {
      "text/plain": [
       "Dict{Int64,Int64} with 1 entry:\n",
       "  0 => 662"
      ]
     },
     "execution_count": 159,
     "metadata": {},
     "output_type": "execute_result"
    }
   ],
   "source": [
    "countmap([membresia(x, αcut_poset(poset_mn, .6)) for x in unique!(posetsfauxaleatorios_alpha0p78)])"
   ]
  },
  {
   "cell_type": "code",
   "execution_count": 160,
   "metadata": {},
   "outputs": [
    {
     "data": {
      "text/plain": [
       "Dict{Int64,Int64} with 1 entry:\n",
       "  0 => 662"
      ]
     },
     "execution_count": 160,
     "metadata": {},
     "output_type": "execute_result"
    }
   ],
   "source": [
    "countmap([membresia(x, αcut_poset(poset_mn, .5)) for x in unique!(posetsfauxaleatorios_alpha0p78)])"
   ]
  },
  {
   "cell_type": "code",
   "execution_count": 161,
   "metadata": {},
   "outputs": [
    {
     "data": {
      "text/plain": [
       "Dict{Int64,Int64} with 1 entry:\n",
       "  0 => 662"
      ]
     },
     "execution_count": 161,
     "metadata": {},
     "output_type": "execute_result"
    }
   ],
   "source": [
    "countmap([membresia(x, αcut_poset(poset_mn, .4)) for x in unique!(posetsfauxaleatorios_alpha0p78)])"
   ]
  },
  {
   "cell_type": "code",
   "execution_count": 162,
   "metadata": {},
   "outputs": [
    {
     "data": {
      "text/plain": [
       "Dict{Int64,Int64} with 1 entry:\n",
       "  0 => 662"
      ]
     },
     "execution_count": 162,
     "metadata": {},
     "output_type": "execute_result"
    }
   ],
   "source": [
    "countmap([membresia(x, αcut_poset(poset_mn, .3)) for x in unique!(posetsfauxaleatorios_alpha0p78)])"
   ]
  },
  {
   "cell_type": "code",
   "execution_count": 163,
   "metadata": {},
   "outputs": [
    {
     "data": {
      "text/plain": [
       "Dict{Int64,Int64} with 1 entry:\n",
       "  0 => 662"
      ]
     },
     "execution_count": 163,
     "metadata": {},
     "output_type": "execute_result"
    }
   ],
   "source": [
    "countmap([membresia(x, αcut_poset(poset_mn, .1)) for x in unique!(posetsfauxaleatorios_alpha0p78)])"
   ]
  }
 ],
 "metadata": {
  "kernelspec": {
   "display_name": "Julia 1.4.2",
   "language": "julia",
   "name": "julia-1.4"
  },
  "language_info": {
   "file_extension": ".jl",
   "mimetype": "application/julia",
   "name": "julia",
   "version": "1.5.2"
  }
 },
 "nbformat": 4,
 "nbformat_minor": 4
}
