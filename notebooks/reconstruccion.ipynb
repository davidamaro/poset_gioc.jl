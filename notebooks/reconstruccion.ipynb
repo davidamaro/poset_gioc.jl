{
 "cells": [
  {
   "cell_type": "code",
   "execution_count": 17,
   "metadata": {},
   "outputs": [],
   "source": [
    "using Posets\n",
    "using DelimitedFiles\n",
    "import LinearAlgebra: norm\n",
    "using Plots\n",
    "using Statistics: mean\n",
    "using Colors"
   ]
  },
  {
   "cell_type": "markdown",
   "metadata": {},
   "source": [
    "funciones"
   ]
  },
  {
   "cell_type": "code",
   "execution_count": 23,
   "metadata": {},
   "outputs": [
    {
     "data": {
      "text/plain": [
       "norma_diferenciapos (generic function with 1 method)"
      ]
     },
     "execution_count": 23,
     "metadata": {},
     "output_type": "execute_result"
    }
   ],
   "source": [
    "function norma_diferenciapos(lista1, lista2)\n",
    "    pos1 = [posicionpromedio(lista1, x) for x in 1:10]\n",
    "    pos2 = [posicionpromedio(lista2, x) for x in 1:10]\n",
    "    norm(pos1-pos2)\n",
    "end"
   ]
  },
  {
   "cell_type": "code",
   "execution_count": 1,
   "metadata": {},
   "outputs": [
    {
     "data": {
      "text/plain": [
       "ruido"
      ]
     },
     "execution_count": 1,
     "metadata": {},
     "output_type": "execute_result"
    }
   ],
   "source": [
    "\"\"\"\n",
    "```\n",
    "ruido(ll, mm, nn)\n",
    "```\n",
    "ll: lista de rankings\n",
    "mm: numero de rankings (de la lista) a perturbar\n",
    "nn: numero de transposiciones adyacentes aleatorias por ranking\n",
    "\"\"\"\n",
    "function ruido(ll, mm, nn)\n",
    "\n",
    "    cc = deepcopy(ll)\n",
    "    n = ll[1] |> length\n",
    "    m = length(ll)\n",
    "    for i in rand(1:m, mm)\n",
    "        for pasos in 1:nn\n",
    "            q = rand(1:n-1)\n",
    "            tmp = cc[i][q]\n",
    "            cc[i][q] = cc[i][q+1]\n",
    "            cc[i][q+1] = tmp\n",
    "        end\n",
    "    end\n",
    "    cc\n",
    "end"
   ]
  },
  {
   "cell_type": "markdown",
   "metadata": {},
   "source": [
    "# Introduccion"
   ]
  },
  {
   "cell_type": "markdown",
   "metadata": {},
   "source": [
    "El experimento que se hace aqui es de la siguiente forma\n",
    "1. Se obtiene un poset aleatorio P\n",
    "2. Se calcula una serie de extensiones lineales (EL) aleatorias de P\n",
    "3. Con estas EL se calculan las puntucaciones\n",
    "4. Con las puntuaciones, se calculan los cortes $\\alpha$\n",
    "5. Con los cortes $\\alpha$ se calculan nuevas ELs\n",
    "6. Con estas ELs se obtiene la norma entre el vector de posiciones promedio"
   ]
  },
  {
   "cell_type": "code",
   "execution_count": 5,
   "metadata": {},
   "outputs": [
    {
     "data": {
      "text/plain": [
       "10×10 Array{Int64,2}:\n",
       " 0  0  0  0  0  0  0  0  1  0\n",
       " 0  0  0  0  0  0  1  0  1  0\n",
       " 0  1  0  1  0  0  0  0  1  0\n",
       " 0  0  0  0  0  0  0  0  0  0\n",
       " 1  0  0  1  0  0  1  0  0  0\n",
       " 0  0  0  1  1  0  0  0  0  0\n",
       " 0  0  0  0  0  0  0  0  0  0\n",
       " 0  0  0  1  0  0  0  0  1  0\n",
       " 0  0  0  0  0  0  0  0  0  0\n",
       " 1  0  1  1  0  0  1  0  0  0"
      ]
     },
     "execution_count": 5,
     "metadata": {},
     "output_type": "execute_result"
    }
   ],
   "source": [
    "posetrandom = Array( caminata_poset(10,10^2) )"
   ]
  },
  {
   "cell_type": "code",
   "execution_count": 138,
   "metadata": {},
   "outputs": [],
   "source": [
    "#writedlm(\"poset_original.dat\", posetrandom)"
   ]
  },
  {
   "cell_type": "code",
   "execution_count": 5,
   "metadata": {},
   "outputs": [
    {
     "data": {
      "text/plain": [
       "10×10 Array{Int64,2}:\n",
       " 0  0  0  0  0  0  0  0  1  0\n",
       " 0  0  0  0  0  0  1  0  1  0\n",
       " 0  1  0  1  0  0  0  0  1  0\n",
       " 0  0  0  0  0  0  0  0  0  0\n",
       " 1  0  0  1  0  0  1  0  0  0\n",
       " 0  0  0  1  1  0  0  0  0  0\n",
       " 0  0  0  0  0  0  0  0  0  0\n",
       " 0  0  0  1  0  0  0  0  1  0\n",
       " 0  0  0  0  0  0  0  0  0  0\n",
       " 1  0  1  1  0  0  1  0  0  0"
      ]
     },
     "execution_count": 5,
     "metadata": {},
     "output_type": "execute_result"
    }
   ],
   "source": [
    "posetrandom = readdlm(\"poset_original.dat\",Int)"
   ]
  },
  {
   "cell_type": "markdown",
   "metadata": {},
   "source": [
    "Se calcula una lista de extensiones lineales"
   ]
  },
  {
   "cell_type": "code",
   "execution_count": 6,
   "metadata": {},
   "outputs": [
    {
     "data": {
      "text/plain": [
       "67-element Array{Array{Int64,1},1}:\n",
       " [10, 8, 6, 5, 3, 4, 2, 7, 1, 9]\n",
       " [8, 10, 6, 5, 3, 1, 2, 4, 9, 7]\n",
       " [10, 8, 6, 5, 3, 2, 4, 7, 1, 9]\n",
       " [10, 6, 8, 5, 3, 4, 2, 7, 1, 9]\n",
       " [6, 8, 10, 5, 3, 4, 2, 7, 1, 9]\n",
       " [10, 8, 6, 3, 5, 4, 2, 7, 1, 9]\n",
       " [10, 8, 6, 5, 3, 4, 1, 2, 7, 9]\n",
       " [10, 6, 8, 5, 3, 2, 1, 4, 7, 9]\n",
       " [10, 6, 8, 5, 3, 4, 2, 1, 7, 9]\n",
       " [10, 6, 5, 8, 3, 4, 2, 7, 1, 9]\n",
       " [6, 8, 5, 10, 3, 4, 2, 7, 1, 9]\n",
       " [6, 10, 5, 3, 1, 2, 7, 8, 9, 4]\n",
       " [6, 5, 10, 1, 3, 2, 8, 9, 7, 4]\n",
       " ⋮\n",
       " [10, 3, 6, 8, 5, 1, 4, 2, 9, 7]\n",
       " [10, 3, 6, 5, 8, 1, 2, 4, 9, 7]\n",
       " [10, 3, 2, 8, 6, 5, 4, 1, 7, 9]\n",
       " [8, 6, 5, 10, 1, 3, 4, 2, 7, 9]\n",
       " [6, 8, 10, 3, 5, 4, 2, 7, 1, 9]\n",
       " [6, 10, 8, 3, 5, 4, 2, 7, 1, 9]\n",
       " [10, 8, 6, 3, 5, 2, 4, 7, 1, 9]\n",
       " [10, 3, 6, 5, 2, 1, 8, 7, 4, 9]\n",
       " [10, 3, 6, 5, 8, 2, 1, 7, 4, 9]\n",
       " [8, 6, 10, 3, 5, 4, 2, 7, 1, 9]\n",
       " [10, 3, 6, 5, 2, 8, 1, 7, 4, 9]\n",
       " [6, 8, 5, 10, 3, 4, 2, 1, 7, 9]"
      ]
     },
     "execution_count": 6,
     "metadata": {},
     "output_type": "execute_result"
    }
   ],
   "source": [
    "lista_extensioneslineales = [caminatale(posetrandom, 10^2) for _ in 1:10^3]|>unique!"
   ]
  },
  {
   "cell_type": "code",
   "execution_count": 7,
   "metadata": {},
   "outputs": [
    {
     "data": {
      "text/plain": [
       "10×10 Array{Float64,2}:\n",
       " 1.0       0.820498  0.458268  0.830292  …  0.32882   1.0       0.175095\n",
       " 0.93731   1.0       0.52833   0.922593     0.371038  1.0       0.200023\n",
       " 0.990877  1.0       1.0       1.0          0.512551  1.0       0.378594\n",
       " 0.859762  0.836281  0.478903  1.0          0.349277  0.989858  0.18131\n",
       " 1.0       0.984027  0.725738  1.0          0.547633  1.0       0.317891\n",
       " 1.0       0.987222  0.84557   1.0       …  0.755045  1.0       0.471885\n",
       " 0.832783  0.767028  0.405244  0.806755     0.294017  0.986613  0.153423\n",
       " 0.974846  0.962921  0.702773  1.0          1.0       1.0       0.40728\n",
       " 0.749631  0.656208  0.346695  0.716593     0.252854  1.0       0.131257\n",
       " 1.0       1.0       1.0       1.0          0.784587  1.0       1.0"
      ]
     },
     "execution_count": 7,
     "metadata": {},
     "output_type": "execute_result"
    }
   ],
   "source": [
    "puntuaciones_preposet = mn(lista_extensioneslineales)\n",
    "poset_mn_old = puntuaciones_preposet |> fuzzy"
   ]
  },
  {
   "cell_type": "code",
   "execution_count": 8,
   "metadata": {},
   "outputs": [],
   "source": [
    "writedlm(\"figs/tmp_x1_actual.dat\", posetrandom)"
   ]
  },
  {
   "cell_type": "code",
   "execution_count": 9,
   "metadata": {},
   "outputs": [
    {
     "name": "stdout",
     "output_type": "stream",
     "text": [
      "figs/tmp_x1_actual.png\n"
     ]
    }
   ],
   "source": [
    ";./script.wl figs/tmp_x1_actual.dat"
   ]
  },
  {
   "cell_type": "markdown",
   "metadata": {},
   "source": [
    "![ejemplo](figs/tmp_x1_actual.png)"
   ]
  },
  {
   "cell_type": "code",
   "execution_count": 10,
   "metadata": {},
   "outputs": [],
   "source": [
    "writedlm(\"figs/tmp_x1_0p95.dat\", αcut_poset(poset_mn_old, .95))"
   ]
  },
  {
   "cell_type": "code",
   "execution_count": 11,
   "metadata": {},
   "outputs": [
    {
     "name": "stdout",
     "output_type": "stream",
     "text": [
      "figs/tmp_x1_0p95.png\n"
     ]
    }
   ],
   "source": [
    ";./script.wl figs/tmp_x1_0p95.dat"
   ]
  },
  {
   "cell_type": "markdown",
   "metadata": {},
   "source": [
    "![ejemplo](figs/tmp_x1_0p95.png)"
   ]
  },
  {
   "cell_type": "code",
   "execution_count": 25,
   "metadata": {},
   "outputs": [],
   "source": [
    "writedlm(\"figs/tmp_x1_0p75.dat\", αcut_poset(poset_mn_old, .75))"
   ]
  },
  {
   "cell_type": "code",
   "execution_count": 26,
   "metadata": {},
   "outputs": [
    {
     "name": "stdout",
     "output_type": "stream",
     "text": [
      "figs/tmp_x1_0p75.png\n"
     ]
    }
   ],
   "source": [
    ";./script.wl figs/tmp_x1_0p75.dat"
   ]
  },
  {
   "cell_type": "markdown",
   "metadata": {},
   "source": [
    "![ejemplo](figs/tmp_x1_0p75.png)"
   ]
  },
  {
   "cell_type": "markdown",
   "metadata": {},
   "source": [
    "Encontrando posiciones promedio"
   ]
  },
  {
   "cell_type": "code",
   "execution_count": 36,
   "metadata": {},
   "outputs": [
    {
     "data": {
      "text/plain": [
       "35-element Array{Array{Int64,1},1}:\n",
       " [10, 8, 6, 5, 3, 4, 2, 7, 1, 9]\n",
       " [8, 10, 6, 5, 3, 4, 2, 7, 1, 9]\n",
       " [10, 8, 6, 3, 5, 4, 2, 7, 1, 9]\n",
       " [6, 8, 10, 5, 3, 4, 2, 7, 1, 9]\n",
       " [6, 8, 10, 5, 3, 2, 4, 1, 7, 9]\n",
       " [10, 3, 6, 5, 8, 4, 2, 7, 1, 9]\n",
       " [10, 8, 6, 5, 3, 2, 4, 7, 1, 9]\n",
       " [10, 6, 5, 8, 3, 4, 2, 7, 1, 9]\n",
       " [10, 6, 8, 5, 3, 4, 2, 7, 1, 9]\n",
       " [10, 8, 6, 5, 3, 4, 2, 1, 7, 9]\n",
       " [10, 8, 3, 6, 5, 4, 2, 1, 7, 9]\n",
       " [8, 6, 10, 3, 5, 4, 2, 7, 1, 9]\n",
       " [10, 8, 6, 3, 5, 4, 2, 1, 7, 9]\n",
       " ⋮\n",
       " [8, 10, 6, 5, 3, 2, 1, 4, 7, 9]\n",
       " [10, 6, 8, 3, 5, 4, 2, 7, 1, 9]\n",
       " [10, 8, 6, 5, 3, 1, 2, 4, 7, 9]\n",
       " [8, 6, 10, 5, 3, 2, 4, 7, 1, 9]\n",
       " [10, 6, 8, 5, 3, 2, 4, 7, 1, 9]\n",
       " [10, 8, 6, 3, 5, 2, 4, 1, 7, 9]\n",
       " [6, 10, 8, 3, 5, 4, 2, 7, 1, 9]\n",
       " [8, 6, 10, 3, 5, 2, 4, 7, 1, 9]\n",
       " [8, 10, 6, 5, 3, 1, 2, 4, 7, 9]\n",
       " [6, 8, 10, 5, 3, 2, 1, 4, 7, 9]\n",
       " [10, 6, 3, 5, 8, 1, 4, 2, 7, 9]\n",
       " [10, 8, 6, 5, 3, 2, 4, 1, 7, 9]"
      ]
     },
     "execution_count": 36,
     "metadata": {},
     "output_type": "execute_result"
    }
   ],
   "source": [
    "listaextensiones = [caminatale(αcut_poset(poset_mn_old, .75), 10^2) for _ in 1:10^3] |> unique!"
   ]
  },
  {
   "cell_type": "code",
   "execution_count": 59,
   "metadata": {},
   "outputs": [
    {
     "data": {
      "text/plain": [
       "29-element Array{Array{Int64,1},1}:\n",
       " [10, 8, 6, 5, 3, 4, 2, 7, 1, 9]\n",
       " [10, 6, 8, 5, 3, 4, 2, 7, 1, 9]\n",
       " [8, 10, 6, 3, 5, 4, 2, 7, 1, 9]\n",
       " [10, 8, 6, 5, 3, 4, 2, 1, 7, 9]\n",
       " [6, 8, 10, 3, 5, 4, 2, 7, 1, 9]\n",
       " [10, 8, 6, 5, 3, 4, 1, 2, 7, 9]\n",
       " [8, 10, 6, 5, 3, 4, 2, 7, 1, 9]\n",
       " [10, 8, 6, 5, 3, 2, 4, 7, 1, 9]\n",
       " [10, 3, 6, 5, 8, 4, 2, 7, 1, 9]\n",
       " [10, 6, 5, 8, 3, 4, 2, 7, 1, 9]\n",
       " [8, 10, 6, 5, 3, 2, 4, 7, 1, 9]\n",
       " [10, 8, 6, 3, 5, 4, 2, 7, 1, 9]\n",
       " [6, 8, 10, 5, 3, 4, 2, 7, 1, 9]\n",
       " ⋮\n",
       " [10, 8, 6, 3, 5, 4, 2, 1, 7, 9]\n",
       " [10, 6, 8, 3, 5, 4, 2, 7, 1, 9]\n",
       " [6, 8, 10, 3, 5, 1, 2, 4, 7, 9]\n",
       " [8, 10, 6, 5, 3, 4, 2, 1, 7, 9]\n",
       " [10, 3, 6, 8, 5, 4, 2, 1, 7, 9]\n",
       " [10, 6, 8, 3, 5, 2, 4, 7, 1, 9]\n",
       " [10, 3, 6, 8, 5, 4, 2, 7, 1, 9]\n",
       " [6, 8, 10, 5, 3, 2, 4, 7, 1, 9]\n",
       " [10, 8, 3, 6, 5, 4, 2, 7, 1, 9]\n",
       " [10, 8, 6, 5, 3, 1, 2, 4, 7, 9]\n",
       " [6, 8, 10, 5, 3, 2, 1, 4, 7, 9]\n",
       " [10, 6, 3, 5, 8, 4, 2, 7, 1, 9]"
      ]
     },
     "execution_count": 59,
     "metadata": {},
     "output_type": "execute_result"
    }
   ],
   "source": [
    "listaextensiones_v2 = [caminatale(αcut_poset(poset_mn_old, .95), 10^2) for _ in 1:10^3] |> unique!"
   ]
  },
  {
   "cell_type": "code",
   "execution_count": 37,
   "metadata": {},
   "outputs": [
    {
     "data": {
      "text/plain": [
       "10-element Array{Float64,1}:\n",
       "  8.285714285714285\n",
       "  6.685714285714286\n",
       "  4.3428571428571425\n",
       "  6.6\n",
       "  4.257142857142857\n",
       "  2.314285714285714\n",
       "  8.428571428571427\n",
       "  2.4000000000000004\n",
       " 10.0\n",
       "  1.6857142857142855"
      ]
     },
     "execution_count": 37,
     "metadata": {},
     "output_type": "execute_result"
    }
   ],
   "source": [
    "[posicionpromedio(listaextensiones, x) for x in 1:10]"
   ]
  },
  {
   "cell_type": "code",
   "execution_count": 38,
   "metadata": {},
   "outputs": [
    {
     "data": {
      "text/plain": [
       "10-element Array{Float64,1}:\n",
       "  8.0\n",
       "  7.0\n",
       "  4.0\n",
       "  7.0\n",
       "  4.0\n",
       "  2.0\n",
       "  8.0\n",
       "  2.0\n",
       " 10.0\n",
       "  2.0"
      ]
     },
     "execution_count": 38,
     "metadata": {},
     "output_type": "execute_result"
    }
   ],
   "source": [
    "[posicionpromedio(listaextensiones, x)|>round for x in 1:10]"
   ]
  },
  {
   "cell_type": "code",
   "execution_count": null,
   "metadata": {},
   "outputs": [],
   "source": [
    "# [posicionpromedio(listaextensiones_v2, x)|>round for x in 1:10]"
   ]
  },
  {
   "cell_type": "code",
   "execution_count": 39,
   "metadata": {},
   "outputs": [
    {
     "data": {
      "text/plain": [
       "10-element Array{Float64,1}:\n",
       "  8.0\n",
       "  6.0\n",
       "  4.0\n",
       "  7.0\n",
       "  4.0\n",
       "  2.0\n",
       "  8.0\n",
       "  3.0\n",
       " 10.0\n",
       "  2.0"
      ]
     },
     "execution_count": 39,
     "metadata": {},
     "output_type": "execute_result"
    }
   ],
   "source": [
    "[posicionpromedio(lista_extensioneslineales, x)|>round for x in 1:10]"
   ]
  },
  {
   "cell_type": "code",
   "execution_count": 32,
   "metadata": {},
   "outputs": [
    {
     "data": {
      "text/plain": [
       "10-element Array{Float64,1}:\n",
       " 7.9107142857142865\n",
       " 6.446428571428571\n",
       " 3.964285714285714\n",
       " 7.25\n",
       " 4.267857142857142\n",
       " 2.392857142857143\n",
       " 8.357142857142856\n",
       " 3.0892857142857144\n",
       " 9.732142857142858\n",
       " 1.5892857142857142"
      ]
     },
     "execution_count": 32,
     "metadata": {},
     "output_type": "execute_result"
    }
   ],
   "source": [
    "[posicionpromedio(lista_extensioneslineales, x) for x in 1:10]"
   ]
  },
  {
   "cell_type": "code",
   "execution_count": 37,
   "metadata": {},
   "outputs": [
    {
     "data": {
      "text/plain": [
       "10-element Array{Float64,1}:\n",
       "  8.285714285714285\n",
       "  6.685714285714286\n",
       "  4.3428571428571425\n",
       "  6.6\n",
       "  4.257142857142857\n",
       "  2.314285714285714\n",
       "  8.428571428571427\n",
       "  2.4000000000000004\n",
       " 10.0\n",
       "  1.6857142857142855"
      ]
     },
     "execution_count": 37,
     "metadata": {},
     "output_type": "execute_result"
    }
   ],
   "source": [
    "[posicionpromedio(listaextensiones, x) for x in 1:10]"
   ]
  },
  {
   "cell_type": "markdown",
   "metadata": {},
   "source": [
    "## Con ruido"
   ]
  },
  {
   "cell_type": "markdown",
   "metadata": {},
   "source": [
    "#### Un ejemplo para ver que funciona"
   ]
  },
  {
   "cell_type": "code",
   "execution_count": 45,
   "metadata": {},
   "outputs": [
    {
     "data": {
      "text/plain": [
       "2-element Array{Array{Int64,1},1}:\n",
       " [1, 2, 3]\n",
       " [1, 3, 2]"
      ]
     },
     "execution_count": 45,
     "metadata": {},
     "output_type": "execute_result"
    }
   ],
   "source": [
    "listarankejemplo = [\n",
    "    [1,2,3],\n",
    "    [1,3,2]\n",
    "]"
   ]
  },
  {
   "cell_type": "code",
   "execution_count": 56,
   "metadata": {},
   "outputs": [
    {
     "data": {
      "text/plain": [
       "2-element Array{Array{Int64,1},1}:\n",
       " [1, 3, 2]\n",
       " [1, 3, 2]"
      ]
     },
     "execution_count": 56,
     "metadata": {},
     "output_type": "execute_result"
    }
   ],
   "source": [
    "ruido(listarankejemplo, 1, 1)"
   ]
  },
  {
   "cell_type": "markdown",
   "metadata": {},
   "source": [
    "#### Un ejemplo para ver que funciona"
   ]
  },
  {
   "cell_type": "markdown",
   "metadata": {},
   "source": [
    "Aqui deberian de ir las extensiones lineales del poset original"
   ]
  },
  {
   "cell_type": "code",
   "execution_count": 88,
   "metadata": {},
   "outputs": [
    {
     "data": {
      "text/plain": [
       "56-element Array{Array{Int64,1},1}:\n",
       " [10, 8, 6, 5, 3, 4, 2, 7, 1, 9]\n",
       " [10, 8, 6, 5, 3, 4, 2, 1, 7, 9]\n",
       " [6, 10, 3, 8, 5, 4, 2, 7, 1, 9]\n",
       " [10, 8, 6, 3, 5, 4, 2, 7, 1, 9]\n",
       " [10, 3, 6, 5, 8, 1, 2, 7, 4, 9]\n",
       " [6, 8, 10, 5, 3, 4, 2, 7, 1, 9]\n",
       " [10, 6, 8, 3, 5, 4, 2, 7, 1, 9]\n",
       " [10, 3, 6, 5, 8, 4, 2, 7, 1, 9]\n",
       " [10, 3, 6, 2, 8, 5, 4, 7, 1, 9]\n",
       " [8, 6, 10, 5, 3, 1, 4, 2, 9, 7]\n",
       " [10, 8, 6, 5, 3, 1, 2, 7, 4, 9]\n",
       " [10, 6, 8, 5, 3, 4, 2, 7, 1, 9]\n",
       " [8, 6, 5, 3, 10, 2, 4, 7, 1, 9]\n",
       " ⋮\n",
       " [10, 3, 6, 8, 5, 1, 2, 4, 7, 9]\n",
       " [10, 6, 5, 8, 3, 4, 2, 7, 1, 9]\n",
       " [8, 6, 10, 3, 5, 1, 2, 9, 7, 4]\n",
       " [10, 3, 8, 6, 5, 4, 2, 7, 1, 9]\n",
       " [6, 10, 3, 8, 2, 5, 1, 9, 7, 4]\n",
       " [10, 6, 3, 2, 5, 1, 7, 8, 9, 4]\n",
       " [6, 5, 10, 8, 3, 4, 2, 7, 1, 9]\n",
       " [6, 8, 5, 10, 3, 2, 7, 4, 1, 9]\n",
       " [6, 10, 8, 5, 3, 1, 2, 4, 7, 9]\n",
       " [10, 3, 8, 5, 2, 6, 1, 4, 9, 7]\n",
       " [6, 10, 3, 5, 8, 2, 1, 4, 9, 7]\n",
       " [10, 6, 5, 8, 3, 1, 2, 7, 4, 9]"
      ]
     },
     "execution_count": 88,
     "metadata": {},
     "output_type": "execute_result"
    }
   ],
   "source": [
    "ruido_v1= ruido(lista_extensioneslineales, 2, 5) |> unique!"
   ]
  },
  {
   "cell_type": "code",
   "execution_count": 94,
   "metadata": {},
   "outputs": [
    {
     "data": {
      "text/plain": [
       "10×10 Array{Float64,2}:\n",
       " 1.0       0.777348  0.450627  0.803931  …  0.289063  1.0       0.169002\n",
       " 0.947982  1.0       0.555868  0.923862     0.342374  1.0       0.206099\n",
       " 0.988621  1.0       1.0       1.0          0.485034  1.0       0.370769\n",
       " 0.875373  0.824891  0.49632   1.0          0.318741  0.983165  0.18402\n",
       " 1.0       0.958944  0.709544  1.0          0.495027  1.0       0.307692\n",
       " 1.0       1.0       0.865145  1.0       …  0.673567  1.0       0.480769\n",
       " 0.858521  0.757753  0.421211  0.814083     0.26884   0.979317  0.156172\n",
       " 0.987483  0.959078  0.755261  1.0          1.0       1.0       0.44272\n",
       " 0.788567  0.646628  0.35944   0.712018     0.230835  1.0       0.133269\n",
       " 1.0       1.0       1.0       1.0          0.766833  1.0       1.0"
      ]
     },
     "execution_count": 94,
     "metadata": {},
     "output_type": "execute_result"
    }
   ],
   "source": [
    "puntuacionespreposet_ruidov1 = mn(ruido_v1)\n",
    "poset_mn_old = puntuaciones_preposet |> fuzzy"
   ]
  },
  {
   "cell_type": "markdown",
   "metadata": {},
   "source": [
    "posiciones promedio"
   ]
  },
  {
   "cell_type": "code",
   "execution_count": 95,
   "metadata": {},
   "outputs": [
    {
     "data": {
      "text/plain": [
       "10-element Array{Float64,1}:\n",
       " 7.9107142857142865\n",
       " 6.446428571428571\n",
       " 3.964285714285714\n",
       " 7.25\n",
       " 4.267857142857142\n",
       " 2.392857142857143\n",
       " 8.357142857142856\n",
       " 3.0892857142857144\n",
       " 9.732142857142858\n",
       " 1.5892857142857142"
      ]
     },
     "execution_count": 95,
     "metadata": {},
     "output_type": "execute_result"
    }
   ],
   "source": [
    "[posicionpromedio(lista_extensioneslineales, x) for x in 1:10]"
   ]
  },
  {
   "cell_type": "code",
   "execution_count": 96,
   "metadata": {},
   "outputs": [
    {
     "data": {
      "text/plain": [
       "10-element Array{Float64,1}:\n",
       " 7.9107142857142865\n",
       " 6.446428571428571\n",
       " 3.946428571428571\n",
       " 7.232142857142858\n",
       " 4.196428571428572\n",
       " 2.410714285714286\n",
       " 8.357142857142856\n",
       " 3.0892857142857144\n",
       " 9.75\n",
       " 1.6607142857142856"
      ]
     },
     "execution_count": 96,
     "metadata": {},
     "output_type": "execute_result"
    }
   ],
   "source": [
    "[posicionpromedio(ruido_v1, x) for x in 1:10]"
   ]
  },
  {
   "cell_type": "code",
   "execution_count": 99,
   "metadata": {},
   "outputs": [
    {
     "data": {
      "text/plain": [
       "0.10714285714285625"
      ]
     },
     "execution_count": 99,
     "metadata": {},
     "output_type": "execute_result"
    }
   ],
   "source": [
    "norma_diferenciapos(lista_extensioneslineales, ruido_v1)"
   ]
  },
  {
   "cell_type": "code",
   "execution_count": 102,
   "metadata": {},
   "outputs": [
    {
     "data": {
      "text/plain": [
       "100-element Array{Float64,1}:\n",
       " 0.0757614408414159\n",
       " 0.11572751247156825\n",
       " 0.07142857142857217\n",
       " 0.08748177652797105\n",
       " 0.10101525445522197\n",
       " 0.10101525445522087\n",
       " 0.07268232609257391\n",
       " 0.056469243931578005\n",
       " 0.06681531047810657\n",
       " 0.08375742428256204\n",
       " 0.0736505059829179\n",
       " 0.11007882148158808\n",
       " 0.07985957062499162\n",
       " ⋮\n",
       " 0.050507627227610825\n",
       " 0.0837574242825617\n",
       " 0.11007882148159047\n",
       " 0.05646924393157857\n",
       " 0.0798595706249923\n",
       " 0.07985957062499216\n",
       " 0.12111303541295085\n",
       " 0.0798595706249917\n",
       " 0.11845088536983563\n",
       " 0.061858957413174154\n",
       " 0.09780759955449318\n",
       " 0.10412414097938084"
      ]
     },
     "execution_count": 102,
     "metadata": {},
     "output_type": "execute_result"
    }
   ],
   "source": [
    "data1 = [norma_diferenciapos(lista_extensioneslineales, (ruido(lista_extensioneslineales, 2, 5) |> unique!)) for _ in 1:10^2]"
   ]
  },
  {
   "cell_type": "code",
   "execution_count": 104,
   "metadata": {},
   "outputs": [
    {
     "data": {
      "text/plain": [
       "100-element Array{Float64,1}:\n",
       " 0.15567496226930988\n",
       " 0.16687911629614427\n",
       " 0.15022401330811583\n",
       " 0.07142857142857129\n",
       " 0.10333554133771707\n",
       " 0.16751484856512222\n",
       " 0.11007882148158928\n",
       " 0.10714285714285705\n",
       " 0.10101525445522055\n",
       " 0.12904363633122298\n",
       " 0.16636457462970358\n",
       " 0.1157275124715694\n",
       " 0.08586296628693887\n",
       " ⋮\n",
       " 0.13599594831899928\n",
       " 0.09780759955449284\n",
       " 0.11572751247156841\n",
       " 0.06681531047810717\n",
       " 0.12626906806902632\n",
       " 0.12876968840942773\n",
       " 0.08748177652797043\n",
       " 0.10412414097937907\n",
       " 0.09105391988558555\n",
       " 0.08748177652797047\n",
       " 0.1359959483189978\n",
       " 0.13599594831899825"
      ]
     },
     "execution_count": 104,
     "metadata": {},
     "output_type": "execute_result"
    }
   ],
   "source": [
    "data2 = [norma_diferenciapos(lista_extensioneslineales, (ruido(lista_extensioneslineales, 4, 5) |> unique!)) for _ in 1:10^2]"
   ]
  },
  {
   "cell_type": "code",
   "execution_count": 106,
   "metadata": {},
   "outputs": [
    {
     "data": {
      "text/plain": [
       "100-element Array{Float64,1}:\n",
       " 0.18898223650461254\n",
       " 0.1406072834644973\n",
       " 0.17313142347915536\n",
       " 0.12876968840942785\n",
       " 0.16074084786399387\n",
       " 0.1383208337931224\n",
       " 0.16560033027670865\n",
       " 0.10714285714285729\n",
       " 0.1821078397711703\n",
       " 0.12371791482634899\n",
       " 0.13599594831899825\n",
       " 0.10703950150659179\n",
       " 0.08748177652796979\n",
       " ⋮\n",
       " 0.1392103904342537\n",
       " 0.17677669529663703\n",
       " 0.1889822365046139\n",
       " 0.14704674134090168\n",
       " 0.2082482819587611\n",
       " 0.1515228816828315\n",
       " 0.1287696884094281\n",
       " 0.14725377234348813\n",
       " 0.12575375708562467\n",
       " 0.16940773179473528\n",
       " 0.15152288168283323\n",
       " 0.17677669529663734"
      ]
     },
     "execution_count": 106,
     "metadata": {},
     "output_type": "execute_result"
    }
   ],
   "source": [
    "data3 = [norma_diferenciapos(lista_extensioneslineales, (ruido(lista_extensioneslineales, 6, 5) |> unique!)) for _ in 1:10^2]"
   ]
  },
  {
   "cell_type": "code",
   "execution_count": 108,
   "metadata": {},
   "outputs": [
    {
     "data": {
      "text/plain": [
       "100-element Array{Float64,1}:\n",
       " 0.07373061377055568\n",
       " 0.06681531047810563\n",
       " 0.1515228816828324\n",
       " 0.13363062095621184\n",
       " 0.07576144084141617\n",
       " 0.0798595706249935\n",
       " 0.11293848786315744\n",
       " 0.05646924393157927\n",
       " 0.08375742428255985\n",
       " 0.13122266479195516\n",
       " 0.10101525445522049\n",
       " 0.12876968840942882\n",
       " 0.07576144084141574\n",
       " ⋮\n",
       " 0.09449111825230731\n",
       " 0.10714285714285705\n",
       " 0.09105391988558524\n",
       " 0.11007882148158926\n",
       " 0.10714285714285662\n",
       " 0.12876968840942865\n",
       " 0.08375742428256161\n",
       " 0.1262690680690264\n",
       " 0.12876968840942835\n",
       " 0.11293848786315734\n",
       " 0.07576144084141517\n",
       " 0.07576144084141569"
      ]
     },
     "execution_count": 108,
     "metadata": {},
     "output_type": "execute_result"
    }
   ],
   "source": [
    "data1x = [norma_diferenciapos(lista_extensioneslineales, (ruido(lista_extensioneslineales, 2, 10) |> unique!)) for _ in 1:10^2]"
   ]
  },
  {
   "cell_type": "code",
   "execution_count": 110,
   "metadata": {},
   "outputs": [
    {
     "data": {
      "text/plain": [
       "100-element Array{Float64,1}:\n",
       " 0.1636634176769937\n",
       " 0.15567496226930921\n",
       " 0.21576867809990277\n",
       " 0.13363062095621206\n",
       " 0.1359959483189998\n",
       " 0.17857142857142905\n",
       " 0.10412414097938076\n",
       " 0.09105391988558625\n",
       " 0.18728729431609964\n",
       " 0.1939782230571469\n",
       " 0.2258769757263134\n",
       " 0.16940773179473395\n",
       " 0.13832083379312252\n",
       " ⋮\n",
       " 0.15971914124998582\n",
       " 0.15771001547014235\n",
       " 0.21724151893922222\n",
       " 0.1838505382319107\n",
       " 0.15971914124998485\n",
       " 0.14060728346449608\n",
       " 0.27893748842523813\n",
       " 0.21279241585380426\n",
       " 0.21279241585380315\n",
       " 0.15771001547013916\n",
       " 0.19723858959263013\n",
       " 0.22587697572631385"
      ]
     },
     "execution_count": 110,
     "metadata": {},
     "output_type": "execute_result"
    }
   ],
   "source": [
    "data2x = [norma_diferenciapos(lista_extensioneslineales, (ruido(lista_extensioneslineales, 4, 10) |> unique!)) for _ in 1:10^2]"
   ]
  },
  {
   "cell_type": "code",
   "execution_count": 112,
   "metadata": {},
   "outputs": [
    {
     "data": {
      "text/plain": [
       "100-element Array{Float64,1}:\n",
       " 0.2840599240987742\n",
       " 0.18034830247075195\n",
       " 0.20516295166207185\n",
       " 0.18210783977117087\n",
       " 0.29342279866348336\n",
       " 0.18283631909912454\n",
       " 0.23690177073967114\n",
       " 0.11845088536983643\n",
       " 0.17677669529663695\n",
       " 0.29124118625535844\n",
       " 0.20671137326411268\n",
       " 0.15971914124998504\n",
       " 0.17127969726116937\n",
       " ⋮\n",
       " 0.2355518921120163\n",
       " 0.21128856368212967\n",
       " 0.21724151893922222\n",
       " 0.2201576429631792\n",
       " 0.16433639688415638\n",
       " 0.18728729431609892\n",
       " 0.13122105813792304\n",
       " 0.19723858959262955\n",
       " 0.1336306209562121\n",
       " 0.2355518921120171\n",
       " 0.2112885636821287\n",
       " 0.18898223650461377"
      ]
     },
     "execution_count": 112,
     "metadata": {},
     "output_type": "execute_result"
    }
   ],
   "source": [
    "data3x = [norma_diferenciapos(lista_extensioneslineales, (ruido(lista_extensioneslineales, 6, 10) |> unique!)) for _ in 1:10^2]"
   ]
  },
  {
   "cell_type": "code",
   "execution_count": 114,
   "metadata": {},
   "outputs": [
    {
     "data": {
      "image/svg+xml": [
       "<?xml version=\"1.0\" encoding=\"utf-8\"?>\n",
       "<svg xmlns=\"http://www.w3.org/2000/svg\" xmlns:xlink=\"http://www.w3.org/1999/xlink\" width=\"600\" height=\"400\" viewBox=\"0 0 2400 1600\">\n",
       "<defs>\n",
       "  <clipPath id=\"clip530\">\n",
       "    <rect x=\"0\" y=\"0\" width=\"2400\" height=\"1600\"/>\n",
       "  </clipPath>\n",
       "</defs>\n",
       "<path clip-path=\"url(#clip530)\" d=\"\n",
       "M0 1600 L2400 1600 L2400 0 L0 0  Z\n",
       "  \" fill=\"#ffffff\" fill-rule=\"evenodd\" fill-opacity=\"1\"/>\n",
       "<defs>\n",
       "  <clipPath id=\"clip531\">\n",
       "    <rect x=\"480\" y=\"0\" width=\"1681\" height=\"1600\"/>\n",
       "  </clipPath>\n",
       "</defs>\n",
       "<path clip-path=\"url(#clip530)\" d=\"\n",
       "M136.76 1486.45 L2352.76 1486.45 L2352.76 47.2441 L136.76 47.2441  Z\n",
       "  \" fill=\"#ffffff\" fill-rule=\"evenodd\" fill-opacity=\"1\"/>\n",
       "<defs>\n",
       "  <clipPath id=\"clip532\">\n",
       "    <rect x=\"136\" y=\"47\" width=\"2217\" height=\"1440\"/>\n",
       "  </clipPath>\n",
       "</defs>\n",
       "<polyline clip-path=\"url(#clip532)\" style=\"stroke:#000000; stroke-width:2; stroke-opacity:0.1; fill:none\" points=\"\n",
       "  424.113,1486.45 424.113,47.2441 \n",
       "  \"/>\n",
       "<polyline clip-path=\"url(#clip532)\" style=\"stroke:#000000; stroke-width:2; stroke-opacity:0.1; fill:none\" points=\"\n",
       "  877.008,1486.45 877.008,47.2441 \n",
       "  \"/>\n",
       "<polyline clip-path=\"url(#clip532)\" style=\"stroke:#000000; stroke-width:2; stroke-opacity:0.1; fill:none\" points=\"\n",
       "  1329.9,1486.45 1329.9,47.2441 \n",
       "  \"/>\n",
       "<polyline clip-path=\"url(#clip532)\" style=\"stroke:#000000; stroke-width:2; stroke-opacity:0.1; fill:none\" points=\"\n",
       "  1782.8,1486.45 1782.8,47.2441 \n",
       "  \"/>\n",
       "<polyline clip-path=\"url(#clip532)\" style=\"stroke:#000000; stroke-width:2; stroke-opacity:0.1; fill:none\" points=\"\n",
       "  2235.69,1486.45 2235.69,47.2441 \n",
       "  \"/>\n",
       "<polyline clip-path=\"url(#clip530)\" style=\"stroke:#000000; stroke-width:4; stroke-opacity:1; fill:none\" points=\"\n",
       "  136.76,1486.45 2352.76,1486.45 \n",
       "  \"/>\n",
       "<polyline clip-path=\"url(#clip530)\" style=\"stroke:#000000; stroke-width:4; stroke-opacity:1; fill:none\" points=\"\n",
       "  424.113,1486.45 424.113,1469.18 \n",
       "  \"/>\n",
       "<polyline clip-path=\"url(#clip530)\" style=\"stroke:#000000; stroke-width:4; stroke-opacity:1; fill:none\" points=\"\n",
       "  877.008,1486.45 877.008,1469.18 \n",
       "  \"/>\n",
       "<polyline clip-path=\"url(#clip530)\" style=\"stroke:#000000; stroke-width:4; stroke-opacity:1; fill:none\" points=\"\n",
       "  1329.9,1486.45 1329.9,1469.18 \n",
       "  \"/>\n",
       "<polyline clip-path=\"url(#clip530)\" style=\"stroke:#000000; stroke-width:4; stroke-opacity:1; fill:none\" points=\"\n",
       "  1782.8,1486.45 1782.8,1469.18 \n",
       "  \"/>\n",
       "<polyline clip-path=\"url(#clip530)\" style=\"stroke:#000000; stroke-width:4; stroke-opacity:1; fill:none\" points=\"\n",
       "  2235.69,1486.45 2235.69,1469.18 \n",
       "  \"/>\n",
       "<path clip-path=\"url(#clip530)\" d=\"M 0 0 M392.736 1515.64 Q389.125 1515.64 387.296 1519.2 Q385.491 1522.75 385.491 1529.87 Q385.491 1536.98 387.296 1540.55 Q389.125 1544.09 392.736 1544.09 Q396.37 1544.09 398.176 1540.55 Q400.004 1536.98 400.004 1529.87 Q400.004 1522.75 398.176 1519.2 Q396.37 1515.64 392.736 1515.64 M392.736 1511.93 Q398.546 1511.93 401.602 1516.54 Q404.68 1521.12 404.68 1529.87 Q404.68 1538.6 401.602 1543.21 Q398.546 1547.79 392.736 1547.79 Q386.926 1547.79 383.847 1543.21 Q380.791 1538.6 380.791 1529.87 Q380.791 1521.12 383.847 1516.54 Q386.926 1511.93 392.736 1511.93 Z\" fill=\"#000000\" fill-rule=\"evenodd\" fill-opacity=\"1\" /><path clip-path=\"url(#clip530)\" d=\"M 0 0 M409.75 1541.24 L414.634 1541.24 L414.634 1547.12 L409.75 1547.12 L409.75 1541.24 Z\" fill=\"#000000\" fill-rule=\"evenodd\" fill-opacity=\"1\" /><path clip-path=\"url(#clip530)\" d=\"M 0 0 M420.513 1543.18 L428.152 1543.18 L428.152 1516.82 L419.842 1518.49 L419.842 1514.23 L428.106 1512.56 L432.782 1512.56 L432.782 1543.18 L440.421 1543.18 L440.421 1547.12 L420.513 1547.12 L420.513 1543.18 Z\" fill=\"#000000\" fill-rule=\"evenodd\" fill-opacity=\"1\" /><path clip-path=\"url(#clip530)\" d=\"M 0 0 M455.49 1515.64 Q451.879 1515.64 450.05 1519.2 Q448.245 1522.75 448.245 1529.87 Q448.245 1536.98 450.05 1540.55 Q451.879 1544.09 455.49 1544.09 Q459.124 1544.09 460.93 1540.55 Q462.759 1536.98 462.759 1529.87 Q462.759 1522.75 460.93 1519.2 Q459.124 1515.64 455.49 1515.64 M455.49 1511.93 Q461.3 1511.93 464.356 1516.54 Q467.435 1521.12 467.435 1529.87 Q467.435 1538.6 464.356 1543.21 Q461.3 1547.79 455.49 1547.79 Q449.68 1547.79 446.601 1543.21 Q443.546 1538.6 443.546 1529.87 Q443.546 1521.12 446.601 1516.54 Q449.68 1511.93 455.49 1511.93 Z\" fill=\"#000000\" fill-rule=\"evenodd\" fill-opacity=\"1\" /><path clip-path=\"url(#clip530)\" d=\"M 0 0 M846.128 1515.64 Q842.517 1515.64 840.688 1519.2 Q838.883 1522.75 838.883 1529.87 Q838.883 1536.98 840.688 1540.55 Q842.517 1544.09 846.128 1544.09 Q849.762 1544.09 851.568 1540.55 Q853.397 1536.98 853.397 1529.87 Q853.397 1522.75 851.568 1519.2 Q849.762 1515.64 846.128 1515.64 M846.128 1511.93 Q851.938 1511.93 854.994 1516.54 Q858.073 1521.12 858.073 1529.87 Q858.073 1538.6 854.994 1543.21 Q851.938 1547.79 846.128 1547.79 Q840.318 1547.79 837.239 1543.21 Q834.184 1538.6 834.184 1529.87 Q834.184 1521.12 837.239 1516.54 Q840.318 1511.93 846.128 1511.93 Z\" fill=\"#000000\" fill-rule=\"evenodd\" fill-opacity=\"1\" /><path clip-path=\"url(#clip530)\" d=\"M 0 0 M863.142 1541.24 L868.026 1541.24 L868.026 1547.12 L863.142 1547.12 L863.142 1541.24 Z\" fill=\"#000000\" fill-rule=\"evenodd\" fill-opacity=\"1\" /><path clip-path=\"url(#clip530)\" d=\"M 0 0 M873.906 1543.18 L881.545 1543.18 L881.545 1516.82 L873.235 1518.49 L873.235 1514.23 L881.498 1512.56 L886.174 1512.56 L886.174 1543.18 L893.813 1543.18 L893.813 1547.12 L873.906 1547.12 L873.906 1543.18 Z\" fill=\"#000000\" fill-rule=\"evenodd\" fill-opacity=\"1\" /><path clip-path=\"url(#clip530)\" d=\"M 0 0 M898.929 1512.56 L917.285 1512.56 L917.285 1516.5 L903.211 1516.5 L903.211 1524.97 Q904.23 1524.62 905.248 1524.46 Q906.267 1524.27 907.285 1524.27 Q913.072 1524.27 916.452 1527.44 Q919.832 1530.62 919.832 1536.03 Q919.832 1541.61 916.359 1544.71 Q912.887 1547.79 906.568 1547.79 Q904.392 1547.79 902.123 1547.42 Q899.878 1547.05 897.471 1546.31 L897.471 1541.61 Q899.554 1542.74 901.776 1543.3 Q903.998 1543.86 906.475 1543.86 Q910.48 1543.86 912.818 1541.75 Q915.156 1539.64 915.156 1536.03 Q915.156 1532.42 912.818 1530.31 Q910.48 1528.21 906.475 1528.21 Q904.6 1528.21 902.725 1528.62 Q900.873 1529.04 898.929 1529.92 L898.929 1512.56 Z\" fill=\"#000000\" fill-rule=\"evenodd\" fill-opacity=\"1\" /><path clip-path=\"url(#clip530)\" d=\"M 0 0 M1298.71 1515.64 Q1295.1 1515.64 1293.27 1519.2 Q1291.47 1522.75 1291.47 1529.87 Q1291.47 1536.98 1293.27 1540.55 Q1295.1 1544.09 1298.71 1544.09 Q1302.34 1544.09 1304.15 1540.55 Q1305.98 1536.98 1305.98 1529.87 Q1305.98 1522.75 1304.15 1519.2 Q1302.34 1515.64 1298.71 1515.64 M1298.71 1511.93 Q1304.52 1511.93 1307.58 1516.54 Q1310.65 1521.12 1310.65 1529.87 Q1310.65 1538.6 1307.58 1543.21 Q1304.52 1547.79 1298.71 1547.79 Q1292.9 1547.79 1289.82 1543.21 Q1286.77 1538.6 1286.77 1529.87 Q1286.77 1521.12 1289.82 1516.54 Q1292.9 1511.93 1298.71 1511.93 Z\" fill=\"#000000\" fill-rule=\"evenodd\" fill-opacity=\"1\" /><path clip-path=\"url(#clip530)\" d=\"M 0 0 M1315.72 1541.24 L1320.61 1541.24 L1320.61 1547.12 L1315.72 1547.12 L1315.72 1541.24 Z\" fill=\"#000000\" fill-rule=\"evenodd\" fill-opacity=\"1\" /><path clip-path=\"url(#clip530)\" d=\"M 0 0 M1329.71 1543.18 L1346.02 1543.18 L1346.02 1547.12 L1324.08 1547.12 L1324.08 1543.18 Q1326.74 1540.43 1331.33 1535.8 Q1335.93 1531.15 1337.11 1529.81 Q1339.36 1527.28 1340.24 1525.55 Q1341.14 1523.79 1341.14 1522.1 Q1341.14 1519.34 1339.2 1517.61 Q1337.27 1515.87 1334.17 1515.87 Q1331.97 1515.87 1329.52 1516.63 Q1327.09 1517.4 1324.31 1518.95 L1324.31 1514.23 Q1327.14 1513.09 1329.59 1512.51 Q1332.04 1511.93 1334.08 1511.93 Q1339.45 1511.93 1342.65 1514.62 Q1345.84 1517.31 1345.84 1521.8 Q1345.84 1523.93 1345.03 1525.85 Q1344.24 1527.74 1342.14 1530.34 Q1341.56 1531.01 1338.46 1534.23 Q1335.35 1537.42 1329.71 1543.18 Z\" fill=\"#000000\" fill-rule=\"evenodd\" fill-opacity=\"1\" /><path clip-path=\"url(#clip530)\" d=\"M 0 0 M1361.09 1515.64 Q1357.48 1515.64 1355.65 1519.2 Q1353.85 1522.75 1353.85 1529.87 Q1353.85 1536.98 1355.65 1540.55 Q1357.48 1544.09 1361.09 1544.09 Q1364.73 1544.09 1366.53 1540.55 Q1368.36 1536.98 1368.36 1529.87 Q1368.36 1522.75 1366.53 1519.2 Q1364.73 1515.64 1361.09 1515.64 M1361.09 1511.93 Q1366.9 1511.93 1369.96 1516.54 Q1373.04 1521.12 1373.04 1529.87 Q1373.04 1538.6 1369.96 1543.21 Q1366.9 1547.79 1361.09 1547.79 Q1355.28 1547.79 1352.21 1543.21 Q1349.15 1538.6 1349.15 1529.87 Q1349.15 1521.12 1352.21 1516.54 Q1355.28 1511.93 1361.09 1511.93 Z\" fill=\"#000000\" fill-rule=\"evenodd\" fill-opacity=\"1\" /><path clip-path=\"url(#clip530)\" d=\"M 0 0 M1752.1 1515.64 Q1748.49 1515.64 1746.66 1519.2 Q1744.86 1522.75 1744.86 1529.87 Q1744.86 1536.98 1746.66 1540.55 Q1748.49 1544.09 1752.1 1544.09 Q1755.74 1544.09 1757.54 1540.55 Q1759.37 1536.98 1759.37 1529.87 Q1759.37 1522.75 1757.54 1519.2 Q1755.74 1515.64 1752.1 1515.64 M1752.1 1511.93 Q1757.91 1511.93 1760.97 1516.54 Q1764.05 1521.12 1764.05 1529.87 Q1764.05 1538.6 1760.97 1543.21 Q1757.91 1547.79 1752.1 1547.79 Q1746.29 1547.79 1743.21 1543.21 Q1740.16 1538.6 1740.16 1529.87 Q1740.16 1521.12 1743.21 1516.54 Q1746.29 1511.93 1752.1 1511.93 Z\" fill=\"#000000\" fill-rule=\"evenodd\" fill-opacity=\"1\" /><path clip-path=\"url(#clip530)\" d=\"M 0 0 M1769.12 1541.24 L1774 1541.24 L1774 1547.12 L1769.12 1547.12 L1769.12 1541.24 Z\" fill=\"#000000\" fill-rule=\"evenodd\" fill-opacity=\"1\" /><path clip-path=\"url(#clip530)\" d=\"M 0 0 M1783.1 1543.18 L1799.42 1543.18 L1799.42 1547.12 L1777.47 1547.12 L1777.47 1543.18 Q1780.13 1540.43 1784.72 1535.8 Q1789.32 1531.15 1790.51 1529.81 Q1792.75 1527.28 1793.63 1525.55 Q1794.53 1523.79 1794.53 1522.1 Q1794.53 1519.34 1792.59 1517.61 Q1790.67 1515.87 1787.57 1515.87 Q1785.37 1515.87 1782.91 1516.63 Q1780.48 1517.4 1777.7 1518.95 L1777.7 1514.23 Q1780.53 1513.09 1782.98 1512.51 Q1785.44 1511.93 1787.47 1511.93 Q1792.84 1511.93 1796.04 1514.62 Q1799.23 1517.31 1799.23 1521.8 Q1799.23 1523.93 1798.42 1525.85 Q1797.63 1527.74 1795.53 1530.34 Q1794.95 1531.01 1791.85 1534.23 Q1788.75 1537.42 1783.1 1543.18 Z\" fill=\"#000000\" fill-rule=\"evenodd\" fill-opacity=\"1\" /><path clip-path=\"url(#clip530)\" d=\"M 0 0 M1804.53 1512.56 L1822.89 1512.56 L1822.89 1516.5 L1808.82 1516.5 L1808.82 1524.97 Q1809.83 1524.62 1810.85 1524.46 Q1811.87 1524.27 1812.89 1524.27 Q1818.68 1524.27 1822.06 1527.44 Q1825.44 1530.62 1825.44 1536.03 Q1825.44 1541.61 1821.96 1544.71 Q1818.49 1547.79 1812.17 1547.79 Q1810 1547.79 1807.73 1547.42 Q1805.48 1547.05 1803.07 1546.31 L1803.07 1541.61 Q1805.16 1542.74 1807.38 1543.3 Q1809.6 1543.86 1812.08 1543.86 Q1816.08 1543.86 1818.42 1541.75 Q1820.76 1539.64 1820.76 1536.03 Q1820.76 1532.42 1818.42 1530.31 Q1816.08 1528.21 1812.08 1528.21 Q1810.2 1528.21 1808.33 1528.62 Q1806.48 1529.04 1804.53 1529.92 L1804.53 1512.56 Z\" fill=\"#000000\" fill-rule=\"evenodd\" fill-opacity=\"1\" /><path clip-path=\"url(#clip530)\" d=\"M 0 0 M2204.03 1515.64 Q2200.41 1515.64 2198.59 1519.2 Q2196.78 1522.75 2196.78 1529.87 Q2196.78 1536.98 2198.59 1540.55 Q2200.41 1544.09 2204.03 1544.09 Q2207.66 1544.09 2209.46 1540.55 Q2211.29 1536.98 2211.29 1529.87 Q2211.29 1522.75 2209.46 1519.2 Q2207.66 1515.64 2204.03 1515.64 M2204.03 1511.93 Q2209.84 1511.93 2212.89 1516.54 Q2215.97 1521.12 2215.97 1529.87 Q2215.97 1538.6 2212.89 1543.21 Q2209.84 1547.79 2204.03 1547.79 Q2198.22 1547.79 2195.14 1543.21 Q2192.08 1538.6 2192.08 1529.87 Q2192.08 1521.12 2195.14 1516.54 Q2198.22 1511.93 2204.03 1511.93 Z\" fill=\"#000000\" fill-rule=\"evenodd\" fill-opacity=\"1\" /><path clip-path=\"url(#clip530)\" d=\"M 0 0 M2221.04 1541.24 L2225.92 1541.24 L2225.92 1547.12 L2221.04 1547.12 L2221.04 1541.24 Z\" fill=\"#000000\" fill-rule=\"evenodd\" fill-opacity=\"1\" /><path clip-path=\"url(#clip530)\" d=\"M 0 0 M2245.16 1528.49 Q2248.52 1529.2 2250.39 1531.47 Q2252.29 1533.74 2252.29 1537.07 Q2252.29 1542.19 2248.77 1544.99 Q2245.25 1547.79 2238.77 1547.79 Q2236.59 1547.79 2234.28 1547.35 Q2231.99 1546.93 2229.53 1546.08 L2229.53 1541.56 Q2231.48 1542.7 2233.79 1543.28 Q2236.11 1543.86 2238.63 1543.86 Q2243.03 1543.86 2245.32 1542.12 Q2247.64 1540.38 2247.64 1537.07 Q2247.64 1534.02 2245.48 1532.31 Q2243.35 1530.57 2239.53 1530.57 L2235.51 1530.57 L2235.51 1526.73 L2239.72 1526.73 Q2243.17 1526.73 2245 1525.36 Q2246.83 1523.97 2246.83 1521.38 Q2246.83 1518.72 2244.93 1517.31 Q2243.05 1515.87 2239.53 1515.87 Q2237.61 1515.87 2235.41 1516.29 Q2233.21 1516.7 2230.58 1517.58 L2230.58 1513.42 Q2233.24 1512.68 2235.55 1512.31 Q2237.89 1511.93 2239.95 1511.93 Q2245.27 1511.93 2248.38 1514.37 Q2251.48 1516.77 2251.48 1520.89 Q2251.48 1523.76 2249.84 1525.75 Q2248.19 1527.72 2245.16 1528.49 Z\" fill=\"#000000\" fill-rule=\"evenodd\" fill-opacity=\"1\" /><path clip-path=\"url(#clip530)\" d=\"M 0 0 M2267.36 1515.64 Q2263.75 1515.64 2261.92 1519.2 Q2260.11 1522.75 2260.11 1529.87 Q2260.11 1536.98 2261.92 1540.55 Q2263.75 1544.09 2267.36 1544.09 Q2270.99 1544.09 2272.8 1540.55 Q2274.63 1536.98 2274.63 1529.87 Q2274.63 1522.75 2272.8 1519.2 Q2270.99 1515.64 2267.36 1515.64 M2267.36 1511.93 Q2273.17 1511.93 2276.22 1516.54 Q2279.3 1521.12 2279.3 1529.87 Q2279.3 1538.6 2276.22 1543.21 Q2273.17 1547.79 2267.36 1547.79 Q2261.55 1547.79 2258.47 1543.21 Q2255.41 1538.6 2255.41 1529.87 Q2255.41 1521.12 2258.47 1516.54 Q2261.55 1511.93 2267.36 1511.93 Z\" fill=\"#000000\" fill-rule=\"evenodd\" fill-opacity=\"1\" /><polyline clip-path=\"url(#clip532)\" style=\"stroke:#000000; stroke-width:2; stroke-opacity:0.1; fill:none\" points=\"\n",
       "  136.76,1445.72 2352.76,1445.72 \n",
       "  \"/>\n",
       "<polyline clip-path=\"url(#clip532)\" style=\"stroke:#000000; stroke-width:2; stroke-opacity:0.1; fill:none\" points=\"\n",
       "  136.76,993.136 2352.76,993.136 \n",
       "  \"/>\n",
       "<polyline clip-path=\"url(#clip532)\" style=\"stroke:#000000; stroke-width:2; stroke-opacity:0.1; fill:none\" points=\"\n",
       "  136.76,540.556 2352.76,540.556 \n",
       "  \"/>\n",
       "<polyline clip-path=\"url(#clip532)\" style=\"stroke:#000000; stroke-width:2; stroke-opacity:0.1; fill:none\" points=\"\n",
       "  136.76,87.9763 2352.76,87.9763 \n",
       "  \"/>\n",
       "<polyline clip-path=\"url(#clip530)\" style=\"stroke:#000000; stroke-width:4; stroke-opacity:1; fill:none\" points=\"\n",
       "  136.76,1486.45 136.76,47.2441 \n",
       "  \"/>\n",
       "<polyline clip-path=\"url(#clip530)\" style=\"stroke:#000000; stroke-width:4; stroke-opacity:1; fill:none\" points=\"\n",
       "  136.76,1445.72 163.352,1445.72 \n",
       "  \"/>\n",
       "<polyline clip-path=\"url(#clip530)\" style=\"stroke:#000000; stroke-width:4; stroke-opacity:1; fill:none\" points=\"\n",
       "  136.76,993.136 163.352,993.136 \n",
       "  \"/>\n",
       "<polyline clip-path=\"url(#clip530)\" style=\"stroke:#000000; stroke-width:4; stroke-opacity:1; fill:none\" points=\"\n",
       "  136.76,540.556 163.352,540.556 \n",
       "  \"/>\n",
       "<polyline clip-path=\"url(#clip530)\" style=\"stroke:#000000; stroke-width:4; stroke-opacity:1; fill:none\" points=\"\n",
       "  136.76,87.9763 163.352,87.9763 \n",
       "  \"/>\n",
       "<path clip-path=\"url(#clip530)\" d=\"M 0 0 M88.816 1431.51 Q85.2049 1431.51 83.3762 1435.08 Q81.5707 1438.62 81.5707 1445.75 Q81.5707 1452.86 83.3762 1456.42 Q85.2049 1459.96 88.816 1459.96 Q92.4502 1459.96 94.2558 1456.42 Q96.0845 1452.86 96.0845 1445.75 Q96.0845 1438.62 94.2558 1435.08 Q92.4502 1431.51 88.816 1431.51 M88.816 1427.81 Q94.6262 1427.81 97.6817 1432.42 Q100.76 1437 100.76 1445.75 Q100.76 1454.48 97.6817 1459.08 Q94.6262 1463.67 88.816 1463.67 Q83.0058 1463.67 79.9272 1459.08 Q76.8716 1454.48 76.8716 1445.75 Q76.8716 1437 79.9272 1432.42 Q83.0058 1427.81 88.816 1427.81 Z\" fill=\"#000000\" fill-rule=\"evenodd\" fill-opacity=\"1\" /><path clip-path=\"url(#clip530)\" d=\"M 0 0 M53.8393 1006.48 L61.4782 1006.48 L61.4782 980.115 L53.168 981.782 L53.168 977.523 L61.4319 975.856 L66.1078 975.856 L66.1078 1006.48 L73.7466 1006.48 L73.7466 1010.42 L53.8393 1010.42 L53.8393 1006.48 Z\" fill=\"#000000\" fill-rule=\"evenodd\" fill-opacity=\"1\" /><path clip-path=\"url(#clip530)\" d=\"M 0 0 M88.816 978.935 Q85.2049 978.935 83.3762 982.499 Q81.5707 986.041 81.5707 993.171 Q81.5707 1000.28 83.3762 1003.84 Q85.2049 1007.38 88.816 1007.38 Q92.4502 1007.38 94.2558 1003.84 Q96.0845 1000.28 96.0845 993.171 Q96.0845 986.041 94.2558 982.499 Q92.4502 978.935 88.816 978.935 M88.816 975.231 Q94.6262 975.231 97.6817 979.837 Q100.76 984.421 100.76 993.171 Q100.76 1001.9 97.6817 1006.5 Q94.6262 1011.09 88.816 1011.09 Q83.0058 1011.09 79.9272 1006.5 Q76.8716 1001.9 76.8716 993.171 Q76.8716 984.421 79.9272 979.837 Q83.0058 975.231 88.816 975.231 Z\" fill=\"#000000\" fill-rule=\"evenodd\" fill-opacity=\"1\" /><path clip-path=\"url(#clip530)\" d=\"M 0 0 M57.4273 553.901 L73.7466 553.901 L73.7466 557.836 L51.8023 557.836 L51.8023 553.901 Q54.4643 551.146 59.0476 546.517 Q63.6541 541.864 64.8346 540.521 Q67.08 537.998 67.9596 536.262 Q68.8624 534.503 68.8624 532.813 Q68.8624 530.058 66.918 528.322 Q64.9967 526.586 61.8948 526.586 Q59.6958 526.586 57.2421 527.35 Q54.8115 528.114 52.0338 529.665 L52.0338 524.943 Q54.8578 523.808 57.3115 523.23 Q59.7652 522.651 61.8023 522.651 Q67.1726 522.651 70.367 525.336 Q73.5614 528.021 73.5614 532.512 Q73.5614 534.642 72.7513 536.563 Q71.9642 538.461 69.8578 541.054 Q69.2791 541.725 66.1772 544.943 Q63.0754 548.137 57.4273 553.901 Z\" fill=\"#000000\" fill-rule=\"evenodd\" fill-opacity=\"1\" /><path clip-path=\"url(#clip530)\" d=\"M 0 0 M88.816 526.355 Q85.2049 526.355 83.3762 529.92 Q81.5707 533.461 81.5707 540.591 Q81.5707 547.697 83.3762 551.262 Q85.2049 554.804 88.816 554.804 Q92.4502 554.804 94.2558 551.262 Q96.0845 547.697 96.0845 540.591 Q96.0845 533.461 94.2558 529.92 Q92.4502 526.355 88.816 526.355 M88.816 522.651 Q94.6262 522.651 97.6817 527.258 Q100.76 531.841 100.76 540.591 Q100.76 549.318 97.6817 553.924 Q94.6262 558.507 88.816 558.507 Q83.0058 558.507 79.9272 553.924 Q76.8716 549.318 76.8716 540.591 Q76.8716 531.841 79.9272 527.258 Q83.0058 522.651 88.816 522.651 Z\" fill=\"#000000\" fill-rule=\"evenodd\" fill-opacity=\"1\" /><path clip-path=\"url(#clip530)\" d=\"M 0 0 M66.617 86.6221 Q69.9735 87.3397 71.8485 89.6082 Q73.7466 91.8767 73.7466 95.21 Q73.7466 100.326 70.2281 103.127 Q66.7096 105.928 60.2282 105.928 Q58.0523 105.928 55.7375 105.488 Q53.4458 105.071 50.9921 104.215 L50.9921 99.7008 Q52.9366 100.835 55.2514 101.414 Q57.5662 101.992 60.0893 101.992 Q64.4874 101.992 66.7791 100.256 Q69.0939 98.5202 69.0939 95.21 Q69.0939 92.1545 66.9411 90.4415 Q64.8115 88.7054 60.9921 88.7054 L56.9643 88.7054 L56.9643 84.8629 L61.1773 84.8629 Q64.6263 84.8629 66.455 83.4971 Q68.2837 82.1083 68.2837 79.5157 Q68.2837 76.8537 66.3856 75.4416 Q64.5106 74.0064 60.9921 74.0064 Q59.0708 74.0064 56.8717 74.4231 Q54.6727 74.8398 52.0338 75.7194 L52.0338 71.5528 Q54.6958 70.812 57.0106 70.4416 Q59.3486 70.0713 61.4087 70.0713 Q66.7328 70.0713 69.8346 72.5018 Q72.9365 74.9092 72.9365 79.0296 Q72.9365 81.8999 71.2929 83.8907 Q69.6494 85.8582 66.617 86.6221 Z\" fill=\"#000000\" fill-rule=\"evenodd\" fill-opacity=\"1\" /><path clip-path=\"url(#clip530)\" d=\"M 0 0 M88.816 73.775 Q85.2049 73.775 83.3762 77.3398 Q81.5707 80.8814 81.5707 88.011 Q81.5707 95.1174 83.3762 98.6822 Q85.2049 102.224 88.816 102.224 Q92.4502 102.224 94.2558 98.6822 Q96.0845 95.1174 96.0845 88.011 Q96.0845 80.8814 94.2558 77.3398 Q92.4502 73.775 88.816 73.775 M88.816 70.0713 Q94.6262 70.0713 97.6817 74.6777 Q100.76 79.261 100.76 88.011 Q100.76 96.7378 97.6817 101.344 Q94.6262 105.928 88.816 105.928 Q83.0058 105.928 79.9272 101.344 Q76.8716 96.7378 76.8716 88.011 Q76.8716 79.261 79.9272 74.6777 Q83.0058 70.0713 88.816 70.0713 Z\" fill=\"#000000\" fill-rule=\"evenodd\" fill-opacity=\"1\" /><path clip-path=\"url(#clip532)\" d=\"\n",
       "M242.955 1038.39 L242.955 1445.72 L424.113 1445.72 L424.113 1038.39 L242.955 1038.39 L242.955 1038.39  Z\n",
       "  \" fill=\"#009af9\" fill-rule=\"evenodd\" fill-opacity=\"1\"/>\n",
       "<polyline clip-path=\"url(#clip532)\" style=\"stroke:#000000; stroke-width:4; stroke-opacity:1; fill:none\" points=\"\n",
       "  242.955,1038.39 242.955,1445.72 424.113,1445.72 424.113,1038.39 242.955,1038.39 \n",
       "  \"/>\n",
       "<path clip-path=\"url(#clip532)\" d=\"\n",
       "M424.113 766.846 L424.113 1445.72 L605.271 1445.72 L605.271 766.846 L424.113 766.846 L424.113 766.846  Z\n",
       "  \" fill=\"#009af9\" fill-rule=\"evenodd\" fill-opacity=\"1\"/>\n",
       "<polyline clip-path=\"url(#clip532)\" style=\"stroke:#000000; stroke-width:4; stroke-opacity:1; fill:none\" points=\"\n",
       "  424.113,766.846 424.113,1445.72 605.271,1445.72 605.271,766.846 424.113,766.846 \n",
       "  \"/>\n",
       "<path clip-path=\"url(#clip532)\" d=\"\n",
       "M605.271 87.9763 L605.271 1445.72 L786.429 1445.72 L786.429 87.9763 L605.271 87.9763 L605.271 87.9763  Z\n",
       "  \" fill=\"#009af9\" fill-rule=\"evenodd\" fill-opacity=\"1\"/>\n",
       "<polyline clip-path=\"url(#clip532)\" style=\"stroke:#000000; stroke-width:4; stroke-opacity:1; fill:none\" points=\"\n",
       "  605.271,87.9763 605.271,1445.72 786.429,1445.72 786.429,87.9763 605.271,87.9763 \n",
       "  \"/>\n",
       "<path clip-path=\"url(#clip532)\" d=\"\n",
       "M786.429 902.62 L786.429 1445.72 L967.587 1445.72 L967.587 902.62 L786.429 902.62 L786.429 902.62  Z\n",
       "  \" fill=\"#009af9\" fill-rule=\"evenodd\" fill-opacity=\"1\"/>\n",
       "<polyline clip-path=\"url(#clip532)\" style=\"stroke:#000000; stroke-width:4; stroke-opacity:1; fill:none\" points=\"\n",
       "  786.429,902.62 786.429,1445.72 967.587,1445.72 967.587,902.62 786.429,902.62 \n",
       "  \"/>\n",
       "<path clip-path=\"url(#clip532)\" d=\"\n",
       "M967.587 676.33 L967.587 1445.72 L1148.74 1445.72 L1148.74 676.33 L967.587 676.33 L967.587 676.33  Z\n",
       "  \" fill=\"#009af9\" fill-rule=\"evenodd\" fill-opacity=\"1\"/>\n",
       "<polyline clip-path=\"url(#clip532)\" style=\"stroke:#000000; stroke-width:4; stroke-opacity:1; fill:none\" points=\"\n",
       "  967.587,676.33 967.587,1445.72 1148.74,1445.72 1148.74,676.33 967.587,676.33 \n",
       "  \"/>\n",
       "<path clip-path=\"url(#clip532)\" d=\"\n",
       "M1148.74 993.136 L1148.74 1445.72 L1329.9 1445.72 L1329.9 993.136 L1148.74 993.136 L1148.74 993.136  Z\n",
       "  \" fill=\"#009af9\" fill-rule=\"evenodd\" fill-opacity=\"1\"/>\n",
       "<polyline clip-path=\"url(#clip532)\" style=\"stroke:#000000; stroke-width:4; stroke-opacity:1; fill:none\" points=\"\n",
       "  1148.74,993.136 1148.74,1445.72 1329.9,1445.72 1329.9,993.136 1148.74,993.136 \n",
       "  \"/>\n",
       "<path clip-path=\"url(#clip532)\" d=\"\n",
       "M1329.9 1309.94 L1329.9 1445.72 L1511.06 1445.72 L1511.06 1309.94 L1329.9 1309.94 L1329.9 1309.94  Z\n",
       "  \" fill=\"#009af9\" fill-rule=\"evenodd\" fill-opacity=\"1\"/>\n",
       "<polyline clip-path=\"url(#clip532)\" style=\"stroke:#000000; stroke-width:4; stroke-opacity:1; fill:none\" points=\"\n",
       "  1329.9,1309.94 1329.9,1445.72 1511.06,1445.72 1511.06,1309.94 1329.9,1309.94 \n",
       "  \"/>\n",
       "<path clip-path=\"url(#clip532)\" d=\"\n",
       "M1511.06 1264.68 L1511.06 1445.72 L1692.22 1445.72 L1692.22 1264.68 L1511.06 1264.68 L1511.06 1264.68  Z\n",
       "  \" fill=\"#009af9\" fill-rule=\"evenodd\" fill-opacity=\"1\"/>\n",
       "<polyline clip-path=\"url(#clip532)\" style=\"stroke:#000000; stroke-width:4; stroke-opacity:1; fill:none\" points=\"\n",
       "  1511.06,1264.68 1511.06,1445.72 1692.22,1445.72 1692.22,1264.68 1511.06,1264.68 \n",
       "  \"/>\n",
       "<path clip-path=\"url(#clip532)\" d=\"\n",
       "M424.113 1400.46 L424.113 1445.72 L605.271 1445.72 L605.271 1400.46 L424.113 1400.46 L424.113 1400.46  Z\n",
       "  \" fill=\"#e26f46\" fill-rule=\"evenodd\" fill-opacity=\"1\"/>\n",
       "<polyline clip-path=\"url(#clip532)\" style=\"stroke:#000000; stroke-width:4; stroke-opacity:1; fill:none\" points=\"\n",
       "  424.113,1400.46 424.113,1445.72 605.271,1445.72 605.271,1400.46 424.113,1400.46 \n",
       "  \"/>\n",
       "<path clip-path=\"url(#clip532)\" d=\"\n",
       "M605.271 993.136 L605.271 1445.72 L786.429 1445.72 L786.429 993.136 L605.271 993.136 L605.271 993.136  Z\n",
       "  \" fill=\"#e26f46\" fill-rule=\"evenodd\" fill-opacity=\"1\"/>\n",
       "<polyline clip-path=\"url(#clip532)\" style=\"stroke:#000000; stroke-width:4; stroke-opacity:1; fill:none\" points=\"\n",
       "  605.271,993.136 605.271,1445.72 786.429,1445.72 786.429,993.136 605.271,993.136 \n",
       "  \"/>\n",
       "<path clip-path=\"url(#clip532)\" d=\"\n",
       "M786.429 857.362 L786.429 1445.72 L967.587 1445.72 L967.587 857.362 L786.429 857.362 L786.429 857.362  Z\n",
       "  \" fill=\"#e26f46\" fill-rule=\"evenodd\" fill-opacity=\"1\"/>\n",
       "<polyline clip-path=\"url(#clip532)\" style=\"stroke:#000000; stroke-width:4; stroke-opacity:1; fill:none\" points=\"\n",
       "  786.429,857.362 786.429,1445.72 967.587,1445.72 967.587,857.362 786.429,857.362 \n",
       "  \"/>\n",
       "<path clip-path=\"url(#clip532)\" d=\"\n",
       "M967.587 766.846 L967.587 1445.72 L1148.74 1445.72 L1148.74 766.846 L967.587 766.846 L967.587 766.846  Z\n",
       "  \" fill=\"#e26f46\" fill-rule=\"evenodd\" fill-opacity=\"1\"/>\n",
       "<polyline clip-path=\"url(#clip532)\" style=\"stroke:#000000; stroke-width:4; stroke-opacity:1; fill:none\" points=\"\n",
       "  967.587,766.846 967.587,1445.72 1148.74,1445.72 1148.74,766.846 967.587,766.846 \n",
       "  \"/>\n",
       "<path clip-path=\"url(#clip532)\" d=\"\n",
       "M1148.74 631.072 L1148.74 1445.72 L1329.9 1445.72 L1329.9 631.072 L1148.74 631.072 L1148.74 631.072  Z\n",
       "  \" fill=\"#e26f46\" fill-rule=\"evenodd\" fill-opacity=\"1\"/>\n",
       "<polyline clip-path=\"url(#clip532)\" style=\"stroke:#000000; stroke-width:4; stroke-opacity:1; fill:none\" points=\"\n",
       "  1148.74,631.072 1148.74,1445.72 1329.9,1445.72 1329.9,631.072 1148.74,631.072 \n",
       "  \"/>\n",
       "<path clip-path=\"url(#clip532)\" d=\"\n",
       "M1329.9 631.072 L1329.9 1445.72 L1511.06 1445.72 L1511.06 631.072 L1329.9 631.072 L1329.9 631.072  Z\n",
       "  \" fill=\"#e26f46\" fill-rule=\"evenodd\" fill-opacity=\"1\"/>\n",
       "<polyline clip-path=\"url(#clip532)\" style=\"stroke:#000000; stroke-width:4; stroke-opacity:1; fill:none\" points=\"\n",
       "  1329.9,631.072 1329.9,1445.72 1511.06,1445.72 1511.06,631.072 1329.9,631.072 \n",
       "  \"/>\n",
       "<path clip-path=\"url(#clip532)\" d=\"\n",
       "M1511.06 812.104 L1511.06 1445.72 L1692.22 1445.72 L1692.22 812.104 L1511.06 812.104 L1511.06 812.104  Z\n",
       "  \" fill=\"#e26f46\" fill-rule=\"evenodd\" fill-opacity=\"1\"/>\n",
       "<polyline clip-path=\"url(#clip532)\" style=\"stroke:#000000; stroke-width:4; stroke-opacity:1; fill:none\" points=\"\n",
       "  1511.06,812.104 1511.06,1445.72 1692.22,1445.72 1692.22,812.104 1511.06,812.104 \n",
       "  \"/>\n",
       "<path clip-path=\"url(#clip532)\" d=\"\n",
       "M1692.22 1128.91 L1692.22 1445.72 L1873.38 1445.72 L1873.38 1128.91 L1692.22 1128.91 L1692.22 1128.91  Z\n",
       "  \" fill=\"#e26f46\" fill-rule=\"evenodd\" fill-opacity=\"1\"/>\n",
       "<polyline clip-path=\"url(#clip532)\" style=\"stroke:#000000; stroke-width:4; stroke-opacity:1; fill:none\" points=\"\n",
       "  1692.22,1128.91 1692.22,1445.72 1873.38,1445.72 1873.38,1128.91 1692.22,1128.91 \n",
       "  \"/>\n",
       "<path clip-path=\"url(#clip532)\" d=\"\n",
       "M1873.38 1445.72 L1873.38 1445.72 L2054.53 1445.72 L2054.53 1445.72 L1873.38 1445.72 L1873.38 1445.72  Z\n",
       "  \" fill=\"#e26f46\" fill-rule=\"evenodd\" fill-opacity=\"1\"/>\n",
       "<polyline clip-path=\"url(#clip532)\" style=\"stroke:#000000; stroke-width:4; stroke-opacity:1; fill:none\" points=\"\n",
       "  1873.38,1445.72 1873.38,1445.72 2054.53,1445.72 1873.38,1445.72 \n",
       "  \"/>\n",
       "<path clip-path=\"url(#clip532)\" d=\"\n",
       "M2054.53 1264.68 L2054.53 1445.72 L2235.69 1445.72 L2235.69 1264.68 L2054.53 1264.68 L2054.53 1264.68  Z\n",
       "  \" fill=\"#e26f46\" fill-rule=\"evenodd\" fill-opacity=\"1\"/>\n",
       "<polyline clip-path=\"url(#clip532)\" style=\"stroke:#000000; stroke-width:4; stroke-opacity:1; fill:none\" points=\"\n",
       "  2054.53,1264.68 2054.53,1445.72 2235.69,1445.72 2235.69,1264.68 2054.53,1264.68 \n",
       "  \"/>\n",
       "<path clip-path=\"url(#clip530)\" d=\"\n",
       "M1981.65 276.658 L2278.89 276.658 L2278.89 95.2176 L1981.65 95.2176  Z\n",
       "  \" fill=\"#ffffff\" fill-rule=\"evenodd\" fill-opacity=\"1\"/>\n",
       "<polyline clip-path=\"url(#clip530)\" style=\"stroke:#000000; stroke-width:4; stroke-opacity:1; fill:none\" points=\"\n",
       "  1981.65,276.658 2278.89,276.658 2278.89,95.2176 1981.65,95.2176 1981.65,276.658 \n",
       "  \"/>\n",
       "<path clip-path=\"url(#clip530)\" d=\"\n",
       "M2006.27 179.89 L2154 179.89 L2154 131.506 L2006.27 131.506 L2006.27 179.89  Z\n",
       "  \" fill=\"#009af9\" fill-rule=\"evenodd\" fill-opacity=\"1\"/>\n",
       "<polyline clip-path=\"url(#clip530)\" style=\"stroke:#000000; stroke-width:4; stroke-opacity:1; fill:none\" points=\"\n",
       "  2006.27,179.89 2154,179.89 2154,131.506 2006.27,131.506 2006.27,179.89 \n",
       "  \"/>\n",
       "<path clip-path=\"url(#clip530)\" d=\"M 0 0 M2192.47 175.385 Q2190.66 180.015 2188.95 181.427 Q2187.24 182.839 2184.37 182.839 L2180.96 182.839 L2180.96 179.274 L2183.46 179.274 Q2185.22 179.274 2186.2 178.44 Q2187.17 177.607 2188.35 174.505 L2189.11 172.561 L2178.63 147.052 L2183.14 147.052 L2191.24 167.329 L2199.34 147.052 L2203.86 147.052 L2192.47 175.385 Z\" fill=\"#000000\" fill-rule=\"evenodd\" fill-opacity=\"1\" /><path clip-path=\"url(#clip530)\" d=\"M 0 0 M2209.74 169.042 L2217.38 169.042 L2217.38 142.677 L2209.07 144.343 L2209.07 140.084 L2217.33 138.418 L2222.01 138.418 L2222.01 169.042 L2229.65 169.042 L2229.65 172.978 L2209.74 172.978 L2209.74 169.042 Z\" fill=\"#000000\" fill-rule=\"evenodd\" fill-opacity=\"1\" /><path clip-path=\"url(#clip530)\" d=\"\n",
       "M2006.27 240.37 L2154 240.37 L2154 191.986 L2006.27 191.986 L2006.27 240.37  Z\n",
       "  \" fill=\"#e26f46\" fill-rule=\"evenodd\" fill-opacity=\"1\"/>\n",
       "<polyline clip-path=\"url(#clip530)\" style=\"stroke:#000000; stroke-width:4; stroke-opacity:1; fill:none\" points=\"\n",
       "  2006.27,240.37 2154,240.37 2154,191.986 2006.27,191.986 2006.27,240.37 \n",
       "  \"/>\n",
       "<path clip-path=\"url(#clip530)\" d=\"M 0 0 M2192.47 235.865 Q2190.66 240.495 2188.95 241.907 Q2187.24 243.319 2184.37 243.319 L2180.96 243.319 L2180.96 239.754 L2183.46 239.754 Q2185.22 239.754 2186.2 238.92 Q2187.17 238.087 2188.35 234.985 L2189.11 233.041 L2178.63 207.532 L2183.14 207.532 L2191.24 227.809 L2199.34 207.532 L2203.86 207.532 L2192.47 235.865 Z\" fill=\"#000000\" fill-rule=\"evenodd\" fill-opacity=\"1\" /><path clip-path=\"url(#clip530)\" d=\"M 0 0 M2212.96 229.522 L2229.27 229.522 L2229.27 233.458 L2207.33 233.458 L2207.33 229.522 Q2209.99 226.768 2214.58 222.138 Q2219.18 217.485 2220.36 216.143 Q2222.61 213.62 2223.49 211.884 Q2224.39 210.124 2224.39 208.435 Q2224.39 205.68 2222.45 203.944 Q2220.52 202.208 2217.42 202.208 Q2215.22 202.208 2212.77 202.972 Q2210.34 203.735 2207.56 205.286 L2207.56 200.564 Q2210.39 199.43 2212.84 198.851 Q2215.29 198.273 2217.33 198.273 Q2222.7 198.273 2225.9 200.958 Q2229.09 203.643 2229.09 208.134 Q2229.09 210.263 2228.28 212.185 Q2227.49 214.083 2225.39 216.675 Q2224.81 217.347 2221.71 220.564 Q2218.6 223.759 2212.96 229.522 Z\" fill=\"#000000\" fill-rule=\"evenodd\" fill-opacity=\"1\" /></svg>\n"
      ]
     },
     "execution_count": 114,
     "metadata": {},
     "output_type": "execute_result"
    }
   ],
   "source": [
    "histogram([data3 data3x])"
   ]
  },
  {
   "cell_type": "code",
   "execution_count": 111,
   "metadata": {},
   "outputs": [
    {
     "data": {
      "image/svg+xml": [
       "<?xml version=\"1.0\" encoding=\"utf-8\"?>\n",
       "<svg xmlns=\"http://www.w3.org/2000/svg\" xmlns:xlink=\"http://www.w3.org/1999/xlink\" width=\"600\" height=\"400\" viewBox=\"0 0 2400 1600\">\n",
       "<defs>\n",
       "  <clipPath id=\"clip450\">\n",
       "    <rect x=\"0\" y=\"0\" width=\"2400\" height=\"1600\"/>\n",
       "  </clipPath>\n",
       "</defs>\n",
       "<path clip-path=\"url(#clip450)\" d=\"\n",
       "M0 1600 L2400 1600 L2400 0 L0 0  Z\n",
       "  \" fill=\"#ffffff\" fill-rule=\"evenodd\" fill-opacity=\"1\"/>\n",
       "<defs>\n",
       "  <clipPath id=\"clip451\">\n",
       "    <rect x=\"480\" y=\"0\" width=\"1681\" height=\"1600\"/>\n",
       "  </clipPath>\n",
       "</defs>\n",
       "<path clip-path=\"url(#clip450)\" d=\"\n",
       "M135.95 1486.45 L2352.76 1486.45 L2352.76 47.2441 L135.95 47.2441  Z\n",
       "  \" fill=\"#ffffff\" fill-rule=\"evenodd\" fill-opacity=\"1\"/>\n",
       "<defs>\n",
       "  <clipPath id=\"clip452\">\n",
       "    <rect x=\"135\" y=\"47\" width=\"2218\" height=\"1440\"/>\n",
       "  </clipPath>\n",
       "</defs>\n",
       "<polyline clip-path=\"url(#clip452)\" style=\"stroke:#000000; stroke-width:2; stroke-opacity:0.1; fill:none\" points=\"\n",
       "  168.199,1486.45 168.199,47.2441 \n",
       "  \"/>\n",
       "<polyline clip-path=\"url(#clip452)\" style=\"stroke:#000000; stroke-width:2; stroke-opacity:0.1; fill:none\" points=\"\n",
       "  616.596,1486.45 616.596,47.2441 \n",
       "  \"/>\n",
       "<polyline clip-path=\"url(#clip452)\" style=\"stroke:#000000; stroke-width:2; stroke-opacity:0.1; fill:none\" points=\"\n",
       "  1064.99,1486.45 1064.99,47.2441 \n",
       "  \"/>\n",
       "<polyline clip-path=\"url(#clip452)\" style=\"stroke:#000000; stroke-width:2; stroke-opacity:0.1; fill:none\" points=\"\n",
       "  1513.39,1486.45 1513.39,47.2441 \n",
       "  \"/>\n",
       "<polyline clip-path=\"url(#clip452)\" style=\"stroke:#000000; stroke-width:2; stroke-opacity:0.1; fill:none\" points=\"\n",
       "  1961.79,1486.45 1961.79,47.2441 \n",
       "  \"/>\n",
       "<polyline clip-path=\"url(#clip450)\" style=\"stroke:#000000; stroke-width:4; stroke-opacity:1; fill:none\" points=\"\n",
       "  135.95,1486.45 2352.76,1486.45 \n",
       "  \"/>\n",
       "<polyline clip-path=\"url(#clip450)\" style=\"stroke:#000000; stroke-width:4; stroke-opacity:1; fill:none\" points=\"\n",
       "  168.199,1486.45 168.199,1469.18 \n",
       "  \"/>\n",
       "<polyline clip-path=\"url(#clip450)\" style=\"stroke:#000000; stroke-width:4; stroke-opacity:1; fill:none\" points=\"\n",
       "  616.596,1486.45 616.596,1469.18 \n",
       "  \"/>\n",
       "<polyline clip-path=\"url(#clip450)\" style=\"stroke:#000000; stroke-width:4; stroke-opacity:1; fill:none\" points=\"\n",
       "  1064.99,1486.45 1064.99,1469.18 \n",
       "  \"/>\n",
       "<polyline clip-path=\"url(#clip450)\" style=\"stroke:#000000; stroke-width:4; stroke-opacity:1; fill:none\" points=\"\n",
       "  1513.39,1486.45 1513.39,1469.18 \n",
       "  \"/>\n",
       "<polyline clip-path=\"url(#clip450)\" style=\"stroke:#000000; stroke-width:4; stroke-opacity:1; fill:none\" points=\"\n",
       "  1961.79,1486.45 1961.79,1469.18 \n",
       "  \"/>\n",
       "<path clip-path=\"url(#clip450)\" d=\"M 0 0 M136.706 1515.64 Q133.095 1515.64 131.266 1519.2 Q129.461 1522.75 129.461 1529.87 Q129.461 1536.98 131.266 1540.55 Q133.095 1544.09 136.706 1544.09 Q140.34 1544.09 142.146 1540.55 Q143.975 1536.98 143.975 1529.87 Q143.975 1522.75 142.146 1519.2 Q140.34 1515.64 136.706 1515.64 M136.706 1511.93 Q142.516 1511.93 145.572 1516.54 Q148.65 1521.12 148.65 1529.87 Q148.65 1538.6 145.572 1543.21 Q142.516 1547.79 136.706 1547.79 Q130.896 1547.79 127.817 1543.21 Q124.762 1538.6 124.762 1529.87 Q124.762 1521.12 127.817 1516.54 Q130.896 1511.93 136.706 1511.93 Z\" fill=\"#000000\" fill-rule=\"evenodd\" fill-opacity=\"1\" /><path clip-path=\"url(#clip450)\" d=\"M 0 0 M153.72 1541.24 L158.604 1541.24 L158.604 1547.12 L153.72 1547.12 L153.72 1541.24 Z\" fill=\"#000000\" fill-rule=\"evenodd\" fill-opacity=\"1\" /><path clip-path=\"url(#clip450)\" d=\"M 0 0 M173.673 1515.64 Q170.062 1515.64 168.234 1519.2 Q166.428 1522.75 166.428 1529.87 Q166.428 1536.98 168.234 1540.55 Q170.062 1544.09 173.673 1544.09 Q177.308 1544.09 179.113 1540.55 Q180.942 1536.98 180.942 1529.87 Q180.942 1522.75 179.113 1519.2 Q177.308 1515.64 173.673 1515.64 M173.673 1511.93 Q179.484 1511.93 182.539 1516.54 Q185.618 1521.12 185.618 1529.87 Q185.618 1538.6 182.539 1543.21 Q179.484 1547.79 173.673 1547.79 Q167.863 1547.79 164.785 1543.21 Q161.729 1538.6 161.729 1529.87 Q161.729 1521.12 164.785 1516.54 Q167.863 1511.93 173.673 1511.93 Z\" fill=\"#000000\" fill-rule=\"evenodd\" fill-opacity=\"1\" /><path clip-path=\"url(#clip450)\" d=\"M 0 0 M190.734 1512.56 L209.09 1512.56 L209.09 1516.5 L195.016 1516.5 L195.016 1524.97 Q196.034 1524.62 197.053 1524.46 Q198.071 1524.27 199.09 1524.27 Q204.877 1524.27 208.257 1527.44 Q211.636 1530.62 211.636 1536.03 Q211.636 1541.61 208.164 1544.71 Q204.692 1547.79 198.372 1547.79 Q196.196 1547.79 193.928 1547.42 Q191.683 1547.05 189.275 1546.31 L189.275 1541.61 Q191.359 1542.74 193.581 1543.3 Q195.803 1543.86 198.28 1543.86 Q202.284 1543.86 204.622 1541.75 Q206.96 1539.64 206.96 1536.03 Q206.96 1532.42 204.622 1530.31 Q202.284 1528.21 198.28 1528.21 Q196.405 1528.21 194.53 1528.62 Q192.678 1529.04 190.734 1529.92 L190.734 1512.56 Z\" fill=\"#000000\" fill-rule=\"evenodd\" fill-opacity=\"1\" /><path clip-path=\"url(#clip450)\" d=\"M 0 0 M585.219 1515.64 Q581.608 1515.64 579.78 1519.2 Q577.974 1522.75 577.974 1529.87 Q577.974 1536.98 579.78 1540.55 Q581.608 1544.09 585.219 1544.09 Q588.854 1544.09 590.659 1540.55 Q592.488 1536.98 592.488 1529.87 Q592.488 1522.75 590.659 1519.2 Q588.854 1515.64 585.219 1515.64 M585.219 1511.93 Q591.029 1511.93 594.085 1516.54 Q597.164 1521.12 597.164 1529.87 Q597.164 1538.6 594.085 1543.21 Q591.029 1547.79 585.219 1547.79 Q579.409 1547.79 576.331 1543.21 Q573.275 1538.6 573.275 1529.87 Q573.275 1521.12 576.331 1516.54 Q579.409 1511.93 585.219 1511.93 Z\" fill=\"#000000\" fill-rule=\"evenodd\" fill-opacity=\"1\" /><path clip-path=\"url(#clip450)\" d=\"M 0 0 M602.233 1541.24 L607.117 1541.24 L607.117 1547.12 L602.233 1547.12 L602.233 1541.24 Z\" fill=\"#000000\" fill-rule=\"evenodd\" fill-opacity=\"1\" /><path clip-path=\"url(#clip450)\" d=\"M 0 0 M612.997 1543.18 L620.636 1543.18 L620.636 1516.82 L612.326 1518.49 L612.326 1514.23 L620.59 1512.56 L625.265 1512.56 L625.265 1543.18 L632.904 1543.18 L632.904 1547.12 L612.997 1547.12 L612.997 1543.18 Z\" fill=\"#000000\" fill-rule=\"evenodd\" fill-opacity=\"1\" /><path clip-path=\"url(#clip450)\" d=\"M 0 0 M647.974 1515.64 Q644.363 1515.64 642.534 1519.2 Q640.728 1522.75 640.728 1529.87 Q640.728 1536.98 642.534 1540.55 Q644.363 1544.09 647.974 1544.09 Q651.608 1544.09 653.413 1540.55 Q655.242 1536.98 655.242 1529.87 Q655.242 1522.75 653.413 1519.2 Q651.608 1515.64 647.974 1515.64 M647.974 1511.93 Q653.784 1511.93 656.839 1516.54 Q659.918 1521.12 659.918 1529.87 Q659.918 1538.6 656.839 1543.21 Q653.784 1547.79 647.974 1547.79 Q642.163 1547.79 639.085 1543.21 Q636.029 1538.6 636.029 1529.87 Q636.029 1521.12 639.085 1516.54 Q642.163 1511.93 647.974 1511.93 Z\" fill=\"#000000\" fill-rule=\"evenodd\" fill-opacity=\"1\" /><path clip-path=\"url(#clip450)\" d=\"M 0 0 M1034.11 1515.64 Q1030.5 1515.64 1028.67 1519.2 Q1026.87 1522.75 1026.87 1529.87 Q1026.87 1536.98 1028.67 1540.55 Q1030.5 1544.09 1034.11 1544.09 Q1037.75 1544.09 1039.55 1540.55 Q1041.38 1536.98 1041.38 1529.87 Q1041.38 1522.75 1039.55 1519.2 Q1037.75 1515.64 1034.11 1515.64 M1034.11 1511.93 Q1039.92 1511.93 1042.98 1516.54 Q1046.06 1521.12 1046.06 1529.87 Q1046.06 1538.6 1042.98 1543.21 Q1039.92 1547.79 1034.11 1547.79 Q1028.3 1547.79 1025.23 1543.21 Q1022.17 1538.6 1022.17 1529.87 Q1022.17 1521.12 1025.23 1516.54 Q1028.3 1511.93 1034.11 1511.93 Z\" fill=\"#000000\" fill-rule=\"evenodd\" fill-opacity=\"1\" /><path clip-path=\"url(#clip450)\" d=\"M 0 0 M1051.13 1541.24 L1056.01 1541.24 L1056.01 1547.12 L1051.13 1547.12 L1051.13 1541.24 Z\" fill=\"#000000\" fill-rule=\"evenodd\" fill-opacity=\"1\" /><path clip-path=\"url(#clip450)\" d=\"M 0 0 M1061.89 1543.18 L1069.53 1543.18 L1069.53 1516.82 L1061.22 1518.49 L1061.22 1514.23 L1069.48 1512.56 L1074.16 1512.56 L1074.16 1543.18 L1081.8 1543.18 L1081.8 1547.12 L1061.89 1547.12 L1061.89 1543.18 Z\" fill=\"#000000\" fill-rule=\"evenodd\" fill-opacity=\"1\" /><path clip-path=\"url(#clip450)\" d=\"M 0 0 M1086.92 1512.56 L1105.27 1512.56 L1105.27 1516.5 L1091.2 1516.5 L1091.2 1524.97 Q1092.22 1524.62 1093.23 1524.46 Q1094.25 1524.27 1095.27 1524.27 Q1101.06 1524.27 1104.44 1527.44 Q1107.82 1530.62 1107.82 1536.03 Q1107.82 1541.61 1104.35 1544.71 Q1100.87 1547.79 1094.55 1547.79 Q1092.38 1547.79 1090.11 1547.42 Q1087.86 1547.05 1085.46 1546.31 L1085.46 1541.61 Q1087.54 1542.74 1089.76 1543.3 Q1091.98 1543.86 1094.46 1543.86 Q1098.47 1543.86 1100.8 1541.75 Q1103.14 1539.64 1103.14 1536.03 Q1103.14 1532.42 1100.8 1530.31 Q1098.47 1528.21 1094.46 1528.21 Q1092.59 1528.21 1090.71 1528.62 Q1088.86 1529.04 1086.92 1529.92 L1086.92 1512.56 Z\" fill=\"#000000\" fill-rule=\"evenodd\" fill-opacity=\"1\" /><path clip-path=\"url(#clip450)\" d=\"M 0 0 M1482.2 1515.64 Q1478.59 1515.64 1476.76 1519.2 Q1474.95 1522.75 1474.95 1529.87 Q1474.95 1536.98 1476.76 1540.55 Q1478.59 1544.09 1482.2 1544.09 Q1485.83 1544.09 1487.64 1540.55 Q1489.47 1536.98 1489.47 1529.87 Q1489.47 1522.75 1487.64 1519.2 Q1485.83 1515.64 1482.2 1515.64 M1482.2 1511.93 Q1488.01 1511.93 1491.07 1516.54 Q1494.14 1521.12 1494.14 1529.87 Q1494.14 1538.6 1491.07 1543.21 Q1488.01 1547.79 1482.2 1547.79 Q1476.39 1547.79 1473.31 1543.21 Q1470.26 1538.6 1470.26 1529.87 Q1470.26 1521.12 1473.31 1516.54 Q1476.39 1511.93 1482.2 1511.93 Z\" fill=\"#000000\" fill-rule=\"evenodd\" fill-opacity=\"1\" /><path clip-path=\"url(#clip450)\" d=\"M 0 0 M1499.21 1541.24 L1504.1 1541.24 L1504.1 1547.12 L1499.21 1547.12 L1499.21 1541.24 Z\" fill=\"#000000\" fill-rule=\"evenodd\" fill-opacity=\"1\" /><path clip-path=\"url(#clip450)\" d=\"M 0 0 M1513.19 1543.18 L1529.51 1543.18 L1529.51 1547.12 L1507.57 1547.12 L1507.57 1543.18 Q1510.23 1540.43 1514.82 1535.8 Q1519.42 1531.15 1520.6 1529.81 Q1522.85 1527.28 1523.73 1525.55 Q1524.63 1523.79 1524.63 1522.1 Q1524.63 1519.34 1522.69 1517.61 Q1520.76 1515.87 1517.66 1515.87 Q1515.46 1515.87 1513.01 1516.63 Q1510.58 1517.4 1507.8 1518.95 L1507.8 1514.23 Q1510.63 1513.09 1513.08 1512.51 Q1515.53 1511.93 1517.57 1511.93 Q1522.94 1511.93 1526.13 1514.62 Q1529.33 1517.31 1529.33 1521.8 Q1529.33 1523.93 1528.52 1525.85 Q1527.73 1527.74 1525.63 1530.34 Q1525.05 1531.01 1521.94 1534.23 Q1518.84 1537.42 1513.19 1543.18 Z\" fill=\"#000000\" fill-rule=\"evenodd\" fill-opacity=\"1\" /><path clip-path=\"url(#clip450)\" d=\"M 0 0 M1544.58 1515.64 Q1540.97 1515.64 1539.14 1519.2 Q1537.34 1522.75 1537.34 1529.87 Q1537.34 1536.98 1539.14 1540.55 Q1540.97 1544.09 1544.58 1544.09 Q1548.22 1544.09 1550.02 1540.55 Q1551.85 1536.98 1551.85 1529.87 Q1551.85 1522.75 1550.02 1519.2 Q1548.22 1515.64 1544.58 1515.64 M1544.58 1511.93 Q1550.39 1511.93 1553.45 1516.54 Q1556.53 1521.12 1556.53 1529.87 Q1556.53 1538.6 1553.45 1543.21 Q1550.39 1547.79 1544.58 1547.79 Q1538.77 1547.79 1535.69 1543.21 Q1532.64 1538.6 1532.64 1529.87 Q1532.64 1521.12 1535.69 1516.54 Q1538.77 1511.93 1544.58 1511.93 Z\" fill=\"#000000\" fill-rule=\"evenodd\" fill-opacity=\"1\" /><path clip-path=\"url(#clip450)\" d=\"M 0 0 M1931.09 1515.64 Q1927.48 1515.64 1925.66 1519.2 Q1923.85 1522.75 1923.85 1529.87 Q1923.85 1536.98 1925.66 1540.55 Q1927.48 1544.09 1931.09 1544.09 Q1934.73 1544.09 1936.53 1540.55 Q1938.36 1536.98 1938.36 1529.87 Q1938.36 1522.75 1936.53 1519.2 Q1934.73 1515.64 1931.09 1515.64 M1931.09 1511.93 Q1936.9 1511.93 1939.96 1516.54 Q1943.04 1521.12 1943.04 1529.87 Q1943.04 1538.6 1939.96 1543.21 Q1936.9 1547.79 1931.09 1547.79 Q1925.28 1547.79 1922.21 1543.21 Q1919.15 1538.6 1919.15 1529.87 Q1919.15 1521.12 1922.21 1516.54 Q1925.28 1511.93 1931.09 1511.93 Z\" fill=\"#000000\" fill-rule=\"evenodd\" fill-opacity=\"1\" /><path clip-path=\"url(#clip450)\" d=\"M 0 0 M1948.11 1541.24 L1952.99 1541.24 L1952.99 1547.12 L1948.11 1547.12 L1948.11 1541.24 Z\" fill=\"#000000\" fill-rule=\"evenodd\" fill-opacity=\"1\" /><path clip-path=\"url(#clip450)\" d=\"M 0 0 M1962.09 1543.18 L1978.41 1543.18 L1978.41 1547.12 L1956.47 1547.12 L1956.47 1543.18 Q1959.13 1540.43 1963.71 1535.8 Q1968.32 1531.15 1969.5 1529.81 Q1971.74 1527.28 1972.62 1525.55 Q1973.53 1523.79 1973.53 1522.1 Q1973.53 1519.34 1971.58 1517.61 Q1969.66 1515.87 1966.56 1515.87 Q1964.36 1515.87 1961.9 1516.63 Q1959.47 1517.4 1956.7 1518.95 L1956.7 1514.23 Q1959.52 1513.09 1961.97 1512.51 Q1964.43 1511.93 1966.47 1511.93 Q1971.84 1511.93 1975.03 1514.62 Q1978.22 1517.31 1978.22 1521.8 Q1978.22 1523.93 1977.41 1525.85 Q1976.63 1527.74 1974.52 1530.34 Q1973.94 1531.01 1970.84 1534.23 Q1967.74 1537.42 1962.09 1543.18 Z\" fill=\"#000000\" fill-rule=\"evenodd\" fill-opacity=\"1\" /><path clip-path=\"url(#clip450)\" d=\"M 0 0 M1983.53 1512.56 L2001.88 1512.56 L2001.88 1516.5 L1987.81 1516.5 L1987.81 1524.97 Q1988.83 1524.62 1989.84 1524.46 Q1990.86 1524.27 1991.88 1524.27 Q1997.67 1524.27 2001.05 1527.44 Q2004.43 1530.62 2004.43 1536.03 Q2004.43 1541.61 2000.96 1544.71 Q1997.48 1547.79 1991.16 1547.79 Q1988.99 1547.79 1986.72 1547.42 Q1984.47 1547.05 1982.07 1546.31 L1982.07 1541.61 Q1984.15 1542.74 1986.37 1543.3 Q1988.59 1543.86 1991.07 1543.86 Q1995.08 1543.86 1997.41 1541.75 Q1999.75 1539.64 1999.75 1536.03 Q1999.75 1532.42 1997.41 1530.31 Q1995.08 1528.21 1991.07 1528.21 Q1989.2 1528.21 1987.32 1528.62 Q1985.47 1529.04 1983.53 1529.92 L1983.53 1512.56 Z\" fill=\"#000000\" fill-rule=\"evenodd\" fill-opacity=\"1\" /><polyline clip-path=\"url(#clip452)\" style=\"stroke:#000000; stroke-width:2; stroke-opacity:0.1; fill:none\" points=\"\n",
       "  135.95,1445.72 2352.76,1445.72 \n",
       "  \"/>\n",
       "<polyline clip-path=\"url(#clip452)\" style=\"stroke:#000000; stroke-width:2; stroke-opacity:0.1; fill:none\" points=\"\n",
       "  135.95,1194.28 2352.76,1194.28 \n",
       "  \"/>\n",
       "<polyline clip-path=\"url(#clip452)\" style=\"stroke:#000000; stroke-width:2; stroke-opacity:0.1; fill:none\" points=\"\n",
       "  135.95,942.849 2352.76,942.849 \n",
       "  \"/>\n",
       "<polyline clip-path=\"url(#clip452)\" style=\"stroke:#000000; stroke-width:2; stroke-opacity:0.1; fill:none\" points=\"\n",
       "  135.95,691.416 2352.76,691.416 \n",
       "  \"/>\n",
       "<polyline clip-path=\"url(#clip452)\" style=\"stroke:#000000; stroke-width:2; stroke-opacity:0.1; fill:none\" points=\"\n",
       "  135.95,439.983 2352.76,439.983 \n",
       "  \"/>\n",
       "<polyline clip-path=\"url(#clip452)\" style=\"stroke:#000000; stroke-width:2; stroke-opacity:0.1; fill:none\" points=\"\n",
       "  135.95,188.55 2352.76,188.55 \n",
       "  \"/>\n",
       "<polyline clip-path=\"url(#clip450)\" style=\"stroke:#000000; stroke-width:4; stroke-opacity:1; fill:none\" points=\"\n",
       "  135.95,1486.45 135.95,47.2441 \n",
       "  \"/>\n",
       "<polyline clip-path=\"url(#clip450)\" style=\"stroke:#000000; stroke-width:4; stroke-opacity:1; fill:none\" points=\"\n",
       "  135.95,1445.72 162.552,1445.72 \n",
       "  \"/>\n",
       "<polyline clip-path=\"url(#clip450)\" style=\"stroke:#000000; stroke-width:4; stroke-opacity:1; fill:none\" points=\"\n",
       "  135.95,1194.28 162.552,1194.28 \n",
       "  \"/>\n",
       "<polyline clip-path=\"url(#clip450)\" style=\"stroke:#000000; stroke-width:4; stroke-opacity:1; fill:none\" points=\"\n",
       "  135.95,942.849 162.552,942.849 \n",
       "  \"/>\n",
       "<polyline clip-path=\"url(#clip450)\" style=\"stroke:#000000; stroke-width:4; stroke-opacity:1; fill:none\" points=\"\n",
       "  135.95,691.416 162.552,691.416 \n",
       "  \"/>\n",
       "<polyline clip-path=\"url(#clip450)\" style=\"stroke:#000000; stroke-width:4; stroke-opacity:1; fill:none\" points=\"\n",
       "  135.95,439.983 162.552,439.983 \n",
       "  \"/>\n",
       "<polyline clip-path=\"url(#clip450)\" style=\"stroke:#000000; stroke-width:4; stroke-opacity:1; fill:none\" points=\"\n",
       "  135.95,188.55 162.552,188.55 \n",
       "  \"/>\n",
       "<path clip-path=\"url(#clip450)\" d=\"M 0 0 M88.0058 1431.51 Q84.3947 1431.51 82.566 1435.08 Q80.7605 1438.62 80.7605 1445.75 Q80.7605 1452.86 82.566 1456.42 Q84.3947 1459.96 88.0058 1459.96 Q91.6401 1459.96 93.4456 1456.42 Q95.2743 1452.86 95.2743 1445.75 Q95.2743 1438.62 93.4456 1435.08 Q91.6401 1431.51 88.0058 1431.51 M88.0058 1427.81 Q93.816 1427.81 96.8715 1432.42 Q99.9502 1437 99.9502 1445.75 Q99.9502 1454.48 96.8715 1459.08 Q93.816 1463.67 88.0058 1463.67 Q82.1957 1463.67 79.117 1459.08 Q76.0614 1454.48 76.0614 1445.75 Q76.0614 1437 79.117 1432.42 Q82.1957 1427.81 88.0058 1427.81 Z\" fill=\"#000000\" fill-rule=\"evenodd\" fill-opacity=\"1\" /><path clip-path=\"url(#clip450)\" d=\"M 0 0 M79.0475 1177 L97.4039 1177 L97.4039 1180.94 L83.3299 1180.94 L83.3299 1189.41 Q84.3484 1189.06 85.3669 1188.9 Q86.3855 1188.72 87.404 1188.72 Q93.191 1188.72 96.5706 1191.89 Q99.9502 1195.06 99.9502 1200.47 Q99.9502 1206.05 96.478 1209.16 Q93.0058 1212.23 86.6864 1212.23 Q84.5105 1212.23 82.242 1211.86 Q79.9966 1211.49 77.5892 1210.75 L77.5892 1206.05 Q79.6725 1207.19 81.8947 1207.74 Q84.1169 1208.3 86.5938 1208.3 Q90.5984 1208.3 92.9363 1206.19 Q95.2743 1204.09 95.2743 1200.47 Q95.2743 1196.86 92.9363 1194.76 Q90.5984 1192.65 86.5938 1192.65 Q84.7188 1192.65 82.8438 1193.07 Q80.992 1193.48 79.0475 1194.36 L79.0475 1177 Z\" fill=\"#000000\" fill-rule=\"evenodd\" fill-opacity=\"1\" /><path clip-path=\"url(#clip450)\" d=\"M 0 0 M53.0292 956.194 L60.668 956.194 L60.668 929.828 L52.3579 931.495 L52.3579 927.236 L60.6217 925.569 L65.2976 925.569 L65.2976 956.194 L72.9365 956.194 L72.9365 960.129 L53.0292 960.129 L53.0292 956.194 Z\" fill=\"#000000\" fill-rule=\"evenodd\" fill-opacity=\"1\" /><path clip-path=\"url(#clip450)\" d=\"M 0 0 M88.0058 928.648 Q84.3947 928.648 82.566 932.213 Q80.7605 935.754 80.7605 942.884 Q80.7605 949.99 82.566 953.555 Q84.3947 957.097 88.0058 957.097 Q91.6401 957.097 93.4456 953.555 Q95.2743 949.99 95.2743 942.884 Q95.2743 935.754 93.4456 932.213 Q91.6401 928.648 88.0058 928.648 M88.0058 924.944 Q93.816 924.944 96.8715 929.551 Q99.9502 934.134 99.9502 942.884 Q99.9502 951.611 96.8715 956.217 Q93.816 960.801 88.0058 960.801 Q82.1957 960.801 79.117 956.217 Q76.0614 951.611 76.0614 942.884 Q76.0614 934.134 79.117 929.551 Q82.1957 924.944 88.0058 924.944 Z\" fill=\"#000000\" fill-rule=\"evenodd\" fill-opacity=\"1\" /><path clip-path=\"url(#clip450)\" d=\"M 0 0 M54.0245 704.761 L61.6634 704.761 L61.6634 678.395 L53.3532 680.062 L53.3532 675.803 L61.6171 674.136 L66.293 674.136 L66.293 704.761 L73.9318 704.761 L73.9318 708.696 L54.0245 708.696 L54.0245 704.761 Z\" fill=\"#000000\" fill-rule=\"evenodd\" fill-opacity=\"1\" /><path clip-path=\"url(#clip450)\" d=\"M 0 0 M79.0475 674.136 L97.4039 674.136 L97.4039 678.071 L83.3299 678.071 L83.3299 686.543 Q84.3484 686.196 85.3669 686.034 Q86.3855 685.849 87.404 685.849 Q93.191 685.849 96.5706 689.02 Q99.9502 692.191 99.9502 697.608 Q99.9502 703.187 96.478 706.289 Q93.0058 709.367 86.6864 709.367 Q84.5105 709.367 82.242 708.997 Q79.9966 708.627 77.5892 707.886 L77.5892 703.187 Q79.6725 704.321 81.8947 704.877 Q84.1169 705.432 86.5938 705.432 Q90.5984 705.432 92.9363 703.326 Q95.2743 701.219 95.2743 697.608 Q95.2743 693.997 92.9363 691.891 Q90.5984 689.784 86.5938 689.784 Q84.7188 689.784 82.8438 690.201 Q80.992 690.617 79.0475 691.497 L79.0475 674.136 Z\" fill=\"#000000\" fill-rule=\"evenodd\" fill-opacity=\"1\" /><path clip-path=\"url(#clip450)\" d=\"M 0 0 M56.6171 453.328 L72.9365 453.328 L72.9365 457.263 L50.9921 457.263 L50.9921 453.328 Q53.6541 450.573 58.2375 445.943 Q62.8439 441.291 64.0245 439.948 Q66.2698 437.425 67.1494 435.689 Q68.0522 433.93 68.0522 432.24 Q68.0522 429.485 66.1078 427.749 Q64.1865 426.013 61.0847 426.013 Q58.8856 426.013 56.4319 426.777 Q54.0014 427.541 51.2236 429.092 L51.2236 424.369 Q54.0477 423.235 56.5014 422.656 Q58.955 422.078 60.9921 422.078 Q66.3624 422.078 69.5568 424.763 Q72.7513 427.448 72.7513 431.939 Q72.7513 434.068 71.9411 435.99 Q71.1541 437.888 69.0476 440.48 Q68.4689 441.152 65.367 444.369 Q62.2652 447.564 56.6171 453.328 Z\" fill=\"#000000\" fill-rule=\"evenodd\" fill-opacity=\"1\" /><path clip-path=\"url(#clip450)\" d=\"M 0 0 M88.0058 425.781 Q84.3947 425.781 82.566 429.346 Q80.7605 432.888 80.7605 440.018 Q80.7605 447.124 82.566 450.689 Q84.3947 454.23 88.0058 454.23 Q91.6401 454.23 93.4456 450.689 Q95.2743 447.124 95.2743 440.018 Q95.2743 432.888 93.4456 429.346 Q91.6401 425.781 88.0058 425.781 M88.0058 422.078 Q93.816 422.078 96.8715 426.684 Q99.9502 431.268 99.9502 440.018 Q99.9502 448.744 96.8715 453.351 Q93.816 457.934 88.0058 457.934 Q82.1957 457.934 79.117 453.351 Q76.0614 448.744 76.0614 440.018 Q76.0614 431.268 79.117 426.684 Q82.1957 422.078 88.0058 422.078 Z\" fill=\"#000000\" fill-rule=\"evenodd\" fill-opacity=\"1\" /><path clip-path=\"url(#clip450)\" d=\"M 0 0 M57.6125 201.894 L73.9318 201.894 L73.9318 205.83 L51.9875 205.83 L51.9875 201.894 Q54.6495 199.14 59.2328 194.51 Q63.8393 189.857 65.0198 188.515 Q67.2652 185.992 68.1448 184.256 Q69.0476 182.496 69.0476 180.807 Q69.0476 178.052 67.1032 176.316 Q65.1819 174.58 62.08 174.58 Q59.881 174.58 57.4273 175.344 Q54.9967 176.108 52.219 177.658 L52.219 172.936 Q55.043 171.802 57.4967 171.223 Q59.9504 170.645 61.9874 170.645 Q67.3578 170.645 70.5522 173.33 Q73.7466 176.015 73.7466 180.506 Q73.7466 182.635 72.9365 184.557 Q72.1494 186.455 70.0429 189.047 Q69.4642 189.719 66.3624 192.936 Q63.2606 196.131 57.6125 201.894 Z\" fill=\"#000000\" fill-rule=\"evenodd\" fill-opacity=\"1\" /><path clip-path=\"url(#clip450)\" d=\"M 0 0 M79.0475 171.27 L97.4039 171.27 L97.4039 175.205 L83.3299 175.205 L83.3299 183.677 Q84.3484 183.33 85.3669 183.168 Q86.3855 182.982 87.404 182.982 Q93.191 182.982 96.5706 186.154 Q99.9502 189.325 99.9502 194.742 Q99.9502 200.32 96.478 203.422 Q93.0058 206.501 86.6864 206.501 Q84.5105 206.501 82.242 206.13 Q79.9966 205.76 77.5892 205.019 L77.5892 200.32 Q79.6725 201.455 81.8947 202.01 Q84.1169 202.566 86.5938 202.566 Q90.5984 202.566 92.9363 200.459 Q95.2743 198.353 95.2743 194.742 Q95.2743 191.131 92.9363 189.024 Q90.5984 186.918 86.5938 186.918 Q84.7188 186.918 82.8438 187.334 Q80.992 187.751 79.0475 188.631 L79.0475 171.27 Z\" fill=\"#000000\" fill-rule=\"evenodd\" fill-opacity=\"1\" /><path clip-path=\"url(#clip452)\" d=\"\n",
       "M257.878 1093.71 L257.878 1445.72 L437.237 1445.72 L437.237 1093.71 L257.878 1093.71 L257.878 1093.71  Z\n",
       "  \" fill=\"#009af9\" fill-rule=\"evenodd\" fill-opacity=\"1\"/>\n",
       "<polyline clip-path=\"url(#clip452)\" style=\"stroke:#000000; stroke-width:4; stroke-opacity:1; fill:none\" points=\"\n",
       "  257.878,1093.71 257.878,1445.72 437.237,1445.72 437.237,1093.71 257.878,1093.71 \n",
       "  \"/>\n",
       "<path clip-path=\"url(#clip452)\" d=\"\n",
       "M437.237 439.983 L437.237 1445.72 L616.596 1445.72 L616.596 439.983 L437.237 439.983 L437.237 439.983  Z\n",
       "  \" fill=\"#009af9\" fill-rule=\"evenodd\" fill-opacity=\"1\"/>\n",
       "<polyline clip-path=\"url(#clip452)\" style=\"stroke:#000000; stroke-width:4; stroke-opacity:1; fill:none\" points=\"\n",
       "  437.237,439.983 437.237,1445.72 616.596,1445.72 616.596,439.983 437.237,439.983 \n",
       "  \"/>\n",
       "<path clip-path=\"url(#clip452)\" d=\"\n",
       "M616.596 87.9763 L616.596 1445.72 L795.956 1445.72 L795.956 87.9763 L616.596 87.9763 L616.596 87.9763  Z\n",
       "  \" fill=\"#009af9\" fill-rule=\"evenodd\" fill-opacity=\"1\"/>\n",
       "<polyline clip-path=\"url(#clip452)\" style=\"stroke:#000000; stroke-width:4; stroke-opacity:1; fill:none\" points=\"\n",
       "  616.596,87.9763 616.596,1445.72 795.956,1445.72 795.956,87.9763 616.596,87.9763 \n",
       "  \"/>\n",
       "<path clip-path=\"url(#clip452)\" d=\"\n",
       "M795.956 188.55 L795.956 1445.72 L975.315 1445.72 L975.315 188.55 L795.956 188.55 L795.956 188.55  Z\n",
       "  \" fill=\"#009af9\" fill-rule=\"evenodd\" fill-opacity=\"1\"/>\n",
       "<polyline clip-path=\"url(#clip452)\" style=\"stroke:#000000; stroke-width:4; stroke-opacity:1; fill:none\" points=\"\n",
       "  795.956,188.55 795.956,1445.72 975.315,1445.72 975.315,188.55 795.956,188.55 \n",
       "  \"/>\n",
       "<path clip-path=\"url(#clip452)\" d=\"\n",
       "M975.315 842.276 L975.315 1445.72 L1154.67 1445.72 L1154.67 842.276 L975.315 842.276 L975.315 842.276  Z\n",
       "  \" fill=\"#009af9\" fill-rule=\"evenodd\" fill-opacity=\"1\"/>\n",
       "<polyline clip-path=\"url(#clip452)\" style=\"stroke:#000000; stroke-width:4; stroke-opacity:1; fill:none\" points=\"\n",
       "  975.315,842.276 975.315,1445.72 1154.67,1445.72 1154.67,842.276 975.315,842.276 \n",
       "  \"/>\n",
       "<path clip-path=\"url(#clip452)\" d=\"\n",
       "M1154.67 1093.71 L1154.67 1445.72 L1334.03 1445.72 L1334.03 1093.71 L1154.67 1093.71 L1154.67 1093.71  Z\n",
       "  \" fill=\"#009af9\" fill-rule=\"evenodd\" fill-opacity=\"1\"/>\n",
       "<polyline clip-path=\"url(#clip452)\" style=\"stroke:#000000; stroke-width:4; stroke-opacity:1; fill:none\" points=\"\n",
       "  1154.67,1093.71 1154.67,1445.72 1334.03,1445.72 1334.03,1093.71 1154.67,1093.71 \n",
       "  \"/>\n",
       "<path clip-path=\"url(#clip452)\" d=\"\n",
       "M1334.03 1395.43 L1334.03 1445.72 L1513.39 1445.72 L1513.39 1395.43 L1334.03 1395.43 L1334.03 1395.43  Z\n",
       "  \" fill=\"#009af9\" fill-rule=\"evenodd\" fill-opacity=\"1\"/>\n",
       "<polyline clip-path=\"url(#clip452)\" style=\"stroke:#000000; stroke-width:4; stroke-opacity:1; fill:none\" points=\"\n",
       "  1334.03,1395.43 1334.03,1445.72 1513.39,1445.72 1513.39,1395.43 1334.03,1395.43 \n",
       "  \"/>\n",
       "<path clip-path=\"url(#clip452)\" d=\"\n",
       "M1513.39 1395.43 L1513.39 1445.72 L1692.75 1445.72 L1692.75 1395.43 L1513.39 1395.43 L1513.39 1395.43  Z\n",
       "  \" fill=\"#009af9\" fill-rule=\"evenodd\" fill-opacity=\"1\"/>\n",
       "<polyline clip-path=\"url(#clip452)\" style=\"stroke:#000000; stroke-width:4; stroke-opacity:1; fill:none\" points=\"\n",
       "  1513.39,1395.43 1513.39,1445.72 1692.75,1445.72 1692.75,1395.43 1513.39,1395.43 \n",
       "  \"/>\n",
       "<path clip-path=\"url(#clip452)\" d=\"\n",
       "M257.878 1395.43 L257.878 1445.72 L437.237 1445.72 L437.237 1395.43 L257.878 1395.43 L257.878 1395.43  Z\n",
       "  \" fill=\"#e26f46\" fill-rule=\"evenodd\" fill-opacity=\"1\"/>\n",
       "<polyline clip-path=\"url(#clip452)\" style=\"stroke:#000000; stroke-width:4; stroke-opacity:1; fill:none\" points=\"\n",
       "  257.878,1395.43 257.878,1445.72 437.237,1445.72 437.237,1395.43 257.878,1395.43 \n",
       "  \"/>\n",
       "<path clip-path=\"url(#clip452)\" d=\"\n",
       "M437.237 1294.86 L437.237 1445.72 L616.596 1445.72 L616.596 1294.86 L437.237 1294.86 L437.237 1294.86  Z\n",
       "  \" fill=\"#e26f46\" fill-rule=\"evenodd\" fill-opacity=\"1\"/>\n",
       "<polyline clip-path=\"url(#clip452)\" style=\"stroke:#000000; stroke-width:4; stroke-opacity:1; fill:none\" points=\"\n",
       "  437.237,1294.86 437.237,1445.72 616.596,1445.72 616.596,1294.86 437.237,1294.86 \n",
       "  \"/>\n",
       "<path clip-path=\"url(#clip452)\" d=\"\n",
       "M616.596 1043.42 L616.596 1445.72 L795.956 1445.72 L795.956 1043.42 L616.596 1043.42 L616.596 1043.42  Z\n",
       "  \" fill=\"#e26f46\" fill-rule=\"evenodd\" fill-opacity=\"1\"/>\n",
       "<polyline clip-path=\"url(#clip452)\" style=\"stroke:#000000; stroke-width:4; stroke-opacity:1; fill:none\" points=\"\n",
       "  616.596,1043.42 616.596,1445.72 795.956,1445.72 795.956,1043.42 616.596,1043.42 \n",
       "  \"/>\n",
       "<path clip-path=\"url(#clip452)\" d=\"\n",
       "M795.956 590.843 L795.956 1445.72 L975.315 1445.72 L975.315 590.843 L795.956 590.843 L795.956 590.843  Z\n",
       "  \" fill=\"#e26f46\" fill-rule=\"evenodd\" fill-opacity=\"1\"/>\n",
       "<polyline clip-path=\"url(#clip452)\" style=\"stroke:#000000; stroke-width:4; stroke-opacity:1; fill:none\" points=\"\n",
       "  795.956,590.843 795.956,1445.72 975.315,1445.72 975.315,590.843 795.956,590.843 \n",
       "  \"/>\n",
       "<path clip-path=\"url(#clip452)\" d=\"\n",
       "M975.315 238.836 L975.315 1445.72 L1154.67 1445.72 L1154.67 238.836 L975.315 238.836 L975.315 238.836  Z\n",
       "  \" fill=\"#e26f46\" fill-rule=\"evenodd\" fill-opacity=\"1\"/>\n",
       "<polyline clip-path=\"url(#clip452)\" style=\"stroke:#000000; stroke-width:4; stroke-opacity:1; fill:none\" points=\"\n",
       "  975.315,238.836 975.315,1445.72 1154.67,1445.72 1154.67,238.836 975.315,238.836 \n",
       "  \"/>\n",
       "<path clip-path=\"url(#clip452)\" d=\"\n",
       "M1154.67 691.416 L1154.67 1445.72 L1334.03 1445.72 L1334.03 691.416 L1154.67 691.416 L1154.67 691.416  Z\n",
       "  \" fill=\"#e26f46\" fill-rule=\"evenodd\" fill-opacity=\"1\"/>\n",
       "<polyline clip-path=\"url(#clip452)\" style=\"stroke:#000000; stroke-width:4; stroke-opacity:1; fill:none\" points=\"\n",
       "  1154.67,691.416 1154.67,1445.72 1334.03,1445.72 1334.03,691.416 1154.67,691.416 \n",
       "  \"/>\n",
       "<path clip-path=\"url(#clip452)\" d=\"\n",
       "M1334.03 590.843 L1334.03 1445.72 L1513.39 1445.72 L1513.39 590.843 L1334.03 590.843 L1334.03 590.843  Z\n",
       "  \" fill=\"#e26f46\" fill-rule=\"evenodd\" fill-opacity=\"1\"/>\n",
       "<polyline clip-path=\"url(#clip452)\" style=\"stroke:#000000; stroke-width:4; stroke-opacity:1; fill:none\" points=\"\n",
       "  1334.03,590.843 1334.03,1445.72 1513.39,1445.72 1513.39,590.843 1334.03,590.843 \n",
       "  \"/>\n",
       "<path clip-path=\"url(#clip452)\" d=\"\n",
       "M1513.39 1043.42 L1513.39 1445.72 L1692.75 1445.72 L1692.75 1043.42 L1513.39 1043.42 L1513.39 1043.42  Z\n",
       "  \" fill=\"#e26f46\" fill-rule=\"evenodd\" fill-opacity=\"1\"/>\n",
       "<polyline clip-path=\"url(#clip452)\" style=\"stroke:#000000; stroke-width:4; stroke-opacity:1; fill:none\" points=\"\n",
       "  1513.39,1043.42 1513.39,1445.72 1692.75,1445.72 1692.75,1043.42 1513.39,1043.42 \n",
       "  \"/>\n",
       "<path clip-path=\"url(#clip452)\" d=\"\n",
       "M1692.75 1244.57 L1692.75 1445.72 L1872.11 1445.72 L1872.11 1244.57 L1692.75 1244.57 L1692.75 1244.57  Z\n",
       "  \" fill=\"#e26f46\" fill-rule=\"evenodd\" fill-opacity=\"1\"/>\n",
       "<polyline clip-path=\"url(#clip452)\" style=\"stroke:#000000; stroke-width:4; stroke-opacity:1; fill:none\" points=\"\n",
       "  1692.75,1244.57 1692.75,1445.72 1872.11,1445.72 1872.11,1244.57 1692.75,1244.57 \n",
       "  \"/>\n",
       "<path clip-path=\"url(#clip452)\" d=\"\n",
       "M1872.11 1395.43 L1872.11 1445.72 L2051.47 1445.72 L2051.47 1395.43 L1872.11 1395.43 L1872.11 1395.43  Z\n",
       "  \" fill=\"#e26f46\" fill-rule=\"evenodd\" fill-opacity=\"1\"/>\n",
       "<polyline clip-path=\"url(#clip452)\" style=\"stroke:#000000; stroke-width:4; stroke-opacity:1; fill:none\" points=\"\n",
       "  1872.11,1395.43 1872.11,1445.72 2051.47,1445.72 2051.47,1395.43 1872.11,1395.43 \n",
       "  \"/>\n",
       "<path clip-path=\"url(#clip452)\" d=\"\n",
       "M2051.47 1345.14 L2051.47 1445.72 L2230.83 1445.72 L2230.83 1345.14 L2051.47 1345.14 L2051.47 1345.14  Z\n",
       "  \" fill=\"#e26f46\" fill-rule=\"evenodd\" fill-opacity=\"1\"/>\n",
       "<polyline clip-path=\"url(#clip452)\" style=\"stroke:#000000; stroke-width:4; stroke-opacity:1; fill:none\" points=\"\n",
       "  2051.47,1345.14 2051.47,1445.72 2230.83,1445.72 2230.83,1345.14 2051.47,1345.14 \n",
       "  \"/>\n",
       "<path clip-path=\"url(#clip450)\" d=\"\n",
       "M1981.53 276.658 L2278.86 276.658 L2278.86 95.2176 L1981.53 95.2176  Z\n",
       "  \" fill=\"#ffffff\" fill-rule=\"evenodd\" fill-opacity=\"1\"/>\n",
       "<polyline clip-path=\"url(#clip450)\" style=\"stroke:#000000; stroke-width:4; stroke-opacity:1; fill:none\" points=\"\n",
       "  1981.53,276.658 2278.86,276.658 2278.86,95.2176 1981.53,95.2176 1981.53,276.658 \n",
       "  \"/>\n",
       "<path clip-path=\"url(#clip450)\" d=\"\n",
       "M2006.16 179.89 L2153.95 179.89 L2153.95 131.506 L2006.16 131.506 L2006.16 179.89  Z\n",
       "  \" fill=\"#009af9\" fill-rule=\"evenodd\" fill-opacity=\"1\"/>\n",
       "<polyline clip-path=\"url(#clip450)\" style=\"stroke:#000000; stroke-width:4; stroke-opacity:1; fill:none\" points=\"\n",
       "  2006.16,179.89 2153.95,179.89 2153.95,131.506 2006.16,131.506 2006.16,179.89 \n",
       "  \"/>\n",
       "<path clip-path=\"url(#clip450)\" d=\"M 0 0 M2192.42 175.385 Q2190.62 180.015 2188.91 181.427 Q2187.19 182.839 2184.32 182.839 L2180.92 182.839 L2180.92 179.274 L2183.42 179.274 Q2185.18 179.274 2186.15 178.44 Q2187.12 177.607 2188.3 174.505 L2189.07 172.561 L2178.58 147.052 L2183.1 147.052 L2191.2 167.329 L2199.3 147.052 L2203.81 147.052 L2192.42 175.385 Z\" fill=\"#000000\" fill-rule=\"evenodd\" fill-opacity=\"1\" /><path clip-path=\"url(#clip450)\" d=\"M 0 0 M2209.69 169.042 L2217.33 169.042 L2217.33 142.677 L2209.02 144.343 L2209.02 140.084 L2217.29 138.418 L2221.96 138.418 L2221.96 169.042 L2229.6 169.042 L2229.6 172.978 L2209.69 172.978 L2209.69 169.042 Z\" fill=\"#000000\" fill-rule=\"evenodd\" fill-opacity=\"1\" /><path clip-path=\"url(#clip450)\" d=\"\n",
       "M2006.16 240.37 L2153.95 240.37 L2153.95 191.986 L2006.16 191.986 L2006.16 240.37  Z\n",
       "  \" fill=\"#e26f46\" fill-rule=\"evenodd\" fill-opacity=\"1\"/>\n",
       "<polyline clip-path=\"url(#clip450)\" style=\"stroke:#000000; stroke-width:4; stroke-opacity:1; fill:none\" points=\"\n",
       "  2006.16,240.37 2153.95,240.37 2153.95,191.986 2006.16,191.986 2006.16,240.37 \n",
       "  \"/>\n",
       "<path clip-path=\"url(#clip450)\" d=\"M 0 0 M2192.42 235.865 Q2190.62 240.495 2188.91 241.907 Q2187.19 243.319 2184.32 243.319 L2180.92 243.319 L2180.92 239.754 L2183.42 239.754 Q2185.18 239.754 2186.15 238.92 Q2187.12 238.087 2188.3 234.985 L2189.07 233.041 L2178.58 207.532 L2183.1 207.532 L2191.2 227.809 L2199.3 207.532 L2203.81 207.532 L2192.42 235.865 Z\" fill=\"#000000\" fill-rule=\"evenodd\" fill-opacity=\"1\" /><path clip-path=\"url(#clip450)\" d=\"M 0 0 M2212.91 229.522 L2229.23 229.522 L2229.23 233.458 L2207.29 233.458 L2207.29 229.522 Q2209.95 226.768 2214.53 222.138 Q2219.14 217.485 2220.32 216.143 Q2222.56 213.62 2223.44 211.884 Q2224.35 210.124 2224.35 208.435 Q2224.35 205.68 2222.4 203.944 Q2220.48 202.208 2217.38 202.208 Q2215.18 202.208 2212.73 202.972 Q2210.29 203.735 2207.52 205.286 L2207.52 200.564 Q2210.34 199.43 2212.79 198.851 Q2215.25 198.273 2217.29 198.273 Q2222.66 198.273 2225.85 200.958 Q2229.04 203.643 2229.04 208.134 Q2229.04 210.263 2228.23 212.185 Q2227.45 214.083 2225.34 216.675 Q2224.76 217.347 2221.66 220.564 Q2218.56 223.759 2212.91 229.522 Z\" fill=\"#000000\" fill-rule=\"evenodd\" fill-opacity=\"1\" /></svg>\n"
      ]
     },
     "execution_count": 111,
     "metadata": {},
     "output_type": "execute_result"
    }
   ],
   "source": [
    "histogram([data2 data2x])"
   ]
  },
  {
   "cell_type": "code",
   "execution_count": 109,
   "metadata": {},
   "outputs": [
    {
     "data": {
      "image/svg+xml": [
       "<?xml version=\"1.0\" encoding=\"utf-8\"?>\n",
       "<svg xmlns=\"http://www.w3.org/2000/svg\" xmlns:xlink=\"http://www.w3.org/1999/xlink\" width=\"600\" height=\"400\" viewBox=\"0 0 2400 1600\">\n",
       "<defs>\n",
       "  <clipPath id=\"clip410\">\n",
       "    <rect x=\"0\" y=\"0\" width=\"2400\" height=\"1600\"/>\n",
       "  </clipPath>\n",
       "</defs>\n",
       "<path clip-path=\"url(#clip410)\" d=\"\n",
       "M0 1600 L2400 1600 L2400 0 L0 0  Z\n",
       "  \" fill=\"#ffffff\" fill-rule=\"evenodd\" fill-opacity=\"1\"/>\n",
       "<defs>\n",
       "  <clipPath id=\"clip411\">\n",
       "    <rect x=\"480\" y=\"0\" width=\"1681\" height=\"1600\"/>\n",
       "  </clipPath>\n",
       "</defs>\n",
       "<path clip-path=\"url(#clip410)\" d=\"\n",
       "M135.95 1486.45 L2352.76 1486.45 L2352.76 47.2441 L135.95 47.2441  Z\n",
       "  \" fill=\"#ffffff\" fill-rule=\"evenodd\" fill-opacity=\"1\"/>\n",
       "<defs>\n",
       "  <clipPath id=\"clip412\">\n",
       "    <rect x=\"135\" y=\"47\" width=\"2218\" height=\"1440\"/>\n",
       "  </clipPath>\n",
       "</defs>\n",
       "<polyline clip-path=\"url(#clip412)\" style=\"stroke:#000000; stroke-width:2; stroke-opacity:0.1; fill:none\" points=\"\n",
       "  441.132,1486.45 441.132,47.2441 \n",
       "  \"/>\n",
       "<polyline clip-path=\"url(#clip412)\" style=\"stroke:#000000; stroke-width:2; stroke-opacity:0.1; fill:none\" points=\"\n",
       "  968.18,1486.45 968.18,47.2441 \n",
       "  \"/>\n",
       "<polyline clip-path=\"url(#clip412)\" style=\"stroke:#000000; stroke-width:2; stroke-opacity:0.1; fill:none\" points=\"\n",
       "  1495.23,1486.45 1495.23,47.2441 \n",
       "  \"/>\n",
       "<polyline clip-path=\"url(#clip412)\" style=\"stroke:#000000; stroke-width:2; stroke-opacity:0.1; fill:none\" points=\"\n",
       "  2022.28,1486.45 2022.28,47.2441 \n",
       "  \"/>\n",
       "<polyline clip-path=\"url(#clip410)\" style=\"stroke:#000000; stroke-width:4; stroke-opacity:1; fill:none\" points=\"\n",
       "  135.95,1486.45 2352.76,1486.45 \n",
       "  \"/>\n",
       "<polyline clip-path=\"url(#clip410)\" style=\"stroke:#000000; stroke-width:4; stroke-opacity:1; fill:none\" points=\"\n",
       "  441.132,1486.45 441.132,1469.18 \n",
       "  \"/>\n",
       "<polyline clip-path=\"url(#clip410)\" style=\"stroke:#000000; stroke-width:4; stroke-opacity:1; fill:none\" points=\"\n",
       "  968.18,1486.45 968.18,1469.18 \n",
       "  \"/>\n",
       "<polyline clip-path=\"url(#clip410)\" style=\"stroke:#000000; stroke-width:4; stroke-opacity:1; fill:none\" points=\"\n",
       "  1495.23,1486.45 1495.23,1469.18 \n",
       "  \"/>\n",
       "<polyline clip-path=\"url(#clip410)\" style=\"stroke:#000000; stroke-width:4; stroke-opacity:1; fill:none\" points=\"\n",
       "  2022.28,1486.45 2022.28,1469.18 \n",
       "  \"/>\n",
       "<path clip-path=\"url(#clip410)\" d=\"M 0 0 M409.639 1515.64 Q406.028 1515.64 404.199 1519.2 Q402.394 1522.75 402.394 1529.87 Q402.394 1536.98 404.199 1540.55 Q406.028 1544.09 409.639 1544.09 Q413.273 1544.09 415.079 1540.55 Q416.908 1536.98 416.908 1529.87 Q416.908 1522.75 415.079 1519.2 Q413.273 1515.64 409.639 1515.64 M409.639 1511.93 Q415.449 1511.93 418.505 1516.54 Q421.584 1521.12 421.584 1529.87 Q421.584 1538.6 418.505 1543.21 Q415.449 1547.79 409.639 1547.79 Q403.829 1547.79 400.75 1543.21 Q397.695 1538.6 397.695 1529.87 Q397.695 1521.12 400.75 1516.54 Q403.829 1511.93 409.639 1511.93 Z\" fill=\"#000000\" fill-rule=\"evenodd\" fill-opacity=\"1\" /><path clip-path=\"url(#clip410)\" d=\"M 0 0 M426.653 1541.24 L431.537 1541.24 L431.537 1547.12 L426.653 1547.12 L426.653 1541.24 Z\" fill=\"#000000\" fill-rule=\"evenodd\" fill-opacity=\"1\" /><path clip-path=\"url(#clip410)\" d=\"M 0 0 M446.607 1515.64 Q442.995 1515.64 441.167 1519.2 Q439.361 1522.75 439.361 1529.87 Q439.361 1536.98 441.167 1540.55 Q442.995 1544.09 446.607 1544.09 Q450.241 1544.09 452.046 1540.55 Q453.875 1536.98 453.875 1529.87 Q453.875 1522.75 452.046 1519.2 Q450.241 1515.64 446.607 1515.64 M446.607 1511.93 Q452.417 1511.93 455.472 1516.54 Q458.551 1521.12 458.551 1529.87 Q458.551 1538.6 455.472 1543.21 Q452.417 1547.79 446.607 1547.79 Q440.796 1547.79 437.718 1543.21 Q434.662 1538.6 434.662 1529.87 Q434.662 1521.12 437.718 1516.54 Q440.796 1511.93 446.607 1511.93 Z\" fill=\"#000000\" fill-rule=\"evenodd\" fill-opacity=\"1\" /><path clip-path=\"url(#clip410)\" d=\"M 0 0 M463.667 1512.56 L482.023 1512.56 L482.023 1516.5 L467.949 1516.5 L467.949 1524.97 Q468.968 1524.62 469.986 1524.46 Q471.005 1524.27 472.023 1524.27 Q477.81 1524.27 481.19 1527.44 Q484.569 1530.62 484.569 1536.03 Q484.569 1541.61 481.097 1544.71 Q477.625 1547.79 471.305 1547.79 Q469.13 1547.79 466.861 1547.42 Q464.616 1547.05 462.208 1546.31 L462.208 1541.61 Q464.292 1542.74 466.514 1543.3 Q468.736 1543.86 471.213 1543.86 Q475.217 1543.86 477.555 1541.75 Q479.893 1539.64 479.893 1536.03 Q479.893 1532.42 477.555 1530.31 Q475.217 1528.21 471.213 1528.21 Q469.338 1528.21 467.463 1528.62 Q465.611 1529.04 463.667 1529.92 L463.667 1512.56 Z\" fill=\"#000000\" fill-rule=\"evenodd\" fill-opacity=\"1\" /><path clip-path=\"url(#clip410)\" d=\"M 0 0 M936.803 1515.64 Q933.192 1515.64 931.363 1519.2 Q929.557 1522.75 929.557 1529.87 Q929.557 1536.98 931.363 1540.55 Q933.192 1544.09 936.803 1544.09 Q940.437 1544.09 942.243 1540.55 Q944.071 1536.98 944.071 1529.87 Q944.071 1522.75 942.243 1519.2 Q940.437 1515.64 936.803 1515.64 M936.803 1511.93 Q942.613 1511.93 945.668 1516.54 Q948.747 1521.12 948.747 1529.87 Q948.747 1538.6 945.668 1543.21 Q942.613 1547.79 936.803 1547.79 Q930.993 1547.79 927.914 1543.21 Q924.858 1538.6 924.858 1529.87 Q924.858 1521.12 927.914 1516.54 Q930.993 1511.93 936.803 1511.93 Z\" fill=\"#000000\" fill-rule=\"evenodd\" fill-opacity=\"1\" /><path clip-path=\"url(#clip410)\" d=\"M 0 0 M953.817 1541.24 L958.701 1541.24 L958.701 1547.12 L953.817 1547.12 L953.817 1541.24 Z\" fill=\"#000000\" fill-rule=\"evenodd\" fill-opacity=\"1\" /><path clip-path=\"url(#clip410)\" d=\"M 0 0 M964.58 1543.18 L972.219 1543.18 L972.219 1516.82 L963.909 1518.49 L963.909 1514.23 L972.173 1512.56 L976.849 1512.56 L976.849 1543.18 L984.488 1543.18 L984.488 1547.12 L964.58 1547.12 L964.58 1543.18 Z\" fill=\"#000000\" fill-rule=\"evenodd\" fill-opacity=\"1\" /><path clip-path=\"url(#clip410)\" d=\"M 0 0 M999.557 1515.64 Q995.946 1515.64 994.117 1519.2 Q992.312 1522.75 992.312 1529.87 Q992.312 1536.98 994.117 1540.55 Q995.946 1544.09 999.557 1544.09 Q1003.19 1544.09 1005 1540.55 Q1006.83 1536.98 1006.83 1529.87 Q1006.83 1522.75 1005 1519.2 Q1003.19 1515.64 999.557 1515.64 M999.557 1511.93 Q1005.37 1511.93 1008.42 1516.54 Q1011.5 1521.12 1011.5 1529.87 Q1011.5 1538.6 1008.42 1543.21 Q1005.37 1547.79 999.557 1547.79 Q993.747 1547.79 990.668 1543.21 Q987.613 1538.6 987.613 1529.87 Q987.613 1521.12 990.668 1516.54 Q993.747 1511.93 999.557 1511.93 Z\" fill=\"#000000\" fill-rule=\"evenodd\" fill-opacity=\"1\" /><path clip-path=\"url(#clip410)\" d=\"M 0 0 M1464.35 1515.64 Q1460.74 1515.64 1458.91 1519.2 Q1457.1 1522.75 1457.1 1529.87 Q1457.1 1536.98 1458.91 1540.55 Q1460.74 1544.09 1464.35 1544.09 Q1467.98 1544.09 1469.79 1540.55 Q1471.62 1536.98 1471.62 1529.87 Q1471.62 1522.75 1469.79 1519.2 Q1467.98 1515.64 1464.35 1515.64 M1464.35 1511.93 Q1470.16 1511.93 1473.21 1516.54 Q1476.29 1521.12 1476.29 1529.87 Q1476.29 1538.6 1473.21 1543.21 Q1470.16 1547.79 1464.35 1547.79 Q1458.54 1547.79 1455.46 1543.21 Q1452.4 1538.6 1452.4 1529.87 Q1452.4 1521.12 1455.46 1516.54 Q1458.54 1511.93 1464.35 1511.93 Z\" fill=\"#000000\" fill-rule=\"evenodd\" fill-opacity=\"1\" /><path clip-path=\"url(#clip410)\" d=\"M 0 0 M1481.36 1541.24 L1486.25 1541.24 L1486.25 1547.12 L1481.36 1547.12 L1481.36 1541.24 Z\" fill=\"#000000\" fill-rule=\"evenodd\" fill-opacity=\"1\" /><path clip-path=\"url(#clip410)\" d=\"M 0 0 M1492.13 1543.18 L1499.76 1543.18 L1499.76 1516.82 L1491.45 1518.49 L1491.45 1514.23 L1499.72 1512.56 L1504.39 1512.56 L1504.39 1543.18 L1512.03 1543.18 L1512.03 1547.12 L1492.13 1547.12 L1492.13 1543.18 Z\" fill=\"#000000\" fill-rule=\"evenodd\" fill-opacity=\"1\" /><path clip-path=\"url(#clip410)\" d=\"M 0 0 M1517.15 1512.56 L1535.51 1512.56 L1535.51 1516.5 L1521.43 1516.5 L1521.43 1524.97 Q1522.45 1524.62 1523.47 1524.46 Q1524.49 1524.27 1525.51 1524.27 Q1531.29 1524.27 1534.67 1527.44 Q1538.05 1530.62 1538.05 1536.03 Q1538.05 1541.61 1534.58 1544.71 Q1531.11 1547.79 1524.79 1547.79 Q1522.61 1547.79 1520.34 1547.42 Q1518.1 1547.05 1515.69 1546.31 L1515.69 1541.61 Q1517.77 1542.74 1520 1543.3 Q1522.22 1543.86 1524.7 1543.86 Q1528.7 1543.86 1531.04 1541.75 Q1533.38 1539.64 1533.38 1536.03 Q1533.38 1532.42 1531.04 1530.31 Q1528.7 1528.21 1524.7 1528.21 Q1522.82 1528.21 1520.95 1528.62 Q1519.09 1529.04 1517.15 1529.92 L1517.15 1512.56 Z\" fill=\"#000000\" fill-rule=\"evenodd\" fill-opacity=\"1\" /><path clip-path=\"url(#clip410)\" d=\"M 0 0 M1991.08 1515.64 Q1987.47 1515.64 1985.64 1519.2 Q1983.84 1522.75 1983.84 1529.87 Q1983.84 1536.98 1985.64 1540.55 Q1987.47 1544.09 1991.08 1544.09 Q1994.72 1544.09 1996.52 1540.55 Q1998.35 1536.98 1998.35 1529.87 Q1998.35 1522.75 1996.52 1519.2 Q1994.72 1515.64 1991.08 1515.64 M1991.08 1511.93 Q1996.89 1511.93 1999.95 1516.54 Q2003.03 1521.12 2003.03 1529.87 Q2003.03 1538.6 1999.95 1543.21 Q1996.89 1547.79 1991.08 1547.79 Q1985.27 1547.79 1982.19 1543.21 Q1979.14 1538.6 1979.14 1529.87 Q1979.14 1521.12 1982.19 1516.54 Q1985.27 1511.93 1991.08 1511.93 Z\" fill=\"#000000\" fill-rule=\"evenodd\" fill-opacity=\"1\" /><path clip-path=\"url(#clip410)\" d=\"M 0 0 M2008.1 1541.24 L2012.98 1541.24 L2012.98 1547.12 L2008.1 1547.12 L2008.1 1541.24 Z\" fill=\"#000000\" fill-rule=\"evenodd\" fill-opacity=\"1\" /><path clip-path=\"url(#clip410)\" d=\"M 0 0 M2022.08 1543.18 L2038.4 1543.18 L2038.4 1547.12 L2016.45 1547.12 L2016.45 1543.18 Q2019.12 1540.43 2023.7 1535.8 Q2028.31 1531.15 2029.49 1529.81 Q2031.73 1527.28 2032.61 1525.55 Q2033.51 1523.79 2033.51 1522.1 Q2033.51 1519.34 2031.57 1517.61 Q2029.65 1515.87 2026.55 1515.87 Q2024.35 1515.87 2021.89 1516.63 Q2019.46 1517.4 2016.69 1518.95 L2016.69 1514.23 Q2019.51 1513.09 2021.96 1512.51 Q2024.42 1511.93 2026.45 1511.93 Q2031.82 1511.93 2035.02 1514.62 Q2038.21 1517.31 2038.21 1521.8 Q2038.21 1523.93 2037.4 1525.85 Q2036.62 1527.74 2034.51 1530.34 Q2033.93 1531.01 2030.83 1534.23 Q2027.73 1537.42 2022.08 1543.18 Z\" fill=\"#000000\" fill-rule=\"evenodd\" fill-opacity=\"1\" /><path clip-path=\"url(#clip410)\" d=\"M 0 0 M2053.47 1515.64 Q2049.86 1515.64 2048.03 1519.2 Q2046.22 1522.75 2046.22 1529.87 Q2046.22 1536.98 2048.03 1540.55 Q2049.86 1544.09 2053.47 1544.09 Q2057.1 1544.09 2058.91 1540.55 Q2060.74 1536.98 2060.74 1529.87 Q2060.74 1522.75 2058.91 1519.2 Q2057.1 1515.64 2053.47 1515.64 M2053.47 1511.93 Q2059.28 1511.93 2062.33 1516.54 Q2065.41 1521.12 2065.41 1529.87 Q2065.41 1538.6 2062.33 1543.21 Q2059.28 1547.79 2053.47 1547.79 Q2047.66 1547.79 2044.58 1543.21 Q2041.52 1538.6 2041.52 1529.87 Q2041.52 1521.12 2044.58 1516.54 Q2047.66 1511.93 2053.47 1511.93 Z\" fill=\"#000000\" fill-rule=\"evenodd\" fill-opacity=\"1\" /><polyline clip-path=\"url(#clip412)\" style=\"stroke:#000000; stroke-width:2; stroke-opacity:0.1; fill:none\" points=\"\n",
       "  135.95,1445.72 2352.76,1445.72 \n",
       "  \"/>\n",
       "<polyline clip-path=\"url(#clip412)\" style=\"stroke:#000000; stroke-width:2; stroke-opacity:0.1; fill:none\" points=\"\n",
       "  135.95,1211.62 2352.76,1211.62 \n",
       "  \"/>\n",
       "<polyline clip-path=\"url(#clip412)\" style=\"stroke:#000000; stroke-width:2; stroke-opacity:0.1; fill:none\" points=\"\n",
       "  135.95,977.53 2352.76,977.53 \n",
       "  \"/>\n",
       "<polyline clip-path=\"url(#clip412)\" style=\"stroke:#000000; stroke-width:2; stroke-opacity:0.1; fill:none\" points=\"\n",
       "  135.95,743.437 2352.76,743.437 \n",
       "  \"/>\n",
       "<polyline clip-path=\"url(#clip412)\" style=\"stroke:#000000; stroke-width:2; stroke-opacity:0.1; fill:none\" points=\"\n",
       "  135.95,509.344 2352.76,509.344 \n",
       "  \"/>\n",
       "<polyline clip-path=\"url(#clip412)\" style=\"stroke:#000000; stroke-width:2; stroke-opacity:0.1; fill:none\" points=\"\n",
       "  135.95,275.251 2352.76,275.251 \n",
       "  \"/>\n",
       "<polyline clip-path=\"url(#clip410)\" style=\"stroke:#000000; stroke-width:4; stroke-opacity:1; fill:none\" points=\"\n",
       "  135.95,1486.45 135.95,47.2441 \n",
       "  \"/>\n",
       "<polyline clip-path=\"url(#clip410)\" style=\"stroke:#000000; stroke-width:4; stroke-opacity:1; fill:none\" points=\"\n",
       "  135.95,1445.72 162.552,1445.72 \n",
       "  \"/>\n",
       "<polyline clip-path=\"url(#clip410)\" style=\"stroke:#000000; stroke-width:4; stroke-opacity:1; fill:none\" points=\"\n",
       "  135.95,1211.62 162.552,1211.62 \n",
       "  \"/>\n",
       "<polyline clip-path=\"url(#clip410)\" style=\"stroke:#000000; stroke-width:4; stroke-opacity:1; fill:none\" points=\"\n",
       "  135.95,977.53 162.552,977.53 \n",
       "  \"/>\n",
       "<polyline clip-path=\"url(#clip410)\" style=\"stroke:#000000; stroke-width:4; stroke-opacity:1; fill:none\" points=\"\n",
       "  135.95,743.437 162.552,743.437 \n",
       "  \"/>\n",
       "<polyline clip-path=\"url(#clip410)\" style=\"stroke:#000000; stroke-width:4; stroke-opacity:1; fill:none\" points=\"\n",
       "  135.95,509.344 162.552,509.344 \n",
       "  \"/>\n",
       "<polyline clip-path=\"url(#clip410)\" style=\"stroke:#000000; stroke-width:4; stroke-opacity:1; fill:none\" points=\"\n",
       "  135.95,275.251 162.552,275.251 \n",
       "  \"/>\n",
       "<path clip-path=\"url(#clip410)\" d=\"M 0 0 M88.0058 1431.51 Q84.3947 1431.51 82.566 1435.08 Q80.7605 1438.62 80.7605 1445.75 Q80.7605 1452.86 82.566 1456.42 Q84.3947 1459.96 88.0058 1459.96 Q91.6401 1459.96 93.4456 1456.42 Q95.2743 1452.86 95.2743 1445.75 Q95.2743 1438.62 93.4456 1435.08 Q91.6401 1431.51 88.0058 1431.51 M88.0058 1427.81 Q93.816 1427.81 96.8715 1432.42 Q99.9502 1437 99.9502 1445.75 Q99.9502 1454.48 96.8715 1459.08 Q93.816 1463.67 88.0058 1463.67 Q82.1957 1463.67 79.117 1459.08 Q76.0614 1454.48 76.0614 1445.75 Q76.0614 1437 79.117 1432.42 Q82.1957 1427.81 88.0058 1427.81 Z\" fill=\"#000000\" fill-rule=\"evenodd\" fill-opacity=\"1\" /><path clip-path=\"url(#clip410)\" d=\"M 0 0 M79.0475 1194.34 L97.4039 1194.34 L97.4039 1198.28 L83.3299 1198.28 L83.3299 1206.75 Q84.3484 1206.4 85.3669 1206.24 Q86.3855 1206.06 87.404 1206.06 Q93.191 1206.06 96.5706 1209.23 Q99.9502 1212.4 99.9502 1217.81 Q99.9502 1223.39 96.478 1226.5 Q93.0058 1229.57 86.6864 1229.57 Q84.5105 1229.57 82.242 1229.2 Q79.9966 1228.83 77.5892 1228.09 L77.5892 1223.39 Q79.6725 1224.53 81.8947 1225.08 Q84.1169 1225.64 86.5938 1225.64 Q90.5984 1225.64 92.9363 1223.53 Q95.2743 1221.43 95.2743 1217.81 Q95.2743 1214.2 92.9363 1212.1 Q90.5984 1209.99 86.5938 1209.99 Q84.7188 1209.99 82.8438 1210.41 Q80.992 1210.82 79.0475 1211.7 L79.0475 1194.34 Z\" fill=\"#000000\" fill-rule=\"evenodd\" fill-opacity=\"1\" /><path clip-path=\"url(#clip410)\" d=\"M 0 0 M53.0292 990.875 L60.668 990.875 L60.668 964.509 L52.3579 966.176 L52.3579 961.916 L60.6217 960.25 L65.2976 960.25 L65.2976 990.875 L72.9365 990.875 L72.9365 994.81 L53.0292 994.81 L53.0292 990.875 Z\" fill=\"#000000\" fill-rule=\"evenodd\" fill-opacity=\"1\" /><path clip-path=\"url(#clip410)\" d=\"M 0 0 M88.0058 963.328 Q84.3947 963.328 82.566 966.893 Q80.7605 970.435 80.7605 977.564 Q80.7605 984.671 82.566 988.236 Q84.3947 991.777 88.0058 991.777 Q91.6401 991.777 93.4456 988.236 Q95.2743 984.671 95.2743 977.564 Q95.2743 970.435 93.4456 966.893 Q91.6401 963.328 88.0058 963.328 M88.0058 959.625 Q93.816 959.625 96.8715 964.231 Q99.9502 968.814 99.9502 977.564 Q99.9502 986.291 96.8715 990.898 Q93.816 995.481 88.0058 995.481 Q82.1957 995.481 79.117 990.898 Q76.0614 986.291 76.0614 977.564 Q76.0614 968.814 79.117 964.231 Q82.1957 959.625 88.0058 959.625 Z\" fill=\"#000000\" fill-rule=\"evenodd\" fill-opacity=\"1\" /><path clip-path=\"url(#clip410)\" d=\"M 0 0 M54.0245 756.782 L61.6634 756.782 L61.6634 730.416 L53.3532 732.083 L53.3532 727.823 L61.6171 726.157 L66.293 726.157 L66.293 756.782 L73.9318 756.782 L73.9318 760.717 L54.0245 760.717 L54.0245 756.782 Z\" fill=\"#000000\" fill-rule=\"evenodd\" fill-opacity=\"1\" /><path clip-path=\"url(#clip410)\" d=\"M 0 0 M79.0475 726.157 L97.4039 726.157 L97.4039 730.092 L83.3299 730.092 L83.3299 738.564 Q84.3484 738.217 85.3669 738.055 Q86.3855 737.87 87.404 737.87 Q93.191 737.87 96.5706 741.041 Q99.9502 744.212 99.9502 749.629 Q99.9502 755.207 96.478 758.309 Q93.0058 761.388 86.6864 761.388 Q84.5105 761.388 82.242 761.018 Q79.9966 760.647 77.5892 759.907 L77.5892 755.207 Q79.6725 756.342 81.8947 756.897 Q84.1169 757.453 86.5938 757.453 Q90.5984 757.453 92.9363 755.346 Q95.2743 753.24 95.2743 749.629 Q95.2743 746.018 92.9363 743.911 Q90.5984 741.805 86.5938 741.805 Q84.7188 741.805 82.8438 742.221 Q80.992 742.638 79.0475 743.518 L79.0475 726.157 Z\" fill=\"#000000\" fill-rule=\"evenodd\" fill-opacity=\"1\" /><path clip-path=\"url(#clip410)\" d=\"M 0 0 M56.6171 522.689 L72.9365 522.689 L72.9365 526.624 L50.9921 526.624 L50.9921 522.689 Q53.6541 519.934 58.2375 515.304 Q62.8439 510.652 64.0245 509.309 Q66.2698 506.786 67.1494 505.05 Q68.0522 503.29 68.0522 501.601 Q68.0522 498.846 66.1078 497.11 Q64.1865 495.374 61.0847 495.374 Q58.8856 495.374 56.4319 496.138 Q54.0014 496.902 51.2236 498.453 L51.2236 493.73 Q54.0477 492.596 56.5014 492.017 Q58.955 491.439 60.9921 491.439 Q66.3624 491.439 69.5568 494.124 Q72.7513 496.809 72.7513 501.3 Q72.7513 503.429 71.9411 505.351 Q71.1541 507.249 69.0476 509.841 Q68.4689 510.513 65.367 513.73 Q62.2652 516.925 56.6171 522.689 Z\" fill=\"#000000\" fill-rule=\"evenodd\" fill-opacity=\"1\" /><path clip-path=\"url(#clip410)\" d=\"M 0 0 M88.0058 495.142 Q84.3947 495.142 82.566 498.707 Q80.7605 502.249 80.7605 509.378 Q80.7605 516.485 82.566 520.05 Q84.3947 523.591 88.0058 523.591 Q91.6401 523.591 93.4456 520.05 Q95.2743 516.485 95.2743 509.378 Q95.2743 502.249 93.4456 498.707 Q91.6401 495.142 88.0058 495.142 M88.0058 491.439 Q93.816 491.439 96.8715 496.045 Q99.9502 500.628 99.9502 509.378 Q99.9502 518.105 96.8715 522.712 Q93.816 527.295 88.0058 527.295 Q82.1957 527.295 79.117 522.712 Q76.0614 518.105 76.0614 509.378 Q76.0614 500.628 79.117 496.045 Q82.1957 491.439 88.0058 491.439 Z\" fill=\"#000000\" fill-rule=\"evenodd\" fill-opacity=\"1\" /><path clip-path=\"url(#clip410)\" d=\"M 0 0 M57.6125 288.596 L73.9318 288.596 L73.9318 292.531 L51.9875 292.531 L51.9875 288.596 Q54.6495 285.841 59.2328 281.211 Q63.8393 276.559 65.0198 275.216 Q67.2652 272.693 68.1448 270.957 Q69.0476 269.197 69.0476 267.508 Q69.0476 264.753 67.1032 263.017 Q65.1819 261.281 62.08 261.281 Q59.881 261.281 57.4273 262.045 Q54.9967 262.809 52.219 264.36 L52.219 259.637 Q55.043 258.503 57.4967 257.924 Q59.9504 257.346 61.9874 257.346 Q67.3578 257.346 70.5522 260.031 Q73.7466 262.716 73.7466 267.207 Q73.7466 269.336 72.9365 271.258 Q72.1494 273.156 70.0429 275.748 Q69.4642 276.42 66.3624 279.637 Q63.2606 282.832 57.6125 288.596 Z\" fill=\"#000000\" fill-rule=\"evenodd\" fill-opacity=\"1\" /><path clip-path=\"url(#clip410)\" d=\"M 0 0 M79.0475 257.971 L97.4039 257.971 L97.4039 261.906 L83.3299 261.906 L83.3299 270.378 Q84.3484 270.031 85.3669 269.869 Q86.3855 269.684 87.404 269.684 Q93.191 269.684 96.5706 272.855 Q99.9502 276.026 99.9502 281.443 Q99.9502 287.021 96.478 290.123 Q93.0058 293.202 86.6864 293.202 Q84.5105 293.202 82.242 292.832 Q79.9966 292.461 77.5892 291.72 L77.5892 287.021 Q79.6725 288.156 81.8947 288.711 Q84.1169 289.267 86.5938 289.267 Q90.5984 289.267 92.9363 287.16 Q95.2743 285.054 95.2743 281.443 Q95.2743 277.832 92.9363 275.725 Q90.5984 273.619 86.5938 273.619 Q84.7188 273.619 82.8438 274.035 Q80.992 274.452 79.0475 275.332 L79.0475 257.971 Z\" fill=\"#000000\" fill-rule=\"evenodd\" fill-opacity=\"1\" /><path clip-path=\"url(#clip412)\" d=\"\n",
       "M230.313 1398.9 L230.313 1445.72 L335.722 1445.72 L335.722 1398.9 L230.313 1398.9 L230.313 1398.9  Z\n",
       "  \" fill=\"#009af9\" fill-rule=\"evenodd\" fill-opacity=\"1\"/>\n",
       "<polyline clip-path=\"url(#clip412)\" style=\"stroke:#000000; stroke-width:4; stroke-opacity:1; fill:none\" points=\"\n",
       "  230.313,1398.9 230.313,1445.72 335.722,1445.72 335.722,1398.9 230.313,1398.9 \n",
       "  \"/>\n",
       "<path clip-path=\"url(#clip412)\" d=\"\n",
       "M335.722 1352.08 L335.722 1445.72 L441.132 1445.72 L441.132 1352.08 L335.722 1352.08 L335.722 1352.08  Z\n",
       "  \" fill=\"#009af9\" fill-rule=\"evenodd\" fill-opacity=\"1\"/>\n",
       "<polyline clip-path=\"url(#clip412)\" style=\"stroke:#000000; stroke-width:4; stroke-opacity:1; fill:none\" points=\"\n",
       "  335.722,1352.08 335.722,1445.72 441.132,1445.72 441.132,1352.08 335.722,1352.08 \n",
       "  \"/>\n",
       "<path clip-path=\"url(#clip412)\" d=\"\n",
       "M441.132 837.074 L441.132 1445.72 L546.542 1445.72 L546.542 837.074 L441.132 837.074 L441.132 837.074  Z\n",
       "  \" fill=\"#009af9\" fill-rule=\"evenodd\" fill-opacity=\"1\"/>\n",
       "<polyline clip-path=\"url(#clip412)\" style=\"stroke:#000000; stroke-width:4; stroke-opacity:1; fill:none\" points=\"\n",
       "  441.132,837.074 441.132,1445.72 546.542,1445.72 546.542,837.074 441.132,837.074 \n",
       "  \"/>\n",
       "<path clip-path=\"url(#clip412)\" d=\"\n",
       "M546.542 790.255 L546.542 1445.72 L651.951 1445.72 L651.951 790.255 L546.542 790.255 L546.542 790.255  Z\n",
       "  \" fill=\"#009af9\" fill-rule=\"evenodd\" fill-opacity=\"1\"/>\n",
       "<polyline clip-path=\"url(#clip412)\" style=\"stroke:#000000; stroke-width:4; stroke-opacity:1; fill:none\" points=\"\n",
       "  546.542,790.255 546.542,1445.72 651.951,1445.72 651.951,790.255 546.542,790.255 \n",
       "  \"/>\n",
       "<path clip-path=\"url(#clip412)\" d=\"\n",
       "M651.951 275.251 L651.951 1445.72 L757.361 1445.72 L757.361 275.251 L651.951 275.251 L651.951 275.251  Z\n",
       "  \" fill=\"#009af9\" fill-rule=\"evenodd\" fill-opacity=\"1\"/>\n",
       "<polyline clip-path=\"url(#clip412)\" style=\"stroke:#000000; stroke-width:4; stroke-opacity:1; fill:none\" points=\"\n",
       "  651.951,275.251 651.951,1445.72 757.361,1445.72 757.361,275.251 651.951,275.251 \n",
       "  \"/>\n",
       "<path clip-path=\"url(#clip412)\" d=\"\n",
       "M757.361 649.799 L757.361 1445.72 L862.77 1445.72 L862.77 649.799 L757.361 649.799 L757.361 649.799  Z\n",
       "  \" fill=\"#009af9\" fill-rule=\"evenodd\" fill-opacity=\"1\"/>\n",
       "<polyline clip-path=\"url(#clip412)\" style=\"stroke:#000000; stroke-width:4; stroke-opacity:1; fill:none\" points=\"\n",
       "  757.361,649.799 757.361,1445.72 862.77,1445.72 862.77,649.799 757.361,649.799 \n",
       "  \"/>\n",
       "<path clip-path=\"url(#clip412)\" d=\"\n",
       "M862.77 837.074 L862.77 1445.72 L968.18 1445.72 L968.18 837.074 L862.77 837.074 L862.77 837.074  Z\n",
       "  \" fill=\"#009af9\" fill-rule=\"evenodd\" fill-opacity=\"1\"/>\n",
       "<polyline clip-path=\"url(#clip412)\" style=\"stroke:#000000; stroke-width:4; stroke-opacity:1; fill:none\" points=\"\n",
       "  862.77,837.074 862.77,1445.72 968.18,1445.72 968.18,837.074 862.77,837.074 \n",
       "  \"/>\n",
       "<path clip-path=\"url(#clip412)\" d=\"\n",
       "M968.18 1164.8 L968.18 1445.72 L1073.59 1445.72 L1073.59 1164.8 L968.18 1164.8 L968.18 1164.8  Z\n",
       "  \" fill=\"#009af9\" fill-rule=\"evenodd\" fill-opacity=\"1\"/>\n",
       "<polyline clip-path=\"url(#clip412)\" style=\"stroke:#000000; stroke-width:4; stroke-opacity:1; fill:none\" points=\"\n",
       "  968.18,1164.8 968.18,1445.72 1073.59,1445.72 1073.59,1164.8 968.18,1164.8 \n",
       "  \"/>\n",
       "<path clip-path=\"url(#clip412)\" d=\"\n",
       "M1073.59 1164.8 L1073.59 1445.72 L1179 1445.72 L1179 1164.8 L1073.59 1164.8 L1073.59 1164.8  Z\n",
       "  \" fill=\"#009af9\" fill-rule=\"evenodd\" fill-opacity=\"1\"/>\n",
       "<polyline clip-path=\"url(#clip412)\" style=\"stroke:#000000; stroke-width:4; stroke-opacity:1; fill:none\" points=\"\n",
       "  1073.59,1164.8 1073.59,1445.72 1179,1445.72 1179,1164.8 1073.59,1164.8 \n",
       "  \"/>\n",
       "<path clip-path=\"url(#clip412)\" d=\"\n",
       "M1179 1305.26 L1179 1445.72 L1284.41 1445.72 L1284.41 1305.26 L1179 1305.26 L1179 1305.26  Z\n",
       "  \" fill=\"#009af9\" fill-rule=\"evenodd\" fill-opacity=\"1\"/>\n",
       "<polyline clip-path=\"url(#clip412)\" style=\"stroke:#000000; stroke-width:4; stroke-opacity:1; fill:none\" points=\"\n",
       "  1179,1305.26 1179,1445.72 1284.41,1445.72 1284.41,1305.26 1179,1305.26 \n",
       "  \"/>\n",
       "<path clip-path=\"url(#clip412)\" d=\"\n",
       "M335.722 1211.62 L335.722 1445.72 L546.542 1445.72 L546.542 1211.62 L335.722 1211.62 L335.722 1211.62  Z\n",
       "  \" fill=\"#e26f46\" fill-rule=\"evenodd\" fill-opacity=\"1\"/>\n",
       "<polyline clip-path=\"url(#clip412)\" style=\"stroke:#000000; stroke-width:4; stroke-opacity:1; fill:none\" points=\"\n",
       "  335.722,1211.62 335.722,1445.72 546.542,1445.72 546.542,1211.62 335.722,1211.62 \n",
       "  \"/>\n",
       "<path clip-path=\"url(#clip412)\" d=\"\n",
       "M546.542 696.618 L546.542 1445.72 L757.361 1445.72 L757.361 696.618 L546.542 696.618 L546.542 696.618  Z\n",
       "  \" fill=\"#e26f46\" fill-rule=\"evenodd\" fill-opacity=\"1\"/>\n",
       "<polyline clip-path=\"url(#clip412)\" style=\"stroke:#000000; stroke-width:4; stroke-opacity:1; fill:none\" points=\"\n",
       "  546.542,696.618 546.542,1445.72 757.361,1445.72 757.361,696.618 546.542,696.618 \n",
       "  \"/>\n",
       "<path clip-path=\"url(#clip412)\" d=\"\n",
       "M757.361 322.069 L757.361 1445.72 L968.18 1445.72 L968.18 322.069 L757.361 322.069 L757.361 322.069  Z\n",
       "  \" fill=\"#e26f46\" fill-rule=\"evenodd\" fill-opacity=\"1\"/>\n",
       "<polyline clip-path=\"url(#clip412)\" style=\"stroke:#000000; stroke-width:4; stroke-opacity:1; fill:none\" points=\"\n",
       "  757.361,322.069 757.361,1445.72 968.18,1445.72 968.18,322.069 757.361,322.069 \n",
       "  \"/>\n",
       "<path clip-path=\"url(#clip412)\" d=\"\n",
       "M968.18 87.9763 L968.18 1445.72 L1179 1445.72 L1179 87.9763 L968.18 87.9763 L968.18 87.9763  Z\n",
       "  \" fill=\"#e26f46\" fill-rule=\"evenodd\" fill-opacity=\"1\"/>\n",
       "<polyline clip-path=\"url(#clip412)\" style=\"stroke:#000000; stroke-width:4; stroke-opacity:1; fill:none\" points=\"\n",
       "  968.18,87.9763 968.18,1445.72 1179,1445.72 1179,87.9763 968.18,87.9763 \n",
       "  \"/>\n",
       "<path clip-path=\"url(#clip412)\" d=\"\n",
       "M1179 696.618 L1179 1445.72 L1389.82 1445.72 L1389.82 696.618 L1179 696.618 L1179 696.618  Z\n",
       "  \" fill=\"#e26f46\" fill-rule=\"evenodd\" fill-opacity=\"1\"/>\n",
       "<polyline clip-path=\"url(#clip412)\" style=\"stroke:#000000; stroke-width:4; stroke-opacity:1; fill:none\" points=\"\n",
       "  1179,696.618 1179,1445.72 1389.82,1445.72 1389.82,696.618 1179,696.618 \n",
       "  \"/>\n",
       "<path clip-path=\"url(#clip412)\" d=\"\n",
       "M1389.82 1071.17 L1389.82 1445.72 L1600.64 1445.72 L1600.64 1071.17 L1389.82 1071.17 L1389.82 1071.17  Z\n",
       "  \" fill=\"#e26f46\" fill-rule=\"evenodd\" fill-opacity=\"1\"/>\n",
       "<polyline clip-path=\"url(#clip412)\" style=\"stroke:#000000; stroke-width:4; stroke-opacity:1; fill:none\" points=\"\n",
       "  1389.82,1071.17 1389.82,1445.72 1600.64,1445.72 1600.64,1071.17 1389.82,1071.17 \n",
       "  \"/>\n",
       "<path clip-path=\"url(#clip412)\" d=\"\n",
       "M1600.64 1398.9 L1600.64 1445.72 L1811.46 1445.72 L1811.46 1398.9 L1600.64 1398.9 L1600.64 1398.9  Z\n",
       "  \" fill=\"#e26f46\" fill-rule=\"evenodd\" fill-opacity=\"1\"/>\n",
       "<polyline clip-path=\"url(#clip412)\" style=\"stroke:#000000; stroke-width:4; stroke-opacity:1; fill:none\" points=\"\n",
       "  1600.64,1398.9 1600.64,1445.72 1811.46,1445.72 1811.46,1398.9 1600.64,1398.9 \n",
       "  \"/>\n",
       "<path clip-path=\"url(#clip412)\" d=\"\n",
       "M1811.46 1445.72 L1811.46 1445.72 L2022.28 1445.72 L2022.28 1445.72 L1811.46 1445.72 L1811.46 1445.72  Z\n",
       "  \" fill=\"#e26f46\" fill-rule=\"evenodd\" fill-opacity=\"1\"/>\n",
       "<polyline clip-path=\"url(#clip412)\" style=\"stroke:#000000; stroke-width:4; stroke-opacity:1; fill:none\" points=\"\n",
       "  1811.46,1445.72 1811.46,1445.72 2022.28,1445.72 1811.46,1445.72 \n",
       "  \"/>\n",
       "<path clip-path=\"url(#clip412)\" d=\"\n",
       "M2022.28 1398.9 L2022.28 1445.72 L2233.09 1445.72 L2233.09 1398.9 L2022.28 1398.9 L2022.28 1398.9  Z\n",
       "  \" fill=\"#e26f46\" fill-rule=\"evenodd\" fill-opacity=\"1\"/>\n",
       "<polyline clip-path=\"url(#clip412)\" style=\"stroke:#000000; stroke-width:4; stroke-opacity:1; fill:none\" points=\"\n",
       "  2022.28,1398.9 2022.28,1445.72 2233.09,1445.72 2233.09,1398.9 2022.28,1398.9 \n",
       "  \"/>\n",
       "<path clip-path=\"url(#clip410)\" d=\"\n",
       "M1981.53 276.658 L2278.86 276.658 L2278.86 95.2176 L1981.53 95.2176  Z\n",
       "  \" fill=\"#ffffff\" fill-rule=\"evenodd\" fill-opacity=\"1\"/>\n",
       "<polyline clip-path=\"url(#clip410)\" style=\"stroke:#000000; stroke-width:4; stroke-opacity:1; fill:none\" points=\"\n",
       "  1981.53,276.658 2278.86,276.658 2278.86,95.2176 1981.53,95.2176 1981.53,276.658 \n",
       "  \"/>\n",
       "<path clip-path=\"url(#clip410)\" d=\"\n",
       "M2006.16 179.89 L2153.95 179.89 L2153.95 131.506 L2006.16 131.506 L2006.16 179.89  Z\n",
       "  \" fill=\"#009af9\" fill-rule=\"evenodd\" fill-opacity=\"1\"/>\n",
       "<polyline clip-path=\"url(#clip410)\" style=\"stroke:#000000; stroke-width:4; stroke-opacity:1; fill:none\" points=\"\n",
       "  2006.16,179.89 2153.95,179.89 2153.95,131.506 2006.16,131.506 2006.16,179.89 \n",
       "  \"/>\n",
       "<path clip-path=\"url(#clip410)\" d=\"M 0 0 M2192.42 175.385 Q2190.62 180.015 2188.91 181.427 Q2187.19 182.839 2184.32 182.839 L2180.92 182.839 L2180.92 179.274 L2183.42 179.274 Q2185.18 179.274 2186.15 178.44 Q2187.12 177.607 2188.3 174.505 L2189.07 172.561 L2178.58 147.052 L2183.1 147.052 L2191.2 167.329 L2199.3 147.052 L2203.81 147.052 L2192.42 175.385 Z\" fill=\"#000000\" fill-rule=\"evenodd\" fill-opacity=\"1\" /><path clip-path=\"url(#clip410)\" d=\"M 0 0 M2209.69 169.042 L2217.33 169.042 L2217.33 142.677 L2209.02 144.343 L2209.02 140.084 L2217.29 138.418 L2221.96 138.418 L2221.96 169.042 L2229.6 169.042 L2229.6 172.978 L2209.69 172.978 L2209.69 169.042 Z\" fill=\"#000000\" fill-rule=\"evenodd\" fill-opacity=\"1\" /><path clip-path=\"url(#clip410)\" d=\"\n",
       "M2006.16 240.37 L2153.95 240.37 L2153.95 191.986 L2006.16 191.986 L2006.16 240.37  Z\n",
       "  \" fill=\"#e26f46\" fill-rule=\"evenodd\" fill-opacity=\"1\"/>\n",
       "<polyline clip-path=\"url(#clip410)\" style=\"stroke:#000000; stroke-width:4; stroke-opacity:1; fill:none\" points=\"\n",
       "  2006.16,240.37 2153.95,240.37 2153.95,191.986 2006.16,191.986 2006.16,240.37 \n",
       "  \"/>\n",
       "<path clip-path=\"url(#clip410)\" d=\"M 0 0 M2192.42 235.865 Q2190.62 240.495 2188.91 241.907 Q2187.19 243.319 2184.32 243.319 L2180.92 243.319 L2180.92 239.754 L2183.42 239.754 Q2185.18 239.754 2186.15 238.92 Q2187.12 238.087 2188.3 234.985 L2189.07 233.041 L2178.58 207.532 L2183.1 207.532 L2191.2 227.809 L2199.3 207.532 L2203.81 207.532 L2192.42 235.865 Z\" fill=\"#000000\" fill-rule=\"evenodd\" fill-opacity=\"1\" /><path clip-path=\"url(#clip410)\" d=\"M 0 0 M2212.91 229.522 L2229.23 229.522 L2229.23 233.458 L2207.29 233.458 L2207.29 229.522 Q2209.95 226.768 2214.53 222.138 Q2219.14 217.485 2220.32 216.143 Q2222.56 213.62 2223.44 211.884 Q2224.35 210.124 2224.35 208.435 Q2224.35 205.68 2222.4 203.944 Q2220.48 202.208 2217.38 202.208 Q2215.18 202.208 2212.73 202.972 Q2210.29 203.735 2207.52 205.286 L2207.52 200.564 Q2210.34 199.43 2212.79 198.851 Q2215.25 198.273 2217.29 198.273 Q2222.66 198.273 2225.85 200.958 Q2229.04 203.643 2229.04 208.134 Q2229.04 210.263 2228.23 212.185 Q2227.45 214.083 2225.34 216.675 Q2224.76 217.347 2221.66 220.564 Q2218.56 223.759 2212.91 229.522 Z\" fill=\"#000000\" fill-rule=\"evenodd\" fill-opacity=\"1\" /></svg>\n"
      ]
     },
     "execution_count": 109,
     "metadata": {},
     "output_type": "execute_result"
    }
   ],
   "source": [
    "histogram([data1 data1x])"
   ]
  },
  {
   "cell_type": "code",
   "execution_count": 107,
   "metadata": {},
   "outputs": [
    {
     "data": {
      "image/svg+xml": [
       "<?xml version=\"1.0\" encoding=\"utf-8\"?>\n",
       "<svg xmlns=\"http://www.w3.org/2000/svg\" xmlns:xlink=\"http://www.w3.org/1999/xlink\" width=\"600\" height=\"400\" viewBox=\"0 0 2400 1600\">\n",
       "<defs>\n",
       "  <clipPath id=\"clip370\">\n",
       "    <rect x=\"0\" y=\"0\" width=\"2400\" height=\"1600\"/>\n",
       "  </clipPath>\n",
       "</defs>\n",
       "<path clip-path=\"url(#clip370)\" d=\"\n",
       "M0 1600 L2400 1600 L2400 0 L0 0  Z\n",
       "  \" fill=\"#ffffff\" fill-rule=\"evenodd\" fill-opacity=\"1\"/>\n",
       "<defs>\n",
       "  <clipPath id=\"clip371\">\n",
       "    <rect x=\"480\" y=\"0\" width=\"1681\" height=\"1600\"/>\n",
       "  </clipPath>\n",
       "</defs>\n",
       "<path clip-path=\"url(#clip370)\" d=\"\n",
       "M136.76 1486.45 L2352.76 1486.45 L2352.76 47.2441 L136.76 47.2441  Z\n",
       "  \" fill=\"#ffffff\" fill-rule=\"evenodd\" fill-opacity=\"1\"/>\n",
       "<defs>\n",
       "  <clipPath id=\"clip372\">\n",
       "    <rect x=\"136\" y=\"47\" width=\"2217\" height=\"1440\"/>\n",
       "  </clipPath>\n",
       "</defs>\n",
       "<polyline clip-path=\"url(#clip372)\" style=\"stroke:#000000; stroke-width:2; stroke-opacity:0.1; fill:none\" points=\"\n",
       "  420.244,1486.45 420.244,47.2441 \n",
       "  \"/>\n",
       "<polyline clip-path=\"url(#clip372)\" style=\"stroke:#000000; stroke-width:2; stroke-opacity:0.1; fill:none\" points=\"\n",
       "  900.171,1486.45 900.171,47.2441 \n",
       "  \"/>\n",
       "<polyline clip-path=\"url(#clip372)\" style=\"stroke:#000000; stroke-width:2; stroke-opacity:0.1; fill:none\" points=\"\n",
       "  1380.1,1486.45 1380.1,47.2441 \n",
       "  \"/>\n",
       "<polyline clip-path=\"url(#clip372)\" style=\"stroke:#000000; stroke-width:2; stroke-opacity:0.1; fill:none\" points=\"\n",
       "  1860.02,1486.45 1860.02,47.2441 \n",
       "  \"/>\n",
       "<polyline clip-path=\"url(#clip372)\" style=\"stroke:#000000; stroke-width:2; stroke-opacity:0.1; fill:none\" points=\"\n",
       "  2339.95,1486.45 2339.95,47.2441 \n",
       "  \"/>\n",
       "<polyline clip-path=\"url(#clip370)\" style=\"stroke:#000000; stroke-width:4; stroke-opacity:1; fill:none\" points=\"\n",
       "  136.76,1486.45 2352.76,1486.45 \n",
       "  \"/>\n",
       "<polyline clip-path=\"url(#clip370)\" style=\"stroke:#000000; stroke-width:4; stroke-opacity:1; fill:none\" points=\"\n",
       "  420.244,1486.45 420.244,1469.18 \n",
       "  \"/>\n",
       "<polyline clip-path=\"url(#clip370)\" style=\"stroke:#000000; stroke-width:4; stroke-opacity:1; fill:none\" points=\"\n",
       "  900.171,1486.45 900.171,1469.18 \n",
       "  \"/>\n",
       "<polyline clip-path=\"url(#clip370)\" style=\"stroke:#000000; stroke-width:4; stroke-opacity:1; fill:none\" points=\"\n",
       "  1380.1,1486.45 1380.1,1469.18 \n",
       "  \"/>\n",
       "<polyline clip-path=\"url(#clip370)\" style=\"stroke:#000000; stroke-width:4; stroke-opacity:1; fill:none\" points=\"\n",
       "  1860.02,1486.45 1860.02,1469.18 \n",
       "  \"/>\n",
       "<polyline clip-path=\"url(#clip370)\" style=\"stroke:#000000; stroke-width:4; stroke-opacity:1; fill:none\" points=\"\n",
       "  2339.95,1486.45 2339.95,1469.18 \n",
       "  \"/>\n",
       "<path clip-path=\"url(#clip370)\" d=\"M 0 0 M388.751 1515.64 Q385.14 1515.64 383.311 1519.2 Q381.505 1522.75 381.505 1529.87 Q381.505 1536.98 383.311 1540.55 Q385.14 1544.09 388.751 1544.09 Q392.385 1544.09 394.191 1540.55 Q396.019 1536.98 396.019 1529.87 Q396.019 1522.75 394.191 1519.2 Q392.385 1515.64 388.751 1515.64 M388.751 1511.93 Q394.561 1511.93 397.616 1516.54 Q400.695 1521.12 400.695 1529.87 Q400.695 1538.6 397.616 1543.21 Q394.561 1547.79 388.751 1547.79 Q382.941 1547.79 379.862 1543.21 Q376.806 1538.6 376.806 1529.87 Q376.806 1521.12 379.862 1516.54 Q382.941 1511.93 388.751 1511.93 Z\" fill=\"#000000\" fill-rule=\"evenodd\" fill-opacity=\"1\" /><path clip-path=\"url(#clip370)\" d=\"M 0 0 M405.765 1541.24 L410.649 1541.24 L410.649 1547.12 L405.765 1547.12 L405.765 1541.24 Z\" fill=\"#000000\" fill-rule=\"evenodd\" fill-opacity=\"1\" /><path clip-path=\"url(#clip370)\" d=\"M 0 0 M425.718 1515.64 Q422.107 1515.64 420.278 1519.2 Q418.473 1522.75 418.473 1529.87 Q418.473 1536.98 420.278 1540.55 Q422.107 1544.09 425.718 1544.09 Q429.352 1544.09 431.158 1540.55 Q432.987 1536.98 432.987 1529.87 Q432.987 1522.75 431.158 1519.2 Q429.352 1515.64 425.718 1515.64 M425.718 1511.93 Q431.528 1511.93 434.584 1516.54 Q437.663 1521.12 437.663 1529.87 Q437.663 1538.6 434.584 1543.21 Q431.528 1547.79 425.718 1547.79 Q419.908 1547.79 416.829 1543.21 Q413.774 1538.6 413.774 1529.87 Q413.774 1521.12 416.829 1516.54 Q419.908 1511.93 425.718 1511.93 Z\" fill=\"#000000\" fill-rule=\"evenodd\" fill-opacity=\"1\" /><path clip-path=\"url(#clip370)\" d=\"M 0 0 M442.778 1512.56 L461.135 1512.56 L461.135 1516.5 L447.061 1516.5 L447.061 1524.97 Q448.079 1524.62 449.098 1524.46 Q450.116 1524.27 451.135 1524.27 Q456.922 1524.27 460.301 1527.44 Q463.681 1530.62 463.681 1536.03 Q463.681 1541.61 460.209 1544.71 Q456.736 1547.79 450.417 1547.79 Q448.241 1547.79 445.973 1547.42 Q443.727 1547.05 441.32 1546.31 L441.32 1541.61 Q443.403 1542.74 445.625 1543.3 Q447.848 1543.86 450.324 1543.86 Q454.329 1543.86 456.667 1541.75 Q459.005 1539.64 459.005 1536.03 Q459.005 1532.42 456.667 1530.31 Q454.329 1528.21 450.324 1528.21 Q448.449 1528.21 446.575 1528.62 Q444.723 1529.04 442.778 1529.92 L442.778 1512.56 Z\" fill=\"#000000\" fill-rule=\"evenodd\" fill-opacity=\"1\" /><path clip-path=\"url(#clip370)\" d=\"M 0 0 M868.793 1515.64 Q865.182 1515.64 863.354 1519.2 Q861.548 1522.75 861.548 1529.87 Q861.548 1536.98 863.354 1540.55 Q865.182 1544.09 868.793 1544.09 Q872.428 1544.09 874.233 1540.55 Q876.062 1536.98 876.062 1529.87 Q876.062 1522.75 874.233 1519.2 Q872.428 1515.64 868.793 1515.64 M868.793 1511.93 Q874.604 1511.93 877.659 1516.54 Q880.738 1521.12 880.738 1529.87 Q880.738 1538.6 877.659 1543.21 Q874.604 1547.79 868.793 1547.79 Q862.983 1547.79 859.905 1543.21 Q856.849 1538.6 856.849 1529.87 Q856.849 1521.12 859.905 1516.54 Q862.983 1511.93 868.793 1511.93 Z\" fill=\"#000000\" fill-rule=\"evenodd\" fill-opacity=\"1\" /><path clip-path=\"url(#clip370)\" d=\"M 0 0 M885.807 1541.24 L890.691 1541.24 L890.691 1547.12 L885.807 1547.12 L885.807 1541.24 Z\" fill=\"#000000\" fill-rule=\"evenodd\" fill-opacity=\"1\" /><path clip-path=\"url(#clip370)\" d=\"M 0 0 M896.571 1543.18 L904.21 1543.18 L904.21 1516.82 L895.9 1518.49 L895.9 1514.23 L904.164 1512.56 L908.84 1512.56 L908.84 1543.18 L916.478 1543.18 L916.478 1547.12 L896.571 1547.12 L896.571 1543.18 Z\" fill=\"#000000\" fill-rule=\"evenodd\" fill-opacity=\"1\" /><path clip-path=\"url(#clip370)\" d=\"M 0 0 M931.548 1515.64 Q927.937 1515.64 926.108 1519.2 Q924.302 1522.75 924.302 1529.87 Q924.302 1536.98 926.108 1540.55 Q927.937 1544.09 931.548 1544.09 Q935.182 1544.09 936.988 1540.55 Q938.816 1536.98 938.816 1529.87 Q938.816 1522.75 936.988 1519.2 Q935.182 1515.64 931.548 1515.64 M931.548 1511.93 Q937.358 1511.93 940.413 1516.54 Q943.492 1521.12 943.492 1529.87 Q943.492 1538.6 940.413 1543.21 Q937.358 1547.79 931.548 1547.79 Q925.738 1547.79 922.659 1543.21 Q919.603 1538.6 919.603 1529.87 Q919.603 1521.12 922.659 1516.54 Q925.738 1511.93 931.548 1511.93 Z\" fill=\"#000000\" fill-rule=\"evenodd\" fill-opacity=\"1\" /><path clip-path=\"url(#clip370)\" d=\"M 0 0 M1349.22 1515.64 Q1345.61 1515.64 1343.78 1519.2 Q1341.97 1522.75 1341.97 1529.87 Q1341.97 1536.98 1343.78 1540.55 Q1345.61 1544.09 1349.22 1544.09 Q1352.85 1544.09 1354.66 1540.55 Q1356.49 1536.98 1356.49 1529.87 Q1356.49 1522.75 1354.66 1519.2 Q1352.85 1515.64 1349.22 1515.64 M1349.22 1511.93 Q1355.03 1511.93 1358.08 1516.54 Q1361.16 1521.12 1361.16 1529.87 Q1361.16 1538.6 1358.08 1543.21 Q1355.03 1547.79 1349.22 1547.79 Q1343.41 1547.79 1340.33 1543.21 Q1337.27 1538.6 1337.27 1529.87 Q1337.27 1521.12 1340.33 1516.54 Q1343.41 1511.93 1349.22 1511.93 Z\" fill=\"#000000\" fill-rule=\"evenodd\" fill-opacity=\"1\" /><path clip-path=\"url(#clip370)\" d=\"M 0 0 M1366.23 1541.24 L1371.12 1541.24 L1371.12 1547.12 L1366.23 1547.12 L1366.23 1541.24 Z\" fill=\"#000000\" fill-rule=\"evenodd\" fill-opacity=\"1\" /><path clip-path=\"url(#clip370)\" d=\"M 0 0 M1377 1543.18 L1384.63 1543.18 L1384.63 1516.82 L1376.32 1518.49 L1376.32 1514.23 L1384.59 1512.56 L1389.26 1512.56 L1389.26 1543.18 L1396.9 1543.18 L1396.9 1547.12 L1377 1547.12 L1377 1543.18 Z\" fill=\"#000000\" fill-rule=\"evenodd\" fill-opacity=\"1\" /><path clip-path=\"url(#clip370)\" d=\"M 0 0 M1402.02 1512.56 L1420.38 1512.56 L1420.38 1516.5 L1406.3 1516.5 L1406.3 1524.97 Q1407.32 1524.62 1408.34 1524.46 Q1409.36 1524.27 1410.38 1524.27 Q1416.16 1524.27 1419.54 1527.44 Q1422.92 1530.62 1422.92 1536.03 Q1422.92 1541.61 1419.45 1544.71 Q1415.98 1547.79 1409.66 1547.79 Q1407.48 1547.79 1405.21 1547.42 Q1402.97 1547.05 1400.56 1546.31 L1400.56 1541.61 Q1402.64 1542.74 1404.87 1543.3 Q1407.09 1543.86 1409.56 1543.86 Q1413.57 1543.86 1415.91 1541.75 Q1418.25 1539.64 1418.25 1536.03 Q1418.25 1532.42 1415.91 1530.31 Q1413.57 1528.21 1409.56 1528.21 Q1407.69 1528.21 1405.81 1528.62 Q1403.96 1529.04 1402.02 1529.92 L1402.02 1512.56 Z\" fill=\"#000000\" fill-rule=\"evenodd\" fill-opacity=\"1\" /><path clip-path=\"url(#clip370)\" d=\"M 0 0 M1828.83 1515.64 Q1825.22 1515.64 1823.39 1519.2 Q1821.59 1522.75 1821.59 1529.87 Q1821.59 1536.98 1823.39 1540.55 Q1825.22 1544.09 1828.83 1544.09 Q1832.47 1544.09 1834.27 1540.55 Q1836.1 1536.98 1836.1 1529.87 Q1836.1 1522.75 1834.27 1519.2 Q1832.47 1515.64 1828.83 1515.64 M1828.83 1511.93 Q1834.64 1511.93 1837.7 1516.54 Q1840.78 1521.12 1840.78 1529.87 Q1840.78 1538.6 1837.7 1543.21 Q1834.64 1547.79 1828.83 1547.79 Q1823.02 1547.79 1819.94 1543.21 Q1816.89 1538.6 1816.89 1529.87 Q1816.89 1521.12 1819.94 1516.54 Q1823.02 1511.93 1828.83 1511.93 Z\" fill=\"#000000\" fill-rule=\"evenodd\" fill-opacity=\"1\" /><path clip-path=\"url(#clip370)\" d=\"M 0 0 M1845.85 1541.24 L1850.73 1541.24 L1850.73 1547.12 L1845.85 1547.12 L1845.85 1541.24 Z\" fill=\"#000000\" fill-rule=\"evenodd\" fill-opacity=\"1\" /><path clip-path=\"url(#clip370)\" d=\"M 0 0 M1859.83 1543.18 L1876.15 1543.18 L1876.15 1547.12 L1854.2 1547.12 L1854.2 1543.18 Q1856.86 1540.43 1861.45 1535.8 Q1866.05 1531.15 1867.24 1529.81 Q1869.48 1527.28 1870.36 1525.55 Q1871.26 1523.79 1871.26 1522.1 Q1871.26 1519.34 1869.32 1517.61 Q1867.4 1515.87 1864.3 1515.87 Q1862.1 1515.87 1859.64 1516.63 Q1857.21 1517.4 1854.43 1518.95 L1854.43 1514.23 Q1857.26 1513.09 1859.71 1512.51 Q1862.17 1511.93 1864.2 1511.93 Q1869.57 1511.93 1872.77 1514.62 Q1875.96 1517.31 1875.96 1521.8 Q1875.96 1523.93 1875.15 1525.85 Q1874.36 1527.74 1872.26 1530.34 Q1871.68 1531.01 1868.58 1534.23 Q1865.48 1537.42 1859.83 1543.18 Z\" fill=\"#000000\" fill-rule=\"evenodd\" fill-opacity=\"1\" /><path clip-path=\"url(#clip370)\" d=\"M 0 0 M1891.22 1515.64 Q1887.61 1515.64 1885.78 1519.2 Q1883.97 1522.75 1883.97 1529.87 Q1883.97 1536.98 1885.78 1540.55 Q1887.61 1544.09 1891.22 1544.09 Q1894.85 1544.09 1896.66 1540.55 Q1898.48 1536.98 1898.48 1529.87 Q1898.48 1522.75 1896.66 1519.2 Q1894.85 1515.64 1891.22 1515.64 M1891.22 1511.93 Q1897.03 1511.93 1900.08 1516.54 Q1903.16 1521.12 1903.16 1529.87 Q1903.16 1538.6 1900.08 1543.21 Q1897.03 1547.79 1891.22 1547.79 Q1885.41 1547.79 1882.33 1543.21 Q1879.27 1538.6 1879.27 1529.87 Q1879.27 1521.12 1882.33 1516.54 Q1885.41 1511.93 1891.22 1511.93 Z\" fill=\"#000000\" fill-rule=\"evenodd\" fill-opacity=\"1\" /><path clip-path=\"url(#clip370)\" d=\"M 0 0 M2309.26 1515.64 Q2305.65 1515.64 2303.82 1519.2 Q2302.01 1522.75 2302.01 1529.87 Q2302.01 1536.98 2303.82 1540.55 Q2305.65 1544.09 2309.26 1544.09 Q2312.89 1544.09 2314.7 1540.55 Q2316.53 1536.98 2316.53 1529.87 Q2316.53 1522.75 2314.7 1519.2 Q2312.89 1515.64 2309.26 1515.64 M2309.26 1511.93 Q2315.07 1511.93 2318.12 1516.54 Q2321.2 1521.12 2321.2 1529.87 Q2321.2 1538.6 2318.12 1543.21 Q2315.07 1547.79 2309.26 1547.79 Q2303.45 1547.79 2300.37 1543.21 Q2297.31 1538.6 2297.31 1529.87 Q2297.31 1521.12 2300.37 1516.54 Q2303.45 1511.93 2309.26 1511.93 Z\" fill=\"#000000\" fill-rule=\"evenodd\" fill-opacity=\"1\" /><path clip-path=\"url(#clip370)\" d=\"M 0 0 M2326.27 1541.24 L2331.16 1541.24 L2331.16 1547.12 L2326.27 1547.12 L2326.27 1541.24 Z\" fill=\"#000000\" fill-rule=\"evenodd\" fill-opacity=\"1\" /><path clip-path=\"url(#clip370)\" d=\"M 0 0 M2340.25 1543.18 L2356.57 1543.18 L2356.57 1547.12 L2334.63 1547.12 L2334.63 1543.18 Q2337.29 1540.43 2341.87 1535.8 Q2346.48 1531.15 2347.66 1529.81 Q2349.91 1527.28 2350.78 1525.55 Q2351.69 1523.79 2351.69 1522.1 Q2351.69 1519.34 2349.74 1517.61 Q2347.82 1515.87 2344.72 1515.87 Q2342.52 1515.87 2340.07 1516.63 Q2337.64 1517.4 2334.86 1518.95 L2334.86 1514.23 Q2337.68 1513.09 2340.14 1512.51 Q2342.59 1511.93 2344.63 1511.93 Q2350 1511.93 2353.19 1514.62 Q2356.39 1517.31 2356.39 1521.8 Q2356.39 1523.93 2355.58 1525.85 Q2354.79 1527.74 2352.68 1530.34 Q2352.1 1531.01 2349 1534.23 Q2345.9 1537.42 2340.25 1543.18 Z\" fill=\"#000000\" fill-rule=\"evenodd\" fill-opacity=\"1\" /><path clip-path=\"url(#clip370)\" d=\"M 0 0 M2361.69 1512.56 L2380.04 1512.56 L2380.04 1516.5 L2365.97 1516.5 L2365.97 1524.97 Q2366.99 1524.62 2368.01 1524.46 Q2369.03 1524.27 2370.04 1524.27 Q2375.83 1524.27 2379.21 1527.44 Q2382.59 1530.62 2382.59 1536.03 Q2382.59 1541.61 2379.12 1544.71 Q2375.65 1547.79 2369.33 1547.79 Q2367.15 1547.79 2364.88 1547.42 Q2362.64 1547.05 2360.23 1546.31 L2360.23 1541.61 Q2362.31 1542.74 2364.53 1543.3 Q2366.76 1543.86 2369.23 1543.86 Q2373.24 1543.86 2375.58 1541.75 Q2377.91 1539.64 2377.91 1536.03 Q2377.91 1532.42 2375.58 1530.31 Q2373.24 1528.21 2369.23 1528.21 Q2367.36 1528.21 2365.48 1528.62 Q2363.63 1529.04 2361.69 1529.92 L2361.69 1512.56 Z\" fill=\"#000000\" fill-rule=\"evenodd\" fill-opacity=\"1\" /><polyline clip-path=\"url(#clip372)\" style=\"stroke:#000000; stroke-width:2; stroke-opacity:0.1; fill:none\" points=\"\n",
       "  136.76,1445.72 2352.76,1445.72 \n",
       "  \"/>\n",
       "<polyline clip-path=\"url(#clip372)\" style=\"stroke:#000000; stroke-width:2; stroke-opacity:0.1; fill:none\" points=\"\n",
       "  136.76,993.136 2352.76,993.136 \n",
       "  \"/>\n",
       "<polyline clip-path=\"url(#clip372)\" style=\"stroke:#000000; stroke-width:2; stroke-opacity:0.1; fill:none\" points=\"\n",
       "  136.76,540.556 2352.76,540.556 \n",
       "  \"/>\n",
       "<polyline clip-path=\"url(#clip372)\" style=\"stroke:#000000; stroke-width:2; stroke-opacity:0.1; fill:none\" points=\"\n",
       "  136.76,87.9763 2352.76,87.9763 \n",
       "  \"/>\n",
       "<polyline clip-path=\"url(#clip370)\" style=\"stroke:#000000; stroke-width:4; stroke-opacity:1; fill:none\" points=\"\n",
       "  136.76,1486.45 136.76,47.2441 \n",
       "  \"/>\n",
       "<polyline clip-path=\"url(#clip370)\" style=\"stroke:#000000; stroke-width:4; stroke-opacity:1; fill:none\" points=\"\n",
       "  136.76,1445.72 163.352,1445.72 \n",
       "  \"/>\n",
       "<polyline clip-path=\"url(#clip370)\" style=\"stroke:#000000; stroke-width:4; stroke-opacity:1; fill:none\" points=\"\n",
       "  136.76,993.136 163.352,993.136 \n",
       "  \"/>\n",
       "<polyline clip-path=\"url(#clip370)\" style=\"stroke:#000000; stroke-width:4; stroke-opacity:1; fill:none\" points=\"\n",
       "  136.76,540.556 163.352,540.556 \n",
       "  \"/>\n",
       "<polyline clip-path=\"url(#clip370)\" style=\"stroke:#000000; stroke-width:4; stroke-opacity:1; fill:none\" points=\"\n",
       "  136.76,87.9763 163.352,87.9763 \n",
       "  \"/>\n",
       "<path clip-path=\"url(#clip370)\" d=\"M 0 0 M88.816 1431.51 Q85.2049 1431.51 83.3762 1435.08 Q81.5707 1438.62 81.5707 1445.75 Q81.5707 1452.86 83.3762 1456.42 Q85.2049 1459.96 88.816 1459.96 Q92.4502 1459.96 94.2558 1456.42 Q96.0845 1452.86 96.0845 1445.75 Q96.0845 1438.62 94.2558 1435.08 Q92.4502 1431.51 88.816 1431.51 M88.816 1427.81 Q94.6262 1427.81 97.6817 1432.42 Q100.76 1437 100.76 1445.75 Q100.76 1454.48 97.6817 1459.08 Q94.6262 1463.67 88.816 1463.67 Q83.0058 1463.67 79.9272 1459.08 Q76.8716 1454.48 76.8716 1445.75 Q76.8716 1437 79.9272 1432.42 Q83.0058 1427.81 88.816 1427.81 Z\" fill=\"#000000\" fill-rule=\"evenodd\" fill-opacity=\"1\" /><path clip-path=\"url(#clip370)\" d=\"M 0 0 M53.8393 1006.48 L61.4782 1006.48 L61.4782 980.115 L53.168 981.782 L53.168 977.523 L61.4319 975.856 L66.1078 975.856 L66.1078 1006.48 L73.7466 1006.48 L73.7466 1010.42 L53.8393 1010.42 L53.8393 1006.48 Z\" fill=\"#000000\" fill-rule=\"evenodd\" fill-opacity=\"1\" /><path clip-path=\"url(#clip370)\" d=\"M 0 0 M88.816 978.935 Q85.2049 978.935 83.3762 982.499 Q81.5707 986.041 81.5707 993.171 Q81.5707 1000.28 83.3762 1003.84 Q85.2049 1007.38 88.816 1007.38 Q92.4502 1007.38 94.2558 1003.84 Q96.0845 1000.28 96.0845 993.171 Q96.0845 986.041 94.2558 982.499 Q92.4502 978.935 88.816 978.935 M88.816 975.231 Q94.6262 975.231 97.6817 979.837 Q100.76 984.421 100.76 993.171 Q100.76 1001.9 97.6817 1006.5 Q94.6262 1011.09 88.816 1011.09 Q83.0058 1011.09 79.9272 1006.5 Q76.8716 1001.9 76.8716 993.171 Q76.8716 984.421 79.9272 979.837 Q83.0058 975.231 88.816 975.231 Z\" fill=\"#000000\" fill-rule=\"evenodd\" fill-opacity=\"1\" /><path clip-path=\"url(#clip370)\" d=\"M 0 0 M57.4273 553.901 L73.7466 553.901 L73.7466 557.836 L51.8023 557.836 L51.8023 553.901 Q54.4643 551.146 59.0476 546.517 Q63.6541 541.864 64.8346 540.521 Q67.08 537.998 67.9596 536.262 Q68.8624 534.503 68.8624 532.813 Q68.8624 530.058 66.918 528.322 Q64.9967 526.586 61.8948 526.586 Q59.6958 526.586 57.2421 527.35 Q54.8115 528.114 52.0338 529.665 L52.0338 524.943 Q54.8578 523.808 57.3115 523.23 Q59.7652 522.651 61.8023 522.651 Q67.1726 522.651 70.367 525.336 Q73.5614 528.021 73.5614 532.512 Q73.5614 534.642 72.7513 536.563 Q71.9642 538.461 69.8578 541.054 Q69.2791 541.725 66.1772 544.943 Q63.0754 548.137 57.4273 553.901 Z\" fill=\"#000000\" fill-rule=\"evenodd\" fill-opacity=\"1\" /><path clip-path=\"url(#clip370)\" d=\"M 0 0 M88.816 526.355 Q85.2049 526.355 83.3762 529.92 Q81.5707 533.461 81.5707 540.591 Q81.5707 547.697 83.3762 551.262 Q85.2049 554.804 88.816 554.804 Q92.4502 554.804 94.2558 551.262 Q96.0845 547.697 96.0845 540.591 Q96.0845 533.461 94.2558 529.92 Q92.4502 526.355 88.816 526.355 M88.816 522.651 Q94.6262 522.651 97.6817 527.258 Q100.76 531.841 100.76 540.591 Q100.76 549.318 97.6817 553.924 Q94.6262 558.507 88.816 558.507 Q83.0058 558.507 79.9272 553.924 Q76.8716 549.318 76.8716 540.591 Q76.8716 531.841 79.9272 527.258 Q83.0058 522.651 88.816 522.651 Z\" fill=\"#000000\" fill-rule=\"evenodd\" fill-opacity=\"1\" /><path clip-path=\"url(#clip370)\" d=\"M 0 0 M66.617 86.6221 Q69.9735 87.3397 71.8485 89.6082 Q73.7466 91.8767 73.7466 95.21 Q73.7466 100.326 70.2281 103.127 Q66.7096 105.928 60.2282 105.928 Q58.0523 105.928 55.7375 105.488 Q53.4458 105.071 50.9921 104.215 L50.9921 99.7008 Q52.9366 100.835 55.2514 101.414 Q57.5662 101.992 60.0893 101.992 Q64.4874 101.992 66.7791 100.256 Q69.0939 98.5202 69.0939 95.21 Q69.0939 92.1545 66.9411 90.4415 Q64.8115 88.7054 60.9921 88.7054 L56.9643 88.7054 L56.9643 84.8629 L61.1773 84.8629 Q64.6263 84.8629 66.455 83.4971 Q68.2837 82.1083 68.2837 79.5157 Q68.2837 76.8537 66.3856 75.4416 Q64.5106 74.0064 60.9921 74.0064 Q59.0708 74.0064 56.8717 74.4231 Q54.6727 74.8398 52.0338 75.7194 L52.0338 71.5528 Q54.6958 70.812 57.0106 70.4416 Q59.3486 70.0713 61.4087 70.0713 Q66.7328 70.0713 69.8346 72.5018 Q72.9365 74.9092 72.9365 79.0296 Q72.9365 81.8999 71.2929 83.8907 Q69.6494 85.8582 66.617 86.6221 Z\" fill=\"#000000\" fill-rule=\"evenodd\" fill-opacity=\"1\" /><path clip-path=\"url(#clip370)\" d=\"M 0 0 M88.816 73.775 Q85.2049 73.775 83.3762 77.3398 Q81.5707 80.8814 81.5707 88.011 Q81.5707 95.1174 83.3762 98.6822 Q85.2049 102.224 88.816 102.224 Q92.4502 102.224 94.2558 98.6822 Q96.0845 95.1174 96.0845 88.011 Q96.0845 80.8814 94.2558 77.3398 Q92.4502 73.775 88.816 73.775 M88.816 70.0713 Q94.6262 70.0713 97.6817 74.6777 Q100.76 79.261 100.76 88.011 Q100.76 96.7378 97.6817 101.344 Q94.6262 105.928 88.816 105.928 Q83.0058 105.928 79.9272 101.344 Q76.8716 96.7378 76.8716 88.011 Q76.8716 79.261 79.9272 74.6777 Q83.0058 70.0713 88.816 70.0713 Z\" fill=\"#000000\" fill-rule=\"evenodd\" fill-opacity=\"1\" /><path clip-path=\"url(#clip372)\" d=\"\n",
       "M228.273 1400.46 L228.273 1445.72 L324.258 1445.72 L324.258 1400.46 L228.273 1400.46 L228.273 1400.46  Z\n",
       "  \" fill=\"#009af9\" fill-rule=\"evenodd\" fill-opacity=\"1\"/>\n",
       "<polyline clip-path=\"url(#clip372)\" style=\"stroke:#000000; stroke-width:4; stroke-opacity:1; fill:none\" points=\"\n",
       "  228.273,1400.46 228.273,1445.72 324.258,1445.72 324.258,1400.46 228.273,1400.46 \n",
       "  \"/>\n",
       "<path clip-path=\"url(#clip372)\" d=\"\n",
       "M324.258 1355.2 L324.258 1445.72 L420.244 1445.72 L420.244 1355.2 L324.258 1355.2 L324.258 1355.2  Z\n",
       "  \" fill=\"#009af9\" fill-rule=\"evenodd\" fill-opacity=\"1\"/>\n",
       "<polyline clip-path=\"url(#clip372)\" style=\"stroke:#000000; stroke-width:4; stroke-opacity:1; fill:none\" points=\"\n",
       "  324.258,1355.2 324.258,1445.72 420.244,1445.72 420.244,1355.2 324.258,1355.2 \n",
       "  \"/>\n",
       "<path clip-path=\"url(#clip372)\" d=\"\n",
       "M420.244 857.362 L420.244 1445.72 L516.229 1445.72 L516.229 857.362 L420.244 857.362 L420.244 857.362  Z\n",
       "  \" fill=\"#009af9\" fill-rule=\"evenodd\" fill-opacity=\"1\"/>\n",
       "<polyline clip-path=\"url(#clip372)\" style=\"stroke:#000000; stroke-width:4; stroke-opacity:1; fill:none\" points=\"\n",
       "  420.244,857.362 420.244,1445.72 516.229,1445.72 516.229,857.362 420.244,857.362 \n",
       "  \"/>\n",
       "<path clip-path=\"url(#clip372)\" d=\"\n",
       "M516.229 812.104 L516.229 1445.72 L612.214 1445.72 L612.214 812.104 L516.229 812.104 L516.229 812.104  Z\n",
       "  \" fill=\"#009af9\" fill-rule=\"evenodd\" fill-opacity=\"1\"/>\n",
       "<polyline clip-path=\"url(#clip372)\" style=\"stroke:#000000; stroke-width:4; stroke-opacity:1; fill:none\" points=\"\n",
       "  516.229,812.104 516.229,1445.72 612.214,1445.72 612.214,812.104 516.229,812.104 \n",
       "  \"/>\n",
       "<path clip-path=\"url(#clip372)\" d=\"\n",
       "M612.214 314.266 L612.214 1445.72 L708.2 1445.72 L708.2 314.266 L612.214 314.266 L612.214 314.266  Z\n",
       "  \" fill=\"#009af9\" fill-rule=\"evenodd\" fill-opacity=\"1\"/>\n",
       "<polyline clip-path=\"url(#clip372)\" style=\"stroke:#000000; stroke-width:4; stroke-opacity:1; fill:none\" points=\"\n",
       "  612.214,314.266 612.214,1445.72 708.2,1445.72 708.2,314.266 612.214,314.266 \n",
       "  \"/>\n",
       "<path clip-path=\"url(#clip372)\" d=\"\n",
       "M708.2 676.33 L708.2 1445.72 L804.185 1445.72 L804.185 676.33 L708.2 676.33 L708.2 676.33  Z\n",
       "  \" fill=\"#009af9\" fill-rule=\"evenodd\" fill-opacity=\"1\"/>\n",
       "<polyline clip-path=\"url(#clip372)\" style=\"stroke:#000000; stroke-width:4; stroke-opacity:1; fill:none\" points=\"\n",
       "  708.2,676.33 708.2,1445.72 804.185,1445.72 804.185,676.33 708.2,676.33 \n",
       "  \"/>\n",
       "<path clip-path=\"url(#clip372)\" d=\"\n",
       "M804.185 857.362 L804.185 1445.72 L900.171 1445.72 L900.171 857.362 L804.185 857.362 L804.185 857.362  Z\n",
       "  \" fill=\"#009af9\" fill-rule=\"evenodd\" fill-opacity=\"1\"/>\n",
       "<polyline clip-path=\"url(#clip372)\" style=\"stroke:#000000; stroke-width:4; stroke-opacity:1; fill:none\" points=\"\n",
       "  804.185,857.362 804.185,1445.72 900.171,1445.72 900.171,857.362 804.185,857.362 \n",
       "  \"/>\n",
       "<path clip-path=\"url(#clip372)\" d=\"\n",
       "M900.171 1174.17 L900.171 1445.72 L996.156 1445.72 L996.156 1174.17 L900.171 1174.17 L900.171 1174.17  Z\n",
       "  \" fill=\"#009af9\" fill-rule=\"evenodd\" fill-opacity=\"1\"/>\n",
       "<polyline clip-path=\"url(#clip372)\" style=\"stroke:#000000; stroke-width:4; stroke-opacity:1; fill:none\" points=\"\n",
       "  900.171,1174.17 900.171,1445.72 996.156,1445.72 996.156,1174.17 900.171,1174.17 \n",
       "  \"/>\n",
       "<path clip-path=\"url(#clip372)\" d=\"\n",
       "M996.156 1174.17 L996.156 1445.72 L1092.14 1445.72 L1092.14 1174.17 L996.156 1174.17 L996.156 1174.17  Z\n",
       "  \" fill=\"#009af9\" fill-rule=\"evenodd\" fill-opacity=\"1\"/>\n",
       "<polyline clip-path=\"url(#clip372)\" style=\"stroke:#000000; stroke-width:4; stroke-opacity:1; fill:none\" points=\"\n",
       "  996.156,1174.17 996.156,1445.72 1092.14,1445.72 1092.14,1174.17 996.156,1174.17 \n",
       "  \"/>\n",
       "<path clip-path=\"url(#clip372)\" d=\"\n",
       "M1092.14 1309.94 L1092.14 1445.72 L1188.13 1445.72 L1188.13 1309.94 L1092.14 1309.94 L1092.14 1309.94  Z\n",
       "  \" fill=\"#009af9\" fill-rule=\"evenodd\" fill-opacity=\"1\"/>\n",
       "<polyline clip-path=\"url(#clip372)\" style=\"stroke:#000000; stroke-width:4; stroke-opacity:1; fill:none\" points=\"\n",
       "  1092.14,1309.94 1092.14,1445.72 1188.13,1445.72 1188.13,1309.94 1092.14,1309.94 \n",
       "  \"/>\n",
       "<path clip-path=\"url(#clip372)\" d=\"\n",
       "M516.229 1128.91 L516.229 1445.72 L708.2 1445.72 L708.2 1128.91 L516.229 1128.91 L516.229 1128.91  Z\n",
       "  \" fill=\"#e26f46\" fill-rule=\"evenodd\" fill-opacity=\"1\"/>\n",
       "<polyline clip-path=\"url(#clip372)\" style=\"stroke:#000000; stroke-width:4; stroke-opacity:1; fill:none\" points=\"\n",
       "  516.229,1128.91 516.229,1445.72 708.2,1445.72 708.2,1128.91 516.229,1128.91 \n",
       "  \"/>\n",
       "<path clip-path=\"url(#clip372)\" d=\"\n",
       "M708.2 540.556 L708.2 1445.72 L900.171 1445.72 L900.171 540.556 L708.2 540.556 L708.2 540.556  Z\n",
       "  \" fill=\"#e26f46\" fill-rule=\"evenodd\" fill-opacity=\"1\"/>\n",
       "<polyline clip-path=\"url(#clip372)\" style=\"stroke:#000000; stroke-width:4; stroke-opacity:1; fill:none\" points=\"\n",
       "  708.2,540.556 708.2,1445.72 900.171,1445.72 900.171,540.556 708.2,540.556 \n",
       "  \"/>\n",
       "<path clip-path=\"url(#clip372)\" d=\"\n",
       "M900.171 223.75 L900.171 1445.72 L1092.14 1445.72 L1092.14 223.75 L900.171 223.75 L900.171 223.75  Z\n",
       "  \" fill=\"#e26f46\" fill-rule=\"evenodd\" fill-opacity=\"1\"/>\n",
       "<polyline clip-path=\"url(#clip372)\" style=\"stroke:#000000; stroke-width:4; stroke-opacity:1; fill:none\" points=\"\n",
       "  900.171,223.75 900.171,1445.72 1092.14,1445.72 1092.14,223.75 900.171,223.75 \n",
       "  \"/>\n",
       "<path clip-path=\"url(#clip372)\" d=\"\n",
       "M1092.14 314.266 L1092.14 1445.72 L1284.11 1445.72 L1284.11 314.266 L1092.14 314.266 L1092.14 314.266  Z\n",
       "  \" fill=\"#e26f46\" fill-rule=\"evenodd\" fill-opacity=\"1\"/>\n",
       "<polyline clip-path=\"url(#clip372)\" style=\"stroke:#000000; stroke-width:4; stroke-opacity:1; fill:none\" points=\"\n",
       "  1092.14,314.266 1092.14,1445.72 1284.11,1445.72 1284.11,314.266 1092.14,314.266 \n",
       "  \"/>\n",
       "<path clip-path=\"url(#clip372)\" d=\"\n",
       "M1284.11 902.62 L1284.11 1445.72 L1476.08 1445.72 L1476.08 902.62 L1284.11 902.62 L1284.11 902.62  Z\n",
       "  \" fill=\"#e26f46\" fill-rule=\"evenodd\" fill-opacity=\"1\"/>\n",
       "<polyline clip-path=\"url(#clip372)\" style=\"stroke:#000000; stroke-width:4; stroke-opacity:1; fill:none\" points=\"\n",
       "  1284.11,902.62 1284.11,1445.72 1476.08,1445.72 1476.08,902.62 1284.11,902.62 \n",
       "  \"/>\n",
       "<path clip-path=\"url(#clip372)\" d=\"\n",
       "M1476.08 1128.91 L1476.08 1445.72 L1668.05 1445.72 L1668.05 1128.91 L1476.08 1128.91 L1476.08 1128.91  Z\n",
       "  \" fill=\"#e26f46\" fill-rule=\"evenodd\" fill-opacity=\"1\"/>\n",
       "<polyline clip-path=\"url(#clip372)\" style=\"stroke:#000000; stroke-width:4; stroke-opacity:1; fill:none\" points=\"\n",
       "  1476.08,1128.91 1476.08,1445.72 1668.05,1445.72 1668.05,1128.91 1476.08,1128.91 \n",
       "  \"/>\n",
       "<path clip-path=\"url(#clip372)\" d=\"\n",
       "M1668.05 1400.46 L1668.05 1445.72 L1860.02 1445.72 L1860.02 1400.46 L1668.05 1400.46 L1668.05 1400.46  Z\n",
       "  \" fill=\"#e26f46\" fill-rule=\"evenodd\" fill-opacity=\"1\"/>\n",
       "<polyline clip-path=\"url(#clip372)\" style=\"stroke:#000000; stroke-width:4; stroke-opacity:1; fill:none\" points=\"\n",
       "  1668.05,1400.46 1668.05,1445.72 1860.02,1445.72 1860.02,1400.46 1668.05,1400.46 \n",
       "  \"/>\n",
       "<path clip-path=\"url(#clip372)\" d=\"\n",
       "M1860.02 1400.46 L1860.02 1445.72 L2052 1445.72 L2052 1400.46 L1860.02 1400.46 L1860.02 1400.46  Z\n",
       "  \" fill=\"#e26f46\" fill-rule=\"evenodd\" fill-opacity=\"1\"/>\n",
       "<polyline clip-path=\"url(#clip372)\" style=\"stroke:#000000; stroke-width:4; stroke-opacity:1; fill:none\" points=\"\n",
       "  1860.02,1400.46 1860.02,1445.72 2052,1445.72 2052,1400.46 1860.02,1400.46 \n",
       "  \"/>\n",
       "<path clip-path=\"url(#clip372)\" d=\"\n",
       "M708.2 1038.39 L708.2 1445.72 L900.171 1445.72 L900.171 1038.39 L708.2 1038.39 L708.2 1038.39  Z\n",
       "  \" fill=\"#3da44d\" fill-rule=\"evenodd\" fill-opacity=\"1\"/>\n",
       "<polyline clip-path=\"url(#clip372)\" style=\"stroke:#000000; stroke-width:4; stroke-opacity:1; fill:none\" points=\"\n",
       "  708.2,1038.39 708.2,1445.72 900.171,1445.72 900.171,1038.39 708.2,1038.39 \n",
       "  \"/>\n",
       "<path clip-path=\"url(#clip372)\" d=\"\n",
       "M900.171 766.846 L900.171 1445.72 L1092.14 1445.72 L1092.14 766.846 L900.171 766.846 L900.171 766.846  Z\n",
       "  \" fill=\"#3da44d\" fill-rule=\"evenodd\" fill-opacity=\"1\"/>\n",
       "<polyline clip-path=\"url(#clip372)\" style=\"stroke:#000000; stroke-width:4; stroke-opacity:1; fill:none\" points=\"\n",
       "  900.171,766.846 900.171,1445.72 1092.14,1445.72 1092.14,766.846 900.171,766.846 \n",
       "  \"/>\n",
       "<path clip-path=\"url(#clip372)\" d=\"\n",
       "M1092.14 87.9763 L1092.14 1445.72 L1284.11 1445.72 L1284.11 87.9763 L1092.14 87.9763 L1092.14 87.9763  Z\n",
       "  \" fill=\"#3da44d\" fill-rule=\"evenodd\" fill-opacity=\"1\"/>\n",
       "<polyline clip-path=\"url(#clip372)\" style=\"stroke:#000000; stroke-width:4; stroke-opacity:1; fill:none\" points=\"\n",
       "  1092.14,87.9763 1092.14,1445.72 1284.11,1445.72 1284.11,87.9763 1092.14,87.9763 \n",
       "  \"/>\n",
       "<path clip-path=\"url(#clip372)\" d=\"\n",
       "M1284.11 902.62 L1284.11 1445.72 L1476.08 1445.72 L1476.08 902.62 L1284.11 902.62 L1284.11 902.62  Z\n",
       "  \" fill=\"#3da44d\" fill-rule=\"evenodd\" fill-opacity=\"1\"/>\n",
       "<polyline clip-path=\"url(#clip372)\" style=\"stroke:#000000; stroke-width:4; stroke-opacity:1; fill:none\" points=\"\n",
       "  1284.11,902.62 1284.11,1445.72 1476.08,1445.72 1476.08,902.62 1284.11,902.62 \n",
       "  \"/>\n",
       "<path clip-path=\"url(#clip372)\" d=\"\n",
       "M1476.08 676.33 L1476.08 1445.72 L1668.05 1445.72 L1668.05 676.33 L1476.08 676.33 L1476.08 676.33  Z\n",
       "  \" fill=\"#3da44d\" fill-rule=\"evenodd\" fill-opacity=\"1\"/>\n",
       "<polyline clip-path=\"url(#clip372)\" style=\"stroke:#000000; stroke-width:4; stroke-opacity:1; fill:none\" points=\"\n",
       "  1476.08,676.33 1476.08,1445.72 1668.05,1445.72 1668.05,676.33 1476.08,676.33 \n",
       "  \"/>\n",
       "<path clip-path=\"url(#clip372)\" d=\"\n",
       "M1668.05 993.136 L1668.05 1445.72 L1860.02 1445.72 L1860.02 993.136 L1668.05 993.136 L1668.05 993.136  Z\n",
       "  \" fill=\"#3da44d\" fill-rule=\"evenodd\" fill-opacity=\"1\"/>\n",
       "<polyline clip-path=\"url(#clip372)\" style=\"stroke:#000000; stroke-width:4; stroke-opacity:1; fill:none\" points=\"\n",
       "  1668.05,993.136 1668.05,1445.72 1860.02,1445.72 1860.02,993.136 1668.05,993.136 \n",
       "  \"/>\n",
       "<path clip-path=\"url(#clip372)\" d=\"\n",
       "M1860.02 1309.94 L1860.02 1445.72 L2052 1445.72 L2052 1309.94 L1860.02 1309.94 L1860.02 1309.94  Z\n",
       "  \" fill=\"#3da44d\" fill-rule=\"evenodd\" fill-opacity=\"1\"/>\n",
       "<polyline clip-path=\"url(#clip372)\" style=\"stroke:#000000; stroke-width:4; stroke-opacity:1; fill:none\" points=\"\n",
       "  1860.02,1309.94 1860.02,1445.72 2052,1445.72 2052,1309.94 1860.02,1309.94 \n",
       "  \"/>\n",
       "<path clip-path=\"url(#clip372)\" d=\"\n",
       "M2052 1264.68 L2052 1445.72 L2243.97 1445.72 L2243.97 1264.68 L2052 1264.68 L2052 1264.68  Z\n",
       "  \" fill=\"#3da44d\" fill-rule=\"evenodd\" fill-opacity=\"1\"/>\n",
       "<polyline clip-path=\"url(#clip372)\" style=\"stroke:#000000; stroke-width:4; stroke-opacity:1; fill:none\" points=\"\n",
       "  2052,1264.68 2052,1445.72 2243.97,1445.72 2243.97,1264.68 2052,1264.68 \n",
       "  \"/>\n",
       "<path clip-path=\"url(#clip370)\" d=\"\n",
       "M1981.07 337.138 L2278.89 337.138 L2278.89 95.2176 L1981.07 95.2176  Z\n",
       "  \" fill=\"#ffffff\" fill-rule=\"evenodd\" fill-opacity=\"1\"/>\n",
       "<polyline clip-path=\"url(#clip370)\" style=\"stroke:#000000; stroke-width:4; stroke-opacity:1; fill:none\" points=\"\n",
       "  1981.07,337.138 2278.89,337.138 2278.89,95.2176 1981.07,95.2176 1981.07,337.138 \n",
       "  \"/>\n",
       "<path clip-path=\"url(#clip370)\" d=\"\n",
       "M2005.69 179.89 L2153.43 179.89 L2153.43 131.506 L2005.69 131.506 L2005.69 179.89  Z\n",
       "  \" fill=\"#009af9\" fill-rule=\"evenodd\" fill-opacity=\"1\"/>\n",
       "<polyline clip-path=\"url(#clip370)\" style=\"stroke:#000000; stroke-width:4; stroke-opacity:1; fill:none\" points=\"\n",
       "  2005.69,179.89 2153.43,179.89 2153.43,131.506 2005.69,131.506 2005.69,179.89 \n",
       "  \"/>\n",
       "<path clip-path=\"url(#clip370)\" d=\"M 0 0 M2191.89 175.385 Q2190.09 180.015 2188.37 181.427 Q2186.66 182.839 2183.79 182.839 L2180.39 182.839 L2180.39 179.274 L2182.89 179.274 Q2184.65 179.274 2185.62 178.44 Q2186.59 177.607 2187.77 174.505 L2188.53 172.561 L2178.05 147.052 L2182.56 147.052 L2190.66 167.329 L2198.77 147.052 L2203.28 147.052 L2191.89 175.385 Z\" fill=\"#000000\" fill-rule=\"evenodd\" fill-opacity=\"1\" /><path clip-path=\"url(#clip370)\" d=\"M 0 0 M2209.16 169.042 L2216.8 169.042 L2216.8 142.677 L2208.49 144.343 L2208.49 140.084 L2216.75 138.418 L2221.43 138.418 L2221.43 169.042 L2229.07 169.042 L2229.07 172.978 L2209.16 172.978 L2209.16 169.042 Z\" fill=\"#000000\" fill-rule=\"evenodd\" fill-opacity=\"1\" /><path clip-path=\"url(#clip370)\" d=\"\n",
       "M2005.69 240.37 L2153.43 240.37 L2153.43 191.986 L2005.69 191.986 L2005.69 240.37  Z\n",
       "  \" fill=\"#e26f46\" fill-rule=\"evenodd\" fill-opacity=\"1\"/>\n",
       "<polyline clip-path=\"url(#clip370)\" style=\"stroke:#000000; stroke-width:4; stroke-opacity:1; fill:none\" points=\"\n",
       "  2005.69,240.37 2153.43,240.37 2153.43,191.986 2005.69,191.986 2005.69,240.37 \n",
       "  \"/>\n",
       "<path clip-path=\"url(#clip370)\" d=\"M 0 0 M2191.89 235.865 Q2190.09 240.495 2188.37 241.907 Q2186.66 243.319 2183.79 243.319 L2180.39 243.319 L2180.39 239.754 L2182.89 239.754 Q2184.65 239.754 2185.62 238.92 Q2186.59 238.087 2187.77 234.985 L2188.53 233.041 L2178.05 207.532 L2182.56 207.532 L2190.66 227.809 L2198.77 207.532 L2203.28 207.532 L2191.89 235.865 Z\" fill=\"#000000\" fill-rule=\"evenodd\" fill-opacity=\"1\" /><path clip-path=\"url(#clip370)\" d=\"M 0 0 M2212.38 229.522 L2228.7 229.522 L2228.7 233.458 L2206.75 233.458 L2206.75 229.522 Q2209.41 226.768 2214 222.138 Q2218.6 217.485 2219.78 216.143 Q2222.03 213.62 2222.91 211.884 Q2223.81 210.124 2223.81 208.435 Q2223.81 205.68 2221.87 203.944 Q2219.95 202.208 2216.84 202.208 Q2214.65 202.208 2212.19 202.972 Q2209.76 203.735 2206.98 205.286 L2206.98 200.564 Q2209.81 199.43 2212.26 198.851 Q2214.71 198.273 2216.75 198.273 Q2222.12 198.273 2225.32 200.958 Q2228.51 203.643 2228.51 208.134 Q2228.51 210.263 2227.7 212.185 Q2226.91 214.083 2224.81 216.675 Q2224.23 217.347 2221.13 220.564 Q2218.02 223.759 2212.38 229.522 Z\" fill=\"#000000\" fill-rule=\"evenodd\" fill-opacity=\"1\" /><path clip-path=\"url(#clip370)\" d=\"\n",
       "M2005.69 300.85 L2153.43 300.85 L2153.43 252.466 L2005.69 252.466 L2005.69 300.85  Z\n",
       "  \" fill=\"#3da44d\" fill-rule=\"evenodd\" fill-opacity=\"1\"/>\n",
       "<polyline clip-path=\"url(#clip370)\" style=\"stroke:#000000; stroke-width:4; stroke-opacity:1; fill:none\" points=\"\n",
       "  2005.69,300.85 2153.43,300.85 2153.43,252.466 2005.69,252.466 2005.69,300.85 \n",
       "  \"/>\n",
       "<path clip-path=\"url(#clip370)\" d=\"M 0 0 M2191.89 296.345 Q2190.09 300.975 2188.37 302.387 Q2186.66 303.799 2183.79 303.799 L2180.39 303.799 L2180.39 300.234 L2182.89 300.234 Q2184.65 300.234 2185.62 299.4 Q2186.59 298.567 2187.77 295.465 L2188.53 293.521 L2178.05 268.012 L2182.56 268.012 L2190.66 288.289 L2198.77 268.012 L2203.28 268.012 L2191.89 296.345 Z\" fill=\"#000000\" fill-rule=\"evenodd\" fill-opacity=\"1\" /><path clip-path=\"url(#clip370)\" d=\"M 0 0 M2222.52 275.303 Q2225.87 276.021 2227.75 278.289 Q2229.65 280.558 2229.65 283.891 Q2229.65 289.007 2226.13 291.808 Q2222.61 294.609 2216.13 294.609 Q2213.95 294.609 2211.64 294.169 Q2209.34 293.752 2206.89 292.896 L2206.89 288.382 Q2208.83 289.516 2211.15 290.095 Q2213.46 290.674 2215.99 290.674 Q2220.39 290.674 2222.68 288.938 Q2224.99 287.201 2224.99 283.891 Q2224.99 280.836 2222.84 279.123 Q2220.71 277.387 2216.89 277.387 L2212.86 277.387 L2212.86 273.544 L2217.08 273.544 Q2220.52 273.544 2222.35 272.178 Q2224.18 270.79 2224.18 268.197 Q2224.18 265.535 2222.28 264.123 Q2220.41 262.688 2216.89 262.688 Q2214.97 262.688 2212.77 263.104 Q2210.57 263.521 2207.93 264.401 L2207.93 260.234 Q2210.59 259.493 2212.91 259.123 Q2215.25 258.753 2217.31 258.753 Q2222.63 258.753 2225.73 261.183 Q2228.83 263.59 2228.83 267.711 Q2228.83 270.581 2227.19 272.572 Q2225.55 274.54 2222.52 275.303 Z\" fill=\"#000000\" fill-rule=\"evenodd\" fill-opacity=\"1\" /></svg>\n"
      ]
     },
     "execution_count": 107,
     "metadata": {},
     "output_type": "execute_result"
    }
   ],
   "source": [
    "histogram([data1 data2 data3])"
   ]
  },
  {
   "cell_type": "code",
   "execution_count": 117,
   "metadata": {},
   "outputs": [
    {
     "data": {
      "text/plain": [
       "0.19904586250172684"
      ]
     },
     "execution_count": 117,
     "metadata": {},
     "output_type": "execute_result"
    }
   ],
   "source": [
    "mean([norma_diferenciapos(lista_extensioneslineales, (ruido(lista_extensioneslineales, 6, 10) |> unique!)) for _ in 1:10^2])"
   ]
  },
  {
   "cell_type": "markdown",
   "metadata": {},
   "source": [
    "Se calcula la grafica"
   ]
  },
  {
   "cell_type": "code",
   "execution_count": 63,
   "metadata": {},
   "outputs": [],
   "source": [
    "writedlm(\"figs/ruido_x1_0p95.dat\", αcut_poset(poset_mn_old, .95))"
   ]
  },
  {
   "cell_type": "code",
   "execution_count": 64,
   "metadata": {},
   "outputs": [
    {
     "name": "stdout",
     "output_type": "stream",
     "text": [
      "figs/ruido_x1_0p95.png\n"
     ]
    }
   ],
   "source": [
    ";./script.wl figs/ruido_x1_0p95.dat"
   ]
  },
  {
   "cell_type": "markdown",
   "metadata": {},
   "source": [
    "![ejemplo](figs/ruido_x1_0p95.png)"
   ]
  },
  {
   "cell_type": "markdown",
   "metadata": {},
   "source": [
    "## colores"
   ]
  },
  {
   "cell_type": "code",
   "execution_count": 20,
   "metadata": {},
   "outputs": [],
   "source": [
    "white_matrix = Array{RGB{Float64},2}(undef, 20, 20);"
   ]
  },
  {
   "cell_type": "code",
   "execution_count": 24,
   "metadata": {},
   "outputs": [],
   "source": [
    "for i in 1:20, j in 1:20\n",
    " white_matrix[i,j] = RGB(mean([norma_diferenciapos(lista_extensioneslineales, (ruido(lista_extensioneslineales, i,j) |> unique!)) for _ in 1:10^2]),0,0)\n",
    "end"
   ]
  },
  {
   "cell_type": "code",
   "execution_count": 26,
   "metadata": {},
   "outputs": [],
   "source": [
    "white_matrix = zeros(Float64, 20,20);#Array{RGB{Float64},2}(undef, 20, 20);"
   ]
  },
  {
   "cell_type": "code",
   "execution_count": 27,
   "metadata": {},
   "outputs": [],
   "source": [
    "for i in 1:20, j in 1:20\n",
    " white_matrix[i,j] =mean([norma_diferenciapos(lista_extensioneslineales, (ruido(lista_extensioneslineales, i,j) |> unique!)) for _ in 1:10^2])\n",
    "end"
   ]
  },
  {
   "cell_type": "code",
   "execution_count": 34,
   "metadata": {},
   "outputs": [
    {
     "data": {
      "image/svg+xml": [
       "<?xml version=\"1.0\" encoding=\"utf-8\"?>\n",
       "<svg xmlns=\"http://www.w3.org/2000/svg\" xmlns:xlink=\"http://www.w3.org/1999/xlink\" width=\"600\" height=\"400\" viewBox=\"0 0 2400 1600\">\n",
       "<defs>\n",
       "  <clipPath id=\"clip200\">\n",
       "    <rect x=\"0\" y=\"0\" width=\"2400\" height=\"1600\"/>\n",
       "  </clipPath>\n",
       "</defs>\n",
       "<path clip-path=\"url(#clip200)\" d=\"\n",
       "M0 1600 L2400 1600 L2400 0 L0 0  Z\n",
       "  \" fill=\"#ffffff\" fill-rule=\"evenodd\" fill-opacity=\"1\"/>\n",
       "<defs>\n",
       "  <clipPath id=\"clip201\">\n",
       "    <rect x=\"480\" y=\"0\" width=\"1681\" height=\"1600\"/>\n",
       "  </clipPath>\n",
       "</defs>\n",
       "<path clip-path=\"url(#clip200)\" d=\"\n",
       "M468.019 1423.18 L1843.95 1423.18 L1843.95 47.2441 L468.019 47.2441  Z\n",
       "  \" fill=\"#ffffff\" fill-rule=\"evenodd\" fill-opacity=\"1\"/>\n",
       "<defs>\n",
       "  <clipPath id=\"clip202\">\n",
       "    <rect x=\"468\" y=\"47\" width=\"1377\" height=\"1377\"/>\n",
       "  </clipPath>\n",
       "</defs>\n",
       "<polyline clip-path=\"url(#clip202)\" style=\"stroke:#000000; stroke-width:2; stroke-opacity:0.1; fill:none\" points=\"\n",
       "  468.019,1423.18 468.019,47.2441 \n",
       "  \"/>\n",
       "<polyline clip-path=\"url(#clip202)\" style=\"stroke:#000000; stroke-width:2; stroke-opacity:0.1; fill:none\" points=\"\n",
       "  812.003,1423.18 812.003,47.2441 \n",
       "  \"/>\n",
       "<polyline clip-path=\"url(#clip202)\" style=\"stroke:#000000; stroke-width:2; stroke-opacity:0.1; fill:none\" points=\"\n",
       "  1155.99,1423.18 1155.99,47.2441 \n",
       "  \"/>\n",
       "<polyline clip-path=\"url(#clip202)\" style=\"stroke:#000000; stroke-width:2; stroke-opacity:0.1; fill:none\" points=\"\n",
       "  1499.97,1423.18 1499.97,47.2441 \n",
       "  \"/>\n",
       "<polyline clip-path=\"url(#clip202)\" style=\"stroke:#000000; stroke-width:2; stroke-opacity:0.1; fill:none\" points=\"\n",
       "  1843.95,1423.18 1843.95,47.2441 \n",
       "  \"/>\n",
       "<polyline clip-path=\"url(#clip200)\" style=\"stroke:#000000; stroke-width:4; stroke-opacity:1; fill:none\" points=\"\n",
       "  468.019,1423.18 1843.95,1423.18 \n",
       "  \"/>\n",
       "<polyline clip-path=\"url(#clip200)\" style=\"stroke:#000000; stroke-width:4; stroke-opacity:1; fill:none\" points=\"\n",
       "  468.019,1423.18 468.019,1406.67 \n",
       "  \"/>\n",
       "<polyline clip-path=\"url(#clip200)\" style=\"stroke:#000000; stroke-width:4; stroke-opacity:1; fill:none\" points=\"\n",
       "  812.003,1423.18 812.003,1406.67 \n",
       "  \"/>\n",
       "<polyline clip-path=\"url(#clip200)\" style=\"stroke:#000000; stroke-width:4; stroke-opacity:1; fill:none\" points=\"\n",
       "  1155.99,1423.18 1155.99,1406.67 \n",
       "  \"/>\n",
       "<polyline clip-path=\"url(#clip200)\" style=\"stroke:#000000; stroke-width:4; stroke-opacity:1; fill:none\" points=\"\n",
       "  1499.97,1423.18 1499.97,1406.67 \n",
       "  \"/>\n",
       "<polyline clip-path=\"url(#clip200)\" style=\"stroke:#000000; stroke-width:4; stroke-opacity:1; fill:none\" points=\"\n",
       "  1843.95,1423.18 1843.95,1406.67 \n",
       "  \"/>\n",
       "<path clip-path=\"url(#clip200)\" d=\"M 0 0 M468.019 1452.37 Q464.408 1452.37 462.579 1455.94 Q460.774 1459.48 460.774 1466.61 Q460.774 1473.71 462.579 1477.28 Q464.408 1480.82 468.019 1480.82 Q471.653 1480.82 473.459 1477.28 Q475.288 1473.71 475.288 1466.61 Q475.288 1459.48 473.459 1455.94 Q471.653 1452.37 468.019 1452.37 M468.019 1448.67 Q473.829 1448.67 476.885 1453.27 Q479.964 1457.86 479.964 1466.61 Q479.964 1475.33 476.885 1479.94 Q473.829 1484.52 468.019 1484.52 Q462.209 1484.52 459.13 1479.94 Q456.075 1475.33 456.075 1466.61 Q456.075 1457.86 459.13 1453.27 Q462.209 1448.67 468.019 1448.67 Z\" fill=\"#000000\" fill-rule=\"evenodd\" fill-opacity=\"1\" /><path clip-path=\"url(#clip200)\" d=\"M 0 0 M802.281 1449.29 L820.637 1449.29 L820.637 1453.23 L806.563 1453.23 L806.563 1461.7 Q807.582 1461.35 808.6 1461.19 Q809.619 1461 810.637 1461 Q816.424 1461 819.804 1464.18 Q823.184 1467.35 823.184 1472.76 Q823.184 1478.34 819.711 1481.44 Q816.239 1484.52 809.92 1484.52 Q807.744 1484.52 805.475 1484.15 Q803.23 1483.78 800.823 1483.04 L800.823 1478.34 Q802.906 1479.48 805.128 1480.03 Q807.35 1480.59 809.827 1480.59 Q813.832 1480.59 816.17 1478.48 Q818.508 1476.38 818.508 1472.76 Q818.508 1469.15 816.17 1467.05 Q813.832 1464.94 809.827 1464.94 Q807.952 1464.94 806.077 1465.36 Q804.225 1465.77 802.281 1466.65 L802.281 1449.29 Z\" fill=\"#000000\" fill-rule=\"evenodd\" fill-opacity=\"1\" /><path clip-path=\"url(#clip200)\" d=\"M 0 0 M1132.86 1479.92 L1140.5 1479.92 L1140.5 1453.55 L1132.19 1455.22 L1132.19 1450.96 L1140.45 1449.29 L1145.13 1449.29 L1145.13 1479.92 L1152.77 1479.92 L1152.77 1483.85 L1132.86 1483.85 L1132.86 1479.92 Z\" fill=\"#000000\" fill-rule=\"evenodd\" fill-opacity=\"1\" /><path clip-path=\"url(#clip200)\" d=\"M 0 0 M1167.84 1452.37 Q1164.23 1452.37 1162.4 1455.94 Q1160.59 1459.48 1160.59 1466.61 Q1160.59 1473.71 1162.4 1477.28 Q1164.23 1480.82 1167.84 1480.82 Q1171.47 1480.82 1173.28 1477.28 Q1175.11 1473.71 1175.11 1466.61 Q1175.11 1459.48 1173.28 1455.94 Q1171.47 1452.37 1167.84 1452.37 M1167.84 1448.67 Q1173.65 1448.67 1176.7 1453.27 Q1179.78 1457.86 1179.78 1466.61 Q1179.78 1475.33 1176.7 1479.94 Q1173.65 1484.52 1167.84 1484.52 Q1162.03 1484.52 1158.95 1479.94 Q1155.89 1475.33 1155.89 1466.61 Q1155.89 1457.86 1158.95 1453.27 Q1162.03 1448.67 1167.84 1448.67 Z\" fill=\"#000000\" fill-rule=\"evenodd\" fill-opacity=\"1\" /><path clip-path=\"url(#clip200)\" d=\"M 0 0 M1477.34 1479.92 L1484.98 1479.92 L1484.98 1453.55 L1476.67 1455.22 L1476.67 1450.96 L1484.94 1449.29 L1489.61 1449.29 L1489.61 1479.92 L1497.25 1479.92 L1497.25 1483.85 L1477.34 1483.85 L1477.34 1479.92 Z\" fill=\"#000000\" fill-rule=\"evenodd\" fill-opacity=\"1\" /><path clip-path=\"url(#clip200)\" d=\"M 0 0 M1502.37 1449.29 L1520.72 1449.29 L1520.72 1453.23 L1506.65 1453.23 L1506.65 1461.7 Q1507.67 1461.35 1508.69 1461.19 Q1509.7 1461 1510.72 1461 Q1516.51 1461 1519.89 1464.18 Q1523.27 1467.35 1523.27 1472.76 Q1523.27 1478.34 1519.8 1481.44 Q1516.33 1484.52 1510.01 1484.52 Q1507.83 1484.52 1505.56 1484.15 Q1503.32 1483.78 1500.91 1483.04 L1500.91 1478.34 Q1502.99 1479.48 1505.21 1480.03 Q1507.44 1480.59 1509.91 1480.59 Q1513.92 1480.59 1516.26 1478.48 Q1518.59 1476.38 1518.59 1472.76 Q1518.59 1469.15 1516.26 1467.05 Q1513.92 1464.94 1509.91 1464.94 Q1508.04 1464.94 1506.16 1465.36 Q1504.31 1465.77 1502.37 1466.65 L1502.37 1449.29 Z\" fill=\"#000000\" fill-rule=\"evenodd\" fill-opacity=\"1\" /><path clip-path=\"url(#clip200)\" d=\"M 0 0 M1825.1 1479.92 L1841.42 1479.92 L1841.42 1483.85 L1819.48 1483.85 L1819.48 1479.92 Q1822.14 1477.16 1826.72 1472.53 Q1831.33 1467.88 1832.51 1466.54 Q1834.75 1464.01 1835.63 1462.28 Q1836.54 1460.52 1836.54 1458.83 Q1836.54 1456.07 1834.59 1454.34 Q1832.67 1452.6 1829.57 1452.6 Q1827.37 1452.6 1824.92 1453.37 Q1822.49 1454.13 1819.71 1455.68 L1819.71 1450.96 Q1822.53 1449.82 1824.99 1449.25 Q1827.44 1448.67 1829.48 1448.67 Q1834.85 1448.67 1838.04 1451.35 Q1841.24 1454.04 1841.24 1458.53 Q1841.24 1460.66 1840.42 1462.58 Q1839.64 1464.48 1837.53 1467.07 Q1836.95 1467.74 1833.85 1470.96 Q1830.75 1474.15 1825.1 1479.92 Z\" fill=\"#000000\" fill-rule=\"evenodd\" fill-opacity=\"1\" /><path clip-path=\"url(#clip200)\" d=\"M 0 0 M1856.49 1452.37 Q1852.88 1452.37 1851.05 1455.94 Q1849.24 1459.48 1849.24 1466.61 Q1849.24 1473.71 1851.05 1477.28 Q1852.88 1480.82 1856.49 1480.82 Q1860.12 1480.82 1861.93 1477.28 Q1863.76 1473.71 1863.76 1466.61 Q1863.76 1459.48 1861.93 1455.94 Q1860.12 1452.37 1856.49 1452.37 M1856.49 1448.67 Q1862.3 1448.67 1865.36 1453.27 Q1868.43 1457.86 1868.43 1466.61 Q1868.43 1475.33 1865.36 1479.94 Q1862.3 1484.52 1856.49 1484.52 Q1850.68 1484.52 1847.6 1479.94 Q1844.55 1475.33 1844.55 1466.61 Q1844.55 1457.86 1847.6 1453.27 Q1850.68 1448.67 1856.49 1448.67 Z\" fill=\"#000000\" fill-rule=\"evenodd\" fill-opacity=\"1\" /><path clip-path=\"url(#clip200)\" d=\"M 0 0 M963.281 1534.53 L963.281 1556.04 L957.425 1556.04 L957.425 1534.72 Q957.425 1529.66 955.451 1527.14 Q953.478 1524.63 949.531 1524.63 Q944.789 1524.63 942.052 1527.65 Q939.314 1530.68 939.314 1535.9 L939.314 1556.04 L933.426 1556.04 L933.426 1520.4 L939.314 1520.4 L939.314 1525.93 Q941.415 1522.72 944.248 1521.13 Q947.112 1519.54 950.836 1519.54 Q956.979 1519.54 960.13 1523.36 Q963.281 1527.14 963.281 1534.53 Z\" fill=\"#000000\" fill-rule=\"evenodd\" fill-opacity=\"1\" /><path clip-path=\"url(#clip200)\" d=\"M 0 0 M968.819 1541.98 L968.819 1520.4 L974.676 1520.4 L974.676 1541.75 Q974.676 1546.81 976.649 1549.36 Q978.623 1551.87 982.569 1551.87 Q987.312 1551.87 990.049 1548.85 Q992.818 1545.83 992.818 1540.61 L992.818 1520.4 L998.675 1520.4 L998.675 1556.04 L992.818 1556.04 L992.818 1550.57 Q990.686 1553.82 987.853 1555.41 Q985.052 1556.97 981.328 1556.97 Q975.185 1556.97 972.002 1553.15 Q968.819 1549.33 968.819 1541.98 M983.556 1519.54 L983.556 1519.54 Z\" fill=\"#000000\" fill-rule=\"evenodd\" fill-opacity=\"1\" /><path clip-path=\"url(#clip200)\" d=\"M 0 0 M1032.57 1527.24 Q1034.77 1523.29 1037.82 1521.41 Q1040.88 1519.54 1045.02 1519.54 Q1050.59 1519.54 1053.61 1523.45 Q1056.63 1527.33 1056.63 1534.53 L1056.63 1556.04 L1050.75 1556.04 L1050.75 1534.72 Q1050.75 1529.59 1048.93 1527.11 Q1047.12 1524.63 1043.39 1524.63 Q1038.84 1524.63 1036.2 1527.65 Q1033.56 1530.68 1033.56 1535.9 L1033.56 1556.04 L1027.67 1556.04 L1027.67 1534.72 Q1027.67 1529.56 1025.86 1527.11 Q1024.04 1524.63 1020.25 1524.63 Q1015.77 1524.63 1013.12 1527.68 Q1010.48 1530.71 1010.48 1535.9 L1010.48 1556.04 L1004.59 1556.04 L1004.59 1520.4 L1010.48 1520.4 L1010.48 1525.93 Q1012.49 1522.66 1015.29 1521.1 Q1018.09 1519.54 1021.94 1519.54 Q1025.82 1519.54 1028.53 1521.51 Q1031.27 1523.48 1032.57 1527.24 Z\" fill=\"#000000\" fill-rule=\"evenodd\" fill-opacity=\"1\" /><path clip-path=\"url(#clip200)\" d=\"M 0 0 M1093.27 1536.76 L1093.27 1539.62 L1066.34 1539.62 Q1066.72 1545.67 1069.97 1548.85 Q1073.25 1552 1079.07 1552 Q1082.45 1552 1085.6 1551.17 Q1088.78 1550.35 1091.9 1548.69 L1091.9 1554.23 Q1088.75 1555.57 1085.44 1556.27 Q1082.13 1556.97 1078.72 1556.97 Q1070.19 1556.97 1065.2 1552 Q1060.23 1547.04 1060.23 1538.57 Q1060.23 1529.82 1064.94 1524.69 Q1069.68 1519.54 1077.7 1519.54 Q1084.9 1519.54 1089.07 1524.18 Q1093.27 1528.8 1093.27 1536.76 M1087.41 1535.04 Q1087.35 1530.23 1084.71 1527.37 Q1082.1 1524.5 1077.77 1524.5 Q1072.87 1524.5 1069.91 1527.27 Q1066.98 1530.04 1066.53 1535.07 L1087.41 1535.04 Z\" fill=\"#000000\" fill-rule=\"evenodd\" fill-opacity=\"1\" /><path clip-path=\"url(#clip200)\" d=\"M 0 0 M1120.07 1525.87 Q1119.08 1525.3 1117.9 1525.04 Q1116.76 1524.76 1115.36 1524.76 Q1110.39 1524.76 1107.72 1528 Q1105.08 1531.22 1105.08 1537.27 L1105.08 1556.04 L1099.19 1556.04 L1099.19 1520.4 L1105.08 1520.4 L1105.08 1525.93 Q1106.92 1522.69 1109.88 1521.13 Q1112.84 1519.54 1117.08 1519.54 Q1117.68 1519.54 1118.41 1519.63 Q1119.15 1519.7 1120.04 1519.85 L1120.07 1525.87 Z\" fill=\"#000000\" fill-rule=\"evenodd\" fill-opacity=\"1\" /><path clip-path=\"url(#clip200)\" d=\"M 0 0 M1138.59 1524.5 Q1133.88 1524.5 1131.14 1528.19 Q1128.41 1531.85 1128.41 1538.25 Q1128.41 1544.65 1131.11 1548.34 Q1133.85 1552 1138.59 1552 Q1143.27 1552 1146.01 1548.31 Q1148.75 1544.62 1148.75 1538.25 Q1148.75 1531.92 1146.01 1528.23 Q1143.27 1524.5 1138.59 1524.5 M1138.59 1519.54 Q1146.23 1519.54 1150.59 1524.5 Q1154.95 1529.47 1154.95 1538.25 Q1154.95 1547 1150.59 1552 Q1146.23 1556.97 1138.59 1556.97 Q1130.92 1556.97 1126.56 1552 Q1122.23 1547 1122.23 1538.25 Q1122.23 1529.47 1126.56 1524.5 Q1130.92 1519.54 1138.59 1519.54 Z\" fill=\"#000000\" fill-rule=\"evenodd\" fill-opacity=\"1\" /><path clip-path=\"url(#clip200)\" d=\"M 0 0 M1187.61 1510.27 L1187.61 1520.4 L1199.67 1520.4 L1199.67 1524.95 L1187.61 1524.95 L1187.61 1544.3 Q1187.61 1548.66 1188.79 1549.9 Q1190 1551.14 1193.66 1551.14 L1199.67 1551.14 L1199.67 1556.04 L1193.66 1556.04 Q1186.88 1556.04 1184.3 1553.53 Q1181.72 1550.98 1181.72 1544.3 L1181.72 1524.95 L1177.42 1524.95 L1177.42 1520.4 L1181.72 1520.4 L1181.72 1510.27 L1187.61 1510.27 Z\" fill=\"#000000\" fill-rule=\"evenodd\" fill-opacity=\"1\" /><path clip-path=\"url(#clip200)\" d=\"M 0 0 M1226.47 1525.87 Q1225.48 1525.3 1224.31 1525.04 Q1223.16 1524.76 1221.76 1524.76 Q1216.8 1524.76 1214.12 1528 Q1211.48 1531.22 1211.48 1537.27 L1211.48 1556.04 L1205.59 1556.04 L1205.59 1520.4 L1211.48 1520.4 L1211.48 1525.93 Q1213.33 1522.69 1216.29 1521.13 Q1219.25 1519.54 1223.48 1519.54 Q1224.08 1519.54 1224.82 1519.63 Q1225.55 1519.7 1226.44 1519.85 L1226.47 1525.87 Z\" fill=\"#000000\" fill-rule=\"evenodd\" fill-opacity=\"1\" /><path clip-path=\"url(#clip200)\" d=\"M 0 0 M1248.81 1538.12 Q1241.72 1538.12 1238.98 1539.75 Q1236.24 1541.37 1236.24 1545.29 Q1236.24 1548.4 1238.28 1550.25 Q1240.35 1552.07 1243.88 1552.07 Q1248.75 1552.07 1251.68 1548.63 Q1254.64 1545.16 1254.64 1539.43 L1254.64 1538.12 L1248.81 1538.12 M1260.5 1535.71 L1260.5 1556.04 L1254.64 1556.04 L1254.64 1550.63 Q1252.63 1553.88 1249.64 1555.44 Q1246.65 1556.97 1242.32 1556.97 Q1236.85 1556.97 1233.6 1553.91 Q1230.39 1550.82 1230.39 1545.67 Q1230.39 1539.65 1234.4 1536.6 Q1238.44 1533.54 1246.43 1533.54 L1254.64 1533.54 L1254.64 1532.97 Q1254.64 1528.93 1251.97 1526.73 Q1249.32 1524.5 1244.52 1524.5 Q1241.46 1524.5 1238.57 1525.23 Q1235.67 1525.97 1233 1527.43 L1233 1522.02 Q1236.21 1520.78 1239.23 1520.17 Q1242.26 1519.54 1245.12 1519.54 Q1252.86 1519.54 1256.68 1523.55 Q1260.5 1527.56 1260.5 1535.71 Z\" fill=\"#000000\" fill-rule=\"evenodd\" fill-opacity=\"1\" /><path clip-path=\"url(#clip200)\" d=\"M 0 0 M1296.27 1534.53 L1296.27 1556.04 L1290.41 1556.04 L1290.41 1534.72 Q1290.41 1529.66 1288.44 1527.14 Q1286.47 1524.63 1282.52 1524.63 Q1277.78 1524.63 1275.04 1527.65 Q1272.3 1530.68 1272.3 1535.9 L1272.3 1556.04 L1266.42 1556.04 L1266.42 1520.4 L1272.3 1520.4 L1272.3 1525.93 Q1274.41 1522.72 1277.24 1521.13 Q1280.1 1519.54 1283.83 1519.54 Q1289.97 1519.54 1293.12 1523.36 Q1296.27 1527.14 1296.27 1534.53 Z\" fill=\"#000000\" fill-rule=\"evenodd\" fill-opacity=\"1\" /><path clip-path=\"url(#clip200)\" d=\"M 0 0 M1325.14 1521.45 L1325.14 1526.98 Q1322.66 1525.71 1319.98 1525.07 Q1317.31 1524.44 1314.45 1524.44 Q1310.08 1524.44 1307.89 1525.77 Q1305.72 1527.11 1305.72 1529.79 Q1305.72 1531.82 1307.28 1533 Q1308.84 1534.15 1313.55 1535.2 L1315.56 1535.64 Q1321.8 1536.98 1324.41 1539.43 Q1327.05 1541.85 1327.05 1546.21 Q1327.05 1551.17 1323.1 1554.07 Q1319.19 1556.97 1312.31 1556.97 Q1309.45 1556.97 1306.33 1556.39 Q1303.24 1555.85 1299.8 1554.74 L1299.8 1548.69 Q1303.05 1550.38 1306.2 1551.24 Q1309.35 1552.07 1312.44 1552.07 Q1316.58 1552.07 1318.81 1550.66 Q1321.03 1549.23 1321.03 1546.65 Q1321.03 1544.27 1319.41 1542.99 Q1317.82 1541.72 1312.38 1540.54 L1310.34 1540.07 Q1304.9 1538.92 1302.48 1536.56 Q1300.06 1534.18 1300.06 1530.04 Q1300.06 1525.01 1303.62 1522.27 Q1307.19 1519.54 1313.75 1519.54 Q1316.99 1519.54 1319.86 1520.01 Q1322.72 1520.49 1325.14 1521.45 Z\" fill=\"#000000\" fill-rule=\"evenodd\" fill-opacity=\"1\" /><path clip-path=\"url(#clip200)\" d=\"M 0 0 M1338.86 1550.7 L1338.86 1569.6 L1332.97 1569.6 L1332.97 1520.4 L1338.86 1520.4 L1338.86 1525.81 Q1340.7 1522.62 1343.5 1521.1 Q1346.34 1519.54 1350.25 1519.54 Q1356.75 1519.54 1360.79 1524.69 Q1364.86 1529.85 1364.86 1538.25 Q1364.86 1546.65 1360.79 1551.81 Q1356.75 1556.97 1350.25 1556.97 Q1346.34 1556.97 1343.5 1555.44 Q1340.7 1553.88 1338.86 1550.7 M1358.78 1538.25 Q1358.78 1531.79 1356.11 1528.13 Q1353.47 1524.44 1348.82 1524.44 Q1344.17 1524.44 1341.5 1528.13 Q1338.86 1531.79 1338.86 1538.25 Q1338.86 1544.71 1341.5 1548.4 Q1344.17 1552.07 1348.82 1552.07 Q1353.47 1552.07 1356.11 1548.4 Q1358.78 1544.71 1358.78 1538.25 Z\" fill=\"#000000\" fill-rule=\"evenodd\" fill-opacity=\"1\" /><path clip-path=\"url(#clip200)\" d=\"M 0 0 M1371.83 1547.96 L1378.55 1547.96 L1378.55 1556.04 L1371.83 1556.04 L1371.83 1547.96 Z\" fill=\"#000000\" fill-rule=\"evenodd\" fill-opacity=\"1\" /><polyline clip-path=\"url(#clip202)\" style=\"stroke:#000000; stroke-width:2; stroke-opacity:0.1; fill:none\" points=\"\n",
       "  468.019,1423.18 1843.95,1423.18 \n",
       "  \"/>\n",
       "<polyline clip-path=\"url(#clip202)\" style=\"stroke:#000000; stroke-width:2; stroke-opacity:0.1; fill:none\" points=\"\n",
       "  468.019,1079.2 1843.95,1079.2 \n",
       "  \"/>\n",
       "<polyline clip-path=\"url(#clip202)\" style=\"stroke:#000000; stroke-width:2; stroke-opacity:0.1; fill:none\" points=\"\n",
       "  468.019,735.212 1843.95,735.212 \n",
       "  \"/>\n",
       "<polyline clip-path=\"url(#clip202)\" style=\"stroke:#000000; stroke-width:2; stroke-opacity:0.1; fill:none\" points=\"\n",
       "  468.019,391.228 1843.95,391.228 \n",
       "  \"/>\n",
       "<polyline clip-path=\"url(#clip202)\" style=\"stroke:#000000; stroke-width:2; stroke-opacity:0.1; fill:none\" points=\"\n",
       "  468.019,47.2441 1843.95,47.2441 \n",
       "  \"/>\n",
       "<polyline clip-path=\"url(#clip200)\" style=\"stroke:#000000; stroke-width:4; stroke-opacity:1; fill:none\" points=\"\n",
       "  468.019,1423.18 468.019,47.2441 \n",
       "  \"/>\n",
       "<polyline clip-path=\"url(#clip200)\" style=\"stroke:#000000; stroke-width:4; stroke-opacity:1; fill:none\" points=\"\n",
       "  468.019,1423.18 484.53,1423.18 \n",
       "  \"/>\n",
       "<polyline clip-path=\"url(#clip200)\" style=\"stroke:#000000; stroke-width:4; stroke-opacity:1; fill:none\" points=\"\n",
       "  468.019,1079.2 484.53,1079.2 \n",
       "  \"/>\n",
       "<polyline clip-path=\"url(#clip200)\" style=\"stroke:#000000; stroke-width:4; stroke-opacity:1; fill:none\" points=\"\n",
       "  468.019,735.212 484.53,735.212 \n",
       "  \"/>\n",
       "<polyline clip-path=\"url(#clip200)\" style=\"stroke:#000000; stroke-width:4; stroke-opacity:1; fill:none\" points=\"\n",
       "  468.019,391.228 484.53,391.228 \n",
       "  \"/>\n",
       "<polyline clip-path=\"url(#clip200)\" style=\"stroke:#000000; stroke-width:4; stroke-opacity:1; fill:none\" points=\"\n",
       "  468.019,47.2441 484.53,47.2441 \n",
       "  \"/>\n",
       "<path clip-path=\"url(#clip200)\" d=\"M 0 0 M420.075 1408.98 Q416.464 1408.98 414.635 1412.54 Q412.829 1416.08 412.829 1423.21 Q412.829 1430.32 414.635 1433.89 Q416.464 1437.43 420.075 1437.43 Q423.709 1437.43 425.515 1433.89 Q427.343 1430.32 427.343 1423.21 Q427.343 1416.08 425.515 1412.54 Q423.709 1408.98 420.075 1408.98 M420.075 1405.27 Q425.885 1405.27 428.941 1409.88 Q432.019 1414.46 432.019 1423.21 Q432.019 1431.94 428.941 1436.55 Q425.885 1441.13 420.075 1441.13 Q414.265 1441.13 411.186 1436.55 Q408.13 1431.94 408.13 1423.21 Q408.13 1414.46 411.186 1409.88 Q414.265 1405.27 420.075 1405.27 Z\" fill=\"#000000\" fill-rule=\"evenodd\" fill-opacity=\"1\" /><path clip-path=\"url(#clip200)\" d=\"M 0 0 M411.117 1061.92 L429.473 1061.92 L429.473 1065.85 L415.399 1065.85 L415.399 1074.32 Q416.417 1073.98 417.436 1073.81 Q418.454 1073.63 419.473 1073.63 Q425.26 1073.63 428.64 1076.8 Q432.019 1079.97 432.019 1085.39 Q432.019 1090.97 428.547 1094.07 Q425.075 1097.15 418.755 1097.15 Q416.579 1097.15 414.311 1096.78 Q412.066 1096.41 409.658 1095.67 L409.658 1090.97 Q411.742 1092.1 413.964 1092.66 Q416.186 1093.21 418.663 1093.21 Q422.667 1093.21 425.005 1091.11 Q427.343 1089 427.343 1085.39 Q427.343 1081.78 425.005 1079.67 Q422.667 1077.56 418.663 1077.56 Q416.788 1077.56 414.913 1077.98 Q413.061 1078.4 411.117 1079.28 L411.117 1061.92 Z\" fill=\"#000000\" fill-rule=\"evenodd\" fill-opacity=\"1\" /><path clip-path=\"url(#clip200)\" d=\"M 0 0 M385.098 748.557 L392.737 748.557 L392.737 722.191 L384.427 723.858 L384.427 719.599 L392.691 717.932 L397.367 717.932 L397.367 748.557 L405.005 748.557 L405.005 752.492 L385.098 752.492 L385.098 748.557 Z\" fill=\"#000000\" fill-rule=\"evenodd\" fill-opacity=\"1\" /><path clip-path=\"url(#clip200)\" d=\"M 0 0 M420.075 721.011 Q416.464 721.011 414.635 724.575 Q412.829 728.117 412.829 735.247 Q412.829 742.353 414.635 745.918 Q416.464 749.46 420.075 749.46 Q423.709 749.46 425.515 745.918 Q427.343 742.353 427.343 735.247 Q427.343 728.117 425.515 724.575 Q423.709 721.011 420.075 721.011 M420.075 717.307 Q425.885 717.307 428.941 721.913 Q432.019 726.497 432.019 735.247 Q432.019 743.973 428.941 748.58 Q425.885 753.163 420.075 753.163 Q414.265 753.163 411.186 748.58 Q408.13 743.973 408.13 735.247 Q408.13 726.497 411.186 721.913 Q414.265 717.307 420.075 717.307 Z\" fill=\"#000000\" fill-rule=\"evenodd\" fill-opacity=\"1\" /><path clip-path=\"url(#clip200)\" d=\"M 0 0 M386.094 404.573 L393.732 404.573 L393.732 378.207 L385.422 379.874 L385.422 375.615 L393.686 373.948 L398.362 373.948 L398.362 404.573 L406.001 404.573 L406.001 408.508 L386.094 408.508 L386.094 404.573 Z\" fill=\"#000000\" fill-rule=\"evenodd\" fill-opacity=\"1\" /><path clip-path=\"url(#clip200)\" d=\"M 0 0 M411.117 373.948 L429.473 373.948 L429.473 377.883 L415.399 377.883 L415.399 386.355 Q416.417 386.008 417.436 385.846 Q418.454 385.661 419.473 385.661 Q425.26 385.661 428.64 388.832 Q432.019 392.003 432.019 397.42 Q432.019 402.999 428.547 406.101 Q425.075 409.179 418.755 409.179 Q416.579 409.179 414.311 408.809 Q412.066 408.439 409.658 407.698 L409.658 402.999 Q411.742 404.133 413.964 404.689 Q416.186 405.244 418.663 405.244 Q422.667 405.244 425.005 403.138 Q427.343 401.031 427.343 397.42 Q427.343 393.809 425.005 391.703 Q422.667 389.596 418.663 389.596 Q416.788 389.596 414.913 390.013 Q413.061 390.429 411.117 391.309 L411.117 373.948 Z\" fill=\"#000000\" fill-rule=\"evenodd\" fill-opacity=\"1\" /><path clip-path=\"url(#clip200)\" d=\"M 0 0 M388.686 60.5889 L405.005 60.5889 L405.005 64.5241 L383.061 64.5241 L383.061 60.5889 Q385.723 57.8343 390.306 53.2047 Q394.913 48.552 396.093 47.2094 Q398.339 44.6862 399.218 42.9501 Q400.121 41.1909 400.121 39.5011 Q400.121 36.7465 398.177 35.0104 Q396.255 33.2743 393.154 33.2743 Q390.955 33.2743 388.501 34.0381 Q386.07 34.802 383.293 36.3529 L383.293 31.6308 Q386.117 30.4965 388.57 29.9178 Q391.024 29.3391 393.061 29.3391 Q398.431 29.3391 401.626 32.0243 Q404.82 34.7094 404.82 39.2002 Q404.82 41.3298 404.01 43.2511 Q403.223 45.1492 401.117 47.7418 Q400.538 48.4131 397.436 51.6306 Q394.334 54.8251 388.686 60.5889 Z\" fill=\"#000000\" fill-rule=\"evenodd\" fill-opacity=\"1\" /><path clip-path=\"url(#clip200)\" d=\"M 0 0 M420.075 33.0428 Q416.464 33.0428 414.635 36.6076 Q412.829 40.1492 412.829 47.2788 Q412.829 54.3853 414.635 57.9501 Q416.464 61.4917 420.075 61.4917 Q423.709 61.4917 425.515 57.9501 Q427.343 54.3853 427.343 47.2788 Q427.343 40.1492 425.515 36.6076 Q423.709 33.0428 420.075 33.0428 M420.075 29.3391 Q425.885 29.3391 428.941 33.9456 Q432.019 38.5289 432.019 47.2788 Q432.019 56.0056 428.941 60.6121 Q425.885 65.1954 420.075 65.1954 Q414.265 65.1954 411.186 60.6121 Q408.13 56.0056 408.13 47.2788 Q408.13 38.5289 411.186 33.9456 Q414.265 29.3391 420.075 29.3391 Z\" fill=\"#000000\" fill-rule=\"evenodd\" fill-opacity=\"1\" /><path clip-path=\"url(#clip200)\" d=\"M 0 0 M326.632 947.811 Q326.059 948.797 325.804 949.975 Q325.518 951.121 325.518 952.521 Q325.518 957.487 328.764 960.16 Q331.979 962.802 338.026 962.802 L356.805 962.802 L356.805 968.69 L321.157 968.69 L321.157 962.802 L326.695 962.802 Q323.449 960.956 321.889 957.996 Q320.298 955.036 320.298 950.803 Q320.298 950.198 320.393 949.466 Q320.457 948.734 320.616 947.842 L326.632 947.811 Z\" fill=\"#000000\" fill-rule=\"evenodd\" fill-opacity=\"1\" /><path clip-path=\"url(#clip200)\" d=\"M 0 0 M338.886 925.467 Q338.886 932.565 340.509 935.302 Q342.132 938.039 346.047 938.039 Q349.166 938.039 351.012 936.002 Q352.827 933.933 352.827 930.4 Q352.827 925.531 349.389 922.602 Q345.92 919.642 340.191 919.642 L338.886 919.642 L338.886 925.467 M336.467 913.786 L356.805 913.786 L356.805 919.642 L351.394 919.642 Q354.641 921.648 356.2 924.639 Q357.728 927.631 357.728 931.96 Q357.728 937.435 354.673 940.681 Q351.585 943.896 346.429 943.896 Q340.413 943.896 337.358 939.885 Q334.302 935.843 334.302 927.854 L334.302 919.642 L333.729 919.642 Q329.687 919.642 327.491 922.316 Q325.263 924.958 325.263 929.764 Q325.263 932.819 325.995 935.716 Q326.727 938.612 328.191 941.286 L322.78 941.286 Q321.539 938.071 320.934 935.047 Q320.298 932.024 320.298 929.159 Q320.298 921.425 324.308 917.605 Q328.319 913.786 336.467 913.786 Z\" fill=\"#000000\" fill-rule=\"evenodd\" fill-opacity=\"1\" /><path clip-path=\"url(#clip200)\" d=\"M 0 0 M335.289 878.011 L356.805 878.011 L356.805 883.867 L335.48 883.867 Q330.419 883.867 327.905 885.841 Q325.39 887.814 325.39 891.761 Q325.39 896.503 328.414 899.24 Q331.438 901.978 336.658 901.978 L356.805 901.978 L356.805 907.866 L321.157 907.866 L321.157 901.978 L326.695 901.978 Q323.481 899.877 321.889 897.044 Q320.298 894.18 320.298 890.456 Q320.298 884.313 324.117 881.162 Q327.905 878.011 335.289 878.011 Z\" fill=\"#000000\" fill-rule=\"evenodd\" fill-opacity=\"1\" /><path clip-path=\"url(#clip200)\" d=\"M 0 0 M307.28 872.091 L307.28 866.202 L336.53 866.202 L321.157 848.728 L321.157 841.249 L337.835 860.155 L356.805 840.453 L356.805 848.092 L339.395 866.202 L356.805 866.202 L356.805 872.091 L307.28 872.091 Z\" fill=\"#000000\" fill-rule=\"evenodd\" fill-opacity=\"1\" /><path clip-path=\"url(#clip200)\" d=\"M 0 0 M322.208 811.585 L327.746 811.585 Q326.473 814.067 325.836 816.741 Q325.199 819.414 325.199 822.279 Q325.199 826.639 326.536 828.836 Q327.873 831 330.547 831 Q332.584 831 333.761 829.44 Q334.907 827.881 335.957 823.17 L336.403 821.165 Q337.74 814.927 340.191 812.317 Q342.61 809.675 346.97 809.675 Q351.935 809.675 354.832 813.622 Q357.728 817.536 357.728 824.411 Q357.728 827.276 357.155 830.395 Q356.614 833.483 355.5 836.92 L349.453 836.92 Q351.14 833.674 351.999 830.523 Q352.827 827.371 352.827 824.284 Q352.827 820.146 351.426 817.918 Q349.994 815.69 347.416 815.69 Q345.029 815.69 343.755 817.314 Q342.482 818.905 341.305 824.348 L340.827 826.385 Q339.681 831.827 337.326 834.246 Q334.939 836.665 330.801 836.665 Q325.772 836.665 323.035 833.101 Q320.298 829.536 320.298 822.979 Q320.298 819.733 320.775 816.868 Q321.253 814.004 322.208 811.585 Z\" fill=\"#000000\" fill-rule=\"evenodd\" fill-opacity=\"1\" /><path clip-path=\"url(#clip200)\" d=\"M 0 0 M338.886 766.611 Q338.886 773.709 340.509 776.446 Q342.132 779.183 346.047 779.183 Q349.166 779.183 351.012 777.146 Q352.827 775.077 352.827 771.544 Q352.827 766.674 349.389 763.746 Q345.92 760.786 340.191 760.786 L338.886 760.786 L338.886 766.611 M336.467 754.93 L356.805 754.93 L356.805 760.786 L351.394 760.786 Q354.641 762.791 356.2 765.783 Q357.728 768.775 357.728 773.104 Q357.728 778.578 354.673 781.825 Q351.585 785.04 346.429 785.04 Q340.413 785.04 337.358 781.029 Q334.302 776.987 334.302 768.998 L334.302 760.786 L333.729 760.786 Q329.687 760.786 327.491 763.46 Q325.263 766.102 325.263 770.908 Q325.263 773.963 325.995 776.86 Q326.727 779.756 328.191 782.43 L322.78 782.43 Q321.539 779.215 320.934 776.191 Q320.298 773.167 320.298 770.303 Q320.298 762.569 324.308 758.749 Q328.319 754.93 336.467 754.93 Z\" fill=\"#000000\" fill-rule=\"evenodd\" fill-opacity=\"1\" /><path clip-path=\"url(#clip200)\" d=\"M 0 0 M307.28 730.74 L312.15 730.74 L312.15 736.342 Q312.15 739.493 313.423 740.734 Q314.696 741.944 318.006 741.944 L321.157 741.944 L321.157 732.3 L325.709 732.3 L325.709 741.944 L356.805 741.944 L356.805 747.832 L325.709 747.832 L325.709 753.434 L321.157 753.434 L321.157 747.832 L318.675 747.832 Q312.723 747.832 310.017 745.063 Q307.28 742.294 307.28 736.278 L307.28 730.74 Z\" fill=\"#000000\" fill-rule=\"evenodd\" fill-opacity=\"1\" /><path clip-path=\"url(#clip200)\" d=\"M 0 0 M337.517 694.105 L340.382 694.105 L340.382 721.032 Q346.429 720.65 349.612 717.404 Q352.763 714.126 352.763 708.301 Q352.763 704.927 351.935 701.776 Q351.108 698.593 349.453 695.474 L354.991 695.474 Q356.328 698.625 357.028 701.935 Q357.728 705.245 357.728 708.651 Q357.728 717.181 352.763 722.178 Q347.798 727.143 339.331 727.143 Q330.578 727.143 325.454 722.433 Q320.298 717.69 320.298 709.67 Q320.298 702.476 324.945 698.307 Q329.56 694.105 337.517 694.105 M335.798 699.962 Q330.992 700.026 328.128 702.667 Q325.263 705.277 325.263 709.606 Q325.263 714.508 328.032 717.468 Q330.801 720.396 335.83 720.841 L335.798 699.962 Z\" fill=\"#000000\" fill-rule=\"evenodd\" fill-opacity=\"1\" /><path clip-path=\"url(#clip200)\" d=\"M 0 0 M322.526 662.309 L328 662.309 Q326.632 664.791 325.963 667.306 Q325.263 669.788 325.263 672.335 Q325.263 678.032 328.891 681.183 Q332.488 684.334 339.013 684.334 Q345.538 684.334 349.166 681.183 Q352.763 678.032 352.763 672.335 Q352.763 669.788 352.094 667.306 Q351.394 664.791 350.026 662.309 L355.436 662.309 Q356.582 664.76 357.155 667.401 Q357.728 670.011 357.728 672.971 Q357.728 681.024 352.667 685.766 Q347.607 690.509 339.013 690.509 Q330.292 690.509 325.295 685.735 Q320.298 680.928 320.298 672.589 Q320.298 669.884 320.871 667.306 Q321.412 664.728 322.526 662.309 Z\" fill=\"#000000\" fill-rule=\"evenodd\" fill-opacity=\"1\" /><path clip-path=\"url(#clip200)\" d=\"M 0 0 M311.036 650.373 L321.157 650.373 L321.157 638.31 L325.709 638.31 L325.709 650.373 L345.06 650.373 Q349.421 650.373 350.662 649.195 Q351.904 647.986 351.904 644.326 L351.904 638.31 L356.805 638.31 L356.805 644.326 Q356.805 651.105 354.291 653.683 Q351.744 656.261 345.06 656.261 L325.709 656.261 L325.709 660.558 L321.157 660.558 L321.157 656.261 L311.036 656.261 L311.036 650.373 Z\" fill=\"#000000\" fill-rule=\"evenodd\" fill-opacity=\"1\" /><path clip-path=\"url(#clip200)\" d=\"M 0 0 M338.886 615.966 Q338.886 623.064 340.509 625.801 Q342.132 628.539 346.047 628.539 Q349.166 628.539 351.012 626.502 Q352.827 624.433 352.827 620.9 Q352.827 616.03 349.389 613.102 Q345.92 610.142 340.191 610.142 L338.886 610.142 L338.886 615.966 M336.467 604.285 L356.805 604.285 L356.805 610.142 L351.394 610.142 Q354.641 612.147 356.2 615.139 Q357.728 618.131 357.728 622.459 Q357.728 627.934 354.673 631.18 Q351.585 634.395 346.429 634.395 Q340.413 634.395 337.358 630.385 Q334.302 626.342 334.302 618.354 L334.302 610.142 L333.729 610.142 Q329.687 610.142 327.491 612.815 Q325.263 615.457 325.263 620.263 Q325.263 623.319 325.995 626.215 Q326.727 629.112 328.191 631.785 L322.78 631.785 Q321.539 628.57 320.934 625.547 Q320.298 622.523 320.298 619.658 Q320.298 611.924 324.308 608.105 Q328.319 604.285 336.467 604.285 Z\" fill=\"#000000\" fill-rule=\"evenodd\" fill-opacity=\"1\" /><path clip-path=\"url(#clip200)\" d=\"M 0 0 M326.568 574.685 L307.28 574.685 L307.28 568.828 L356.805 568.828 L356.805 574.685 L351.458 574.685 Q354.641 576.531 356.2 579.364 Q357.728 582.164 357.728 586.111 Q357.728 592.572 352.572 596.646 Q347.416 600.689 339.013 600.689 Q330.61 600.689 325.454 596.646 Q320.298 592.572 320.298 586.111 Q320.298 582.164 321.857 579.364 Q323.385 576.531 326.568 574.685 M339.013 594.641 Q345.474 594.641 349.166 591.999 Q352.827 589.326 352.827 584.679 Q352.827 580.032 349.166 577.358 Q345.474 574.685 339.013 574.685 Q332.552 574.685 328.891 577.358 Q325.199 580.032 325.199 584.679 Q325.199 589.326 328.891 591.999 Q332.552 594.641 339.013 594.641 Z\" fill=\"#000000\" fill-rule=\"evenodd\" fill-opacity=\"1\" /><path clip-path=\"url(#clip200)\" d=\"M 0 0 M325.263 548.872 Q325.263 553.582 328.955 556.32 Q332.615 559.057 339.013 559.057 Q345.411 559.057 349.103 556.352 Q352.763 553.614 352.763 548.872 Q352.763 544.193 349.071 541.456 Q345.379 538.719 339.013 538.719 Q332.679 538.719 328.987 541.456 Q325.263 544.193 325.263 548.872 M320.298 548.872 Q320.298 541.233 325.263 536.872 Q330.228 532.512 339.013 532.512 Q347.766 532.512 352.763 536.872 Q357.728 541.233 357.728 548.872 Q357.728 556.542 352.763 560.903 Q347.766 565.232 339.013 565.232 Q330.228 565.232 325.263 560.903 Q320.298 556.542 320.298 548.872 Z\" fill=\"#000000\" fill-rule=\"evenodd\" fill-opacity=\"1\" /><path clip-path=\"url(#clip200)\" d=\"M 0 0 M322.208 503.643 L327.746 503.643 Q326.473 506.126 325.836 508.8 Q325.199 511.473 325.199 514.338 Q325.199 518.698 326.536 520.895 Q327.873 523.059 330.547 523.059 Q332.584 523.059 333.761 521.499 Q334.907 519.94 335.957 515.229 L336.403 513.224 Q337.74 506.985 340.191 504.376 Q342.61 501.734 346.97 501.734 Q351.935 501.734 354.832 505.681 Q357.728 509.595 357.728 516.47 Q357.728 519.335 357.155 522.454 Q356.614 525.542 355.5 528.979 L349.453 528.979 Q351.14 525.732 351.999 522.581 Q352.827 519.43 352.827 516.343 Q352.827 512.205 351.426 509.977 Q349.994 507.749 347.416 507.749 Q345.029 507.749 343.755 509.373 Q342.482 510.964 341.305 516.407 L340.827 518.444 Q339.681 523.886 337.326 526.305 Q334.939 528.724 330.801 528.724 Q325.772 528.724 323.035 525.16 Q320.298 521.595 320.298 515.038 Q320.298 511.792 320.775 508.927 Q321.253 506.062 322.208 503.643 Z\" fill=\"#000000\" fill-rule=\"evenodd\" fill-opacity=\"1\" /><g clip-path=\"url(#clip202)\">\n",
       "<image width=\"1376\" height=\"1376\" xlink:href=\"data:image/png;base64,\n",
       "iVBORw0KGgoAAAANSUhEUgAABWAAAAVgCAYAAADB9/TdAAAgAElEQVR4nOzay26d53mG4cqiHdnU\n",
       "xvSmSFwpzgZJUXfSBjm7HGKAFvDEgygQ6hi1qkiyGIqyKFpip1VWB5nceN8W13UED36s9fNbN79r\n",
       "v/vd1dXf8ZYvvphesM9vfzu9YJ9f330xPWGf+/enF+zy1VfTC/Z58GB6wT5/+MP0gn3+9KfpBft4\n",
       "n7zt9TfTC/b5YXrAQv8yPWChf5wesNDJ9IBl/n56wEL/ND1goV9PD1jo7vSAha5ND9jlnekBAAAA\n",
       "AAD/XwmwAAAAAAARARYAAAAAICLAAgAAAABEBFgAAAAAgIgACwAAAAAQEWABAAAAACICLAAAAABA\n",
       "RIAFAAAAAIgIsAAAAAAAEQEWAAAAACAiwAIAAAAARARYAAAAAICIAAsAAAAAEBFgAQAAAAAiAiwA\n",
       "AAAAQESABQAAAACICLAAAAAAABEBFgAAAAAgIsACAAAAAEQEWAAAAACAiAALAAAAABARYAEAAAAA\n",
       "IgIsAAAAAEBEgAUAAAAAiAiwAAAAAAARARYAAAAAICLAAgAAAABEBFgAAAAAgIgACwAAAAAQEWAB\n",
       "AAAAACICLAAAAABARIAFAAAAAIgIsAAAAAAAEQEWAAAAACAiwAIAAAAARARYAAAAAICIAAsAAAAA\n",
       "EBFgAQAAAAAiAiwAAAAAQESABQAAAACICLAAAAAAABEBFgAAAAAgIsACAAAAAEQEWAAAAACAiAAL\n",
       "AAAAABARYAEAAAAAIgIsAAAAAEBEgAUAAAAAiAiwAAAAAAARARYAAAAAICLAAgAAAABEBFgAAAAA\n",
       "gIgACwAAAAAQEWABAAAAACICLAAAAABARIAFAAAAAIgIsAAAAAAAEQEWAAAAACAiwAIAAAAARARY\n",
       "AAAAAICIAAsAAAAAEBFgAQAAAAAiAiwAAAAAQESABQAAAACICLAAAAAAABEBFgAAAAAgIsACAAAA\n",
       "AESOrl+fnrDPixfTC/a5vJxesNCNG9ML9nn33ekFu5ycTC/Y5+HD6QX73Lw5vWCfO3emF+zz2WfT\n",
       "C3b58vH0gn3efzm9YJ8H0wMWem96wEKO9G/7r+kBCznSHzqaHrDQ2fSAhW5ND9jFDVgAAAAAgIgA\n",
       "CwAAAAAQEWABAAAAACICLAAAAABARIAFAAAAAIgIsAAAAAAAEQEWAAAAACAiwAIAAAAARARYAAAA\n",
       "AICIAAsAAAAAEBFgAQAAAAAiAiwAAAAAQESABQAAAACICLAAAAAAABEBFgAAAAAgIsACAAAAAEQE\n",
       "WAAAAACAiAALAAAAABARYAEAAAAAIgIsAAAAAEBEgAUAAAAAiAiwAAAAAAARARYAAAAAICLAAgAA\n",
       "AABEBFgAAAAAgIgACwAAAAAQEWABAAAAACICLAAAAABARIAFAAAAAIgIsAAAAAAAEQEWAAAAACAi\n",
       "wAIAAAAARARYAAAAAICIAAsAAAAAEBFgAQAAAAAiAiwAAAAAQESABQAAAACICLAAAAAAABEBFgAA\n",
       "AAAgIsACAAAAAEQEWAAAAACAiAALAAAAABARYAEAAAAAIgIsAAAAAEBEgAUAAAAAiAiwAAAAAAAR\n",
       "ARYAAAAAICLAAgAAAABEBFgAAAAAgIgACwAAAAAQEWABAAAAACICLAAAAABARIAFAAAAAIgIsAAA\n",
       "AAAAEQEWAAAAACAiwAIAAAAARARYAAAAAICIAAsAAAAAEBFgAQAAAAAiAiwAAAAAQESABQAAAACI\n",
       "CLAAAAAAABEBFgAAAAAgIsACAAAAAEQEWAAAAACAiAALAAAAABARYAEAAAAAIgIsAAAAAEDk6Opq\n",
       "esI+P/wwvWAfz+TQX577/8Vfu/3hh9MTdnnwYHrBPicn0wv2uXNnesE+5+fTC/b59NPpBbvcvTu9\n",
       "YJ8H96cX7PP+9ICFXk4PWOir6QHLfDE9YKG/TA9Y6N+nByz0z9MDFpJM3uJxAAAAAABEBFgAAAAA\n",
       "gIgACwAAAAAQEWABAAAAACICLAAAAABARIAFAAAAAIgIsAAAAAAAEQEWAAAAACAiwAIAAAAARARY\n",
       "AAAAAICIAAsAAAAAEBFgAQAAAAAiAiwAAAAAQESABQAAAACICLAAAAAAABEBFgAAAAAgIsACAAAA\n",
       "AEQEWAAAAACAiAALAAAAABARYAEAAAAAIgIsAAAAAEBEgAUAAAAAiAiwAAAAAAARARYAAAAAICLA\n",
       "AgAAAABEBFgAAAAAgIgACwAAAAAQEWABAAAAACICLAAAAABARIAFAAAAAIgIsAAAAAAAEQEWAAAA\n",
       "ACAiwAIAAAAARARYAAAAAICIAAsAAAAAEBFgAQAAAAAiAiwAAAAAQESABQAAAACICLAAAAAAABEB\n",
       "FgAAAAAgIsACAAAAAEQEWAAAAACAiAALAAAAABARYAEAAAAAIgIsAAAAAEBEgAUAAAAAiAiwAAAA\n",
       "AAARARYAAAAAICLAAgAAAABEBFgAAAAAgIgACwAAAAAQEWABAAAAACICLAAAAABARIAFAAAAAIgI\n",
       "sAAAAAAAEQEWAAAAACAiwAIAAAAARARYAAAAAICIAAsAAAAAEBFgAQAAAAAiAiwAAAAAQESABQAA\n",
       "AACICLAAAAAAABEBFgAAAAAgIsACAAAAAEQEWAAAAACAiAALAAAAABARYAEAAAAAIkfn59MT9rm6\n",
       "ml6wz9On0wv2+eST6QX73P7ow+kJu/z0p9ML9rm4mF6wz7170wv2ef58esE+p6fTC3a5dWt6wT53\n",
       "P59esM/pf0wv2Of30wMW+tfpAct8Mz1goa+nByz0y+kBC92fHrDQL6YH7OIGLAAAAABARIAFAAAA\n",
       "AIgIsAAAAAAAEQEWAAAAACAiwAIAAAAARARYAAAAAICIAAsAAAAAEBFgAQAAAAAiAiwAAAAAQESA\n",
       "BQAAAACICLAAAAAAABEBFgAAAAAgIsACAAAAAEQEWAAAAACAiAALAAAAABARYAEAAAAAIgIsAAAA\n",
       "AEBEgAUAAAAAiAiwAAAAAAARARYAAAAAICLAAgAAAABEBFgAAAAAgIgACwAAAAAQEWABAAAAACIC\n",
       "LAAAAABARIAFAAAAAIgIsAAAAAAAEQEWAAAAACAiwAIAAAAARARYAAAAAICIAAsAAAAAEBFgAQAA\n",
       "AAAiAiwAAAAAQESABQAAAACICLAAAAAAABEBFgAAAAAgIsACAAAAAEQEWAAAAACAiAALAAAAABAR\n",
       "YAEAAAAAIgIsAAAAAEBEgAUAAAAAiAiwAAAAAAARARYAAAAAICLAAgAAAABEBFgAAAAAgIgACwAA\n",
       "AAAQEWABAAAAACICLAAAAABARIAFAAAAAIgIsAAAAAAAEQEWAAAAACAiwAIAAAAARARYAAAAAICI\n",
       "AAsAAAAAEBFgAQAAAAAiAiwAAAAAQESABQAAAACICLAAAAAAABEBFgAAAAAgIsACAAAAAEQEWAAA\n",
       "AACAiAALAAAAABARYAEAAAAAIgIsAAAAAEBEgAUAAAAAiAiwAAAAAAARARYAAAAAIHL04sX0hH0u\n",
       "L6cX7PP69fSCfXxO/hc/+tH0gl2Oj6cX7OOZHDo/n16wz8nJ9IJ9rq6mF+xy7dr0gn2ePJlesM+/\n",
       "nU4v2OfVs+kF+3w5PWAZx5JDn0wPWMir5ND16QELaSZvcQMWAAAAACAiwAIAAAAARARYAAAAAICI\n",
       "AAsAAAAAEBFgAQAAAAAiAiwAAAAAQESABQAAAACICLAAAAAAABEBFgAAAAAgIsACAAAAAEQEWAAA\n",
       "AACAiAALAAAAABARYAEAAAAAIgIsAAAAAEBEgAUAAAAAiAiwAAAAAAARARYAAAAAICLAAgAAAABE\n",
       "BFgAAAAAgIgACwAAAAAQEWABAAAAACICLAAAAABARIAFAAAAAIgIsAAAAAAAEQEWAAAAACAiwAIA\n",
       "AAAARARYAAAAAICIAAsAAAAAEBFgAQAAAAAiAiwAAAAAQESABQAAAACICLAAAAAAABEBFgAAAAAg\n",
       "IsACAAAAAEQEWAAAAACAiAALAAAAABARYAEAAAAAIgIsAAAAAEBEgAUAAAAAiAiwAAAAAAARARYA\n",
       "AAAAICLAAgAAAABEBFgAAAAAgIgACwAAAAAQEWABAAAAACICLAAAAABARIAFAAAAAIgIsAAAAAAA\n",
       "EQEWAAAAACAiwAIAAAAARARYAAAAAICIAAsAAAAAEBFgAQAAAAAiAiwAAAAAQESABQAAAACICLAA\n",
       "AAAAABEBFgAAAAAgIsACAAAAAEQEWAAAAACAiAALAAAAABARYAEAAAAAIgIsAAAAAEBEgAUAAAAA\n",
       "iAiwAAAAAAARARYAAAAAICLAAgAAAABEBFgAAAAAgMjROxLsgbOz6QX7XFxML9jn6mp6wT5Pn3mh\n",
       "/E8fTQ/Y6Mc/nl6wz/n59IJ9Pv10esE+l5fTC3a5dWt6wT7Pn08v2OfnP59esI+/OYf++MfpBbv8\n",
       "5+vpBfucTg9Y6OX0gIX8yTn03fSAXdQSAAAAAICIAAsAAAAAEBFgAQAAAAAiAiwAAAAAQESABQAA\n",
       "AACICLAAAAAAABEBFgAAAAAgIsACAAAAAEQEWAAAAACAiAALAAAAABARYAEAAAAAIgIsAAAAAEBE\n",
       "gAUAAAAAiAiwAAAAAAARARYAAAAAICLAAgAAAABEBFgAAAAAgIgACwAAAAAQEWABAAAAACICLAAA\n",
       "AABARIAFAAAAAIgIsAAAAAAAEQEWAAAAACAiwAIAAAAARARYAAAAAICIAAsAAAAAEBFgAQAAAAAi\n",
       "AiwAAAAAQESABQAAAACICLAAAAAAABEBFgAAAAAgIsACAAAAAEQEWAAAAACAiAALAAAAABARYAEA\n",
       "AAAAIgIsAAAAAEBEgAUAAAAAiAiwAAAAAAARARYAAAAAICLAAgAAAABEBFgAAAAAgIgACwAAAAAQ\n",
       "EWABAAAAACICLAAAAABARIAFAAAAAIgIsAAAAAAAEQEWAAAAACAiwAIAAAAARARYAAAAAICIAAsA\n",
       "AAAAEBFgAQAAAAAiAiwAAAAAQESABQAAAACICLAAAAAAABEBFgAAAAAgIsACAAAAAEQEWAAAAACA\n",
       "iAALAAAAABARYAEAAAAAIgIsAAAAAEBEgAUAAAAAiAiwAAAAAAARARYAAAAAICLAAgAAAABEBFgA\n",
       "AAAAgIgACwAAAAAQEWABAAAAACICLAAAAABA5Ojly+kJ+3gmh54+nV6wz6NH0wv2OT6eXrDM559P\n",
       "L9jn/v3pBft89NH0gn3Oz6cX7HNyMr1glzdvphfsc3U1vWCf99+fXrCPQ/2h16+nF+zy8OH0gn2e\n",
       "OJcc+GZ6AP8n3JkesIsbsAAAAAAAEQEWAAAAACAiwAIAAAAARARYAAAAAICIAAsAAAAAEBFgAQAA\n",
       "AAAiAiwAAAAAQESABQAAAACICLAAAAAAABEBFgAAAAAgIsACAAAAAEQEWAAAAACAiAALAAAAABAR\n",
       "YAEAAAAAIgIsAAAAAEBEgAUAAAAAiAiwAAAAAAARARYAAAAAICLAAgAAAABEBFgAAAAAgIgACwAA\n",
       "AAAQEWABAAAAACICLAAAAABARIAFAAAAAIgIsAAAAAAAEQEWAAAAACAiwAIAAAAARARYAAAAAICI\n",
       "AAsAAAAAEBFgAQAAAAAiAiwAAAAAQESABQAAAACICLAAAAAAABEBFgAAAAAgIsACAAAAAEQEWAAA\n",
       "AACAiAALAAAAABARYAEAAAAAIgIsAAAAAEBEgAUAAAAAiAiwAAAAAAARARYAAAAAICLAAgAAAABE\n",
       "BFgAAAAAgIgACwAAAAAQEWABAAAAACICLAAAAABARIAFAAAAAIgIsAAAAAAAEQEWAAAAACAiwAIA\n",
       "AAAARARYAAAAAICIAAsAAAAAEBFgAQAAAAAiAiwAAAAAQESABQAAAACICLAAAAAAABEBFgAAAAAg\n",
       "IsACAAAAAEQEWAAAAACAiAALAAAAABARYAEAAAAAIgIsAAAAAEBEgAUAAAAAiAiwAAAAAAARARYA\n",
       "AAAAICLAAgAAAABEBFgAAAAAgMjR9ICNrq6mF+zzjlR/4Pnz6QX7nJ1NL9jl+NgX568df/zx9IR9\n",
       "Hj2aXrDPjRvTC/b5yU+mF+zy5s30gn1evpxesM/p6fSCfbxfD3322fSCXbxLDv35cnrBPm+uTS/Y\n",
       "58uL6QX73JwesIs6AAAAAAAQEWABAAAAACICLAAAAABARIAFAAAAAIgIsAAAAAAAEQEWAAAAACAi\n",
       "wAIAAAAARARYAAAAAICIAAsAAAAAEBFgAQAAAAAiAiwAAAAAQESABQAAAACICLAAAAAAABEBFgAA\n",
       "AAAgIsACAAAAAEQEWAAAAACAiAALAAAAABARYAEAAAAAIgIsAAAAAEBEgAUAAAAAiAiwAAAAAAAR\n",
       "ARYAAAAAICLAAgAAAABEBFgAAAAAgIgACwAAAAAQEWABAAAAACICLAAAAABARIAFAAAAAIgIsAAA\n",
       "AAAAEQEWAAAAACAiwAIAAAAARARYAAAAAICIAAsAAAAAEBFgAQAAAAAiAiwAAAAAQESABQAAAACI\n",
       "CLAAAAAAABEBFgAAAAAgIsACAAAAAEQEWAAAAACAiAALAAAAABARYAEAAAAAIgIsAAAAAEBEgAUA\n",
       "AAAAiAiwAAAAAAARARYAAAAAICLAAgAAAABEBFgAAAAAgIgACwAAAAAQEWABAAAAACICLAAAAABA\n",
       "RIAFAAAAAIgIsAAAAAAAEQEWAAAAACAiwAIAAAAARARYAAAAAICIAAsAAAAAEBFgAQAAAAAiAiwA\n",
       "AAAAQESABQAAAACICLAAAAAAABEBFgAAAAAgIsACAAAAAEQEWAAAAACAiAALAAAAABARYAEAAAAA\n",
       "IgIsAAAAAEBEgAUAAAAAiBxdXExP2Of8fHrBPt9/P71gnzdvphfs8+zZ9IJd7tyZXrDP9ZsfT09Y\n",
       "58avfjU9YZ/j4+kF+5yeTi/Y5cmT6QX73Ls3vWCf27enF+zz7bfTC/Z5+nR6wS4OsIcePZpesM/X\n",
       "X08v2EdIOvTwbHrBKm7AAgAAAABEBFgAAAAAgIgACwAAAAAQEWABAAAAACICLAAAAABARIAFAAAA\n",
       "AIgIsAAAAAAAEQEWAAAAACAiwAIAAAAARARYAAAAAICIAAsAAAAAEBFgAQAAAAAiAiwAAAAAQESA\n",
       "BQAAAACICLAAAAAAABEBFgAAAAAgIsACAAAAAEQEWAAAAACAiAALAAAAABARYAEAAAAAIgIsAAAA\n",
       "AEBEgAUAAAAAiAiwAAAAAAARARYAAAAAICLAAgAAAABEBFgAAAAAgIgACwAAAAAQEWABAAAAACIC\n",
       "LAAAAABARIAFAAAAAIgIsAAAAAAAEQEWAAAAACAiwAIAAAAARARYAAAAAICIAAsAAAAAEBFgAQAA\n",
       "AAAiAiwAAAAAQESABQAAAACICLAAAAAAABEBFgAAAAAgIsACAAAAAEQEWAAAAACAiAALAAAAABAR\n",
       "YAEAAAAAIgIsAAAAAEBEgAUAAAAAiAiwAAAAAAARARYAAAAAICLAAgAAAABEBFgAAAAAgIgACwAA\n",
       "AAAQEWABAAAAACICLAAAAABARIAFAAAAAIgIsAAAAAAAEQEWAAAAACAiwAIAAAAARARYAAAAAICI\n",
       "AAsAAAAAEBFgAQAAAAAiAiwAAAAAQESABQAAAACICLAAAAAAABEBFgAAAAAgIsACAAAAAEQEWAAA\n",
       "AACAiAALAAAAABARYAEAAAAAIkevX09P2OfVq+kF+5ydTS/Y57vvphfsc+PG9IJdHj+eXrDPe+9N\n",
       "L9jnxq1b0xP2uX17esE+Dmxv+81vphfs8+230wv2uX59esE+338/vWCfmzenF+ziXcLf4vh4esE+\n",
       "vjuHhKS3uAELAAAAABARYAEAAAAAIgIsAAAAAEBEgAUAAAAAiAiwAAAAAAARARYAAAAAICLAAgAA\n",
       "AABEBFgAAAAAgIgACwAAAAAQEWABAAAAACICLAAAAABARIAFAAAAAIgIsAAAAAAAEQEWAAAAACAi\n",
       "wAIAAAAARARYAAAAAICIAAsAAAAAEBFgAQAAAAAiAiwAAAAAQESABQAAAACICLAAAAAAABEBFgAA\n",
       "AAAgIsACAAAAAEQEWAAAAACAiAALAAAAABARYAEAAAAAIgIsAAAAAEBEgAUAAAAAiAiwAAAAAAAR\n",
       "ARYAAAAAICLAAgAAAABEBFgAAAAAgIgACwAAAAAQEWABAAAAACICLAAAAABARIAFAAAAAIgIsAAA\n",
       "AAAAEQEWAAAAACAiwAIAAAAARARYAAAAAICIAAsAAAAAEBFgAQAAAAAiAiwAAAAAQESABQAAAACI\n",
       "CLAAAAAAABEBFgAAAAAgIsACAAAAAEQEWAAAAACAiAALAAAAABARYAEAAAAAIgIsAAAAAEBEgAUA\n",
       "AAAAiAiwAAAAAAARARYAAAAAICLAAgAAAABEBFgAAAAAgIgACwAAAAAQEWABAAAAACICLAAAAABA\n",
       "RIAFAAAAAIgIsAAAAAAAEQEWAAAAACAiwAIAAAAARARYAAAAAICIAAsAAAAAEBFgAQAAAAAiAiwA\n",
       "AAAAQOTo4mJ6wj4vXkwv2OfsbHrBPq9eTS/Y59mz6QW7+Iwcun59esE+R//wwfSEdT742c+mJ+zz\n",
       "gc/JW548mV6wjwPsocvL6QX73LkzvWCfx4+nF+zy7rvTC/bxI+eQZ3LIj79D9+5NL1jFDVgAAAAA\n",
       "gIgACwAAAAAQEWABAAAAACICLAAAAABARIAFAAAAAIgIsAAAAAAAEQEWAAAAACAiwAIAAAAARARY\n",
       "AAAAAICIAAsAAAAAEBFgAQAAAAAiAiwAAAAAQESABQAAAACICLAAAAAAABEBFgAAAAAgIsACAAAA\n",
       "AEQEWAAAAACAiAALAAAAABARYAEAAAAAIgIsAAAAAEBEgAUAAAAAiAiwAAAAAAARARYAAAAAICLA\n",
       "AgAAAABEBFgAAAAAgIgACwAAAAAQEWABAAAAACICLAAAAABARIAFAAAAAIgIsAAAAAAAEQEWAPjv\n",
       "du1lx6pCC8OoRW2gCqqgFGP0kKgP4Ps/jB17YqKQQgS5RU734Gqc1pc5G2M8wZ+VddvfXgAAAEQE\n",
       "WAAAAACAiAALAAAAABARYAEAAAAAIgIsAAAAAEBEgAUAAAAAiAiwAAAAAAARARYAAAAAICLAAgAA\n",
       "AABEBFgAAAAAgIgACwAAAAAQEWABAAAAACICLAAAAABARIAFAAAAAIgIsAAAAAAAEQEWAAAAACAi\n",
       "wAIAAAAARARYAAAAAICIAAsAAAAAEBFgAQAAAAAiAiwAAAAAQESABQAAAACICLAAAAAAABEBFgAA\n",
       "AAAgIsACAAAAAEQEWAAAAACAiAALAAAAABARYAEAAAAAIgIsAAAAAEBEgAUAAAAAiAiwAAAAAAAR\n",
       "ARYAAAAAICLAAgAAAABEBFgAAAAAgIgACwAAAAAQEWABAAAAACICLAAAAABARIAFAAAAAIic3r2b\n",
       "nrDPx4/TC/b5++/pBfvc3k4v2OfycnrBLtfX0wv2efZsesE+T55ML9jnzp3z6QnrXHz33fSEXTxw\n",
       "ji4uphfs8+230wv2+fnn6QX7fP319IJd3F+PvvlmesE+b95ML9jn6mp6wT73708vWMUXsAAAAAAA\n",
       "EQEWAAAAACAiwAIAAAAARARYAAAAAICIAAsAAAAAEBFgAQAAAAAiAiwAAAAAQESABQAAAACICLAA\n",
       "AAAAABEBFgAAAAAgIsACAAAAAEQEWAAAAACAiAALAAAAABARYAEAAAAAIgIsAAAAAEBEgAUAAAAA\n",
       "iAiwAAAAAAARARYAAAAAICLAAgAAAABEBFgAAAAAgIgACwAAAAAQEWABAAAAACICLAAAAABARIAF\n",
       "AAAAAIgIsAAAAAAAEQEWAAAAACAiwAIAAAAARARYAAAAAICIAAsAAAAAEBFgAQAAAAAiAiwAAAAA\n",
       "QESABQAAAACICLAAAAAAABEBFgAAAAAgIsACAAAAAEQEWAAAAACAiAALAAAAABARYAEAAAAAIgIs\n",
       "AAAAAEBEgAUAAAAAiAiwAAAAAAARARYAAAAAICLAAgAAAABEBFgAAAAAgIgACwAAAAAQEWABAAAA\n",
       "ACICLAAAAABARIAFAAAAAIgIsAAAAAAAEQEWAAAAACAiwAIAAAAARARYAAAAAICIAAsAAAAAEBFg\n",
       "AQAAAAAiAiwAAAAAQESABQAAAACICLAAAAAAABEBFgAAAAAgIsACAAAAAEQEWAAAAACAiAALAAAA\n",
       "ABARYAEAAAAAIgIsAAAAAEBEgAUAAAAAiAiwAAAAAAARARYAAAAAICLAAgAAAABEBFgAAAAAgMjp\n",
       "06fpCfu8fz+9YJ/b2+kF+3z55fSCfV68mF6wy7t30wv2+fHH6QX7/PLL9IJ9vv12esE+NzfTC3Z5\n",
       "+Pjx9IR9TqfpBfu8fTu9YJ+PH6cX7OOF7XPn59ML9vnwYXrBPs+fTy/Y5+nT6QX7PHs2vWAVX8AC\n",
       "AAAAAEQEWAAAAACAiAALAAAAABARYAEAAAAAIgIsAAAAAEBEgAUAAAAAiAiwAAAAAAARARYAAAAA\n",
       "ICLAAgAAAABEBFgAAAAAgIgACwAAAAAQEWABAAAAACICLAAAAABARIAFAAAAAIgIsAAAAAAAEQEW\n",
       "AAAAACAiwAIAAAAARARYAAAAAICIAAsAAAAAEBFgAQAAAAAiAiwAAAAAQESABQAAAACICLAAAAAA\n",
       "ABEBFgAAAAAgIsACAAAAAEQEWAAAAACAiAALAAAAABARYAEAAAAAIgIsAAAAAEBEgAUAAAAAiAiw\n",
       "AAAAAAARARYAAAAAICLAAgAAAABEBFgAAAAAgIgACwAAAAAQEWABAAAAACICLAAAAABARIAFAAAA\n",
       "AIgIsAAAAAAAEQEWAAAAACAiwAIAAAAARARYAAAAAICIAAsAAAAAEBFgAQAAAAAiAiwAAAAAQESA\n",
       "BQAAAACICLAAAAAAABEBFgAAAAAgIsACAAAAAEQEWAAAAACAiAALAAAAABARYAEAAAAAIgIsAAAA\n",
       "AEBEgAUAAAAAiAiwAAAAAAARARYAAAAAICLAAgAAAABEBFgAAAAAgIgACwAAAAAQEWABAAAAACIC\n",
       "LAAAAABARIAFAAAAAIgIsAAAAAAAEQEWADDNGoAAABD6SURBVAAAACAiwAIAAAAARARYAAAAAICI\n",
       "AAsAAAAAEBFgAQAAAAAip9evpyfsc0eWPri5mV6wz4sX0wv2uXt3esEu5+fTC/b544/pBfu4bo4+\n",
       "fJhesM/799MLdnnw4Gx6wjrX11fTE9Y5e+iY/NvlD6fpCfu8fDm9YBcvsEdX7iUHT59OL9jHD52j\n",
       "H36YXrCK1AgAAAAAEBFgAQAAAAAiAiwAAAAAQESABQAAAACICLAAAAAAABEBFgAAAAAgIsACAAAA\n",
       "AEQEWAAAAACAiAALAAAAABARYAEAAAAAIgIsAAAAAEBEgAUAAAAAiAiwAAAAAAARARYAAAAAICLA\n",
       "AgAAAABEBFgAAAAAgIgACwAAAAAQEWABAAAAACICLAAAAABARIAFAAAAAIgIsAAAAAAAEQEWAAAA\n",
       "ACAiwAIAAAAARARYAAAAAICIAAsAAAAAEBFgAQAAAAAiAiwAAAAAQESABQAAAACICLAAAAAAABEB\n",
       "FgAAAAAgIsACAAAAAEQEWAAAAACAiAALAAAAABARYAEAAAAAIgIsAAAAAEBEgAUAAAAAiAiwAAAA\n",
       "AAARARYAAAAAICLAAgAAAABEBFgAAAAAgIgACwAAAAAQEWABAAAAACICLAAAAABARIAFAAAAAIgI\n",
       "sAAAAAAAEQEWAAAAACAiwAIAAAAARARYAAAAAICIAAsAAAAAEBFgAQAAAAAiAiwAAAAAQESABQAA\n",
       "AACICLAAAAAAABEBFgAAAAAgIsACAAAAAEQEWAAAAACAiAALAAAAABARYAEAAAAAIgIsAAAAAEBE\n",
       "gAUAAAAAiAiwAAAAAAARARYAAAAAICLAAgAAAABEBFgAAAAAgIgACwAAAAAQEWABAAAAACICLAAA\n",
       "AABARIAFAAAAAIicXr+enrDPw4fTC/Z5+XJ6wT737k0v2Of2dnrBLu/eTS/Y5/x8esE+Dx5ML9jH\n",
       "eXL09u30gl0ePZpesI97ydHTp9ML9rn94mZ6wjr/XDsm/+ur77+fnrDP8+fTC/ZxTI5++ml6wT7O\n",
       "k8/4AhYAAAAAICLAAgAAAABEBFgAAAAAgIgACwAAAAAQEWABAAAAACICLAAAAABARIAFAAAAAIgI\n",
       "sAAAAAAAEQEWAAAAACAiwAIAAAAARARYAAAAAICIAAsAAAAAEBFgAQAAAAAiAiwAAAAAQESABQAA\n",
       "AACICLAAAAAAABEBFgAAAAAgIsACAAAAAEQEWAAAAACAiAALAAAAABARYAEAAAAAIgIsAAAAAEBE\n",
       "gAUAAAAAiAiwAAAAAAARARYAAAAAICLAAgAAAABEBFgAAAAAgIgACwAAAAAQEWABAAAAACICLAAA\n",
       "AABARIAFAAAAAIgIsAAAAAAAEQEWAAAAACAiwAIAAAAARARYAAAAAICIAAsAAAAAEBFgAQAAAAAi\n",
       "AiwAAAAAQESABQAAAACICLAAAAAAABEBFgAAAAAgIsACAAAAAEQEWAAAAACAiAALAAAAABARYAEA\n",
       "AAAAIgIsAAAAAEBEgAUAAAAAiAiwAAAAAAARARYAAAAAICLAAgAAAABEBFgAAAAAgIgACwAAAAAQ\n",
       "EWABAAAAACICLAAAAABARIAFAAAAAIgIsAAAAAAAEQEWAAAAACAiwAIAAAAARARYAAAAAICIAAsA\n",
       "AAAAEBFgAQAAAAAiAiwAAAAAQESABQAAAACICLAAAAAAABEBFgAAAAAgIsACAAAAAEQEWAAAAACA\n",
       "yOnNm+kJ+/z11/SCfU6n6QX73N5OL9jn/Hx6wS6Ox9Hvv08v2OfevekF+zx/Pr1gn6ur6QW7fPXV\n",
       "9IJ97vis4uDVq+kF+1xcTC/Y5/p6esEuL16cTU9Y5/Ly6+kJ6zz6j2Pyb97Vjs4ePJiesIpXNQAA\n",
       "AACAiAALAAAAABARYAEAAAAAIgIsAAAAAEBEgAUAAAAAiAiwAAAAAAARARYAAAAAICLAAgAAAABE\n",
       "BFgAAAAAgIgACwAAAAAQEWABAAAAACICLAAAAABARIAFAAAAAIgIsAAAAAAAEQEWAAAAACAiwAIA\n",
       "AAAARARYAAAAAICIAAsAAAAAEBFgAQAAAAAiAiwAAAAAQESABQAAAACICLAAAAAAABEBFgAAAAAg\n",
       "IsACAAAAAEQEWAAAAACAiAALAAAAABARYAEAAAAAIgIsAAAAAEBEgAUAAAAAiAiwAAAAAAARARYA\n",
       "AAAAICLAAgAAAABEBFgAAAAAgIgACwAAAAAQEWABAAAAACICLAAAAABARIAFAAAAAIgIsAAAAAAA\n",
       "EQEWAAAAACAiwAIAAAAARARYAAAAAICIAAsAAAAAEBFgAQAAAAAiAiwAAAAAQESABQAAAACICLAA\n",
       "AAAAABEBFgAAAAAgIsACAAAAAEQEWAAAAACAiAALAAAAABARYAEAAAAAIgIsAAAAAEBEgAUAAAAA\n",
       "iAiwAAAAAAARARYAAAAAICLAAgAAAABEBFgAAAAAgIgACwAAAAAQEWABAAAAACICLAAAAABARIAF\n",
       "AAAAAIgIsAAAAAAAEQEWAAAAACAiwAIAAAAARARYAAAAAICIAAsAAAAAEBFgAQAAAAAiAiwAAAAA\n",
       "QOT0/v30hH1ub6cX7HN5Ob1gnz//nF6wz+k0vWCXd++mF+zz+PH0gn3u3p1esI9nztGbN9MLdnn7\n",
       "dnrBPnd8VnHgnf7o5mZ6wT737k0v2MUz+Mg5cvTrr9ML9nF/Pfrw4dH0hFW8qgEAAAAARARYAAAA\n",
       "AICIAAsAAAAAEBFgAQAAAAAiAiwAAAAAQESABQAAAACICLAAAAAAABEBFgAAAAAgIsACAAAAAEQE\n",
       "WAAAAACAiAALAAAAABARYAEAAAAAIgIsAAAAAEBEgAUAAAAAiAiwAAAAAAARARYAAAAAICLAAgAA\n",
       "AABEBFgAAAAAgIgACwAAAAAQEWABAAAAACICLAAAAABARIAFAAAAAIgIsAAAAAAAEQEWAAAAACAi\n",
       "wAIAAAAARARYAAAAAICIAAsAAAAAEBFgAQAAAAAiAiwAAAAAQESABQAAAACICLAAAAAAABEBFgAA\n",
       "AAAgIsACAAAAAEQEWAAAAACAiAALAAAAABARYAEAAAAAIgIsAAAAAEBEgAUAAAAAiAiwAAAAAAAR\n",
       "ARYAAAAAICLAAgAAAABEBFgAAAAAgIgACwAAAAAQEWABAAAAACICLAAAAABARIAFAAAAAIgIsAAA\n",
       "AAAAEQEWAAAAACAiwAIAAAAARARYAAAAAICIAAsAAAAAEBFgAQAAAAAiAiwAAAAAQESABQAAAACI\n",
       "CLAAAAAAABEBFgAAAAAgIsACAAAAAEQEWAAAAACAiAALAAAAABARYAEAAAAAIgIsAAAAAEBEgAUA\n",
       "AAAAiAiwAAAAAAARARYAAAAAICLAAgAAAABEBFgAAAAAgIgACwAAAAAQEWABAAAAACKn9++nJ+zz\n",
       "zz/TC/Z59Wp6wT6unSPXzufu359esM/t7fSCfZ48mV6wj2fO0eXl9IJdfvttesE+jx5NL9jHe8nR\n",
       "zc30gn2urqYX7HLHJ1oHp9P0gn2cJ0d++x15f/2cywYAAAAAICLAAgAAAABEBFgAAAAAgIgACwAA\n",
       "AAAQEWABAAAAACICLAAAAABARIAFAAAAAIgIsAAAAAAAEQEWAAAAACAiwAIAAAAARARYAAAAAICI\n",
       "AAsAAAAAEBFgAQAAAAAiAiwAAAAAQESABQAAAACICLAAAAAAABEBFgAAAAAgIsACAAAAAEQEWAAA\n",
       "AACAiAALAAAAABARYAEAAAAAIgIsAAAAAEBEgAUAAAAAiAiwAAAAAAARARYAAAAAICLAAgAAAABE\n",
       "BFgAAAAAgIgACwAAAAAQEWABAAAAACICLAAAAABARIAFAAAAAIgIsAAAAAAAEQEWAAAAACAiwAIA\n",
       "AAAARARYAAAAAICIAAsAAAAAEBFgAQAAAAAiAiwAAAAAQESABQAAAACICLAAAAAAABEBFgAAAAAg\n",
       "IsACAAAAAEQEWAAAAACAiAALAAAAABARYAEAAAAAIgIsAAAAAEBEgAUAAAAAiAiwAAAAAAARARYA\n",
       "AAAAICLAAgAAAABEBFgAAAAAgIgACwAAAAAQEWABAAAAACICLAAAAABARIAFAAAAAIgIsAAAAAAA\n",
       "EQEWAAAAACAiwAIAAAAARARYAAAAAICIAAsAAAAAEBFgAQAAAAAiAiwAAAAAQESABQAAAACICLAA\n",
       "AAAAABEBFgAAAAAgIsACAAAAAEQEWAAAAACAiAALAAAAABA5e/To06fpEdvcvz+9YJ/r6+kF+9y9\n",
       "O71gn8vL6QW7PHw4vWCfq6vpBfvc8VfogWvn6OPH6QW7OEeOzs6mF+zjveTo/Hx6wT7OE/4fxeTo\n",
       "4mJ6wT6ew0c3N9MLdvGzDwAAAAAgIsACAAAAAEQEWAAAAACAiAALAAAAABARYAEAAAAAIgIsAAAA\n",
       "AEBEgAUAAAAAiAiwAAAAAAARARYAAAAAICLAAgAAAABEBFgAAAAAgIgACwAAAAAQEWABAAAAACIC\n",
       "LAAAAABARIAFAAAAAIgIsAAAAAAAEQEWAAAAACAiwAIAAAAARARYAAAAAICIAAsAAAAAEBFgAQAA\n",
       "AAAiAiwAAAAAQESABQAAAACICLAAAAAAABEBFgAAAAAgIsACAAAAAEQEWAAAAACAiAALAAAAABAR\n",
       "YAEAAAAAIgIsAAAAAEBEgAUAAAAAiAiwAAAAAAARARYAAAAAICLAAgAAAABEBFgAAAAAgIgACwAA\n",
       "AAAQEWABAAAAACICLAAAAABARIAFAAAAAIgIsAAAAAAAEQEWAAAAACAiwAIAAAAARARYAAAAAICI\n",
       "AAsAAAAAEBFgAQAAAAAiAiwAAAAAQESABQAAAACICLAAAAAAABEBFgAAAAAgIsACAAAAAEQEWAAA\n",
       "AACAiAALAAAAABARYAEAAAAAIgIsAAAAAEBEgAUAAAAAiAiwAAAAAAARARYAAAAAICLAAgAAAABE\n",
       "BFgAAAAAgIgACwAAAAAQEWABAAAAACICLAAAAABARIAFAAAAAIgIsAAAAAAAEQEWAAAAACAiwAIA\n",
       "AAAARARYAAAAAICIAAsAAAAAEDn74otPn6ZHbHN+Pr1gn8vL6QX73L8/vWCfi4vpBbvcvTu9YJ+z\n",
       "s+kF+5xO0wv2cS85uuMv8884HkeeOUeOyZHn8JH7yeccjyPvakfOkyMd6chz+HMuGwAAAACAiAAL\n",
       "AAAAABARYAEAAAAAIgIsAAAAAEBEgAUAAAAAiAiwAAAAAAARARYAAAAAICLAAgAAAABEBFgAAAAA\n",
       "gIgACwAAAAAQEWABAAAAACICLAAAAABARIAFAAAAAIgIsAAAAAAAEQEWAAAAACAiwAIAAAAARARY\n",
       "AAAAAICIAAsAAAAAEBFgAQAAAAAiAiwAAAAAQESABQAAAACICLAAAAAAABEBFgAAAAAgIsACAAAA\n",
       "AEQEWAAAAACAiAALAAAAABARYAEAAAAAIgIsAAAAAEBEgAUAAAAAiAiwAAAAAAARARYAAAAAICLA\n",
       "AgAAAABEBFgAAAAAgIgACwAAAAAQEWABAAAAACICLAAAAABARIAFAAAAAIgIsAAAAAAAEQEWAAAA\n",
       "ACAiwAIAAAAARARYAAAAAICIAAsAAAAAEBFgAQAAAAAiAiwAAAAAQESABQAAAACICLAAAAAAABEB\n",
       "FgAAAAAgIsACAAAAAEQEWAAAAACAiAALAAAAABARYAEAAAAAIgIsAAAAAEBEgAUAAAAAiAiwAAAA\n",
       "AAARARYAAAAAICLAAgAAAABEBFgAAAAAgIgACwAAAAAQEWABAAAAACICLAAAAABARIAFAAAAAIgI\n",
       "sAAAAAAAEQEWAAAAACAiwAIAAAAARARYAAAAAICIAAsAAAAAEBFgAQAAAAAi/wUMP3RVZN7YLwAA\n",
       "AABJRU5ErkJggg==\n",
       "\" transform=\"translate(502, 13)\"/>\n",
       "</g>\n",
       "<defs>\n",
       "  <clipPath id=\"clip203\">\n",
       "    <rect x=\"1891\" y=\"47\" width=\"73\" height=\"1377\"/>\n",
       "  </clipPath>\n",
       "</defs>\n",
       "<g clip-path=\"url(#clip203)\">\n",
       "<image width=\"72\" height=\"1376\" xlink:href=\"data:image/png;base64,\n",
       "iVBORw0KGgoAAAANSUhEUgAAAEgAAAVgCAYAAADsKhu7AAALhklEQVR4nO3dwXHCMABFQdmo/4qN\n",
       "lQrCO0qH3QqYN38knARyrTXW4F/37hdwOoGCQEGgIFCY47v7JZzNgoJAQaAgUHBIBwsKAgWBgkBB\n",
       "oOAWCxYUBAoCBYHCHM/ul3A2CwoCBYGCQME76WBBQaAgUBAoCBTcYsGCgkBBoCBQcEgHCwoCBYGC\n",
       "QMEhHSwoCBQECgIFgYJbLFhQECgIFAQKc7y7X8LZLCgIFAQKAgWBgkeNYEFBoCBQECj4KEKwoCBQ\n",
       "ECgIFLyTDhYUBAoCBYGCQMEtFiwoCBQECgIFh3SwoCBQECgIFBzSwYKCQEGgIFAQKLjFggUFgYJA\n",
       "QaDgkA4WFAQKAgWBgkDBLRYsKAgUBAoCBZ96DhYUBAoCBYGCd9LBgoJAQaAgUBAouMWCBQWBgkBB\n",
       "oOCQDhYUBAoCBYGCQzpYUBAoCBQECgIFt1iwoCBQECgIFBzSwYKCQEGgIFAQKLjFggUFgYJAQaDg\n",
       "vyIECwoCBYGCQME76WBBQaAgUBAoCBTcYsGCgkBBoCBQ8NUUwYKCQEGgIFDwTjpYUBAoCBQECgIF\n",
       "t1iwoCBQECgIFBzSwYKCQEGgIFAQKLjFggUFgYJAQaDgowjBgoJAQaAgUPBOOlhQECgIFAQKAgW3\n",
       "WLCgIFAQKAgUHNLBgoJAQaAgUHBIBwsKAgWBgkBBoOAWCxYUBAoCBYGCr6YIFhQECgIFgYJAwaNG\n",
       "sKAgUBAoCBQc0sGCgkBBoCBQcEgHCwoCBYGCQEGg4BYLFhQECgIFgYJDOlhQECgIFAQKDulgQUGg\n",
       "IFAQKAgU3GLBgoJAQaAgUHBIBwsKAgWBgkBBoOAWCxYUBAoCBYGC/4oQLCgIFAQKAgVfTREsKAgU\n",
       "BAoCBYGCnwcFCwoCBYGCQMEhHSwoCBQECgIFh3SwoCBQECgIFAQKbrFgQUGgIFAQKDikgwUFgYJA\n",
       "QaAgUHCLBQsKAgWBgkDBRxGCBQWBgkBBoOCddLCgIFAQKAgUBApusWBBQaAgUBAoOKSDBQWBgkBB\n",
       "oOCrKYIFBYGCQEGgIFDwqBEsKAgUBAoCBYd0sKAgUBAoCBQECm6xYEFBoCBQECj4KEKwoCBQECgI\n",
       "FLyTDhYUBAoCBYGCQMEtFiwoCBQECgIFh3SwoCBQECgIFBzSwYKCQEGgIFAQKLjFggUFgYJAQaDg\n",
       "kA4WFAQKAgWBgkDBd3cECwoCBYGCQMGjRrCgIFAQKAgUHNLBgoJAQaAgUBAouMWCBQWBgkBBoOCQ\n",
       "DhYUBAoCBYGCQzpYUBAoCBQECgIFt1iwoCBQECgIFBzSwYKCQEGgIFAQKLjFggUFgYJAQaBwrXus\n",
       "3S/iZBYUBAoCBYHCtYZD+hcLCgIFgYJAQaAwx63RL+oEgYJAQaAwx+ez+zUczYKCQEGgIFBwSAcL\n",
       "CgIFgYJAQaDgFgsWFAQKAgWBgkM6WFAQKAgUBAoCBbdYsKAgUBAoCBTmmHP3aziaBQWBgkBBoOCd\n",
       "dLCgIFAQKAgUBApusWBBQaAgUBAoOKSDBQWBgkBBoOBDvUGdIFAQKAgUBAoeNYIFBYGCQEGg4JAO\n",
       "FhQECgIFgYJAwS0WLCgIFAQKAgUfRQgWFAQKAgWBgnfSwYKCQEGgIFAQKLjFggUFgYJAQaDgkA4W\n",
       "FAQKAgWBgkM6WFAQKAgUBAoCBbdYsKAgUBAoCBQc0sGCgkBBoCBQECj47o6gThAoCBQECh41ggUF\n",
       "gYJAQaDgkA4WFAQKAgWBgkDBLRYsKAgUBAoCBYd0sKAgUBAoCBQc0sGCgkBBoCBQECi4xYIFBYGC\n",
       "QEGg4JAOFhQECgIFgYJAwS0WLCgIFAQKAgX/FSFYUBAoCBQECt5JBwsKAgWBgkBBoOCrKYI6QaAg\n",
       "UBAoeNQIFhQECgIFgYJDOlhQECgIFAQKAgW3WLCgIFAQKAgUHNLBgoJAQaAgUBAouMWCBQWBgkBB\n",
       "oOCjCMGCgkBBoCBQ8E46WFAQKAgUBAoCBbdYsKAgUBAoCBQc0sGCgkBBoCBQcEgHCwoCBYGCQEGg\n",
       "4KspgjpBoCBQECh41AgWFAQKAgWBgkDBLRYsKAgUBAoCBYd0sKAgUBAoCBQc0sGCgkBBoCBQECj4\n",
       "1HOwoCBQECgIFDxqBAsKAgWBgkDBIR0sKAgUBAoCBYGCWyxYUBAoCBQECg7pYEFBoCBQECgIFNxi\n",
       "wYKCQEGgIFDw1RRBnSBQECgIFLyTDhYUBAoCBYGCQMEtFiwoCBQECgIFh3SwoCBQECgIFBzSwYKC\n",
       "QEGgIFAQKLjFggUFgYJAQaDg+4OCBQWBgkBBoCBQ8KgRLCgIFAQKAgWHdLCgIFAQKAgUHNLBgoJA\n",
       "QaAgUBAouMWCBQWBgkBBoOCrKYI6QaAgUBAoeCcdLCgIFAQKAgWBglssWFAQKAgUBAoO6WBBQaAg\n",
       "UBAoCBTcYsGCgkBBoCBQcEgHCwoCBYGCQMEhHSwoCBQECgIFgYIvWAoWFAQKAgWBgkeNYEFBoCBQ\n",
       "ECg4pIMFBYGCQEGgIFDwqeegThAoCBQECh41ggUFgYJAQaAgUHCLBQsKAgWBgkDBIR0sKAgUBAoC\n",
       "BYd0sKAgUBAoCBQECj6KECwoCBQECgIFjxrBgoJAQaAgUHBIBwsKAgWBgkBBoOAWCxYUBAoCBYHC\n",
       "tdZau1/EySwoCBQECgIFgcL8fne/hLNZUBAoCBQECg7pYEFBoCBQECg4pIMFBYGCQEGgIFBwiwUL\n",
       "CgIFgYJAwSEdLCgIFAQKAgWHdLCgIFAQKAgUBApusWBBQaAgUBAozOfZ/RLOZkFBoCBQECgIFDxq\n",
       "BAsKAgWBgkBhvu/ul3A2CwoCBYGCQME76WBBQaAgUBAoCBTcYsGCgkBBoCBQcEgHCwoCBYGCQMEh\n",
       "HSwoCBQECgIFgYJbLFhQECgIFAQKDulgQUGgIFAQKAgU3GLBgoJAQaAgUHBIBwsKAgWBgkDBIR0s\n",
       "KAgUBAoCBYGCWyxYUBAoCBQECg7pYEFBoCBQECg4pIMFBYGCQEGgIFBwiwULCgIFgYJAwSEdLCgI\n",
       "FAQKAgWBglssWFAQKAgUBAoO6WBBQaAgUBAoOKSDBQWBgkBBoCBQcIsFCwoCBYGCQGE+z+6XcDYL\n",
       "CgIFgYJAwTvpYEFBoCBQECgIFOb77n4JZ7OgIFAQKAgUPGoECwoCBYGCQEGg4BYLFhQECgIFgYJD\n",
       "OlhQECgIFAQKDulgQUGgIFAQKAgU3GLBgoJAQaAgUHBIBwsKAgWBgkDBIR0sKAgUBAoCBYGCWyxY\n",
       "UBAoCBQECg7pYEFBoCBQECgIFHzBUrCgIFAQKAgUfDVFsKAgUBAoCBT8PChYUBAoCBQECgIFt1iw\n",
       "oCBQECgIFBzSwYKCQEGgIFBwSAcLCgIFgYJAQaDg74OCBQWBgkBBoODvg4IFBYGCQEGgIFDwA7Ng\n",
       "QUGgIFAQKDikgwUFgYJAQaDgh/bBgoJAQaAgUBAoeNQIFhQECgIFgYJfPQcLCgIFgYJAwTvpYEFB\n",
       "oCBQECgIFNxiwYKCQEGgIFBwSAcLCgIFgYJAQaDgD6iCBQWBgkBBoOBXz8GCgkBBoCBQ8POgYEFB\n",
       "oCBQECgIFNxiwYKCQEGgIFDwQ/tgQUGgIFAQKHgnHSwoCBQECgIFgYJbLFhQECgIFAQK/j4oWFAQ\n",
       "KAgUBAoCBY8awYKCQEGgIFBwSAcLCgIFgYJAwd8HBQsKAgWBgkBBoOBRI1hQECgIFAQKfvUcLCgI\n",
       "FAQKAgXvpIMFBYGCQEGgIFBwiwULCgIFgYJAwa+egwUFgYJAQaAgUPCoESwoCBQECgIFh3SwoCBQ\n",
       "ECgIFPx9ULCgIFAQKAgUBAoeNYIFBYGCQEGg4JAOFhQECgIFgYK/DwoWFAQKAgWBgkDBo0awoCBQ\n",
       "ECgIFPzqOVhQECgIFAQKAgWPGsGCgkBBoCBQcEgHCwoCBYGCQMGvnoMFBYGCQEGgIFC47nut3S/i\n",
       "ZBYUBAoCBYHCNYZD+hcLCgIFgYJA4Q8gPBPA3qQugAAAAABJRU5ErkJggg==\n",
       "\" transform=\"translate(1892, 47)\"/>\n",
       "</g>\n",
       "<path clip-path=\"url(#clip200)\" d=\"M 0 0 M2011.9 1226.61 Q2008.29 1226.61 2006.46 1230.17 Q2004.65 1233.72 2004.65 1240.85 Q2004.65 1247.95 2006.46 1251.52 Q2008.29 1255.06 2011.9 1255.06 Q2015.53 1255.06 2017.34 1251.52 Q2019.17 1247.95 2019.17 1240.85 Q2019.17 1233.72 2017.34 1230.17 Q2015.53 1226.61 2011.9 1226.61 M2011.9 1222.91 Q2017.71 1222.91 2020.77 1227.51 Q2023.84 1232.1 2023.84 1240.85 Q2023.84 1249.57 2020.77 1254.18 Q2017.71 1258.76 2011.9 1258.76 Q2006.09 1258.76 2003.01 1254.18 Q1999.95 1249.57 1999.95 1240.85 Q1999.95 1232.1 2003.01 1227.51 Q2006.09 1222.91 2011.9 1222.91 Z\" fill=\"#000000\" fill-rule=\"evenodd\" fill-opacity=\"1\" /><path clip-path=\"url(#clip200)\" d=\"M 0 0 M2028.91 1252.21 L2033.8 1252.21 L2033.8 1258.09 L2028.91 1258.09 L2028.91 1252.21 Z\" fill=\"#000000\" fill-rule=\"evenodd\" fill-opacity=\"1\" /><path clip-path=\"url(#clip200)\" d=\"M 0 0 M2039.68 1254.16 L2047.32 1254.16 L2047.32 1227.79 L2039.01 1229.46 L2039.01 1225.2 L2047.27 1223.53 L2051.95 1223.53 L2051.95 1254.16 L2059.58 1254.16 L2059.58 1258.09 L2039.68 1258.09 L2039.68 1254.16 Z\" fill=\"#000000\" fill-rule=\"evenodd\" fill-opacity=\"1\" /><path clip-path=\"url(#clip200)\" d=\"M 0 0 M2011.9 985.309 Q2008.29 985.309 2006.46 988.874 Q2004.65 992.416 2004.65 999.545 Q2004.65 1006.65 2006.46 1010.22 Q2008.29 1013.76 2011.9 1013.76 Q2015.53 1013.76 2017.34 1010.22 Q2019.17 1006.65 2019.17 999.545 Q2019.17 992.416 2017.34 988.874 Q2015.53 985.309 2011.9 985.309 M2011.9 981.606 Q2017.71 981.606 2020.77 986.212 Q2023.84 990.795 2023.84 999.545 Q2023.84 1008.27 2020.77 1012.88 Q2017.71 1017.46 2011.9 1017.46 Q2006.09 1017.46 2003.01 1012.88 Q1999.95 1008.27 1999.95 999.545 Q1999.95 990.795 2003.01 986.212 Q2006.09 981.606 2011.9 981.606 Z\" fill=\"#000000\" fill-rule=\"evenodd\" fill-opacity=\"1\" /><path clip-path=\"url(#clip200)\" d=\"M 0 0 M2028.91 1010.91 L2033.8 1010.91 L2033.8 1016.79 L2028.91 1016.79 L2028.91 1010.91 Z\" fill=\"#000000\" fill-rule=\"evenodd\" fill-opacity=\"1\" /><path clip-path=\"url(#clip200)\" d=\"M 0 0 M2042.89 1012.86 L2059.21 1012.86 L2059.21 1016.79 L2037.27 1016.79 L2037.27 1012.86 Q2039.93 1010.1 2044.51 1005.47 Q2049.12 1000.82 2050.3 999.476 Q2052.55 996.953 2053.43 995.217 Q2054.33 993.457 2054.33 991.768 Q2054.33 989.013 2052.39 987.277 Q2050.46 985.541 2047.36 985.541 Q2045.16 985.541 2042.71 986.305 Q2040.28 987.069 2037.5 988.62 L2037.5 983.897 Q2040.33 982.763 2042.78 982.184 Q2045.23 981.606 2047.27 981.606 Q2052.64 981.606 2055.83 984.291 Q2059.03 986.976 2059.03 991.467 Q2059.03 993.596 2058.22 995.518 Q2057.43 997.416 2055.33 1000.01 Q2054.75 1000.68 2051.64 1003.9 Q2048.54 1007.09 2042.89 1012.86 Z\" fill=\"#000000\" fill-rule=\"evenodd\" fill-opacity=\"1\" /><path clip-path=\"url(#clip200)\" d=\"M 0 0 M2011.9 744.009 Q2008.29 744.009 2006.46 747.574 Q2004.65 751.115 2004.65 758.245 Q2004.65 765.351 2006.46 768.916 Q2008.29 772.458 2011.9 772.458 Q2015.53 772.458 2017.34 768.916 Q2019.17 765.351 2019.17 758.245 Q2019.17 751.115 2017.34 747.574 Q2015.53 744.009 2011.9 744.009 M2011.9 740.305 Q2017.71 740.305 2020.77 744.912 Q2023.84 749.495 2023.84 758.245 Q2023.84 766.972 2020.77 771.578 Q2017.71 776.161 2011.9 776.161 Q2006.09 776.161 2003.01 771.578 Q1999.95 766.972 1999.95 758.245 Q1999.95 749.495 2003.01 744.912 Q2006.09 740.305 2011.9 740.305 Z\" fill=\"#000000\" fill-rule=\"evenodd\" fill-opacity=\"1\" /><path clip-path=\"url(#clip200)\" d=\"M 0 0 M2028.91 769.611 L2033.8 769.611 L2033.8 775.49 L2028.91 775.49 L2028.91 769.611 Z\" fill=\"#000000\" fill-rule=\"evenodd\" fill-opacity=\"1\" /><path clip-path=\"url(#clip200)\" d=\"M 0 0 M2053.03 756.856 Q2056.39 757.574 2058.26 759.842 Q2060.16 762.111 2060.16 765.444 Q2060.16 770.56 2056.64 773.361 Q2053.13 776.161 2046.64 776.161 Q2044.47 776.161 2042.15 775.722 Q2039.86 775.305 2037.41 774.448 L2037.41 769.935 Q2039.35 771.069 2041.67 771.648 Q2043.98 772.226 2046.51 772.226 Q2050.9 772.226 2053.2 770.49 Q2055.51 768.754 2055.51 765.444 Q2055.51 762.388 2053.36 760.675 Q2051.23 758.939 2047.41 758.939 L2043.38 758.939 L2043.38 755.097 L2047.59 755.097 Q2051.04 755.097 2052.87 753.731 Q2054.7 752.342 2054.7 749.75 Q2054.7 747.088 2052.8 745.675 Q2050.93 744.24 2047.41 744.24 Q2045.49 744.24 2043.29 744.657 Q2041.09 745.074 2038.45 745.953 L2038.45 741.787 Q2041.11 741.046 2043.43 740.676 Q2045.76 740.305 2047.83 740.305 Q2053.15 740.305 2056.25 742.736 Q2059.35 745.143 2059.35 749.263 Q2059.35 752.134 2057.71 754.125 Q2056.07 756.092 2053.03 756.856 Z\" fill=\"#000000\" fill-rule=\"evenodd\" fill-opacity=\"1\" /><path clip-path=\"url(#clip200)\" d=\"M 0 0 M2011.9 502.708 Q2008.29 502.708 2006.46 506.273 Q2004.65 509.815 2004.65 516.944 Q2004.65 524.051 2006.46 527.616 Q2008.29 531.157 2011.9 531.157 Q2015.53 531.157 2017.34 527.616 Q2019.17 524.051 2019.17 516.944 Q2019.17 509.815 2017.34 506.273 Q2015.53 502.708 2011.9 502.708 M2011.9 499.005 Q2017.71 499.005 2020.77 503.611 Q2023.84 508.194 2023.84 516.944 Q2023.84 525.671 2020.77 530.278 Q2017.71 534.861 2011.9 534.861 Q2006.09 534.861 2003.01 530.278 Q1999.95 525.671 1999.95 516.944 Q1999.95 508.194 2003.01 503.611 Q2006.09 499.005 2011.9 499.005 Z\" fill=\"#000000\" fill-rule=\"evenodd\" fill-opacity=\"1\" /><path clip-path=\"url(#clip200)\" d=\"M 0 0 M2028.91 528.31 L2033.8 528.31 L2033.8 534.19 L2028.91 534.19 L2028.91 528.31 Z\" fill=\"#000000\" fill-rule=\"evenodd\" fill-opacity=\"1\" /><path clip-path=\"url(#clip200)\" d=\"M 0 0 M2051.71 503.704 L2039.91 522.153 L2051.71 522.153 L2051.71 503.704 M2050.49 499.63 L2056.37 499.63 L2056.37 522.153 L2061.3 522.153 L2061.3 526.041 L2056.37 526.041 L2056.37 534.19 L2051.71 534.19 L2051.71 526.041 L2036.11 526.041 L2036.11 521.528 L2050.49 499.63 Z\" fill=\"#000000\" fill-rule=\"evenodd\" fill-opacity=\"1\" /><path clip-path=\"url(#clip200)\" d=\"M 0 0 M2011.9 261.408 Q2008.29 261.408 2006.46 264.973 Q2004.65 268.514 2004.65 275.644 Q2004.65 282.75 2006.46 286.315 Q2008.29 289.857 2011.9 289.857 Q2015.53 289.857 2017.34 286.315 Q2019.17 282.75 2019.17 275.644 Q2019.17 268.514 2017.34 264.973 Q2015.53 261.408 2011.9 261.408 M2011.9 257.704 Q2017.71 257.704 2020.77 262.31 Q2023.84 266.894 2023.84 275.644 Q2023.84 284.371 2020.77 288.977 Q2017.71 293.56 2011.9 293.56 Q2006.09 293.56 2003.01 288.977 Q1999.95 284.371 1999.95 275.644 Q1999.95 266.894 2003.01 262.31 Q2006.09 257.704 2011.9 257.704 Z\" fill=\"#000000\" fill-rule=\"evenodd\" fill-opacity=\"1\" /><path clip-path=\"url(#clip200)\" d=\"M 0 0 M2028.91 287.009 L2033.8 287.009 L2033.8 292.889 L2028.91 292.889 L2028.91 287.009 Z\" fill=\"#000000\" fill-rule=\"evenodd\" fill-opacity=\"1\" /><path clip-path=\"url(#clip200)\" d=\"M 0 0 M2038.91 258.329 L2057.27 258.329 L2057.27 262.264 L2043.2 262.264 L2043.2 270.736 Q2044.21 270.389 2045.23 270.227 Q2046.25 270.042 2047.27 270.042 Q2053.06 270.042 2056.44 273.213 Q2059.82 276.384 2059.82 281.801 Q2059.82 287.38 2056.34 290.482 Q2052.87 293.56 2046.55 293.56 Q2044.38 293.56 2042.11 293.19 Q2039.86 292.82 2037.45 292.079 L2037.45 287.38 Q2039.54 288.514 2041.76 289.07 Q2043.98 289.625 2046.46 289.625 Q2050.46 289.625 2052.8 287.519 Q2055.14 285.412 2055.14 281.801 Q2055.14 278.19 2052.8 276.084 Q2050.46 273.977 2046.46 273.977 Q2044.58 273.977 2042.71 274.394 Q2040.86 274.81 2038.91 275.69 L2038.91 258.329 Z\" fill=\"#000000\" fill-rule=\"evenodd\" fill-opacity=\"1\" /><polyline clip-path=\"url(#clip200)\" style=\"stroke:#000000; stroke-width:4; stroke-opacity:1; fill:none\" points=\"\n",
       "  1963.95,1423.18 1963.95,1244.44 1987.95,1244.44 1963.95,1244.44 1963.95,1003.14 1987.95,1003.14 1963.95,1003.14 1963.95,761.839 1987.95,761.839 1963.95,761.839 \n",
       "  1963.95,520.538 1987.95,520.538 1963.95,520.538 1963.95,279.238 1987.95,279.238 1963.95,279.238 1963.95,47.2441 \n",
       "  \"/>\n",
       "</svg>\n"
      ]
     },
     "execution_count": 34,
     "metadata": {},
     "output_type": "execute_result"
    }
   ],
   "source": [
    "#gr()\n",
    "#white_matrix = rand(21,100)\n",
    "heatmap(1:size(white_matrix,1),\n",
    "    1:size(white_matrix,2), white_matrix,\n",
    "    c=cgrad([:blue, :white,:red, :yellow]),\n",
    "    xlabel=\"numero transp.\", ylabel=\"ranks afectados\",\n",
    "    #title=\"My title\",\n",
    "    aspect_ratio=:equal,\n",
    "    xlim=(0,20),ylim=(0,20))"
   ]
  }
 ],
 "metadata": {
  "kernelspec": {
   "display_name": "Julia 1.5.2",
   "language": "julia",
   "name": "julia-1.5"
  },
  "language_info": {
   "file_extension": ".jl",
   "mimetype": "application/julia",
   "name": "julia",
   "version": "1.5.2"
  }
 },
 "nbformat": 4,
 "nbformat_minor": 2
}
