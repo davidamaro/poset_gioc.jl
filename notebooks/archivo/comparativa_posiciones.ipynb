{
 "cells": [
  {
   "cell_type": "code",
   "execution_count": 1,
   "metadata": {},
   "outputs": [
    {
     "name": "stderr",
     "output_type": "stream",
     "text": [
      "┌ Info: Precompiling Posets [849245fe-9976-4417-8fcb-b00bf8cb81e3]\n",
      "└ @ Base loading.jl:1278\n"
     ]
    }
   ],
   "source": [
    "\n",
    "using Posets"
   ]
  },
  {
   "cell_type": "code",
   "execution_count": 2,
   "metadata": {},
   "outputs": [],
   "source": [
    "using CSV\n",
    "using DataFrames\n",
    "using Posets\n",
    "using Plots\n",
    "import Statistics: mean, median\n",
    "using LaTeXStrings\n",
    "using DelimitedFiles"
   ]
  },
  {
   "cell_type": "markdown",
   "metadata": {},
   "source": [
    "# Inicializacion"
   ]
  },
  {
   "cell_type": "code",
   "execution_count": 19,
   "metadata": {},
   "outputs": [],
   "source": [
    "data = readdlm(\"figs/poset0p95_univ_30.dat\",Int);"
   ]
  },
  {
   "cell_type": "code",
   "execution_count": 20,
   "metadata": {},
   "outputs": [],
   "source": [
    "list_dataframes = [DataFrame(CSV.File(\"data/\"*f)) for f in readdir(\"data\")];"
   ]
  },
  {
   "cell_type": "code",
   "execution_count": 21,
   "metadata": {},
   "outputs": [],
   "source": [
    "nombresbuenos = intersect([l.Univ for l in list_dataframes]...);\n",
    "nombresbuenos = nombresbuenos[1:30];"
   ]
  },
  {
   "cell_type": "code",
   "execution_count": 22,
   "metadata": {},
   "outputs": [],
   "source": [
    "data_filtrada = [xxx[([x ∈ nombresbuenos for x in xxx.Univ]),:] for xxx in list_dataframes];"
   ]
  },
  {
   "cell_type": "code",
   "execution_count": 23,
   "metadata": {},
   "outputs": [],
   "source": [
    "puntuaciones = hcat([(sort(d, by = first).Points) for d in data_filtrada]...)/100;"
   ]
  },
  {
   "cell_type": "code",
   "execution_count": 24,
   "metadata": {},
   "outputs": [
    {
     "data": {
      "text/plain": [
       "14-element Array{Array{Int64,1},1}:\n",
       " [4, 11, 3, 28, 27, 6, 8, 30, 26, 2  …  18, 29, 17, 10, 16, 15, 9, 7, 5, 14]\n",
       " [4, 11, 28, 27, 6, 3, 8, 26, 2, 25  …  5, 12, 17, 16, 10, 29, 9, 7, 15, 14]\n",
       " [4, 28, 11, 27, 6, 3, 2, 8, 26, 25  …  5, 12, 17, 16, 10, 29, 9, 7, 15, 14]\n",
       " [4, 28, 11, 27, 6, 3, 2, 8, 26, 25  …  5, 12, 17, 16, 10, 29, 9, 7, 15, 14]\n",
       " [4, 11, 28, 27, 6, 3, 2, 8, 26, 25  …  5, 12, 17, 16, 10, 29, 7, 9, 15, 14]\n",
       " [4, 11, 28, 27, 6, 3, 2, 8, 26, 25  …  17, 5, 10, 16, 12, 29, 7, 9, 15, 14]\n",
       " [4, 11, 28, 27, 6, 3, 2, 8, 26, 25  …  17, 10, 5, 12, 16, 29, 7, 9, 15, 14]\n",
       " [4, 28, 11, 6, 27, 3, 8, 2, 26, 25  …  17, 10, 5, 12, 16, 7, 29, 14, 15, 9]\n",
       " [4, 11, 6, 28, 27, 3, 8, 2, 26, 25  …  17, 10, 12, 16, 5, 7, 29, 15, 9, 14]\n",
       " [4, 11, 6, 28, 27, 3, 8, 2, 26, 25  …  17, 10, 12, 5, 16, 7, 29, 9, 15, 14]\n",
       " [4, 11, 28, 6, 27, 3, 8, 2, 26, 25  …  18, 17, 12, 5, 16, 7, 29, 15, 9, 14]\n",
       " [4, 11, 6, 28, 27, 8, 3, 2, 25, 26  …  12, 18, 16, 17, 5, 7, 29, 9, 15, 14]\n",
       " [4, 11, 6, 28, 27, 8, 3, 2, 26, 25  …  18, 12, 17, 16, 5, 7, 29, 9, 15, 14]\n",
       " [4, 11, 28, 27, 6, 8, 26, 3, 2, 25  …  12, 18, 29, 7, 17, 16, 5, 9, 15, 14]"
      ]
     },
     "execution_count": 24,
     "metadata": {},
     "output_type": "execute_result"
    }
   ],
   "source": [
    "ranks_univs = [sortperm(puntuaciones[:,x], rev = true) for x in 1:14]"
   ]
  },
  {
   "cell_type": "code",
   "execution_count": null,
   "metadata": {},
   "outputs": [],
   "source": [
    "[sortperm(ranks_univs[x])[4] for x in 1:14]"
   ]
  },
  {
   "cell_type": "markdown",
   "metadata": {},
   "source": [
    "## Histogramas, no me gustan"
   ]
  },
  {
   "cell_type": "code",
   "execution_count": null,
   "metadata": {},
   "outputs": [],
   "source": [
    "[sortperm(ranks_univs[x])[6] for x in 1:14] |> histogram"
   ]
  },
  {
   "cell_type": "code",
   "execution_count": null,
   "metadata": {},
   "outputs": [],
   "source": [
    "[sortperm(ranks_univs[x])[11] for x in 1:14] |> histogram"
   ]
  },
  {
   "cell_type": "code",
   "execution_count": null,
   "metadata": {},
   "outputs": [],
   "source": [
    "[sortperm(ranks_univs[x])[27] for x in 1:14] |> histogram"
   ]
  },
  {
   "cell_type": "code",
   "execution_count": null,
   "metadata": {},
   "outputs": [],
   "source": [
    "[sortperm(ranks_univs[x])[28] for x in 1:14] |> histogram"
   ]
  },
  {
   "cell_type": "code",
   "execution_count": null,
   "metadata": {},
   "outputs": [],
   "source": [
    "[sortperm(ranks_univs[x])[3] for x in 1:14] |> histogram"
   ]
  },
  {
   "cell_type": "markdown",
   "metadata": {},
   "source": [
    "# Grafica de posiciones"
   ]
  },
  {
   "cell_type": "code",
   "execution_count": null,
   "metadata": {},
   "outputs": [],
   "source": [
    "function parejapromvar(listaranks,nodo)\n",
    "    (posicionpromedio(listaranks, nodo)\n",
    "        ,2*posicionvarianza(listaranks,nodo) )\n",
    "        #,sqrt(posicionvarianza(listaranks,nodo)) )\n",
    "end"
   ]
  },
  {
   "cell_type": "code",
   "execution_count": null,
   "metadata": {},
   "outputs": [],
   "source": [
    "function findinter(pi,vi,pj,vj)\n",
    "    as = pi - vi/2\n",
    "    ae = pi + vi/2\n",
    "    bs = pj - vj/2\n",
    "    be = pj + vj/2\n",
    "    \n",
    "    #@show as,ae, bs,be\n",
    "    \n",
    "    if bs > ae || as > be\n",
    "        return 0.0\n",
    "    else\n",
    "        os = max(as,bs)\n",
    "        oe = min(ae,be)\n",
    "        return oe-os\n",
    "    end\n",
    "end"
   ]
  },
  {
   "cell_type": "markdown",
   "metadata": {},
   "source": [
    "![ejemplo](figs/poset0p95_univ_30.png)"
   ]
  },
  {
   "cell_type": "markdown",
   "metadata": {},
   "source": [
    "primeros cinco"
   ]
  },
  {
   "cell_type": "code",
   "execution_count": null,
   "metadata": {},
   "outputs": [],
   "source": [
    "using Statistics"
   ]
  },
  {
   "cell_type": "code",
   "execution_count": null,
   "metadata": {},
   "outputs": [],
   "source": [
    "function correlacion(ranks,l1,l2)\n",
    "    pos1 = [r[l1] for r in ranks]\n",
    "    pos2 = [r[l2] for r in ranks]\n",
    "    #@show pos1\n",
    "    xx = mean(pos1.*pos2) - mean(pos1)*mean(pos2)\n",
    "    x1 = sqrt(mean(pos1.*pos1) - mean(pos1)^2)\n",
    "    x2 = sqrt(mean(pos2.*pos2) - mean(pos2)^2)\n",
    "    xx/(x1*x2)\n",
    "end"
   ]
  },
  {
   "cell_type": "code",
   "execution_count": null,
   "metadata": {},
   "outputs": [],
   "source": [
    "correlacion(sortperm.(ranks_univs),6,6)"
   ]
  },
  {
   "cell_type": "markdown",
   "metadata": {},
   "source": [
    "## Comparativa correlacion"
   ]
  },
  {
   "cell_type": "code",
   "execution_count": null,
   "metadata": {},
   "outputs": [],
   "source": [
    "matconci = zeros(Float64,10,10)"
   ]
  },
  {
   "cell_type": "code",
   "execution_count": null,
   "metadata": {},
   "outputs": [],
   "source": [
    "lista = [6,11,27,28, 3, 2,8,26, 25,30]#[6,11,27,28,3]\n",
    "for (x,i) in enumerate(lista), (y,j) in enumerate(lista)\n",
    "    matconci[x,y] = correlacion(sortperm.(ranks_univs), i,j)\n",
    "end"
   ]
  },
  {
   "cell_type": "code",
   "execution_count": null,
   "metadata": {},
   "outputs": [],
   "source": [
    "heatmap(1:size(matconci,1),\n",
    "    1:size(matconci,2), matconci,\n",
    "    c=cgrad([:blue, :white,:red, :yellow]),\n",
    "    xlabel=\"numero transp.\", ylabel=\"ranks afectados\",\n",
    "    #title=\"My title\",\n",
    "    aspect_ratio=:equal,\n",
    "    xlim=(0,10),ylim=(0,10)\n",
    "    ,ytickfontsize=13,xtickfontsize=13)"
   ]
  },
  {
   "cell_type": "markdown",
   "metadata": {},
   "source": [
    "## Comparativa traslape"
   ]
  },
  {
   "cell_type": "code",
   "execution_count": null,
   "metadata": {
    "scrolled": true
   },
   "outputs": [],
   "source": [
    "xs =1:10"
   ]
  },
  {
   "cell_type": "code",
   "execution_count": null,
   "metadata": {},
   "outputs": [],
   "source": [
    "μs = [posicionpromedio(ranks_univs,x) for x in [6,11,27,28, 3, 2,8,26, 25,30]]"
   ]
  },
  {
   "cell_type": "code",
   "execution_count": null,
   "metadata": {},
   "outputs": [],
   "source": [
    "σs = [sqrt(posicionvarianza(ranks_univs,x))/2 for x in [6,11,27,28,3, 2,8,26, 25,30]]"
   ]
  },
  {
   "cell_type": "code",
   "execution_count": null,
   "metadata": {},
   "outputs": [],
   "source": [
    "σs2 = [sqrt(posicionvarianza(ranks_univs,x)) for x in [6,11,27,28,3, 2,8,26, 25,30]]"
   ]
  },
  {
   "cell_type": "code",
   "execution_count": null,
   "metadata": {},
   "outputs": [],
   "source": [
    "fig=plot(xs, μs, grid=false, yerror=σs,line = (:dot,8)\n",
    ",xticks=(xs, [6,11,27,28,3, 2,8,26, 25,30])\n",
    ",xtickfontsize=13\n",
    "    ,ytickfontsize=13\n",
    ",ylabel = \"pos.\")"
   ]
  },
  {
   "cell_type": "code",
   "execution_count": null,
   "metadata": {},
   "outputs": [],
   "source": [
    "fig=plot(xs, μs, grid=false, yerror=σs2,line = (:dot,8)\n",
    ",xticks=(xs, [6,11,27,28,3, 2,8,26, 25,30])\n",
    ",xtickfontsize=13\n",
    "    ,ytickfontsize=13\n",
    ",ylabel = \"pos.\")"
   ]
  },
  {
   "cell_type": "code",
   "execution_count": null,
   "metadata": {},
   "outputs": [],
   "source": [
    "matconci = zeros(Float64,10,10)"
   ]
  },
  {
   "cell_type": "code",
   "execution_count": null,
   "metadata": {},
   "outputs": [],
   "source": [
    "lista = [6,11,27,28, 3, 2,8,26, 25,30]#[6,11,27,28,3]\n",
    "for (x,i) in enumerate(lista), (y,j) in enumerate(lista)\n",
    "    matconci[x,y] = findinter(parejapromvar(ranks_univs,i)...,parejapromvar(ranks_univs,j)...)\n",
    "end"
   ]
  },
  {
   "cell_type": "code",
   "execution_count": null,
   "metadata": {},
   "outputs": [],
   "source": [
    "heatmap(1:size(matconci,1),\n",
    "    1:size(matconci,2), matconci,\n",
    "    c=cgrad([:blue, :white,:red, :yellow]),\n",
    "    xlabel=\"numero transp.\", ylabel=\"ranks afectados\",\n",
    "    #title=\"My title\",\n",
    "    aspect_ratio=:equal,\n",
    "    xlim=(0,10),ylim=(0,10)\n",
    ",ytickfontsize=13,xtickfontsize=13)"
   ]
  },
  {
   "cell_type": "markdown",
   "metadata": {},
   "source": [
    "## Comparativa. Menor es mejor"
   ]
  },
  {
   "cell_type": "code",
   "execution_count": null,
   "metadata": {},
   "outputs": [],
   "source": [
    ";./script.wl figs/posetm3_univ_30.dat"
   ]
  },
  {
   "cell_type": "markdown",
   "metadata": {},
   "source": [
    "![ejemplo](figs/poset0p95_univ_30.png)"
   ]
  },
  {
   "cell_type": "code",
   "execution_count": null,
   "metadata": {},
   "outputs": [],
   "source": [
    "scatter([[sortperm(ranks_univs[x])[3] for x in 1:14] [sortperm(ranks_univs[x])[6] for x in 1:14]], labels = [\"Cornell\" \"MIT\"],legend=:topleft)"
   ]
  },
  {
   "cell_type": "code",
   "execution_count": null,
   "metadata": {},
   "outputs": [],
   "source": [
    "scatter([[sortperm(ranks_univs[x])[3] for x in 1:14] [sortperm(ranks_univs[x])[11] for x in 1:14]], labels = [\"Cornell\" \"Swiss\"],legend=:topleft)"
   ]
  },
  {
   "cell_type": "code",
   "execution_count": null,
   "metadata": {},
   "outputs": [],
   "source": [
    "scatter([[sortperm(ranks_univs[x])[3] for x in 1:14] [sortperm(ranks_univs[x])[27] for x in 1:14]], labels = [\"Cornell\" \"Washington\"],legend=:topleft)"
   ]
  },
  {
   "cell_type": "code",
   "execution_count": null,
   "metadata": {},
   "outputs": [],
   "source": [
    "scatter([[sortperm(ranks_univs[x])[3] for x in 1:14] [sortperm(ranks_univs[x])[28] for x in 1:14]], labels = [\"Cornell\" \"Wisconsin-Madison\"],legend=:topleft)"
   ]
  },
  {
   "cell_type": "code",
   "execution_count": null,
   "metadata": {},
   "outputs": [],
   "source": [
    "scatter([[sortperm(ranks_univs[x])[27] for x in 1:14] [sortperm(ranks_univs[x])[28] for x in 1:14]], labels = [\"Washington\" \"Wisconsin\"],legend=:topleft)"
   ]
  },
  {
   "cell_type": "code",
   "execution_count": null,
   "metadata": {},
   "outputs": [],
   "source": [
    "plot([[sortperm(ranks_univs[x])[6] for x in 1:14] [sortperm(ranks_univs[x])[11] for x in 1:14] [sortperm(ranks_univs[x])[27] for x in 1:14] [sortperm(ranks_univs[x])[28] for x in 1:14]], labels = [\"Mit\" \"Swiss\" \"Washington\" \"Wisconsin\"],legend=:topright)"
   ]
  },
  {
   "cell_type": "code",
   "execution_count": null,
   "metadata": {},
   "outputs": [],
   "source": [
    "fig_e1 = scatter([[sortperm(ranks_univs[x])[27] for x in 1:14] [sortperm(ranks_univs[x])[11] for x in 1:14]], labels = [\"Washington\" \"Swiss\"],legend=:topleft)"
   ]
  },
  {
   "cell_type": "markdown",
   "metadata": {},
   "source": [
    "En este caso, Washington vs Swiss, hay una relacion de superioridad Swiss < Washington."
   ]
  },
  {
   "cell_type": "code",
   "execution_count": null,
   "metadata": {},
   "outputs": [],
   "source": [
    "savefig(fig_e1, \"/home/david/grafica1.png\")"
   ]
  },
  {
   "cell_type": "code",
   "execution_count": null,
   "metadata": {},
   "outputs": [],
   "source": [
    "scatter([[sortperm(ranks_univs[x])[6] for x in 1:14] [sortperm(ranks_univs[x])[11] for x in 1:14]], labels = [\"MIT\" \"Swiss\"],legend=:topleft)"
   ]
  },
  {
   "cell_type": "code",
   "execution_count": null,
   "metadata": {},
   "outputs": [],
   "source": [
    "plot(ys, color = [:black :orange], line = (:dot, 4), )"
   ]
  },
  {
   "cell_type": "code",
   "execution_count": null,
   "metadata": {},
   "outputs": [],
   "source": [
    "marker = ([:hex :d], 12, 0.8, Plots.stroke(3, :gray))"
   ]
  },
  {
   "cell_type": "code",
   "execution_count": null,
   "metadata": {},
   "outputs": [],
   "source": [
    "scatter([[sortperm(ranks_univs[x])[6] for x in 1:14] [sortperm(ranks_univs[x])[11] for x in 1:14]], labels = [\"MIT\" \"Swiss\"],legend=:topleft\n",
    "\n",
    ",line = (:dot,4)\n",
    ",marker = ([:hex :d], 12, 0.8, Plots.stroke(3, :gray)))"
   ]
  },
  {
   "cell_type": "code",
   "execution_count": null,
   "metadata": {},
   "outputs": [],
   "source": [
    "plot([[sortperm(ranks_univs[x])[6] for x in 1:14] [sortperm(ranks_univs[x])[11] for x in 1:14]], labels = [\"MIT\" \"Swiss\"],legend=:topleft\n",
    ",line = (:dot,8)\n",
    ",marker = ([:hex :d], 12))"
   ]
  },
  {
   "cell_type": "code",
   "execution_count": null,
   "metadata": {},
   "outputs": [],
   "source": [
    "plot([[sortperm(ranks_univs[x])[6] for x in 1:14] [sortperm(ranks_univs[x])[11] for x in 1:14]], labels = [\"MIT\" \"Swiss\"],legend=:topleft\n",
    ",linewidth=[4 4]\n",
    ",linecolor = [:red :blue])"
   ]
  },
  {
   "cell_type": "markdown",
   "metadata": {},
   "source": [
    "# Cortes $\\alpha$: discusión distancia rankings a poset"
   ]
  },
  {
   "cell_type": "markdown",
   "metadata": {},
   "source": [
    "1. Calculé unos cortes $\\alpha$"
   ]
  },
  {
   "cell_type": "code",
   "execution_count": 25,
   "metadata": {},
   "outputs": [],
   "source": [
    "corte98= puntuaciones |> fuzzy |> x -> αcut_poset(x, 0.98) |>matriz_rutas;"
   ]
  },
  {
   "cell_type": "code",
   "execution_count": 26,
   "metadata": {},
   "outputs": [],
   "source": [
    "corte95= puntuaciones |> fuzzy |> x -> αcut_poset(x, 0.95) |> matriz_rutas;"
   ]
  },
  {
   "cell_type": "code",
   "execution_count": 27,
   "metadata": {},
   "outputs": [],
   "source": [
    "corte90= puntuaciones |> fuzzy |> x -> αcut_poset(x, 0.90) |> matriz_rutas;"
   ]
  },
  {
   "cell_type": "code",
   "execution_count": 28,
   "metadata": {},
   "outputs": [],
   "source": [
    "corte85= puntuaciones |> fuzzy |> x -> αcut_poset(x, 0.85) |> matriz_rutas;"
   ]
  },
  {
   "cell_type": "code",
   "execution_count": 29,
   "metadata": {},
   "outputs": [],
   "source": [
    "corte80= puntuaciones |> fuzzy |> x -> αcut_poset(x, 0.80) |> matriz_rutas;"
   ]
  },
  {
   "cell_type": "code",
   "execution_count": 30,
   "metadata": {},
   "outputs": [],
   "source": [
    "poset_m3 = puntuaciones |> m3 |> pareja_matrizadyacencia;"
   ]
  },
  {
   "cell_type": "code",
   "execution_count": 31,
   "metadata": {},
   "outputs": [],
   "source": [
    "poset_m2 = puntuaciones |> m2 |> pareja_matrizadyacencia;"
   ]
  },
  {
   "cell_type": "markdown",
   "metadata": {},
   "source": [
    "### Recordatorio energía local\n",
    "Para recordar la definición de la **distancia local**,\n",
    "consideramos un poset con la siguiente **matriz de adyacencia**:\n",
    "\n",
    "$$\n",
    "A = \n",
    "\\begin{pmatrix}\n",
    " 0 & 1 & 1 & 0\\\\\n",
    " 0 & 0 & 0 & 0\\\\\n",
    " 0 & 0 & 0 & 1\\\\\n",
    " 0 & 0 & 0 & 0\n",
    "\\end{pmatrix},\n",
    "$$\n",
    "y el ranking\n",
    "$2 1 4 3$.\n",
    "Como $21$ y $43$ están __invertidos__\n",
    "en el poset, se tiene que la energía\n",
    "local entre el poset y el ranking es $2$.\n"
   ]
  },
  {
   "cell_type": "code",
   "execution_count": 32,
   "metadata": {},
   "outputs": [
    {
     "data": {
      "image/svg+xml": [
       "<?xml version=\"1.0\" encoding=\"utf-8\"?>\n",
       "<svg xmlns=\"http://www.w3.org/2000/svg\" xmlns:xlink=\"http://www.w3.org/1999/xlink\" width=\"600\" height=\"400\" viewBox=\"0 0 2400 1600\">\n",
       "<defs>\n",
       "  <clipPath id=\"clip430\">\n",
       "    <rect x=\"0\" y=\"0\" width=\"2400\" height=\"1600\"/>\n",
       "  </clipPath>\n",
       "</defs>\n",
       "<path clip-path=\"url(#clip430)\" d=\"\n",
       "M0 1600 L2400 1600 L2400 0 L0 0  Z\n",
       "  \" fill=\"#ffffff\" fill-rule=\"evenodd\" fill-opacity=\"1\"/>\n",
       "<defs>\n",
       "  <clipPath id=\"clip431\">\n",
       "    <rect x=\"480\" y=\"0\" width=\"1681\" height=\"1600\"/>\n",
       "  </clipPath>\n",
       "</defs>\n",
       "<path clip-path=\"url(#clip430)\" d=\"\n",
       "M112.177 1486.45 L2352.76 1486.45 L2352.76 47.2441 L112.177 47.2441  Z\n",
       "  \" fill=\"#ffffff\" fill-rule=\"evenodd\" fill-opacity=\"1\"/>\n",
       "<defs>\n",
       "  <clipPath id=\"clip432\">\n",
       "    <rect x=\"112\" y=\"47\" width=\"2242\" height=\"1440\"/>\n",
       "  </clipPath>\n",
       "</defs>\n",
       "<polyline clip-path=\"url(#clip432)\" style=\"stroke:#000000; stroke-width:2; stroke-opacity:0.1; fill:none\" points=\"\n",
       "  235.413,1486.45 235.413,47.2441 \n",
       "  \"/>\n",
       "<polyline clip-path=\"url(#clip432)\" style=\"stroke:#000000; stroke-width:2; stroke-opacity:0.1; fill:none\" points=\"\n",
       "  634.234,1486.45 634.234,47.2441 \n",
       "  \"/>\n",
       "<polyline clip-path=\"url(#clip432)\" style=\"stroke:#000000; stroke-width:2; stroke-opacity:0.1; fill:none\" points=\"\n",
       "  1033.06,1486.45 1033.06,47.2441 \n",
       "  \"/>\n",
       "<polyline clip-path=\"url(#clip432)\" style=\"stroke:#000000; stroke-width:2; stroke-opacity:0.1; fill:none\" points=\"\n",
       "  1431.88,1486.45 1431.88,47.2441 \n",
       "  \"/>\n",
       "<polyline clip-path=\"url(#clip432)\" style=\"stroke:#000000; stroke-width:2; stroke-opacity:0.1; fill:none\" points=\"\n",
       "  1830.7,1486.45 1830.7,47.2441 \n",
       "  \"/>\n",
       "<polyline clip-path=\"url(#clip432)\" style=\"stroke:#000000; stroke-width:2; stroke-opacity:0.1; fill:none\" points=\"\n",
       "  2229.52,1486.45 2229.52,47.2441 \n",
       "  \"/>\n",
       "<polyline clip-path=\"url(#clip430)\" style=\"stroke:#000000; stroke-width:4; stroke-opacity:1; fill:none\" points=\"\n",
       "  112.177,1486.45 2352.76,1486.45 \n",
       "  \"/>\n",
       "<polyline clip-path=\"url(#clip430)\" style=\"stroke:#000000; stroke-width:4; stroke-opacity:1; fill:none\" points=\"\n",
       "  235.413,1486.45 235.413,1469.18 \n",
       "  \"/>\n",
       "<polyline clip-path=\"url(#clip430)\" style=\"stroke:#000000; stroke-width:4; stroke-opacity:1; fill:none\" points=\"\n",
       "  634.234,1486.45 634.234,1469.18 \n",
       "  \"/>\n",
       "<polyline clip-path=\"url(#clip430)\" style=\"stroke:#000000; stroke-width:4; stroke-opacity:1; fill:none\" points=\"\n",
       "  1033.06,1486.45 1033.06,1469.18 \n",
       "  \"/>\n",
       "<polyline clip-path=\"url(#clip430)\" style=\"stroke:#000000; stroke-width:4; stroke-opacity:1; fill:none\" points=\"\n",
       "  1431.88,1486.45 1431.88,1469.18 \n",
       "  \"/>\n",
       "<polyline clip-path=\"url(#clip430)\" style=\"stroke:#000000; stroke-width:4; stroke-opacity:1; fill:none\" points=\"\n",
       "  1830.7,1486.45 1830.7,1469.18 \n",
       "  \"/>\n",
       "<polyline clip-path=\"url(#clip430)\" style=\"stroke:#000000; stroke-width:4; stroke-opacity:1; fill:none\" points=\"\n",
       "  2229.52,1486.45 2229.52,1469.18 \n",
       "  \"/>\n",
       "<path clip-path=\"url(#clip430)\" d=\"M 0 0 M235.413 1515.64 Q231.802 1515.64 229.973 1519.2 Q228.168 1522.75 228.168 1529.87 Q228.168 1536.98 229.973 1540.55 Q231.802 1544.09 235.413 1544.09 Q239.047 1544.09 240.853 1540.55 Q242.681 1536.98 242.681 1529.87 Q242.681 1522.75 240.853 1519.2 Q239.047 1515.64 235.413 1515.64 M235.413 1511.93 Q241.223 1511.93 244.279 1516.54 Q247.357 1521.12 247.357 1529.87 Q247.357 1538.6 244.279 1543.21 Q241.223 1547.79 235.413 1547.79 Q229.603 1547.79 226.524 1543.21 Q223.469 1538.6 223.469 1529.87 Q223.469 1521.12 226.524 1516.54 Q229.603 1511.93 235.413 1511.93 Z\" fill=\"#000000\" fill-rule=\"evenodd\" fill-opacity=\"1\" /><path clip-path=\"url(#clip430)\" d=\"M 0 0 M624.616 1543.18 L632.255 1543.18 L632.255 1516.82 L623.945 1518.49 L623.945 1514.23 L632.209 1512.56 L636.885 1512.56 L636.885 1543.18 L644.524 1543.18 L644.524 1547.12 L624.616 1547.12 L624.616 1543.18 Z\" fill=\"#000000\" fill-rule=\"evenodd\" fill-opacity=\"1\" /><path clip-path=\"url(#clip430)\" d=\"M 0 0 M1027.71 1543.18 L1044.03 1543.18 L1044.03 1547.12 L1022.08 1547.12 L1022.08 1543.18 Q1024.75 1540.43 1029.33 1535.8 Q1033.94 1531.15 1035.12 1529.81 Q1037.36 1527.28 1038.24 1525.55 Q1039.14 1523.79 1039.14 1522.1 Q1039.14 1519.34 1037.2 1517.61 Q1035.28 1515.87 1032.18 1515.87 Q1029.98 1515.87 1027.52 1516.63 Q1025.09 1517.4 1022.32 1518.95 L1022.32 1514.23 Q1025.14 1513.09 1027.59 1512.51 Q1030.05 1511.93 1032.08 1511.93 Q1037.45 1511.93 1040.65 1514.62 Q1043.84 1517.31 1043.84 1521.8 Q1043.84 1523.93 1043.03 1525.85 Q1042.25 1527.74 1040.14 1530.34 Q1039.56 1531.01 1036.46 1534.23 Q1033.36 1537.42 1027.71 1543.18 Z\" fill=\"#000000\" fill-rule=\"evenodd\" fill-opacity=\"1\" /><path clip-path=\"url(#clip430)\" d=\"M 0 0 M1436.12 1528.49 Q1439.48 1529.2 1441.36 1531.47 Q1443.25 1533.74 1443.25 1537.07 Q1443.25 1542.19 1439.74 1544.99 Q1436.22 1547.79 1429.74 1547.79 Q1427.56 1547.79 1425.25 1547.35 Q1422.95 1546.93 1420.5 1546.08 L1420.5 1541.56 Q1422.44 1542.7 1424.76 1543.28 Q1427.07 1543.86 1429.6 1543.86 Q1434 1543.86 1436.29 1542.12 Q1438.6 1540.38 1438.6 1537.07 Q1438.6 1534.02 1436.45 1532.31 Q1434.32 1530.57 1430.5 1530.57 L1426.47 1530.57 L1426.47 1526.73 L1430.69 1526.73 Q1434.13 1526.73 1435.96 1525.36 Q1437.79 1523.97 1437.79 1521.38 Q1437.79 1518.72 1435.89 1517.31 Q1434.02 1515.87 1430.5 1515.87 Q1428.58 1515.87 1426.38 1516.29 Q1424.18 1516.7 1421.54 1517.58 L1421.54 1513.42 Q1424.2 1512.68 1426.52 1512.31 Q1428.86 1511.93 1430.92 1511.93 Q1436.24 1511.93 1439.34 1514.37 Q1442.44 1516.77 1442.44 1520.89 Q1442.44 1523.76 1440.8 1525.75 Q1439.16 1527.72 1436.12 1528.49 Z\" fill=\"#000000\" fill-rule=\"evenodd\" fill-opacity=\"1\" /><path clip-path=\"url(#clip430)\" d=\"M 0 0 M1833.71 1516.63 L1821.9 1535.08 L1833.71 1535.08 L1833.71 1516.63 M1832.48 1512.56 L1838.36 1512.56 L1838.36 1535.08 L1843.29 1535.08 L1843.29 1538.97 L1838.36 1538.97 L1838.36 1547.12 L1833.71 1547.12 L1833.71 1538.97 L1818.11 1538.97 L1818.11 1534.46 L1832.48 1512.56 Z\" fill=\"#000000\" fill-rule=\"evenodd\" fill-opacity=\"1\" /><path clip-path=\"url(#clip430)\" d=\"M 0 0 M2219.8 1512.56 L2238.15 1512.56 L2238.15 1516.5 L2224.08 1516.5 L2224.08 1524.97 Q2225.1 1524.62 2226.12 1524.46 Q2227.14 1524.27 2228.15 1524.27 Q2233.94 1524.27 2237.32 1527.44 Q2240.7 1530.62 2240.7 1536.03 Q2240.7 1541.61 2237.23 1544.71 Q2233.76 1547.79 2227.44 1547.79 Q2225.26 1547.79 2222.99 1547.42 Q2220.75 1547.05 2218.34 1546.31 L2218.34 1541.61 Q2220.42 1542.74 2222.65 1543.3 Q2224.87 1543.86 2227.34 1543.86 Q2231.35 1543.86 2233.69 1541.75 Q2236.02 1539.64 2236.02 1536.03 Q2236.02 1532.42 2233.69 1530.31 Q2231.35 1528.21 2227.34 1528.21 Q2225.47 1528.21 2223.59 1528.62 Q2221.74 1529.04 2219.8 1529.92 L2219.8 1512.56 Z\" fill=\"#000000\" fill-rule=\"evenodd\" fill-opacity=\"1\" /><polyline clip-path=\"url(#clip432)\" style=\"stroke:#000000; stroke-width:2; stroke-opacity:0.1; fill:none\" points=\"\n",
       "  112.177,1445.72 2352.76,1445.72 \n",
       "  \"/>\n",
       "<polyline clip-path=\"url(#clip432)\" style=\"stroke:#000000; stroke-width:2; stroke-opacity:0.1; fill:none\" points=\"\n",
       "  112.177,1106.28 2352.76,1106.28 \n",
       "  \"/>\n",
       "<polyline clip-path=\"url(#clip432)\" style=\"stroke:#000000; stroke-width:2; stroke-opacity:0.1; fill:none\" points=\"\n",
       "  112.177,766.846 2352.76,766.846 \n",
       "  \"/>\n",
       "<polyline clip-path=\"url(#clip432)\" style=\"stroke:#000000; stroke-width:2; stroke-opacity:0.1; fill:none\" points=\"\n",
       "  112.177,427.411 2352.76,427.411 \n",
       "  \"/>\n",
       "<polyline clip-path=\"url(#clip432)\" style=\"stroke:#000000; stroke-width:2; stroke-opacity:0.1; fill:none\" points=\"\n",
       "  112.177,87.9763 2352.76,87.9763 \n",
       "  \"/>\n",
       "<polyline clip-path=\"url(#clip430)\" style=\"stroke:#000000; stroke-width:4; stroke-opacity:1; fill:none\" points=\"\n",
       "  112.177,1486.45 112.177,47.2441 \n",
       "  \"/>\n",
       "<polyline clip-path=\"url(#clip430)\" style=\"stroke:#000000; stroke-width:4; stroke-opacity:1; fill:none\" points=\"\n",
       "  112.177,1445.72 139.064,1445.72 \n",
       "  \"/>\n",
       "<polyline clip-path=\"url(#clip430)\" style=\"stroke:#000000; stroke-width:4; stroke-opacity:1; fill:none\" points=\"\n",
       "  112.177,1106.28 139.064,1106.28 \n",
       "  \"/>\n",
       "<polyline clip-path=\"url(#clip430)\" style=\"stroke:#000000; stroke-width:4; stroke-opacity:1; fill:none\" points=\"\n",
       "  112.177,766.846 139.064,766.846 \n",
       "  \"/>\n",
       "<polyline clip-path=\"url(#clip430)\" style=\"stroke:#000000; stroke-width:4; stroke-opacity:1; fill:none\" points=\"\n",
       "  112.177,427.411 139.064,427.411 \n",
       "  \"/>\n",
       "<polyline clip-path=\"url(#clip430)\" style=\"stroke:#000000; stroke-width:4; stroke-opacity:1; fill:none\" points=\"\n",
       "  112.177,87.9763 139.064,87.9763 \n",
       "  \"/>\n",
       "<path clip-path=\"url(#clip430)\" d=\"M 0 0 M64.2328 1431.51 Q60.6217 1431.51 58.793 1435.08 Q56.9875 1438.62 56.9875 1445.75 Q56.9875 1452.86 58.793 1456.42 Q60.6217 1459.96 64.2328 1459.96 Q67.867 1459.96 69.6726 1456.42 Q71.5013 1452.86 71.5013 1445.75 Q71.5013 1438.62 69.6726 1435.08 Q67.867 1431.51 64.2328 1431.51 M64.2328 1427.81 Q70.0429 1427.81 73.0985 1432.42 Q76.1772 1437 76.1772 1445.75 Q76.1772 1454.48 73.0985 1459.08 Q70.0429 1463.67 64.2328 1463.67 Q58.4226 1463.67 55.344 1459.08 Q52.2884 1454.48 52.2884 1445.75 Q52.2884 1437 55.344 1432.42 Q58.4226 1427.81 64.2328 1427.81 Z\" fill=\"#000000\" fill-rule=\"evenodd\" fill-opacity=\"1\" /><path clip-path=\"url(#clip430)\" d=\"M 0 0 M59.8578 1119.63 L76.1772 1119.63 L76.1772 1123.56 L54.2328 1123.56 L54.2328 1119.63 Q56.8949 1116.87 61.4782 1112.24 Q66.0846 1107.59 67.2652 1106.25 Q69.5105 1103.72 70.3902 1101.99 Q71.2929 1100.23 71.2929 1098.54 Q71.2929 1095.78 69.3485 1094.05 Q67.4272 1092.31 64.3254 1092.31 Q62.1263 1092.31 59.6726 1093.07 Q57.2421 1093.84 54.4643 1095.39 L54.4643 1090.67 Q57.2884 1089.53 59.7421 1088.95 Q62.1958 1088.38 64.2328 1088.38 Q69.6031 1088.38 72.7976 1091.06 Q75.992 1093.75 75.992 1098.24 Q75.992 1100.37 75.1818 1102.29 Q74.3948 1104.19 72.2883 1106.78 Q71.7096 1107.45 68.6078 1110.67 Q65.5059 1113.86 59.8578 1119.63 Z\" fill=\"#000000\" fill-rule=\"evenodd\" fill-opacity=\"1\" /><path clip-path=\"url(#clip430)\" d=\"M 0 0 M66.5939 753.64 L54.7884 772.089 L66.5939 772.089 L66.5939 753.64 M65.367 749.566 L71.2466 749.566 L71.2466 772.089 L76.1772 772.089 L76.1772 775.978 L71.2466 775.978 L71.2466 784.126 L66.5939 784.126 L66.5939 775.978 L50.9921 775.978 L50.9921 771.464 L65.367 749.566 Z\" fill=\"#000000\" fill-rule=\"evenodd\" fill-opacity=\"1\" /><path clip-path=\"url(#clip430)\" d=\"M 0 0 M64.6495 425.548 Q61.5013 425.548 59.6495 427.7 Q57.8208 429.853 57.8208 433.603 Q57.8208 437.33 59.6495 439.506 Q61.5013 441.659 64.6495 441.659 Q67.7976 441.659 69.6263 439.506 Q71.4781 437.33 71.4781 433.603 Q71.4781 429.853 69.6263 427.7 Q67.7976 425.548 64.6495 425.548 M73.9318 410.895 L73.9318 415.154 Q72.1726 414.321 70.367 413.881 Q68.5846 413.441 66.8254 413.441 Q62.1958 413.441 59.7421 416.566 Q57.3115 419.691 56.9643 426.011 Q58.33 423.997 60.3902 422.932 Q62.4504 421.844 64.9272 421.844 Q70.1355 421.844 73.1448 425.015 Q76.1772 428.163 76.1772 433.603 Q76.1772 438.927 73.029 442.145 Q69.8809 445.362 64.6495 445.362 Q58.6541 445.362 55.4828 440.779 Q52.3116 436.173 52.3116 427.446 Q52.3116 419.251 56.2004 414.39 Q60.0893 409.506 66.6402 409.506 Q68.3994 409.506 70.1818 409.853 Q71.9874 410.201 73.9318 410.895 Z\" fill=\"#000000\" fill-rule=\"evenodd\" fill-opacity=\"1\" /><path clip-path=\"url(#clip430)\" d=\"M 0 0 M64.3254 88.8443 Q60.9921 88.8443 59.0708 90.6267 Q57.1726 92.4091 57.1726 95.5341 Q57.1726 98.6591 59.0708 100.441 Q60.9921 102.224 64.3254 102.224 Q67.6587 102.224 69.58 100.441 Q71.5013 98.6359 71.5013 95.5341 Q71.5013 92.4091 69.58 90.6267 Q67.6819 88.8443 64.3254 88.8443 M59.6495 86.8536 Q56.6402 86.1129 54.9504 84.0527 Q53.2838 81.9925 53.2838 79.0296 Q53.2838 74.8861 56.2236 72.4787 Q59.1865 70.0713 64.3254 70.0713 Q69.4874 70.0713 72.4272 72.4787 Q75.367 74.8861 75.367 79.0296 Q75.367 81.9925 73.6772 84.0527 Q72.0105 86.1129 69.0244 86.8536 Q72.404 87.6406 74.279 89.9323 Q76.1772 92.2239 76.1772 95.5341 Q76.1772 100.557 73.0985 103.242 Q70.0429 105.928 64.3254 105.928 Q58.6078 105.928 55.5291 103.242 Q52.4736 100.557 52.4736 95.5341 Q52.4736 92.2239 54.3717 89.9323 Q56.2699 87.6406 59.6495 86.8536 M57.9365 79.4694 Q57.9365 82.1545 59.6032 83.6592 Q61.293 85.1638 64.3254 85.1638 Q67.3346 85.1638 69.0244 83.6592 Q70.7374 82.1545 70.7374 79.4694 Q70.7374 76.7842 69.0244 75.2796 Q67.3346 73.775 64.3254 73.775 Q61.293 73.775 59.6032 75.2796 Q57.9365 76.7842 57.9365 79.4694 Z\" fill=\"#000000\" fill-rule=\"evenodd\" fill-opacity=\"1\" /><path clip-path=\"url(#clip432)\" d=\"\n",
       "M235.413 87.9763 L235.413 1445.72 L634.234 1445.72 L634.234 87.9763 L235.413 87.9763 L235.413 87.9763  Z\n",
       "  \" fill=\"#009af9\" fill-rule=\"evenodd\" fill-opacity=\"1\"/>\n",
       "<polyline clip-path=\"url(#clip432)\" style=\"stroke:#000000; stroke-width:4; stroke-opacity:1; fill:none\" points=\"\n",
       "  235.413,87.9763 235.413,1445.72 634.234,1445.72 634.234,87.9763 235.413,87.9763 \n",
       "  \"/>\n",
       "<path clip-path=\"url(#clip432)\" d=\"\n",
       "M634.234 1106.28 L634.234 1445.72 L1033.06 1445.72 L1033.06 1106.28 L634.234 1106.28 L634.234 1106.28  Z\n",
       "  \" fill=\"#009af9\" fill-rule=\"evenodd\" fill-opacity=\"1\"/>\n",
       "<polyline clip-path=\"url(#clip432)\" style=\"stroke:#000000; stroke-width:4; stroke-opacity:1; fill:none\" points=\"\n",
       "  634.234,1106.28 634.234,1445.72 1033.06,1445.72 1033.06,1106.28 634.234,1106.28 \n",
       "  \"/>\n",
       "<path clip-path=\"url(#clip432)\" d=\"\n",
       "M1033.06 1106.28 L1033.06 1445.72 L1431.88 1445.72 L1431.88 1106.28 L1033.06 1106.28 L1033.06 1106.28  Z\n",
       "  \" fill=\"#009af9\" fill-rule=\"evenodd\" fill-opacity=\"1\"/>\n",
       "<polyline clip-path=\"url(#clip432)\" style=\"stroke:#000000; stroke-width:4; stroke-opacity:1; fill:none\" points=\"\n",
       "  1033.06,1106.28 1033.06,1445.72 1431.88,1445.72 1431.88,1106.28 1033.06,1106.28 \n",
       "  \"/>\n",
       "<path clip-path=\"url(#clip432)\" d=\"\n",
       "M1431.88 1276 L1431.88 1445.72 L1830.7 1445.72 L1830.7 1276 L1431.88 1276 L1431.88 1276  Z\n",
       "  \" fill=\"#009af9\" fill-rule=\"evenodd\" fill-opacity=\"1\"/>\n",
       "<polyline clip-path=\"url(#clip432)\" style=\"stroke:#000000; stroke-width:4; stroke-opacity:1; fill:none\" points=\"\n",
       "  1431.88,1276 1431.88,1445.72 1830.7,1445.72 1830.7,1276 1431.88,1276 \n",
       "  \"/>\n",
       "<path clip-path=\"url(#clip432)\" d=\"\n",
       "M1830.7 1276 L1830.7 1445.72 L2229.52 1445.72 L2229.52 1276 L1830.7 1276 L1830.7 1276  Z\n",
       "  \" fill=\"#009af9\" fill-rule=\"evenodd\" fill-opacity=\"1\"/>\n",
       "<polyline clip-path=\"url(#clip432)\" style=\"stroke:#000000; stroke-width:4; stroke-opacity:1; fill:none\" points=\"\n",
       "  1830.7,1276 1830.7,1445.72 2229.52,1445.72 2229.52,1276 1830.7,1276 \n",
       "  \"/>\n",
       "<path clip-path=\"url(#clip430)\" d=\"\n",
       "M1978.1 216.178 L2278.07 216.178 L2278.07 95.2176 L1978.1 95.2176  Z\n",
       "  \" fill=\"#ffffff\" fill-rule=\"evenodd\" fill-opacity=\"1\"/>\n",
       "<polyline clip-path=\"url(#clip430)\" style=\"stroke:#000000; stroke-width:4; stroke-opacity:1; fill:none\" points=\"\n",
       "  1978.1,216.178 2278.07,216.178 2278.07,95.2176 1978.1,95.2176 1978.1,216.178 \n",
       "  \"/>\n",
       "<path clip-path=\"url(#clip430)\" d=\"\n",
       "M2002.99 179.89 L2152.37 179.89 L2152.37 131.506 L2002.99 131.506 L2002.99 179.89  Z\n",
       "  \" fill=\"#009af9\" fill-rule=\"evenodd\" fill-opacity=\"1\"/>\n",
       "<polyline clip-path=\"url(#clip430)\" style=\"stroke:#000000; stroke-width:4; stroke-opacity:1; fill:none\" points=\"\n",
       "  2002.99,179.89 2152.37,179.89 2152.37,131.506 2002.99,131.506 2002.99,179.89 \n",
       "  \"/>\n",
       "<path clip-path=\"url(#clip430)\" d=\"M 0 0 M2191.1 175.385 Q2189.3 180.015 2187.59 181.427 Q2185.87 182.839 2183 182.839 L2179.6 182.839 L2179.6 179.274 L2182.1 179.274 Q2183.86 179.274 2184.83 178.44 Q2185.8 177.607 2186.98 174.505 L2187.75 172.561 L2177.26 147.052 L2181.77 147.052 L2189.88 167.329 L2197.98 147.052 L2202.49 147.052 L2191.1 175.385 Z\" fill=\"#000000\" fill-rule=\"evenodd\" fill-opacity=\"1\" /><path clip-path=\"url(#clip430)\" d=\"M 0 0 M2208.37 169.042 L2216.01 169.042 L2216.01 142.677 L2207.7 144.343 L2207.7 140.084 L2215.96 138.418 L2220.64 138.418 L2220.64 169.042 L2228.28 169.042 L2228.28 172.978 L2208.37 172.978 L2208.37 169.042 Z\" fill=\"#000000\" fill-rule=\"evenodd\" fill-opacity=\"1\" /></svg>\n"
      ]
     },
     "execution_count": 32,
     "metadata": {},
     "output_type": "execute_result"
    }
   ],
   "source": [
    "[energia_local(ranks, corte95) for ranks in ranks_univs] |> x -> histogram(x, bins=6)"
   ]
  },
  {
   "cell_type": "code",
   "execution_count": 33,
   "metadata": {},
   "outputs": [
    {
     "data": {
      "image/svg+xml": [
       "<?xml version=\"1.0\" encoding=\"utf-8\"?>\n",
       "<svg xmlns=\"http://www.w3.org/2000/svg\" xmlns:xlink=\"http://www.w3.org/1999/xlink\" width=\"600\" height=\"400\" viewBox=\"0 0 2400 1600\">\n",
       "<defs>\n",
       "  <clipPath id=\"clip470\">\n",
       "    <rect x=\"0\" y=\"0\" width=\"2400\" height=\"1600\"/>\n",
       "  </clipPath>\n",
       "</defs>\n",
       "<path clip-path=\"url(#clip470)\" d=\"\n",
       "M0 1600 L2400 1600 L2400 0 L0 0  Z\n",
       "  \" fill=\"#ffffff\" fill-rule=\"evenodd\" fill-opacity=\"1\"/>\n",
       "<defs>\n",
       "  <clipPath id=\"clip471\">\n",
       "    <rect x=\"480\" y=\"0\" width=\"1681\" height=\"1600\"/>\n",
       "  </clipPath>\n",
       "</defs>\n",
       "<path clip-path=\"url(#clip470)\" d=\"\n",
       "M112.177 1486.45 L2352.76 1486.45 L2352.76 47.2441 L112.177 47.2441  Z\n",
       "  \" fill=\"#ffffff\" fill-rule=\"evenodd\" fill-opacity=\"1\"/>\n",
       "<defs>\n",
       "  <clipPath id=\"clip472\">\n",
       "    <rect x=\"112\" y=\"47\" width=\"2242\" height=\"1440\"/>\n",
       "  </clipPath>\n",
       "</defs>\n",
       "<polyline clip-path=\"url(#clip472)\" style=\"stroke:#000000; stroke-width:2; stroke-opacity:0.1; fill:none\" points=\"\n",
       "  209.464,1486.45 209.464,47.2441 \n",
       "  \"/>\n",
       "<polyline clip-path=\"url(#clip472)\" style=\"stroke:#000000; stroke-width:2; stroke-opacity:0.1; fill:none\" points=\"\n",
       "  661.121,1486.45 661.121,47.2441 \n",
       "  \"/>\n",
       "<polyline clip-path=\"url(#clip472)\" style=\"stroke:#000000; stroke-width:2; stroke-opacity:0.1; fill:none\" points=\"\n",
       "  1112.78,1486.45 1112.78,47.2441 \n",
       "  \"/>\n",
       "<polyline clip-path=\"url(#clip472)\" style=\"stroke:#000000; stroke-width:2; stroke-opacity:0.1; fill:none\" points=\"\n",
       "  1564.43,1486.45 1564.43,47.2441 \n",
       "  \"/>\n",
       "<polyline clip-path=\"url(#clip472)\" style=\"stroke:#000000; stroke-width:2; stroke-opacity:0.1; fill:none\" points=\"\n",
       "  2016.09,1486.45 2016.09,47.2441 \n",
       "  \"/>\n",
       "<polyline clip-path=\"url(#clip470)\" style=\"stroke:#000000; stroke-width:4; stroke-opacity:1; fill:none\" points=\"\n",
       "  112.177,1486.45 2352.76,1486.45 \n",
       "  \"/>\n",
       "<polyline clip-path=\"url(#clip470)\" style=\"stroke:#000000; stroke-width:4; stroke-opacity:1; fill:none\" points=\"\n",
       "  209.464,1486.45 209.464,1469.18 \n",
       "  \"/>\n",
       "<polyline clip-path=\"url(#clip470)\" style=\"stroke:#000000; stroke-width:4; stroke-opacity:1; fill:none\" points=\"\n",
       "  661.121,1486.45 661.121,1469.18 \n",
       "  \"/>\n",
       "<polyline clip-path=\"url(#clip470)\" style=\"stroke:#000000; stroke-width:4; stroke-opacity:1; fill:none\" points=\"\n",
       "  1112.78,1486.45 1112.78,1469.18 \n",
       "  \"/>\n",
       "<polyline clip-path=\"url(#clip470)\" style=\"stroke:#000000; stroke-width:4; stroke-opacity:1; fill:none\" points=\"\n",
       "  1564.43,1486.45 1564.43,1469.18 \n",
       "  \"/>\n",
       "<polyline clip-path=\"url(#clip470)\" style=\"stroke:#000000; stroke-width:4; stroke-opacity:1; fill:none\" points=\"\n",
       "  2016.09,1486.45 2016.09,1469.18 \n",
       "  \"/>\n",
       "<path clip-path=\"url(#clip470)\" d=\"M 0 0 M209.464 1515.64 Q205.853 1515.64 204.024 1519.2 Q202.219 1522.75 202.219 1529.87 Q202.219 1536.98 204.024 1540.55 Q205.853 1544.09 209.464 1544.09 Q213.098 1544.09 214.904 1540.55 Q216.733 1536.98 216.733 1529.87 Q216.733 1522.75 214.904 1519.2 Q213.098 1515.64 209.464 1515.64 M209.464 1511.93 Q215.274 1511.93 218.33 1516.54 Q221.408 1521.12 221.408 1529.87 Q221.408 1538.6 218.33 1543.21 Q215.274 1547.79 209.464 1547.79 Q203.654 1547.79 200.575 1543.21 Q197.52 1538.6 197.52 1529.87 Q197.52 1521.12 200.575 1516.54 Q203.654 1511.93 209.464 1511.93 Z\" fill=\"#000000\" fill-rule=\"evenodd\" fill-opacity=\"1\" /><path clip-path=\"url(#clip470)\" d=\"M 0 0 M655.774 1543.18 L672.093 1543.18 L672.093 1547.12 L650.149 1547.12 L650.149 1543.18 Q652.811 1540.43 657.394 1535.8 Q662 1531.15 663.181 1529.81 Q665.426 1527.28 666.306 1525.55 Q667.209 1523.79 667.209 1522.1 Q667.209 1519.34 665.264 1517.61 Q663.343 1515.87 660.241 1515.87 Q658.042 1515.87 655.588 1516.63 Q653.158 1517.4 650.38 1518.95 L650.38 1514.23 Q653.204 1513.09 655.658 1512.51 Q658.112 1511.93 660.149 1511.93 Q665.519 1511.93 668.713 1514.62 Q671.908 1517.31 671.908 1521.8 Q671.908 1523.93 671.098 1525.85 Q670.311 1527.74 668.204 1530.34 Q667.625 1531.01 664.524 1534.23 Q661.422 1537.42 655.774 1543.18 Z\" fill=\"#000000\" fill-rule=\"evenodd\" fill-opacity=\"1\" /><path clip-path=\"url(#clip470)\" d=\"M 0 0 M1115.79 1516.63 L1103.98 1535.08 L1115.79 1535.08 L1115.79 1516.63 M1114.56 1512.56 L1120.44 1512.56 L1120.44 1535.08 L1125.37 1535.08 L1125.37 1538.97 L1120.44 1538.97 L1120.44 1547.12 L1115.79 1547.12 L1115.79 1538.97 L1100.18 1538.97 L1100.18 1534.46 L1114.56 1512.56 Z\" fill=\"#000000\" fill-rule=\"evenodd\" fill-opacity=\"1\" /><path clip-path=\"url(#clip470)\" d=\"M 0 0 M1564.84 1527.98 Q1561.69 1527.98 1559.84 1530.13 Q1558.01 1532.28 1558.01 1536.03 Q1558.01 1539.76 1559.84 1541.93 Q1561.69 1544.09 1564.84 1544.09 Q1567.99 1544.09 1569.82 1541.93 Q1571.67 1539.76 1571.67 1536.03 Q1571.67 1532.28 1569.82 1530.13 Q1567.99 1527.98 1564.84 1527.98 M1574.12 1513.32 L1574.12 1517.58 Q1572.36 1516.75 1570.56 1516.31 Q1568.77 1515.87 1567.02 1515.87 Q1562.39 1515.87 1559.93 1519 Q1557.5 1522.12 1557.15 1528.44 Q1558.52 1526.43 1560.58 1525.36 Q1562.64 1524.27 1565.12 1524.27 Q1570.33 1524.27 1573.33 1527.44 Q1576.37 1530.59 1576.37 1536.03 Q1576.37 1541.36 1573.22 1544.57 Q1570.07 1547.79 1564.84 1547.79 Q1558.84 1547.79 1555.67 1543.21 Q1552.5 1538.6 1552.5 1529.87 Q1552.5 1521.68 1556.39 1516.82 Q1560.28 1511.93 1566.83 1511.93 Q1568.59 1511.93 1570.37 1512.28 Q1572.18 1512.63 1574.12 1513.32 Z\" fill=\"#000000\" fill-rule=\"evenodd\" fill-opacity=\"1\" /><path clip-path=\"url(#clip470)\" d=\"M 0 0 M2016.09 1530.71 Q2012.76 1530.71 2010.84 1532.49 Q2008.94 1534.27 2008.94 1537.4 Q2008.94 1540.52 2010.84 1542.31 Q2012.76 1544.09 2016.09 1544.09 Q2019.42 1544.09 2021.35 1542.31 Q2023.27 1540.5 2023.27 1537.4 Q2023.27 1534.27 2021.35 1532.49 Q2019.45 1530.71 2016.09 1530.71 M2011.42 1528.72 Q2008.41 1527.98 2006.72 1525.92 Q2005.05 1523.86 2005.05 1520.89 Q2005.05 1516.75 2007.99 1514.34 Q2010.95 1511.93 2016.09 1511.93 Q2021.25 1511.93 2024.19 1514.34 Q2027.13 1516.75 2027.13 1520.89 Q2027.13 1523.86 2025.44 1525.92 Q2023.78 1527.98 2020.79 1528.72 Q2024.17 1529.5 2026.04 1531.8 Q2027.94 1534.09 2027.94 1537.4 Q2027.94 1542.42 2024.86 1545.11 Q2021.81 1547.79 2016.09 1547.79 Q2010.37 1547.79 2007.29 1545.11 Q2004.24 1542.42 2004.24 1537.4 Q2004.24 1534.09 2006.14 1531.8 Q2008.04 1529.5 2011.42 1528.72 M2009.7 1521.33 Q2009.7 1524.02 2011.37 1525.52 Q2013.06 1527.03 2016.09 1527.03 Q2019.1 1527.03 2020.79 1525.52 Q2022.5 1524.02 2022.5 1521.33 Q2022.5 1518.65 2020.79 1517.14 Q2019.1 1515.64 2016.09 1515.64 Q2013.06 1515.64 2011.37 1517.14 Q2009.7 1518.65 2009.7 1521.33 Z\" fill=\"#000000\" fill-rule=\"evenodd\" fill-opacity=\"1\" /><polyline clip-path=\"url(#clip472)\" style=\"stroke:#000000; stroke-width:2; stroke-opacity:0.1; fill:none\" points=\"\n",
       "  112.177,1445.72 2352.76,1445.72 \n",
       "  \"/>\n",
       "<polyline clip-path=\"url(#clip472)\" style=\"stroke:#000000; stroke-width:2; stroke-opacity:0.1; fill:none\" points=\"\n",
       "  112.177,1106.28 2352.76,1106.28 \n",
       "  \"/>\n",
       "<polyline clip-path=\"url(#clip472)\" style=\"stroke:#000000; stroke-width:2; stroke-opacity:0.1; fill:none\" points=\"\n",
       "  112.177,766.846 2352.76,766.846 \n",
       "  \"/>\n",
       "<polyline clip-path=\"url(#clip472)\" style=\"stroke:#000000; stroke-width:2; stroke-opacity:0.1; fill:none\" points=\"\n",
       "  112.177,427.411 2352.76,427.411 \n",
       "  \"/>\n",
       "<polyline clip-path=\"url(#clip472)\" style=\"stroke:#000000; stroke-width:2; stroke-opacity:0.1; fill:none\" points=\"\n",
       "  112.177,87.9763 2352.76,87.9763 \n",
       "  \"/>\n",
       "<polyline clip-path=\"url(#clip470)\" style=\"stroke:#000000; stroke-width:4; stroke-opacity:1; fill:none\" points=\"\n",
       "  112.177,1486.45 112.177,47.2441 \n",
       "  \"/>\n",
       "<polyline clip-path=\"url(#clip470)\" style=\"stroke:#000000; stroke-width:4; stroke-opacity:1; fill:none\" points=\"\n",
       "  112.177,1445.72 139.064,1445.72 \n",
       "  \"/>\n",
       "<polyline clip-path=\"url(#clip470)\" style=\"stroke:#000000; stroke-width:4; stroke-opacity:1; fill:none\" points=\"\n",
       "  112.177,1106.28 139.064,1106.28 \n",
       "  \"/>\n",
       "<polyline clip-path=\"url(#clip470)\" style=\"stroke:#000000; stroke-width:4; stroke-opacity:1; fill:none\" points=\"\n",
       "  112.177,766.846 139.064,766.846 \n",
       "  \"/>\n",
       "<polyline clip-path=\"url(#clip470)\" style=\"stroke:#000000; stroke-width:4; stroke-opacity:1; fill:none\" points=\"\n",
       "  112.177,427.411 139.064,427.411 \n",
       "  \"/>\n",
       "<polyline clip-path=\"url(#clip470)\" style=\"stroke:#000000; stroke-width:4; stroke-opacity:1; fill:none\" points=\"\n",
       "  112.177,87.9763 139.064,87.9763 \n",
       "  \"/>\n",
       "<path clip-path=\"url(#clip470)\" d=\"M 0 0 M64.2328 1431.51 Q60.6217 1431.51 58.793 1435.08 Q56.9875 1438.62 56.9875 1445.75 Q56.9875 1452.86 58.793 1456.42 Q60.6217 1459.96 64.2328 1459.96 Q67.867 1459.96 69.6726 1456.42 Q71.5013 1452.86 71.5013 1445.75 Q71.5013 1438.62 69.6726 1435.08 Q67.867 1431.51 64.2328 1431.51 M64.2328 1427.81 Q70.0429 1427.81 73.0985 1432.42 Q76.1772 1437 76.1772 1445.75 Q76.1772 1454.48 73.0985 1459.08 Q70.0429 1463.67 64.2328 1463.67 Q58.4226 1463.67 55.344 1459.08 Q52.2884 1454.48 52.2884 1445.75 Q52.2884 1437 55.344 1432.42 Q58.4226 1427.81 64.2328 1427.81 Z\" fill=\"#000000\" fill-rule=\"evenodd\" fill-opacity=\"1\" /><path clip-path=\"url(#clip470)\" d=\"M 0 0 M59.8578 1119.63 L76.1772 1119.63 L76.1772 1123.56 L54.2328 1123.56 L54.2328 1119.63 Q56.8949 1116.87 61.4782 1112.24 Q66.0846 1107.59 67.2652 1106.25 Q69.5105 1103.72 70.3902 1101.99 Q71.2929 1100.23 71.2929 1098.54 Q71.2929 1095.78 69.3485 1094.05 Q67.4272 1092.31 64.3254 1092.31 Q62.1263 1092.31 59.6726 1093.07 Q57.2421 1093.84 54.4643 1095.39 L54.4643 1090.67 Q57.2884 1089.53 59.7421 1088.95 Q62.1958 1088.38 64.2328 1088.38 Q69.6031 1088.38 72.7976 1091.06 Q75.992 1093.75 75.992 1098.24 Q75.992 1100.37 75.1818 1102.29 Q74.3948 1104.19 72.2883 1106.78 Q71.7096 1107.45 68.6078 1110.67 Q65.5059 1113.86 59.8578 1119.63 Z\" fill=\"#000000\" fill-rule=\"evenodd\" fill-opacity=\"1\" /><path clip-path=\"url(#clip470)\" d=\"M 0 0 M66.5939 753.64 L54.7884 772.089 L66.5939 772.089 L66.5939 753.64 M65.367 749.566 L71.2466 749.566 L71.2466 772.089 L76.1772 772.089 L76.1772 775.978 L71.2466 775.978 L71.2466 784.126 L66.5939 784.126 L66.5939 775.978 L50.9921 775.978 L50.9921 771.464 L65.367 749.566 Z\" fill=\"#000000\" fill-rule=\"evenodd\" fill-opacity=\"1\" /><path clip-path=\"url(#clip470)\" d=\"M 0 0 M64.6495 425.548 Q61.5013 425.548 59.6495 427.7 Q57.8208 429.853 57.8208 433.603 Q57.8208 437.33 59.6495 439.506 Q61.5013 441.659 64.6495 441.659 Q67.7976 441.659 69.6263 439.506 Q71.4781 437.33 71.4781 433.603 Q71.4781 429.853 69.6263 427.7 Q67.7976 425.548 64.6495 425.548 M73.9318 410.895 L73.9318 415.154 Q72.1726 414.321 70.367 413.881 Q68.5846 413.441 66.8254 413.441 Q62.1958 413.441 59.7421 416.566 Q57.3115 419.691 56.9643 426.011 Q58.33 423.997 60.3902 422.932 Q62.4504 421.844 64.9272 421.844 Q70.1355 421.844 73.1448 425.015 Q76.1772 428.163 76.1772 433.603 Q76.1772 438.927 73.029 442.145 Q69.8809 445.362 64.6495 445.362 Q58.6541 445.362 55.4828 440.779 Q52.3116 436.173 52.3116 427.446 Q52.3116 419.251 56.2004 414.39 Q60.0893 409.506 66.6402 409.506 Q68.3994 409.506 70.1818 409.853 Q71.9874 410.201 73.9318 410.895 Z\" fill=\"#000000\" fill-rule=\"evenodd\" fill-opacity=\"1\" /><path clip-path=\"url(#clip470)\" d=\"M 0 0 M64.3254 88.8443 Q60.9921 88.8443 59.0708 90.6267 Q57.1726 92.4091 57.1726 95.5341 Q57.1726 98.6591 59.0708 100.441 Q60.9921 102.224 64.3254 102.224 Q67.6587 102.224 69.58 100.441 Q71.5013 98.6359 71.5013 95.5341 Q71.5013 92.4091 69.58 90.6267 Q67.6819 88.8443 64.3254 88.8443 M59.6495 86.8536 Q56.6402 86.1129 54.9504 84.0527 Q53.2838 81.9925 53.2838 79.0296 Q53.2838 74.8861 56.2236 72.4787 Q59.1865 70.0713 64.3254 70.0713 Q69.4874 70.0713 72.4272 72.4787 Q75.367 74.8861 75.367 79.0296 Q75.367 81.9925 73.6772 84.0527 Q72.0105 86.1129 69.0244 86.8536 Q72.404 87.6406 74.279 89.9323 Q76.1772 92.2239 76.1772 95.5341 Q76.1772 100.557 73.0985 103.242 Q70.0429 105.928 64.3254 105.928 Q58.6078 105.928 55.5291 103.242 Q52.4736 100.557 52.4736 95.5341 Q52.4736 92.2239 54.3717 89.9323 Q56.2699 87.6406 59.6495 86.8536 M57.9365 79.4694 Q57.9365 82.1545 59.6032 83.6592 Q61.293 85.1638 64.3254 85.1638 Q67.3346 85.1638 69.0244 83.6592 Q70.7374 82.1545 70.7374 79.4694 Q70.7374 76.7842 69.0244 75.2796 Q67.3346 73.775 64.3254 73.775 Q61.293 73.775 59.6032 75.2796 Q57.9365 76.7842 57.9365 79.4694 Z\" fill=\"#000000\" fill-rule=\"evenodd\" fill-opacity=\"1\" /><path clip-path=\"url(#clip472)\" d=\"\n",
       "M209.464 87.9763 L209.464 1445.72 L435.292 1445.72 L435.292 87.9763 L209.464 87.9763 L209.464 87.9763  Z\n",
       "  \" fill=\"#009af9\" fill-rule=\"evenodd\" fill-opacity=\"1\"/>\n",
       "<polyline clip-path=\"url(#clip472)\" style=\"stroke:#000000; stroke-width:4; stroke-opacity:1; fill:none\" points=\"\n",
       "  209.464,87.9763 209.464,1445.72 435.292,1445.72 435.292,87.9763 209.464,87.9763 \n",
       "  \"/>\n",
       "<path clip-path=\"url(#clip472)\" d=\"\n",
       "M435.292 1106.28 L435.292 1445.72 L661.121 1445.72 L661.121 1106.28 L435.292 1106.28 L435.292 1106.28  Z\n",
       "  \" fill=\"#009af9\" fill-rule=\"evenodd\" fill-opacity=\"1\"/>\n",
       "<polyline clip-path=\"url(#clip472)\" style=\"stroke:#000000; stroke-width:4; stroke-opacity:1; fill:none\" points=\"\n",
       "  435.292,1106.28 435.292,1445.72 661.121,1445.72 661.121,1106.28 435.292,1106.28 \n",
       "  \"/>\n",
       "<path clip-path=\"url(#clip472)\" d=\"\n",
       "M661.121 1106.28 L661.121 1445.72 L886.949 1445.72 L886.949 1106.28 L661.121 1106.28 L661.121 1106.28  Z\n",
       "  \" fill=\"#009af9\" fill-rule=\"evenodd\" fill-opacity=\"1\"/>\n",
       "<polyline clip-path=\"url(#clip472)\" style=\"stroke:#000000; stroke-width:4; stroke-opacity:1; fill:none\" points=\"\n",
       "  661.121,1106.28 661.121,1445.72 886.949,1445.72 886.949,1106.28 661.121,1106.28 \n",
       "  \"/>\n",
       "<path clip-path=\"url(#clip472)\" d=\"\n",
       "M886.949 1276 L886.949 1445.72 L1112.78 1445.72 L1112.78 1276 L886.949 1276 L886.949 1276  Z\n",
       "  \" fill=\"#009af9\" fill-rule=\"evenodd\" fill-opacity=\"1\"/>\n",
       "<polyline clip-path=\"url(#clip472)\" style=\"stroke:#000000; stroke-width:4; stroke-opacity:1; fill:none\" points=\"\n",
       "  886.949,1276 886.949,1445.72 1112.78,1445.72 1112.78,1276 886.949,1276 \n",
       "  \"/>\n",
       "<path clip-path=\"url(#clip472)\" d=\"\n",
       "M1112.78 1276 L1112.78 1445.72 L1338.61 1445.72 L1338.61 1276 L1112.78 1276 L1112.78 1276  Z\n",
       "  \" fill=\"#009af9\" fill-rule=\"evenodd\" fill-opacity=\"1\"/>\n",
       "<polyline clip-path=\"url(#clip472)\" style=\"stroke:#000000; stroke-width:4; stroke-opacity:1; fill:none\" points=\"\n",
       "  1112.78,1276 1112.78,1445.72 1338.61,1445.72 1338.61,1276 1112.78,1276 \n",
       "  \"/>\n",
       "<path clip-path=\"url(#clip472)\" d=\"\n",
       "M661.121 1106.28 L661.121 1445.72 L886.949 1445.72 L886.949 1106.28 L661.121 1106.28 L661.121 1106.28  Z\n",
       "  \" fill=\"#e26f46\" fill-rule=\"evenodd\" fill-opacity=\"1\"/>\n",
       "<polyline clip-path=\"url(#clip472)\" style=\"stroke:#000000; stroke-width:4; stroke-opacity:1; fill:none\" points=\"\n",
       "  661.121,1106.28 661.121,1445.72 886.949,1445.72 886.949,1106.28 661.121,1106.28 \n",
       "  \"/>\n",
       "<path clip-path=\"url(#clip472)\" d=\"\n",
       "M886.949 936.563 L886.949 1445.72 L1112.78 1445.72 L1112.78 936.563 L886.949 936.563 L886.949 936.563  Z\n",
       "  \" fill=\"#e26f46\" fill-rule=\"evenodd\" fill-opacity=\"1\"/>\n",
       "<polyline clip-path=\"url(#clip472)\" style=\"stroke:#000000; stroke-width:4; stroke-opacity:1; fill:none\" points=\"\n",
       "  886.949,936.563 886.949,1445.72 1112.78,1445.72 1112.78,936.563 886.949,936.563 \n",
       "  \"/>\n",
       "<path clip-path=\"url(#clip472)\" d=\"\n",
       "M1112.78 1276 L1112.78 1445.72 L1338.61 1445.72 L1338.61 1276 L1112.78 1276 L1112.78 1276  Z\n",
       "  \" fill=\"#e26f46\" fill-rule=\"evenodd\" fill-opacity=\"1\"/>\n",
       "<polyline clip-path=\"url(#clip472)\" style=\"stroke:#000000; stroke-width:4; stroke-opacity:1; fill:none\" points=\"\n",
       "  1112.78,1276 1112.78,1445.72 1338.61,1445.72 1338.61,1276 1112.78,1276 \n",
       "  \"/>\n",
       "<path clip-path=\"url(#clip472)\" d=\"\n",
       "M1338.61 766.846 L1338.61 1445.72 L1564.43 1445.72 L1564.43 766.846 L1338.61 766.846 L1338.61 766.846  Z\n",
       "  \" fill=\"#e26f46\" fill-rule=\"evenodd\" fill-opacity=\"1\"/>\n",
       "<polyline clip-path=\"url(#clip472)\" style=\"stroke:#000000; stroke-width:4; stroke-opacity:1; fill:none\" points=\"\n",
       "  1338.61,766.846 1338.61,1445.72 1564.43,1445.72 1564.43,766.846 1338.61,766.846 \n",
       "  \"/>\n",
       "<path clip-path=\"url(#clip472)\" d=\"\n",
       "M1564.43 1276 L1564.43 1445.72 L1790.26 1445.72 L1790.26 1276 L1564.43 1276 L1564.43 1276  Z\n",
       "  \" fill=\"#e26f46\" fill-rule=\"evenodd\" fill-opacity=\"1\"/>\n",
       "<polyline clip-path=\"url(#clip472)\" style=\"stroke:#000000; stroke-width:4; stroke-opacity:1; fill:none\" points=\"\n",
       "  1564.43,1276 1564.43,1445.72 1790.26,1445.72 1790.26,1276 1564.43,1276 \n",
       "  \"/>\n",
       "<path clip-path=\"url(#clip472)\" d=\"\n",
       "M1790.26 1276 L1790.26 1445.72 L2016.09 1445.72 L2016.09 1276 L1790.26 1276 L1790.26 1276  Z\n",
       "  \" fill=\"#e26f46\" fill-rule=\"evenodd\" fill-opacity=\"1\"/>\n",
       "<polyline clip-path=\"url(#clip472)\" style=\"stroke:#000000; stroke-width:4; stroke-opacity:1; fill:none\" points=\"\n",
       "  1790.26,1276 1790.26,1445.72 2016.09,1445.72 2016.09,1276 1790.26,1276 \n",
       "  \"/>\n",
       "<path clip-path=\"url(#clip472)\" d=\"\n",
       "M2016.09 1106.28 L2016.09 1445.72 L2241.92 1445.72 L2241.92 1106.28 L2016.09 1106.28 L2016.09 1106.28  Z\n",
       "  \" fill=\"#e26f46\" fill-rule=\"evenodd\" fill-opacity=\"1\"/>\n",
       "<polyline clip-path=\"url(#clip472)\" style=\"stroke:#000000; stroke-width:4; stroke-opacity:1; fill:none\" points=\"\n",
       "  2016.09,1106.28 2016.09,1445.72 2241.92,1445.72 2241.92,1106.28 2016.09,1106.28 \n",
       "  \"/>\n",
       "<path clip-path=\"url(#clip470)\" d=\"\n",
       "M1877.34 276.658 L2278.07 276.658 L2278.07 95.2176 L1877.34 95.2176  Z\n",
       "  \" fill=\"#ffffff\" fill-rule=\"evenodd\" fill-opacity=\"1\"/>\n",
       "<polyline clip-path=\"url(#clip470)\" style=\"stroke:#000000; stroke-width:4; stroke-opacity:1; fill:none\" points=\"\n",
       "  1877.34,276.658 2278.07,276.658 2278.07,95.2176 1877.34,95.2176 1877.34,276.658 \n",
       "  \"/>\n",
       "<path clip-path=\"url(#clip470)\" d=\"\n",
       "M1902.23 179.89 L2051.6 179.89 L2051.6 131.506 L1902.23 131.506 L1902.23 179.89  Z\n",
       "  \" fill=\"#009af9\" fill-rule=\"evenodd\" fill-opacity=\"1\"/>\n",
       "<polyline clip-path=\"url(#clip470)\" style=\"stroke:#000000; stroke-width:4; stroke-opacity:1; fill:none\" points=\"\n",
       "  1902.23,179.89 2051.6,179.89 2051.6,131.506 1902.23,131.506 1902.23,179.89 \n",
       "  \"/>\n",
       "<path clip-path=\"url(#clip470)\" d=\"M 0 0 M2093.47 160.917 L2092.45 155.57 Q2091.41 150.084 2087.28 150.084 Q2084.18 150.084 2082.77 152.63 Q2080.99 155.825 2080.99 160.038 Q2080.99 165.13 2082.72 167.561 Q2084.48 170.038 2087.28 170.038 Q2090.39 170.038 2092.05 165.107 L2093.47 160.917 M2095.85 153.834 L2098.14 147.052 L2101.94 147.052 L2097.19 161.103 L2098.12 166.172 Q2098.33 167.306 2099.14 168.255 Q2100.09 169.366 2100.83 169.366 L2102.86 169.366 L2102.86 172.978 L2100.32 172.978 Q2098.14 172.978 2096.2 171.033 Q2095.25 170.061 2094.85 168.024 Q2093.79 170.593 2091.61 172.607 Q2090.59 173.556 2087.28 173.556 Q2081.84 173.556 2079.21 170.038 Q2076.5 166.404 2076.5 160.038 Q2076.5 153.232 2079.44 150.038 Q2082.7 146.473 2087.28 146.473 Q2094.48 146.473 2095.85 153.834 Z\" fill=\"#000000\" fill-rule=\"evenodd\" fill-opacity=\"1\" /><path clip-path=\"url(#clip470)\" d=\"M 0 0 M2107.89 151.45 L2137.56 151.45 L2137.56 155.339 L2107.89 155.339 L2107.89 151.45 M2107.89 160.894 L2137.56 160.894 L2137.56 164.829 L2107.89 164.829 L2107.89 160.894 Z\" fill=\"#000000\" fill-rule=\"evenodd\" fill-opacity=\"1\" /><path clip-path=\"url(#clip470)\" d=\"M 0 0 M2152.63 141.496 Q2149.02 141.496 2147.19 145.061 Q2145.39 148.603 2145.39 155.732 Q2145.39 162.839 2147.19 166.404 Q2149.02 169.945 2152.63 169.945 Q2156.27 169.945 2158.07 166.404 Q2159.9 162.839 2159.9 155.732 Q2159.9 148.603 2158.07 145.061 Q2156.27 141.496 2152.63 141.496 M2152.63 137.793 Q2158.44 137.793 2161.5 142.399 Q2164.58 146.982 2164.58 155.732 Q2164.58 164.459 2161.5 169.066 Q2158.44 173.649 2152.63 173.649 Q2146.82 173.649 2143.74 169.066 Q2140.69 164.459 2140.69 155.732 Q2140.69 146.982 2143.74 142.399 Q2146.82 137.793 2152.63 137.793 Z\" fill=\"#000000\" fill-rule=\"evenodd\" fill-opacity=\"1\" /><path clip-path=\"url(#clip470)\" d=\"M 0 0 M2169.65 167.098 L2174.53 167.098 L2174.53 172.978 L2169.65 172.978 L2169.65 167.098 Z\" fill=\"#000000\" fill-rule=\"evenodd\" fill-opacity=\"1\" /><path clip-path=\"url(#clip470)\" d=\"M 0 0 M2179.74 172.26 L2179.74 168.001 Q2181.5 168.834 2183.3 169.274 Q2185.11 169.714 2186.84 169.714 Q2191.47 169.714 2193.9 166.612 Q2196.36 163.487 2196.71 157.144 Q2195.36 159.135 2193.3 160.2 Q2191.24 161.265 2188.74 161.265 Q2183.56 161.265 2180.52 158.14 Q2177.52 154.992 2177.52 149.552 Q2177.52 144.228 2180.66 141.01 Q2183.81 137.793 2189.04 137.793 Q2195.04 137.793 2198.19 142.399 Q2201.36 146.982 2201.36 155.732 Q2201.36 163.904 2197.47 168.788 Q2193.6 173.649 2187.05 173.649 Q2185.29 173.649 2183.49 173.302 Q2181.68 172.954 2179.74 172.26 M2189.04 157.607 Q2192.19 157.607 2194.02 155.454 Q2195.87 153.302 2195.87 149.552 Q2195.87 145.825 2194.02 143.672 Q2192.19 141.496 2189.04 141.496 Q2185.9 141.496 2184.04 143.672 Q2182.21 145.825 2182.21 149.552 Q2182.21 153.302 2184.04 155.454 Q2185.9 157.607 2189.04 157.607 Z\" fill=\"#000000\" fill-rule=\"evenodd\" fill-opacity=\"1\" /><path clip-path=\"url(#clip470)\" d=\"M 0 0 M2206.47 138.418 L2224.83 138.418 L2224.83 142.353 L2210.76 142.353 L2210.76 150.825 Q2211.77 150.478 2212.79 150.316 Q2213.81 150.13 2214.83 150.13 Q2220.62 150.13 2224 153.302 Q2227.38 156.473 2227.38 161.89 Q2227.38 167.468 2223.9 170.57 Q2220.43 173.649 2214.11 173.649 Q2211.94 173.649 2209.67 173.278 Q2207.42 172.908 2205.02 172.167 L2205.02 167.468 Q2207.1 168.603 2209.32 169.158 Q2211.54 169.714 2214.02 169.714 Q2218.02 169.714 2220.36 167.607 Q2222.7 165.501 2222.7 161.89 Q2222.7 158.279 2220.36 156.172 Q2218.02 154.066 2214.02 154.066 Q2212.15 154.066 2210.27 154.482 Q2208.42 154.899 2206.47 155.779 L2206.47 138.418 Z\" fill=\"#000000\" fill-rule=\"evenodd\" fill-opacity=\"1\" /><path clip-path=\"url(#clip470)\" d=\"\n",
       "M1902.23 240.37 L2051.6 240.37 L2051.6 191.986 L1902.23 191.986 L1902.23 240.37  Z\n",
       "  \" fill=\"#e26f46\" fill-rule=\"evenodd\" fill-opacity=\"1\"/>\n",
       "<polyline clip-path=\"url(#clip470)\" style=\"stroke:#000000; stroke-width:4; stroke-opacity:1; fill:none\" points=\"\n",
       "  1902.23,240.37 2051.6,240.37 2051.6,191.986 1902.23,191.986 1902.23,240.37 \n",
       "  \"/>\n",
       "<path clip-path=\"url(#clip470)\" d=\"M 0 0 M2093.47 221.397 L2092.45 216.05 Q2091.41 210.564 2087.28 210.564 Q2084.18 210.564 2082.77 213.11 Q2080.99 216.305 2080.99 220.518 Q2080.99 225.61 2082.72 228.041 Q2084.48 230.518 2087.28 230.518 Q2090.39 230.518 2092.05 225.587 L2093.47 221.397 M2095.85 214.314 L2098.14 207.532 L2101.94 207.532 L2097.19 221.583 L2098.12 226.652 Q2098.33 227.786 2099.14 228.735 Q2100.09 229.846 2100.83 229.846 L2102.86 229.846 L2102.86 233.458 L2100.32 233.458 Q2098.14 233.458 2096.2 231.513 Q2095.25 230.541 2094.85 228.504 Q2093.79 231.073 2091.61 233.087 Q2090.59 234.036 2087.28 234.036 Q2081.84 234.036 2079.21 230.518 Q2076.5 226.884 2076.5 220.518 Q2076.5 213.712 2079.44 210.518 Q2082.7 206.953 2087.28 206.953 Q2094.48 206.953 2095.85 214.314 Z\" fill=\"#000000\" fill-rule=\"evenodd\" fill-opacity=\"1\" /><path clip-path=\"url(#clip470)\" d=\"M 0 0 M2107.89 211.93 L2137.56 211.93 L2137.56 215.819 L2107.89 215.819 L2107.89 211.93 M2107.89 221.374 L2137.56 221.374 L2137.56 225.309 L2107.89 225.309 L2107.89 221.374 Z\" fill=\"#000000\" fill-rule=\"evenodd\" fill-opacity=\"1\" /><path clip-path=\"url(#clip470)\" d=\"M 0 0 M2152.63 201.976 Q2149.02 201.976 2147.19 205.541 Q2145.39 209.083 2145.39 216.212 Q2145.39 223.319 2147.19 226.884 Q2149.02 230.425 2152.63 230.425 Q2156.27 230.425 2158.07 226.884 Q2159.9 223.319 2159.9 216.212 Q2159.9 209.083 2158.07 205.541 Q2156.27 201.976 2152.63 201.976 M2152.63 198.273 Q2158.44 198.273 2161.5 202.879 Q2164.58 207.462 2164.58 216.212 Q2164.58 224.939 2161.5 229.546 Q2158.44 234.129 2152.63 234.129 Q2146.82 234.129 2143.74 229.546 Q2140.69 224.939 2140.69 216.212 Q2140.69 207.462 2143.74 202.879 Q2146.82 198.273 2152.63 198.273 Z\" fill=\"#000000\" fill-rule=\"evenodd\" fill-opacity=\"1\" /><path clip-path=\"url(#clip470)\" d=\"M 0 0 M2169.65 227.578 L2174.53 227.578 L2174.53 233.458 L2169.65 233.458 L2169.65 227.578 Z\" fill=\"#000000\" fill-rule=\"evenodd\" fill-opacity=\"1\" /><path clip-path=\"url(#clip470)\" d=\"M 0 0 M2179.74 232.74 L2179.74 228.481 Q2181.5 229.314 2183.3 229.754 Q2185.11 230.194 2186.84 230.194 Q2191.47 230.194 2193.9 227.092 Q2196.36 223.967 2196.71 217.624 Q2195.36 219.615 2193.3 220.68 Q2191.24 221.745 2188.74 221.745 Q2183.56 221.745 2180.52 218.62 Q2177.52 215.472 2177.52 210.032 Q2177.52 204.708 2180.66 201.49 Q2183.81 198.273 2189.04 198.273 Q2195.04 198.273 2198.19 202.879 Q2201.36 207.462 2201.36 216.212 Q2201.36 224.384 2197.47 229.268 Q2193.6 234.129 2187.05 234.129 Q2185.29 234.129 2183.49 233.782 Q2181.68 233.434 2179.74 232.74 M2189.04 218.087 Q2192.19 218.087 2194.02 215.934 Q2195.87 213.782 2195.87 210.032 Q2195.87 206.305 2194.02 204.152 Q2192.19 201.976 2189.04 201.976 Q2185.9 201.976 2184.04 204.152 Q2182.21 206.305 2182.21 210.032 Q2182.21 213.782 2184.04 215.934 Q2185.9 218.087 2189.04 218.087 Z\" fill=\"#000000\" fill-rule=\"evenodd\" fill-opacity=\"1\" /><path clip-path=\"url(#clip470)\" d=\"M 0 0 M2216.43 217.046 Q2213.09 217.046 2211.17 218.828 Q2209.27 220.61 2209.27 223.735 Q2209.27 226.86 2211.17 228.643 Q2213.09 230.425 2216.43 230.425 Q2219.76 230.425 2221.68 228.643 Q2223.6 226.837 2223.6 223.735 Q2223.6 220.61 2221.68 218.828 Q2219.78 217.046 2216.43 217.046 M2211.75 215.055 Q2208.74 214.314 2207.05 212.254 Q2205.39 210.194 2205.39 207.231 Q2205.39 203.087 2208.33 200.68 Q2211.29 198.273 2216.43 198.273 Q2221.59 198.273 2224.53 200.68 Q2227.47 203.087 2227.47 207.231 Q2227.47 210.194 2225.78 212.254 Q2224.11 214.314 2221.13 215.055 Q2224.51 215.842 2226.38 218.134 Q2228.28 220.425 2228.28 223.735 Q2228.28 228.759 2225.2 231.444 Q2222.15 234.129 2216.43 234.129 Q2210.71 234.129 2207.63 231.444 Q2204.58 228.759 2204.58 223.735 Q2204.58 220.425 2206.47 218.134 Q2208.37 215.842 2211.75 215.055 M2210.04 207.671 Q2210.04 210.356 2211.71 211.86 Q2213.4 213.365 2216.43 213.365 Q2219.44 213.365 2221.13 211.86 Q2222.84 210.356 2222.84 207.671 Q2222.84 204.985 2221.13 203.481 Q2219.44 201.976 2216.43 201.976 Q2213.4 201.976 2211.71 203.481 Q2210.04 204.985 2210.04 207.671 Z\" fill=\"#000000\" fill-rule=\"evenodd\" fill-opacity=\"1\" /></svg>\n"
      ]
     },
     "execution_count": 33,
     "metadata": {},
     "output_type": "execute_result"
    }
   ],
   "source": [
    "([\n",
    "        [energia_local(ranks, corte95) for ranks in ranks_univs],\n",
    "        [energia_local(ranks, corte98) for ranks in ranks_univs]\n",
    "        ]) |> x -> histogram(x, bins=6, labels =[\"α=0.95\" \"α=0.98\"])"
   ]
  },
  {
   "cell_type": "code",
   "execution_count": 34,
   "metadata": {},
   "outputs": [
    {
     "data": {
      "text/plain": [
       "Dict{Int64,Int64} with 1 entry:\n",
       "  0 => 14"
      ]
     },
     "execution_count": 34,
     "metadata": {},
     "output_type": "execute_result"
    }
   ],
   "source": [
    "[energia_local(ranks, corte85) for ranks in ranks_univs] |> countmap"
   ]
  },
  {
   "cell_type": "code",
   "execution_count": 35,
   "metadata": {},
   "outputs": [
    {
     "data": {
      "image/svg+xml": [
       "<?xml version=\"1.0\" encoding=\"utf-8\"?>\n",
       "<svg xmlns=\"http://www.w3.org/2000/svg\" xmlns:xlink=\"http://www.w3.org/1999/xlink\" width=\"600\" height=\"400\" viewBox=\"0 0 2400 1600\">\n",
       "<defs>\n",
       "  <clipPath id=\"clip510\">\n",
       "    <rect x=\"0\" y=\"0\" width=\"2400\" height=\"1600\"/>\n",
       "  </clipPath>\n",
       "</defs>\n",
       "<path clip-path=\"url(#clip510)\" d=\"\n",
       "M0 1600 L2400 1600 L2400 0 L0 0  Z\n",
       "  \" fill=\"#ffffff\" fill-rule=\"evenodd\" fill-opacity=\"1\"/>\n",
       "<defs>\n",
       "  <clipPath id=\"clip511\">\n",
       "    <rect x=\"480\" y=\"0\" width=\"1681\" height=\"1600\"/>\n",
       "  </clipPath>\n",
       "</defs>\n",
       "<path clip-path=\"url(#clip510)\" d=\"\n",
       "M171.552 1486.45 L2352.76 1486.45 L2352.76 47.2441 L171.552 47.2441  Z\n",
       "  \" fill=\"#ffffff\" fill-rule=\"evenodd\" fill-opacity=\"1\"/>\n",
       "<defs>\n",
       "  <clipPath id=\"clip512\">\n",
       "    <rect x=\"171\" y=\"47\" width=\"2182\" height=\"1440\"/>\n",
       "  </clipPath>\n",
       "</defs>\n",
       "<polyline clip-path=\"url(#clip512)\" style=\"stroke:#000000; stroke-width:2; stroke-opacity:0.1; fill:none\" points=\"\n",
       "  291.522,1486.45 291.522,47.2441 \n",
       "  \"/>\n",
       "<polyline clip-path=\"url(#clip512)\" style=\"stroke:#000000; stroke-width:2; stroke-opacity:0.1; fill:none\" points=\"\n",
       "  679.775,1486.45 679.775,47.2441 \n",
       "  \"/>\n",
       "<polyline clip-path=\"url(#clip512)\" style=\"stroke:#000000; stroke-width:2; stroke-opacity:0.1; fill:none\" points=\"\n",
       "  1068.03,1486.45 1068.03,47.2441 \n",
       "  \"/>\n",
       "<polyline clip-path=\"url(#clip512)\" style=\"stroke:#000000; stroke-width:2; stroke-opacity:0.1; fill:none\" points=\"\n",
       "  1456.28,1486.45 1456.28,47.2441 \n",
       "  \"/>\n",
       "<polyline clip-path=\"url(#clip512)\" style=\"stroke:#000000; stroke-width:2; stroke-opacity:0.1; fill:none\" points=\"\n",
       "  1844.53,1486.45 1844.53,47.2441 \n",
       "  \"/>\n",
       "<polyline clip-path=\"url(#clip512)\" style=\"stroke:#000000; stroke-width:2; stroke-opacity:0.1; fill:none\" points=\"\n",
       "  2232.79,1486.45 2232.79,47.2441 \n",
       "  \"/>\n",
       "<polyline clip-path=\"url(#clip510)\" style=\"stroke:#000000; stroke-width:4; stroke-opacity:1; fill:none\" points=\"\n",
       "  171.552,1486.45 2352.76,1486.45 \n",
       "  \"/>\n",
       "<polyline clip-path=\"url(#clip510)\" style=\"stroke:#000000; stroke-width:4; stroke-opacity:1; fill:none\" points=\"\n",
       "  291.522,1486.45 291.522,1469.18 \n",
       "  \"/>\n",
       "<polyline clip-path=\"url(#clip510)\" style=\"stroke:#000000; stroke-width:4; stroke-opacity:1; fill:none\" points=\"\n",
       "  679.775,1486.45 679.775,1469.18 \n",
       "  \"/>\n",
       "<polyline clip-path=\"url(#clip510)\" style=\"stroke:#000000; stroke-width:4; stroke-opacity:1; fill:none\" points=\"\n",
       "  1068.03,1486.45 1068.03,1469.18 \n",
       "  \"/>\n",
       "<polyline clip-path=\"url(#clip510)\" style=\"stroke:#000000; stroke-width:4; stroke-opacity:1; fill:none\" points=\"\n",
       "  1456.28,1486.45 1456.28,1469.18 \n",
       "  \"/>\n",
       "<polyline clip-path=\"url(#clip510)\" style=\"stroke:#000000; stroke-width:4; stroke-opacity:1; fill:none\" points=\"\n",
       "  1844.53,1486.45 1844.53,1469.18 \n",
       "  \"/>\n",
       "<polyline clip-path=\"url(#clip510)\" style=\"stroke:#000000; stroke-width:4; stroke-opacity:1; fill:none\" points=\"\n",
       "  2232.79,1486.45 2232.79,1469.18 \n",
       "  \"/>\n",
       "<path clip-path=\"url(#clip510)\" d=\"M 0 0 M291.522 1515.64 Q287.911 1515.64 286.082 1519.2 Q284.277 1522.75 284.277 1529.87 Q284.277 1536.98 286.082 1540.55 Q287.911 1544.09 291.522 1544.09 Q295.156 1544.09 296.962 1540.55 Q298.79 1536.98 298.79 1529.87 Q298.79 1522.75 296.962 1519.2 Q295.156 1515.64 291.522 1515.64 M291.522 1511.93 Q297.332 1511.93 300.388 1516.54 Q303.466 1521.12 303.466 1529.87 Q303.466 1538.6 300.388 1543.21 Q297.332 1547.79 291.522 1547.79 Q285.712 1547.79 282.633 1543.21 Q279.578 1538.6 279.578 1529.87 Q279.578 1521.12 282.633 1516.54 Q285.712 1511.93 291.522 1511.93 Z\" fill=\"#000000\" fill-rule=\"evenodd\" fill-opacity=\"1\" /><path clip-path=\"url(#clip510)\" d=\"M 0 0 M670.157 1543.18 L677.796 1543.18 L677.796 1516.82 L669.485 1518.49 L669.485 1514.23 L677.749 1512.56 L682.425 1512.56 L682.425 1543.18 L690.064 1543.18 L690.064 1547.12 L670.157 1547.12 L670.157 1543.18 Z\" fill=\"#000000\" fill-rule=\"evenodd\" fill-opacity=\"1\" /><path clip-path=\"url(#clip510)\" d=\"M 0 0 M1062.68 1543.18 L1079 1543.18 L1079 1547.12 L1057.06 1547.12 L1057.06 1543.18 Q1059.72 1540.43 1064.3 1535.8 Q1068.91 1531.15 1070.09 1529.81 Q1072.33 1527.28 1073.21 1525.55 Q1074.12 1523.79 1074.12 1522.1 Q1074.12 1519.34 1072.17 1517.61 Q1070.25 1515.87 1067.15 1515.87 Q1064.95 1515.87 1062.5 1516.63 Q1060.06 1517.4 1057.29 1518.95 L1057.29 1514.23 Q1060.11 1513.09 1062.56 1512.51 Q1065.02 1511.93 1067.06 1511.93 Q1072.43 1511.93 1075.62 1514.62 Q1078.81 1517.31 1078.81 1521.8 Q1078.81 1523.93 1078 1525.85 Q1077.22 1527.74 1075.11 1530.34 Q1074.53 1531.01 1071.43 1534.23 Q1068.33 1537.42 1062.68 1543.18 Z\" fill=\"#000000\" fill-rule=\"evenodd\" fill-opacity=\"1\" /><path clip-path=\"url(#clip510)\" d=\"M 0 0 M1460.53 1528.49 Q1463.88 1529.2 1465.76 1531.47 Q1467.66 1533.74 1467.66 1537.07 Q1467.66 1542.19 1464.14 1544.99 Q1460.62 1547.79 1454.14 1547.79 Q1451.96 1547.79 1449.65 1547.35 Q1447.36 1546.93 1444.9 1546.08 L1444.9 1541.56 Q1446.85 1542.7 1449.16 1543.28 Q1451.48 1543.86 1454 1543.86 Q1458.4 1543.86 1460.69 1542.12 Q1463 1540.38 1463 1537.07 Q1463 1534.02 1460.85 1532.31 Q1458.72 1530.57 1454.9 1530.57 L1450.88 1530.57 L1450.88 1526.73 L1455.09 1526.73 Q1458.54 1526.73 1460.37 1525.36 Q1462.19 1523.97 1462.19 1521.38 Q1462.19 1518.72 1460.3 1517.31 Q1458.42 1515.87 1454.9 1515.87 Q1452.98 1515.87 1450.78 1516.29 Q1448.58 1516.7 1445.94 1517.58 L1445.94 1513.42 Q1448.61 1512.68 1450.92 1512.31 Q1453.26 1511.93 1455.32 1511.93 Q1460.64 1511.93 1463.75 1514.37 Q1466.85 1516.77 1466.85 1520.89 Q1466.85 1523.76 1465.2 1525.75 Q1463.56 1527.72 1460.53 1528.49 Z\" fill=\"#000000\" fill-rule=\"evenodd\" fill-opacity=\"1\" /><path clip-path=\"url(#clip510)\" d=\"M 0 0 M1847.54 1516.63 L1835.74 1535.08 L1847.54 1535.08 L1847.54 1516.63 M1846.32 1512.56 L1852.2 1512.56 L1852.2 1535.08 L1857.13 1535.08 L1857.13 1538.97 L1852.2 1538.97 L1852.2 1547.12 L1847.54 1547.12 L1847.54 1538.97 L1831.94 1538.97 L1831.94 1534.46 L1846.32 1512.56 Z\" fill=\"#000000\" fill-rule=\"evenodd\" fill-opacity=\"1\" /><path clip-path=\"url(#clip510)\" d=\"M 0 0 M2223.06 1512.56 L2241.42 1512.56 L2241.42 1516.5 L2227.35 1516.5 L2227.35 1524.97 Q2228.36 1524.62 2229.38 1524.46 Q2230.4 1524.27 2231.42 1524.27 Q2237.21 1524.27 2240.59 1527.44 Q2243.97 1530.62 2243.97 1536.03 Q2243.97 1541.61 2240.49 1544.71 Q2237.02 1547.79 2230.7 1547.79 Q2228.53 1547.79 2226.26 1547.42 Q2224.01 1547.05 2221.61 1546.31 L2221.61 1541.61 Q2223.69 1542.74 2225.91 1543.3 Q2228.13 1543.86 2230.61 1543.86 Q2234.61 1543.86 2236.95 1541.75 Q2239.29 1539.64 2239.29 1536.03 Q2239.29 1532.42 2236.95 1530.31 Q2234.61 1528.21 2230.61 1528.21 Q2228.73 1528.21 2226.86 1528.62 Q2225.01 1529.04 2223.06 1529.92 L2223.06 1512.56 Z\" fill=\"#000000\" fill-rule=\"evenodd\" fill-opacity=\"1\" /><polyline clip-path=\"url(#clip512)\" style=\"stroke:#000000; stroke-width:2; stroke-opacity:0.1; fill:none\" points=\"\n",
       "  171.552,1445.72 2352.76,1445.72 \n",
       "  \"/>\n",
       "<polyline clip-path=\"url(#clip512)\" style=\"stroke:#000000; stroke-width:2; stroke-opacity:0.1; fill:none\" points=\"\n",
       "  171.552,1203.26 2352.76,1203.26 \n",
       "  \"/>\n",
       "<polyline clip-path=\"url(#clip512)\" style=\"stroke:#000000; stroke-width:2; stroke-opacity:0.1; fill:none\" points=\"\n",
       "  171.552,960.809 2352.76,960.809 \n",
       "  \"/>\n",
       "<polyline clip-path=\"url(#clip512)\" style=\"stroke:#000000; stroke-width:2; stroke-opacity:0.1; fill:none\" points=\"\n",
       "  171.552,718.355 2352.76,718.355 \n",
       "  \"/>\n",
       "<polyline clip-path=\"url(#clip512)\" style=\"stroke:#000000; stroke-width:2; stroke-opacity:0.1; fill:none\" points=\"\n",
       "  171.552,475.902 2352.76,475.902 \n",
       "  \"/>\n",
       "<polyline clip-path=\"url(#clip512)\" style=\"stroke:#000000; stroke-width:2; stroke-opacity:0.1; fill:none\" points=\"\n",
       "  171.552,233.448 2352.76,233.448 \n",
       "  \"/>\n",
       "<polyline clip-path=\"url(#clip510)\" style=\"stroke:#000000; stroke-width:4; stroke-opacity:1; fill:none\" points=\"\n",
       "  171.552,1486.45 171.552,47.2441 \n",
       "  \"/>\n",
       "<polyline clip-path=\"url(#clip510)\" style=\"stroke:#000000; stroke-width:4; stroke-opacity:1; fill:none\" points=\"\n",
       "  171.552,1445.72 197.726,1445.72 \n",
       "  \"/>\n",
       "<polyline clip-path=\"url(#clip510)\" style=\"stroke:#000000; stroke-width:4; stroke-opacity:1; fill:none\" points=\"\n",
       "  171.552,1203.26 197.726,1203.26 \n",
       "  \"/>\n",
       "<polyline clip-path=\"url(#clip510)\" style=\"stroke:#000000; stroke-width:4; stroke-opacity:1; fill:none\" points=\"\n",
       "  171.552,960.809 197.726,960.809 \n",
       "  \"/>\n",
       "<polyline clip-path=\"url(#clip510)\" style=\"stroke:#000000; stroke-width:4; stroke-opacity:1; fill:none\" points=\"\n",
       "  171.552,718.355 197.726,718.355 \n",
       "  \"/>\n",
       "<polyline clip-path=\"url(#clip510)\" style=\"stroke:#000000; stroke-width:4; stroke-opacity:1; fill:none\" points=\"\n",
       "  171.552,475.902 197.726,475.902 \n",
       "  \"/>\n",
       "<polyline clip-path=\"url(#clip510)\" style=\"stroke:#000000; stroke-width:4; stroke-opacity:1; fill:none\" points=\"\n",
       "  171.552,233.448 197.726,233.448 \n",
       "  \"/>\n",
       "<path clip-path=\"url(#clip510)\" d=\"M 0 0 M86.6401 1431.51 Q83.029 1431.51 81.2003 1435.08 Q79.3948 1438.62 79.3948 1445.75 Q79.3948 1452.86 81.2003 1456.42 Q83.029 1459.96 86.6401 1459.96 Q90.2743 1459.96 92.0799 1456.42 Q93.9086 1452.86 93.9086 1445.75 Q93.9086 1438.62 92.0799 1435.08 Q90.2743 1431.51 86.6401 1431.51 M86.6401 1427.81 Q92.4502 1427.81 95.5058 1432.42 Q98.5845 1437 98.5845 1445.75 Q98.5845 1454.48 95.5058 1459.08 Q92.4502 1463.67 86.6401 1463.67 Q80.8299 1463.67 77.7512 1459.08 Q74.6957 1454.48 74.6957 1445.75 Q74.6957 1437 77.7512 1432.42 Q80.8299 1427.81 86.6401 1427.81 Z\" fill=\"#000000\" fill-rule=\"evenodd\" fill-opacity=\"1\" /><path clip-path=\"url(#clip510)\" d=\"M 0 0 M103.654 1457.12 L108.538 1457.12 L108.538 1463 L103.654 1463 L103.654 1457.12 Z\" fill=\"#000000\" fill-rule=\"evenodd\" fill-opacity=\"1\" /><path clip-path=\"url(#clip510)\" d=\"M 0 0 M123.607 1431.51 Q119.996 1431.51 118.168 1435.08 Q116.362 1438.62 116.362 1445.75 Q116.362 1452.86 118.168 1456.42 Q119.996 1459.96 123.607 1459.96 Q127.242 1459.96 129.047 1456.42 Q130.876 1452.86 130.876 1445.75 Q130.876 1438.62 129.047 1435.08 Q127.242 1431.51 123.607 1431.51 M123.607 1427.81 Q129.418 1427.81 132.473 1432.42 Q135.552 1437 135.552 1445.75 Q135.552 1454.48 132.473 1459.08 Q129.418 1463.67 123.607 1463.67 Q117.797 1463.67 114.719 1459.08 Q111.663 1454.48 111.663 1445.75 Q111.663 1437 114.719 1432.42 Q117.797 1427.81 123.607 1427.81 Z\" fill=\"#000000\" fill-rule=\"evenodd\" fill-opacity=\"1\" /><path clip-path=\"url(#clip510)\" d=\"M 0 0 M83.2605 1216.61 L99.5798 1216.61 L99.5798 1220.54 L77.6355 1220.54 L77.6355 1216.61 Q80.2975 1213.85 84.8808 1209.22 Q89.4873 1204.57 90.6678 1203.23 Q92.9132 1200.7 93.7928 1198.97 Q94.6956 1197.21 94.6956 1195.52 Q94.6956 1192.76 92.7512 1191.03 Q90.8299 1189.29 87.728 1189.29 Q85.529 1189.29 83.0753 1190.06 Q80.6447 1190.82 77.867 1192.37 L77.867 1187.65 Q80.691 1186.51 83.1447 1185.94 Q85.5984 1185.36 87.6354 1185.36 Q93.0058 1185.36 96.2002 1188.04 Q99.3946 1190.73 99.3946 1195.22 Q99.3946 1197.35 98.5845 1199.27 Q97.7974 1201.17 95.691 1203.76 Q95.1123 1204.43 92.0104 1207.65 Q88.9086 1210.84 83.2605 1216.61 Z\" fill=\"#000000\" fill-rule=\"evenodd\" fill-opacity=\"1\" /><path clip-path=\"url(#clip510)\" d=\"M 0 0 M104.649 1214.66 L109.533 1214.66 L109.533 1220.54 L104.649 1220.54 L104.649 1214.66 Z\" fill=\"#000000\" fill-rule=\"evenodd\" fill-opacity=\"1\" /><path clip-path=\"url(#clip510)\" d=\"M 0 0 M114.649 1185.98 L133.006 1185.98 L133.006 1189.92 L118.932 1189.92 L118.932 1198.39 Q119.95 1198.04 120.969 1197.88 Q121.987 1197.7 123.006 1197.7 Q128.793 1197.7 132.172 1200.87 Q135.552 1204.04 135.552 1209.45 Q135.552 1215.03 132.08 1218.13 Q128.607 1221.21 122.288 1221.21 Q120.112 1221.21 117.844 1220.84 Q115.598 1220.47 113.191 1219.73 L113.191 1215.03 Q115.274 1216.17 117.496 1216.72 Q119.719 1217.28 122.195 1217.28 Q126.2 1217.28 128.538 1215.17 Q130.876 1213.07 130.876 1209.45 Q130.876 1205.84 128.538 1203.74 Q126.2 1201.63 122.195 1201.63 Q120.32 1201.63 118.445 1202.05 Q116.594 1202.46 114.649 1203.34 L114.649 1185.98 Z\" fill=\"#000000\" fill-rule=\"evenodd\" fill-opacity=\"1\" /><path clip-path=\"url(#clip510)\" d=\"M 0 0 M77.6818 943.529 L96.0382 943.529 L96.0382 947.464 L81.9642 947.464 L81.9642 955.936 Q82.9827 955.589 84.0012 955.427 Q85.0197 955.242 86.0382 955.242 Q91.8252 955.242 95.2049 958.413 Q98.5845 961.584 98.5845 967.001 Q98.5845 972.58 95.1123 975.681 Q91.6401 978.76 85.3206 978.76 Q83.1447 978.76 80.8762 978.39 Q78.6309 978.019 76.2235 977.279 L76.2235 972.58 Q78.3068 973.714 80.529 974.269 Q82.7512 974.825 85.2281 974.825 Q89.2327 974.825 91.5706 972.718 Q93.9086 970.612 93.9086 967.001 Q93.9086 963.39 91.5706 961.283 Q89.2327 959.177 85.2281 959.177 Q83.3531 959.177 81.4781 959.593 Q79.6262 960.01 77.6818 960.89 L77.6818 943.529 Z\" fill=\"#000000\" fill-rule=\"evenodd\" fill-opacity=\"1\" /><path clip-path=\"url(#clip510)\" d=\"M 0 0 M103.654 972.209 L108.538 972.209 L108.538 978.089 L103.654 978.089 L103.654 972.209 Z\" fill=\"#000000\" fill-rule=\"evenodd\" fill-opacity=\"1\" /><path clip-path=\"url(#clip510)\" d=\"M 0 0 M123.607 946.607 Q119.996 946.607 118.168 950.172 Q116.362 953.714 116.362 960.843 Q116.362 967.95 118.168 971.515 Q119.996 975.056 123.607 975.056 Q127.242 975.056 129.047 971.515 Q130.876 967.95 130.876 960.843 Q130.876 953.714 129.047 950.172 Q127.242 946.607 123.607 946.607 M123.607 942.904 Q129.418 942.904 132.473 947.51 Q135.552 952.094 135.552 960.843 Q135.552 969.57 132.473 974.177 Q129.418 978.76 123.607 978.76 Q117.797 978.76 114.719 974.177 Q111.663 969.57 111.663 960.843 Q111.663 952.094 114.719 947.51 Q117.797 942.904 123.607 942.904 Z\" fill=\"#000000\" fill-rule=\"evenodd\" fill-opacity=\"1\" /><path clip-path=\"url(#clip510)\" d=\"M 0 0 M77.3577 701.075 L99.5798 701.075 L99.5798 703.066 L87.0336 735.635 L82.1494 735.635 L93.9549 705.01 L77.3577 705.01 L77.3577 701.075 Z\" fill=\"#000000\" fill-rule=\"evenodd\" fill-opacity=\"1\" /><path clip-path=\"url(#clip510)\" d=\"M 0 0 M104.649 729.756 L109.533 729.756 L109.533 735.635 L104.649 735.635 L104.649 729.756 Z\" fill=\"#000000\" fill-rule=\"evenodd\" fill-opacity=\"1\" /><path clip-path=\"url(#clip510)\" d=\"M 0 0 M114.649 701.075 L133.006 701.075 L133.006 705.01 L118.932 705.01 L118.932 713.483 Q119.95 713.135 120.969 712.973 Q121.987 712.788 123.006 712.788 Q128.793 712.788 132.172 715.959 Q135.552 719.131 135.552 724.547 Q135.552 730.126 132.08 733.228 Q128.607 736.307 122.288 736.307 Q120.112 736.307 117.844 735.936 Q115.598 735.566 113.191 734.825 L113.191 730.126 Q115.274 731.26 117.496 731.816 Q119.719 732.371 122.195 732.371 Q126.2 732.371 128.538 730.265 Q130.876 728.158 130.876 724.547 Q130.876 720.936 128.538 718.83 Q126.2 716.723 122.195 716.723 Q120.32 716.723 118.445 717.14 Q116.594 717.557 114.649 718.436 L114.649 701.075 Z\" fill=\"#000000\" fill-rule=\"evenodd\" fill-opacity=\"1\" /><path clip-path=\"url(#clip510)\" d=\"M 0 0 M51.6634 489.247 L59.3023 489.247 L59.3023 462.881 L50.9921 464.548 L50.9921 460.288 L59.256 458.622 L63.9319 458.622 L63.9319 489.247 L71.5707 489.247 L71.5707 493.182 L51.6634 493.182 L51.6634 489.247 Z\" fill=\"#000000\" fill-rule=\"evenodd\" fill-opacity=\"1\" /><path clip-path=\"url(#clip510)\" d=\"M 0 0 M86.6401 461.701 Q83.029 461.701 81.2003 465.265 Q79.3948 468.807 79.3948 475.937 Q79.3948 483.043 81.2003 486.608 Q83.029 490.149 86.6401 490.149 Q90.2743 490.149 92.0799 486.608 Q93.9086 483.043 93.9086 475.937 Q93.9086 468.807 92.0799 465.265 Q90.2743 461.701 86.6401 461.701 M86.6401 457.997 Q92.4502 457.997 95.5058 462.603 Q98.5845 467.187 98.5845 475.937 Q98.5845 484.663 95.5058 489.27 Q92.4502 493.853 86.6401 493.853 Q80.8299 493.853 77.7512 489.27 Q74.6957 484.663 74.6957 475.937 Q74.6957 467.187 77.7512 462.603 Q80.8299 457.997 86.6401 457.997 Z\" fill=\"#000000\" fill-rule=\"evenodd\" fill-opacity=\"1\" /><path clip-path=\"url(#clip510)\" d=\"M 0 0 M103.654 487.302 L108.538 487.302 L108.538 493.182 L103.654 493.182 L103.654 487.302 Z\" fill=\"#000000\" fill-rule=\"evenodd\" fill-opacity=\"1\" /><path clip-path=\"url(#clip510)\" d=\"M 0 0 M123.607 461.701 Q119.996 461.701 118.168 465.265 Q116.362 468.807 116.362 475.937 Q116.362 483.043 118.168 486.608 Q119.996 490.149 123.607 490.149 Q127.242 490.149 129.047 486.608 Q130.876 483.043 130.876 475.937 Q130.876 468.807 129.047 465.265 Q127.242 461.701 123.607 461.701 M123.607 457.997 Q129.418 457.997 132.473 462.603 Q135.552 467.187 135.552 475.937 Q135.552 484.663 132.473 489.27 Q129.418 493.853 123.607 493.853 Q117.797 493.853 114.719 489.27 Q111.663 484.663 111.663 475.937 Q111.663 467.187 114.719 462.603 Q117.797 457.997 123.607 457.997 Z\" fill=\"#000000\" fill-rule=\"evenodd\" fill-opacity=\"1\" /><path clip-path=\"url(#clip510)\" d=\"M 0 0 M54.256 246.793 L61.8948 246.793 L61.8948 220.428 L53.5847 222.094 L53.5847 217.835 L61.8485 216.168 L66.5245 216.168 L66.5245 246.793 L74.1633 246.793 L74.1633 250.728 L54.256 250.728 L54.256 246.793 Z\" fill=\"#000000\" fill-rule=\"evenodd\" fill-opacity=\"1\" /><path clip-path=\"url(#clip510)\" d=\"M 0 0 M83.2605 246.793 L99.5798 246.793 L99.5798 250.728 L77.6355 250.728 L77.6355 246.793 Q80.2975 244.039 84.8808 239.409 Q89.4873 234.756 90.6678 233.414 Q92.9132 230.891 93.7928 229.154 Q94.6956 227.395 94.6956 225.705 Q94.6956 222.951 92.7512 221.215 Q90.8299 219.479 87.728 219.479 Q85.529 219.479 83.0753 220.242 Q80.6447 221.006 77.867 222.557 L77.867 217.835 Q80.691 216.701 83.1447 216.122 Q85.5984 215.543 87.6354 215.543 Q93.0058 215.543 96.2002 218.229 Q99.3946 220.914 99.3946 225.404 Q99.3946 227.534 98.5845 229.455 Q97.7974 231.353 95.691 233.946 Q95.1123 234.617 92.0104 237.835 Q88.9086 241.029 83.2605 246.793 Z\" fill=\"#000000\" fill-rule=\"evenodd\" fill-opacity=\"1\" /><path clip-path=\"url(#clip510)\" d=\"M 0 0 M104.649 244.849 L109.533 244.849 L109.533 250.728 L104.649 250.728 L104.649 244.849 Z\" fill=\"#000000\" fill-rule=\"evenodd\" fill-opacity=\"1\" /><path clip-path=\"url(#clip510)\" d=\"M 0 0 M114.649 216.168 L133.006 216.168 L133.006 220.104 L118.932 220.104 L118.932 228.576 Q119.95 228.228 120.969 228.066 Q121.987 227.881 123.006 227.881 Q128.793 227.881 132.172 231.053 Q135.552 234.224 135.552 239.64 Q135.552 245.219 132.08 248.321 Q128.607 251.4 122.288 251.4 Q120.112 251.4 117.844 251.029 Q115.598 250.659 113.191 249.918 L113.191 245.219 Q115.274 246.353 117.496 246.909 Q119.719 247.464 122.195 247.464 Q126.2 247.464 128.538 245.358 Q130.876 243.252 130.876 239.64 Q130.876 236.029 128.538 233.923 Q126.2 231.816 122.195 231.816 Q120.32 231.816 118.445 232.233 Q116.594 232.65 114.649 233.529 L114.649 216.168 Z\" fill=\"#000000\" fill-rule=\"evenodd\" fill-opacity=\"1\" /><path clip-path=\"url(#clip512)\" d=\"\n",
       "M291.522 669.865 L291.522 1445.72 L679.775 1445.72 L679.775 669.865 L291.522 669.865 L291.522 669.865  Z\n",
       "  \" fill=\"#009af9\" fill-rule=\"evenodd\" fill-opacity=\"1\"/>\n",
       "<polyline clip-path=\"url(#clip512)\" style=\"stroke:#000000; stroke-width:4; stroke-opacity:1; fill:none\" points=\"\n",
       "  291.522,669.865 291.522,1445.72 679.775,1445.72 679.775,669.865 291.522,669.865 \n",
       "  \"/>\n",
       "<path clip-path=\"url(#clip512)\" d=\"\n",
       "M679.775 1251.75 L679.775 1445.72 L1068.03 1445.72 L1068.03 1251.75 L679.775 1251.75 L679.775 1251.75  Z\n",
       "  \" fill=\"#009af9\" fill-rule=\"evenodd\" fill-opacity=\"1\"/>\n",
       "<polyline clip-path=\"url(#clip512)\" style=\"stroke:#000000; stroke-width:4; stroke-opacity:1; fill:none\" points=\"\n",
       "  679.775,1251.75 679.775,1445.72 1068.03,1445.72 1068.03,1251.75 679.775,1251.75 \n",
       "  \"/>\n",
       "<path clip-path=\"url(#clip512)\" d=\"\n",
       "M1068.03 1251.75 L1068.03 1445.72 L1456.28 1445.72 L1456.28 1251.75 L1068.03 1251.75 L1068.03 1251.75  Z\n",
       "  \" fill=\"#009af9\" fill-rule=\"evenodd\" fill-opacity=\"1\"/>\n",
       "<polyline clip-path=\"url(#clip512)\" style=\"stroke:#000000; stroke-width:4; stroke-opacity:1; fill:none\" points=\"\n",
       "  1068.03,1251.75 1068.03,1445.72 1456.28,1445.72 1456.28,1251.75 1068.03,1251.75 \n",
       "  \"/>\n",
       "<path clip-path=\"url(#clip512)\" d=\"\n",
       "M1456.28 1348.73 L1456.28 1445.72 L1844.53 1445.72 L1844.53 1348.73 L1456.28 1348.73 L1456.28 1348.73  Z\n",
       "  \" fill=\"#009af9\" fill-rule=\"evenodd\" fill-opacity=\"1\"/>\n",
       "<polyline clip-path=\"url(#clip512)\" style=\"stroke:#000000; stroke-width:4; stroke-opacity:1; fill:none\" points=\"\n",
       "  1456.28,1348.73 1456.28,1445.72 1844.53,1445.72 1844.53,1348.73 1456.28,1348.73 \n",
       "  \"/>\n",
       "<path clip-path=\"url(#clip512)\" d=\"\n",
       "M1844.53 1348.73 L1844.53 1445.72 L2232.79 1445.72 L2232.79 1348.73 L1844.53 1348.73 L1844.53 1348.73  Z\n",
       "  \" fill=\"#009af9\" fill-rule=\"evenodd\" fill-opacity=\"1\"/>\n",
       "<polyline clip-path=\"url(#clip512)\" style=\"stroke:#000000; stroke-width:4; stroke-opacity:1; fill:none\" points=\"\n",
       "  1844.53,1348.73 1844.53,1445.72 2232.79,1445.72 2232.79,1348.73 1844.53,1348.73 \n",
       "  \"/>\n",
       "<path clip-path=\"url(#clip512)\" d=\"\n",
       "M291.522 87.9763 L291.522 1445.72 L679.775 1445.72 L679.775 87.9763 L291.522 87.9763 L291.522 87.9763  Z\n",
       "  \" fill=\"#e26f46\" fill-rule=\"evenodd\" fill-opacity=\"1\"/>\n",
       "<polyline clip-path=\"url(#clip512)\" style=\"stroke:#000000; stroke-width:4; stroke-opacity:1; fill:none\" points=\"\n",
       "  291.522,87.9763 291.522,1445.72 679.775,1445.72 679.775,87.9763 291.522,87.9763 \n",
       "  \"/>\n",
       "<path clip-path=\"url(#clip510)\" d=\"\n",
       "M1827.9 276.658 L2280.05 276.658 L2280.05 95.2176 L1827.9 95.2176  Z\n",
       "  \" fill=\"#ffffff\" fill-rule=\"evenodd\" fill-opacity=\"1\"/>\n",
       "<polyline clip-path=\"url(#clip510)\" style=\"stroke:#000000; stroke-width:4; stroke-opacity:1; fill:none\" points=\"\n",
       "  1827.9,276.658 2280.05,276.658 2280.05,95.2176 1827.9,95.2176 1827.9,276.658 \n",
       "  \"/>\n",
       "<path clip-path=\"url(#clip510)\" d=\"\n",
       "M1852.14 179.89 L1997.55 179.89 L1997.55 131.506 L1852.14 131.506 L1852.14 179.89  Z\n",
       "  \" fill=\"#009af9\" fill-rule=\"evenodd\" fill-opacity=\"1\"/>\n",
       "<polyline clip-path=\"url(#clip510)\" style=\"stroke:#000000; stroke-width:4; stroke-opacity:1; fill:none\" points=\"\n",
       "  1852.14,179.89 1997.55,179.89 1997.55,131.506 1852.14,131.506 1852.14,179.89 \n",
       "  \"/>\n",
       "<path clip-path=\"url(#clip510)\" d=\"M 0 0 M2038.75 160.917 L2037.74 155.57 Q2036.69 150.084 2032.57 150.084 Q2029.47 150.084 2028.06 152.63 Q2026.28 155.825 2026.28 160.038 Q2026.28 165.13 2028.01 167.561 Q2029.77 170.038 2032.57 170.038 Q2035.68 170.038 2037.34 165.107 L2038.75 160.917 M2041.14 153.834 L2043.43 147.052 L2047.23 147.052 L2042.48 161.103 L2043.41 166.172 Q2043.62 167.306 2044.43 168.255 Q2045.38 169.366 2046.12 169.366 L2048.15 169.366 L2048.15 172.978 L2045.61 172.978 Q2043.43 172.978 2041.49 171.033 Q2040.54 170.061 2040.14 168.024 Q2039.08 170.593 2036.9 172.607 Q2035.88 173.556 2032.57 173.556 Q2027.13 173.556 2024.5 170.038 Q2021.79 166.404 2021.79 160.038 Q2021.79 153.232 2024.73 150.038 Q2027.99 146.473 2032.57 146.473 Q2039.77 146.473 2041.14 153.834 Z\" fill=\"#000000\" fill-rule=\"evenodd\" fill-opacity=\"1\" /><path clip-path=\"url(#clip510)\" d=\"M 0 0 M2053.18 151.45 L2082.85 151.45 L2082.85 155.339 L2053.18 155.339 L2053.18 151.45 M2053.18 160.894 L2082.85 160.894 L2082.85 164.829 L2053.18 164.829 L2053.18 160.894 Z\" fill=\"#000000\" fill-rule=\"evenodd\" fill-opacity=\"1\" /><path clip-path=\"url(#clip510)\" d=\"M 0 0 M2088.06 172.26 L2088.06 168.001 Q2089.82 168.834 2091.62 169.274 Q2093.43 169.714 2095.17 169.714 Q2099.8 169.714 2102.23 166.612 Q2104.68 163.487 2105.03 157.144 Q2103.69 159.135 2101.62 160.2 Q2099.56 161.265 2097.06 161.265 Q2091.88 161.265 2088.85 158.14 Q2085.84 154.992 2085.84 149.552 Q2085.84 144.228 2088.99 141.01 Q2092.13 137.793 2097.37 137.793 Q2103.36 137.793 2106.51 142.399 Q2109.68 146.982 2109.68 155.732 Q2109.68 163.904 2105.79 168.788 Q2101.93 173.649 2095.37 173.649 Q2093.62 173.649 2091.81 173.302 Q2090 172.954 2088.06 172.26 M2097.37 157.607 Q2100.51 157.607 2102.34 155.454 Q2104.19 153.302 2104.19 149.552 Q2104.19 145.825 2102.34 143.672 Q2100.51 141.496 2097.37 141.496 Q2094.22 141.496 2092.37 143.672 Q2090.54 145.825 2090.54 149.552 Q2090.54 153.302 2092.37 155.454 Q2094.22 157.607 2097.37 157.607 Z\" fill=\"#000000\" fill-rule=\"evenodd\" fill-opacity=\"1\" /><path clip-path=\"url(#clip510)\" d=\"M 0 0 M2114.8 138.418 L2133.15 138.418 L2133.15 142.353 L2119.08 142.353 L2119.08 150.825 Q2120.1 150.478 2121.12 150.316 Q2122.13 150.13 2123.15 150.13 Q2128.94 150.13 2132.32 153.302 Q2135.7 156.473 2135.7 161.89 Q2135.7 167.468 2132.23 170.57 Q2128.75 173.649 2122.43 173.649 Q2120.26 173.649 2117.99 173.278 Q2115.75 172.908 2113.34 172.167 L2113.34 167.468 Q2115.42 168.603 2117.64 169.158 Q2119.87 169.714 2122.34 169.714 Q2126.35 169.714 2128.68 167.607 Q2131.02 165.501 2131.02 161.89 Q2131.02 158.279 2128.68 156.172 Q2126.35 154.066 2122.34 154.066 Q2120.47 154.066 2118.59 154.482 Q2116.74 154.899 2114.8 155.779 L2114.8 138.418 Z\" fill=\"#000000\" fill-rule=\"evenodd\" fill-opacity=\"1\" /><path clip-path=\"url(#clip510)\" d=\"M 0 0 M2147.74 138.418 L2151.67 138.418 L2139.63 177.376 L2135.7 177.376 L2147.74 138.418 Z\" fill=\"#000000\" fill-rule=\"evenodd\" fill-opacity=\"1\" /><path clip-path=\"url(#clip510)\" d=\"M 0 0 M2157.55 169.042 L2165.19 169.042 L2165.19 142.677 L2156.88 144.343 L2156.88 140.084 L2165.14 138.418 L2169.82 138.418 L2169.82 169.042 L2177.46 169.042 L2177.46 172.978 L2157.55 172.978 L2157.55 169.042 Z\" fill=\"#000000\" fill-rule=\"evenodd\" fill-opacity=\"1\" /><path clip-path=\"url(#clip510)\" d=\"M 0 0 M2192.53 141.496 Q2188.92 141.496 2187.09 145.061 Q2185.28 148.603 2185.28 155.732 Q2185.28 162.839 2187.09 166.404 Q2188.92 169.945 2192.53 169.945 Q2196.16 169.945 2197.97 166.404 Q2199.8 162.839 2199.8 155.732 Q2199.8 148.603 2197.97 145.061 Q2196.16 141.496 2192.53 141.496 M2192.53 137.793 Q2198.34 137.793 2201.39 142.399 Q2204.47 146.982 2204.47 155.732 Q2204.47 164.459 2201.39 169.066 Q2198.34 173.649 2192.53 173.649 Q2186.72 173.649 2183.64 169.066 Q2180.58 164.459 2180.58 155.732 Q2180.58 146.982 2183.64 142.399 Q2186.72 137.793 2192.53 137.793 Z\" fill=\"#000000\" fill-rule=\"evenodd\" fill-opacity=\"1\" /><path clip-path=\"url(#clip510)\" d=\"M 0 0 M2219.54 141.496 Q2215.93 141.496 2214.1 145.061 Q2212.3 148.603 2212.3 155.732 Q2212.3 162.839 2214.1 166.404 Q2215.93 169.945 2219.54 169.945 Q2223.18 169.945 2224.98 166.404 Q2226.81 162.839 2226.81 155.732 Q2226.81 148.603 2224.98 145.061 Q2223.18 141.496 2219.54 141.496 M2219.54 137.793 Q2225.35 137.793 2228.41 142.399 Q2231.49 146.982 2231.49 155.732 Q2231.49 164.459 2228.41 169.066 Q2225.35 173.649 2219.54 173.649 Q2213.73 173.649 2210.65 169.066 Q2207.6 164.459 2207.6 155.732 Q2207.6 146.982 2210.65 142.399 Q2213.73 137.793 2219.54 137.793 Z\" fill=\"#000000\" fill-rule=\"evenodd\" fill-opacity=\"1\" /><path clip-path=\"url(#clip510)\" d=\"\n",
       "M1852.14 240.37 L1997.55 240.37 L1997.55 191.986 L1852.14 191.986 L1852.14 240.37  Z\n",
       "  \" fill=\"#e26f46\" fill-rule=\"evenodd\" fill-opacity=\"1\"/>\n",
       "<polyline clip-path=\"url(#clip510)\" style=\"stroke:#000000; stroke-width:4; stroke-opacity:1; fill:none\" points=\"\n",
       "  1852.14,240.37 1997.55,240.37 1997.55,191.986 1852.14,191.986 1852.14,240.37 \n",
       "  \"/>\n",
       "<path clip-path=\"url(#clip510)\" d=\"M 0 0 M2038.75 221.397 L2037.74 216.05 Q2036.69 210.564 2032.57 210.564 Q2029.47 210.564 2028.06 213.11 Q2026.28 216.305 2026.28 220.518 Q2026.28 225.61 2028.01 228.041 Q2029.77 230.518 2032.57 230.518 Q2035.68 230.518 2037.34 225.587 L2038.75 221.397 M2041.14 214.314 L2043.43 207.532 L2047.23 207.532 L2042.48 221.583 L2043.41 226.652 Q2043.62 227.786 2044.43 228.735 Q2045.38 229.846 2046.12 229.846 L2048.15 229.846 L2048.15 233.458 L2045.61 233.458 Q2043.43 233.458 2041.49 231.513 Q2040.54 230.541 2040.14 228.504 Q2039.08 231.073 2036.9 233.087 Q2035.88 234.036 2032.57 234.036 Q2027.13 234.036 2024.5 230.518 Q2021.79 226.884 2021.79 220.518 Q2021.79 213.712 2024.73 210.518 Q2027.99 206.953 2032.57 206.953 Q2039.77 206.953 2041.14 214.314 Z\" fill=\"#000000\" fill-rule=\"evenodd\" fill-opacity=\"1\" /><path clip-path=\"url(#clip510)\" d=\"M 0 0 M2053.18 211.93 L2082.85 211.93 L2082.85 215.819 L2053.18 215.819 L2053.18 211.93 M2053.18 221.374 L2082.85 221.374 L2082.85 225.309 L2053.18 225.309 L2053.18 221.374 Z\" fill=\"#000000\" fill-rule=\"evenodd\" fill-opacity=\"1\" /><path clip-path=\"url(#clip510)\" d=\"M 0 0 M2097.92 217.046 Q2094.59 217.046 2092.67 218.828 Q2090.77 220.61 2090.77 223.735 Q2090.77 226.86 2092.67 228.643 Q2094.59 230.425 2097.92 230.425 Q2101.25 230.425 2103.18 228.643 Q2105.1 226.837 2105.1 223.735 Q2105.1 220.61 2103.18 218.828 Q2101.28 217.046 2097.92 217.046 M2093.25 215.055 Q2090.24 214.314 2088.55 212.254 Q2086.88 210.194 2086.88 207.231 Q2086.88 203.087 2089.82 200.68 Q2092.78 198.273 2097.92 198.273 Q2103.08 198.273 2106.02 200.68 Q2108.96 203.087 2108.96 207.231 Q2108.96 210.194 2107.27 212.254 Q2105.61 214.314 2102.62 215.055 Q2106 215.842 2107.87 218.134 Q2109.77 220.425 2109.77 223.735 Q2109.77 228.759 2106.69 231.444 Q2103.64 234.129 2097.92 234.129 Q2092.2 234.129 2089.12 231.444 Q2086.07 228.759 2086.07 223.735 Q2086.07 220.425 2087.97 218.134 Q2089.87 215.842 2093.25 215.055 M2091.53 207.671 Q2091.53 210.356 2093.2 211.86 Q2094.89 213.365 2097.92 213.365 Q2100.93 213.365 2102.62 211.86 Q2104.33 210.356 2104.33 207.671 Q2104.33 204.985 2102.62 203.481 Q2100.93 201.976 2097.92 201.976 Q2094.89 201.976 2093.2 203.481 Q2091.53 204.985 2091.53 207.671 Z\" fill=\"#000000\" fill-rule=\"evenodd\" fill-opacity=\"1\" /><path clip-path=\"url(#clip510)\" d=\"M 0 0 M2114.89 198.898 L2133.25 198.898 L2133.25 202.833 L2119.17 202.833 L2119.17 211.305 Q2120.19 210.958 2121.21 210.796 Q2122.23 210.61 2123.25 210.61 Q2129.03 210.61 2132.41 213.782 Q2135.79 216.953 2135.79 222.37 Q2135.79 227.948 2132.32 231.05 Q2128.85 234.129 2122.53 234.129 Q2120.35 234.129 2118.08 233.758 Q2115.84 233.388 2113.43 232.647 L2113.43 227.948 Q2115.51 229.083 2117.74 229.638 Q2119.96 230.194 2122.43 230.194 Q2126.44 230.194 2128.78 228.087 Q2131.12 225.981 2131.12 222.37 Q2131.12 218.759 2128.78 216.652 Q2126.44 214.546 2122.43 214.546 Q2120.56 214.546 2118.68 214.962 Q2116.83 215.379 2114.89 216.259 L2114.89 198.898 Z\" fill=\"#000000\" fill-rule=\"evenodd\" fill-opacity=\"1\" /><path clip-path=\"url(#clip510)\" d=\"M 0 0 M2147.83 198.898 L2151.76 198.898 L2139.73 237.856 L2135.79 237.856 L2147.83 198.898 Z\" fill=\"#000000\" fill-rule=\"evenodd\" fill-opacity=\"1\" /><path clip-path=\"url(#clip510)\" d=\"M 0 0 M2157.64 229.522 L2165.28 229.522 L2165.28 203.157 L2156.97 204.823 L2156.97 200.564 L2165.24 198.898 L2169.91 198.898 L2169.91 229.522 L2177.55 229.522 L2177.55 233.458 L2157.64 233.458 L2157.64 229.522 Z\" fill=\"#000000\" fill-rule=\"evenodd\" fill-opacity=\"1\" /><path clip-path=\"url(#clip510)\" d=\"M 0 0 M2192.62 201.976 Q2189.01 201.976 2187.18 205.541 Q2185.37 209.083 2185.37 216.212 Q2185.37 223.319 2187.18 226.884 Q2189.01 230.425 2192.62 230.425 Q2196.25 230.425 2198.06 226.884 Q2199.89 223.319 2199.89 216.212 Q2199.89 209.083 2198.06 205.541 Q2196.25 201.976 2192.62 201.976 M2192.62 198.273 Q2198.43 198.273 2201.49 202.879 Q2204.56 207.462 2204.56 216.212 Q2204.56 224.939 2201.49 229.546 Q2198.43 234.129 2192.62 234.129 Q2186.81 234.129 2183.73 229.546 Q2180.68 224.939 2180.68 216.212 Q2180.68 207.462 2183.73 202.879 Q2186.81 198.273 2192.62 198.273 Z\" fill=\"#000000\" fill-rule=\"evenodd\" fill-opacity=\"1\" /><path clip-path=\"url(#clip510)\" d=\"M 0 0 M2219.63 201.976 Q2216.02 201.976 2214.19 205.541 Q2212.39 209.083 2212.39 216.212 Q2212.39 223.319 2214.19 226.884 Q2216.02 230.425 2219.63 230.425 Q2223.27 230.425 2225.07 226.884 Q2226.9 223.319 2226.9 216.212 Q2226.9 209.083 2225.07 205.541 Q2223.27 201.976 2219.63 201.976 M2219.63 198.273 Q2225.44 198.273 2228.5 202.879 Q2231.58 207.462 2231.58 216.212 Q2231.58 224.939 2228.5 229.546 Q2225.44 234.129 2219.63 234.129 Q2213.82 234.129 2210.74 229.546 Q2207.69 224.939 2207.69 216.212 Q2207.69 207.462 2210.74 202.879 Q2213.82 198.273 2219.63 198.273 Z\" fill=\"#000000\" fill-rule=\"evenodd\" fill-opacity=\"1\" /></svg>\n"
      ]
     },
     "execution_count": 35,
     "metadata": {},
     "output_type": "execute_result"
    }
   ],
   "source": [
    "([\n",
    "    [energia_local(ranks, corte95) for ranks in ranks_univs],\n",
    "    [energia_local(ranks, corte85) for ranks in ranks_univs]\n",
    "    ]) |> x -> histogram(x, bins=6, labels = [\"α=95/100\" \"α=85/100\"])"
   ]
  },
  {
   "cell_type": "markdown",
   "metadata": {},
   "source": [
    "De esta forma, se puede observar que al aumentar\n",
    "el valor de $\\alpha$, se incrementa la dispersión\n",
    "del histograma."
   ]
  },
  {
   "cell_type": "code",
   "execution_count": 36,
   "metadata": {},
   "outputs": [
    {
     "data": {
      "image/svg+xml": [
       "<?xml version=\"1.0\" encoding=\"utf-8\"?>\n",
       "<svg xmlns=\"http://www.w3.org/2000/svg\" xmlns:xlink=\"http://www.w3.org/1999/xlink\" width=\"600\" height=\"400\" viewBox=\"0 0 2400 1600\">\n",
       "<defs>\n",
       "  <clipPath id=\"clip550\">\n",
       "    <rect x=\"0\" y=\"0\" width=\"2400\" height=\"1600\"/>\n",
       "  </clipPath>\n",
       "</defs>\n",
       "<path clip-path=\"url(#clip550)\" d=\"\n",
       "M0 1600 L2400 1600 L2400 0 L0 0  Z\n",
       "  \" fill=\"#ffffff\" fill-rule=\"evenodd\" fill-opacity=\"1\"/>\n",
       "<defs>\n",
       "  <clipPath id=\"clip551\">\n",
       "    <rect x=\"480\" y=\"0\" width=\"1681\" height=\"1600\"/>\n",
       "  </clipPath>\n",
       "</defs>\n",
       "<path clip-path=\"url(#clip550)\" d=\"\n",
       "M135.071 1486.45 L2352.76 1486.45 L2352.76 47.2441 L135.071 47.2441  Z\n",
       "  \" fill=\"#ffffff\" fill-rule=\"evenodd\" fill-opacity=\"1\"/>\n",
       "<defs>\n",
       "  <clipPath id=\"clip552\">\n",
       "    <rect x=\"135\" y=\"47\" width=\"2219\" height=\"1440\"/>\n",
       "  </clipPath>\n",
       "</defs>\n",
       "<polyline clip-path=\"url(#clip552)\" style=\"stroke:#000000; stroke-width:2; stroke-opacity:0.1; fill:none\" points=\"\n",
       "  257.047,1486.45 257.047,47.2441 \n",
       "  \"/>\n",
       "<polyline clip-path=\"url(#clip552)\" style=\"stroke:#000000; stroke-width:2; stroke-opacity:0.1; fill:none\" points=\"\n",
       "  651.794,1486.45 651.794,47.2441 \n",
       "  \"/>\n",
       "<polyline clip-path=\"url(#clip552)\" style=\"stroke:#000000; stroke-width:2; stroke-opacity:0.1; fill:none\" points=\"\n",
       "  1046.54,1486.45 1046.54,47.2441 \n",
       "  \"/>\n",
       "<polyline clip-path=\"url(#clip552)\" style=\"stroke:#000000; stroke-width:2; stroke-opacity:0.1; fill:none\" points=\"\n",
       "  1441.29,1486.45 1441.29,47.2441 \n",
       "  \"/>\n",
       "<polyline clip-path=\"url(#clip552)\" style=\"stroke:#000000; stroke-width:2; stroke-opacity:0.1; fill:none\" points=\"\n",
       "  1836.03,1486.45 1836.03,47.2441 \n",
       "  \"/>\n",
       "<polyline clip-path=\"url(#clip552)\" style=\"stroke:#000000; stroke-width:2; stroke-opacity:0.1; fill:none\" points=\"\n",
       "  2230.78,1486.45 2230.78,47.2441 \n",
       "  \"/>\n",
       "<polyline clip-path=\"url(#clip550)\" style=\"stroke:#000000; stroke-width:4; stroke-opacity:1; fill:none\" points=\"\n",
       "  135.071,1486.45 2352.76,1486.45 \n",
       "  \"/>\n",
       "<polyline clip-path=\"url(#clip550)\" style=\"stroke:#000000; stroke-width:4; stroke-opacity:1; fill:none\" points=\"\n",
       "  257.047,1486.45 257.047,1469.18 \n",
       "  \"/>\n",
       "<polyline clip-path=\"url(#clip550)\" style=\"stroke:#000000; stroke-width:4; stroke-opacity:1; fill:none\" points=\"\n",
       "  651.794,1486.45 651.794,1469.18 \n",
       "  \"/>\n",
       "<polyline clip-path=\"url(#clip550)\" style=\"stroke:#000000; stroke-width:4; stroke-opacity:1; fill:none\" points=\"\n",
       "  1046.54,1486.45 1046.54,1469.18 \n",
       "  \"/>\n",
       "<polyline clip-path=\"url(#clip550)\" style=\"stroke:#000000; stroke-width:4; stroke-opacity:1; fill:none\" points=\"\n",
       "  1441.29,1486.45 1441.29,1469.18 \n",
       "  \"/>\n",
       "<polyline clip-path=\"url(#clip550)\" style=\"stroke:#000000; stroke-width:4; stroke-opacity:1; fill:none\" points=\"\n",
       "  1836.03,1486.45 1836.03,1469.18 \n",
       "  \"/>\n",
       "<polyline clip-path=\"url(#clip550)\" style=\"stroke:#000000; stroke-width:4; stroke-opacity:1; fill:none\" points=\"\n",
       "  2230.78,1486.45 2230.78,1469.18 \n",
       "  \"/>\n",
       "<path clip-path=\"url(#clip550)\" d=\"M 0 0 M257.047 1515.64 Q253.436 1515.64 251.607 1519.2 Q249.802 1522.75 249.802 1529.87 Q249.802 1536.98 251.607 1540.55 Q253.436 1544.09 257.047 1544.09 Q260.681 1544.09 262.487 1540.55 Q264.316 1536.98 264.316 1529.87 Q264.316 1522.75 262.487 1519.2 Q260.681 1515.64 257.047 1515.64 M257.047 1511.93 Q262.857 1511.93 265.913 1516.54 Q268.992 1521.12 268.992 1529.87 Q268.992 1538.6 265.913 1543.21 Q262.857 1547.79 257.047 1547.79 Q251.237 1547.79 248.158 1543.21 Q245.103 1538.6 245.103 1529.87 Q245.103 1521.12 248.158 1516.54 Q251.237 1511.93 257.047 1511.93 Z\" fill=\"#000000\" fill-rule=\"evenodd\" fill-opacity=\"1\" /><path clip-path=\"url(#clip550)\" d=\"M 0 0 M642.176 1543.18 L649.814 1543.18 L649.814 1516.82 L641.504 1518.49 L641.504 1514.23 L649.768 1512.56 L654.444 1512.56 L654.444 1543.18 L662.083 1543.18 L662.083 1547.12 L642.176 1547.12 L642.176 1543.18 Z\" fill=\"#000000\" fill-rule=\"evenodd\" fill-opacity=\"1\" /><path clip-path=\"url(#clip550)\" d=\"M 0 0 M1041.19 1543.18 L1057.51 1543.18 L1057.51 1547.12 L1035.57 1547.12 L1035.57 1543.18 Q1038.23 1540.43 1042.81 1535.8 Q1047.42 1531.15 1048.6 1529.81 Q1050.85 1527.28 1051.73 1525.55 Q1052.63 1523.79 1052.63 1522.1 Q1052.63 1519.34 1050.68 1517.61 Q1048.76 1515.87 1045.66 1515.87 Q1043.46 1515.87 1041.01 1516.63 Q1038.58 1517.4 1035.8 1518.95 L1035.8 1514.23 Q1038.62 1513.09 1041.08 1512.51 Q1043.53 1511.93 1045.57 1511.93 Q1050.94 1511.93 1054.13 1514.62 Q1057.33 1517.31 1057.33 1521.8 Q1057.33 1523.93 1056.52 1525.85 Q1055.73 1527.74 1053.62 1530.34 Q1053.04 1531.01 1049.94 1534.23 Q1046.84 1537.42 1041.19 1543.18 Z\" fill=\"#000000\" fill-rule=\"evenodd\" fill-opacity=\"1\" /><path clip-path=\"url(#clip550)\" d=\"M 0 0 M1445.53 1528.49 Q1448.89 1529.2 1450.77 1531.47 Q1452.66 1533.74 1452.66 1537.07 Q1452.66 1542.19 1449.15 1544.99 Q1445.63 1547.79 1439.15 1547.79 Q1436.97 1547.79 1434.65 1547.35 Q1432.36 1546.93 1429.91 1546.08 L1429.91 1541.56 Q1431.85 1542.7 1434.17 1543.28 Q1436.48 1543.86 1439.01 1543.86 Q1443.4 1543.86 1445.7 1542.12 Q1448.01 1540.38 1448.01 1537.07 Q1448.01 1534.02 1445.86 1532.31 Q1443.73 1530.57 1439.91 1530.57 L1435.88 1530.57 L1435.88 1526.73 L1440.09 1526.73 Q1443.54 1526.73 1445.37 1525.36 Q1447.2 1523.97 1447.2 1521.38 Q1447.2 1518.72 1445.3 1517.31 Q1443.43 1515.87 1439.91 1515.87 Q1437.99 1515.87 1435.79 1516.29 Q1433.59 1516.7 1430.95 1517.58 L1430.95 1513.42 Q1433.61 1512.68 1435.93 1512.31 Q1438.27 1511.93 1440.33 1511.93 Q1445.65 1511.93 1448.75 1514.37 Q1451.85 1516.77 1451.85 1520.89 Q1451.85 1523.76 1450.21 1525.75 Q1448.57 1527.72 1445.53 1528.49 Z\" fill=\"#000000\" fill-rule=\"evenodd\" fill-opacity=\"1\" /><path clip-path=\"url(#clip550)\" d=\"M 0 0 M1839.04 1516.63 L1827.24 1535.08 L1839.04 1535.08 L1839.04 1516.63 M1837.82 1512.56 L1843.69 1512.56 L1843.69 1535.08 L1848.63 1535.08 L1848.63 1538.97 L1843.69 1538.97 L1843.69 1547.12 L1839.04 1547.12 L1839.04 1538.97 L1823.44 1538.97 L1823.44 1534.46 L1837.82 1512.56 Z\" fill=\"#000000\" fill-rule=\"evenodd\" fill-opacity=\"1\" /><path clip-path=\"url(#clip550)\" d=\"M 0 0 M2221.06 1512.56 L2239.41 1512.56 L2239.41 1516.5 L2225.34 1516.5 L2225.34 1524.97 Q2226.36 1524.62 2227.38 1524.46 Q2228.4 1524.27 2229.41 1524.27 Q2235.2 1524.27 2238.58 1527.44 Q2241.96 1530.62 2241.96 1536.03 Q2241.96 1541.61 2238.49 1544.71 Q2235.02 1547.79 2228.7 1547.79 Q2226.52 1547.79 2224.25 1547.42 Q2222.01 1547.05 2219.6 1546.31 L2219.6 1541.61 Q2221.68 1542.74 2223.9 1543.3 Q2226.13 1543.86 2228.6 1543.86 Q2232.61 1543.86 2234.95 1541.75 Q2237.28 1539.64 2237.28 1536.03 Q2237.28 1532.42 2234.95 1530.31 Q2232.61 1528.21 2228.6 1528.21 Q2226.73 1528.21 2224.85 1528.62 Q2223 1529.04 2221.06 1529.92 L2221.06 1512.56 Z\" fill=\"#000000\" fill-rule=\"evenodd\" fill-opacity=\"1\" /><polyline clip-path=\"url(#clip552)\" style=\"stroke:#000000; stroke-width:2; stroke-opacity:0.1; fill:none\" points=\"\n",
       "  135.071,1332.57 2352.76,1332.57 \n",
       "  \"/>\n",
       "<polyline clip-path=\"url(#clip552)\" style=\"stroke:#000000; stroke-width:2; stroke-opacity:0.1; fill:none\" points=\"\n",
       "  135.071,1219.43 2352.76,1219.43 \n",
       "  \"/>\n",
       "<polyline clip-path=\"url(#clip552)\" style=\"stroke:#000000; stroke-width:2; stroke-opacity:0.1; fill:none\" points=\"\n",
       "  135.071,1106.28 2352.76,1106.28 \n",
       "  \"/>\n",
       "<polyline clip-path=\"url(#clip552)\" style=\"stroke:#000000; stroke-width:2; stroke-opacity:0.1; fill:none\" points=\"\n",
       "  135.071,993.136 2352.76,993.136 \n",
       "  \"/>\n",
       "<polyline clip-path=\"url(#clip552)\" style=\"stroke:#000000; stroke-width:2; stroke-opacity:0.1; fill:none\" points=\"\n",
       "  135.071,879.991 2352.76,879.991 \n",
       "  \"/>\n",
       "<polyline clip-path=\"url(#clip552)\" style=\"stroke:#000000; stroke-width:2; stroke-opacity:0.1; fill:none\" points=\"\n",
       "  135.071,766.846 2352.76,766.846 \n",
       "  \"/>\n",
       "<polyline clip-path=\"url(#clip552)\" style=\"stroke:#000000; stroke-width:2; stroke-opacity:0.1; fill:none\" points=\"\n",
       "  135.071,653.701 2352.76,653.701 \n",
       "  \"/>\n",
       "<polyline clip-path=\"url(#clip552)\" style=\"stroke:#000000; stroke-width:2; stroke-opacity:0.1; fill:none\" points=\"\n",
       "  135.071,540.556 2352.76,540.556 \n",
       "  \"/>\n",
       "<polyline clip-path=\"url(#clip552)\" style=\"stroke:#000000; stroke-width:2; stroke-opacity:0.1; fill:none\" points=\"\n",
       "  135.071,427.411 2352.76,427.411 \n",
       "  \"/>\n",
       "<polyline clip-path=\"url(#clip552)\" style=\"stroke:#000000; stroke-width:2; stroke-opacity:0.1; fill:none\" points=\"\n",
       "  135.071,314.266 2352.76,314.266 \n",
       "  \"/>\n",
       "<polyline clip-path=\"url(#clip552)\" style=\"stroke:#000000; stroke-width:2; stroke-opacity:0.1; fill:none\" points=\"\n",
       "  135.071,201.121 2352.76,201.121 \n",
       "  \"/>\n",
       "<polyline clip-path=\"url(#clip552)\" style=\"stroke:#000000; stroke-width:2; stroke-opacity:0.1; fill:none\" points=\"\n",
       "  135.071,87.9763 2352.76,87.9763 \n",
       "  \"/>\n",
       "<polyline clip-path=\"url(#clip552)\" style=\"stroke:#000000; stroke-width:2; stroke-opacity:0.1; fill:none\" points=\"\n",
       "  135.071,-25.1687 2352.76,-25.1687 \n",
       "  \"/>\n",
       "<polyline clip-path=\"url(#clip552)\" style=\"stroke:#000000; stroke-width:2; stroke-opacity:0.1; fill:none\" points=\"\n",
       "  135.071,-138.314 2352.76,-138.314 \n",
       "  \"/>\n",
       "<polyline clip-path=\"url(#clip552)\" style=\"stroke:#000000; stroke-width:2; stroke-opacity:0.1; fill:none\" points=\"\n",
       "  135.071,-251.459 2352.76,-251.459 \n",
       "  \"/>\n",
       "<polyline clip-path=\"url(#clip550)\" style=\"stroke:#000000; stroke-width:4; stroke-opacity:1; fill:none\" points=\"\n",
       "  135.071,1486.45 135.071,47.2441 \n",
       "  \"/>\n",
       "<polyline clip-path=\"url(#clip550)\" style=\"stroke:#000000; stroke-width:4; stroke-opacity:1; fill:none\" points=\"\n",
       "  135.071,1332.57 161.683,1332.57 \n",
       "  \"/>\n",
       "<polyline clip-path=\"url(#clip550)\" style=\"stroke:#000000; stroke-width:4; stroke-opacity:1; fill:none\" points=\"\n",
       "  135.071,1219.43 161.683,1219.43 \n",
       "  \"/>\n",
       "<polyline clip-path=\"url(#clip550)\" style=\"stroke:#000000; stroke-width:4; stroke-opacity:1; fill:none\" points=\"\n",
       "  135.071,1106.28 161.683,1106.28 \n",
       "  \"/>\n",
       "<polyline clip-path=\"url(#clip550)\" style=\"stroke:#000000; stroke-width:4; stroke-opacity:1; fill:none\" points=\"\n",
       "  135.071,993.136 161.683,993.136 \n",
       "  \"/>\n",
       "<polyline clip-path=\"url(#clip550)\" style=\"stroke:#000000; stroke-width:4; stroke-opacity:1; fill:none\" points=\"\n",
       "  135.071,879.991 161.683,879.991 \n",
       "  \"/>\n",
       "<polyline clip-path=\"url(#clip550)\" style=\"stroke:#000000; stroke-width:4; stroke-opacity:1; fill:none\" points=\"\n",
       "  135.071,766.846 161.683,766.846 \n",
       "  \"/>\n",
       "<polyline clip-path=\"url(#clip550)\" style=\"stroke:#000000; stroke-width:4; stroke-opacity:1; fill:none\" points=\"\n",
       "  135.071,653.701 161.683,653.701 \n",
       "  \"/>\n",
       "<polyline clip-path=\"url(#clip550)\" style=\"stroke:#000000; stroke-width:4; stroke-opacity:1; fill:none\" points=\"\n",
       "  135.071,540.556 161.683,540.556 \n",
       "  \"/>\n",
       "<polyline clip-path=\"url(#clip550)\" style=\"stroke:#000000; stroke-width:4; stroke-opacity:1; fill:none\" points=\"\n",
       "  135.071,427.411 161.683,427.411 \n",
       "  \"/>\n",
       "<polyline clip-path=\"url(#clip550)\" style=\"stroke:#000000; stroke-width:4; stroke-opacity:1; fill:none\" points=\"\n",
       "  135.071,314.266 161.683,314.266 \n",
       "  \"/>\n",
       "<polyline clip-path=\"url(#clip550)\" style=\"stroke:#000000; stroke-width:4; stroke-opacity:1; fill:none\" points=\"\n",
       "  135.071,201.121 161.683,201.121 \n",
       "  \"/>\n",
       "<polyline clip-path=\"url(#clip550)\" style=\"stroke:#000000; stroke-width:4; stroke-opacity:1; fill:none\" points=\"\n",
       "  135.071,87.9763 161.683,87.9763 \n",
       "  \"/>\n",
       "<polyline clip-path=\"url(#clip550)\" style=\"stroke:#000000; stroke-width:4; stroke-opacity:1; fill:none\" points=\"\n",
       "  135.071,-25.1687 161.683,-25.1687 \n",
       "  \"/>\n",
       "<polyline clip-path=\"url(#clip550)\" style=\"stroke:#000000; stroke-width:4; stroke-opacity:1; fill:none\" points=\"\n",
       "  135.071,-138.314 161.683,-138.314 \n",
       "  \"/>\n",
       "<polyline clip-path=\"url(#clip550)\" style=\"stroke:#000000; stroke-width:4; stroke-opacity:1; fill:none\" points=\"\n",
       "  135.071,-251.459 161.683,-251.459 \n",
       "  \"/>\n",
       "<path clip-path=\"url(#clip550)\" d=\"M 0 0 M79.1633 1345.92 L86.8021 1345.92 L86.8021 1319.55 L78.492 1321.22 L78.492 1316.96 L86.7558 1315.29 L91.4317 1315.29 L91.4317 1345.92 L99.0706 1345.92 L99.0706 1349.85 L79.1633 1349.85 L79.1633 1345.92 Z\" fill=\"#000000\" fill-rule=\"evenodd\" fill-opacity=\"1\" /><path clip-path=\"url(#clip550)\" d=\"M 0 0 M82.7512 1232.77 L99.0706 1232.77 L99.0706 1236.71 L77.1262 1236.71 L77.1262 1232.77 Q79.7883 1230.02 84.3716 1225.39 Q88.978 1220.73 90.1586 1219.39 Q92.4039 1216.87 93.2836 1215.13 Q94.1863 1213.37 94.1863 1211.68 Q94.1863 1208.93 92.2419 1207.19 Q90.3206 1205.46 87.2188 1205.46 Q85.0197 1205.46 82.566 1206.22 Q80.1355 1206.98 77.3577 1208.53 L77.3577 1203.81 Q80.1818 1202.68 82.6355 1202.1 Q85.0892 1201.52 87.1262 1201.52 Q92.4965 1201.52 95.691 1204.21 Q98.8854 1206.89 98.8854 1211.38 Q98.8854 1213.51 98.0752 1215.43 Q97.2882 1217.33 95.1817 1219.92 Q94.603 1220.59 91.5012 1223.81 Q88.3993 1227.01 82.7512 1232.77 Z\" fill=\"#000000\" fill-rule=\"evenodd\" fill-opacity=\"1\" /><path clip-path=\"url(#clip550)\" d=\"M 0 0 M91.941 1104.93 Q95.2974 1105.64 97.1724 1107.91 Q99.0706 1110.18 99.0706 1113.51 Q99.0706 1118.63 95.5521 1121.43 Q92.0336 1124.23 85.5521 1124.23 Q83.3762 1124.23 81.0614 1123.79 Q78.7698 1123.38 76.3161 1122.52 L76.3161 1118.01 Q78.2605 1119.14 80.5753 1119.72 Q82.8901 1120.3 85.4132 1120.3 Q89.8114 1120.3 92.103 1118.56 Q94.4178 1116.82 94.4178 1113.51 Q94.4178 1110.46 92.2651 1108.75 Q90.1354 1107.01 86.316 1107.01 L82.2883 1107.01 L82.2883 1103.17 L86.5012 1103.17 Q89.9503 1103.17 91.7789 1101.8 Q93.6076 1100.41 93.6076 1097.82 Q93.6076 1095.16 91.7095 1093.75 Q89.8345 1092.31 86.316 1092.31 Q84.3947 1092.31 82.1957 1092.73 Q79.9966 1093.14 77.3577 1094.02 L77.3577 1089.86 Q80.0197 1089.12 82.3346 1088.75 Q84.6725 1088.38 86.7327 1088.38 Q92.0567 1088.38 95.1586 1090.81 Q98.2604 1093.21 98.2604 1097.33 Q98.2604 1100.2 96.6169 1102.2 Q94.9734 1104.16 91.941 1104.93 Z\" fill=\"#000000\" fill-rule=\"evenodd\" fill-opacity=\"1\" /><path clip-path=\"url(#clip550)\" d=\"M 0 0 M89.4873 979.93 L77.6818 998.379 L89.4873 998.379 L89.4873 979.93 M88.2604 975.856 L94.14 975.856 L94.14 998.379 L99.0706 998.379 L99.0706 1002.27 L94.14 1002.27 L94.14 1010.42 L89.4873 1010.42 L89.4873 1002.27 L73.8855 1002.27 L73.8855 997.754 L88.2604 975.856 Z\" fill=\"#000000\" fill-rule=\"evenodd\" fill-opacity=\"1\" /><path clip-path=\"url(#clip550)\" d=\"M 0 0 M78.1679 862.711 L96.5243 862.711 L96.5243 866.646 L82.4503 866.646 L82.4503 875.118 Q83.4688 874.771 84.4873 874.609 Q85.5058 874.424 86.5243 874.424 Q92.3113 874.424 95.691 877.595 Q99.0706 880.766 99.0706 886.183 Q99.0706 891.762 95.5984 894.864 Q92.1262 897.942 85.8068 897.942 Q83.6308 897.942 81.3623 897.572 Q79.117 897.201 76.7096 896.461 L76.7096 891.762 Q78.7929 892.896 81.0151 893.452 Q83.2373 894.007 85.7142 894.007 Q89.7188 894.007 92.0567 891.901 Q94.3947 889.794 94.3947 886.183 Q94.3947 882.572 92.0567 880.465 Q89.7188 878.359 85.7142 878.359 Q83.8392 878.359 81.9642 878.776 Q80.1123 879.192 78.1679 880.072 L78.1679 862.711 Z\" fill=\"#000000\" fill-rule=\"evenodd\" fill-opacity=\"1\" /><path clip-path=\"url(#clip550)\" d=\"M 0 0 M87.5429 764.983 Q84.3947 764.983 82.5429 767.135 Q80.7142 769.288 80.7142 773.038 Q80.7142 776.765 82.5429 778.941 Q84.3947 781.094 87.5429 781.094 Q90.691 781.094 92.5197 778.941 Q94.3715 776.765 94.3715 773.038 Q94.3715 769.288 92.5197 767.135 Q90.691 764.983 87.5429 764.983 M96.8252 750.33 L96.8252 754.589 Q95.066 753.756 93.2604 753.316 Q91.478 752.876 89.7188 752.876 Q85.0892 752.876 82.6355 756.001 Q80.2049 759.126 79.8577 765.446 Q81.2234 763.432 83.2836 762.367 Q85.3438 761.279 87.8206 761.279 Q93.0289 761.279 96.0382 764.45 Q99.0706 767.598 99.0706 773.038 Q99.0706 778.362 95.9224 781.58 Q92.7743 784.797 87.5429 784.797 Q81.5475 784.797 78.3762 780.214 Q75.205 775.608 75.205 766.881 Q75.205 758.686 79.0938 753.825 Q82.9827 748.941 89.5336 748.941 Q91.2928 748.941 93.0752 749.288 Q94.8808 749.635 96.8252 750.33 Z\" fill=\"#000000\" fill-rule=\"evenodd\" fill-opacity=\"1\" /><path clip-path=\"url(#clip550)\" d=\"M 0 0 M76.8485 636.421 L99.0706 636.421 L99.0706 638.412 L86.5243 670.981 L81.6401 670.981 L93.4456 640.356 L76.8485 640.356 L76.8485 636.421 Z\" fill=\"#000000\" fill-rule=\"evenodd\" fill-opacity=\"1\" /><path clip-path=\"url(#clip550)\" d=\"M 0 0 M87.2188 541.424 Q83.8855 541.424 81.9642 543.207 Q80.066 544.989 80.066 548.114 Q80.066 551.239 81.9642 553.021 Q83.8855 554.804 87.2188 554.804 Q90.5521 554.804 92.4734 553.021 Q94.3947 551.216 94.3947 548.114 Q94.3947 544.989 92.4734 543.207 Q90.5752 541.424 87.2188 541.424 M82.5429 539.433 Q79.5336 538.693 77.8438 536.632 Q76.1772 534.572 76.1772 531.609 Q76.1772 527.466 79.117 525.058 Q82.0799 522.651 87.2188 522.651 Q92.3808 522.651 95.3206 525.058 Q98.2604 527.466 98.2604 531.609 Q98.2604 534.572 96.5706 536.632 Q94.9039 538.693 91.9178 539.433 Q95.2974 540.22 97.1724 542.512 Q99.0706 544.804 99.0706 548.114 Q99.0706 553.137 95.9919 555.822 Q92.9363 558.507 87.2188 558.507 Q81.5012 558.507 78.4225 555.822 Q75.367 553.137 75.367 548.114 Q75.367 544.804 77.2651 542.512 Q79.1633 540.22 82.5429 539.433 M80.8299 532.049 Q80.8299 534.734 82.4966 536.239 Q84.1864 537.744 87.2188 537.744 Q90.228 537.744 91.9178 536.239 Q93.6308 534.734 93.6308 532.049 Q93.6308 529.364 91.9178 527.859 Q90.228 526.355 87.2188 526.355 Q84.1864 526.355 82.4966 527.859 Q80.8299 529.364 80.8299 532.049 Z\" fill=\"#000000\" fill-rule=\"evenodd\" fill-opacity=\"1\" /><path clip-path=\"url(#clip550)\" d=\"M 0 0 M77.4503 443.974 L77.4503 439.714 Q79.2096 440.548 81.0151 440.987 Q82.8207 441.427 84.5568 441.427 Q89.1864 441.427 91.6169 438.325 Q94.0706 435.2 94.4178 428.858 Q93.0752 430.849 91.0151 431.913 Q88.9549 432.978 86.4549 432.978 Q81.2697 432.978 78.2374 429.853 Q75.2281 426.705 75.2281 421.265 Q75.2281 415.941 78.3762 412.724 Q81.5244 409.506 86.7558 409.506 Q92.7512 409.506 95.8993 414.113 Q99.0706 418.696 99.0706 427.446 Q99.0706 435.617 95.1817 440.501 Q91.316 445.362 84.7651 445.362 Q83.0058 445.362 81.2003 445.015 Q79.3948 444.668 77.4503 443.974 M86.7558 429.321 Q89.904 429.321 91.7326 427.168 Q93.5845 425.015 93.5845 421.265 Q93.5845 417.538 91.7326 415.386 Q89.904 413.21 86.7558 413.21 Q83.6077 413.21 81.7559 415.386 Q79.9272 417.538 79.9272 421.265 Q79.9272 425.015 81.7559 427.168 Q83.6077 429.321 86.7558 429.321 Z\" fill=\"#000000\" fill-rule=\"evenodd\" fill-opacity=\"1\" /><path clip-path=\"url(#clip550)\" d=\"M 0 0 M52.1495 327.611 L59.7884 327.611 L59.7884 301.245 L51.4782 302.912 L51.4782 298.653 L59.7421 296.986 L64.418 296.986 L64.418 327.611 L72.0568 327.611 L72.0568 331.546 L52.1495 331.546 L52.1495 327.611 Z\" fill=\"#000000\" fill-rule=\"evenodd\" fill-opacity=\"1\" /><path clip-path=\"url(#clip550)\" d=\"M 0 0 M87.1262 300.065 Q83.5151 300.065 81.6864 303.63 Q79.8809 307.171 79.8809 314.301 Q79.8809 321.407 81.6864 324.972 Q83.5151 328.514 87.1262 328.514 Q90.7604 328.514 92.566 324.972 Q94.3947 321.407 94.3947 314.301 Q94.3947 307.171 92.566 303.63 Q90.7604 300.065 87.1262 300.065 M87.1262 296.361 Q92.9363 296.361 95.9919 300.968 Q99.0706 305.551 99.0706 314.301 Q99.0706 323.028 95.9919 327.634 Q92.9363 332.217 87.1262 332.217 Q81.316 332.217 78.2374 327.634 Q75.1818 323.028 75.1818 314.301 Q75.1818 305.551 78.2374 300.968 Q81.316 296.361 87.1262 296.361 Z\" fill=\"#000000\" fill-rule=\"evenodd\" fill-opacity=\"1\" /><path clip-path=\"url(#clip550)\" d=\"M 0 0 M53.3764 214.466 L61.0152 214.466 L61.0152 188.1 L52.7051 189.767 L52.7051 185.508 L60.9689 183.841 L65.6448 183.841 L65.6448 214.466 L73.2837 214.466 L73.2837 218.401 L53.3764 218.401 L53.3764 214.466 Z\" fill=\"#000000\" fill-rule=\"evenodd\" fill-opacity=\"1\" /><path clip-path=\"url(#clip550)\" d=\"M 0 0 M79.1633 214.466 L86.8021 214.466 L86.8021 188.1 L78.492 189.767 L78.492 185.508 L86.7558 183.841 L91.4317 183.841 L91.4317 214.466 L99.0706 214.466 L99.0706 218.401 L79.1633 218.401 L79.1633 214.466 Z\" fill=\"#000000\" fill-rule=\"evenodd\" fill-opacity=\"1\" /><path clip-path=\"url(#clip550)\" d=\"M 0 0 M53.7467 101.321 L61.3856 101.321 L61.3856 74.9555 L53.0754 76.6222 L53.0754 72.3629 L61.3393 70.6963 L66.0152 70.6963 L66.0152 101.321 L73.654 101.321 L73.654 105.256 L53.7467 105.256 L53.7467 101.321 Z\" fill=\"#000000\" fill-rule=\"evenodd\" fill-opacity=\"1\" /><path clip-path=\"url(#clip550)\" d=\"M 0 0 M82.7512 101.321 L99.0706 101.321 L99.0706 105.256 L77.1262 105.256 L77.1262 101.321 Q79.7883 98.5665 84.3716 93.9369 Q88.978 89.2841 90.1586 87.9416 Q92.4039 85.4184 93.2836 83.6823 Q94.1863 81.9231 94.1863 80.2333 Q94.1863 77.4786 92.2419 75.7425 Q90.3206 74.0064 87.2188 74.0064 Q85.0197 74.0064 82.566 74.7703 Q80.1355 75.5342 77.3577 77.0851 L77.3577 72.3629 Q80.1818 71.2287 82.6355 70.65 Q85.0892 70.0713 87.1262 70.0713 Q92.4965 70.0713 95.691 72.7565 Q98.8854 75.4416 98.8854 79.9323 Q98.8854 82.062 98.0752 83.9832 Q97.2882 85.8814 95.1817 88.474 Q94.603 89.1453 91.5012 92.3628 Q88.3993 95.5573 82.7512 101.321 Z\" fill=\"#000000\" fill-rule=\"evenodd\" fill-opacity=\"1\" /><path clip-path=\"url(#clip550)\" d=\"M 0 0 M52.7977 -11.8238 L60.4365 -11.8238 L60.4365 -38.1894 L52.1264 -36.5228 L52.1264 -40.782 L60.3902 -42.4487 L65.0661 -42.4487 L65.0661 -11.8238 L72.705 -11.8238 L72.705 -7.88867 L52.7977 -7.88867 L52.7977 -11.8238 Z\" fill=\"#000000\" fill-rule=\"evenodd\" fill-opacity=\"1\" /><path clip-path=\"url(#clip550)\" d=\"M 0 0 M91.941 -26.5228 Q95.2974 -25.8052 97.1724 -23.5367 Q99.0706 -21.2682 99.0706 -17.9349 Q99.0706 -12.8192 95.5521 -10.0183 Q92.0336 -7.21738 85.5521 -7.21738 Q83.3762 -7.21738 81.0614 -7.65719 Q78.7698 -8.07386 76.3161 -8.93034 L76.3161 -13.4442 Q78.2605 -12.3099 80.5753 -11.7312 Q82.8901 -11.1525 85.4132 -11.1525 Q89.8114 -11.1525 92.103 -12.8886 Q94.4178 -14.6247 94.4178 -17.9349 Q94.4178 -20.9905 92.2651 -22.7034 Q90.1354 -24.4395 86.316 -24.4395 L82.2883 -24.4395 L82.2883 -28.2821 L86.5012 -28.2821 Q89.9503 -28.2821 91.7789 -29.6478 Q93.6076 -31.0367 93.6076 -33.6293 Q93.6076 -36.2913 91.7095 -37.7033 Q89.8345 -39.1385 86.316 -39.1385 Q84.3947 -39.1385 82.1957 -38.7218 Q79.9966 -38.3052 77.3577 -37.4256 L77.3577 -41.5922 Q80.0197 -42.3329 82.3346 -42.7033 Q84.6725 -43.0737 86.7327 -43.0737 Q92.0567 -43.0737 95.1586 -40.6431 Q98.2604 -38.2357 98.2604 -34.1154 Q98.2604 -31.245 96.6169 -29.2543 Q94.9734 -27.2867 91.941 -26.5228 Z\" fill=\"#000000\" fill-rule=\"evenodd\" fill-opacity=\"1\" /><path clip-path=\"url(#clip550)\" d=\"M 0 0 M51.6634 -124.969 L59.3023 -124.969 L59.3023 -151.334 L50.9921 -149.668 L50.9921 -153.927 L59.256 -155.594 L63.9319 -155.594 L63.9319 -124.969 L71.5707 -124.969 L71.5707 -121.034 L51.6634 -121.034 L51.6634 -124.969 Z\" fill=\"#000000\" fill-rule=\"evenodd\" fill-opacity=\"1\" /><path clip-path=\"url(#clip550)\" d=\"M 0 0 M89.4873 -151.52 L77.6818 -133.071 L89.4873 -133.071 L89.4873 -151.52 M88.2604 -155.594 L94.14 -155.594 L94.14 -133.071 L99.0706 -133.071 L99.0706 -129.182 L94.14 -129.182 L94.14 -121.034 L89.4873 -121.034 L89.4873 -129.182 L73.8855 -129.182 L73.8855 -133.696 L88.2604 -155.594 Z\" fill=\"#000000\" fill-rule=\"evenodd\" fill-opacity=\"1\" /><path clip-path=\"url(#clip550)\" d=\"M 0 0 M53.1449 -238.114 L60.7837 -238.114 L60.7837 -264.479 L52.4736 -262.813 L52.4736 -267.072 L60.7374 -268.739 L65.4133 -268.739 L65.4133 -238.114 L73.0522 -238.114 L73.0522 -234.179 L53.1449 -234.179 L53.1449 -238.114 Z\" fill=\"#000000\" fill-rule=\"evenodd\" fill-opacity=\"1\" /><path clip-path=\"url(#clip550)\" d=\"M 0 0 M78.1679 -268.739 L96.5243 -268.739 L96.5243 -264.803 L82.4503 -264.803 L82.4503 -256.331 Q83.4688 -256.678 84.4873 -256.84 Q85.5058 -257.026 86.5243 -257.026 Q92.3113 -257.026 95.691 -253.854 Q99.0706 -250.683 99.0706 -245.266 Q99.0706 -239.688 95.5984 -236.586 Q92.1262 -233.507 85.8068 -233.507 Q83.6308 -233.507 81.3623 -233.878 Q79.117 -234.248 76.7096 -234.989 L76.7096 -239.688 Q78.7929 -238.554 81.0151 -237.998 Q83.2373 -237.442 85.7142 -237.442 Q89.7188 -237.442 92.0567 -239.549 Q94.3947 -241.655 94.3947 -245.266 Q94.3947 -248.878 92.0567 -250.984 Q89.7188 -253.091 85.7142 -253.091 Q83.8392 -253.091 81.9642 -252.674 Q80.1123 -252.257 78.1679 -251.378 L78.1679 -268.739 Z\" fill=\"#000000\" fill-rule=\"evenodd\" fill-opacity=\"1\" /><path clip-path=\"url(#clip552)\" d=\"\n",
       "M257.047 540.556 L257.047 1445.72 L651.794 1445.72 L651.794 540.556 L257.047 540.556 L257.047 540.556  Z\n",
       "  \" fill=\"#009af9\" fill-rule=\"evenodd\" fill-opacity=\"1\"/>\n",
       "<polyline clip-path=\"url(#clip552)\" style=\"stroke:#000000; stroke-width:4; stroke-opacity:1; fill:none\" points=\"\n",
       "  257.047,540.556 257.047,1445.72 651.794,1445.72 651.794,540.556 257.047,540.556 \n",
       "  \"/>\n",
       "<path clip-path=\"url(#clip552)\" d=\"\n",
       "M651.794 1219.43 L651.794 1445.72 L1046.54 1445.72 L1046.54 1219.43 L651.794 1219.43 L651.794 1219.43  Z\n",
       "  \" fill=\"#009af9\" fill-rule=\"evenodd\" fill-opacity=\"1\"/>\n",
       "<polyline clip-path=\"url(#clip552)\" style=\"stroke:#000000; stroke-width:4; stroke-opacity:1; fill:none\" points=\"\n",
       "  651.794,1219.43 651.794,1445.72 1046.54,1445.72 1046.54,1219.43 651.794,1219.43 \n",
       "  \"/>\n",
       "<path clip-path=\"url(#clip552)\" d=\"\n",
       "M1046.54 1219.43 L1046.54 1445.72 L1441.29 1445.72 L1441.29 1219.43 L1046.54 1219.43 L1046.54 1219.43  Z\n",
       "  \" fill=\"#009af9\" fill-rule=\"evenodd\" fill-opacity=\"1\"/>\n",
       "<polyline clip-path=\"url(#clip552)\" style=\"stroke:#000000; stroke-width:4; stroke-opacity:1; fill:none\" points=\"\n",
       "  1046.54,1219.43 1046.54,1445.72 1441.29,1445.72 1441.29,1219.43 1046.54,1219.43 \n",
       "  \"/>\n",
       "<path clip-path=\"url(#clip552)\" d=\"\n",
       "M1441.29 1332.57 L1441.29 1445.72 L1836.03 1445.72 L1836.03 1332.57 L1441.29 1332.57 L1441.29 1332.57  Z\n",
       "  \" fill=\"#009af9\" fill-rule=\"evenodd\" fill-opacity=\"1\"/>\n",
       "<polyline clip-path=\"url(#clip552)\" style=\"stroke:#000000; stroke-width:4; stroke-opacity:1; fill:none\" points=\"\n",
       "  1441.29,1332.57 1441.29,1445.72 1836.03,1445.72 1836.03,1332.57 1441.29,1332.57 \n",
       "  \"/>\n",
       "<path clip-path=\"url(#clip552)\" d=\"\n",
       "M1836.03 1332.57 L1836.03 1445.72 L2230.78 1445.72 L2230.78 1332.57 L1836.03 1332.57 L1836.03 1332.57  Z\n",
       "  \" fill=\"#009af9\" fill-rule=\"evenodd\" fill-opacity=\"1\"/>\n",
       "<polyline clip-path=\"url(#clip552)\" style=\"stroke:#000000; stroke-width:4; stroke-opacity:1; fill:none\" points=\"\n",
       "  1836.03,1332.57 1836.03,1445.72 2230.78,1445.72 2230.78,1332.57 1836.03,1332.57 \n",
       "  \"/>\n",
       "<path clip-path=\"url(#clip552)\" d=\"\n",
       "M257.047 87.9763 L257.047 1445.72 L335.996 1445.72 L335.996 87.9763 L257.047 87.9763 L257.047 87.9763  Z\n",
       "  \" fill=\"#e26f46\" fill-rule=\"evenodd\" fill-opacity=\"1\"/>\n",
       "<polyline clip-path=\"url(#clip552)\" style=\"stroke:#000000; stroke-width:4; stroke-opacity:1; fill:none\" points=\"\n",
       "  257.047,87.9763 257.047,1445.72 335.996,1445.72 335.996,87.9763 257.047,87.9763 \n",
       "  \"/>\n",
       "<path clip-path=\"url(#clip552)\" d=\"\n",
       "M335.996 1445.72 L335.996 1445.72 L414.946 1445.72 L414.946 1445.72 L335.996 1445.72 L335.996 1445.72  Z\n",
       "  \" fill=\"#e26f46\" fill-rule=\"evenodd\" fill-opacity=\"1\"/>\n",
       "<polyline clip-path=\"url(#clip552)\" style=\"stroke:#000000; stroke-width:4; stroke-opacity:1; fill:none\" points=\"\n",
       "  335.996,1445.72 335.996,1445.72 414.946,1445.72 335.996,1445.72 \n",
       "  \"/>\n",
       "<path clip-path=\"url(#clip552)\" d=\"\n",
       "M414.946 1445.72 L414.946 1445.72 L493.895 1445.72 L493.895 1445.72 L414.946 1445.72 L414.946 1445.72  Z\n",
       "  \" fill=\"#e26f46\" fill-rule=\"evenodd\" fill-opacity=\"1\"/>\n",
       "<polyline clip-path=\"url(#clip552)\" style=\"stroke:#000000; stroke-width:4; stroke-opacity:1; fill:none\" points=\"\n",
       "  414.946,1445.72 414.946,1445.72 493.895,1445.72 414.946,1445.72 \n",
       "  \"/>\n",
       "<path clip-path=\"url(#clip552)\" d=\"\n",
       "M493.895 1445.72 L493.895 1445.72 L572.844 1445.72 L572.844 1445.72 L493.895 1445.72 L493.895 1445.72  Z\n",
       "  \" fill=\"#e26f46\" fill-rule=\"evenodd\" fill-opacity=\"1\"/>\n",
       "<polyline clip-path=\"url(#clip552)\" style=\"stroke:#000000; stroke-width:4; stroke-opacity:1; fill:none\" points=\"\n",
       "  493.895,1445.72 493.895,1445.72 572.844,1445.72 493.895,1445.72 \n",
       "  \"/>\n",
       "<path clip-path=\"url(#clip552)\" d=\"\n",
       "M572.844 1445.72 L572.844 1445.72 L651.794 1445.72 L651.794 1445.72 L572.844 1445.72 L572.844 1445.72  Z\n",
       "  \" fill=\"#e26f46\" fill-rule=\"evenodd\" fill-opacity=\"1\"/>\n",
       "<polyline clip-path=\"url(#clip552)\" style=\"stroke:#000000; stroke-width:4; stroke-opacity:1; fill:none\" points=\"\n",
       "  572.844,1445.72 572.844,1445.72 651.794,1445.72 572.844,1445.72 \n",
       "  \"/>\n",
       "<path clip-path=\"url(#clip552)\" d=\"\n",
       "M651.794 1219.43 L651.794 1445.72 L730.743 1445.72 L730.743 1219.43 L651.794 1219.43 L651.794 1219.43  Z\n",
       "  \" fill=\"#e26f46\" fill-rule=\"evenodd\" fill-opacity=\"1\"/>\n",
       "<polyline clip-path=\"url(#clip552)\" style=\"stroke:#000000; stroke-width:4; stroke-opacity:1; fill:none\" points=\"\n",
       "  651.794,1219.43 651.794,1445.72 730.743,1445.72 730.743,1219.43 651.794,1219.43 \n",
       "  \"/>\n",
       "<path clip-path=\"url(#clip550)\" d=\"\n",
       "M1821.73 276.658 L2278.83 276.658 L2278.83 95.2176 L1821.73 95.2176  Z\n",
       "  \" fill=\"#ffffff\" fill-rule=\"evenodd\" fill-opacity=\"1\"/>\n",
       "<polyline clip-path=\"url(#clip550)\" style=\"stroke:#000000; stroke-width:4; stroke-opacity:1; fill:none\" points=\"\n",
       "  1821.73,276.658 2278.83,276.658 2278.83,95.2176 1821.73,95.2176 1821.73,276.658 \n",
       "  \"/>\n",
       "<path clip-path=\"url(#clip550)\" d=\"\n",
       "M1846.37 179.89 L1994.22 179.89 L1994.22 131.506 L1846.37 131.506 L1846.37 179.89  Z\n",
       "  \" fill=\"#009af9\" fill-rule=\"evenodd\" fill-opacity=\"1\"/>\n",
       "<polyline clip-path=\"url(#clip550)\" style=\"stroke:#000000; stroke-width:4; stroke-opacity:1; fill:none\" points=\"\n",
       "  1846.37,179.89 1994.22,179.89 1994.22,131.506 1846.37,131.506 1846.37,179.89 \n",
       "  \"/>\n",
       "<path clip-path=\"url(#clip550)\" d=\"M 0 0 M2035.83 160.917 L2034.81 155.57 Q2033.77 150.084 2029.64 150.084 Q2026.54 150.084 2025.13 152.63 Q2023.35 155.825 2023.35 160.038 Q2023.35 165.13 2025.08 167.561 Q2026.84 170.038 2029.64 170.038 Q2032.75 170.038 2034.41 165.107 L2035.83 160.917 M2038.21 153.834 L2040.5 147.052 L2044.3 147.052 L2039.55 161.103 L2040.48 166.172 Q2040.69 167.306 2041.5 168.255 Q2042.45 169.366 2043.19 169.366 L2045.22 169.366 L2045.22 172.978 L2042.68 172.978 Q2040.5 172.978 2038.56 171.033 Q2037.61 170.061 2037.21 168.024 Q2036.15 170.593 2033.97 172.607 Q2032.95 173.556 2029.64 173.556 Q2024.21 173.556 2021.57 170.038 Q2018.86 166.404 2018.86 160.038 Q2018.86 153.232 2021.8 150.038 Q2025.06 146.473 2029.64 146.473 Q2036.84 146.473 2038.21 153.834 Z\" fill=\"#000000\" fill-rule=\"evenodd\" fill-opacity=\"1\" /><path clip-path=\"url(#clip550)\" d=\"M 0 0 M2050.25 151.45 L2079.92 151.45 L2079.92 155.339 L2050.25 155.339 L2050.25 151.45 M2050.25 160.894 L2079.92 160.894 L2079.92 164.829 L2050.25 164.829 L2050.25 160.894 Z\" fill=\"#000000\" fill-rule=\"evenodd\" fill-opacity=\"1\" /><path clip-path=\"url(#clip550)\" d=\"M 0 0 M2085.13 172.26 L2085.13 168.001 Q2086.89 168.834 2088.7 169.274 Q2090.5 169.714 2092.24 169.714 Q2096.87 169.714 2099.3 166.612 Q2101.75 163.487 2102.1 157.144 Q2100.76 159.135 2098.7 160.2 Q2096.64 161.265 2094.14 161.265 Q2088.95 161.265 2085.92 158.14 Q2082.91 154.992 2082.91 149.552 Q2082.91 144.228 2086.06 141.01 Q2089.2 137.793 2094.44 137.793 Q2100.43 137.793 2103.58 142.399 Q2106.75 146.982 2106.75 155.732 Q2106.75 163.904 2102.86 168.788 Q2099 173.649 2092.45 173.649 Q2090.69 173.649 2088.88 173.302 Q2087.08 172.954 2085.13 172.26 M2094.44 157.607 Q2097.58 157.607 2099.41 155.454 Q2101.26 153.302 2101.26 149.552 Q2101.26 145.825 2099.41 143.672 Q2097.58 141.496 2094.44 141.496 Q2091.29 141.496 2089.44 143.672 Q2087.61 145.825 2087.61 149.552 Q2087.61 153.302 2089.44 155.454 Q2091.29 157.607 2094.44 157.607 Z\" fill=\"#000000\" fill-rule=\"evenodd\" fill-opacity=\"1\" /><path clip-path=\"url(#clip550)\" d=\"M 0 0 M2111.87 138.418 L2130.22 138.418 L2130.22 142.353 L2116.15 142.353 L2116.15 150.825 Q2117.17 150.478 2118.19 150.316 Q2119.2 150.13 2120.22 150.13 Q2126.01 150.13 2129.39 153.302 Q2132.77 156.473 2132.77 161.89 Q2132.77 167.468 2129.3 170.57 Q2125.82 173.649 2119.51 173.649 Q2117.33 173.649 2115.06 173.278 Q2112.82 172.908 2110.41 172.167 L2110.41 167.468 Q2112.49 168.603 2114.71 169.158 Q2116.94 169.714 2119.41 169.714 Q2123.42 169.714 2125.76 167.607 Q2128.09 165.501 2128.09 161.89 Q2128.09 158.279 2125.76 156.172 Q2123.42 154.066 2119.41 154.066 Q2117.54 154.066 2115.66 154.482 Q2113.81 154.899 2111.87 155.779 L2111.87 138.418 Z\" fill=\"#000000\" fill-rule=\"evenodd\" fill-opacity=\"1\" /><path clip-path=\"url(#clip550)\" d=\"M 0 0 M2144.81 138.418 L2148.74 138.418 L2136.7 177.376 L2132.77 177.376 L2144.81 138.418 Z\" fill=\"#000000\" fill-rule=\"evenodd\" fill-opacity=\"1\" /><path clip-path=\"url(#clip550)\" d=\"M 0 0 M2154.62 169.042 L2162.26 169.042 L2162.26 142.677 L2153.95 144.343 L2153.95 140.084 L2162.21 138.418 L2166.89 138.418 L2166.89 169.042 L2174.53 169.042 L2174.53 172.978 L2154.62 172.978 L2154.62 169.042 Z\" fill=\"#000000\" fill-rule=\"evenodd\" fill-opacity=\"1\" /><path clip-path=\"url(#clip550)\" d=\"M 0 0 M2189.6 141.496 Q2185.99 141.496 2184.16 145.061 Q2182.35 148.603 2182.35 155.732 Q2182.35 162.839 2184.16 166.404 Q2185.99 169.945 2189.6 169.945 Q2193.23 169.945 2195.04 166.404 Q2196.87 162.839 2196.87 155.732 Q2196.87 148.603 2195.04 145.061 Q2193.23 141.496 2189.6 141.496 M2189.6 137.793 Q2195.41 137.793 2198.46 142.399 Q2201.54 146.982 2201.54 155.732 Q2201.54 164.459 2198.46 169.066 Q2195.41 173.649 2189.6 173.649 Q2183.79 173.649 2180.71 169.066 Q2177.65 164.459 2177.65 155.732 Q2177.65 146.982 2180.71 142.399 Q2183.79 137.793 2189.6 137.793 Z\" fill=\"#000000\" fill-rule=\"evenodd\" fill-opacity=\"1\" /><path clip-path=\"url(#clip550)\" d=\"M 0 0 M2216.61 141.496 Q2213 141.496 2211.17 145.061 Q2209.37 148.603 2209.37 155.732 Q2209.37 162.839 2211.17 166.404 Q2213 169.945 2216.61 169.945 Q2220.25 169.945 2222.05 166.404 Q2223.88 162.839 2223.88 155.732 Q2223.88 148.603 2222.05 145.061 Q2220.25 141.496 2216.61 141.496 M2216.61 137.793 Q2222.42 137.793 2225.48 142.399 Q2228.56 146.982 2228.56 155.732 Q2228.56 164.459 2225.48 169.066 Q2222.42 173.649 2216.61 173.649 Q2210.8 173.649 2207.72 169.066 Q2204.67 164.459 2204.67 155.732 Q2204.67 146.982 2207.72 142.399 Q2210.8 137.793 2216.61 137.793 Z\" fill=\"#000000\" fill-rule=\"evenodd\" fill-opacity=\"1\" /><path clip-path=\"url(#clip550)\" d=\"\n",
       "M1846.37 240.37 L1994.22 240.37 L1994.22 191.986 L1846.37 191.986 L1846.37 240.37  Z\n",
       "  \" fill=\"#e26f46\" fill-rule=\"evenodd\" fill-opacity=\"1\"/>\n",
       "<polyline clip-path=\"url(#clip550)\" style=\"stroke:#000000; stroke-width:4; stroke-opacity:1; fill:none\" points=\"\n",
       "  1846.37,240.37 1994.22,240.37 1994.22,191.986 1846.37,191.986 1846.37,240.37 \n",
       "  \"/>\n",
       "<path clip-path=\"url(#clip550)\" d=\"M 0 0 M2035.83 221.397 L2034.81 216.05 Q2033.77 210.564 2029.64 210.564 Q2026.54 210.564 2025.13 213.11 Q2023.35 216.305 2023.35 220.518 Q2023.35 225.61 2025.08 228.041 Q2026.84 230.518 2029.64 230.518 Q2032.75 230.518 2034.41 225.587 L2035.83 221.397 M2038.21 214.314 L2040.5 207.532 L2044.3 207.532 L2039.55 221.583 L2040.48 226.652 Q2040.69 227.786 2041.5 228.735 Q2042.45 229.846 2043.19 229.846 L2045.22 229.846 L2045.22 233.458 L2042.68 233.458 Q2040.5 233.458 2038.56 231.513 Q2037.61 230.541 2037.21 228.504 Q2036.15 231.073 2033.97 233.087 Q2032.95 234.036 2029.64 234.036 Q2024.21 234.036 2021.57 230.518 Q2018.86 226.884 2018.86 220.518 Q2018.86 213.712 2021.8 210.518 Q2025.06 206.953 2029.64 206.953 Q2036.84 206.953 2038.21 214.314 Z\" fill=\"#000000\" fill-rule=\"evenodd\" fill-opacity=\"1\" /><path clip-path=\"url(#clip550)\" d=\"M 0 0 M2050.25 211.93 L2079.92 211.93 L2079.92 215.819 L2050.25 215.819 L2050.25 211.93 M2050.25 221.374 L2079.92 221.374 L2079.92 225.309 L2050.25 225.309 L2050.25 221.374 Z\" fill=\"#000000\" fill-rule=\"evenodd\" fill-opacity=\"1\" /><path clip-path=\"url(#clip550)\" d=\"M 0 0 M2085.13 232.74 L2085.13 228.481 Q2086.89 229.314 2088.7 229.754 Q2090.5 230.194 2092.24 230.194 Q2096.87 230.194 2099.3 227.092 Q2101.75 223.967 2102.1 217.624 Q2100.76 219.615 2098.7 220.68 Q2096.64 221.745 2094.14 221.745 Q2088.95 221.745 2085.92 218.62 Q2082.91 215.472 2082.91 210.032 Q2082.91 204.708 2086.06 201.49 Q2089.2 198.273 2094.44 198.273 Q2100.43 198.273 2103.58 202.879 Q2106.75 207.462 2106.75 216.212 Q2106.75 224.384 2102.86 229.268 Q2099 234.129 2092.45 234.129 Q2090.69 234.129 2088.88 233.782 Q2087.08 233.434 2085.13 232.74 M2094.44 218.087 Q2097.58 218.087 2099.41 215.934 Q2101.26 213.782 2101.26 210.032 Q2101.26 206.305 2099.41 204.152 Q2097.58 201.976 2094.44 201.976 Q2091.29 201.976 2089.44 204.152 Q2087.61 206.305 2087.61 210.032 Q2087.61 213.782 2089.44 215.934 Q2091.29 218.087 2094.44 218.087 Z\" fill=\"#000000\" fill-rule=\"evenodd\" fill-opacity=\"1\" /><path clip-path=\"url(#clip550)\" d=\"M 0 0 M2121.82 201.976 Q2118.21 201.976 2116.38 205.541 Q2114.57 209.083 2114.57 216.212 Q2114.57 223.319 2116.38 226.884 Q2118.21 230.425 2121.82 230.425 Q2125.45 230.425 2127.26 226.884 Q2129.09 223.319 2129.09 216.212 Q2129.09 209.083 2127.26 205.541 Q2125.45 201.976 2121.82 201.976 M2121.82 198.273 Q2127.63 198.273 2130.69 202.879 Q2133.76 207.462 2133.76 216.212 Q2133.76 224.939 2130.69 229.546 Q2127.63 234.129 2121.82 234.129 Q2116.01 234.129 2112.93 229.546 Q2109.88 224.939 2109.88 216.212 Q2109.88 207.462 2112.93 202.879 Q2116.01 198.273 2121.82 198.273 Z\" fill=\"#000000\" fill-rule=\"evenodd\" fill-opacity=\"1\" /><path clip-path=\"url(#clip550)\" d=\"M 0 0 M2145.8 198.898 L2149.74 198.898 L2137.7 237.856 L2133.76 237.856 L2145.8 198.898 Z\" fill=\"#000000\" fill-rule=\"evenodd\" fill-opacity=\"1\" /><path clip-path=\"url(#clip550)\" d=\"M 0 0 M2155.62 229.522 L2163.26 229.522 L2163.26 203.157 L2154.95 204.823 L2154.95 200.564 L2163.21 198.898 L2167.88 198.898 L2167.88 229.522 L2175.52 229.522 L2175.52 233.458 L2155.62 233.458 L2155.62 229.522 Z\" fill=\"#000000\" fill-rule=\"evenodd\" fill-opacity=\"1\" /><path clip-path=\"url(#clip550)\" d=\"M 0 0 M2190.59 201.976 Q2186.98 201.976 2185.15 205.541 Q2183.35 209.083 2183.35 216.212 Q2183.35 223.319 2185.15 226.884 Q2186.98 230.425 2190.59 230.425 Q2194.23 230.425 2196.03 226.884 Q2197.86 223.319 2197.86 216.212 Q2197.86 209.083 2196.03 205.541 Q2194.23 201.976 2190.59 201.976 M2190.59 198.273 Q2196.4 198.273 2199.46 202.879 Q2202.54 207.462 2202.54 216.212 Q2202.54 224.939 2199.46 229.546 Q2196.4 234.129 2190.59 234.129 Q2184.78 234.129 2181.7 229.546 Q2178.65 224.939 2178.65 216.212 Q2178.65 207.462 2181.7 202.879 Q2184.78 198.273 2190.59 198.273 Z\" fill=\"#000000\" fill-rule=\"evenodd\" fill-opacity=\"1\" /><path clip-path=\"url(#clip550)\" d=\"M 0 0 M2217.61 201.976 Q2214 201.976 2212.17 205.541 Q2210.36 209.083 2210.36 216.212 Q2210.36 223.319 2212.17 226.884 Q2214 230.425 2217.61 230.425 Q2221.24 230.425 2223.05 226.884 Q2224.88 223.319 2224.88 216.212 Q2224.88 209.083 2223.05 205.541 Q2221.24 201.976 2217.61 201.976 M2217.61 198.273 Q2223.42 198.273 2226.47 202.879 Q2229.55 207.462 2229.55 216.212 Q2229.55 224.939 2226.47 229.546 Q2223.42 234.129 2217.61 234.129 Q2211.8 234.129 2208.72 229.546 Q2205.66 224.939 2205.66 216.212 Q2205.66 207.462 2208.72 202.879 Q2211.8 198.273 2217.61 198.273 Z\" fill=\"#000000\" fill-rule=\"evenodd\" fill-opacity=\"1\" /></svg>\n"
      ]
     },
     "execution_count": 36,
     "metadata": {},
     "output_type": "execute_result"
    }
   ],
   "source": [
    "([\n",
    "    [energia_local(ranks, corte95) for ranks in ranks_univs],\n",
    "    [energia_local(ranks, corte90) for ranks in ranks_univs]\n",
    "    ]) |> x -> histogram(x, bins=6, labels = [\"α=95/100\" \"α=90/100\"],yticks=(1:15, 1:15))"
   ]
  },
  {
   "cell_type": "code",
   "execution_count": 37,
   "metadata": {},
   "outputs": [
    {
     "data": {
      "image/svg+xml": [
       "<?xml version=\"1.0\" encoding=\"utf-8\"?>\n",
       "<svg xmlns=\"http://www.w3.org/2000/svg\" xmlns:xlink=\"http://www.w3.org/1999/xlink\" width=\"600\" height=\"400\" viewBox=\"0 0 2400 1600\">\n",
       "<defs>\n",
       "  <clipPath id=\"clip590\">\n",
       "    <rect x=\"0\" y=\"0\" width=\"2400\" height=\"1600\"/>\n",
       "  </clipPath>\n",
       "</defs>\n",
       "<path clip-path=\"url(#clip590)\" d=\"\n",
       "M0 1600 L2400 1600 L2400 0 L0 0  Z\n",
       "  \" fill=\"#ffffff\" fill-rule=\"evenodd\" fill-opacity=\"1\"/>\n",
       "<defs>\n",
       "  <clipPath id=\"clip591\">\n",
       "    <rect x=\"480\" y=\"0\" width=\"1681\" height=\"1600\"/>\n",
       "  </clipPath>\n",
       "</defs>\n",
       "<path clip-path=\"url(#clip590)\" d=\"\n",
       "M135.071 1486.45 L2352.76 1486.45 L2352.76 47.2441 L135.071 47.2441  Z\n",
       "  \" fill=\"#ffffff\" fill-rule=\"evenodd\" fill-opacity=\"1\"/>\n",
       "<defs>\n",
       "  <clipPath id=\"clip592\">\n",
       "    <rect x=\"135\" y=\"47\" width=\"2219\" height=\"1440\"/>\n",
       "  </clipPath>\n",
       "</defs>\n",
       "<polyline clip-path=\"url(#clip592)\" style=\"stroke:#000000; stroke-width:2; stroke-opacity:0.1; fill:none\" points=\"\n",
       "  257.047,1486.45 257.047,47.2441 \n",
       "  \"/>\n",
       "<polyline clip-path=\"url(#clip592)\" style=\"stroke:#000000; stroke-width:2; stroke-opacity:0.1; fill:none\" points=\"\n",
       "  651.794,1486.45 651.794,47.2441 \n",
       "  \"/>\n",
       "<polyline clip-path=\"url(#clip592)\" style=\"stroke:#000000; stroke-width:2; stroke-opacity:0.1; fill:none\" points=\"\n",
       "  1046.54,1486.45 1046.54,47.2441 \n",
       "  \"/>\n",
       "<polyline clip-path=\"url(#clip592)\" style=\"stroke:#000000; stroke-width:2; stroke-opacity:0.1; fill:none\" points=\"\n",
       "  1441.29,1486.45 1441.29,47.2441 \n",
       "  \"/>\n",
       "<polyline clip-path=\"url(#clip592)\" style=\"stroke:#000000; stroke-width:2; stroke-opacity:0.1; fill:none\" points=\"\n",
       "  1836.03,1486.45 1836.03,47.2441 \n",
       "  \"/>\n",
       "<polyline clip-path=\"url(#clip592)\" style=\"stroke:#000000; stroke-width:2; stroke-opacity:0.1; fill:none\" points=\"\n",
       "  2230.78,1486.45 2230.78,47.2441 \n",
       "  \"/>\n",
       "<polyline clip-path=\"url(#clip590)\" style=\"stroke:#000000; stroke-width:4; stroke-opacity:1; fill:none\" points=\"\n",
       "  135.071,1486.45 2352.76,1486.45 \n",
       "  \"/>\n",
       "<polyline clip-path=\"url(#clip590)\" style=\"stroke:#000000; stroke-width:4; stroke-opacity:1; fill:none\" points=\"\n",
       "  257.047,1486.45 257.047,1469.18 \n",
       "  \"/>\n",
       "<polyline clip-path=\"url(#clip590)\" style=\"stroke:#000000; stroke-width:4; stroke-opacity:1; fill:none\" points=\"\n",
       "  651.794,1486.45 651.794,1469.18 \n",
       "  \"/>\n",
       "<polyline clip-path=\"url(#clip590)\" style=\"stroke:#000000; stroke-width:4; stroke-opacity:1; fill:none\" points=\"\n",
       "  1046.54,1486.45 1046.54,1469.18 \n",
       "  \"/>\n",
       "<polyline clip-path=\"url(#clip590)\" style=\"stroke:#000000; stroke-width:4; stroke-opacity:1; fill:none\" points=\"\n",
       "  1441.29,1486.45 1441.29,1469.18 \n",
       "  \"/>\n",
       "<polyline clip-path=\"url(#clip590)\" style=\"stroke:#000000; stroke-width:4; stroke-opacity:1; fill:none\" points=\"\n",
       "  1836.03,1486.45 1836.03,1469.18 \n",
       "  \"/>\n",
       "<polyline clip-path=\"url(#clip590)\" style=\"stroke:#000000; stroke-width:4; stroke-opacity:1; fill:none\" points=\"\n",
       "  2230.78,1486.45 2230.78,1469.18 \n",
       "  \"/>\n",
       "<path clip-path=\"url(#clip590)\" d=\"M 0 0 M257.047 1515.64 Q253.436 1515.64 251.607 1519.2 Q249.802 1522.75 249.802 1529.87 Q249.802 1536.98 251.607 1540.55 Q253.436 1544.09 257.047 1544.09 Q260.681 1544.09 262.487 1540.55 Q264.316 1536.98 264.316 1529.87 Q264.316 1522.75 262.487 1519.2 Q260.681 1515.64 257.047 1515.64 M257.047 1511.93 Q262.857 1511.93 265.913 1516.54 Q268.992 1521.12 268.992 1529.87 Q268.992 1538.6 265.913 1543.21 Q262.857 1547.79 257.047 1547.79 Q251.237 1547.79 248.158 1543.21 Q245.103 1538.6 245.103 1529.87 Q245.103 1521.12 248.158 1516.54 Q251.237 1511.93 257.047 1511.93 Z\" fill=\"#000000\" fill-rule=\"evenodd\" fill-opacity=\"1\" /><path clip-path=\"url(#clip590)\" d=\"M 0 0 M642.176 1543.18 L649.814 1543.18 L649.814 1516.82 L641.504 1518.49 L641.504 1514.23 L649.768 1512.56 L654.444 1512.56 L654.444 1543.18 L662.083 1543.18 L662.083 1547.12 L642.176 1547.12 L642.176 1543.18 Z\" fill=\"#000000\" fill-rule=\"evenodd\" fill-opacity=\"1\" /><path clip-path=\"url(#clip590)\" d=\"M 0 0 M1041.19 1543.18 L1057.51 1543.18 L1057.51 1547.12 L1035.57 1547.12 L1035.57 1543.18 Q1038.23 1540.43 1042.81 1535.8 Q1047.42 1531.15 1048.6 1529.81 Q1050.85 1527.28 1051.73 1525.55 Q1052.63 1523.79 1052.63 1522.1 Q1052.63 1519.34 1050.68 1517.61 Q1048.76 1515.87 1045.66 1515.87 Q1043.46 1515.87 1041.01 1516.63 Q1038.58 1517.4 1035.8 1518.95 L1035.8 1514.23 Q1038.62 1513.09 1041.08 1512.51 Q1043.53 1511.93 1045.57 1511.93 Q1050.94 1511.93 1054.13 1514.62 Q1057.33 1517.31 1057.33 1521.8 Q1057.33 1523.93 1056.52 1525.85 Q1055.73 1527.74 1053.62 1530.34 Q1053.04 1531.01 1049.94 1534.23 Q1046.84 1537.42 1041.19 1543.18 Z\" fill=\"#000000\" fill-rule=\"evenodd\" fill-opacity=\"1\" /><path clip-path=\"url(#clip590)\" d=\"M 0 0 M1445.53 1528.49 Q1448.89 1529.2 1450.77 1531.47 Q1452.66 1533.74 1452.66 1537.07 Q1452.66 1542.19 1449.15 1544.99 Q1445.63 1547.79 1439.15 1547.79 Q1436.97 1547.79 1434.65 1547.35 Q1432.36 1546.93 1429.91 1546.08 L1429.91 1541.56 Q1431.85 1542.7 1434.17 1543.28 Q1436.48 1543.86 1439.01 1543.86 Q1443.4 1543.86 1445.7 1542.12 Q1448.01 1540.38 1448.01 1537.07 Q1448.01 1534.02 1445.86 1532.31 Q1443.73 1530.57 1439.91 1530.57 L1435.88 1530.57 L1435.88 1526.73 L1440.09 1526.73 Q1443.54 1526.73 1445.37 1525.36 Q1447.2 1523.97 1447.2 1521.38 Q1447.2 1518.72 1445.3 1517.31 Q1443.43 1515.87 1439.91 1515.87 Q1437.99 1515.87 1435.79 1516.29 Q1433.59 1516.7 1430.95 1517.58 L1430.95 1513.42 Q1433.61 1512.68 1435.93 1512.31 Q1438.27 1511.93 1440.33 1511.93 Q1445.65 1511.93 1448.75 1514.37 Q1451.85 1516.77 1451.85 1520.89 Q1451.85 1523.76 1450.21 1525.75 Q1448.57 1527.72 1445.53 1528.49 Z\" fill=\"#000000\" fill-rule=\"evenodd\" fill-opacity=\"1\" /><path clip-path=\"url(#clip590)\" d=\"M 0 0 M1839.04 1516.63 L1827.24 1535.08 L1839.04 1535.08 L1839.04 1516.63 M1837.82 1512.56 L1843.69 1512.56 L1843.69 1535.08 L1848.63 1535.08 L1848.63 1538.97 L1843.69 1538.97 L1843.69 1547.12 L1839.04 1547.12 L1839.04 1538.97 L1823.44 1538.97 L1823.44 1534.46 L1837.82 1512.56 Z\" fill=\"#000000\" fill-rule=\"evenodd\" fill-opacity=\"1\" /><path clip-path=\"url(#clip590)\" d=\"M 0 0 M2221.06 1512.56 L2239.41 1512.56 L2239.41 1516.5 L2225.34 1516.5 L2225.34 1524.97 Q2226.36 1524.62 2227.38 1524.46 Q2228.4 1524.27 2229.41 1524.27 Q2235.2 1524.27 2238.58 1527.44 Q2241.96 1530.62 2241.96 1536.03 Q2241.96 1541.61 2238.49 1544.71 Q2235.02 1547.79 2228.7 1547.79 Q2226.52 1547.79 2224.25 1547.42 Q2222.01 1547.05 2219.6 1546.31 L2219.6 1541.61 Q2221.68 1542.74 2223.9 1543.3 Q2226.13 1543.86 2228.6 1543.86 Q2232.61 1543.86 2234.95 1541.75 Q2237.28 1539.64 2237.28 1536.03 Q2237.28 1532.42 2234.95 1530.31 Q2232.61 1528.21 2228.6 1528.21 Q2226.73 1528.21 2224.85 1528.62 Q2223 1529.04 2221.06 1529.92 L2221.06 1512.56 Z\" fill=\"#000000\" fill-rule=\"evenodd\" fill-opacity=\"1\" /><polyline clip-path=\"url(#clip592)\" style=\"stroke:#000000; stroke-width:2; stroke-opacity:0.1; fill:none\" points=\"\n",
       "  135.071,1332.57 2352.76,1332.57 \n",
       "  \"/>\n",
       "<polyline clip-path=\"url(#clip592)\" style=\"stroke:#000000; stroke-width:2; stroke-opacity:0.1; fill:none\" points=\"\n",
       "  135.071,1219.43 2352.76,1219.43 \n",
       "  \"/>\n",
       "<polyline clip-path=\"url(#clip592)\" style=\"stroke:#000000; stroke-width:2; stroke-opacity:0.1; fill:none\" points=\"\n",
       "  135.071,1106.28 2352.76,1106.28 \n",
       "  \"/>\n",
       "<polyline clip-path=\"url(#clip592)\" style=\"stroke:#000000; stroke-width:2; stroke-opacity:0.1; fill:none\" points=\"\n",
       "  135.071,993.136 2352.76,993.136 \n",
       "  \"/>\n",
       "<polyline clip-path=\"url(#clip592)\" style=\"stroke:#000000; stroke-width:2; stroke-opacity:0.1; fill:none\" points=\"\n",
       "  135.071,879.991 2352.76,879.991 \n",
       "  \"/>\n",
       "<polyline clip-path=\"url(#clip592)\" style=\"stroke:#000000; stroke-width:2; stroke-opacity:0.1; fill:none\" points=\"\n",
       "  135.071,766.846 2352.76,766.846 \n",
       "  \"/>\n",
       "<polyline clip-path=\"url(#clip592)\" style=\"stroke:#000000; stroke-width:2; stroke-opacity:0.1; fill:none\" points=\"\n",
       "  135.071,653.701 2352.76,653.701 \n",
       "  \"/>\n",
       "<polyline clip-path=\"url(#clip592)\" style=\"stroke:#000000; stroke-width:2; stroke-opacity:0.1; fill:none\" points=\"\n",
       "  135.071,540.556 2352.76,540.556 \n",
       "  \"/>\n",
       "<polyline clip-path=\"url(#clip592)\" style=\"stroke:#000000; stroke-width:2; stroke-opacity:0.1; fill:none\" points=\"\n",
       "  135.071,427.411 2352.76,427.411 \n",
       "  \"/>\n",
       "<polyline clip-path=\"url(#clip592)\" style=\"stroke:#000000; stroke-width:2; stroke-opacity:0.1; fill:none\" points=\"\n",
       "  135.071,314.266 2352.76,314.266 \n",
       "  \"/>\n",
       "<polyline clip-path=\"url(#clip592)\" style=\"stroke:#000000; stroke-width:2; stroke-opacity:0.1; fill:none\" points=\"\n",
       "  135.071,201.121 2352.76,201.121 \n",
       "  \"/>\n",
       "<polyline clip-path=\"url(#clip592)\" style=\"stroke:#000000; stroke-width:2; stroke-opacity:0.1; fill:none\" points=\"\n",
       "  135.071,87.9763 2352.76,87.9763 \n",
       "  \"/>\n",
       "<polyline clip-path=\"url(#clip592)\" style=\"stroke:#000000; stroke-width:2; stroke-opacity:0.1; fill:none\" points=\"\n",
       "  135.071,-25.1687 2352.76,-25.1687 \n",
       "  \"/>\n",
       "<polyline clip-path=\"url(#clip592)\" style=\"stroke:#000000; stroke-width:2; stroke-opacity:0.1; fill:none\" points=\"\n",
       "  135.071,-138.314 2352.76,-138.314 \n",
       "  \"/>\n",
       "<polyline clip-path=\"url(#clip592)\" style=\"stroke:#000000; stroke-width:2; stroke-opacity:0.1; fill:none\" points=\"\n",
       "  135.071,-251.459 2352.76,-251.459 \n",
       "  \"/>\n",
       "<polyline clip-path=\"url(#clip590)\" style=\"stroke:#000000; stroke-width:4; stroke-opacity:1; fill:none\" points=\"\n",
       "  135.071,1486.45 135.071,47.2441 \n",
       "  \"/>\n",
       "<polyline clip-path=\"url(#clip590)\" style=\"stroke:#000000; stroke-width:4; stroke-opacity:1; fill:none\" points=\"\n",
       "  135.071,1332.57 161.683,1332.57 \n",
       "  \"/>\n",
       "<polyline clip-path=\"url(#clip590)\" style=\"stroke:#000000; stroke-width:4; stroke-opacity:1; fill:none\" points=\"\n",
       "  135.071,1219.43 161.683,1219.43 \n",
       "  \"/>\n",
       "<polyline clip-path=\"url(#clip590)\" style=\"stroke:#000000; stroke-width:4; stroke-opacity:1; fill:none\" points=\"\n",
       "  135.071,1106.28 161.683,1106.28 \n",
       "  \"/>\n",
       "<polyline clip-path=\"url(#clip590)\" style=\"stroke:#000000; stroke-width:4; stroke-opacity:1; fill:none\" points=\"\n",
       "  135.071,993.136 161.683,993.136 \n",
       "  \"/>\n",
       "<polyline clip-path=\"url(#clip590)\" style=\"stroke:#000000; stroke-width:4; stroke-opacity:1; fill:none\" points=\"\n",
       "  135.071,879.991 161.683,879.991 \n",
       "  \"/>\n",
       "<polyline clip-path=\"url(#clip590)\" style=\"stroke:#000000; stroke-width:4; stroke-opacity:1; fill:none\" points=\"\n",
       "  135.071,766.846 161.683,766.846 \n",
       "  \"/>\n",
       "<polyline clip-path=\"url(#clip590)\" style=\"stroke:#000000; stroke-width:4; stroke-opacity:1; fill:none\" points=\"\n",
       "  135.071,653.701 161.683,653.701 \n",
       "  \"/>\n",
       "<polyline clip-path=\"url(#clip590)\" style=\"stroke:#000000; stroke-width:4; stroke-opacity:1; fill:none\" points=\"\n",
       "  135.071,540.556 161.683,540.556 \n",
       "  \"/>\n",
       "<polyline clip-path=\"url(#clip590)\" style=\"stroke:#000000; stroke-width:4; stroke-opacity:1; fill:none\" points=\"\n",
       "  135.071,427.411 161.683,427.411 \n",
       "  \"/>\n",
       "<polyline clip-path=\"url(#clip590)\" style=\"stroke:#000000; stroke-width:4; stroke-opacity:1; fill:none\" points=\"\n",
       "  135.071,314.266 161.683,314.266 \n",
       "  \"/>\n",
       "<polyline clip-path=\"url(#clip590)\" style=\"stroke:#000000; stroke-width:4; stroke-opacity:1; fill:none\" points=\"\n",
       "  135.071,201.121 161.683,201.121 \n",
       "  \"/>\n",
       "<polyline clip-path=\"url(#clip590)\" style=\"stroke:#000000; stroke-width:4; stroke-opacity:1; fill:none\" points=\"\n",
       "  135.071,87.9763 161.683,87.9763 \n",
       "  \"/>\n",
       "<polyline clip-path=\"url(#clip590)\" style=\"stroke:#000000; stroke-width:4; stroke-opacity:1; fill:none\" points=\"\n",
       "  135.071,-25.1687 161.683,-25.1687 \n",
       "  \"/>\n",
       "<polyline clip-path=\"url(#clip590)\" style=\"stroke:#000000; stroke-width:4; stroke-opacity:1; fill:none\" points=\"\n",
       "  135.071,-138.314 161.683,-138.314 \n",
       "  \"/>\n",
       "<polyline clip-path=\"url(#clip590)\" style=\"stroke:#000000; stroke-width:4; stroke-opacity:1; fill:none\" points=\"\n",
       "  135.071,-251.459 161.683,-251.459 \n",
       "  \"/>\n",
       "<path clip-path=\"url(#clip590)\" d=\"M 0 0 M79.1633 1345.92 L86.8021 1345.92 L86.8021 1319.55 L78.492 1321.22 L78.492 1316.96 L86.7558 1315.29 L91.4317 1315.29 L91.4317 1345.92 L99.0706 1345.92 L99.0706 1349.85 L79.1633 1349.85 L79.1633 1345.92 Z\" fill=\"#000000\" fill-rule=\"evenodd\" fill-opacity=\"1\" /><path clip-path=\"url(#clip590)\" d=\"M 0 0 M82.7512 1232.77 L99.0706 1232.77 L99.0706 1236.71 L77.1262 1236.71 L77.1262 1232.77 Q79.7883 1230.02 84.3716 1225.39 Q88.978 1220.73 90.1586 1219.39 Q92.4039 1216.87 93.2836 1215.13 Q94.1863 1213.37 94.1863 1211.68 Q94.1863 1208.93 92.2419 1207.19 Q90.3206 1205.46 87.2188 1205.46 Q85.0197 1205.46 82.566 1206.22 Q80.1355 1206.98 77.3577 1208.53 L77.3577 1203.81 Q80.1818 1202.68 82.6355 1202.1 Q85.0892 1201.52 87.1262 1201.52 Q92.4965 1201.52 95.691 1204.21 Q98.8854 1206.89 98.8854 1211.38 Q98.8854 1213.51 98.0752 1215.43 Q97.2882 1217.33 95.1817 1219.92 Q94.603 1220.59 91.5012 1223.81 Q88.3993 1227.01 82.7512 1232.77 Z\" fill=\"#000000\" fill-rule=\"evenodd\" fill-opacity=\"1\" /><path clip-path=\"url(#clip590)\" d=\"M 0 0 M91.941 1104.93 Q95.2974 1105.64 97.1724 1107.91 Q99.0706 1110.18 99.0706 1113.51 Q99.0706 1118.63 95.5521 1121.43 Q92.0336 1124.23 85.5521 1124.23 Q83.3762 1124.23 81.0614 1123.79 Q78.7698 1123.38 76.3161 1122.52 L76.3161 1118.01 Q78.2605 1119.14 80.5753 1119.72 Q82.8901 1120.3 85.4132 1120.3 Q89.8114 1120.3 92.103 1118.56 Q94.4178 1116.82 94.4178 1113.51 Q94.4178 1110.46 92.2651 1108.75 Q90.1354 1107.01 86.316 1107.01 L82.2883 1107.01 L82.2883 1103.17 L86.5012 1103.17 Q89.9503 1103.17 91.7789 1101.8 Q93.6076 1100.41 93.6076 1097.82 Q93.6076 1095.16 91.7095 1093.75 Q89.8345 1092.31 86.316 1092.31 Q84.3947 1092.31 82.1957 1092.73 Q79.9966 1093.14 77.3577 1094.02 L77.3577 1089.86 Q80.0197 1089.12 82.3346 1088.75 Q84.6725 1088.38 86.7327 1088.38 Q92.0567 1088.38 95.1586 1090.81 Q98.2604 1093.21 98.2604 1097.33 Q98.2604 1100.2 96.6169 1102.2 Q94.9734 1104.16 91.941 1104.93 Z\" fill=\"#000000\" fill-rule=\"evenodd\" fill-opacity=\"1\" /><path clip-path=\"url(#clip590)\" d=\"M 0 0 M89.4873 979.93 L77.6818 998.379 L89.4873 998.379 L89.4873 979.93 M88.2604 975.856 L94.14 975.856 L94.14 998.379 L99.0706 998.379 L99.0706 1002.27 L94.14 1002.27 L94.14 1010.42 L89.4873 1010.42 L89.4873 1002.27 L73.8855 1002.27 L73.8855 997.754 L88.2604 975.856 Z\" fill=\"#000000\" fill-rule=\"evenodd\" fill-opacity=\"1\" /><path clip-path=\"url(#clip590)\" d=\"M 0 0 M78.1679 862.711 L96.5243 862.711 L96.5243 866.646 L82.4503 866.646 L82.4503 875.118 Q83.4688 874.771 84.4873 874.609 Q85.5058 874.424 86.5243 874.424 Q92.3113 874.424 95.691 877.595 Q99.0706 880.766 99.0706 886.183 Q99.0706 891.762 95.5984 894.864 Q92.1262 897.942 85.8068 897.942 Q83.6308 897.942 81.3623 897.572 Q79.117 897.201 76.7096 896.461 L76.7096 891.762 Q78.7929 892.896 81.0151 893.452 Q83.2373 894.007 85.7142 894.007 Q89.7188 894.007 92.0567 891.901 Q94.3947 889.794 94.3947 886.183 Q94.3947 882.572 92.0567 880.465 Q89.7188 878.359 85.7142 878.359 Q83.8392 878.359 81.9642 878.776 Q80.1123 879.192 78.1679 880.072 L78.1679 862.711 Z\" fill=\"#000000\" fill-rule=\"evenodd\" fill-opacity=\"1\" /><path clip-path=\"url(#clip590)\" d=\"M 0 0 M87.5429 764.983 Q84.3947 764.983 82.5429 767.135 Q80.7142 769.288 80.7142 773.038 Q80.7142 776.765 82.5429 778.941 Q84.3947 781.094 87.5429 781.094 Q90.691 781.094 92.5197 778.941 Q94.3715 776.765 94.3715 773.038 Q94.3715 769.288 92.5197 767.135 Q90.691 764.983 87.5429 764.983 M96.8252 750.33 L96.8252 754.589 Q95.066 753.756 93.2604 753.316 Q91.478 752.876 89.7188 752.876 Q85.0892 752.876 82.6355 756.001 Q80.2049 759.126 79.8577 765.446 Q81.2234 763.432 83.2836 762.367 Q85.3438 761.279 87.8206 761.279 Q93.0289 761.279 96.0382 764.45 Q99.0706 767.598 99.0706 773.038 Q99.0706 778.362 95.9224 781.58 Q92.7743 784.797 87.5429 784.797 Q81.5475 784.797 78.3762 780.214 Q75.205 775.608 75.205 766.881 Q75.205 758.686 79.0938 753.825 Q82.9827 748.941 89.5336 748.941 Q91.2928 748.941 93.0752 749.288 Q94.8808 749.635 96.8252 750.33 Z\" fill=\"#000000\" fill-rule=\"evenodd\" fill-opacity=\"1\" /><path clip-path=\"url(#clip590)\" d=\"M 0 0 M76.8485 636.421 L99.0706 636.421 L99.0706 638.412 L86.5243 670.981 L81.6401 670.981 L93.4456 640.356 L76.8485 640.356 L76.8485 636.421 Z\" fill=\"#000000\" fill-rule=\"evenodd\" fill-opacity=\"1\" /><path clip-path=\"url(#clip590)\" d=\"M 0 0 M87.2188 541.424 Q83.8855 541.424 81.9642 543.207 Q80.066 544.989 80.066 548.114 Q80.066 551.239 81.9642 553.021 Q83.8855 554.804 87.2188 554.804 Q90.5521 554.804 92.4734 553.021 Q94.3947 551.216 94.3947 548.114 Q94.3947 544.989 92.4734 543.207 Q90.5752 541.424 87.2188 541.424 M82.5429 539.433 Q79.5336 538.693 77.8438 536.632 Q76.1772 534.572 76.1772 531.609 Q76.1772 527.466 79.117 525.058 Q82.0799 522.651 87.2188 522.651 Q92.3808 522.651 95.3206 525.058 Q98.2604 527.466 98.2604 531.609 Q98.2604 534.572 96.5706 536.632 Q94.9039 538.693 91.9178 539.433 Q95.2974 540.22 97.1724 542.512 Q99.0706 544.804 99.0706 548.114 Q99.0706 553.137 95.9919 555.822 Q92.9363 558.507 87.2188 558.507 Q81.5012 558.507 78.4225 555.822 Q75.367 553.137 75.367 548.114 Q75.367 544.804 77.2651 542.512 Q79.1633 540.22 82.5429 539.433 M80.8299 532.049 Q80.8299 534.734 82.4966 536.239 Q84.1864 537.744 87.2188 537.744 Q90.228 537.744 91.9178 536.239 Q93.6308 534.734 93.6308 532.049 Q93.6308 529.364 91.9178 527.859 Q90.228 526.355 87.2188 526.355 Q84.1864 526.355 82.4966 527.859 Q80.8299 529.364 80.8299 532.049 Z\" fill=\"#000000\" fill-rule=\"evenodd\" fill-opacity=\"1\" /><path clip-path=\"url(#clip590)\" d=\"M 0 0 M77.4503 443.974 L77.4503 439.714 Q79.2096 440.548 81.0151 440.987 Q82.8207 441.427 84.5568 441.427 Q89.1864 441.427 91.6169 438.325 Q94.0706 435.2 94.4178 428.858 Q93.0752 430.849 91.0151 431.913 Q88.9549 432.978 86.4549 432.978 Q81.2697 432.978 78.2374 429.853 Q75.2281 426.705 75.2281 421.265 Q75.2281 415.941 78.3762 412.724 Q81.5244 409.506 86.7558 409.506 Q92.7512 409.506 95.8993 414.113 Q99.0706 418.696 99.0706 427.446 Q99.0706 435.617 95.1817 440.501 Q91.316 445.362 84.7651 445.362 Q83.0058 445.362 81.2003 445.015 Q79.3948 444.668 77.4503 443.974 M86.7558 429.321 Q89.904 429.321 91.7326 427.168 Q93.5845 425.015 93.5845 421.265 Q93.5845 417.538 91.7326 415.386 Q89.904 413.21 86.7558 413.21 Q83.6077 413.21 81.7559 415.386 Q79.9272 417.538 79.9272 421.265 Q79.9272 425.015 81.7559 427.168 Q83.6077 429.321 86.7558 429.321 Z\" fill=\"#000000\" fill-rule=\"evenodd\" fill-opacity=\"1\" /><path clip-path=\"url(#clip590)\" d=\"M 0 0 M52.1495 327.611 L59.7884 327.611 L59.7884 301.245 L51.4782 302.912 L51.4782 298.653 L59.7421 296.986 L64.418 296.986 L64.418 327.611 L72.0568 327.611 L72.0568 331.546 L52.1495 331.546 L52.1495 327.611 Z\" fill=\"#000000\" fill-rule=\"evenodd\" fill-opacity=\"1\" /><path clip-path=\"url(#clip590)\" d=\"M 0 0 M87.1262 300.065 Q83.5151 300.065 81.6864 303.63 Q79.8809 307.171 79.8809 314.301 Q79.8809 321.407 81.6864 324.972 Q83.5151 328.514 87.1262 328.514 Q90.7604 328.514 92.566 324.972 Q94.3947 321.407 94.3947 314.301 Q94.3947 307.171 92.566 303.63 Q90.7604 300.065 87.1262 300.065 M87.1262 296.361 Q92.9363 296.361 95.9919 300.968 Q99.0706 305.551 99.0706 314.301 Q99.0706 323.028 95.9919 327.634 Q92.9363 332.217 87.1262 332.217 Q81.316 332.217 78.2374 327.634 Q75.1818 323.028 75.1818 314.301 Q75.1818 305.551 78.2374 300.968 Q81.316 296.361 87.1262 296.361 Z\" fill=\"#000000\" fill-rule=\"evenodd\" fill-opacity=\"1\" /><path clip-path=\"url(#clip590)\" d=\"M 0 0 M53.3764 214.466 L61.0152 214.466 L61.0152 188.1 L52.7051 189.767 L52.7051 185.508 L60.9689 183.841 L65.6448 183.841 L65.6448 214.466 L73.2837 214.466 L73.2837 218.401 L53.3764 218.401 L53.3764 214.466 Z\" fill=\"#000000\" fill-rule=\"evenodd\" fill-opacity=\"1\" /><path clip-path=\"url(#clip590)\" d=\"M 0 0 M79.1633 214.466 L86.8021 214.466 L86.8021 188.1 L78.492 189.767 L78.492 185.508 L86.7558 183.841 L91.4317 183.841 L91.4317 214.466 L99.0706 214.466 L99.0706 218.401 L79.1633 218.401 L79.1633 214.466 Z\" fill=\"#000000\" fill-rule=\"evenodd\" fill-opacity=\"1\" /><path clip-path=\"url(#clip590)\" d=\"M 0 0 M53.7467 101.321 L61.3856 101.321 L61.3856 74.9555 L53.0754 76.6222 L53.0754 72.3629 L61.3393 70.6963 L66.0152 70.6963 L66.0152 101.321 L73.654 101.321 L73.654 105.256 L53.7467 105.256 L53.7467 101.321 Z\" fill=\"#000000\" fill-rule=\"evenodd\" fill-opacity=\"1\" /><path clip-path=\"url(#clip590)\" d=\"M 0 0 M82.7512 101.321 L99.0706 101.321 L99.0706 105.256 L77.1262 105.256 L77.1262 101.321 Q79.7883 98.5665 84.3716 93.9369 Q88.978 89.2841 90.1586 87.9416 Q92.4039 85.4184 93.2836 83.6823 Q94.1863 81.9231 94.1863 80.2333 Q94.1863 77.4786 92.2419 75.7425 Q90.3206 74.0064 87.2188 74.0064 Q85.0197 74.0064 82.566 74.7703 Q80.1355 75.5342 77.3577 77.0851 L77.3577 72.3629 Q80.1818 71.2287 82.6355 70.65 Q85.0892 70.0713 87.1262 70.0713 Q92.4965 70.0713 95.691 72.7565 Q98.8854 75.4416 98.8854 79.9323 Q98.8854 82.062 98.0752 83.9832 Q97.2882 85.8814 95.1817 88.474 Q94.603 89.1453 91.5012 92.3628 Q88.3993 95.5573 82.7512 101.321 Z\" fill=\"#000000\" fill-rule=\"evenodd\" fill-opacity=\"1\" /><path clip-path=\"url(#clip590)\" d=\"M 0 0 M52.7977 -11.8238 L60.4365 -11.8238 L60.4365 -38.1894 L52.1264 -36.5228 L52.1264 -40.782 L60.3902 -42.4487 L65.0661 -42.4487 L65.0661 -11.8238 L72.705 -11.8238 L72.705 -7.88867 L52.7977 -7.88867 L52.7977 -11.8238 Z\" fill=\"#000000\" fill-rule=\"evenodd\" fill-opacity=\"1\" /><path clip-path=\"url(#clip590)\" d=\"M 0 0 M91.941 -26.5228 Q95.2974 -25.8052 97.1724 -23.5367 Q99.0706 -21.2682 99.0706 -17.9349 Q99.0706 -12.8192 95.5521 -10.0183 Q92.0336 -7.21738 85.5521 -7.21738 Q83.3762 -7.21738 81.0614 -7.65719 Q78.7698 -8.07386 76.3161 -8.93034 L76.3161 -13.4442 Q78.2605 -12.3099 80.5753 -11.7312 Q82.8901 -11.1525 85.4132 -11.1525 Q89.8114 -11.1525 92.103 -12.8886 Q94.4178 -14.6247 94.4178 -17.9349 Q94.4178 -20.9905 92.2651 -22.7034 Q90.1354 -24.4395 86.316 -24.4395 L82.2883 -24.4395 L82.2883 -28.2821 L86.5012 -28.2821 Q89.9503 -28.2821 91.7789 -29.6478 Q93.6076 -31.0367 93.6076 -33.6293 Q93.6076 -36.2913 91.7095 -37.7033 Q89.8345 -39.1385 86.316 -39.1385 Q84.3947 -39.1385 82.1957 -38.7218 Q79.9966 -38.3052 77.3577 -37.4256 L77.3577 -41.5922 Q80.0197 -42.3329 82.3346 -42.7033 Q84.6725 -43.0737 86.7327 -43.0737 Q92.0567 -43.0737 95.1586 -40.6431 Q98.2604 -38.2357 98.2604 -34.1154 Q98.2604 -31.245 96.6169 -29.2543 Q94.9734 -27.2867 91.941 -26.5228 Z\" fill=\"#000000\" fill-rule=\"evenodd\" fill-opacity=\"1\" /><path clip-path=\"url(#clip590)\" d=\"M 0 0 M51.6634 -124.969 L59.3023 -124.969 L59.3023 -151.334 L50.9921 -149.668 L50.9921 -153.927 L59.256 -155.594 L63.9319 -155.594 L63.9319 -124.969 L71.5707 -124.969 L71.5707 -121.034 L51.6634 -121.034 L51.6634 -124.969 Z\" fill=\"#000000\" fill-rule=\"evenodd\" fill-opacity=\"1\" /><path clip-path=\"url(#clip590)\" d=\"M 0 0 M89.4873 -151.52 L77.6818 -133.071 L89.4873 -133.071 L89.4873 -151.52 M88.2604 -155.594 L94.14 -155.594 L94.14 -133.071 L99.0706 -133.071 L99.0706 -129.182 L94.14 -129.182 L94.14 -121.034 L89.4873 -121.034 L89.4873 -129.182 L73.8855 -129.182 L73.8855 -133.696 L88.2604 -155.594 Z\" fill=\"#000000\" fill-rule=\"evenodd\" fill-opacity=\"1\" /><path clip-path=\"url(#clip590)\" d=\"M 0 0 M53.1449 -238.114 L60.7837 -238.114 L60.7837 -264.479 L52.4736 -262.813 L52.4736 -267.072 L60.7374 -268.739 L65.4133 -268.739 L65.4133 -238.114 L73.0522 -238.114 L73.0522 -234.179 L53.1449 -234.179 L53.1449 -238.114 Z\" fill=\"#000000\" fill-rule=\"evenodd\" fill-opacity=\"1\" /><path clip-path=\"url(#clip590)\" d=\"M 0 0 M78.1679 -268.739 L96.5243 -268.739 L96.5243 -264.803 L82.4503 -264.803 L82.4503 -256.331 Q83.4688 -256.678 84.4873 -256.84 Q85.5058 -257.026 86.5243 -257.026 Q92.3113 -257.026 95.691 -253.854 Q99.0706 -250.683 99.0706 -245.266 Q99.0706 -239.688 95.5984 -236.586 Q92.1262 -233.507 85.8068 -233.507 Q83.6308 -233.507 81.3623 -233.878 Q79.117 -234.248 76.7096 -234.989 L76.7096 -239.688 Q78.7929 -238.554 81.0151 -237.998 Q83.2373 -237.442 85.7142 -237.442 Q89.7188 -237.442 92.0567 -239.549 Q94.3947 -241.655 94.3947 -245.266 Q94.3947 -248.878 92.0567 -250.984 Q89.7188 -253.091 85.7142 -253.091 Q83.8392 -253.091 81.9642 -252.674 Q80.1123 -252.257 78.1679 -251.378 L78.1679 -268.739 Z\" fill=\"#000000\" fill-rule=\"evenodd\" fill-opacity=\"1\" /><path clip-path=\"url(#clip592)\" d=\"\n",
       "M257.047 540.556 L257.047 1445.72 L651.794 1445.72 L651.794 540.556 L257.047 540.556 L257.047 540.556  Z\n",
       "  \" fill=\"#009af9\" fill-rule=\"evenodd\" fill-opacity=\"1\"/>\n",
       "<polyline clip-path=\"url(#clip592)\" style=\"stroke:#000000; stroke-width:4; stroke-opacity:1; fill:none\" points=\"\n",
       "  257.047,540.556 257.047,1445.72 651.794,1445.72 651.794,540.556 257.047,540.556 \n",
       "  \"/>\n",
       "<path clip-path=\"url(#clip592)\" d=\"\n",
       "M651.794 1219.43 L651.794 1445.72 L1046.54 1445.72 L1046.54 1219.43 L651.794 1219.43 L651.794 1219.43  Z\n",
       "  \" fill=\"#009af9\" fill-rule=\"evenodd\" fill-opacity=\"1\"/>\n",
       "<polyline clip-path=\"url(#clip592)\" style=\"stroke:#000000; stroke-width:4; stroke-opacity:1; fill:none\" points=\"\n",
       "  651.794,1219.43 651.794,1445.72 1046.54,1445.72 1046.54,1219.43 651.794,1219.43 \n",
       "  \"/>\n",
       "<path clip-path=\"url(#clip592)\" d=\"\n",
       "M1046.54 1219.43 L1046.54 1445.72 L1441.29 1445.72 L1441.29 1219.43 L1046.54 1219.43 L1046.54 1219.43  Z\n",
       "  \" fill=\"#009af9\" fill-rule=\"evenodd\" fill-opacity=\"1\"/>\n",
       "<polyline clip-path=\"url(#clip592)\" style=\"stroke:#000000; stroke-width:4; stroke-opacity:1; fill:none\" points=\"\n",
       "  1046.54,1219.43 1046.54,1445.72 1441.29,1445.72 1441.29,1219.43 1046.54,1219.43 \n",
       "  \"/>\n",
       "<path clip-path=\"url(#clip592)\" d=\"\n",
       "M1441.29 1332.57 L1441.29 1445.72 L1836.03 1445.72 L1836.03 1332.57 L1441.29 1332.57 L1441.29 1332.57  Z\n",
       "  \" fill=\"#009af9\" fill-rule=\"evenodd\" fill-opacity=\"1\"/>\n",
       "<polyline clip-path=\"url(#clip592)\" style=\"stroke:#000000; stroke-width:4; stroke-opacity:1; fill:none\" points=\"\n",
       "  1441.29,1332.57 1441.29,1445.72 1836.03,1445.72 1836.03,1332.57 1441.29,1332.57 \n",
       "  \"/>\n",
       "<path clip-path=\"url(#clip592)\" d=\"\n",
       "M1836.03 1332.57 L1836.03 1445.72 L2230.78 1445.72 L2230.78 1332.57 L1836.03 1332.57 L1836.03 1332.57  Z\n",
       "  \" fill=\"#009af9\" fill-rule=\"evenodd\" fill-opacity=\"1\"/>\n",
       "<polyline clip-path=\"url(#clip592)\" style=\"stroke:#000000; stroke-width:4; stroke-opacity:1; fill:none\" points=\"\n",
       "  1836.03,1332.57 1836.03,1445.72 2230.78,1445.72 2230.78,1332.57 1836.03,1332.57 \n",
       "  \"/>\n",
       "<path clip-path=\"url(#clip592)\" d=\"\n",
       "M257.047 87.9763 L257.047 1445.72 L335.996 1445.72 L335.996 87.9763 L257.047 87.9763 L257.047 87.9763  Z\n",
       "  \" fill=\"#e26f46\" fill-rule=\"evenodd\" fill-opacity=\"1\"/>\n",
       "<polyline clip-path=\"url(#clip592)\" style=\"stroke:#000000; stroke-width:4; stroke-opacity:1; fill:none\" points=\"\n",
       "  257.047,87.9763 257.047,1445.72 335.996,1445.72 335.996,87.9763 257.047,87.9763 \n",
       "  \"/>\n",
       "<path clip-path=\"url(#clip592)\" d=\"\n",
       "M335.996 1445.72 L335.996 1445.72 L414.946 1445.72 L414.946 1445.72 L335.996 1445.72 L335.996 1445.72  Z\n",
       "  \" fill=\"#e26f46\" fill-rule=\"evenodd\" fill-opacity=\"1\"/>\n",
       "<polyline clip-path=\"url(#clip592)\" style=\"stroke:#000000; stroke-width:4; stroke-opacity:1; fill:none\" points=\"\n",
       "  335.996,1445.72 335.996,1445.72 414.946,1445.72 335.996,1445.72 \n",
       "  \"/>\n",
       "<path clip-path=\"url(#clip592)\" d=\"\n",
       "M414.946 1445.72 L414.946 1445.72 L493.895 1445.72 L493.895 1445.72 L414.946 1445.72 L414.946 1445.72  Z\n",
       "  \" fill=\"#e26f46\" fill-rule=\"evenodd\" fill-opacity=\"1\"/>\n",
       "<polyline clip-path=\"url(#clip592)\" style=\"stroke:#000000; stroke-width:4; stroke-opacity:1; fill:none\" points=\"\n",
       "  414.946,1445.72 414.946,1445.72 493.895,1445.72 414.946,1445.72 \n",
       "  \"/>\n",
       "<path clip-path=\"url(#clip592)\" d=\"\n",
       "M493.895 1445.72 L493.895 1445.72 L572.844 1445.72 L572.844 1445.72 L493.895 1445.72 L493.895 1445.72  Z\n",
       "  \" fill=\"#e26f46\" fill-rule=\"evenodd\" fill-opacity=\"1\"/>\n",
       "<polyline clip-path=\"url(#clip592)\" style=\"stroke:#000000; stroke-width:4; stroke-opacity:1; fill:none\" points=\"\n",
       "  493.895,1445.72 493.895,1445.72 572.844,1445.72 493.895,1445.72 \n",
       "  \"/>\n",
       "<path clip-path=\"url(#clip592)\" d=\"\n",
       "M572.844 1445.72 L572.844 1445.72 L651.794 1445.72 L651.794 1445.72 L572.844 1445.72 L572.844 1445.72  Z\n",
       "  \" fill=\"#e26f46\" fill-rule=\"evenodd\" fill-opacity=\"1\"/>\n",
       "<polyline clip-path=\"url(#clip592)\" style=\"stroke:#000000; stroke-width:4; stroke-opacity:1; fill:none\" points=\"\n",
       "  572.844,1445.72 572.844,1445.72 651.794,1445.72 572.844,1445.72 \n",
       "  \"/>\n",
       "<path clip-path=\"url(#clip592)\" d=\"\n",
       "M651.794 1219.43 L651.794 1445.72 L730.743 1445.72 L730.743 1219.43 L651.794 1219.43 L651.794 1219.43  Z\n",
       "  \" fill=\"#e26f46\" fill-rule=\"evenodd\" fill-opacity=\"1\"/>\n",
       "<polyline clip-path=\"url(#clip592)\" style=\"stroke:#000000; stroke-width:4; stroke-opacity:1; fill:none\" points=\"\n",
       "  651.794,1219.43 651.794,1445.72 730.743,1445.72 730.743,1219.43 651.794,1219.43 \n",
       "  \"/>\n",
       "<path clip-path=\"url(#clip592)\" d=\"\n",
       "M651.794 993.136 L651.794 1445.72 L849.167 1445.72 L849.167 993.136 L651.794 993.136 L651.794 993.136  Z\n",
       "  \" fill=\"#3da44d\" fill-rule=\"evenodd\" fill-opacity=\"1\"/>\n",
       "<polyline clip-path=\"url(#clip592)\" style=\"stroke:#000000; stroke-width:4; stroke-opacity:1; fill:none\" points=\"\n",
       "  651.794,993.136 651.794,1445.72 849.167,1445.72 849.167,993.136 651.794,993.136 \n",
       "  \"/>\n",
       "<path clip-path=\"url(#clip592)\" d=\"\n",
       "M849.167 1445.72 L849.167 1445.72 L1046.54 1445.72 L1046.54 1445.72 L849.167 1445.72 L849.167 1445.72  Z\n",
       "  \" fill=\"#3da44d\" fill-rule=\"evenodd\" fill-opacity=\"1\"/>\n",
       "<polyline clip-path=\"url(#clip592)\" style=\"stroke:#000000; stroke-width:4; stroke-opacity:1; fill:none\" points=\"\n",
       "  849.167,1445.72 849.167,1445.72 1046.54,1445.72 849.167,1445.72 \n",
       "  \"/>\n",
       "<path clip-path=\"url(#clip592)\" d=\"\n",
       "M1046.54 879.991 L1046.54 1445.72 L1243.91 1445.72 L1243.91 879.991 L1046.54 879.991 L1046.54 879.991  Z\n",
       "  \" fill=\"#3da44d\" fill-rule=\"evenodd\" fill-opacity=\"1\"/>\n",
       "<polyline clip-path=\"url(#clip592)\" style=\"stroke:#000000; stroke-width:4; stroke-opacity:1; fill:none\" points=\"\n",
       "  1046.54,879.991 1046.54,1445.72 1243.91,1445.72 1243.91,879.991 1046.54,879.991 \n",
       "  \"/>\n",
       "<path clip-path=\"url(#clip592)\" d=\"\n",
       "M1243.91 1445.72 L1243.91 1445.72 L1441.29 1445.72 L1441.29 1445.72 L1243.91 1445.72 L1243.91 1445.72  Z\n",
       "  \" fill=\"#3da44d\" fill-rule=\"evenodd\" fill-opacity=\"1\"/>\n",
       "<polyline clip-path=\"url(#clip592)\" style=\"stroke:#000000; stroke-width:4; stroke-opacity:1; fill:none\" points=\"\n",
       "  1243.91,1445.72 1243.91,1445.72 1441.29,1445.72 1243.91,1445.72 \n",
       "  \"/>\n",
       "<path clip-path=\"url(#clip592)\" d=\"\n",
       "M1441.29 993.136 L1441.29 1445.72 L1638.66 1445.72 L1638.66 993.136 L1441.29 993.136 L1441.29 993.136  Z\n",
       "  \" fill=\"#3da44d\" fill-rule=\"evenodd\" fill-opacity=\"1\"/>\n",
       "<polyline clip-path=\"url(#clip592)\" style=\"stroke:#000000; stroke-width:4; stroke-opacity:1; fill:none\" points=\"\n",
       "  1441.29,993.136 1441.29,1445.72 1638.66,1445.72 1638.66,993.136 1441.29,993.136 \n",
       "  \"/>\n",
       "<path clip-path=\"url(#clip592)\" d=\"\n",
       "M1638.66 1445.72 L1638.66 1445.72 L1836.03 1445.72 L1836.03 1445.72 L1638.66 1445.72 L1638.66 1445.72  Z\n",
       "  \" fill=\"#3da44d\" fill-rule=\"evenodd\" fill-opacity=\"1\"/>\n",
       "<polyline clip-path=\"url(#clip592)\" style=\"stroke:#000000; stroke-width:4; stroke-opacity:1; fill:none\" points=\"\n",
       "  1638.66,1445.72 1638.66,1445.72 1836.03,1445.72 1638.66,1445.72 \n",
       "  \"/>\n",
       "<path clip-path=\"url(#clip592)\" d=\"\n",
       "M1836.03 1332.57 L1836.03 1445.72 L2033.41 1445.72 L2033.41 1332.57 L1836.03 1332.57 L1836.03 1332.57  Z\n",
       "  \" fill=\"#3da44d\" fill-rule=\"evenodd\" fill-opacity=\"1\"/>\n",
       "<polyline clip-path=\"url(#clip592)\" style=\"stroke:#000000; stroke-width:4; stroke-opacity:1; fill:none\" points=\"\n",
       "  1836.03,1332.57 1836.03,1445.72 2033.41,1445.72 2033.41,1332.57 1836.03,1332.57 \n",
       "  \"/>\n",
       "<path clip-path=\"url(#clip590)\" d=\"\n",
       "M1821.73 337.138 L2278.83 337.138 L2278.83 95.2176 L1821.73 95.2176  Z\n",
       "  \" fill=\"#ffffff\" fill-rule=\"evenodd\" fill-opacity=\"1\"/>\n",
       "<polyline clip-path=\"url(#clip590)\" style=\"stroke:#000000; stroke-width:4; stroke-opacity:1; fill:none\" points=\"\n",
       "  1821.73,337.138 2278.83,337.138 2278.83,95.2176 1821.73,95.2176 1821.73,337.138 \n",
       "  \"/>\n",
       "<path clip-path=\"url(#clip590)\" d=\"\n",
       "M1846.37 179.89 L1994.22 179.89 L1994.22 131.506 L1846.37 131.506 L1846.37 179.89  Z\n",
       "  \" fill=\"#009af9\" fill-rule=\"evenodd\" fill-opacity=\"1\"/>\n",
       "<polyline clip-path=\"url(#clip590)\" style=\"stroke:#000000; stroke-width:4; stroke-opacity:1; fill:none\" points=\"\n",
       "  1846.37,179.89 1994.22,179.89 1994.22,131.506 1846.37,131.506 1846.37,179.89 \n",
       "  \"/>\n",
       "<path clip-path=\"url(#clip590)\" d=\"M 0 0 M2035.83 160.917 L2034.81 155.57 Q2033.77 150.084 2029.64 150.084 Q2026.54 150.084 2025.13 152.63 Q2023.35 155.825 2023.35 160.038 Q2023.35 165.13 2025.08 167.561 Q2026.84 170.038 2029.64 170.038 Q2032.75 170.038 2034.41 165.107 L2035.83 160.917 M2038.21 153.834 L2040.5 147.052 L2044.3 147.052 L2039.55 161.103 L2040.48 166.172 Q2040.69 167.306 2041.5 168.255 Q2042.45 169.366 2043.19 169.366 L2045.22 169.366 L2045.22 172.978 L2042.68 172.978 Q2040.5 172.978 2038.56 171.033 Q2037.61 170.061 2037.21 168.024 Q2036.15 170.593 2033.97 172.607 Q2032.95 173.556 2029.64 173.556 Q2024.21 173.556 2021.57 170.038 Q2018.86 166.404 2018.86 160.038 Q2018.86 153.232 2021.8 150.038 Q2025.06 146.473 2029.64 146.473 Q2036.84 146.473 2038.21 153.834 Z\" fill=\"#000000\" fill-rule=\"evenodd\" fill-opacity=\"1\" /><path clip-path=\"url(#clip590)\" d=\"M 0 0 M2050.25 151.45 L2079.92 151.45 L2079.92 155.339 L2050.25 155.339 L2050.25 151.45 M2050.25 160.894 L2079.92 160.894 L2079.92 164.829 L2050.25 164.829 L2050.25 160.894 Z\" fill=\"#000000\" fill-rule=\"evenodd\" fill-opacity=\"1\" /><path clip-path=\"url(#clip590)\" d=\"M 0 0 M2085.13 172.26 L2085.13 168.001 Q2086.89 168.834 2088.7 169.274 Q2090.5 169.714 2092.24 169.714 Q2096.87 169.714 2099.3 166.612 Q2101.75 163.487 2102.1 157.144 Q2100.76 159.135 2098.7 160.2 Q2096.64 161.265 2094.14 161.265 Q2088.95 161.265 2085.92 158.14 Q2082.91 154.992 2082.91 149.552 Q2082.91 144.228 2086.06 141.01 Q2089.2 137.793 2094.44 137.793 Q2100.43 137.793 2103.58 142.399 Q2106.75 146.982 2106.75 155.732 Q2106.75 163.904 2102.86 168.788 Q2099 173.649 2092.45 173.649 Q2090.69 173.649 2088.88 173.302 Q2087.08 172.954 2085.13 172.26 M2094.44 157.607 Q2097.58 157.607 2099.41 155.454 Q2101.26 153.302 2101.26 149.552 Q2101.26 145.825 2099.41 143.672 Q2097.58 141.496 2094.44 141.496 Q2091.29 141.496 2089.44 143.672 Q2087.61 145.825 2087.61 149.552 Q2087.61 153.302 2089.44 155.454 Q2091.29 157.607 2094.44 157.607 Z\" fill=\"#000000\" fill-rule=\"evenodd\" fill-opacity=\"1\" /><path clip-path=\"url(#clip590)\" d=\"M 0 0 M2111.87 138.418 L2130.22 138.418 L2130.22 142.353 L2116.15 142.353 L2116.15 150.825 Q2117.17 150.478 2118.19 150.316 Q2119.2 150.13 2120.22 150.13 Q2126.01 150.13 2129.39 153.302 Q2132.77 156.473 2132.77 161.89 Q2132.77 167.468 2129.3 170.57 Q2125.82 173.649 2119.51 173.649 Q2117.33 173.649 2115.06 173.278 Q2112.82 172.908 2110.41 172.167 L2110.41 167.468 Q2112.49 168.603 2114.71 169.158 Q2116.94 169.714 2119.41 169.714 Q2123.42 169.714 2125.76 167.607 Q2128.09 165.501 2128.09 161.89 Q2128.09 158.279 2125.76 156.172 Q2123.42 154.066 2119.41 154.066 Q2117.54 154.066 2115.66 154.482 Q2113.81 154.899 2111.87 155.779 L2111.87 138.418 Z\" fill=\"#000000\" fill-rule=\"evenodd\" fill-opacity=\"1\" /><path clip-path=\"url(#clip590)\" d=\"M 0 0 M2144.81 138.418 L2148.74 138.418 L2136.7 177.376 L2132.77 177.376 L2144.81 138.418 Z\" fill=\"#000000\" fill-rule=\"evenodd\" fill-opacity=\"1\" /><path clip-path=\"url(#clip590)\" d=\"M 0 0 M2154.62 169.042 L2162.26 169.042 L2162.26 142.677 L2153.95 144.343 L2153.95 140.084 L2162.21 138.418 L2166.89 138.418 L2166.89 169.042 L2174.53 169.042 L2174.53 172.978 L2154.62 172.978 L2154.62 169.042 Z\" fill=\"#000000\" fill-rule=\"evenodd\" fill-opacity=\"1\" /><path clip-path=\"url(#clip590)\" d=\"M 0 0 M2189.6 141.496 Q2185.99 141.496 2184.16 145.061 Q2182.35 148.603 2182.35 155.732 Q2182.35 162.839 2184.16 166.404 Q2185.99 169.945 2189.6 169.945 Q2193.23 169.945 2195.04 166.404 Q2196.87 162.839 2196.87 155.732 Q2196.87 148.603 2195.04 145.061 Q2193.23 141.496 2189.6 141.496 M2189.6 137.793 Q2195.41 137.793 2198.46 142.399 Q2201.54 146.982 2201.54 155.732 Q2201.54 164.459 2198.46 169.066 Q2195.41 173.649 2189.6 173.649 Q2183.79 173.649 2180.71 169.066 Q2177.65 164.459 2177.65 155.732 Q2177.65 146.982 2180.71 142.399 Q2183.79 137.793 2189.6 137.793 Z\" fill=\"#000000\" fill-rule=\"evenodd\" fill-opacity=\"1\" /><path clip-path=\"url(#clip590)\" d=\"M 0 0 M2216.61 141.496 Q2213 141.496 2211.17 145.061 Q2209.37 148.603 2209.37 155.732 Q2209.37 162.839 2211.17 166.404 Q2213 169.945 2216.61 169.945 Q2220.25 169.945 2222.05 166.404 Q2223.88 162.839 2223.88 155.732 Q2223.88 148.603 2222.05 145.061 Q2220.25 141.496 2216.61 141.496 M2216.61 137.793 Q2222.42 137.793 2225.48 142.399 Q2228.56 146.982 2228.56 155.732 Q2228.56 164.459 2225.48 169.066 Q2222.42 173.649 2216.61 173.649 Q2210.8 173.649 2207.72 169.066 Q2204.67 164.459 2204.67 155.732 Q2204.67 146.982 2207.72 142.399 Q2210.8 137.793 2216.61 137.793 Z\" fill=\"#000000\" fill-rule=\"evenodd\" fill-opacity=\"1\" /><path clip-path=\"url(#clip590)\" d=\"\n",
       "M1846.37 240.37 L1994.22 240.37 L1994.22 191.986 L1846.37 191.986 L1846.37 240.37  Z\n",
       "  \" fill=\"#e26f46\" fill-rule=\"evenodd\" fill-opacity=\"1\"/>\n",
       "<polyline clip-path=\"url(#clip590)\" style=\"stroke:#000000; stroke-width:4; stroke-opacity:1; fill:none\" points=\"\n",
       "  1846.37,240.37 1994.22,240.37 1994.22,191.986 1846.37,191.986 1846.37,240.37 \n",
       "  \"/>\n",
       "<path clip-path=\"url(#clip590)\" d=\"M 0 0 M2035.83 221.397 L2034.81 216.05 Q2033.77 210.564 2029.64 210.564 Q2026.54 210.564 2025.13 213.11 Q2023.35 216.305 2023.35 220.518 Q2023.35 225.61 2025.08 228.041 Q2026.84 230.518 2029.64 230.518 Q2032.75 230.518 2034.41 225.587 L2035.83 221.397 M2038.21 214.314 L2040.5 207.532 L2044.3 207.532 L2039.55 221.583 L2040.48 226.652 Q2040.69 227.786 2041.5 228.735 Q2042.45 229.846 2043.19 229.846 L2045.22 229.846 L2045.22 233.458 L2042.68 233.458 Q2040.5 233.458 2038.56 231.513 Q2037.61 230.541 2037.21 228.504 Q2036.15 231.073 2033.97 233.087 Q2032.95 234.036 2029.64 234.036 Q2024.21 234.036 2021.57 230.518 Q2018.86 226.884 2018.86 220.518 Q2018.86 213.712 2021.8 210.518 Q2025.06 206.953 2029.64 206.953 Q2036.84 206.953 2038.21 214.314 Z\" fill=\"#000000\" fill-rule=\"evenodd\" fill-opacity=\"1\" /><path clip-path=\"url(#clip590)\" d=\"M 0 0 M2050.25 211.93 L2079.92 211.93 L2079.92 215.819 L2050.25 215.819 L2050.25 211.93 M2050.25 221.374 L2079.92 221.374 L2079.92 225.309 L2050.25 225.309 L2050.25 221.374 Z\" fill=\"#000000\" fill-rule=\"evenodd\" fill-opacity=\"1\" /><path clip-path=\"url(#clip590)\" d=\"M 0 0 M2085.13 232.74 L2085.13 228.481 Q2086.89 229.314 2088.7 229.754 Q2090.5 230.194 2092.24 230.194 Q2096.87 230.194 2099.3 227.092 Q2101.75 223.967 2102.1 217.624 Q2100.76 219.615 2098.7 220.68 Q2096.64 221.745 2094.14 221.745 Q2088.95 221.745 2085.92 218.62 Q2082.91 215.472 2082.91 210.032 Q2082.91 204.708 2086.06 201.49 Q2089.2 198.273 2094.44 198.273 Q2100.43 198.273 2103.58 202.879 Q2106.75 207.462 2106.75 216.212 Q2106.75 224.384 2102.86 229.268 Q2099 234.129 2092.45 234.129 Q2090.69 234.129 2088.88 233.782 Q2087.08 233.434 2085.13 232.74 M2094.44 218.087 Q2097.58 218.087 2099.41 215.934 Q2101.26 213.782 2101.26 210.032 Q2101.26 206.305 2099.41 204.152 Q2097.58 201.976 2094.44 201.976 Q2091.29 201.976 2089.44 204.152 Q2087.61 206.305 2087.61 210.032 Q2087.61 213.782 2089.44 215.934 Q2091.29 218.087 2094.44 218.087 Z\" fill=\"#000000\" fill-rule=\"evenodd\" fill-opacity=\"1\" /><path clip-path=\"url(#clip590)\" d=\"M 0 0 M2121.82 201.976 Q2118.21 201.976 2116.38 205.541 Q2114.57 209.083 2114.57 216.212 Q2114.57 223.319 2116.38 226.884 Q2118.21 230.425 2121.82 230.425 Q2125.45 230.425 2127.26 226.884 Q2129.09 223.319 2129.09 216.212 Q2129.09 209.083 2127.26 205.541 Q2125.45 201.976 2121.82 201.976 M2121.82 198.273 Q2127.63 198.273 2130.69 202.879 Q2133.76 207.462 2133.76 216.212 Q2133.76 224.939 2130.69 229.546 Q2127.63 234.129 2121.82 234.129 Q2116.01 234.129 2112.93 229.546 Q2109.88 224.939 2109.88 216.212 Q2109.88 207.462 2112.93 202.879 Q2116.01 198.273 2121.82 198.273 Z\" fill=\"#000000\" fill-rule=\"evenodd\" fill-opacity=\"1\" /><path clip-path=\"url(#clip590)\" d=\"M 0 0 M2145.8 198.898 L2149.74 198.898 L2137.7 237.856 L2133.76 237.856 L2145.8 198.898 Z\" fill=\"#000000\" fill-rule=\"evenodd\" fill-opacity=\"1\" /><path clip-path=\"url(#clip590)\" d=\"M 0 0 M2155.62 229.522 L2163.26 229.522 L2163.26 203.157 L2154.95 204.823 L2154.95 200.564 L2163.21 198.898 L2167.88 198.898 L2167.88 229.522 L2175.52 229.522 L2175.52 233.458 L2155.62 233.458 L2155.62 229.522 Z\" fill=\"#000000\" fill-rule=\"evenodd\" fill-opacity=\"1\" /><path clip-path=\"url(#clip590)\" d=\"M 0 0 M2190.59 201.976 Q2186.98 201.976 2185.15 205.541 Q2183.35 209.083 2183.35 216.212 Q2183.35 223.319 2185.15 226.884 Q2186.98 230.425 2190.59 230.425 Q2194.23 230.425 2196.03 226.884 Q2197.86 223.319 2197.86 216.212 Q2197.86 209.083 2196.03 205.541 Q2194.23 201.976 2190.59 201.976 M2190.59 198.273 Q2196.4 198.273 2199.46 202.879 Q2202.54 207.462 2202.54 216.212 Q2202.54 224.939 2199.46 229.546 Q2196.4 234.129 2190.59 234.129 Q2184.78 234.129 2181.7 229.546 Q2178.65 224.939 2178.65 216.212 Q2178.65 207.462 2181.7 202.879 Q2184.78 198.273 2190.59 198.273 Z\" fill=\"#000000\" fill-rule=\"evenodd\" fill-opacity=\"1\" /><path clip-path=\"url(#clip590)\" d=\"M 0 0 M2217.61 201.976 Q2214 201.976 2212.17 205.541 Q2210.36 209.083 2210.36 216.212 Q2210.36 223.319 2212.17 226.884 Q2214 230.425 2217.61 230.425 Q2221.24 230.425 2223.05 226.884 Q2224.88 223.319 2224.88 216.212 Q2224.88 209.083 2223.05 205.541 Q2221.24 201.976 2217.61 201.976 M2217.61 198.273 Q2223.42 198.273 2226.47 202.879 Q2229.55 207.462 2229.55 216.212 Q2229.55 224.939 2226.47 229.546 Q2223.42 234.129 2217.61 234.129 Q2211.8 234.129 2208.72 229.546 Q2205.66 224.939 2205.66 216.212 Q2205.66 207.462 2208.72 202.879 Q2211.8 198.273 2217.61 198.273 Z\" fill=\"#000000\" fill-rule=\"evenodd\" fill-opacity=\"1\" /><path clip-path=\"url(#clip590)\" d=\"\n",
       "M1846.37 300.85 L1994.22 300.85 L1994.22 252.466 L1846.37 252.466 L1846.37 300.85  Z\n",
       "  \" fill=\"#3da44d\" fill-rule=\"evenodd\" fill-opacity=\"1\"/>\n",
       "<polyline clip-path=\"url(#clip590)\" style=\"stroke:#000000; stroke-width:4; stroke-opacity:1; fill:none\" points=\"\n",
       "  1846.37,300.85 1994.22,300.85 1994.22,252.466 1846.37,252.466 1846.37,300.85 \n",
       "  \"/>\n",
       "<path clip-path=\"url(#clip590)\" d=\"M 0 0 M2039.2 272.989 Q2040.8 270.118 2043.02 268.753 Q2045.25 267.387 2048.26 267.387 Q2052.31 267.387 2054.51 270.234 Q2056.7 273.058 2056.7 278.289 L2056.7 293.938 L2052.42 293.938 L2052.42 278.428 Q2052.42 274.702 2051.1 272.896 Q2049.78 271.09 2047.08 271.09 Q2043.77 271.09 2041.84 273.29 Q2039.92 275.489 2039.92 279.285 L2039.92 293.938 L2035.64 293.938 L2035.64 278.428 Q2035.64 274.678 2034.32 272.896 Q2033 271.09 2030.25 271.09 Q2026.98 271.09 2025.06 273.313 Q2023.14 275.512 2023.14 279.285 L2023.14 293.938 L2018.86 293.938 L2018.86 268.012 L2023.14 268.012 L2023.14 272.04 Q2024.6 269.655 2026.64 268.521 Q2028.67 267.387 2031.47 267.387 Q2034.3 267.387 2036.27 268.822 Q2038.26 270.257 2039.2 272.989 Z\" fill=\"#000000\" fill-rule=\"evenodd\" fill-opacity=\"1\" /><path clip-path=\"url(#clip590)\" d=\"M 0 0 M2075.94 275.303 Q2079.3 276.021 2081.17 278.289 Q2083.07 280.558 2083.07 283.891 Q2083.07 289.007 2079.55 291.808 Q2076.03 294.609 2069.55 294.609 Q2067.38 294.609 2065.06 294.169 Q2062.77 293.752 2060.32 292.896 L2060.32 288.382 Q2062.26 289.516 2064.58 290.095 Q2066.89 290.674 2069.41 290.674 Q2073.81 290.674 2076.1 288.938 Q2078.42 287.201 2078.42 283.891 Q2078.42 280.836 2076.26 279.123 Q2074.14 277.387 2070.32 277.387 L2066.29 277.387 L2066.29 273.544 L2070.5 273.544 Q2073.95 273.544 2075.78 272.178 Q2077.61 270.79 2077.61 268.197 Q2077.61 265.535 2075.71 264.123 Q2073.83 262.688 2070.32 262.688 Q2068.39 262.688 2066.2 263.104 Q2064 263.521 2061.36 264.401 L2061.36 260.234 Q2064.02 259.493 2066.33 259.123 Q2068.67 258.753 2070.73 258.753 Q2076.06 258.753 2079.16 261.183 Q2082.26 263.59 2082.26 267.711 Q2082.26 270.581 2080.62 272.572 Q2078.97 274.54 2075.94 275.303 Z\" fill=\"#000000\" fill-rule=\"evenodd\" fill-opacity=\"1\" /></svg>\n"
      ]
     },
     "execution_count": 37,
     "metadata": {},
     "output_type": "execute_result"
    }
   ],
   "source": [
    "([\n",
    "    [energia_local(ranks, corte95) for ranks in ranks_univs],\n",
    "    [energia_local(ranks, corte90) for ranks in ranks_univs],\n",
    "    [energia_local(ranks, poset_m3) for ranks in ranks_univs]\n",
    "    ]) |> x -> histogram(x, bins=6, labels = [\"α=95/100\" \"α=90/100\" \"m3\"],yticks=(1:15, 1:15))"
   ]
  },
  {
   "cell_type": "markdown",
   "metadata": {},
   "source": [
    "En esta grafica, se comparan los histogramas de los valores de energía. \n",
    "La energía se calcula entre un ranking y un poset, determinando el número de aristas incompatiles. Por defecto, se utiliza la *cerradura transitiva*."
   ]
  },
  {
   "cell_type": "code",
   "execution_count": 38,
   "metadata": {},
   "outputs": [
    {
     "data": {
      "image/svg+xml": [
       "<?xml version=\"1.0\" encoding=\"utf-8\"?>\n",
       "<svg xmlns=\"http://www.w3.org/2000/svg\" xmlns:xlink=\"http://www.w3.org/1999/xlink\" width=\"600\" height=\"400\" viewBox=\"0 0 2400 1600\">\n",
       "<defs>\n",
       "  <clipPath id=\"clip630\">\n",
       "    <rect x=\"0\" y=\"0\" width=\"2400\" height=\"1600\"/>\n",
       "  </clipPath>\n",
       "</defs>\n",
       "<path clip-path=\"url(#clip630)\" d=\"\n",
       "M0 1600 L2400 1600 L2400 0 L0 0  Z\n",
       "  \" fill=\"#ffffff\" fill-rule=\"evenodd\" fill-opacity=\"1\"/>\n",
       "<defs>\n",
       "  <clipPath id=\"clip631\">\n",
       "    <rect x=\"480\" y=\"0\" width=\"1681\" height=\"1600\"/>\n",
       "  </clipPath>\n",
       "</defs>\n",
       "<path clip-path=\"url(#clip630)\" d=\"\n",
       "M165.12 1464.85 L2352.76 1464.85 L2352.76 47.2441 L165.12 47.2441  Z\n",
       "  \" fill=\"#ffffff\" fill-rule=\"evenodd\" fill-opacity=\"1\"/>\n",
       "<defs>\n",
       "  <clipPath id=\"clip632\">\n",
       "    <rect x=\"165\" y=\"47\" width=\"2189\" height=\"1419\"/>\n",
       "  </clipPath>\n",
       "</defs>\n",
       "<polyline clip-path=\"url(#clip632)\" style=\"stroke:#000000; stroke-width:2; stroke-opacity:0.1; fill:none\" points=\"\n",
       "  285.443,1464.85 285.443,47.2441 \n",
       "  \"/>\n",
       "<polyline clip-path=\"url(#clip632)\" style=\"stroke:#000000; stroke-width:2; stroke-opacity:0.1; fill:none\" points=\"\n",
       "  609.942,1464.85 609.942,47.2441 \n",
       "  \"/>\n",
       "<polyline clip-path=\"url(#clip632)\" style=\"stroke:#000000; stroke-width:2; stroke-opacity:0.1; fill:none\" points=\"\n",
       "  934.44,1464.85 934.44,47.2441 \n",
       "  \"/>\n",
       "<polyline clip-path=\"url(#clip632)\" style=\"stroke:#000000; stroke-width:2; stroke-opacity:0.1; fill:none\" points=\"\n",
       "  1258.94,1464.85 1258.94,47.2441 \n",
       "  \"/>\n",
       "<polyline clip-path=\"url(#clip632)\" style=\"stroke:#000000; stroke-width:2; stroke-opacity:0.1; fill:none\" points=\"\n",
       "  1583.44,1464.85 1583.44,47.2441 \n",
       "  \"/>\n",
       "<polyline clip-path=\"url(#clip632)\" style=\"stroke:#000000; stroke-width:2; stroke-opacity:0.1; fill:none\" points=\"\n",
       "  1907.93,1464.85 1907.93,47.2441 \n",
       "  \"/>\n",
       "<polyline clip-path=\"url(#clip632)\" style=\"stroke:#000000; stroke-width:2; stroke-opacity:0.1; fill:none\" points=\"\n",
       "  2232.43,1464.85 2232.43,47.2441 \n",
       "  \"/>\n",
       "<polyline clip-path=\"url(#clip630)\" style=\"stroke:#000000; stroke-width:4; stroke-opacity:1; fill:none\" points=\"\n",
       "  165.12,1464.85 2352.76,1464.85 \n",
       "  \"/>\n",
       "<polyline clip-path=\"url(#clip630)\" style=\"stroke:#000000; stroke-width:4; stroke-opacity:1; fill:none\" points=\"\n",
       "  285.443,1464.85 285.443,1447.84 \n",
       "  \"/>\n",
       "<polyline clip-path=\"url(#clip630)\" style=\"stroke:#000000; stroke-width:4; stroke-opacity:1; fill:none\" points=\"\n",
       "  609.942,1464.85 609.942,1447.84 \n",
       "  \"/>\n",
       "<polyline clip-path=\"url(#clip630)\" style=\"stroke:#000000; stroke-width:4; stroke-opacity:1; fill:none\" points=\"\n",
       "  934.44,1464.85 934.44,1447.84 \n",
       "  \"/>\n",
       "<polyline clip-path=\"url(#clip630)\" style=\"stroke:#000000; stroke-width:4; stroke-opacity:1; fill:none\" points=\"\n",
       "  1258.94,1464.85 1258.94,1447.84 \n",
       "  \"/>\n",
       "<polyline clip-path=\"url(#clip630)\" style=\"stroke:#000000; stroke-width:4; stroke-opacity:1; fill:none\" points=\"\n",
       "  1583.44,1464.85 1583.44,1447.84 \n",
       "  \"/>\n",
       "<polyline clip-path=\"url(#clip630)\" style=\"stroke:#000000; stroke-width:4; stroke-opacity:1; fill:none\" points=\"\n",
       "  1907.93,1464.85 1907.93,1447.84 \n",
       "  \"/>\n",
       "<polyline clip-path=\"url(#clip630)\" style=\"stroke:#000000; stroke-width:4; stroke-opacity:1; fill:none\" points=\"\n",
       "  2232.43,1464.85 2232.43,1447.84 \n",
       "  \"/>\n",
       "<path clip-path=\"url(#clip630)\" d=\"M 0 0 M285.443 1500.28 Q279.575 1500.28 276.604 1506.08 Q273.67 1511.83 273.67 1523.42 Q273.67 1534.96 276.604 1540.76 Q279.575 1546.51 285.443 1546.51 Q291.349 1546.51 294.283 1540.76 Q297.255 1534.96 297.255 1523.42 Q297.255 1511.83 294.283 1506.08 Q291.349 1500.28 285.443 1500.28 M285.443 1494.26 Q294.885 1494.26 299.85 1501.75 Q304.853 1509.2 304.853 1523.42 Q304.853 1537.6 299.85 1545.08 Q294.885 1552.53 285.443 1552.53 Q276.002 1552.53 270.999 1545.08 Q266.034 1537.6 266.034 1523.42 Q266.034 1509.2 270.999 1501.75 Q276.002 1494.26 285.443 1494.26 Z\" fill=\"#000000\" fill-rule=\"evenodd\" fill-opacity=\"1\" /><path clip-path=\"url(#clip630)\" d=\"M 0 0 M594.312 1545.05 L606.725 1545.05 L606.725 1502.2 L593.221 1504.91 L593.221 1497.99 L606.65 1495.28 L614.249 1495.28 L614.249 1545.05 L626.662 1545.05 L626.662 1551.44 L594.312 1551.44 L594.312 1545.05 Z\" fill=\"#000000\" fill-rule=\"evenodd\" fill-opacity=\"1\" /><path clip-path=\"url(#clip630)\" d=\"M 0 0 M925.75 1545.05 L952.269 1545.05 L952.269 1551.44 L916.61 1551.44 L916.61 1545.05 Q920.936 1540.57 928.384 1533.05 Q935.869 1525.49 937.787 1523.3 Q941.436 1519.2 942.866 1516.38 Q944.333 1513.52 944.333 1510.78 Q944.333 1506.3 941.173 1503.48 Q938.051 1500.66 933.01 1500.66 Q929.437 1500.66 925.45 1501.9 Q921.5 1503.14 916.986 1505.66 L916.986 1497.99 Q921.575 1496.15 925.562 1495.2 Q929.55 1494.26 932.86 1494.26 Q941.587 1494.26 946.778 1498.63 Q951.969 1502.99 951.969 1510.29 Q951.969 1513.75 950.652 1516.87 Q949.373 1519.96 945.95 1524.17 Q945.01 1525.26 939.969 1530.49 Q934.929 1535.68 925.75 1545.05 Z\" fill=\"#000000\" fill-rule=\"evenodd\" fill-opacity=\"1\" /><path clip-path=\"url(#clip630)\" d=\"M 0 0 M1265.84 1521.16 Q1271.29 1522.33 1274.34 1526.01 Q1277.43 1529.7 1277.43 1535.11 Q1277.43 1543.43 1271.71 1547.98 Q1265.99 1552.53 1255.46 1552.53 Q1251.92 1552.53 1248.16 1551.82 Q1244.44 1551.14 1240.45 1549.75 L1240.45 1542.41 Q1243.61 1544.26 1247.37 1545.2 Q1251.13 1546.14 1255.23 1546.14 Q1262.38 1546.14 1266.1 1543.31 Q1269.87 1540.49 1269.87 1535.11 Q1269.87 1530.15 1266.37 1527.37 Q1262.91 1524.54 1256.7 1524.54 L1250.15 1524.54 L1250.15 1518.3 L1257 1518.3 Q1262.61 1518.3 1265.58 1516.08 Q1268.55 1513.82 1268.55 1509.61 Q1268.55 1505.29 1265.46 1502.99 Q1262.42 1500.66 1256.7 1500.66 Q1253.58 1500.66 1250 1501.34 Q1246.43 1502.01 1242.14 1503.44 L1242.14 1496.67 Q1246.47 1495.47 1250.23 1494.87 Q1254.03 1494.26 1257.38 1494.26 Q1266.03 1494.26 1271.07 1498.21 Q1276.11 1502.13 1276.11 1508.82 Q1276.11 1513.49 1273.44 1516.72 Q1270.77 1519.92 1265.84 1521.16 Z\" fill=\"#000000\" fill-rule=\"evenodd\" fill-opacity=\"1\" /><path clip-path=\"url(#clip630)\" d=\"M 0 0 M1588.33 1501.9 L1569.14 1531.88 L1588.33 1531.88 L1588.33 1501.9 M1586.33 1495.28 L1595.89 1495.28 L1595.89 1531.88 L1603.9 1531.88 L1603.9 1538.2 L1595.89 1538.2 L1595.89 1551.44 L1588.33 1551.44 L1588.33 1538.2 L1562.97 1538.2 L1562.97 1530.86 L1586.33 1495.28 Z\" fill=\"#000000\" fill-rule=\"evenodd\" fill-opacity=\"1\" /><path clip-path=\"url(#clip630)\" d=\"M 0 0 M1892.14 1495.28 L1921.96 1495.28 L1921.96 1501.67 L1899.09 1501.67 L1899.09 1515.44 Q1900.75 1514.88 1902.4 1514.61 Q1904.06 1514.31 1905.71 1514.31 Q1915.12 1514.31 1920.61 1519.47 Q1926.1 1524.62 1926.1 1533.42 Q1926.1 1542.49 1920.46 1547.53 Q1914.82 1552.53 1904.55 1552.53 Q1901.01 1552.53 1897.33 1551.93 Q1893.68 1551.33 1889.77 1550.12 L1889.77 1542.49 Q1893.15 1544.33 1896.76 1545.23 Q1900.37 1546.14 1904.4 1546.14 Q1910.91 1546.14 1914.7 1542.71 Q1918.5 1539.29 1918.5 1533.42 Q1918.5 1527.55 1914.7 1524.13 Q1910.91 1520.71 1904.4 1520.71 Q1901.35 1520.71 1898.3 1521.39 Q1895.3 1522.06 1892.14 1523.49 L1892.14 1495.28 Z\" fill=\"#000000\" fill-rule=\"evenodd\" fill-opacity=\"1\" /><path clip-path=\"url(#clip630)\" d=\"M 0 0 M2233.09 1520.33 Q2227.97 1520.33 2224.97 1523.83 Q2221.99 1527.33 2221.99 1533.42 Q2221.99 1539.48 2224.97 1543.01 Q2227.97 1546.51 2233.09 1546.51 Q2238.21 1546.51 2241.18 1543.01 Q2244.19 1539.48 2244.19 1533.42 Q2244.19 1527.33 2241.18 1523.83 Q2238.21 1520.33 2233.09 1520.33 M2248.17 1496.52 L2248.17 1503.44 Q2245.32 1502.09 2242.38 1501.37 Q2239.48 1500.66 2236.63 1500.66 Q2229.1 1500.66 2225.12 1505.74 Q2221.17 1510.82 2220.6 1521.08 Q2222.82 1517.81 2226.17 1516.08 Q2229.52 1514.31 2233.54 1514.31 Q2242.01 1514.31 2246.9 1519.47 Q2251.82 1524.58 2251.82 1533.42 Q2251.82 1542.07 2246.71 1547.3 Q2241.59 1552.53 2233.09 1552.53 Q2223.35 1552.53 2218.19 1545.08 Q2213.04 1537.6 2213.04 1523.42 Q2213.04 1510.1 2219.36 1502.2 Q2225.68 1494.26 2236.33 1494.26 Q2239.18 1494.26 2242.08 1494.83 Q2245.01 1495.39 2248.17 1496.52 Z\" fill=\"#000000\" fill-rule=\"evenodd\" fill-opacity=\"1\" /><polyline clip-path=\"url(#clip632)\" style=\"stroke:#000000; stroke-width:2; stroke-opacity:0.1; fill:none\" points=\"\n",
       "  165.12,1313.28 2352.76,1313.28 \n",
       "  \"/>\n",
       "<polyline clip-path=\"url(#clip632)\" style=\"stroke:#000000; stroke-width:2; stroke-opacity:0.1; fill:none\" points=\"\n",
       "  165.12,1201.83 2352.76,1201.83 \n",
       "  \"/>\n",
       "<polyline clip-path=\"url(#clip632)\" style=\"stroke:#000000; stroke-width:2; stroke-opacity:0.1; fill:none\" points=\"\n",
       "  165.12,1090.39 2352.76,1090.39 \n",
       "  \"/>\n",
       "<polyline clip-path=\"url(#clip632)\" style=\"stroke:#000000; stroke-width:2; stroke-opacity:0.1; fill:none\" points=\"\n",
       "  165.12,978.94 2352.76,978.94 \n",
       "  \"/>\n",
       "<polyline clip-path=\"url(#clip632)\" style=\"stroke:#000000; stroke-width:2; stroke-opacity:0.1; fill:none\" points=\"\n",
       "  165.12,867.493 2352.76,867.493 \n",
       "  \"/>\n",
       "<polyline clip-path=\"url(#clip632)\" style=\"stroke:#000000; stroke-width:2; stroke-opacity:0.1; fill:none\" points=\"\n",
       "  165.12,756.046 2352.76,756.046 \n",
       "  \"/>\n",
       "<polyline clip-path=\"url(#clip632)\" style=\"stroke:#000000; stroke-width:2; stroke-opacity:0.1; fill:none\" points=\"\n",
       "  165.12,644.599 2352.76,644.599 \n",
       "  \"/>\n",
       "<polyline clip-path=\"url(#clip632)\" style=\"stroke:#000000; stroke-width:2; stroke-opacity:0.1; fill:none\" points=\"\n",
       "  165.12,533.152 2352.76,533.152 \n",
       "  \"/>\n",
       "<polyline clip-path=\"url(#clip632)\" style=\"stroke:#000000; stroke-width:2; stroke-opacity:0.1; fill:none\" points=\"\n",
       "  165.12,421.705 2352.76,421.705 \n",
       "  \"/>\n",
       "<polyline clip-path=\"url(#clip632)\" style=\"stroke:#000000; stroke-width:2; stroke-opacity:0.1; fill:none\" points=\"\n",
       "  165.12,310.259 2352.76,310.259 \n",
       "  \"/>\n",
       "<polyline clip-path=\"url(#clip632)\" style=\"stroke:#000000; stroke-width:2; stroke-opacity:0.1; fill:none\" points=\"\n",
       "  165.12,198.812 2352.76,198.812 \n",
       "  \"/>\n",
       "<polyline clip-path=\"url(#clip632)\" style=\"stroke:#000000; stroke-width:2; stroke-opacity:0.1; fill:none\" points=\"\n",
       "  165.12,87.365 2352.76,87.365 \n",
       "  \"/>\n",
       "<polyline clip-path=\"url(#clip632)\" style=\"stroke:#000000; stroke-width:2; stroke-opacity:0.1; fill:none\" points=\"\n",
       "  165.12,-24.0819 2352.76,-24.0819 \n",
       "  \"/>\n",
       "<polyline clip-path=\"url(#clip632)\" style=\"stroke:#000000; stroke-width:2; stroke-opacity:0.1; fill:none\" points=\"\n",
       "  165.12,-135.529 2352.76,-135.529 \n",
       "  \"/>\n",
       "<polyline clip-path=\"url(#clip632)\" style=\"stroke:#000000; stroke-width:2; stroke-opacity:0.1; fill:none\" points=\"\n",
       "  165.12,-246.976 2352.76,-246.976 \n",
       "  \"/>\n",
       "<polyline clip-path=\"url(#clip630)\" style=\"stroke:#000000; stroke-width:4; stroke-opacity:1; fill:none\" points=\"\n",
       "  165.12,1464.85 165.12,47.2441 \n",
       "  \"/>\n",
       "<polyline clip-path=\"url(#clip630)\" style=\"stroke:#000000; stroke-width:4; stroke-opacity:1; fill:none\" points=\"\n",
       "  165.12,1313.28 191.371,1313.28 \n",
       "  \"/>\n",
       "<polyline clip-path=\"url(#clip630)\" style=\"stroke:#000000; stroke-width:4; stroke-opacity:1; fill:none\" points=\"\n",
       "  165.12,1201.83 191.371,1201.83 \n",
       "  \"/>\n",
       "<polyline clip-path=\"url(#clip630)\" style=\"stroke:#000000; stroke-width:4; stroke-opacity:1; fill:none\" points=\"\n",
       "  165.12,1090.39 191.371,1090.39 \n",
       "  \"/>\n",
       "<polyline clip-path=\"url(#clip630)\" style=\"stroke:#000000; stroke-width:4; stroke-opacity:1; fill:none\" points=\"\n",
       "  165.12,978.94 191.371,978.94 \n",
       "  \"/>\n",
       "<polyline clip-path=\"url(#clip630)\" style=\"stroke:#000000; stroke-width:4; stroke-opacity:1; fill:none\" points=\"\n",
       "  165.12,867.493 191.371,867.493 \n",
       "  \"/>\n",
       "<polyline clip-path=\"url(#clip630)\" style=\"stroke:#000000; stroke-width:4; stroke-opacity:1; fill:none\" points=\"\n",
       "  165.12,756.046 191.371,756.046 \n",
       "  \"/>\n",
       "<polyline clip-path=\"url(#clip630)\" style=\"stroke:#000000; stroke-width:4; stroke-opacity:1; fill:none\" points=\"\n",
       "  165.12,644.599 191.371,644.599 \n",
       "  \"/>\n",
       "<polyline clip-path=\"url(#clip630)\" style=\"stroke:#000000; stroke-width:4; stroke-opacity:1; fill:none\" points=\"\n",
       "  165.12,533.152 191.371,533.152 \n",
       "  \"/>\n",
       "<polyline clip-path=\"url(#clip630)\" style=\"stroke:#000000; stroke-width:4; stroke-opacity:1; fill:none\" points=\"\n",
       "  165.12,421.705 191.371,421.705 \n",
       "  \"/>\n",
       "<polyline clip-path=\"url(#clip630)\" style=\"stroke:#000000; stroke-width:4; stroke-opacity:1; fill:none\" points=\"\n",
       "  165.12,310.259 191.371,310.259 \n",
       "  \"/>\n",
       "<polyline clip-path=\"url(#clip630)\" style=\"stroke:#000000; stroke-width:4; stroke-opacity:1; fill:none\" points=\"\n",
       "  165.12,198.812 191.371,198.812 \n",
       "  \"/>\n",
       "<polyline clip-path=\"url(#clip630)\" style=\"stroke:#000000; stroke-width:4; stroke-opacity:1; fill:none\" points=\"\n",
       "  165.12,87.365 191.371,87.365 \n",
       "  \"/>\n",
       "<polyline clip-path=\"url(#clip630)\" style=\"stroke:#000000; stroke-width:4; stroke-opacity:1; fill:none\" points=\"\n",
       "  165.12,-24.0819 191.371,-24.0819 \n",
       "  \"/>\n",
       "<polyline clip-path=\"url(#clip630)\" style=\"stroke:#000000; stroke-width:4; stroke-opacity:1; fill:none\" points=\"\n",
       "  165.12,-135.529 191.371,-135.529 \n",
       "  \"/>\n",
       "<polyline clip-path=\"url(#clip630)\" style=\"stroke:#000000; stroke-width:4; stroke-opacity:1; fill:none\" points=\"\n",
       "  165.12,-246.976 191.371,-246.976 \n",
       "  \"/>\n",
       "<path clip-path=\"url(#clip630)\" d=\"M 0 0 M96.7702 1334.97 L109.183 1334.97 L109.183 1292.12 L95.6794 1294.83 L95.6794 1287.91 L109.108 1285.2 L116.706 1285.2 L116.706 1334.97 L129.12 1334.97 L129.12 1341.36 L96.7702 1341.36 L96.7702 1334.97 Z\" fill=\"#000000\" fill-rule=\"evenodd\" fill-opacity=\"1\" /><path clip-path=\"url(#clip630)\" d=\"M 0 0 M102.601 1223.52 L129.12 1223.52 L129.12 1229.91 L93.4601 1229.91 L93.4601 1223.52 Q97.7859 1219.04 105.234 1211.52 Q112.719 1203.96 114.638 1201.78 Q118.286 1197.68 119.716 1194.86 Q121.183 1192 121.183 1189.25 Q121.183 1184.77 118.023 1181.95 Q114.901 1179.13 109.86 1179.13 Q106.287 1179.13 102.3 1180.37 Q98.3501 1181.61 93.8362 1184.14 L93.8362 1176.46 Q98.4253 1174.62 102.413 1173.68 Q106.4 1172.74 109.71 1172.74 Q118.437 1172.74 123.628 1177.1 Q128.819 1181.46 128.819 1188.76 Q128.819 1192.22 127.502 1195.34 Q126.223 1198.43 122.8 1202.64 Q121.86 1203.73 116.819 1208.96 Q111.779 1214.15 102.601 1223.52 Z\" fill=\"#000000\" fill-rule=\"evenodd\" fill-opacity=\"1\" /><path clip-path=\"url(#clip630)\" d=\"M 0 0 M117.534 1088.19 Q122.988 1089.35 126.035 1093.04 Q129.12 1096.72 129.12 1102.14 Q129.12 1110.45 123.402 1115.01 Q117.684 1119.56 107.152 1119.56 Q103.616 1119.56 99.8547 1118.84 Q96.1308 1118.17 92.1435 1116.77 L92.1435 1109.44 Q95.3032 1111.28 99.0648 1112.22 Q102.826 1113.16 106.926 1113.16 Q114.073 1113.16 117.797 1110.34 Q121.559 1107.52 121.559 1102.14 Q121.559 1097.18 118.061 1094.39 Q114.6 1091.57 108.393 1091.57 L101.848 1091.57 L101.848 1085.33 L108.694 1085.33 Q114.299 1085.33 117.271 1083.11 Q120.242 1080.85 120.242 1076.64 Q120.242 1072.31 117.158 1070.02 Q114.111 1067.69 108.393 1067.69 Q105.271 1067.69 101.698 1068.36 Q98.1244 1069.04 93.8362 1070.47 L93.8362 1063.7 Q98.162 1062.49 101.924 1061.89 Q105.723 1061.29 109.071 1061.29 Q117.722 1061.29 122.763 1065.24 Q127.803 1069.15 127.803 1075.85 Q127.803 1080.51 125.132 1083.75 Q122.462 1086.94 117.534 1088.19 Z\" fill=\"#000000\" fill-rule=\"evenodd\" fill-opacity=\"1\" /><path clip-path=\"url(#clip630)\" d=\"M 0 0 M113.547 957.48 L94.3628 987.46 L113.547 987.46 L113.547 957.48 M111.553 950.86 L121.107 950.86 L121.107 987.46 L129.12 987.46 L129.12 993.779 L121.107 993.779 L121.107 1007.02 L113.547 1007.02 L113.547 993.779 L88.1939 993.779 L88.1939 986.444 L111.553 950.86 Z\" fill=\"#000000\" fill-rule=\"evenodd\" fill-opacity=\"1\" /><path clip-path=\"url(#clip630)\" d=\"M 0 0 M95.1528 839.413 L124.982 839.413 L124.982 845.807 L102.112 845.807 L102.112 859.575 Q103.767 859.011 105.422 858.747 Q107.077 858.446 108.732 858.446 Q118.136 858.446 123.628 863.6 Q129.12 868.753 129.12 877.555 Q129.12 886.62 123.477 891.661 Q117.835 896.664 107.566 896.664 Q104.03 896.664 100.344 896.062 Q96.695 895.46 92.783 894.256 L92.783 886.62 Q96.1684 888.463 99.7795 889.366 Q103.391 890.269 107.415 890.269 Q113.923 890.269 117.722 886.846 Q121.521 883.423 121.521 877.555 Q121.521 871.687 117.722 868.264 Q113.923 864.841 107.415 864.841 Q104.369 864.841 101.322 865.518 Q98.3125 866.195 95.1528 867.624 L95.1528 839.413 Z\" fill=\"#000000\" fill-rule=\"evenodd\" fill-opacity=\"1\" /><path clip-path=\"url(#clip630)\" d=\"M 0 0 M110.387 753.018 Q105.271 753.018 102.262 756.516 Q99.2905 760.014 99.2905 766.108 Q99.2905 772.164 102.262 775.7 Q105.271 779.198 110.387 779.198 Q115.503 779.198 118.474 775.7 Q121.484 772.164 121.484 766.108 Q121.484 760.014 118.474 756.516 Q115.503 753.018 110.387 753.018 M125.471 729.207 L125.471 736.129 Q122.612 734.774 119.678 734.06 Q116.782 733.345 113.923 733.345 Q106.4 733.345 102.413 738.423 Q98.4629 743.501 97.8987 753.77 Q100.118 750.498 103.466 748.767 Q106.814 746.999 110.838 746.999 Q119.302 746.999 124.192 752.153 Q129.12 757.268 129.12 766.108 Q129.12 774.76 124.004 779.988 Q118.888 785.217 110.387 785.217 Q100.645 785.217 95.4913 777.769 Q90.338 770.283 90.338 756.102 Q90.338 742.787 96.6574 734.887 Q102.977 726.95 113.622 726.95 Q116.481 726.95 119.377 727.515 Q122.311 728.079 125.471 729.207 Z\" fill=\"#000000\" fill-rule=\"evenodd\" fill-opacity=\"1\" /><path clip-path=\"url(#clip630)\" d=\"M 0 0 M93.0087 616.519 L129.12 616.519 L129.12 619.754 L108.732 672.679 L100.795 672.679 L119.979 622.914 L93.0087 622.914 L93.0087 616.519 Z\" fill=\"#000000\" fill-rule=\"evenodd\" fill-opacity=\"1\" /><path clip-path=\"url(#clip630)\" d=\"M 0 0 M109.86 534.563 Q104.444 534.563 101.322 537.459 Q98.2372 540.356 98.2372 545.434 Q98.2372 550.512 101.322 553.408 Q104.444 556.305 109.86 556.305 Q115.277 556.305 118.399 553.408 Q121.521 550.474 121.521 545.434 Q121.521 540.356 118.399 537.459 Q115.315 534.563 109.86 534.563 M102.262 531.328 Q97.3721 530.124 94.6262 526.776 Q91.9178 523.429 91.9178 518.614 Q91.9178 511.881 96.695 507.969 Q101.51 504.057 109.86 504.057 Q118.249 504.057 123.026 507.969 Q127.803 511.881 127.803 518.614 Q127.803 523.429 125.057 526.776 Q122.349 530.124 117.496 531.328 Q122.988 532.607 126.035 536.331 Q129.12 540.055 129.12 545.434 Q129.12 553.596 124.117 557.96 Q119.151 562.323 109.86 562.323 Q100.569 562.323 95.5665 557.96 Q90.6013 553.596 90.6013 545.434 Q90.6013 540.055 93.6858 536.331 Q96.7702 532.607 102.262 531.328 M99.4786 519.329 Q99.4786 523.692 102.187 526.137 Q104.933 528.582 109.86 528.582 Q114.75 528.582 117.496 526.137 Q120.28 523.692 120.28 519.329 Q120.28 514.965 117.496 512.52 Q114.75 510.075 109.86 510.075 Q104.933 510.075 102.187 512.52 Q99.4786 514.965 99.4786 519.329 Z\" fill=\"#000000\" fill-rule=\"evenodd\" fill-opacity=\"1\" /><path clip-path=\"url(#clip630)\" d=\"M 0 0 M93.9867 448.619 L93.9867 441.698 Q96.8455 443.052 99.7795 443.767 Q102.713 444.482 105.535 444.482 Q113.058 444.482 117.007 439.441 Q120.995 434.363 121.559 424.056 Q119.377 427.291 116.029 429.022 Q112.682 430.752 108.619 430.752 Q100.193 430.752 95.2656 425.674 Q90.3756 420.558 90.3756 411.719 Q90.3756 403.067 95.4913 397.838 Q100.607 392.61 109.108 392.61 Q118.851 392.61 123.966 400.095 Q129.12 407.543 129.12 421.762 Q129.12 435.04 122.8 442.977 Q116.518 450.876 105.873 450.876 Q103.014 450.876 100.08 450.312 Q97.1464 449.748 93.9867 448.619 M109.108 424.809 Q114.224 424.809 117.195 421.311 Q120.205 417.812 120.205 411.719 Q120.205 405.662 117.195 402.164 Q114.224 398.628 109.108 398.628 Q103.992 398.628 100.983 402.164 Q98.0115 405.662 98.0115 411.719 Q98.0115 417.812 100.983 421.311 Q103.992 424.809 109.108 424.809 Z\" fill=\"#000000\" fill-rule=\"evenodd\" fill-opacity=\"1\" /><path clip-path=\"url(#clip630)\" d=\"M 0 0 M52.8729 331.944 L65.286 331.944 L65.286 289.1 L51.7821 291.808 L51.7821 284.887 L65.2108 282.179 L72.8091 282.179 L72.8091 331.944 L85.2223 331.944 L85.2223 338.339 L52.8729 338.339 L52.8729 331.944 Z\" fill=\"#000000\" fill-rule=\"evenodd\" fill-opacity=\"1\" /><path clip-path=\"url(#clip630)\" d=\"M 0 0 M109.71 287.181 Q103.842 287.181 100.87 292.974 Q97.9363 298.729 97.9363 310.315 Q97.9363 321.863 100.87 327.656 Q103.842 333.411 109.71 333.411 Q115.616 333.411 118.55 327.656 Q121.521 321.863 121.521 310.315 Q121.521 298.729 118.55 292.974 Q115.616 287.181 109.71 287.181 M109.71 281.163 Q119.151 281.163 124.117 288.649 Q129.12 296.096 129.12 310.315 Q129.12 324.496 124.117 331.982 Q119.151 339.429 109.71 339.429 Q100.268 339.429 95.2656 331.982 Q90.3004 324.496 90.3004 310.315 Q90.3004 296.096 95.2656 288.649 Q100.268 281.163 109.71 281.163 Z\" fill=\"#000000\" fill-rule=\"evenodd\" fill-opacity=\"1\" /><path clip-path=\"url(#clip630)\" d=\"M 0 0 M54.8665 220.497 L67.2797 220.497 L67.2797 177.653 L53.7757 180.361 L53.7757 173.44 L67.2044 170.732 L74.8028 170.732 L74.8028 220.497 L87.2159 220.497 L87.2159 226.892 L54.8665 226.892 L54.8665 220.497 Z\" fill=\"#000000\" fill-rule=\"evenodd\" fill-opacity=\"1\" /><path clip-path=\"url(#clip630)\" d=\"M 0 0 M96.7702 220.497 L109.183 220.497 L109.183 177.653 L95.6794 180.361 L95.6794 173.44 L109.108 170.732 L116.706 170.732 L116.706 220.497 L129.12 220.497 L129.12 226.892 L96.7702 226.892 L96.7702 220.497 Z\" fill=\"#000000\" fill-rule=\"evenodd\" fill-opacity=\"1\" /><path clip-path=\"url(#clip630)\" d=\"M 0 0 M55.4684 109.05 L67.8815 109.05 L67.8815 66.2062 L54.3775 68.9145 L54.3775 61.9933 L67.8063 59.285 L75.4046 59.285 L75.4046 109.05 L87.8177 109.05 L87.8177 115.445 L55.4684 115.445 L55.4684 109.05 Z\" fill=\"#000000\" fill-rule=\"evenodd\" fill-opacity=\"1\" /><path clip-path=\"url(#clip630)\" d=\"M 0 0 M102.601 109.05 L129.12 109.05 L129.12 115.445 L93.4601 115.445 L93.4601 109.05 Q97.7859 104.574 105.234 97.051 Q112.719 89.4902 114.638 87.3085 Q118.286 83.2084 119.716 80.3873 Q121.183 77.5285 121.183 74.7826 Q121.183 70.3063 118.023 67.4851 Q114.901 64.664 109.86 64.664 Q106.287 64.664 102.3 65.9053 Q98.3501 67.1466 93.8362 69.6668 L93.8362 61.9933 Q98.4253 60.1501 102.413 59.2097 Q106.4 58.2693 109.71 58.2693 Q118.437 58.2693 123.628 62.6327 Q128.819 66.9961 128.819 74.2936 Q128.819 77.7542 127.502 80.8763 Q126.223 83.9607 122.8 88.1737 Q121.86 89.2645 116.819 94.4931 Q111.779 99.684 102.601 109.05 Z\" fill=\"#000000\" fill-rule=\"evenodd\" fill-opacity=\"1\" /><path clip-path=\"url(#clip630)\" d=\"M 0 0 M53.9261 -2.39652 L66.3393 -2.39652 L66.3393 -45.2406 L52.8353 -42.5323 L52.8353 -49.4536 L66.264 -52.1619 L73.8624 -52.1619 L73.8624 -2.39652 L86.2755 -2.39652 L86.2755 3.99812 L53.9261 3.99812 L53.9261 -2.39652 Z\" fill=\"#000000\" fill-rule=\"evenodd\" fill-opacity=\"1\" /><path clip-path=\"url(#clip630)\" d=\"M 0 0 M117.534 -26.2824 Q122.988 -25.1163 126.035 -21.43 Q129.12 -17.7437 129.12 -12.327 Q129.12 -4.01399 123.402 0.537489 Q117.684 5.08897 107.152 5.08897 Q103.616 5.08897 99.8547 4.37427 Q96.1308 3.69719 92.1435 2.30542 L92.1435 -5.02961 Q95.3032 -3.18645 99.0648 -2.24606 Q102.826 -1.30567 106.926 -1.30567 Q114.073 -1.30567 117.797 -4.12684 Q121.559 -6.948 121.559 -12.327 Q121.559 -17.2923 118.061 -20.0758 Q114.6 -22.897 108.393 -22.897 L101.848 -22.897 L101.848 -29.1412 L108.694 -29.1412 Q114.299 -29.1412 117.271 -31.3605 Q120.242 -33.6174 120.242 -37.8304 Q120.242 -42.1561 117.158 -44.4507 Q114.111 -46.7829 108.393 -46.7829 Q105.271 -46.7829 101.698 -46.1058 Q98.1244 -45.4287 93.8362 -43.9993 L93.8362 -50.7701 Q98.162 -51.9738 101.924 -52.5757 Q105.723 -53.1775 109.071 -53.1775 Q117.722 -53.1775 122.763 -49.2279 Q127.803 -45.3159 127.803 -38.6203 Q127.803 -33.956 125.132 -30.721 Q122.462 -27.5237 117.534 -26.2824 Z\" fill=\"#000000\" fill-rule=\"evenodd\" fill-opacity=\"1\" /><path clip-path=\"url(#clip630)\" d=\"M 0 0 M52.083 -113.843 L64.4961 -113.843 L64.4961 -156.687 L50.9921 -153.979 L50.9921 -160.9 L64.4209 -163.609 L72.0192 -163.609 L72.0192 -113.843 L84.4323 -113.843 L84.4323 -107.449 L52.083 -107.449 L52.083 -113.843 Z\" fill=\"#000000\" fill-rule=\"evenodd\" fill-opacity=\"1\" /><path clip-path=\"url(#clip630)\" d=\"M 0 0 M113.547 -156.988 L94.3628 -127.009 L113.547 -127.009 L113.547 -156.988 M111.553 -163.609 L121.107 -163.609 L121.107 -127.009 L129.12 -127.009 L129.12 -120.689 L121.107 -120.689 L121.107 -107.449 L113.547 -107.449 L113.547 -120.689 L88.1939 -120.689 L88.1939 -128.024 L111.553 -163.609 Z\" fill=\"#000000\" fill-rule=\"evenodd\" fill-opacity=\"1\" /><path clip-path=\"url(#clip630)\" d=\"M 0 0 M54.4904 -225.29 L66.9035 -225.29 L66.9035 -268.134 L53.3995 -265.426 L53.3995 -272.347 L66.8283 -275.056 L74.4266 -275.056 L74.4266 -225.29 L86.8397 -225.29 L86.8397 -218.896 L54.4904 -218.896 L54.4904 -225.29 Z\" fill=\"#000000\" fill-rule=\"evenodd\" fill-opacity=\"1\" /><path clip-path=\"url(#clip630)\" d=\"M 0 0 M95.1528 -275.056 L124.982 -275.056 L124.982 -268.661 L102.112 -268.661 L102.112 -254.894 Q103.767 -255.458 105.422 -255.721 Q107.077 -256.022 108.732 -256.022 Q118.136 -256.022 123.628 -250.869 Q129.12 -245.715 129.12 -236.913 Q129.12 -227.848 123.477 -222.808 Q117.835 -217.805 107.566 -217.805 Q104.03 -217.805 100.344 -218.407 Q96.695 -219.008 92.783 -220.212 L92.783 -227.848 Q96.1684 -226.005 99.7795 -225.102 Q103.391 -224.199 107.415 -224.199 Q113.923 -224.199 117.722 -227.622 Q121.521 -231.045 121.521 -236.913 Q121.521 -242.781 117.722 -246.204 Q113.923 -249.627 107.415 -249.627 Q104.369 -249.627 101.322 -248.95 Q98.3125 -248.273 95.1528 -246.844 L95.1528 -275.056 Z\" fill=\"#000000\" fill-rule=\"evenodd\" fill-opacity=\"1\" /><path clip-path=\"url(#clip632)\" d=\"\n",
       "M285.443 310.259 L285.443 1424.73 L934.44 1424.73 L934.44 310.259 L285.443 310.259 L285.443 310.259  Z\n",
       "  \" fill=\"#009af9\" fill-rule=\"evenodd\" fill-opacity=\"1\"/>\n",
       "<polyline clip-path=\"url(#clip632)\" style=\"stroke:#000000; stroke-width:4; stroke-opacity:1; fill:none\" points=\"\n",
       "  285.443,310.259 285.443,1424.73 934.44,1424.73 934.44,310.259 285.443,310.259 \n",
       "  \"/>\n",
       "<path clip-path=\"url(#clip632)\" d=\"\n",
       "M934.44 1090.39 L934.44 1424.73 L1583.44 1424.73 L1583.44 1090.39 L934.44 1090.39 L934.44 1090.39  Z\n",
       "  \" fill=\"#009af9\" fill-rule=\"evenodd\" fill-opacity=\"1\"/>\n",
       "<polyline clip-path=\"url(#clip632)\" style=\"stroke:#000000; stroke-width:4; stroke-opacity:1; fill:none\" points=\"\n",
       "  934.44,1090.39 934.44,1424.73 1583.44,1424.73 1583.44,1090.39 934.44,1090.39 \n",
       "  \"/>\n",
       "<path clip-path=\"url(#clip632)\" d=\"\n",
       "M1583.44 1313.28 L1583.44 1424.73 L2232.43 1424.73 L2232.43 1313.28 L1583.44 1313.28 L1583.44 1313.28  Z\n",
       "  \" fill=\"#009af9\" fill-rule=\"evenodd\" fill-opacity=\"1\"/>\n",
       "<polyline clip-path=\"url(#clip632)\" style=\"stroke:#000000; stroke-width:4; stroke-opacity:1; fill:none\" points=\"\n",
       "  1583.44,1313.28 1583.44,1424.73 2232.43,1424.73 2232.43,1313.28 1583.44,1313.28 \n",
       "  \"/>\n",
       "<path clip-path=\"url(#clip632)\" d=\"\n",
       "M285.443 87.365 L285.443 1424.73 L447.693 1424.73 L447.693 87.365 L285.443 87.365 L285.443 87.365  Z\n",
       "  \" fill=\"#e26f46\" fill-rule=\"evenodd\" fill-opacity=\"1\"/>\n",
       "<polyline clip-path=\"url(#clip632)\" style=\"stroke:#000000; stroke-width:4; stroke-opacity:1; fill:none\" points=\"\n",
       "  285.443,87.365 285.443,1424.73 447.693,1424.73 447.693,87.365 285.443,87.365 \n",
       "  \"/>\n",
       "<path clip-path=\"url(#clip632)\" d=\"\n",
       "M447.693 1424.73 L447.693 1424.73 L609.942 1424.73 L609.942 1424.73 L447.693 1424.73 L447.693 1424.73  Z\n",
       "  \" fill=\"#e26f46\" fill-rule=\"evenodd\" fill-opacity=\"1\"/>\n",
       "<polyline clip-path=\"url(#clip632)\" style=\"stroke:#000000; stroke-width:4; stroke-opacity:1; fill:none\" points=\"\n",
       "  447.693,1424.73 447.693,1424.73 609.942,1424.73 447.693,1424.73 \n",
       "  \"/>\n",
       "<path clip-path=\"url(#clip632)\" d=\"\n",
       "M609.942 1201.83 L609.942 1424.73 L772.191 1424.73 L772.191 1201.83 L609.942 1201.83 L609.942 1201.83  Z\n",
       "  \" fill=\"#e26f46\" fill-rule=\"evenodd\" fill-opacity=\"1\"/>\n",
       "<polyline clip-path=\"url(#clip632)\" style=\"stroke:#000000; stroke-width:4; stroke-opacity:1; fill:none\" points=\"\n",
       "  609.942,1201.83 609.942,1424.73 772.191,1424.73 772.191,1201.83 609.942,1201.83 \n",
       "  \"/>\n",
       "<path clip-path=\"url(#clip632)\" d=\"\n",
       "M609.942 978.94 L609.942 1424.73 L934.44 1424.73 L934.44 978.94 L609.942 978.94 L609.942 978.94  Z\n",
       "  \" fill=\"#3da44d\" fill-rule=\"evenodd\" fill-opacity=\"1\"/>\n",
       "<polyline clip-path=\"url(#clip632)\" style=\"stroke:#000000; stroke-width:4; stroke-opacity:1; fill:none\" points=\"\n",
       "  609.942,978.94 609.942,1424.73 934.44,1424.73 934.44,978.94 609.942,978.94 \n",
       "  \"/>\n",
       "<path clip-path=\"url(#clip632)\" d=\"\n",
       "M934.44 867.493 L934.44 1424.73 L1258.94 1424.73 L1258.94 867.493 L934.44 867.493 L934.44 867.493  Z\n",
       "  \" fill=\"#3da44d\" fill-rule=\"evenodd\" fill-opacity=\"1\"/>\n",
       "<polyline clip-path=\"url(#clip632)\" style=\"stroke:#000000; stroke-width:4; stroke-opacity:1; fill:none\" points=\"\n",
       "  934.44,867.493 934.44,1424.73 1258.94,1424.73 1258.94,867.493 934.44,867.493 \n",
       "  \"/>\n",
       "<path clip-path=\"url(#clip632)\" d=\"\n",
       "M1258.94 978.94 L1258.94 1424.73 L1583.44 1424.73 L1583.44 978.94 L1258.94 978.94 L1258.94 978.94  Z\n",
       "  \" fill=\"#3da44d\" fill-rule=\"evenodd\" fill-opacity=\"1\"/>\n",
       "<polyline clip-path=\"url(#clip632)\" style=\"stroke:#000000; stroke-width:4; stroke-opacity:1; fill:none\" points=\"\n",
       "  1258.94,978.94 1258.94,1424.73 1583.44,1424.73 1583.44,978.94 1258.94,978.94 \n",
       "  \"/>\n",
       "<path clip-path=\"url(#clip632)\" d=\"\n",
       "M1583.44 1313.28 L1583.44 1424.73 L1907.93 1424.73 L1907.93 1313.28 L1583.44 1313.28 L1583.44 1313.28  Z\n",
       "  \" fill=\"#3da44d\" fill-rule=\"evenodd\" fill-opacity=\"1\"/>\n",
       "<polyline clip-path=\"url(#clip632)\" style=\"stroke:#000000; stroke-width:4; stroke-opacity:1; fill:none\" points=\"\n",
       "  1583.44,1313.28 1583.44,1424.73 1907.93,1424.73 1907.93,1313.28 1583.44,1313.28 \n",
       "  \"/>\n",
       "<path clip-path=\"url(#clip632)\" d=\"\n",
       "M609.942 1313.28 L609.942 1424.73 L934.44 1424.73 L934.44 1313.28 L609.942 1313.28 L609.942 1313.28  Z\n",
       "  \" fill=\"#c271d2\" fill-rule=\"evenodd\" fill-opacity=\"1\"/>\n",
       "<polyline clip-path=\"url(#clip632)\" style=\"stroke:#000000; stroke-width:4; stroke-opacity:1; fill:none\" points=\"\n",
       "  609.942,1313.28 609.942,1424.73 934.44,1424.73 934.44,1313.28 609.942,1313.28 \n",
       "  \"/>\n",
       "<path clip-path=\"url(#clip632)\" d=\"\n",
       "M934.44 1313.28 L934.44 1424.73 L1258.94 1424.73 L1258.94 1313.28 L934.44 1313.28 L934.44 1313.28  Z\n",
       "  \" fill=\"#c271d2\" fill-rule=\"evenodd\" fill-opacity=\"1\"/>\n",
       "<polyline clip-path=\"url(#clip632)\" style=\"stroke:#000000; stroke-width:4; stroke-opacity:1; fill:none\" points=\"\n",
       "  934.44,1313.28 934.44,1424.73 1258.94,1424.73 1258.94,1313.28 934.44,1313.28 \n",
       "  \"/>\n",
       "<path clip-path=\"url(#clip632)\" d=\"\n",
       "M1258.94 756.046 L1258.94 1424.73 L1583.44 1424.73 L1583.44 756.046 L1258.94 756.046 L1258.94 756.046  Z\n",
       "  \" fill=\"#c271d2\" fill-rule=\"evenodd\" fill-opacity=\"1\"/>\n",
       "<polyline clip-path=\"url(#clip632)\" style=\"stroke:#000000; stroke-width:4; stroke-opacity:1; fill:none\" points=\"\n",
       "  1258.94,756.046 1258.94,1424.73 1583.44,1424.73 1583.44,756.046 1258.94,756.046 \n",
       "  \"/>\n",
       "<path clip-path=\"url(#clip632)\" d=\"\n",
       "M1583.44 1090.39 L1583.44 1424.73 L1907.93 1424.73 L1907.93 1090.39 L1583.44 1090.39 L1583.44 1090.39  Z\n",
       "  \" fill=\"#c271d2\" fill-rule=\"evenodd\" fill-opacity=\"1\"/>\n",
       "<polyline clip-path=\"url(#clip632)\" style=\"stroke:#000000; stroke-width:4; stroke-opacity:1; fill:none\" points=\"\n",
       "  1583.44,1090.39 1583.44,1424.73 1907.93,1424.73 1907.93,1090.39 1583.44,1090.39 \n",
       "  \"/>\n",
       "<path clip-path=\"url(#clip632)\" d=\"\n",
       "M1907.93 1090.39 L1907.93 1424.73 L2232.43 1424.73 L2232.43 1090.39 L1907.93 1090.39 L1907.93 1090.39  Z\n",
       "  \" fill=\"#c271d2\" fill-rule=\"evenodd\" fill-opacity=\"1\"/>\n",
       "<polyline clip-path=\"url(#clip632)\" style=\"stroke:#000000; stroke-width:4; stroke-opacity:1; fill:none\" points=\"\n",
       "  1907.93,1090.39 1907.93,1424.73 2232.43,1424.73 2232.43,1090.39 1907.93,1090.39 \n",
       "  \"/>\n",
       "<path clip-path=\"url(#clip630)\" d=\"\n",
       "M1773.4 472.498 L2279.83 472.498 L2279.83 94.4976 L1773.4 94.4976  Z\n",
       "  \" fill=\"#ffffff\" fill-rule=\"evenodd\" fill-opacity=\"1\"/>\n",
       "<polyline clip-path=\"url(#clip630)\" style=\"stroke:#000000; stroke-width:4; stroke-opacity:1; fill:none\" points=\"\n",
       "  1773.4,472.498 2279.83,472.498 2279.83,94.4976 1773.4,94.4976 1773.4,472.498 \n",
       "  \"/>\n",
       "<path clip-path=\"url(#clip630)\" d=\"\n",
       "M1797.7 200.338 L1943.55 200.338 L1943.55 139.858 L1797.7 139.858 L1797.7 200.338  Z\n",
       "  \" fill=\"#009af9\" fill-rule=\"evenodd\" fill-opacity=\"1\"/>\n",
       "<polyline clip-path=\"url(#clip630)\" style=\"stroke:#000000; stroke-width:4; stroke-opacity:1; fill:none\" points=\"\n",
       "  1797.7,200.338 1943.55,200.338 1943.55,139.858 1797.7,139.858 1797.7,200.338 \n",
       "  \"/>\n",
       "<path clip-path=\"url(#clip630)\" d=\"M 0 0 M1989.06 176.622 L1987.79 169.938 Q1986.49 163.081 1981.34 163.081 Q1977.46 163.081 1975.7 166.264 Q1973.47 170.257 1973.47 175.523 Q1973.47 181.889 1975.64 184.927 Q1977.84 188.023 1981.34 188.023 Q1985.21 188.023 1987.3 181.86 L1989.06 176.622 M1992.04 167.768 L1994.91 159.29 L1999.65 159.29 L1993.72 176.854 L1994.88 183.191 Q1995.14 184.608 1996.15 185.795 Q1997.34 187.184 1998.26 187.184 L2000.81 187.184 L2000.81 191.698 L1997.63 191.698 Q1994.91 191.698 1992.48 189.267 Q1991.29 188.052 1990.8 185.505 Q1989.47 188.717 1986.75 191.235 Q1985.48 192.421 1981.34 192.421 Q1974.54 192.421 1971.24 188.023 Q1967.85 183.48 1967.85 175.523 Q1967.85 167.016 1971.53 163.023 Q1975.61 158.567 1981.34 158.567 Q1990.34 158.567 1992.04 167.768 Z\" fill=\"#000000\" fill-rule=\"evenodd\" fill-opacity=\"1\" /><path clip-path=\"url(#clip630)\" d=\"M 0 0 M2007.09 164.788 L2044.18 164.788 L2044.18 169.649 L2007.09 169.649 L2007.09 164.788 M2007.09 176.593 L2044.18 176.593 L2044.18 181.512 L2007.09 181.512 L2007.09 176.593 Z\" fill=\"#000000\" fill-rule=\"evenodd\" fill-opacity=\"1\" /><path clip-path=\"url(#clip630)\" d=\"M 0 0 M2050.69 190.801 L2050.69 185.477 Q2052.89 186.518 2055.15 187.068 Q2057.41 187.618 2059.58 187.618 Q2065.36 187.618 2068.4 183.74 Q2071.47 179.834 2071.9 171.906 Q2070.23 174.394 2067.65 175.725 Q2065.08 177.056 2061.95 177.056 Q2055.47 177.056 2051.68 173.15 Q2047.92 169.215 2047.92 162.415 Q2047.92 155.76 2051.85 151.738 Q2055.79 147.716 2062.33 147.716 Q2069.82 147.716 2073.76 153.474 Q2077.72 159.204 2077.72 170.141 Q2077.72 180.355 2072.86 186.46 Q2068.03 192.537 2059.84 192.537 Q2057.64 192.537 2055.38 192.103 Q2053.13 191.669 2050.69 190.801 M2062.33 172.485 Q2066.26 172.485 2068.55 169.794 Q2070.86 167.103 2070.86 162.415 Q2070.86 157.757 2068.55 155.066 Q2066.26 152.346 2062.33 152.346 Q2058.39 152.346 2056.08 155.066 Q2053.79 157.757 2053.79 162.415 Q2053.79 167.103 2056.08 169.794 Q2058.39 172.485 2062.33 172.485 Z\" fill=\"#000000\" fill-rule=\"evenodd\" fill-opacity=\"1\" /><path clip-path=\"url(#clip630)\" d=\"M 0 0 M2084.11 148.498 L2107.06 148.498 L2107.06 153.417 L2089.47 153.417 L2089.47 164.007 Q2090.74 163.573 2092.01 163.37 Q2093.29 163.139 2094.56 163.139 Q2101.79 163.139 2106.02 167.103 Q2110.24 171.067 2110.24 177.838 Q2110.24 184.811 2105.9 188.688 Q2101.56 192.537 2093.66 192.537 Q2090.94 192.537 2088.11 192.074 Q2085.3 191.611 2082.29 190.685 L2082.29 184.811 Q2084.9 186.229 2087.67 186.923 Q2090.45 187.618 2093.55 187.618 Q2098.55 187.618 2101.48 184.985 Q2104.4 182.352 2104.4 177.838 Q2104.4 173.324 2101.48 170.691 Q2098.55 168.058 2093.55 168.058 Q2091.2 168.058 2088.86 168.578 Q2086.55 169.099 2084.11 170.199 L2084.11 148.498 Z\" fill=\"#000000\" fill-rule=\"evenodd\" fill-opacity=\"1\" /><path clip-path=\"url(#clip630)\" d=\"M 0 0 M2125.29 148.498 L2130.21 148.498 L2115.16 197.195 L2110.24 197.195 L2125.29 148.498 Z\" fill=\"#000000\" fill-rule=\"evenodd\" fill-opacity=\"1\" /><path clip-path=\"url(#clip630)\" d=\"M 0 0 M2137.56 186.779 L2147.11 186.779 L2147.11 153.822 L2136.72 155.905 L2136.72 150.581 L2147.05 148.498 L2152.89 148.498 L2152.89 186.779 L2162.44 186.779 L2162.44 191.698 L2137.56 191.698 L2137.56 186.779 Z\" fill=\"#000000\" fill-rule=\"evenodd\" fill-opacity=\"1\" /><path clip-path=\"url(#clip630)\" d=\"M 0 0 M2181.28 152.346 Q2176.76 152.346 2174.48 156.802 Q2172.22 161.229 2172.22 170.141 Q2172.22 179.024 2174.48 183.48 Q2176.76 187.907 2181.28 187.907 Q2185.82 187.907 2188.08 183.48 Q2190.36 179.024 2190.36 170.141 Q2190.36 161.229 2188.08 156.802 Q2185.82 152.346 2181.28 152.346 M2181.28 147.716 Q2188.54 147.716 2192.36 153.474 Q2196.21 159.204 2196.21 170.141 Q2196.21 181.049 2192.36 186.808 Q2188.54 192.537 2181.28 192.537 Q2174.02 192.537 2170.17 186.808 Q2166.35 181.049 2166.35 170.141 Q2166.35 159.204 2170.17 153.474 Q2174.02 147.716 2181.28 147.716 Z\" fill=\"#000000\" fill-rule=\"evenodd\" fill-opacity=\"1\" /><path clip-path=\"url(#clip630)\" d=\"M 0 0 M2215.05 152.346 Q2210.53 152.346 2208.25 156.802 Q2205.99 161.229 2205.99 170.141 Q2205.99 179.024 2208.25 183.48 Q2210.53 187.907 2215.05 187.907 Q2219.59 187.907 2221.85 183.48 Q2224.13 179.024 2224.13 170.141 Q2224.13 161.229 2221.85 156.802 Q2219.59 152.346 2215.05 152.346 M2215.05 147.716 Q2222.31 147.716 2226.13 153.474 Q2229.98 159.204 2229.98 170.141 Q2229.98 181.049 2226.13 186.808 Q2222.31 192.537 2215.05 192.537 Q2207.78 192.537 2203.93 186.808 Q2200.12 181.049 2200.12 170.141 Q2200.12 159.204 2203.93 153.474 Q2207.78 147.716 2215.05 147.716 Z\" fill=\"#000000\" fill-rule=\"evenodd\" fill-opacity=\"1\" /><path clip-path=\"url(#clip630)\" d=\"\n",
       "M1797.7 275.938 L1943.55 275.938 L1943.55 215.458 L1797.7 215.458 L1797.7 275.938  Z\n",
       "  \" fill=\"#e26f46\" fill-rule=\"evenodd\" fill-opacity=\"1\"/>\n",
       "<polyline clip-path=\"url(#clip630)\" style=\"stroke:#000000; stroke-width:4; stroke-opacity:1; fill:none\" points=\"\n",
       "  1797.7,275.938 1943.55,275.938 1943.55,215.458 1797.7,215.458 1797.7,275.938 \n",
       "  \"/>\n",
       "<path clip-path=\"url(#clip630)\" d=\"M 0 0 M1989.06 252.222 L1987.79 245.538 Q1986.49 238.681 1981.34 238.681 Q1977.46 238.681 1975.7 241.864 Q1973.47 245.857 1973.47 251.123 Q1973.47 257.489 1975.64 260.527 Q1977.84 263.623 1981.34 263.623 Q1985.21 263.623 1987.3 257.46 L1989.06 252.222 M1992.04 243.368 L1994.91 234.89 L1999.65 234.89 L1993.72 252.454 L1994.88 258.791 Q1995.14 260.208 1996.15 261.395 Q1997.34 262.784 1998.26 262.784 L2000.81 262.784 L2000.81 267.298 L1997.63 267.298 Q1994.91 267.298 1992.48 264.867 Q1991.29 263.652 1990.8 261.105 Q1989.47 264.317 1986.75 266.835 Q1985.48 268.021 1981.34 268.021 Q1974.54 268.021 1971.24 263.623 Q1967.85 259.08 1967.85 251.123 Q1967.85 242.616 1971.53 238.623 Q1975.61 234.167 1981.34 234.167 Q1990.34 234.167 1992.04 243.368 Z\" fill=\"#000000\" fill-rule=\"evenodd\" fill-opacity=\"1\" /><path clip-path=\"url(#clip630)\" d=\"M 0 0 M2007.09 240.388 L2044.18 240.388 L2044.18 245.249 L2007.09 245.249 L2007.09 240.388 M2007.09 252.193 L2044.18 252.193 L2044.18 257.112 L2007.09 257.112 L2007.09 252.193 Z\" fill=\"#000000\" fill-rule=\"evenodd\" fill-opacity=\"1\" /><path clip-path=\"url(#clip630)\" d=\"M 0 0 M2050.69 266.401 L2050.69 261.077 Q2052.89 262.118 2055.15 262.668 Q2057.41 263.218 2059.58 263.218 Q2065.36 263.218 2068.4 259.34 Q2071.47 255.434 2071.9 247.506 Q2070.23 249.994 2067.65 251.325 Q2065.08 252.656 2061.95 252.656 Q2055.47 252.656 2051.68 248.75 Q2047.92 244.815 2047.92 238.015 Q2047.92 231.36 2051.85 227.338 Q2055.79 223.316 2062.33 223.316 Q2069.82 223.316 2073.76 229.074 Q2077.72 234.804 2077.72 245.741 Q2077.72 255.955 2072.86 262.06 Q2068.03 268.137 2059.84 268.137 Q2057.64 268.137 2055.38 267.703 Q2053.13 267.269 2050.69 266.401 M2062.33 248.085 Q2066.26 248.085 2068.55 245.394 Q2070.86 242.703 2070.86 238.015 Q2070.86 233.357 2068.55 230.666 Q2066.26 227.946 2062.33 227.946 Q2058.39 227.946 2056.08 230.666 Q2053.79 233.357 2053.79 238.015 Q2053.79 242.703 2056.08 245.394 Q2058.39 248.085 2062.33 248.085 Z\" fill=\"#000000\" fill-rule=\"evenodd\" fill-opacity=\"1\" /><path clip-path=\"url(#clip630)\" d=\"M 0 0 M2096.56 227.946 Q2092.04 227.946 2089.76 232.402 Q2087.5 236.829 2087.5 245.741 Q2087.5 254.624 2089.76 259.08 Q2092.04 263.507 2096.56 263.507 Q2101.1 263.507 2103.36 259.08 Q2105.64 254.624 2105.64 245.741 Q2105.64 236.829 2103.36 232.402 Q2101.1 227.946 2096.56 227.946 M2096.56 223.316 Q2103.82 223.316 2107.64 229.074 Q2111.49 234.804 2111.49 245.741 Q2111.49 256.649 2107.64 262.408 Q2103.82 268.137 2096.56 268.137 Q2089.29 268.137 2085.45 262.408 Q2081.63 256.649 2081.63 245.741 Q2081.63 234.804 2085.45 229.074 Q2089.29 223.316 2096.56 223.316 Z\" fill=\"#000000\" fill-rule=\"evenodd\" fill-opacity=\"1\" /><path clip-path=\"url(#clip630)\" d=\"M 0 0 M2126.53 224.098 L2131.45 224.098 L2116.41 272.795 L2111.49 272.795 L2126.53 224.098 Z\" fill=\"#000000\" fill-rule=\"evenodd\" fill-opacity=\"1\" /><path clip-path=\"url(#clip630)\" d=\"M 0 0 M2138.8 262.379 L2148.35 262.379 L2148.35 229.422 L2137.96 231.505 L2137.96 226.181 L2148.29 224.098 L2154.14 224.098 L2154.14 262.379 L2163.69 262.379 L2163.69 267.298 L2138.8 267.298 L2138.8 262.379 Z\" fill=\"#000000\" fill-rule=\"evenodd\" fill-opacity=\"1\" /><path clip-path=\"url(#clip630)\" d=\"M 0 0 M2182.52 227.946 Q2178.01 227.946 2175.72 232.402 Q2173.47 236.829 2173.47 245.741 Q2173.47 254.624 2175.72 259.08 Q2178.01 263.507 2182.52 263.507 Q2187.07 263.507 2189.32 259.08 Q2191.61 254.624 2191.61 245.741 Q2191.61 236.829 2189.32 232.402 Q2187.07 227.946 2182.52 227.946 M2182.52 223.316 Q2189.79 223.316 2193.61 229.074 Q2197.45 234.804 2197.45 245.741 Q2197.45 256.649 2193.61 262.408 Q2189.79 268.137 2182.52 268.137 Q2175.26 268.137 2171.41 262.408 Q2167.59 256.649 2167.59 245.741 Q2167.59 234.804 2171.41 229.074 Q2175.26 223.316 2182.52 223.316 Z\" fill=\"#000000\" fill-rule=\"evenodd\" fill-opacity=\"1\" /><path clip-path=\"url(#clip630)\" d=\"M 0 0 M2216.29 227.946 Q2211.78 227.946 2209.49 232.402 Q2207.23 236.829 2207.23 245.741 Q2207.23 254.624 2209.49 259.08 Q2211.78 263.507 2216.29 263.507 Q2220.83 263.507 2223.09 259.08 Q2225.38 254.624 2225.38 245.741 Q2225.38 236.829 2223.09 232.402 Q2220.83 227.946 2216.29 227.946 M2216.29 223.316 Q2223.55 223.316 2227.37 229.074 Q2231.22 234.804 2231.22 245.741 Q2231.22 256.649 2227.37 262.408 Q2223.55 268.137 2216.29 268.137 Q2209.03 268.137 2205.18 262.408 Q2201.36 256.649 2201.36 245.741 Q2201.36 234.804 2205.18 229.074 Q2209.03 223.316 2216.29 223.316 Z\" fill=\"#000000\" fill-rule=\"evenodd\" fill-opacity=\"1\" /><path clip-path=\"url(#clip630)\" d=\"\n",
       "M1797.7 351.538 L1943.55 351.538 L1943.55 291.058 L1797.7 291.058 L1797.7 351.538  Z\n",
       "  \" fill=\"#3da44d\" fill-rule=\"evenodd\" fill-opacity=\"1\"/>\n",
       "<polyline clip-path=\"url(#clip630)\" style=\"stroke:#000000; stroke-width:4; stroke-opacity:1; fill:none\" points=\"\n",
       "  1797.7,351.538 1943.55,351.538 1943.55,291.058 1797.7,291.058 1797.7,351.538 \n",
       "  \"/>\n",
       "<path clip-path=\"url(#clip630)\" d=\"M 0 0 M1993.29 316.711 Q1995.28 313.123 1998.06 311.416 Q2000.84 309.709 2004.6 309.709 Q2009.67 309.709 2012.41 313.268 Q2015.16 316.798 2015.16 323.337 L2015.16 342.898 L2009.81 342.898 L2009.81 323.511 Q2009.81 318.853 2008.16 316.596 Q2006.51 314.339 2003.13 314.339 Q1998.99 314.339 1996.59 317.088 Q1994.18 319.836 1994.18 324.582 L1994.18 342.898 L1988.83 342.898 L1988.83 323.511 Q1988.83 318.824 1987.18 316.596 Q1985.53 314.339 1982.09 314.339 Q1978.01 314.339 1975.61 317.116 Q1973.21 319.865 1973.21 324.582 L1973.21 342.898 L1967.85 342.898 L1967.85 310.49 L1973.21 310.49 L1973.21 315.525 Q1975.03 312.545 1977.58 311.127 Q1980.12 309.709 1983.62 309.709 Q1987.15 309.709 1989.61 311.503 Q1992.1 313.297 1993.29 316.711 Z\" fill=\"#000000\" fill-rule=\"evenodd\" fill-opacity=\"1\" /><path clip-path=\"url(#clip630)\" d=\"M 0 0 M2039.21 319.605 Q2043.4 320.502 2045.75 323.337 Q2048.12 326.173 2048.12 330.34 Q2048.12 336.734 2043.72 340.236 Q2039.32 343.737 2031.22 343.737 Q2028.5 343.737 2025.61 343.187 Q2022.74 342.666 2019.68 341.595 L2019.68 335.953 Q2022.11 337.371 2025 338.094 Q2027.89 338.818 2031.05 338.818 Q2036.55 338.818 2039.41 336.648 Q2042.3 334.477 2042.3 330.34 Q2042.3 326.52 2039.61 324.379 Q2036.95 322.209 2032.18 322.209 L2027.14 322.209 L2027.14 317.406 L2032.41 317.406 Q2036.72 317.406 2039.01 315.699 Q2041.29 313.963 2041.29 310.722 Q2041.29 307.394 2038.92 305.629 Q2036.57 303.835 2032.18 303.835 Q2029.77 303.835 2027.03 304.356 Q2024.28 304.877 2020.98 305.976 L2020.98 300.768 Q2024.31 299.842 2027.2 299.379 Q2030.12 298.916 2032.7 298.916 Q2039.35 298.916 2043.23 301.954 Q2047.11 304.964 2047.11 310.114 Q2047.11 313.702 2045.05 316.191 Q2043 318.65 2039.21 319.605 Z\" fill=\"#000000\" fill-rule=\"evenodd\" fill-opacity=\"1\" /><path clip-path=\"url(#clip630)\" d=\"\n",
       "M1797.7 427.138 L1943.55 427.138 L1943.55 366.658 L1797.7 366.658 L1797.7 427.138  Z\n",
       "  \" fill=\"#c271d2\" fill-rule=\"evenodd\" fill-opacity=\"1\"/>\n",
       "<polyline clip-path=\"url(#clip630)\" style=\"stroke:#000000; stroke-width:4; stroke-opacity:1; fill:none\" points=\"\n",
       "  1797.7,427.138 1943.55,427.138 1943.55,366.658 1797.7,366.658 1797.7,427.138 \n",
       "  \"/>\n",
       "<path clip-path=\"url(#clip630)\" d=\"M 0 0 M1993.29 392.311 Q1995.28 388.723 1998.06 387.016 Q2000.84 385.309 2004.6 385.309 Q2009.67 385.309 2012.41 388.868 Q2015.16 392.398 2015.16 398.937 L2015.16 418.498 L2009.81 418.498 L2009.81 399.111 Q2009.81 394.453 2008.16 392.196 Q2006.51 389.939 2003.13 389.939 Q1998.99 389.939 1996.59 392.688 Q1994.18 395.436 1994.18 400.182 L1994.18 418.498 L1988.83 418.498 L1988.83 399.111 Q1988.83 394.424 1987.18 392.196 Q1985.53 389.939 1982.09 389.939 Q1978.01 389.939 1975.61 392.716 Q1973.21 395.465 1973.21 400.182 L1973.21 418.498 L1967.85 418.498 L1967.85 386.09 L1973.21 386.09 L1973.21 391.125 Q1975.03 388.145 1977.58 386.727 Q1980.12 385.309 1983.62 385.309 Q1987.15 385.309 1989.61 387.103 Q1992.1 388.897 1993.29 392.311 Z\" fill=\"#000000\" fill-rule=\"evenodd\" fill-opacity=\"1\" /><path clip-path=\"url(#clip630)\" d=\"M 0 0 M2026.53 413.579 L2046.93 413.579 L2046.93 418.498 L2019.5 418.498 L2019.5 413.579 Q2022.83 410.135 2028.56 404.348 Q2034.32 398.532 2035.79 396.854 Q2038.6 393.7 2039.7 391.53 Q2040.83 389.331 2040.83 387.219 Q2040.83 383.776 2038.4 381.605 Q2036 379.435 2032.12 379.435 Q2029.37 379.435 2026.3 380.39 Q2023.26 381.345 2019.79 383.284 L2019.79 377.381 Q2023.32 375.963 2026.39 375.24 Q2029.46 374.516 2032 374.516 Q2038.72 374.516 2042.71 377.873 Q2046.7 381.229 2046.7 386.843 Q2046.7 389.505 2045.69 391.906 Q2044.71 394.279 2042.07 397.52 Q2041.35 398.359 2037.47 402.381 Q2033.59 406.374 2026.53 413.579 Z\" fill=\"#000000\" fill-rule=\"evenodd\" fill-opacity=\"1\" /></svg>\n"
      ]
     },
     "execution_count": 38,
     "metadata": {},
     "output_type": "execute_result"
    }
   ],
   "source": [
    "([\n",
    "    [energia_local(ranks, corte95) for ranks in ranks_univs],\n",
    "    [energia_local(ranks, corte90) for ranks in ranks_univs],\n",
    "    [energia_local(ranks, poset_m3) for ranks in ranks_univs],\n",
    "    [energia_local(ranks, poset_m2) for ranks in ranks_univs]\n",
    "    ]) |> x -> histogram(x, #=bins=6,=# labels = [\"α=95/100\" \"α=90/100\" \"m3\" \"m2\"],yticks=(1:15, 1:15)\n",
    ",xtickfontsize=13,ytickfontsize=13,legendfontsize=10)"
   ]
  },
  {
   "cell_type": "code",
   "execution_count": null,
   "metadata": {},
   "outputs": [],
   "source": [
    "([\n",
    "    [energia_local(ranks, corte95) for ranks in ranks_univs],\n",
    "    [energia_local(ranks, corte90) for ranks in ranks_univs]\n",
    "    ]) |> x -> histogram(x, #=bins=6,=# labels = [\"α=95/100\" \"α=90/100\"],yticks=(1:15, 1:15)\n",
    ",xtickfontsize=13,ytickfontsize=13,legendfontsize=10)"
   ]
  },
  {
   "cell_type": "code",
   "execution_count": null,
   "metadata": {},
   "outputs": [],
   "source": [
    "    [energia_local(ranks, corte95) for ranks in ranks_univs]"
   ]
  },
  {
   "cell_type": "code",
   "execution_count": null,
   "metadata": {},
   "outputs": [],
   "source": [
    "corte90|>sum"
   ]
  },
  {
   "cell_type": "code",
   "execution_count": null,
   "metadata": {},
   "outputs": [],
   "source": [
    "corte95|>sum"
   ]
  },
  {
   "cell_type": "code",
   "execution_count": null,
   "metadata": {},
   "outputs": [],
   "source": [
    "corte90|> reduccion_transitiva|>sum"
   ]
  },
  {
   "cell_type": "code",
   "execution_count": null,
   "metadata": {},
   "outputs": [],
   "source": [
    "corte95|> reduccion_transitiva|>sum"
   ]
  },
  {
   "cell_type": "code",
   "execution_count": null,
   "metadata": {},
   "outputs": [],
   "source": [
    "    [energia_local(ranks, corte90|>reduccion_transitiva) for ranks in ranks_univs]"
   ]
  },
  {
   "cell_type": "code",
   "execution_count": null,
   "metadata": {},
   "outputs": [],
   "source": [
    "    [energia_local(ranks, corte95|>reduccion_transitiva) for ranks in ranks_univs]"
   ]
  },
  {
   "cell_type": "code",
   "execution_count": null,
   "metadata": {},
   "outputs": [],
   "source": [
    "αcut_poset([ 0 0.95 0.8; 0.2 0. 0.6; 0.9 0.7 0.], .8)"
   ]
  },
  {
   "cell_type": "code",
   "execution_count": null,
   "metadata": {},
   "outputs": [],
   "source": [
    "αcut_poset([ 0 0.95 0.8; 0.2 0. 0.6; 0.9 0.7 0.], .7)"
   ]
  },
  {
   "cell_type": "code",
   "execution_count": 3,
   "metadata": {},
   "outputs": [
    {
     "data": {
      "text/plain": [
       "3×4 Array{Float64,2}:\n",
       " 0.9  0.9  0.6  0.9\n",
       " 0.6  0.6  0.9  0.6\n",
       " 0.3  0.3  0.3  0.3"
      ]
     },
     "execution_count": 3,
     "metadata": {},
     "output_type": "execute_result"
    }
   ],
   "source": [
    "fakepunt = \n",
    "[.9 .9 .6 .9;\n",
    ".6 .6 .9 .6;\n",
    ".3 .3 .3 .3]"
   ]
  },
  {
   "cell_type": "code",
   "execution_count": 4,
   "metadata": {},
   "outputs": [
    {
     "data": {
      "text/plain": [
       "3×3 Array{Float64,2}:\n",
       " 1.0       0.888889  1.0\n",
       " 0.727273  1.0       1.0\n",
       " 0.363636  0.444444  1.0"
      ]
     },
     "execution_count": 4,
     "metadata": {},
     "output_type": "execute_result"
    }
   ],
   "source": [
    "fakeposet = fakepunt |> fuzzy"
   ]
  },
  {
   "cell_type": "code",
   "execution_count": 5,
   "metadata": {},
   "outputs": [],
   "source": [
    "using Combinatorics"
   ]
  },
  {
   "cell_type": "code",
   "execution_count": 18,
   "metadata": {},
   "outputs": [
    {
     "data": {
      "text/plain": [
       "6-element Array{Int64,1}:\n",
       " 0\n",
       " 0\n",
       " 0\n",
       " 1\n",
       " 1\n",
       " 0"
      ]
     },
     "execution_count": 18,
     "metadata": {},
     "output_type": "execute_result"
    }
   ],
   "source": [
    "[energia_local( r, αcut_poset(fakeposet, .4)) for r in collect(permutations(1:3))]"
   ]
  },
  {
   "cell_type": "code",
   "execution_count": 7,
   "metadata": {},
   "outputs": [
    {
     "data": {
      "text/plain": [
       "6-element Array{Int64,1}:\n",
       " 0\n",
       " 1\n",
       " 0\n",
       " 1\n",
       " 1\n",
       " 1"
      ]
     },
     "execution_count": 7,
     "metadata": {},
     "output_type": "execute_result"
    }
   ],
   "source": [
    "[energia_local( r, αcut_poset(fakeposet, .9)) for r in collect(permutations(1:3))]"
   ]
  },
  {
   "cell_type": "code",
   "execution_count": 10,
   "metadata": {},
   "outputs": [
    {
     "data": {
      "text/plain": [
       "3×3 Array{Float64,2}:\n",
       " 1.0       0.888889  1.0\n",
       " 0.727273  1.0       1.0\n",
       " 0.363636  0.444444  1.0"
      ]
     },
     "execution_count": 10,
     "metadata": {},
     "output_type": "execute_result"
    }
   ],
   "source": [
    "fakeposet"
   ]
  },
  {
   "cell_type": "code",
   "execution_count": 9,
   "metadata": {},
   "outputs": [
    {
     "data": {
      "text/plain": [
       "3×3 Array{Int64,2}:\n",
       " 0  0  1\n",
       " 0  0  1\n",
       " 0  0  0"
      ]
     },
     "execution_count": 9,
     "metadata": {},
     "output_type": "execute_result"
    }
   ],
   "source": [
    "αcut_poset(fakeposet, .9)"
   ]
  },
  {
   "cell_type": "code",
   "execution_count": 17,
   "metadata": {},
   "outputs": [
    {
     "data": {
      "text/plain": [
       "3×3 Array{Int64,2}:\n",
       " 0  0  1\n",
       " 0  0  0\n",
       " 0  0  0"
      ]
     },
     "execution_count": 17,
     "metadata": {},
     "output_type": "execute_result"
    }
   ],
   "source": [
    "αcut_poset(fakeposet, .4)"
   ]
  },
  {
   "cell_type": "code",
   "execution_count": null,
   "metadata": {},
   "outputs": [],
   "source": [
    "collect(permutations(1:3))"
   ]
  },
  {
   "cell_type": "code",
   "execution_count": null,
   "metadata": {},
   "outputs": [],
   "source": [
    "energia_local( [1,2,3], αcut_poset(fakeposet, .7))"
   ]
  },
  {
   "cell_type": "code",
   "execution_count": null,
   "metadata": {},
   "outputs": [],
   "source": [
    "energia_local( [1,2,3], αcut_poset(fakeposet, .9))"
   ]
  },
  {
   "cell_type": "code",
   "execution_count": null,
   "metadata": {},
   "outputs": [],
   "source": [
    "αcut_poset(fakeposet, .9)"
   ]
  },
  {
   "cell_type": "markdown",
   "metadata": {},
   "source": [
    "### Conclusión\n",
    "Los datos muestran que al usar valores altos de $\\alpha$ se tiende a tener valores mayores de energía local, i.e., un mayor número de incompatibilidades entre el poset y los rankings."
   ]
  },
  {
   "cell_type": "code",
   "execution_count": null,
   "metadata": {},
   "outputs": [],
   "source": [
    "[energia_no_local(ranks, corte95) for ranks in ranks_univs] |> countmap"
   ]
  },
  {
   "cell_type": "code",
   "execution_count": null,
   "metadata": {},
   "outputs": [],
   "source": [
    "[energia_local(ranks, corte98) for ranks in ranks_univs] |> countmap"
   ]
  },
  {
   "cell_type": "code",
   "execution_count": null,
   "metadata": {},
   "outputs": [],
   "source": [
    "[energia_no_local(ranks, corte98) for ranks in ranks_univs] |> countmap"
   ]
  },
  {
   "cell_type": "markdown",
   "metadata": {},
   "source": [
    "Usando el poset interseccion"
   ]
  },
  {
   "cell_type": "code",
   "execution_count": null,
   "metadata": {},
   "outputs": [],
   "source": [
    "interseccion = matriz_interseccion_rankings(ranks_univs)"
   ]
  },
  {
   "cell_type": "code",
   "execution_count": null,
   "metadata": {},
   "outputs": [],
   "source": [
    "[energia_local(ranks, interseccion) for ranks in ranks_univs] |> countmap"
   ]
  },
  {
   "cell_type": "markdown",
   "metadata": {},
   "source": [
    "De aqui se puede concluir que al tomar valores de $\\alpha$ cada vez mayores, se obtiene un valor de la energia local mas parecido al poset interseccion."
   ]
  }
 ],
 "metadata": {
  "kernelspec": {
   "display_name": "Julia 1.5.2",
   "language": "julia",
   "name": "julia-1.5"
  },
  "language_info": {
   "file_extension": ".jl",
   "mimetype": "application/julia",
   "name": "julia",
   "version": "1.5.2"
  }
 },
 "nbformat": 4,
 "nbformat_minor": 2
}
