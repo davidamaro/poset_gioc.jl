{
 "cells": [
  {
   "cell_type": "code",
   "execution_count": 1,
   "metadata": {},
   "outputs": [],
   "source": [
    "using CSV\n",
    "using DataFrames\n",
    "using Posets\n",
    "using Plots\n",
    "import Statistics: mean, median\n",
    "using LaTeXStrings\n",
    "using DelimitedFiles"
   ]
  },
  {
   "cell_type": "code",
   "execution_count": 2,
   "metadata": {},
   "outputs": [],
   "source": [
    "list_dataframes = [DataFrame(CSV.File(\"data/\"*f)) for f in readdir(\"data\")];\n",
    "\n",
    "numeronodos = 30#20\n",
    "nombresbuenos = intersect([l.Univ for l in list_dataframes]...);\n",
    "nombresbuenos = nombresbuenos[1:numeronodos];\n",
    "\n",
    "data_filtrada = [xxx[([x ∈ nombresbuenos for x in xxx.Univ]),:] for xxx in list_dataframes];"
   ]
  },
  {
   "cell_type": "markdown",
   "metadata": {},
   "source": [
    "### con 30"
   ]
  },
  {
   "cell_type": "code",
   "execution_count": 7,
   "metadata": {},
   "outputs": [],
   "source": [
    "writedlm(\"poset0p95_univ_30.dat\", αcut_poset(poset_mn, 0.95))\n",
    "\n",
    "writedlm(\"names.txt\", sort(data_filtrada[14], [:Univ], rev = false).Univ )"
   ]
  },
  {
   "cell_type": "code",
   "execution_count": 8,
   "metadata": {},
   "outputs": [
    {
     "name": "stdout",
     "output_type": "stream",
     "text": [
      "poset0p95_univ_30.png\n"
     ]
    }
   ],
   "source": [
    ";./script.wl poset0p95_univ_30.dat names.txt"
   ]
  },
  {
   "cell_type": "markdown",
   "metadata": {},
   "source": [
    "## Analisis"
   ]
  },
  {
   "cell_type": "code",
   "execution_count": 5,
   "metadata": {},
   "outputs": [],
   "source": [
    "puntuaciones = hcat([(sort(d, by = first).Points) for d in data_filtrada]...)/100;"
   ]
  },
  {
   "cell_type": "code",
   "execution_count": 6,
   "metadata": {},
   "outputs": [],
   "source": [
    "poset_mn = puntuaciones |> fuzzy;"
   ]
  },
  {
   "cell_type": "markdown",
   "metadata": {},
   "source": [
    "Aqui se generan los datos para ser pasados al script de MMA"
   ]
  },
  {
   "cell_type": "code",
   "execution_count": 8,
   "metadata": {},
   "outputs": [],
   "source": [
    "writedlm(\"poset0p95_univ_20.dat\", αcut_poset(poset_mn, 0.95))\n",
    "\n",
    "writedlm(\"names.txt\", sort(data_filtrada[14], [:Univ], rev = false).Univ )"
   ]
  },
  {
   "cell_type": "code",
   "execution_count": 9,
   "metadata": {},
   "outputs": [
    {
     "name": "stdout",
     "output_type": "stream",
     "text": [
      "poset0p95_univ_20.png\n"
     ]
    }
   ],
   "source": [
    ";./script.wl poset0p95_univ_20.dat names.txt"
   ]
  },
  {
   "cell_type": "code",
   "execution_count": 12,
   "metadata": {},
   "outputs": [],
   "source": [
    "writedlm(\"poset0p95_univ_20_sinnom.dat\", αcut_poset(poset_mn, 0.95))"
   ]
  },
  {
   "cell_type": "code",
   "execution_count": 13,
   "metadata": {},
   "outputs": [
    {
     "name": "stdout",
     "output_type": "stream",
     "text": [
      "poset0p95_univ_20_sinnom.png\n"
     ]
    }
   ],
   "source": [
    ";./script.wl poset0p95_univ_20_sinnom.dat"
   ]
  },
  {
   "cell_type": "markdown",
   "metadata": {},
   "source": [
    "![](poset0p95_univ_20_sinnom.png)"
   ]
  },
  {
   "cell_type": "markdown",
   "metadata": {},
   "source": [
    "![](poset0p95_univ_20.png)"
   ]
  },
  {
   "cell_type": "markdown",
   "metadata": {},
   "source": [
    "# analisis de los grados"
   ]
  },
  {
   "cell_type": "code",
   "execution_count": 14,
   "metadata": {},
   "outputs": [
    {
     "data": {
      "text/plain": [
       "3-element Array{Int64,1}:\n",
       " 1\n",
       " 2\n",
       " 3"
      ]
     },
     "execution_count": 14,
     "metadata": {},
     "output_type": "execute_result"
    }
   ],
   "source": [
    "[1 2 3; 4 5 6; 7 8 9][1,:]"
   ]
  },
  {
   "cell_type": "code",
   "execution_count": 25,
   "metadata": {},
   "outputs": [
    {
     "data": {
      "text/plain": [
       "inoutdegree (generic function with 1 method)"
      ]
     },
     "execution_count": 25,
     "metadata": {},
     "output_type": "execute_result"
    }
   ],
   "source": [
    "function inoutdegree(mat,n) \n",
    "    #out, in grade\n",
    "    sum(mat[n,:]), sum(mat[:,n])\n",
    "end"
   ]
  },
  {
   "cell_type": "code",
   "execution_count": 18,
   "metadata": {},
   "outputs": [
    {
     "data": {
      "text/plain": [
       "(19, 0)"
      ]
     },
     "execution_count": 18,
     "metadata": {},
     "output_type": "execute_result"
    }
   ],
   "source": [
    "inoutdegree(αcut_poset(poset_mn, 0.95), 4)"
   ]
  },
  {
   "cell_type": "code",
   "execution_count": 20,
   "metadata": {},
   "outputs": [
    {
     "data": {
      "text/plain": [
       "4-element Array{Tuple{Int64,Int64},1}:\n",
       " (1, 1)\n",
       " (1, 1)\n",
       " (1, 1)\n",
       " (1, 1)"
      ]
     },
     "execution_count": 20,
     "metadata": {},
     "output_type": "execute_result"
    }
   ],
   "source": [
    "[inoutdegree(αcut_poset(poset_mn, 0.95) |> reduccion_transitiva, x) for x in [5,7,18,19]]"
   ]
  },
  {
   "cell_type": "code",
   "execution_count": 21,
   "metadata": {},
   "outputs": [
    {
     "data": {
      "text/plain": [
       "1-element Array{Tuple{Int64,Int64},1}:\n",
       " (3, 4)"
      ]
     },
     "execution_count": 21,
     "metadata": {},
     "output_type": "execute_result"
    }
   ],
   "source": [
    "[inoutdegree(αcut_poset(poset_mn, 0.95) |> reduccion_transitiva, x) for x in [3]]"
   ]
  },
  {
   "cell_type": "code",
   "execution_count": 22,
   "metadata": {},
   "outputs": [
    {
     "data": {
      "text/plain": [
       "3-element Array{Tuple{Int64,Int64},1}:\n",
       " (2, 1)\n",
       " (2, 1)\n",
       " (3, 1)"
      ]
     },
     "execution_count": 22,
     "metadata": {},
     "output_type": "execute_result"
    }
   ],
   "source": [
    "[inoutdegree(αcut_poset(poset_mn, 0.95) |> reduccion_transitiva, x) for x in [2,6,17]]"
   ]
  },
  {
   "cell_type": "code",
   "execution_count": 23,
   "metadata": {},
   "outputs": [
    {
     "data": {
      "text/plain": [
       "2-element Array{Tuple{Int64,Int64},1}:\n",
       " (3, 2)\n",
       " (3, 2)"
      ]
     },
     "execution_count": 23,
     "metadata": {},
     "output_type": "execute_result"
    }
   ],
   "source": [
    "[inoutdegree(αcut_poset(poset_mn, 0.95) |> reduccion_transitiva, x) for x in [16,20]]"
   ]
  },
  {
   "cell_type": "code",
   "execution_count": 24,
   "metadata": {},
   "outputs": [
    {
     "data": {
      "text/plain": [
       "3-element Array{Tuple{Int64,Int64},1}:\n",
       " (2, 3)\n",
       " (2, 3)\n",
       " (2, 3)"
      ]
     },
     "execution_count": 24,
     "metadata": {},
     "output_type": "execute_result"
    }
   ],
   "source": [
    "[inoutdegree(αcut_poset(poset_mn, 0.95) |> reduccion_transitiva, x) for x in [1,14,15]]"
   ]
  },
  {
   "cell_type": "markdown",
   "metadata": {},
   "source": [
    "La forma de calcular un nivel es\n",
    "1. calcular la reduccion transitiva\n",
    "2. calcular anticadenas\n",
    "3. estimar cuales tiene el ingrado similar\n",
    "4. done"
   ]
  }
 ],
 "metadata": {
  "kernelspec": {
   "display_name": "Julia 1.5.2",
   "language": "julia",
   "name": "julia-1.5"
  },
  "language_info": {
   "file_extension": ".jl",
   "mimetype": "application/julia",
   "name": "julia",
   "version": "1.5.2"
  }
 },
 "nbformat": 4,
 "nbformat_minor": 2
}
