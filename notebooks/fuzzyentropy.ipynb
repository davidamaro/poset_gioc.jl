{
 "cells": [
  {
   "cell_type": "code",
   "execution_count": 1,
   "metadata": {},
   "outputs": [],
   "source": [
    "using Posets"
   ]
  },
  {
   "cell_type": "code",
   "execution_count": 2,
   "metadata": {},
   "outputs": [
    {
     "data": {
      "text/plain": [
       "finter (generic function with 1 method)"
      ]
     },
     "execution_count": 2,
     "metadata": {},
     "output_type": "execute_result"
    }
   ],
   "source": [
    "function finter(fp1, fp2)\n",
    "    @assert length(fp1) == length(fp2)\n",
    "    [min(fp1[i], fp2[i]) for i in 1:length(fp1)]\n",
    "end"
   ]
  },
  {
   "cell_type": "code",
   "execution_count": 3,
   "metadata": {},
   "outputs": [
    {
     "data": {
      "text/plain": [
       "funion (generic function with 1 method)"
      ]
     },
     "execution_count": 3,
     "metadata": {},
     "output_type": "execute_result"
    }
   ],
   "source": [
    "function funion(fp1, fp2)\n",
    "    @assert length(fp1) == length(fp2)\n",
    "    [max(fp1[i], fp2[i]) for i in 1:length(fp1)]\n",
    "end"
   ]
  },
  {
   "cell_type": "code",
   "execution_count": 4,
   "metadata": {},
   "outputs": [
    {
     "data": {
      "text/plain": [
       "fs (generic function with 1 method)"
      ]
     },
     "execution_count": 4,
     "metadata": {},
     "output_type": "execute_result"
    }
   ],
   "source": [
    "function fs(fp1, fp2)\n",
    "    sum(finter(fp1, fp2))/sum(fp1)\n",
    "end"
   ]
  },
  {
   "cell_type": "code",
   "execution_count": 5,
   "metadata": {},
   "outputs": [
    {
     "data": {
      "text/plain": [
       "Σcount (generic function with 1 method)"
      ]
     },
     "execution_count": 5,
     "metadata": {},
     "output_type": "execute_result"
    }
   ],
   "source": [
    "Σcount(fp1) = sum(fp1)"
   ]
  },
  {
   "cell_type": "code",
   "execution_count": 6,
   "metadata": {},
   "outputs": [
    {
     "data": {
      "text/plain": [
       "finverso (generic function with 1 method)"
      ]
     },
     "execution_count": 6,
     "metadata": {},
     "output_type": "execute_result"
    }
   ],
   "source": [
    "finverso(fp) = [1-fp[i] for i in 1:length(fp)]"
   ]
  },
  {
   "cell_type": "code",
   "execution_count": 7,
   "metadata": {},
   "outputs": [
    {
     "data": {
      "text/plain": [
       "fentropia (generic function with 1 method)"
      ]
     },
     "execution_count": 7,
     "metadata": {},
     "output_type": "execute_result"
    }
   ],
   "source": [
    "fentropia(x) = fs(funion(x,finverso(x)), finter(x, finverso(x)))"
   ]
  },
  {
   "cell_type": "markdown",
   "metadata": {},
   "source": []
  },
  {
   "cell_type": "code",
   "execution_count": 8,
   "metadata": {},
   "outputs": [
    {
     "data": {
      "text/plain": [
       "6-element Array{Float64,1}:\n",
       " 0.0\n",
       " 0.2\n",
       " 0.6\n",
       " 0.2\n",
       " 0.0\n",
       " 0.0"
      ]
     },
     "execution_count": 8,
     "metadata": {},
     "output_type": "execute_result"
    }
   ],
   "source": [
    "h1 = [.4, .2, .1, 0, 0, 0]\n",
    "h2 = [0, .2, .6, .3, .1, 0]\n",
    "h3= [0, .1, 0, .6, .6, .5]\n",
    "hh = [h1, h2, h3]\n",
    "ee = [0, .2, .6, .2, 0, 0]"
   ]
  },
  {
   "cell_type": "markdown",
   "metadata": {},
   "source": [
    "# adios"
   ]
  },
  {
   "cell_type": "code",
   "execution_count": 12,
   "metadata": {},
   "outputs": [],
   "source": [
    "rankingsuniversidades_10nodos=\n",
    "[\n",
    "[3,7,6,8,1,4,5,2,9,10],\n",
    "[3,7,6,4,8,1,5,9,2,10],\n",
    "[3,7,6,8,4,1,5,2,9,10],\n",
    "[7,3,6,8,4,1,5,2,10,9],\n",
    "[3,7,6,8,4,1,5,2,9,10],\n",
    "[3,7,6,8,4,1,5,2,9,10],\n",
    "[3,7,6,4,8,1,5,2,9,10],\n",
    "[3,7,6,8,4,1,5,2,9,10],\n",
    "[3,7,6,8,4,1,5,2,9,10],\n",
    "[3,7,6,8,4,1,5,2,9,10],\n",
    "[3,7,6,8,4,1,5,2,9,10],\n",
    "[3,7,6,8,4,1,5,2,9,10],\n",
    "[3,7,6,8,4,1,5,2,9,10],\n",
    "[3,7,6,8,4,1,5,2,9,10]\n",
    "];"
   ]
  },
  {
   "cell_type": "code",
   "execution_count": 13,
   "metadata": {},
   "outputs": [
    {
     "data": {
      "text/plain": [
       "10×10 Array{Float64,2}:\n",
       " 1.0       0.733568  1.0       0.985915  …  1.0       0.658451  0.596244\n",
       " 1.0       1.0       1.0       1.0          1.0       0.8896    0.8128\n",
       " 0.175309  0.128601  1.0       0.212346     0.251852  0.115432  0.104527\n",
       " 0.813953  0.60562   1.0       1.0          0.965116  0.543605  0.492248\n",
       " 1.0       0.868056  1.0       1.0          1.0       0.779167  0.705556\n",
       " 0.507143  0.372024  1.0       0.614286  …  0.728571  0.333929  0.302381\n",
       " 0.315556  0.231481  0.933333  0.382222     0.453333  0.207778  0.188148\n",
       " 0.696078  0.510621  1.0       0.813725     1.0       0.458333  0.415033\n",
       " 1.0       0.991087  1.0       1.0          1.0       1.0       0.898396\n",
       " 1.0       1.0       1.0       1.0          1.0       0.992126  1.0"
      ]
     },
     "execution_count": 13,
     "metadata": {},
     "output_type": "execute_result"
    }
   ],
   "source": [
    "poset_mn = mn(rankingsuniversidades_10nodos) |> fuzzy"
   ]
  },
  {
   "cell_type": "markdown",
   "metadata": {},
   "source": [
    "# cringe alert"
   ]
  },
  {
   "cell_type": "code",
   "execution_count": 9,
   "metadata": {},
   "outputs": [
    {
     "data": {
      "text/plain": [
       "0.15384615384615385"
      ]
     },
     "execution_count": 9,
     "metadata": {},
     "output_type": "execute_result"
    }
   ],
   "source": [
    "fs(funion(ee,finverso(ee)), finter(ee, finverso(ee)))"
   ]
  },
  {
   "cell_type": "code",
   "execution_count": 10,
   "metadata": {},
   "outputs": [
    {
     "data": {
      "text/plain": [
       "0.15384615384615385"
      ]
     },
     "execution_count": 10,
     "metadata": {},
     "output_type": "execute_result"
    }
   ],
   "source": [
    "Σcount(finter(ee,finverso(ee)))/Σcount(funion(ee,finverso(ee)))"
   ]
  },
  {
   "cell_type": "code",
   "execution_count": 7,
   "metadata": {},
   "outputs": [
    {
     "data": {
      "text/plain": [
       "0.30000000000000004"
      ]
     },
     "execution_count": 7,
     "metadata": {},
     "output_type": "execute_result"
    }
   ],
   "source": [
    "fs(h1, ee)*Σcount(h1)"
   ]
  },
  {
   "cell_type": "code",
   "execution_count": 9,
   "metadata": {},
   "outputs": [
    {
     "data": {
      "text/plain": [
       "3.0"
      ]
     },
     "execution_count": 9,
     "metadata": {},
     "output_type": "execute_result"
    }
   ],
   "source": [
    "sum([(Σcount(finter(ee,hh[i])) + Σcount(funion(ee,hh[i])) - Σcount(hh[i])) for i in 1:3])"
   ]
  },
  {
   "cell_type": "code",
   "execution_count": 14,
   "metadata": {},
   "outputs": [
    {
     "data": {
      "text/plain": [
       "0.30000000000000004"
      ]
     },
     "execution_count": 14,
     "metadata": {},
     "output_type": "execute_result"
    }
   ],
   "source": [
    "3*fs(hh[1], ee)*Σcount(h1)/sum([(Σcount(finter(ee,hh[i])) + Σcount(funion(ee,hh[i])) - Σcount(hh[i])) for i in 1:3])"
   ]
  },
  {
   "cell_type": "code",
   "execution_count": 15,
   "metadata": {},
   "outputs": [
    {
     "data": {
      "text/plain": [
       "0.5833333333333334"
      ]
     },
     "execution_count": 15,
     "metadata": {},
     "output_type": "execute_result"
    }
   ],
   "source": [
    "3*fs(hh[2], ee)*Σcount(h1)/sum([(Σcount(finter(ee,hh[i])) + Σcount(funion(ee,hh[i])) - Σcount(hh[i])) for i in 1:3])"
   ]
  },
  {
   "cell_type": "code",
   "execution_count": 16,
   "metadata": {},
   "outputs": [
    {
     "data": {
      "text/plain": [
       "0.1166666666666667"
      ]
     },
     "execution_count": 16,
     "metadata": {},
     "output_type": "execute_result"
    }
   ],
   "source": [
    "3*fs(hh[3], ee)*Σcount(h1)/sum([(Σcount(finter(ee,hh[i])) + Σcount(funion(ee,hh[i])) - Σcount(hh[i])) for i in 1:3])"
   ]
  },
  {
   "cell_type": "code",
   "execution_count": 21,
   "metadata": {},
   "outputs": [
    {
     "data": {
      "text/plain": [
       "0.30000000000000004"
      ]
     },
     "execution_count": 21,
     "metadata": {},
     "output_type": "execute_result"
    }
   ],
   "source": [
    "fs(ee, hh[3])"
   ]
  },
  {
   "cell_type": "code",
   "execution_count": 24,
   "metadata": {},
   "outputs": [
    {
     "data": {
      "text/plain": [
       "0.30000000000000004"
      ]
     },
     "execution_count": 24,
     "metadata": {},
     "output_type": "execute_result"
    }
   ],
   "source": [
    "fs(hh[3], ee)*Σcount(hh[3])"
   ]
  },
  {
   "cell_type": "code",
   "execution_count": 25,
   "metadata": {},
   "outputs": [
    {
     "data": {
      "text/plain": [
       "1.0"
      ]
     },
     "execution_count": 25,
     "metadata": {},
     "output_type": "execute_result"
    }
   ],
   "source": [
    "fs(ee, hh[2])"
   ]
  },
  {
   "cell_type": "code",
   "execution_count": 26,
   "metadata": {},
   "outputs": [
    {
     "data": {
      "text/plain": [
       "1.0"
      ]
     },
     "execution_count": 26,
     "metadata": {},
     "output_type": "execute_result"
    }
   ],
   "source": [
    "fs(hh[2], ee)*Σcount(hh[2])"
   ]
  },
  {
   "cell_type": "code",
   "execution_count": 27,
   "metadata": {},
   "outputs": [
    {
     "data": {
      "text/plain": [
       "0.30000000000000004"
      ]
     },
     "execution_count": 27,
     "metadata": {},
     "output_type": "execute_result"
    }
   ],
   "source": [
    "fs(ee, hh[1])"
   ]
  },
  {
   "cell_type": "code",
   "execution_count": 28,
   "metadata": {},
   "outputs": [
    {
     "data": {
      "text/plain": [
       "0.30000000000000004"
      ]
     },
     "execution_count": 28,
     "metadata": {},
     "output_type": "execute_result"
    }
   ],
   "source": [
    "fs(hh[1], ee)*Σcount(hh[1])"
   ]
  },
  {
   "cell_type": "code",
   "execution_count": 22,
   "metadata": {},
   "outputs": [
    {
     "data": {
      "text/plain": [
       "1.0"
      ]
     },
     "execution_count": 22,
     "metadata": {},
     "output_type": "execute_result"
    }
   ],
   "source": [
    "kernel = 3/sum([(Σcount(finter(ee,hh[i])) + Σcount(funion(ee,hh[i])) - Σcount(hh[i])) for i in 1:3])"
   ]
  },
  {
   "cell_type": "markdown",
   "metadata": {},
   "source": [
    "# Entropia fuzzy poset"
   ]
  },
  {
   "cell_type": "markdown",
   "metadata": {},
   "source": [
    "$$\n",
    "R_{1}(A)=\\frac{\\sum \\operatorname{Count}\\left(A \\cap A^{c}\\right)}{\\sum \\operatorname{Count}\\left(A \\cup A^{c}\\right)}\n",
    "$$"
   ]
  },
  {
   "cell_type": "code",
   "execution_count": 33,
   "metadata": {},
   "outputs": [],
   "source": [
    "rankingsuniversidades_10nodos=\n",
    "[\n",
    "[3,7,6,8,1,4,5,2,9,10],\n",
    "[3,7,6,4,8,1,5,9,2,10],\n",
    "[3,7,6,8,4,1,5,2,9,10],\n",
    "[7,3,6,8,4,1,5,2,10,9],\n",
    "[3,7,6,8,4,1,5,2,9,10],\n",
    "[3,7,6,8,4,1,5,2,9,10],\n",
    "[3,7,6,4,8,1,5,2,9,10],\n",
    "[3,7,6,8,4,1,5,2,9,10],\n",
    "[3,7,6,8,4,1,5,2,9,10],\n",
    "[3,7,6,8,4,1,5,2,9,10],\n",
    "[3,7,6,8,4,1,5,2,9,10],\n",
    "[3,7,6,8,4,1,5,2,9,10],\n",
    "[3,7,6,8,4,1,5,2,9,10],\n",
    "[3,7,6,8,4,1,5,2,9,10]\n",
    "];"
   ]
  },
  {
   "cell_type": "code",
   "execution_count": 15,
   "metadata": {},
   "outputs": [
    {
     "data": {
      "text/plain": [
       "10×10 Array{Float64,2}:\n",
       " 1.0       0.733568  1.0       0.985915  …  1.0       0.658451  0.596244\n",
       " 1.0       1.0       1.0       1.0          1.0       0.8896    0.8128\n",
       " 0.175309  0.128601  1.0       0.212346     0.251852  0.115432  0.104527\n",
       " 0.813953  0.60562   1.0       1.0          0.965116  0.543605  0.492248\n",
       " 1.0       0.868056  1.0       1.0          1.0       0.779167  0.705556\n",
       " 0.507143  0.372024  1.0       0.614286  …  0.728571  0.333929  0.302381\n",
       " 0.315556  0.231481  0.933333  0.382222     0.453333  0.207778  0.188148\n",
       " 0.696078  0.510621  1.0       0.813725     1.0       0.458333  0.415033\n",
       " 1.0       0.991087  1.0       1.0          1.0       1.0       0.898396\n",
       " 1.0       1.0       1.0       1.0          1.0       0.992126  1.0"
      ]
     },
     "execution_count": 15,
     "metadata": {},
     "output_type": "execute_result"
    }
   ],
   "source": [
    "poset_mn = mn(rankingsuniversidades_10nodos) |> fuzzy"
   ]
  },
  {
   "cell_type": "code",
   "execution_count": 16,
   "metadata": {},
   "outputs": [
    {
     "data": {
      "text/plain": [
       "0.15493256570609584"
      ]
     },
     "execution_count": 16,
     "metadata": {},
     "output_type": "execute_result"
    }
   ],
   "source": [
    "fentropia(poset_mn)"
   ]
  },
  {
   "cell_type": "code",
   "execution_count": 37,
   "metadata": {},
   "outputs": [
    {
     "data": {
      "text/plain": [
       "0.15384615384615385"
      ]
     },
     "execution_count": 37,
     "metadata": {},
     "output_type": "execute_result"
    }
   ],
   "source": [
    "Σcount(finter(ee,finverso(ee)))/Σcount(funion(ee,finverso(ee)))"
   ]
  },
  {
   "cell_type": "markdown",
   "metadata": {},
   "source": [
    "# Ejemplo maligno"
   ]
  },
  {
   "cell_type": "code",
   "execution_count": 31,
   "metadata": {},
   "outputs": [
    {
     "data": {
      "text/plain": [
       "1-element Array{Array{Int64,1},1}:\n",
       " [1, 2, 3]"
      ]
     },
     "execution_count": 31,
     "metadata": {},
     "output_type": "execute_result"
    }
   ],
   "source": [
    "rio = [\n",
    "#=    [1,2,3,4,5],\n",
    "    [1,2,3,4,5],\n",
    "    [1,2,3,4,5],\n",
    "    [1,2,3,4,5],\n",
    "    [1,2,3,4,5],\n",
    "    [1,2,3,4,5],\n",
    "    [1,2,3,4,5],\n",
    "    [1,2,3,4,5],\n",
    "    [1,2,3,4,5], =#\n",
    "    [1,2,3]\n",
    "]"
   ]
  },
  {
   "cell_type": "code",
   "execution_count": 34,
   "metadata": {},
   "outputs": [
    {
     "data": {
      "text/plain": [
       "3×3 Array{Float64,2}:\n",
       " 1.0  0.5  0.333333\n",
       " 1.0  1.0  0.666667\n",
       " 1.0  1.0  1.0"
      ]
     },
     "execution_count": 34,
     "metadata": {},
     "output_type": "execute_result"
    }
   ],
   "source": [
    "poset_mn = mn(rio) |> fuzzy"
   ]
  },
  {
   "cell_type": "code",
   "execution_count": 35,
   "metadata": {},
   "outputs": [
    {
     "data": {
      "text/plain": [
       "0.14893617021276592"
      ]
     },
     "execution_count": 35,
     "metadata": {},
     "output_type": "execute_result"
    }
   ],
   "source": [
    "fentropia(poset_mn)"
   ]
  },
  {
   "cell_type": "code",
   "execution_count": 36,
   "metadata": {},
   "outputs": [
    {
     "data": {
      "text/plain": [
       "6-element Array{Array{Int64,1},1}:\n",
       " [1, 2, 3]\n",
       " [1, 3, 2]\n",
       " [2, 1, 3]\n",
       " [2, 3, 1]\n",
       " [3, 1, 2]\n",
       " [3, 2, 1]"
      ]
     },
     "execution_count": 36,
     "metadata": {},
     "output_type": "execute_result"
    }
   ],
   "source": [
    "rio = [\n",
    "    [1,2,3],\n",
    "    [1,3,2],\n",
    "    [2,1,3],\n",
    "    [2,3,1],\n",
    "    [3,1,2],\n",
    "    [3,2,1]\n",
    "]"
   ]
  },
  {
   "cell_type": "code",
   "execution_count": 37,
   "metadata": {},
   "outputs": [
    {
     "data": {
      "text/plain": [
       "3×3 Array{Float64,2}:\n",
       " 1.0       0.636364  0.636364\n",
       " 0.636364  1.0       0.636364\n",
       " 0.636364  0.636364  1.0"
      ]
     },
     "execution_count": 37,
     "metadata": {},
     "output_type": "execute_result"
    }
   ],
   "source": [
    "poset_mn = mn(rio) |> fuzzy"
   ]
  },
  {
   "cell_type": "code",
   "execution_count": 38,
   "metadata": {},
   "outputs": [
    {
     "data": {
      "text/plain": [
       "0.32"
      ]
     },
     "execution_count": 38,
     "metadata": {},
     "output_type": "execute_result"
    }
   ],
   "source": [
    "fentropia(poset_mn)"
   ]
  },
  {
   "cell_type": "markdown",
   "metadata": {},
   "source": [
    "#  fuzzy Bayes' theorem"
   ]
  },
  {
   "cell_type": "markdown",
   "metadata": {},
   "source": [
    "$$\n",
    "S\\left(E, H_{i}\\right)=\\frac{S\\left(H_{i}, E\\right) \\Sigma \\operatorname{Count}\\left(H_{i}\\right)}{\\frac{1}{n} \\sum_{j=1}^{n}\\left(\\Sigma \\operatorname{Count}\\left(E \\cap H_{j}\\right)+\\Sigma \\operatorname{Count}\\left(E \\cup H_{j}\\right)-\\Sigma \\operatorname{Count}\\left(H_{j}\\right)\\right)}\n",
    "$$"
   ]
  }
 ],
 "metadata": {
  "kernelspec": {
   "display_name": "Julia 1.5.2",
   "language": "julia",
   "name": "julia-1.5"
  },
  "language_info": {
   "file_extension": ".jl",
   "mimetype": "application/julia",
   "name": "julia",
   "version": "1.5.2"
  }
 },
 "nbformat": 4,
 "nbformat_minor": 4
}
