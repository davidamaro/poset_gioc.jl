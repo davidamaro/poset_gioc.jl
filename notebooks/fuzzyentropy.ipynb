{
 "cells": [
  {
   "cell_type": "code",
   "execution_count": 2,
   "metadata": {},
   "outputs": [],
   "source": [
    "using Posets\n",
    "\n",
    "using Random\n",
    "\n",
    "using Plots"
   ]
  },
  {
   "cell_type": "markdown",
   "metadata": {},
   "source": []
  },
  {
   "cell_type": "code",
   "execution_count": 37,
   "metadata": {},
   "outputs": [
    {
     "data": {
      "text/plain": [
       "6-element Array{Float64,1}:\n",
       " 0.0\n",
       " 0.2\n",
       " 0.6\n",
       " 0.2\n",
       " 0.0\n",
       " 0.0"
      ]
     },
     "execution_count": 37,
     "metadata": {},
     "output_type": "execute_result"
    }
   ],
   "source": [
    "h1 = [.4, .2, .1, 0, 0, 0]\n",
    "h2 = [0, .2, .6, .3, .1, 0]\n",
    "h3 = [0, .1, 0, .6, .6, .5]\n",
    "hh = [h1, h2, h3]\n",
    "ee = [0, .2, .6, .2, 0, 0]"
   ]
  },
  {
   "cell_type": "markdown",
   "metadata": {},
   "source": [
    "# Information"
   ]
  },
  {
   "cell_type": "code",
   "execution_count": 2,
   "metadata": {},
   "outputs": [],
   "source": [
    "rankingsuniversidades_10nodos=\n",
    "[\n",
    "[3,7,6,8,1,4,5,2,9,10],\n",
    "[3,7,6,4,8,1,5,9,2,10],\n",
    "[3,7,6,8,4,1,5,2,9,10],\n",
    "[7,3,6,8,4,1,5,2,10,9],\n",
    "[3,7,6,8,4,1,5,2,9,10],\n",
    "[3,7,6,8,4,1,5,2,9,10],\n",
    "[3,7,6,4,8,1,5,2,9,10],\n",
    "[3,7,6,8,4,1,5,2,9,10],\n",
    "[3,7,6,8,4,1,5,2,9,10],\n",
    "[3,7,6,8,4,1,5,2,9,10],\n",
    "[3,7,6,8,4,1,5,2,9,10],\n",
    "[3,7,6,8,4,1,5,2,9,10],\n",
    "[3,7,6,8,4,1,5,2,9,10],\n",
    "[3,7,6,8,4,1,5,2,9,10]\n",
    "];"
   ]
  },
  {
   "cell_type": "code",
   "execution_count": 3,
   "metadata": {},
   "outputs": [
    {
     "data": {
      "text/plain": [
       "10×10 Array{Float64,2}:\n",
       " 1.0       1.0     0.175309  0.813953  …  0.696078  1.0       1.0\n",
       " 0.733568  1.0     0.128601  0.60562      0.510621  0.991087  1.0\n",
       " 1.0       1.0     1.0       1.0          1.0       1.0       1.0\n",
       " 0.985915  1.0     0.212346  1.0          0.813725  1.0       1.0\n",
       " 0.84507   1.0     0.148148  0.697674     0.588235  1.0       1.0\n",
       " 1.0       1.0     0.345679  1.0       …  1.0       1.0       1.0\n",
       " 1.0       1.0     0.518519  1.0          1.0       1.0       1.0\n",
       " 1.0       1.0     0.251852  0.965116     1.0       1.0       1.0\n",
       " 0.658451  0.8896  0.115432  0.543605     0.458333  1.0       0.992126\n",
       " 0.596244  0.8128  0.104527  0.492248     0.415033  0.898396  1.0"
      ]
     },
     "execution_count": 3,
     "metadata": {},
     "output_type": "execute_result"
    }
   ],
   "source": [
    "poset_mn = mn(rankingsuniversidades_10nodos) |> fuzzy"
   ]
  },
  {
   "cell_type": "markdown",
   "metadata": {},
   "source": [
    "# Entropia fuzzy poset"
   ]
  },
  {
   "cell_type": "markdown",
   "metadata": {},
   "source": [
    "La entropia $R(A)$ se define a continuacion.\n",
    "$$\n",
    "R_{1}(A)=\\frac{\\sum\\!\\operatorname{Count}\\left(A \\cap A^{c}\\right)}{\\sum\\!\\operatorname{Count}\\left(A \\cup A^{c}\\right)}\n",
    "$$\n",
    "Notar que no es una definicion _probabilistica_. Esta entropia cuantifica que tan borroso es el poset.\n",
    "\n",
    "El valor maximo de la entropia para un poset borroso de $n$ nodos es\n",
    "$$\n",
    "R_{\\max} = \n",
    "\\frac{n(n-1)}{n^2 + n} = \\frac{n-1}{n+1}.\n",
    "$$"
   ]
  },
  {
   "cell_type": "code",
   "execution_count": 15,
   "metadata": {},
   "outputs": [],
   "source": [
    "rankingsuniversidades_10nodos=\n",
    "[\n",
    "[3,7,6,8,1,4,5,2,9,10],\n",
    "[3,7,6,4,8,1,5,9,2,10],\n",
    "[3,7,6,8,4,1,5,2,9,10],\n",
    "[7,3,6,8,4,1,5,2,10,9],\n",
    "[3,7,6,8,4,1,5,2,9,10],\n",
    "[3,7,6,8,4,1,5,2,9,10],\n",
    "[3,7,6,4,8,1,5,2,9,10],\n",
    "[3,7,6,8,4,1,5,2,9,10],\n",
    "[3,7,6,8,4,1,5,2,9,10],\n",
    "[3,7,6,8,4,1,5,2,9,10],\n",
    "[3,7,6,8,4,1,5,2,9,10],\n",
    "[3,7,6,8,4,1,5,2,9,10],\n",
    "[3,7,6,8,4,1,5,2,9,10],\n",
    "[3,7,6,8,4,1,5,2,9,10]\n",
    "];"
   ]
  },
  {
   "cell_type": "code",
   "execution_count": 16,
   "metadata": {},
   "outputs": [
    {
     "data": {
      "text/plain": [
       "10-element Array{Array{Int64,1},1}:\n",
       " [5, 3, 10, 1, 7, 9, 8, 6, 4, 2]\n",
       " [8, 10, 4, 1, 5, 2, 6, 9, 7, 3]\n",
       " [10, 4, 6, 8, 2, 3, 7, 1, 9, 5]\n",
       " [3, 2, 8, 9, 10, 4, 5, 1, 7, 6]\n",
       " [8, 2, 9, 10, 1, 5, 7, 4, 3, 6]\n",
       " [1, 4, 10, 8, 2, 7, 5, 6, 9, 3]\n",
       " [2, 8, 3, 5, 7, 4, 10, 9, 1, 6]\n",
       " [10, 6, 7, 8, 2, 1, 5, 9, 3, 4]\n",
       " [8, 6, 10, 4, 5, 2, 7, 3, 9, 1]\n",
       " [4, 3, 9, 7, 1, 5, 10, 8, 2, 6]"
      ]
     },
     "execution_count": 16,
     "metadata": {},
     "output_type": "execute_result"
    }
   ],
   "source": [
    "fake_10nodos= [randperm(10) for _ in 1:10]"
   ]
  },
  {
   "cell_type": "code",
   "execution_count": 1,
   "metadata": {
    "scrolled": true
   },
   "outputs": [
    {
     "ename": "LoadError",
     "evalue": "UndefVarError: mn not defined",
     "output_type": "error",
     "traceback": [
      "UndefVarError: mn not defined",
      "",
      "Stacktrace:",
      " [1] top-level scope at In[1]:1",
      " [2] execute_code(::String, ::String) at /home/david/.julia/packages/IJulia/a1SNk/src/execute_request.jl:27",
      " [3] execute_request(::ZMQ.Socket, ::IJulia.Msg) at /home/david/.julia/packages/IJulia/a1SNk/src/execute_request.jl:86",
      " [4] #invokelatest#1 at ./essentials.jl:710 [inlined]",
      " [5] invokelatest at ./essentials.jl:709 [inlined]",
      " [6] eventloop(::ZMQ.Socket) at /home/david/.julia/packages/IJulia/a1SNk/src/eventloop.jl:8",
      " [7] (::IJulia.var\"#15#18\")() at ./task.jl:356"
     ]
    }
   ],
   "source": [
    "poset_mn_f = mn(fake_10nodos) |> fuzzy"
   ]
  },
  {
   "cell_type": "code",
   "execution_count": 18,
   "metadata": {
    "scrolled": true
   },
   "outputs": [
    {
     "data": {
      "text/plain": [
       "10×10 Array{Float64,2}:\n",
       " 1.0       1.0     0.175309  0.813953  …  0.696078  1.0       1.0\n",
       " 0.733568  1.0     0.128601  0.60562      0.510621  0.991087  1.0\n",
       " 1.0       1.0     1.0       1.0          1.0       1.0       1.0\n",
       " 0.985915  1.0     0.212346  1.0          0.813725  1.0       1.0\n",
       " 0.84507   1.0     0.148148  0.697674     0.588235  1.0       1.0\n",
       " 1.0       1.0     0.345679  1.0       …  1.0       1.0       1.0\n",
       " 1.0       1.0     0.518519  1.0          1.0       1.0       1.0\n",
       " 1.0       1.0     0.251852  0.965116     1.0       1.0       1.0\n",
       " 0.658451  0.8896  0.115432  0.543605     0.458333  1.0       0.992126\n",
       " 0.596244  0.8128  0.104527  0.492248     0.415033  0.898396  1.0"
      ]
     },
     "execution_count": 18,
     "metadata": {},
     "output_type": "execute_result"
    }
   ],
   "source": [
    "poset_mn = mn(rankingsuniversidades_10nodos) |> fuzzy"
   ]
  },
  {
   "cell_type": "code",
   "execution_count": 19,
   "metadata": {},
   "outputs": [
    {
     "data": {
      "text/plain": [
       "0.15493256570609584"
      ]
     },
     "execution_count": 19,
     "metadata": {},
     "output_type": "execute_result"
    }
   ],
   "source": [
    "fentropia(poset_mn)"
   ]
  },
  {
   "cell_type": "code",
   "execution_count": 20,
   "metadata": {},
   "outputs": [
    {
     "data": {
      "text/plain": [
       "0.4904892207216333"
      ]
     },
     "execution_count": 20,
     "metadata": {},
     "output_type": "execute_result"
    }
   ],
   "source": [
    "fentropia(poset_mn_f)"
   ]
  },
  {
   "cell_type": "markdown",
   "metadata": {},
   "source": [
    "## Maxima entropia"
   ]
  },
  {
   "cell_type": "code",
   "execution_count": 23,
   "metadata": {},
   "outputs": [
    {
     "name": "stdout",
     "output_type": "stream",
     "text": [
      "((n * (n - 1)) / 2) / (n ^ 2 / 2 + n / 2) = 0.8181818181818182\n"
     ]
    },
    {
     "data": {
      "text/plain": [
       "0.8181818181818182"
      ]
     },
     "execution_count": 23,
     "metadata": {},
     "output_type": "execute_result"
    }
   ],
   "source": [
    "n = 10\n",
    "@show (n*(n-1)/2)/(n^2/2 + n/2)\n",
    "maxen = zeros(Float64, n,n)\n",
    "for i in 1:n, j in 1:n\n",
    "    if i==j\n",
    "        maxen[i,j] = 1\n",
    "    else\n",
    "        maxen[i,j] = 1/2\n",
    "    end\n",
    "end\n",
    "\n",
    "fentropia(maxen)"
   ]
  },
  {
   "cell_type": "markdown",
   "metadata": {},
   "source": [
    "## Entropia fuzzy poset evolucion"
   ]
  },
  {
   "cell_type": "code",
   "execution_count": 16,
   "metadata": {},
   "outputs": [],
   "source": [
    "rankingsuniversidades_10nodos=\n",
    "[\n",
    "[3,7,6,8,1,4,5,2,9,10],\n",
    "[3,7,6,4,8,1,5,9,2,10],\n",
    "[3,7,6,8,4,1,5,2,9,10],\n",
    "[7,3,6,8,4,1,5,2,10,9],\n",
    "[3,7,6,8,4,1,5,2,9,10],\n",
    "[3,7,6,8,4,1,5,2,9,10],\n",
    "[3,7,6,4,8,1,5,2,9,10],\n",
    "[3,7,6,8,4,1,5,2,9,10],\n",
    "[3,7,6,8,4,1,5,2,9,10],\n",
    "[3,7,6,8,4,1,5,2,9,10],\n",
    "[3,7,6,8,4,1,5,2,9,10],\n",
    "[3,7,6,8,4,1,5,2,9,10],\n",
    "[3,7,6,8,4,1,5,2,9,10],\n",
    "[3,7,6,8,4,1,5,2,9,10]\n",
    "];"
   ]
  },
  {
   "cell_type": "code",
   "execution_count": 17,
   "metadata": {
    "scrolled": true
   },
   "outputs": [
    {
     "data": {
      "text/plain": [
       "10×10 Array{Float64,2}:\n",
       " 1.0       1.0     0.175309  0.813953  …  0.696078  1.0       1.0\n",
       " 0.733568  1.0     0.128601  0.60562      0.510621  0.991087  1.0\n",
       " 1.0       1.0     1.0       1.0          1.0       1.0       1.0\n",
       " 0.985915  1.0     0.212346  1.0          0.813725  1.0       1.0\n",
       " 0.84507   1.0     0.148148  0.697674     0.588235  1.0       1.0\n",
       " 1.0       1.0     0.345679  1.0       …  1.0       1.0       1.0\n",
       " 1.0       1.0     0.518519  1.0          1.0       1.0       1.0\n",
       " 1.0       1.0     0.251852  0.965116     1.0       1.0       1.0\n",
       " 0.658451  0.8896  0.115432  0.543605     0.458333  1.0       0.992126\n",
       " 0.596244  0.8128  0.104527  0.492248     0.415033  0.898396  1.0"
      ]
     },
     "execution_count": 17,
     "metadata": {},
     "output_type": "execute_result"
    }
   ],
   "source": [
    "poset_mn = mn(rankingsuniversidades_10nodos) |> fuzzy"
   ]
  },
  {
   "cell_type": "code",
   "execution_count": 18,
   "metadata": {},
   "outputs": [
    {
     "data": {
      "text/plain": [
       "0.15493256570609584"
      ]
     },
     "execution_count": 18,
     "metadata": {},
     "output_type": "execute_result"
    }
   ],
   "source": [
    "fentropia(poset_mn)"
   ]
  },
  {
   "cell_type": "code",
   "execution_count": 19,
   "metadata": {},
   "outputs": [
    {
     "data": {
      "text/plain": [
       "13-element Array{Float64,1}:\n",
       " 0.15876260505350231\n",
       " 0.15762633722801722\n",
       " 0.15738136251276713\n",
       " 0.1565418913938337\n",
       " 0.1559960574982493\n",
       " 0.1564015646704631\n",
       " 0.15603637967265305\n",
       " 0.15575135917248828\n",
       " 0.1555227437314204\n",
       " 0.15533531212952617\n",
       " 0.15517886420964422\n",
       " 0.15504630927933566\n",
       " 0.15493256570609584"
      ]
     },
     "execution_count": 19,
     "metadata": {},
     "output_type": "execute_result"
    }
   ],
   "source": [
    "listaentropia = [fentropia( mn(rankingsuniversidades_10nodos[1:i]) |> fuzzy ) for i in 2:length(rankingsuniversidades_10nodos)]"
   ]
  },
  {
   "cell_type": "code",
   "execution_count": 21,
   "metadata": {},
   "outputs": [],
   "source": [
    "faux = [randperm(10) for _ in 1:20];"
   ]
  },
  {
   "cell_type": "code",
   "execution_count": 22,
   "metadata": {},
   "outputs": [
    {
     "data": {
      "text/plain": [
       "13-element Array{Float64,1}:\n",
       " 0.2928694052451821\n",
       " 0.3340726884041447\n",
       " 0.35433582538960345\n",
       " 0.40092084442749876\n",
       " 0.3776397686984911\n",
       " 0.3986962437590336\n",
       " 0.45101993818991687\n",
       " 0.5201842045947702\n",
       " 0.5450854273843362\n",
       " 0.5413988968603493\n",
       " 0.549865546564554\n",
       " 0.5585797404398872\n",
       " 0.5595871613716745"
      ]
     },
     "execution_count": 22,
     "metadata": {},
     "output_type": "execute_result"
    }
   ],
   "source": [
    "listaentropia_faux = [fentropia( mn(faux[1:i]) |> fuzzy ) for i in 2:length(rankingsuniversidades_10nodos)]"
   ]
  },
  {
   "cell_type": "code",
   "execution_count": 26,
   "metadata": {},
   "outputs": [
    {
     "data": {
      "image/svg+xml": [
       "<?xml version=\"1.0\" encoding=\"utf-8\"?>\n",
       "<svg xmlns=\"http://www.w3.org/2000/svg\" xmlns:xlink=\"http://www.w3.org/1999/xlink\" width=\"600\" height=\"400\" viewBox=\"0 0 2400 1600\">\n",
       "<defs>\n",
       "  <clipPath id=\"clip610\">\n",
       "    <rect x=\"0\" y=\"0\" width=\"2400\" height=\"1600\"/>\n",
       "  </clipPath>\n",
       "</defs>\n",
       "<path clip-path=\"url(#clip610)\" d=\"\n",
       "M0 1600 L2400 1600 L2400 0 L0 0  Z\n",
       "  \" fill=\"#ffffff\" fill-rule=\"evenodd\" fill-opacity=\"1\"/>\n",
       "<defs>\n",
       "  <clipPath id=\"clip611\">\n",
       "    <rect x=\"480\" y=\"0\" width=\"1681\" height=\"1600\"/>\n",
       "  </clipPath>\n",
       "</defs>\n",
       "<path clip-path=\"url(#clip610)\" d=\"\n",
       "M148.334 1486.45 L2352.76 1486.45 L2352.76 47.2441 L148.334 47.2441  Z\n",
       "  \" fill=\"#ffffff\" fill-rule=\"evenodd\" fill-opacity=\"1\"/>\n",
       "<defs>\n",
       "  <clipPath id=\"clip612\">\n",
       "    <rect x=\"148\" y=\"47\" width=\"2205\" height=\"1440\"/>\n",
       "  </clipPath>\n",
       "</defs>\n",
       "<polyline clip-path=\"url(#clip612)\" style=\"stroke:#000000; stroke-width:2; stroke-opacity:0.1; fill:none\" points=\"\n",
       "  470.679,1486.45 470.679,47.2441 \n",
       "  \"/>\n",
       "<polyline clip-path=\"url(#clip612)\" style=\"stroke:#000000; stroke-width:2; stroke-opacity:0.1; fill:none\" points=\"\n",
       "  903.938,1486.45 903.938,47.2441 \n",
       "  \"/>\n",
       "<polyline clip-path=\"url(#clip612)\" style=\"stroke:#000000; stroke-width:2; stroke-opacity:0.1; fill:none\" points=\"\n",
       "  1337.2,1486.45 1337.2,47.2441 \n",
       "  \"/>\n",
       "<polyline clip-path=\"url(#clip612)\" style=\"stroke:#000000; stroke-width:2; stroke-opacity:0.1; fill:none\" points=\"\n",
       "  1770.46,1486.45 1770.46,47.2441 \n",
       "  \"/>\n",
       "<polyline clip-path=\"url(#clip612)\" style=\"stroke:#000000; stroke-width:2; stroke-opacity:0.1; fill:none\" points=\"\n",
       "  2203.71,1486.45 2203.71,47.2441 \n",
       "  \"/>\n",
       "<polyline clip-path=\"url(#clip610)\" style=\"stroke:#000000; stroke-width:4; stroke-opacity:1; fill:none\" points=\"\n",
       "  148.334,1486.45 2352.76,1486.45 \n",
       "  \"/>\n",
       "<polyline clip-path=\"url(#clip610)\" style=\"stroke:#000000; stroke-width:4; stroke-opacity:1; fill:none\" points=\"\n",
       "  470.679,1486.45 470.679,1469.18 \n",
       "  \"/>\n",
       "<polyline clip-path=\"url(#clip610)\" style=\"stroke:#000000; stroke-width:4; stroke-opacity:1; fill:none\" points=\"\n",
       "  903.938,1486.45 903.938,1469.18 \n",
       "  \"/>\n",
       "<polyline clip-path=\"url(#clip610)\" style=\"stroke:#000000; stroke-width:4; stroke-opacity:1; fill:none\" points=\"\n",
       "  1337.2,1486.45 1337.2,1469.18 \n",
       "  \"/>\n",
       "<polyline clip-path=\"url(#clip610)\" style=\"stroke:#000000; stroke-width:4; stroke-opacity:1; fill:none\" points=\"\n",
       "  1770.46,1486.45 1770.46,1469.18 \n",
       "  \"/>\n",
       "<polyline clip-path=\"url(#clip610)\" style=\"stroke:#000000; stroke-width:4; stroke-opacity:1; fill:none\" points=\"\n",
       "  2203.71,1486.45 2203.71,1469.18 \n",
       "  \"/>\n",
       "<path clip-path=\"url(#clip610)\" d=\"M 0 0 M447.346 1543.18 L463.665 1543.18 L463.665 1547.12 L441.721 1547.12 L441.721 1543.18 Q444.383 1540.43 448.966 1535.8 Q453.573 1531.15 454.753 1529.81 Q456.999 1527.28 457.878 1525.55 Q458.781 1523.79 458.781 1522.1 Q458.781 1519.34 456.837 1517.61 Q454.915 1515.87 451.813 1515.87 Q449.614 1515.87 447.161 1516.63 Q444.73 1517.4 441.952 1518.95 L441.952 1514.23 Q444.776 1513.09 447.23 1512.51 Q449.684 1511.93 451.721 1511.93 Q457.091 1511.93 460.286 1514.62 Q463.48 1517.31 463.48 1521.8 Q463.48 1523.93 462.67 1525.85 Q461.883 1527.74 459.776 1530.34 Q459.198 1531.01 456.096 1534.23 Q452.994 1537.42 447.346 1543.18 Z\" fill=\"#000000\" fill-rule=\"evenodd\" fill-opacity=\"1\" /><path clip-path=\"url(#clip610)\" d=\"M 0 0 M468.735 1541.24 L473.619 1541.24 L473.619 1547.12 L468.735 1547.12 L468.735 1541.24 Z\" fill=\"#000000\" fill-rule=\"evenodd\" fill-opacity=\"1\" /><path clip-path=\"url(#clip610)\" d=\"M 0 0 M478.735 1512.56 L497.091 1512.56 L497.091 1516.5 L483.017 1516.5 L483.017 1524.97 Q484.035 1524.62 485.054 1524.46 Q486.072 1524.27 487.091 1524.27 Q492.878 1524.27 496.258 1527.44 Q499.637 1530.62 499.637 1536.03 Q499.637 1541.61 496.165 1544.71 Q492.693 1547.79 486.373 1547.79 Q484.197 1547.79 481.929 1547.42 Q479.684 1547.05 477.276 1546.31 L477.276 1541.61 Q479.36 1542.74 481.582 1543.3 Q483.804 1543.86 486.281 1543.86 Q490.285 1543.86 492.623 1541.75 Q494.961 1539.64 494.961 1536.03 Q494.961 1532.42 492.623 1530.31 Q490.285 1528.21 486.281 1528.21 Q484.406 1528.21 482.531 1528.62 Q480.679 1529.04 478.735 1529.92 L478.735 1512.56 Z\" fill=\"#000000\" fill-rule=\"evenodd\" fill-opacity=\"1\" /><path clip-path=\"url(#clip610)\" d=\"M 0 0 M875.732 1512.56 L894.089 1512.56 L894.089 1516.5 L880.015 1516.5 L880.015 1524.97 Q881.033 1524.62 882.052 1524.46 Q883.07 1524.27 884.089 1524.27 Q889.876 1524.27 893.255 1527.44 Q896.635 1530.62 896.635 1536.03 Q896.635 1541.61 893.163 1544.71 Q889.69 1547.79 883.371 1547.79 Q881.195 1547.79 878.927 1547.42 Q876.681 1547.05 874.274 1546.31 L874.274 1541.61 Q876.357 1542.74 878.579 1543.3 Q880.802 1543.86 883.278 1543.86 Q887.283 1543.86 889.621 1541.75 Q891.959 1539.64 891.959 1536.03 Q891.959 1532.42 889.621 1530.31 Q887.283 1528.21 883.278 1528.21 Q881.403 1528.21 879.528 1528.62 Q877.677 1529.04 875.732 1529.92 L875.732 1512.56 Z\" fill=\"#000000\" fill-rule=\"evenodd\" fill-opacity=\"1\" /><path clip-path=\"url(#clip610)\" d=\"M 0 0 M901.704 1541.24 L906.588 1541.24 L906.588 1547.12 L901.704 1547.12 L901.704 1541.24 Z\" fill=\"#000000\" fill-rule=\"evenodd\" fill-opacity=\"1\" /><path clip-path=\"url(#clip610)\" d=\"M 0 0 M921.658 1515.64 Q918.047 1515.64 916.218 1519.2 Q914.412 1522.75 914.412 1529.87 Q914.412 1536.98 916.218 1540.55 Q918.047 1544.09 921.658 1544.09 Q925.292 1544.09 927.098 1540.55 Q928.926 1536.98 928.926 1529.87 Q928.926 1522.75 927.098 1519.2 Q925.292 1515.64 921.658 1515.64 M921.658 1511.93 Q927.468 1511.93 930.523 1516.54 Q933.602 1521.12 933.602 1529.87 Q933.602 1538.6 930.523 1543.21 Q927.468 1547.79 921.658 1547.79 Q915.848 1547.79 912.769 1543.21 Q909.713 1538.6 909.713 1529.87 Q909.713 1521.12 912.769 1516.54 Q915.848 1511.93 921.658 1511.93 Z\" fill=\"#000000\" fill-rule=\"evenodd\" fill-opacity=\"1\" /><path clip-path=\"url(#clip610)\" d=\"M 0 0 M1308.1 1512.56 L1330.32 1512.56 L1330.32 1514.55 L1317.78 1547.12 L1312.89 1547.12 L1324.7 1516.5 L1308.1 1516.5 L1308.1 1512.56 Z\" fill=\"#000000\" fill-rule=\"evenodd\" fill-opacity=\"1\" /><path clip-path=\"url(#clip610)\" d=\"M 0 0 M1335.39 1541.24 L1340.28 1541.24 L1340.28 1547.12 L1335.39 1547.12 L1335.39 1541.24 Z\" fill=\"#000000\" fill-rule=\"evenodd\" fill-opacity=\"1\" /><path clip-path=\"url(#clip610)\" d=\"M 0 0 M1345.39 1512.56 L1363.75 1512.56 L1363.75 1516.5 L1349.67 1516.5 L1349.67 1524.97 Q1350.69 1524.62 1351.71 1524.46 Q1352.73 1524.27 1353.75 1524.27 Q1359.53 1524.27 1362.91 1527.44 Q1366.29 1530.62 1366.29 1536.03 Q1366.29 1541.61 1362.82 1544.71 Q1359.35 1547.79 1353.03 1547.79 Q1350.85 1547.79 1348.59 1547.42 Q1346.34 1547.05 1343.93 1546.31 L1343.93 1541.61 Q1346.02 1542.74 1348.24 1543.3 Q1350.46 1543.86 1352.94 1543.86 Q1356.94 1543.86 1359.28 1541.75 Q1361.62 1539.64 1361.62 1536.03 Q1361.62 1532.42 1359.28 1530.31 Q1356.94 1528.21 1352.94 1528.21 Q1351.06 1528.21 1349.19 1528.62 Q1347.34 1529.04 1345.39 1529.92 L1345.39 1512.56 Z\" fill=\"#000000\" fill-rule=\"evenodd\" fill-opacity=\"1\" /><path clip-path=\"url(#clip610)\" d=\"M 0 0 M1728.85 1543.18 L1736.49 1543.18 L1736.49 1516.82 L1728.18 1518.49 L1728.18 1514.23 L1736.44 1512.56 L1741.12 1512.56 L1741.12 1543.18 L1748.75 1543.18 L1748.75 1547.12 L1728.85 1547.12 L1728.85 1543.18 Z\" fill=\"#000000\" fill-rule=\"evenodd\" fill-opacity=\"1\" /><path clip-path=\"url(#clip610)\" d=\"M 0 0 M1763.82 1515.64 Q1760.21 1515.64 1758.38 1519.2 Q1756.58 1522.75 1756.58 1529.87 Q1756.58 1536.98 1758.38 1540.55 Q1760.21 1544.09 1763.82 1544.09 Q1767.46 1544.09 1769.26 1540.55 Q1771.09 1536.98 1771.09 1529.87 Q1771.09 1522.75 1769.26 1519.2 Q1767.46 1515.64 1763.82 1515.64 M1763.82 1511.93 Q1769.63 1511.93 1772.69 1516.54 Q1775.77 1521.12 1775.77 1529.87 Q1775.77 1538.6 1772.69 1543.21 Q1769.63 1547.79 1763.82 1547.79 Q1758.01 1547.79 1754.94 1543.21 Q1751.88 1538.6 1751.88 1529.87 Q1751.88 1521.12 1754.94 1516.54 Q1758.01 1511.93 1763.82 1511.93 Z\" fill=\"#000000\" fill-rule=\"evenodd\" fill-opacity=\"1\" /><path clip-path=\"url(#clip610)\" d=\"M 0 0 M1780.84 1541.24 L1785.72 1541.24 L1785.72 1547.12 L1780.84 1547.12 L1780.84 1541.24 Z\" fill=\"#000000\" fill-rule=\"evenodd\" fill-opacity=\"1\" /><path clip-path=\"url(#clip610)\" d=\"M 0 0 M1800.79 1515.64 Q1797.18 1515.64 1795.35 1519.2 Q1793.55 1522.75 1793.55 1529.87 Q1793.55 1536.98 1795.35 1540.55 Q1797.18 1544.09 1800.79 1544.09 Q1804.43 1544.09 1806.23 1540.55 Q1808.06 1536.98 1808.06 1529.87 Q1808.06 1522.75 1806.23 1519.2 Q1804.43 1515.64 1800.79 1515.64 M1800.79 1511.93 Q1806.6 1511.93 1809.66 1516.54 Q1812.74 1521.12 1812.74 1529.87 Q1812.74 1538.6 1809.66 1543.21 Q1806.6 1547.79 1800.79 1547.79 Q1794.98 1547.79 1791.9 1543.21 Q1788.85 1538.6 1788.85 1529.87 Q1788.85 1521.12 1791.9 1516.54 Q1794.98 1511.93 1800.79 1511.93 Z\" fill=\"#000000\" fill-rule=\"evenodd\" fill-opacity=\"1\" /><path clip-path=\"url(#clip610)\" d=\"M 0 0 M2163.4 1543.18 L2171.04 1543.18 L2171.04 1516.82 L2162.73 1518.49 L2162.73 1514.23 L2171 1512.56 L2175.67 1512.56 L2175.67 1543.18 L2183.31 1543.18 L2183.31 1547.12 L2163.4 1547.12 L2163.4 1543.18 Z\" fill=\"#000000\" fill-rule=\"evenodd\" fill-opacity=\"1\" /><path clip-path=\"url(#clip610)\" d=\"M 0 0 M2192.41 1543.18 L2208.73 1543.18 L2208.73 1547.12 L2186.78 1547.12 L2186.78 1543.18 Q2189.44 1540.43 2194.03 1535.8 Q2198.63 1531.15 2199.81 1529.81 Q2202.06 1527.28 2202.94 1525.55 Q2203.84 1523.79 2203.84 1522.1 Q2203.84 1519.34 2201.9 1517.61 Q2199.98 1515.87 2196.87 1515.87 Q2194.68 1515.87 2192.22 1516.63 Q2189.79 1517.4 2187.01 1518.95 L2187.01 1514.23 Q2189.84 1513.09 2192.29 1512.51 Q2194.74 1511.93 2196.78 1511.93 Q2202.15 1511.93 2205.35 1514.62 Q2208.54 1517.31 2208.54 1521.8 Q2208.54 1523.93 2207.73 1525.85 Q2206.94 1527.74 2204.84 1530.34 Q2204.26 1531.01 2201.16 1534.23 Q2198.06 1537.42 2192.41 1543.18 Z\" fill=\"#000000\" fill-rule=\"evenodd\" fill-opacity=\"1\" /><path clip-path=\"url(#clip610)\" d=\"M 0 0 M2213.8 1541.24 L2218.68 1541.24 L2218.68 1547.12 L2213.8 1547.12 L2213.8 1541.24 Z\" fill=\"#000000\" fill-rule=\"evenodd\" fill-opacity=\"1\" /><path clip-path=\"url(#clip610)\" d=\"M 0 0 M2223.8 1512.56 L2242.15 1512.56 L2242.15 1516.5 L2228.08 1516.5 L2228.08 1524.97 Q2229.1 1524.62 2230.12 1524.46 Q2231.13 1524.27 2232.15 1524.27 Q2237.94 1524.27 2241.32 1527.44 Q2244.7 1530.62 2244.7 1536.03 Q2244.7 1541.61 2241.23 1544.71 Q2237.75 1547.79 2231.43 1547.79 Q2229.26 1547.79 2226.99 1547.42 Q2224.74 1547.05 2222.34 1546.31 L2222.34 1541.61 Q2224.42 1542.74 2226.64 1543.3 Q2228.87 1543.86 2231.34 1543.86 Q2235.35 1543.86 2237.68 1541.75 Q2240.02 1539.64 2240.02 1536.03 Q2240.02 1532.42 2237.68 1530.31 Q2235.35 1528.21 2231.34 1528.21 Q2229.47 1528.21 2227.59 1528.62 Q2225.74 1529.04 2223.8 1529.92 L2223.8 1512.56 Z\" fill=\"#000000\" fill-rule=\"evenodd\" fill-opacity=\"1\" /><polyline clip-path=\"url(#clip612)\" style=\"stroke:#000000; stroke-width:2; stroke-opacity:0.1; fill:none\" points=\"\n",
       "  148.334,1294.5 2352.76,1294.5 \n",
       "  \"/>\n",
       "<polyline clip-path=\"url(#clip612)\" style=\"stroke:#000000; stroke-width:2; stroke-opacity:0.1; fill:none\" points=\"\n",
       "  148.334,958.97 2352.76,958.97 \n",
       "  \"/>\n",
       "<polyline clip-path=\"url(#clip612)\" style=\"stroke:#000000; stroke-width:2; stroke-opacity:0.1; fill:none\" points=\"\n",
       "  148.334,623.44 2352.76,623.44 \n",
       "  \"/>\n",
       "<polyline clip-path=\"url(#clip612)\" style=\"stroke:#000000; stroke-width:2; stroke-opacity:0.1; fill:none\" points=\"\n",
       "  148.334,287.909 2352.76,287.909 \n",
       "  \"/>\n",
       "<polyline clip-path=\"url(#clip610)\" style=\"stroke:#000000; stroke-width:4; stroke-opacity:1; fill:none\" points=\"\n",
       "  148.334,1486.45 148.334,47.2441 \n",
       "  \"/>\n",
       "<polyline clip-path=\"url(#clip610)\" style=\"stroke:#000000; stroke-width:4; stroke-opacity:1; fill:none\" points=\"\n",
       "  148.334,1294.5 174.787,1294.5 \n",
       "  \"/>\n",
       "<polyline clip-path=\"url(#clip610)\" style=\"stroke:#000000; stroke-width:4; stroke-opacity:1; fill:none\" points=\"\n",
       "  148.334,958.97 174.787,958.97 \n",
       "  \"/>\n",
       "<polyline clip-path=\"url(#clip610)\" style=\"stroke:#000000; stroke-width:4; stroke-opacity:1; fill:none\" points=\"\n",
       "  148.334,623.44 174.787,623.44 \n",
       "  \"/>\n",
       "<polyline clip-path=\"url(#clip610)\" style=\"stroke:#000000; stroke-width:4; stroke-opacity:1; fill:none\" points=\"\n",
       "  148.334,287.909 174.787,287.909 \n",
       "  \"/>\n",
       "<path clip-path=\"url(#clip610)\" d=\"M 0 0 M65.0198 1280.3 Q61.4087 1280.3 59.58 1283.86 Q57.7745 1287.41 57.7745 1294.54 Q57.7745 1301.64 59.58 1305.21 Q61.4087 1308.75 65.0198 1308.75 Q68.6541 1308.75 70.4596 1305.21 Q72.2883 1301.64 72.2883 1294.54 Q72.2883 1287.41 70.4596 1283.86 Q68.6541 1280.3 65.0198 1280.3 M65.0198 1276.6 Q70.83 1276.6 73.8855 1281.2 Q76.9642 1285.79 76.9642 1294.54 Q76.9642 1303.26 73.8855 1307.87 Q70.83 1312.45 65.0198 1312.45 Q59.2097 1312.45 56.131 1307.87 Q53.0754 1303.26 53.0754 1294.54 Q53.0754 1285.79 56.131 1281.2 Q59.2097 1276.6 65.0198 1276.6 Z\" fill=\"#000000\" fill-rule=\"evenodd\" fill-opacity=\"1\" /><path clip-path=\"url(#clip610)\" d=\"M 0 0 M82.0336 1305.9 L86.9179 1305.9 L86.9179 1311.78 L82.0336 1311.78 L82.0336 1305.9 Z\" fill=\"#000000\" fill-rule=\"evenodd\" fill-opacity=\"1\" /><path clip-path=\"url(#clip610)\" d=\"M 0 0 M96.015 1307.85 L112.334 1307.85 L112.334 1311.78 L90.3901 1311.78 L90.3901 1307.85 Q93.0521 1305.09 97.6354 1300.46 Q102.242 1295.81 103.422 1294.47 Q105.668 1291.94 106.547 1290.21 Q107.45 1288.45 107.45 1286.76 Q107.45 1284 105.506 1282.27 Q103.584 1280.53 100.483 1280.53 Q98.2835 1280.53 95.8298 1281.29 Q93.3993 1282.06 90.6215 1283.61 L90.6215 1278.89 Q93.4456 1277.75 95.8993 1277.17 Q98.353 1276.6 100.39 1276.6 Q105.76 1276.6 108.955 1279.28 Q112.149 1281.97 112.149 1286.46 Q112.149 1288.59 111.339 1290.51 Q110.552 1292.41 108.446 1295 Q107.867 1295.67 104.765 1298.89 Q101.663 1302.08 96.015 1307.85 Z\" fill=\"#000000\" fill-rule=\"evenodd\" fill-opacity=\"1\" /><path clip-path=\"url(#clip610)\" d=\"M 0 0 M64.0708 944.769 Q60.4597 944.769 58.631 948.334 Q56.8254 951.875 56.8254 959.005 Q56.8254 966.111 58.631 969.676 Q60.4597 973.218 64.0708 973.218 Q67.705 973.218 69.5105 969.676 Q71.3392 966.111 71.3392 959.005 Q71.3392 951.875 69.5105 948.334 Q67.705 944.769 64.0708 944.769 M64.0708 941.065 Q69.8809 941.065 72.9365 945.672 Q76.0151 950.255 76.0151 959.005 Q76.0151 967.732 72.9365 972.338 Q69.8809 976.922 64.0708 976.922 Q58.2606 976.922 55.1819 972.338 Q52.1264 967.732 52.1264 959.005 Q52.1264 950.255 55.1819 945.672 Q58.2606 941.065 64.0708 941.065 Z\" fill=\"#000000\" fill-rule=\"evenodd\" fill-opacity=\"1\" /><path clip-path=\"url(#clip610)\" d=\"M 0 0 M81.0846 970.371 L85.9688 970.371 L85.9688 976.25 L81.0846 976.25 L81.0846 970.371 Z\" fill=\"#000000\" fill-rule=\"evenodd\" fill-opacity=\"1\" /><path clip-path=\"url(#clip610)\" d=\"M 0 0 M105.205 957.616 Q108.561 958.334 110.436 960.602 Q112.334 962.871 112.334 966.204 Q112.334 971.32 108.816 974.121 Q105.297 976.922 98.8159 976.922 Q96.64 976.922 94.3252 976.482 Q92.0336 976.065 89.5799 975.209 L89.5799 970.695 Q91.5243 971.829 93.8391 972.408 Q96.1539 972.986 98.6771 972.986 Q103.075 972.986 105.367 971.25 Q107.682 969.514 107.682 966.204 Q107.682 963.148 105.529 961.436 Q103.399 959.699 99.5798 959.699 L95.5521 959.699 L95.5521 955.857 L99.765 955.857 Q103.214 955.857 105.043 954.491 Q106.871 953.102 106.871 950.51 Q106.871 947.848 104.973 946.436 Q103.098 945 99.5798 945 Q97.6585 945 95.4595 945.417 Q93.2604 945.834 90.6215 946.713 L90.6215 942.547 Q93.2836 941.806 95.5984 941.436 Q97.9363 941.065 99.9965 941.065 Q105.321 941.065 108.422 943.496 Q111.524 945.903 111.524 950.024 Q111.524 952.894 109.881 954.885 Q108.237 956.852 105.205 957.616 Z\" fill=\"#000000\" fill-rule=\"evenodd\" fill-opacity=\"1\" /><path clip-path=\"url(#clip610)\" d=\"M 0 0 M62.9365 609.238 Q59.3254 609.238 57.4967 612.803 Q55.6912 616.345 55.6912 623.475 Q55.6912 630.581 57.4967 634.146 Q59.3254 637.687 62.9365 637.687 Q66.5707 637.687 68.3763 634.146 Q70.205 630.581 70.205 623.475 Q70.205 616.345 68.3763 612.803 Q66.5707 609.238 62.9365 609.238 M62.9365 605.535 Q68.7467 605.535 71.8022 610.141 Q74.8809 614.725 74.8809 623.475 Q74.8809 632.201 71.8022 636.808 Q68.7467 641.391 62.9365 641.391 Q57.1264 641.391 54.0477 636.808 Q50.9921 632.201 50.9921 623.475 Q50.9921 614.725 54.0477 610.141 Q57.1264 605.535 62.9365 605.535 Z\" fill=\"#000000\" fill-rule=\"evenodd\" fill-opacity=\"1\" /><path clip-path=\"url(#clip610)\" d=\"M 0 0 M79.9503 634.84 L84.8345 634.84 L84.8345 640.72 L79.9503 640.72 L79.9503 634.84 Z\" fill=\"#000000\" fill-rule=\"evenodd\" fill-opacity=\"1\" /><path clip-path=\"url(#clip610)\" d=\"M 0 0 M102.751 610.234 L90.9456 628.683 L102.751 628.683 L102.751 610.234 M101.524 606.16 L107.404 606.16 L107.404 628.683 L112.334 628.683 L112.334 632.572 L107.404 632.572 L107.404 640.72 L102.751 640.72 L102.751 632.572 L87.1493 632.572 L87.1493 628.058 L101.524 606.16 Z\" fill=\"#000000\" fill-rule=\"evenodd\" fill-opacity=\"1\" /><path clip-path=\"url(#clip610)\" d=\"M 0 0 M64.418 273.708 Q60.8069 273.708 58.9782 277.273 Q57.1726 280.814 57.1726 287.944 Q57.1726 295.051 58.9782 298.615 Q60.8069 302.157 64.418 302.157 Q68.0522 302.157 69.8578 298.615 Q71.6865 295.051 71.6865 287.944 Q71.6865 280.814 69.8578 277.273 Q68.0522 273.708 64.418 273.708 M64.418 270.004 Q70.2281 270.004 73.2837 274.611 Q76.3624 279.194 76.3624 287.944 Q76.3624 296.671 73.2837 301.277 Q70.2281 305.861 64.418 305.861 Q58.6078 305.861 55.5291 301.277 Q52.4736 296.671 52.4736 287.944 Q52.4736 279.194 55.5291 274.611 Q58.6078 270.004 64.418 270.004 Z\" fill=\"#000000\" fill-rule=\"evenodd\" fill-opacity=\"1\" /><path clip-path=\"url(#clip610)\" d=\"M 0 0 M81.4318 299.31 L86.316 299.31 L86.316 305.189 L81.4318 305.189 L81.4318 299.31 Z\" fill=\"#000000\" fill-rule=\"evenodd\" fill-opacity=\"1\" /><path clip-path=\"url(#clip610)\" d=\"M 0 0 M91.4317 270.629 L109.788 270.629 L109.788 274.565 L95.7141 274.565 L95.7141 283.037 Q96.7326 282.689 97.7511 282.527 Q98.7696 282.342 99.7882 282.342 Q105.575 282.342 108.955 285.514 Q112.334 288.685 112.334 294.101 Q112.334 299.68 108.862 302.782 Q105.39 305.861 99.0706 305.861 Q96.8947 305.861 94.6262 305.49 Q92.3808 305.12 89.9734 304.379 L89.9734 299.68 Q92.0567 300.814 94.2789 301.37 Q96.5011 301.925 98.978 301.925 Q102.983 301.925 105.321 299.819 Q107.658 297.713 107.658 294.101 Q107.658 290.49 105.321 288.384 Q102.983 286.277 98.978 286.277 Q97.103 286.277 95.228 286.694 Q93.3762 287.111 91.4317 287.99 L91.4317 270.629 Z\" fill=\"#000000\" fill-rule=\"evenodd\" fill-opacity=\"1\" /><circle clip-path=\"url(#clip612)\" cx=\"210.724\" cy=\"1432.86\" r=\"14\" fill=\"#009af9\" fill-rule=\"evenodd\" fill-opacity=\"1\" stroke=\"#000000\" stroke-opacity=\"1\" stroke-width=\"3.2\"/>\n",
       "<circle clip-path=\"url(#clip612)\" cx=\"384.027\" cy=\"1436.68\" r=\"14\" fill=\"#009af9\" fill-rule=\"evenodd\" fill-opacity=\"1\" stroke=\"#000000\" stroke-opacity=\"1\" stroke-width=\"3.2\"/>\n",
       "<circle clip-path=\"url(#clip612)\" cx=\"557.331\" cy=\"1437.5\" r=\"14\" fill=\"#009af9\" fill-rule=\"evenodd\" fill-opacity=\"1\" stroke=\"#000000\" stroke-opacity=\"1\" stroke-width=\"3.2\"/>\n",
       "<circle clip-path=\"url(#clip612)\" cx=\"730.634\" cy=\"1440.32\" r=\"14\" fill=\"#009af9\" fill-rule=\"evenodd\" fill-opacity=\"1\" stroke=\"#000000\" stroke-opacity=\"1\" stroke-width=\"3.2\"/>\n",
       "<circle clip-path=\"url(#clip612)\" cx=\"903.938\" cy=\"1442.15\" r=\"14\" fill=\"#009af9\" fill-rule=\"evenodd\" fill-opacity=\"1\" stroke=\"#000000\" stroke-opacity=\"1\" stroke-width=\"3.2\"/>\n",
       "<circle clip-path=\"url(#clip612)\" cx=\"1077.24\" cy=\"1440.79\" r=\"14\" fill=\"#009af9\" fill-rule=\"evenodd\" fill-opacity=\"1\" stroke=\"#000000\" stroke-opacity=\"1\" stroke-width=\"3.2\"/>\n",
       "<circle clip-path=\"url(#clip612)\" cx=\"1250.55\" cy=\"1442.01\" r=\"14\" fill=\"#009af9\" fill-rule=\"evenodd\" fill-opacity=\"1\" stroke=\"#000000\" stroke-opacity=\"1\" stroke-width=\"3.2\"/>\n",
       "<circle clip-path=\"url(#clip612)\" cx=\"1423.85\" cy=\"1442.97\" r=\"14\" fill=\"#009af9\" fill-rule=\"evenodd\" fill-opacity=\"1\" stroke=\"#000000\" stroke-opacity=\"1\" stroke-width=\"3.2\"/>\n",
       "<circle clip-path=\"url(#clip612)\" cx=\"1597.15\" cy=\"1443.74\" r=\"14\" fill=\"#009af9\" fill-rule=\"evenodd\" fill-opacity=\"1\" stroke=\"#000000\" stroke-opacity=\"1\" stroke-width=\"3.2\"/>\n",
       "<circle clip-path=\"url(#clip612)\" cx=\"1770.46\" cy=\"1444.36\" r=\"14\" fill=\"#009af9\" fill-rule=\"evenodd\" fill-opacity=\"1\" stroke=\"#000000\" stroke-opacity=\"1\" stroke-width=\"3.2\"/>\n",
       "<circle clip-path=\"url(#clip612)\" cx=\"1943.76\" cy=\"1444.89\" r=\"14\" fill=\"#009af9\" fill-rule=\"evenodd\" fill-opacity=\"1\" stroke=\"#000000\" stroke-opacity=\"1\" stroke-width=\"3.2\"/>\n",
       "<circle clip-path=\"url(#clip612)\" cx=\"2117.06\" cy=\"1445.33\" r=\"14\" fill=\"#009af9\" fill-rule=\"evenodd\" fill-opacity=\"1\" stroke=\"#000000\" stroke-opacity=\"1\" stroke-width=\"3.2\"/>\n",
       "<circle clip-path=\"url(#clip612)\" cx=\"2290.37\" cy=\"1445.72\" r=\"14\" fill=\"#009af9\" fill-rule=\"evenodd\" fill-opacity=\"1\" stroke=\"#000000\" stroke-opacity=\"1\" stroke-width=\"3.2\"/>\n",
       "<circle clip-path=\"url(#clip612)\" cx=\"210.724\" cy=\"982.896\" r=\"14\" fill=\"#e26f46\" fill-rule=\"evenodd\" fill-opacity=\"1\" stroke=\"#000000\" stroke-opacity=\"1\" stroke-width=\"3.2\"/>\n",
       "<circle clip-path=\"url(#clip612)\" cx=\"384.027\" cy=\"844.646\" r=\"14\" fill=\"#e26f46\" fill-rule=\"evenodd\" fill-opacity=\"1\" stroke=\"#000000\" stroke-opacity=\"1\" stroke-width=\"3.2\"/>\n",
       "<circle clip-path=\"url(#clip612)\" cx=\"557.331\" cy=\"776.657\" r=\"14\" fill=\"#e26f46\" fill-rule=\"evenodd\" fill-opacity=\"1\" stroke=\"#000000\" stroke-opacity=\"1\" stroke-width=\"3.2\"/>\n",
       "<circle clip-path=\"url(#clip612)\" cx=\"730.634\" cy=\"620.35\" r=\"14\" fill=\"#e26f46\" fill-rule=\"evenodd\" fill-opacity=\"1\" stroke=\"#000000\" stroke-opacity=\"1\" stroke-width=\"3.2\"/>\n",
       "<circle clip-path=\"url(#clip612)\" cx=\"903.938\" cy=\"698.465\" r=\"14\" fill=\"#e26f46\" fill-rule=\"evenodd\" fill-opacity=\"1\" stroke=\"#000000\" stroke-opacity=\"1\" stroke-width=\"3.2\"/>\n",
       "<circle clip-path=\"url(#clip612)\" cx=\"1077.24\" cy=\"627.814\" r=\"14\" fill=\"#e26f46\" fill-rule=\"evenodd\" fill-opacity=\"1\" stroke=\"#000000\" stroke-opacity=\"1\" stroke-width=\"3.2\"/>\n",
       "<circle clip-path=\"url(#clip612)\" cx=\"1250.55\" cy=\"452.252\" r=\"14\" fill=\"#e26f46\" fill-rule=\"evenodd\" fill-opacity=\"1\" stroke=\"#000000\" stroke-opacity=\"1\" stroke-width=\"3.2\"/>\n",
       "<circle clip-path=\"url(#clip612)\" cx=\"1423.85\" cy=\"220.185\" r=\"14\" fill=\"#e26f46\" fill-rule=\"evenodd\" fill-opacity=\"1\" stroke=\"#000000\" stroke-opacity=\"1\" stroke-width=\"3.2\"/>\n",
       "<circle clip-path=\"url(#clip612)\" cx=\"1597.15\" cy=\"136.634\" r=\"14\" fill=\"#e26f46\" fill-rule=\"evenodd\" fill-opacity=\"1\" stroke=\"#000000\" stroke-opacity=\"1\" stroke-width=\"3.2\"/>\n",
       "<circle clip-path=\"url(#clip612)\" cx=\"1770.46\" cy=\"149.003\" r=\"14\" fill=\"#e26f46\" fill-rule=\"evenodd\" fill-opacity=\"1\" stroke=\"#000000\" stroke-opacity=\"1\" stroke-width=\"3.2\"/>\n",
       "<circle clip-path=\"url(#clip612)\" cx=\"1943.76\" cy=\"120.595\" r=\"14\" fill=\"#e26f46\" fill-rule=\"evenodd\" fill-opacity=\"1\" stroke=\"#000000\" stroke-opacity=\"1\" stroke-width=\"3.2\"/>\n",
       "<circle clip-path=\"url(#clip612)\" cx=\"2117.06\" cy=\"91.3565\" r=\"14\" fill=\"#e26f46\" fill-rule=\"evenodd\" fill-opacity=\"1\" stroke=\"#000000\" stroke-opacity=\"1\" stroke-width=\"3.2\"/>\n",
       "<circle clip-path=\"url(#clip612)\" cx=\"2290.37\" cy=\"87.9763\" r=\"14\" fill=\"#e26f46\" fill-rule=\"evenodd\" fill-opacity=\"1\" stroke=\"#000000\" stroke-opacity=\"1\" stroke-width=\"3.2\"/>\n",
       "<path clip-path=\"url(#clip610)\" d=\"\n",
       "M1940.84 276.658 L2279.28 276.658 L2279.28 95.2176 L1940.84 95.2176  Z\n",
       "  \" fill=\"#ffffff\" fill-rule=\"evenodd\" fill-opacity=\"1\"/>\n",
       "<polyline clip-path=\"url(#clip610)\" style=\"stroke:#000000; stroke-width:4; stroke-opacity:1; fill:none\" points=\"\n",
       "  1940.84,276.658 2279.28,276.658 2279.28,95.2176 1940.84,95.2176 1940.84,276.658 \n",
       "  \"/>\n",
       "<circle clip-path=\"url(#clip610)\" cx=\"2038.82\" cy=\"155.698\" r=\"23\" fill=\"#009af9\" fill-rule=\"evenodd\" fill-opacity=\"1\" stroke=\"#000000\" stroke-opacity=\"1\" stroke-width=\"5.12\"/>\n",
       "<path clip-path=\"url(#clip610)\" d=\"M 0 0 M2136.79 162.746 L2136.79 147.052 L2141.05 147.052 L2141.05 162.584 Q2141.05 166.265 2142.49 168.116 Q2143.92 169.945 2146.79 169.945 Q2150.24 169.945 2152.23 167.746 Q2154.25 165.547 2154.25 161.751 L2154.25 147.052 L2158.51 147.052 L2158.51 172.978 L2154.25 172.978 L2154.25 168.996 Q2152.7 171.357 2150.64 172.515 Q2148.6 173.649 2145.89 173.649 Q2141.42 173.649 2139.11 170.871 Q2136.79 168.093 2136.79 162.746 M2147.51 146.427 L2147.51 146.427 Z\" fill=\"#000000\" fill-rule=\"evenodd\" fill-opacity=\"1\" /><path clip-path=\"url(#clip610)\" d=\"M 0 0 M2184.52 157.329 L2184.52 172.978 L2180.27 172.978 L2180.27 157.468 Q2180.27 153.788 2178.83 151.959 Q2177.39 150.13 2174.52 150.13 Q2171.08 150.13 2169.08 152.33 Q2167.09 154.529 2167.09 158.325 L2167.09 172.978 L2162.81 172.978 L2162.81 147.052 L2167.09 147.052 L2167.09 151.08 Q2168.62 148.742 2170.68 147.584 Q2172.77 146.427 2175.47 146.427 Q2179.94 146.427 2182.23 149.205 Q2184.52 151.959 2184.52 157.329 Z\" fill=\"#000000\" fill-rule=\"evenodd\" fill-opacity=\"1\" /><path clip-path=\"url(#clip610)\" d=\"M 0 0 M2188.99 147.052 L2193.25 147.052 L2193.25 172.978 L2188.99 172.978 L2188.99 147.052 M2188.99 136.959 L2193.25 136.959 L2193.25 142.353 L2188.99 142.353 L2188.99 136.959 Z\" fill=\"#000000\" fill-rule=\"evenodd\" fill-opacity=\"1\" /><circle clip-path=\"url(#clip610)\" cx=\"2038.82\" cy=\"216.178\" r=\"23\" fill=\"#e26f46\" fill-rule=\"evenodd\" fill-opacity=\"1\" stroke=\"#000000\" stroke-opacity=\"1\" stroke-width=\"5.12\"/>\n",
       "<path clip-path=\"url(#clip610)\" d=\"M 0 0 M2153.3 197.439 L2153.3 200.981 L2149.22 200.981 Q2146.93 200.981 2146.03 201.907 Q2145.15 202.833 2145.15 205.24 L2145.15 207.532 L2152.16 207.532 L2152.16 210.842 L2145.15 210.842 L2145.15 233.458 L2140.87 233.458 L2140.87 210.842 L2136.79 210.842 L2136.79 207.532 L2140.87 207.532 L2140.87 205.726 Q2140.87 201.398 2142.88 199.43 Q2144.89 197.439 2149.27 197.439 L2153.3 197.439 Z\" fill=\"#000000\" fill-rule=\"evenodd\" fill-opacity=\"1\" /><path clip-path=\"url(#clip610)\" d=\"M 0 0 M2169.55 220.425 Q2164.39 220.425 2162.39 221.606 Q2160.4 222.786 2160.4 225.634 Q2160.4 227.902 2161.89 229.245 Q2163.39 230.564 2165.96 230.564 Q2169.5 230.564 2171.63 228.064 Q2173.78 225.541 2173.78 221.374 L2173.78 220.425 L2169.55 220.425 M2178.04 218.666 L2178.04 233.458 L2173.78 233.458 L2173.78 229.522 Q2172.33 231.883 2170.15 233.018 Q2167.97 234.129 2164.83 234.129 Q2160.84 234.129 2158.48 231.907 Q2156.14 229.661 2156.14 225.911 Q2156.14 221.536 2159.06 219.314 Q2162 217.092 2167.81 217.092 L2173.78 217.092 L2173.78 216.675 Q2173.78 213.735 2171.84 212.138 Q2169.92 210.518 2166.42 210.518 Q2164.2 210.518 2162.09 211.05 Q2159.99 211.583 2158.04 212.647 L2158.04 208.712 Q2160.38 207.81 2162.58 207.37 Q2164.78 206.907 2166.86 206.907 Q2172.49 206.907 2175.27 209.823 Q2178.04 212.74 2178.04 218.666 Z\" fill=\"#000000\" fill-rule=\"evenodd\" fill-opacity=\"1\" /><path clip-path=\"url(#clip610)\" d=\"M 0 0 M2182.07 223.226 L2182.07 207.532 L2186.33 207.532 L2186.33 223.064 Q2186.33 226.745 2187.77 228.596 Q2189.2 230.425 2192.07 230.425 Q2195.52 230.425 2197.51 228.226 Q2199.52 226.027 2199.52 222.231 L2199.52 207.532 L2203.78 207.532 L2203.78 233.458 L2199.52 233.458 L2199.52 229.476 Q2197.97 231.837 2195.91 232.995 Q2193.88 234.129 2191.17 234.129 Q2186.7 234.129 2184.39 231.351 Q2182.07 228.573 2182.07 223.226 M2192.79 206.907 L2192.79 206.907 Z\" fill=\"#000000\" fill-rule=\"evenodd\" fill-opacity=\"1\" /><path clip-path=\"url(#clip610)\" d=\"M 0 0 M2229.8 207.532 L2220.43 220.147 L2230.29 233.458 L2225.26 233.458 L2217.72 223.272 L2210.17 233.458 L2205.15 233.458 L2215.22 219.893 L2206.01 207.532 L2211.03 207.532 L2217.9 216.768 L2224.78 207.532 L2229.8 207.532 Z\" fill=\"#000000\" fill-rule=\"evenodd\" fill-opacity=\"1\" /></svg>\n"
      ]
     },
     "execution_count": 26,
     "metadata": {},
     "output_type": "execute_result"
    }
   ],
   "source": [
    "scatter([listaentropia listaentropia_faux], labels = [\"uni\" \"faux\"])"
   ]
  },
  {
   "cell_type": "markdown",
   "metadata": {},
   "source": [
    "# Ejemplo sintetico"
   ]
  },
  {
   "cell_type": "code",
   "execution_count": 34,
   "metadata": {},
   "outputs": [
    {
     "data": {
      "text/plain": [
       "3-element Array{Array{Int64,1},1}:\n",
       " [1, 2, 3]\n",
       " [1, 2, 3]\n",
       " [1, 2, 3]"
      ]
     },
     "execution_count": 34,
     "metadata": {},
     "output_type": "execute_result"
    }
   ],
   "source": [
    "rio = [\n",
    "#=    [1,2,3,4,5],\n",
    "    [1,2,3,4,5],\n",
    "    [1,2,3,4,5],\n",
    "    [1,2,3,4,5],\n",
    "    [1,2,3,4,5],\n",
    "    [1,2,3,4,5],\n",
    "    [1,2,3,4,5],\n",
    "    [1,2,3,4,5],\n",
    "    [1,2,3,4,5], =#\n",
    "    [1,2,3],\n",
    "    [1,2,3],\n",
    "    [1,2,3]\n",
    "]"
   ]
  },
  {
   "cell_type": "code",
   "execution_count": 35,
   "metadata": {},
   "outputs": [
    {
     "data": {
      "text/plain": [
       "3×3 Array{Float64,2}:\n",
       " 1.0       1.0       1.0\n",
       " 0.5       1.0       1.0\n",
       " 0.333333  0.666667  1.0"
      ]
     },
     "execution_count": 35,
     "metadata": {},
     "output_type": "execute_result"
    }
   ],
   "source": [
    "poset_mn = mn(rio) |> fuzzy"
   ]
  },
  {
   "cell_type": "code",
   "execution_count": 36,
   "metadata": {},
   "outputs": [
    {
     "data": {
      "text/plain": [
       "0.14893617021276592"
      ]
     },
     "execution_count": 36,
     "metadata": {},
     "output_type": "execute_result"
    }
   ],
   "source": [
    "fentropia(poset_mn)"
   ]
  },
  {
   "cell_type": "code",
   "execution_count": 28,
   "metadata": {},
   "outputs": [
    {
     "data": {
      "text/plain": [
       "6-element Array{Array{Int64,1},1}:\n",
       " [1, 2, 3]\n",
       " [1, 3, 2]\n",
       " [2, 1, 3]\n",
       " [2, 3, 1]\n",
       " [3, 1, 2]\n",
       " [3, 2, 1]"
      ]
     },
     "execution_count": 28,
     "metadata": {},
     "output_type": "execute_result"
    }
   ],
   "source": [
    "rio = [\n",
    "    [1,2,3],\n",
    "    [1,3,2],\n",
    "    [2,1,3],\n",
    "    [2,3,1],\n",
    "    [3,1,2],\n",
    "    [3,2,1]\n",
    "]"
   ]
  },
  {
   "cell_type": "code",
   "execution_count": 29,
   "metadata": {},
   "outputs": [
    {
     "data": {
      "text/plain": [
       "3×3 Array{Float64,2}:\n",
       " 1.0       0.636364  0.636364\n",
       " 0.636364  1.0       0.636364\n",
       " 0.636364  0.636364  1.0"
      ]
     },
     "execution_count": 29,
     "metadata": {},
     "output_type": "execute_result"
    }
   ],
   "source": [
    "poset_mn = mn(rio) |> fuzzy"
   ]
  },
  {
   "cell_type": "code",
   "execution_count": 30,
   "metadata": {},
   "outputs": [
    {
     "data": {
      "text/plain": [
       "0.3200000000000001"
      ]
     },
     "execution_count": 30,
     "metadata": {},
     "output_type": "execute_result"
    }
   ],
   "source": [
    "fentropia(poset_mn)"
   ]
  },
  {
   "cell_type": "markdown",
   "metadata": {},
   "source": [
    "#  fuzzy Bayes' theorem"
   ]
  },
  {
   "cell_type": "markdown",
   "metadata": {},
   "source": [
    "$$\n",
    "S\\left(E, H_{i}\\right)=\\frac{S\\left(H_{i}, E\\right) \\Sigma \\operatorname{Count}\\left(H_{i}\\right)}{\\frac{1}{n} \\sum_{j=1}^{n}\\left(\\Sigma \\operatorname{Count}\\left(E \\cap H_{j}\\right)+\\Sigma \\operatorname{Count}\\left(E \\cup H_{j}\\right)-\\Sigma \\operatorname{Count}\\left(H_{j}\\right)\\right)}\n",
    "$$"
   ]
  }
 ],
 "metadata": {
  "kernelspec": {
   "display_name": "Julia 1.5.2",
   "language": "julia",
   "name": "julia-1.5"
  },
  "language_info": {
   "file_extension": ".jl",
   "mimetype": "application/julia",
   "name": "julia",
   "version": "1.5.2"
  }
 },
 "nbformat": 4,
 "nbformat_minor": 4
}
